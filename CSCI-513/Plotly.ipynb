{
 "cells": [
  {
   "cell_type": "markdown",
   "id": "559847af-c1b5-4660-8b8c-e5f956c8e114",
   "metadata": {
    "tags": []
   },
   "source": [
    "# Plotly\n",
    "Why not use Matplotlib all the time?\n",
    "- Newer library\n",
    "- Interactive graphs\n",
    "- Create and control sophisticated graphs easily"
   ]
  },
  {
   "cell_type": "markdown",
   "id": "c957bf92-25bb-4649-b705-f0c2c917b24e",
   "metadata": {},
   "source": [
    "## How to Install\n",
    "Already installed with Anaconda, can get recent update using upgrade option\n",
    "\n",
    "!pip install --upgrade plotly"
   ]
  },
  {
   "cell_type": "markdown",
   "id": "0b5938b3-de11-4a82-8f3b-d1321d247b36",
   "metadata": {
    "tags": []
   },
   "source": [
    "## Two main modules\n",
    "1) Express (High-level, newer)\n",
    "2) Go (Low-level, older)"
   ]
  },
  {
   "cell_type": "markdown",
   "id": "d4c74b94-95d9-41b0-bdcf-56881adbcd2f",
   "metadata": {},
   "source": [
    "## Plot Types supported by express\n",
    "- Line\n",
    "- Histogram\n",
    "- Bar\n",
    "- Pie\n",
    "- Box Plot\n",
    "- Violin Plot\n",
    "\n",
    "[All figures](https://plotly.com/python-api-reference/plotly.express.html)"
   ]
  },
  {
   "cell_type": "raw",
   "id": "ce578ff4-49ce-4633-abe1-e16e19cc57d3",
   "metadata": {},
   "source": [
    "## General Formula\n",
    "import plotly.express as px\n",
    "\n",
    "fig = px.plot_type(\n",
    "    dataframe,\n",
    "    x='column for x-axis',\n",
    "    y='column for y-axis',\n",
    "    title='Plot Title',\n",
    "    xaxis_title=\"Title for x-axis\",\n",
    "    yaxis_title=\"Title for y-axis\",\n",
    "    width=width (pixels),\n",
    "    height=height (pixels)\n",
    ")\n",
    "\n",
    "fig.show()"
   ]
  },
  {
   "cell_type": "code",
   "execution_count": null,
   "id": "94200fc1-1337-442a-93f2-37586662dd67",
   "metadata": {
    "tags": []
   },
   "outputs": [],
   "source": [
    "import pandas as pd\n",
    "# --------  DataFrame from csv file ----------------\n",
    "titanic = pd.read_csv('titanic.csv')"
   ]
  },
  {
   "cell_type": "code",
   "execution_count": null,
   "id": "a5df46d6-b43c-4bde-88fd-e6a2bcf863d3",
   "metadata": {
    "tags": []
   },
   "outputs": [],
   "source": [
    "titanic.head(3)"
   ]
  },
  {
   "cell_type": "code",
   "execution_count": null,
   "id": "86da4682-9ae4-4eb7-8632-9c98e4b2df0e",
   "metadata": {
    "tags": []
   },
   "outputs": [],
   "source": [
    "columnNames = ['home','destination']\n",
    "titanic[['home', 'destination']] = titanic[\"home.dest\"].str.split('/', n=1, expand=True)\n",
    "del titanic[\"home.dest\"]"
   ]
  },
  {
   "cell_type": "code",
   "execution_count": null,
   "id": "5bc76ade-2057-4195-a980-b1570084a1e1",
   "metadata": {
    "tags": []
   },
   "outputs": [],
   "source": [
    "import plotly.express as px"
   ]
  },
  {
   "cell_type": "code",
   "execution_count": null,
   "id": "23325cac-f519-4035-ac53-ca1e10acec65",
   "metadata": {
    "tags": []
   },
   "outputs": [],
   "source": [
    "fig = px.histogram(titanic, x='age', title='Passenger Age Count')\n",
    "fig.show()"
   ]
  },
  {
   "cell_type": "code",
   "execution_count": null,
   "id": "0f156312-c98f-45b3-883c-de4428910655",
   "metadata": {
    "tags": []
   },
   "outputs": [],
   "source": [
    "fig = px.histogram(titanic, x='age', title='Passenger Age Count', range_x=[5,10])\n",
    "fig.show()"
   ]
  },
  {
   "cell_type": "code",
   "execution_count": null,
   "id": "92b7f9b6-d099-4838-9d63-b970b3381a26",
   "metadata": {
    "tags": []
   },
   "outputs": [],
   "source": [
    "fig = px.histogram(titanic, x='age', title='Passenger Age Count')\n",
    "fig.update_xaxes(categoryorder=\"category ascending\")\n",
    "fig.show()"
   ]
  },
  {
   "cell_type": "code",
   "execution_count": null,
   "id": "3f7092e7-ddea-4be9-9bd5-b4c6c6b0bd0a",
   "metadata": {
    "tags": []
   },
   "outputs": [],
   "source": [
    "fig = px.histogram(titanic, x='age', title='Passenger Age Count').update_xaxes(categoryorder=\"total descending\")\n",
    "fig.show()"
   ]
  },
  {
   "cell_type": "code",
   "execution_count": null,
   "id": "4315f882-9324-41b1-a3ac-de1c77ba2e80",
   "metadata": {
    "tags": []
   },
   "outputs": [],
   "source": [
    "fig = px.histogram(titanic, x='age', title='Passenger Age Count', color = 'sex')\n",
    "fig.show()"
   ]
  },
  {
   "cell_type": "code",
   "execution_count": null,
   "id": "6cd4a15e-e4f5-4f26-833d-30a3d999cc96",
   "metadata": {
    "tags": []
   },
   "outputs": [],
   "source": [
    "prices = titanic.groupby('pclass')['fare'].mean().reset_index()\n",
    "prices"
   ]
  },
  {
   "cell_type": "code",
   "execution_count": null,
   "id": "ae28dcaf-e062-4b2c-9658-9a125aad66df",
   "metadata": {
    "tags": []
   },
   "outputs": [],
   "source": [
    "fig = px.bar(prices, x='pclass', y='fare', title='Ticket Prices')\n",
    "fig.show()"
   ]
  },
  {
   "cell_type": "code",
   "execution_count": null,
   "id": "397f1ee9-d2d0-4a9b-9fda-c96e6e0837ad",
   "metadata": {
    "tags": []
   },
   "outputs": [],
   "source": [
    "fig = px.box(titanic, x=\"pclass\", y=\"fare\")\n",
    "fig.show()"
   ]
  },
  {
   "cell_type": "code",
   "execution_count": null,
   "id": "f8856cd3-3131-47f6-83a5-a2496b7c485c",
   "metadata": {
    "tags": []
   },
   "outputs": [],
   "source": [
    "# Displays the density of a feature\n",
    "fig = px.violin(titanic, x=\"pclass\", y=\"fare\", box=True)\n",
    "fig.show()"
   ]
  },
  {
   "cell_type": "code",
   "execution_count": null,
   "id": "2b9af327-c09f-4bf0-a621-867bfd71eca7",
   "metadata": {
    "tags": []
   },
   "outputs": [],
   "source": [
    "survival = titanic.groupby('sex')['survived'].value_counts().reset_index()\n",
    "survival"
   ]
  },
  {
   "cell_type": "code",
   "execution_count": null,
   "id": "b6868a08-6db6-4532-bc75-fec87a9ffc57",
   "metadata": {
    "tags": []
   },
   "outputs": [],
   "source": [
    "fig = px.bar(survival, x='sex', y='count', title='Survival Count',  color= 'survived')\n",
    "fig.show()"
   ]
  },
  {
   "cell_type": "code",
   "execution_count": null,
   "id": "9ef60d6e-296e-4d10-9da4-74b536e80c7e",
   "metadata": {
    "tags": []
   },
   "outputs": [],
   "source": [
    "# First we need to install:\n",
    "# !pip install geopy\n",
    "\n",
    "from geopy.geocoders import Nominatim\n",
    "geolocator = Nominatim(user_agent='MyApp')"
   ]
  },
  {
   "cell_type": "code",
   "execution_count": null,
   "id": "611b8281-714c-4bd7-884a-6ffc0c7745c1",
   "metadata": {
    "tags": []
   },
   "outputs": [],
   "source": [
    "location = geolocator.geocode('Commerce, TX')\n",
    "location"
   ]
  },
  {
   "cell_type": "code",
   "execution_count": null,
   "id": "0e5b16b3-6e5d-4281-a567-b9fee99a0c6f",
   "metadata": {
    "tags": []
   },
   "outputs": [],
   "source": [
    "titanic2 = pd.read_csv('titanic2.csv')\n",
    "fig = px.scatter_geo(titanic2, lat='latHome', lon='longHome',locationmode = 'country names', color='survived',projection='natural earth', hover_name = 'home')\n",
    "fig.show()"
   ]
  },
  {
   "cell_type": "code",
   "execution_count": null,
   "id": "3be7bc11-2eb6-43d1-bd40-01906f013c4c",
   "metadata": {
    "tags": []
   },
   "outputs": [],
   "source": [
    "fig = px.scatter_geo(titanic2, lat='latHome', lon='longHome', locationmode = 'USA-states', color='survived',projection='albers usa', hover_name = 'home')\n",
    "fig.show()"
   ]
  },
  {
   "cell_type": "code",
   "execution_count": null,
   "id": "377ee46b-91c7-4a0d-ace6-fe35b7e031da",
   "metadata": {},
   "outputs": [],
   "source": [
    "import plotly.io as pio\n",
    "pio.write_html(fig, file='titanicGeo.html', auto_open=True)"
   ]
  },
  {
   "cell_type": "code",
   "execution_count": null,
   "id": "9de0d0f2-abbc-4129-8b69-3a0533bcd7ec",
   "metadata": {
    "tags": []
   },
   "outputs": [],
   "source": [
    "countries = px.data.gapminder()\n",
    "countries"
   ]
  },
  {
   "cell_type": "code",
   "execution_count": null,
   "id": "a938c08b-e732-4c78-a05e-8940ef96173f",
   "metadata": {
    "tags": []
   },
   "outputs": [],
   "source": [
    "fig = px.bar(countries, x=\"country\", y=\"lifeExp\", title = 'Life Expectancy by Year',color='year', width=800, height = 500)\n",
    "fig.show()"
   ]
  },
  {
   "cell_type": "code",
   "execution_count": null,
   "id": "9b7f9de6-ec12-41dd-85ac-e6ded8495984",
   "metadata": {
    "tags": []
   },
   "outputs": [],
   "source": [
    "lifeE = countries.groupby('country')['lifeExp'].mean().reset_index()\n",
    "fig = px.bar(lifeE, x=\"country\", y=\"lifeExp\", title = 'Average Life Expectancy')\n",
    "fig.show()"
   ]
  },
  {
   "cell_type": "code",
   "execution_count": null,
   "id": "6d8e7c3a-6ab2-410d-8351-641c7655c77e",
   "metadata": {
    "tags": []
   },
   "outputs": [],
   "source": [
    "continent = countries[['continent','pop']]\n",
    "fig = px.pie(continent, names=\"continent\", values=\"pop\", title = 'Population by Continent', width=400, height=400)\n",
    "fig.show()"
   ]
  },
  {
   "cell_type": "code",
   "execution_count": null,
   "id": "683b385f-5f82-4b74-a9ca-9f3f09ebab72",
   "metadata": {
    "tags": []
   },
   "outputs": [],
   "source": [
    "fig = px.density_heatmap(countries, x=\"country\", y=\"year\",z=\"lifeExp\",histfunc='avg')\n",
    "fig.show()"
   ]
  },
  {
   "cell_type": "code",
   "execution_count": null,
   "id": "6590d507-5f9c-435d-8b8b-263cad4d224d",
   "metadata": {
    "tags": []
   },
   "outputs": [],
   "source": [
    "afg = countries[countries['country']=='China']\n",
    "fig = px.line(afg, x=\"pop\", y=\"year\")\n",
    "fig.show()"
   ]
  },
  {
   "cell_type": "code",
   "execution_count": null,
   "id": "6fead76c-dc4a-4de7-946b-74cd3ec813f0",
   "metadata": {
    "tags": []
   },
   "outputs": [],
   "source": [
    "px.scatter(countries, x=\"country\", y=\"pop\",animation_frame=\"year\", size=\"gdpPercap\")"
   ]
  },
  {
   "cell_type": "code",
   "execution_count": null,
   "id": "56224477-e3a2-49a8-8a35-01098cfe6875",
   "metadata": {
    "tags": []
   },
   "outputs": [],
   "source": [
    "fig = px.scatter_geo(countries, locations=\"iso_alpha\", color=\"continent\", hover_name=\"country\", size=\"pop\",\n",
    "               animation_frame=\"year\", projection=\"natural earth\", width = 700, height=500)\n",
    "fig.show()"
   ]
  },
  {
   "cell_type": "code",
   "execution_count": null,
   "id": "fd99446d-3250-4001-aadc-0f0ae906439d",
   "metadata": {
    "tags": []
   },
   "outputs": [],
   "source": [
    "tips = px.data.tips()\n",
    "tips"
   ]
  },
  {
   "cell_type": "code",
   "execution_count": null,
   "id": "5c1b091f-30f0-444f-8a21-67c639114560",
   "metadata": {
    "tags": []
   },
   "outputs": [],
   "source": [
    "fig = px.scatter(tips, x=\"total_bill\", y=\"tip\")\n",
    "fig.show()"
   ]
  },
  {
   "cell_type": "code",
   "execution_count": null,
   "id": "7827a560-5bd0-4886-8aca-e7828a0490ae",
   "metadata": {
    "tags": []
   },
   "outputs": [],
   "source": [
    "fig = px.scatter(tips, x=\"total_bill\", y=\"tip\", color = 'sex', size='size')\n",
    "fig.show()"
   ]
  },
  {
   "cell_type": "markdown",
   "id": "427f15f2-3006-470e-ba28-3d1e83c85ecf",
   "metadata": {},
   "source": [
    "# Reference\n",
    "[Plotly Website](https://plotly.com/python/plotly-express/)"
   ]
  }
 ],
 "metadata": {
  "kernelspec": {
   "display_name": "Python 3 (ipykernel)",
   "language": "python",
   "name": "python3"
  },
  "language_info": {
   "codemirror_mode": {
    "name": "ipython",
    "version": 3
   },
   "file_extension": ".py",
   "mimetype": "text/x-python",
   "name": "python",
   "nbconvert_exporter": "python",
   "pygments_lexer": "ipython3",
   "version": "3.11.5"
  }
 },
 "nbformat": 4,
 "nbformat_minor": 5
}
