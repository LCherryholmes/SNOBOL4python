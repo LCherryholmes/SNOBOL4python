{
 "cells": [
  {
   "cell_type": "markdown",
   "metadata": {
    "tags": []
   },
   "source": [
    "# 1 Import Pandas Library\n",
    "\n",
    "Run the code cell below to import the Pandas module:\n"
   ]
  },
  {
   "cell_type": "code",
   "execution_count": null,
   "metadata": {
    "tags": []
   },
   "outputs": [],
   "source": [
    "import pandas as pd"
   ]
  },
  {
   "cell_type": "markdown",
   "metadata": {},
   "source": [
    "# 2 DataFrame"
   ]
  },
  {
   "cell_type": "markdown",
   "metadata": {},
   "source": [
    "## Create a DataFrame\n",
    "We can create a dataframe from:\n",
    "\n",
    "1. a dictionary\n",
    "2. a list\n",
    "3. a csv file\n",
    "4. an Excel file (in a later Notebook)"
   ]
  },
  {
   "cell_type": "code",
   "execution_count": null,
   "metadata": {
    "tags": []
   },
   "outputs": [],
   "source": [
    "# -------------------- PANDAS I ---------------------------------\n",
    "cars = {'Make': ['Ford', 'Honda', 'Toyota', 'Tesla'],\n",
    "       'Model': ['Taurus', 'Accord', 'Camry', 'Model S'],\n",
    "       'MSRP': [27595, 23570, 23495, 68000]}\n",
    "# --------  DataFrame from dictionary ----------------\n",
    "carsDF = pd.DataFrame(cars)            \n",
    "print(carsDF)                             # display the table\n",
    "# --------  Adding a new Col ----------------\n",
    "carsDF[\"Year\"] = [2015, 2020, 2018, 2021]\n",
    "# --------  Delete a Col ----------------\n",
    "del carsDF[\"MSRP\"]\n",
    "# --------  Saving the DataFrame ----------------\n",
    "carsDF.to_csv('cars.csv')\n",
    "carsDF"
   ]
  },
  {
   "cell_type": "code",
   "execution_count": null,
   "metadata": {
    "tags": []
   },
   "outputs": [],
   "source": [
    "# -------------------- PANDAS II ---------------------------------\n",
    "l = [['Ford','Taurus', 27595, 2015],['Honda', 'Accord', 23570, 2020],['Toyota', 'Camry', 23495, 2018],\n",
    "              ['Tesla', 'Model S', 68000, 2021]]\n",
    "\n",
    "# --------  DataFrame from 2D List ----------------\n",
    "carsData = pd.DataFrame(l)\n",
    "carsData"
   ]
  },
  {
   "cell_type": "code",
   "execution_count": null,
   "metadata": {
    "tags": []
   },
   "outputs": [],
   "source": [
    "columnNames = ['Make','Model','MSRP', 'Year']\n",
    "carsData = pd.DataFrame(l, columns=columnNames)\n",
    "carsData"
   ]
  },
  {
   "cell_type": "code",
   "execution_count": null,
   "metadata": {
    "tags": []
   },
   "outputs": [],
   "source": [
    "carsData.to_numpy()"
   ]
  },
  {
   "cell_type": "code",
   "execution_count": null,
   "metadata": {
    "tags": []
   },
   "outputs": [],
   "source": [
    "# -------------------- PANDAS III ---------------------------------\n",
    "import pandas as pd\n",
    "# --------  DataFrame from csv file ----------------\n",
    "nba = pd.read_csv('nba.csv')\n",
    "print(len(nba))\n",
    "print(nba.shape)"
   ]
  },
  {
   "cell_type": "code",
   "execution_count": null,
   "metadata": {
    "tags": []
   },
   "outputs": [],
   "source": [
    "# --------  Examining few rows ----------------\n",
    "#pd.set_option(\"display.precision\", 2)\n",
    "#print(nba.head(10))\n",
    "print(nba.tail())"
   ]
  },
  {
   "cell_type": "code",
   "execution_count": null,
   "metadata": {
    "scrolled": true,
    "tags": []
   },
   "outputs": [],
   "source": [
    "# --------  Cols & types ----------------\n",
    "#print(nba.columns)\n",
    "print(nba.info())\n"
   ]
  },
  {
   "cell_type": "code",
   "execution_count": null,
   "metadata": {
    "scrolled": true,
    "tags": []
   },
   "outputs": [],
   "source": [
    "# --------  Cols & Stats ----------------\n",
    "print(nba.describe(include=object))"
   ]
  },
  {
   "cell_type": "code",
   "execution_count": null,
   "metadata": {
    "tags": []
   },
   "outputs": [],
   "source": [
    "# --------  Accessing a Col ----------------\n",
    "nba[\"team_id\"]"
   ]
  },
  {
   "cell_type": "code",
   "execution_count": null,
   "metadata": {
    "tags": []
   },
   "outputs": [],
   "source": [
    "# --------  Accessing a Row ----------------\n",
    "print(nba.loc[1])\n",
    "print(nba.iloc[1])"
   ]
  },
  {
   "cell_type": "code",
   "execution_count": null,
   "metadata": {
    "tags": []
   },
   "outputs": [],
   "source": [
    "# --------  Accessing Rows & Cols ----------------\n",
    "nba.loc[5555:5559, [\"fran_id\", \"opp_fran\", \"pts\", \"opp_pts\"]]"
   ]
  },
  {
   "cell_type": "code",
   "execution_count": null,
   "metadata": {
    "tags": []
   },
   "outputs": [],
   "source": [
    "# --------  Value occurrence ----------------\n",
    "nba[\"team_id\"].value_counts()"
   ]
  },
  {
   "cell_type": "code",
   "execution_count": null,
   "metadata": {
    "tags": []
   },
   "outputs": [],
   "source": [
    "# -------- Simple Querry ----------------\n",
    "# filtering expressions\n",
    "nba[nba[\"year_id\"] >= 2010]"
   ]
  },
  {
   "cell_type": "code",
   "execution_count": null,
   "metadata": {
    "tags": []
   },
   "outputs": [],
   "source": [
    "# -------- Compound Querry ----------------\n",
    "#nba[(nba[\"_iscopy\"] == 0) & (nba[\"pts\"] > 100) & (nba[\"opp_pts\"] > 100)]\n",
    "# or\n",
    "nba.query('_iscopy == 0 and pts > 100 and opp_pts > 100')"
   ]
  },
  {
   "cell_type": "markdown",
   "metadata": {},
   "source": [
    "## Exercise I\n",
    " 1) Retrieve all the games that are after 2010\n",
    " 2) Retrieve all the lost games that had a forecst of %80 or more\n",
    " 3) Retrieve all the games won by one point\n",
    " 4) Retrieve all the playoff games in 2014"
   ]
  },
  {
   "cell_type": "code",
   "execution_count": null,
   "metadata": {
    "tags": []
   },
   "outputs": [],
   "source": [
    "# Exercise I.3 Answer\n",
    "nba.query('_iscopy == 0 and ((pts - opp_pts == 1) or (pts - opp_pts == -1))')[['pts', 'opp_pts']]"
   ]
  },
  {
   "cell_type": "code",
   "execution_count": null,
   "metadata": {
    "tags": []
   },
   "outputs": [],
   "source": [
    "# ------------------ Col Stat -----------------------------\n",
    "print(\"Sum of all points:\", nba[\"pts\"].sum())\n",
    "print(\"Minimum points scored:\", nba[\"pts\"].min())\n",
    "print(\"Maximum points scored:\", nba[\"pts\"].max())"
   ]
  },
  {
   "cell_type": "code",
   "execution_count": null,
   "metadata": {
    "tags": []
   },
   "outputs": [],
   "source": [
    "# ------------------ Grouping -----------------------------\n",
    "nba.groupby(\"fran_id\")[\"pts\"].sum()"
   ]
  },
  {
   "cell_type": "markdown",
   "metadata": {
    "tags": []
   },
   "source": [
    "# Exercise II\n",
    " Indicate the wins and losses for each franchise"
   ]
  },
  {
   "cell_type": "code",
   "execution_count": null,
   "metadata": {
    "tags": []
   },
   "outputs": [],
   "source": [
    "# ------------------ Plot I -----------------------------\n",
    "nba[nba[\"fran_id\"] == \"Knicks\"].groupby(\"year_id\")[\"pts\"].max().plot()"
   ]
  },
  {
   "cell_type": "code",
   "execution_count": null,
   "metadata": {
    "tags": []
   },
   "outputs": [],
   "source": [
    "# ------------------ Plot II -----------------------------\n",
    "nba[\"fran_id\"].value_counts().head(10).plot(kind=\"bar\")"
   ]
  },
  {
   "cell_type": "code",
   "execution_count": null,
   "metadata": {
    "tags": []
   },
   "outputs": [],
   "source": [
    "# ------------------ Plot III -----------------------------\n",
    "nba[(nba[\"fran_id\"] == \"Heat\") & (nba[\"year_id\"] == 2013)&(nba[\"_iscopy\"] == 0)][\"game_result\"].value_counts().plot(kind=\"pie\")"
   ]
  },
  {
   "cell_type": "code",
   "execution_count": null,
   "metadata": {
    "tags": []
   },
   "outputs": [],
   "source": [
    "nba[nba[\"fran_id\"] == \"Celtics\"].groupby(\"year_id\")[\"pts\"].max().plot(label='BOS', legend=True)\n",
    "nba[nba[\"fran_id\"] == \"Knicks\"].groupby(\"year_id\")[\"pts\"].max().plot(label='NYK', legend=True)"
   ]
  },
  {
   "cell_type": "code",
   "execution_count": null,
   "metadata": {
    "tags": []
   },
   "outputs": [],
   "source": [
    "# Basic Web Scraping \n",
    "url = \"https://www.basketball-reference.com/leagues/NBA_2024_games-december.html\"\n",
    "tables = pd.read_html(url)\n",
    "\n",
    "#print('Number of tables =',len(tables))\n",
    "tables[0].head()"
   ]
  },
  {
   "cell_type": "markdown",
   "metadata": {},
   "source": [
    "# Data Cleaning"
   ]
  },
  {
   "cell_type": "code",
   "execution_count": null,
   "metadata": {
    "tags": []
   },
   "outputs": [],
   "source": [
    "# Missing Data - replace\n",
    "df = tables[0]\n",
    "df = df.fillna('') \n",
    "#df.replace(np.nan, '')\n",
    "df"
   ]
  },
  {
   "cell_type": "code",
   "execution_count": null,
   "metadata": {
    "tags": []
   },
   "outputs": [],
   "source": [
    "df = tables[0]\n",
    "df = df.fillna({'Unnamed: 7': 'no', 'Notes': ''}) \n",
    "df"
   ]
  },
  {
   "cell_type": "code",
   "execution_count": null,
   "metadata": {
    "tags": []
   },
   "outputs": [],
   "source": [
    "# Remove Duplicates\n",
    "df.drop_duplicates()"
   ]
  },
  {
   "cell_type": "code",
   "execution_count": null,
   "metadata": {
    "tags": []
   },
   "outputs": [],
   "source": [
    "# Rename Columns\n",
    "df.rename(columns=str.upper)"
   ]
  },
  {
   "cell_type": "markdown",
   "metadata": {},
   "source": [
    "# Exercise III\n",
    "\n",
    "1. What is the purpose of the 'Unnamed: 7' column?\n",
    "2. Delete 'Unnamed: 6' column.\n",
    "3. Rename 'Unnamed: 7' column to a more meaningful name."
   ]
  },
  {
   "cell_type": "markdown",
   "metadata": {
    "tags": []
   },
   "source": [
    "## Reference\n",
    "[Python for Data Analysis](https://wesmckinney.com/book/pandas-basics)"
   ]
  }
 ],
 "metadata": {
  "kernelspec": {
   "display_name": "Python 3 (ipykernel)",
   "language": "python",
   "name": "python3"
  },
  "language_info": {
   "codemirror_mode": {
    "name": "ipython",
    "version": 3
   },
   "file_extension": ".py",
   "mimetype": "text/x-python",
   "name": "python",
   "nbconvert_exporter": "python",
   "pygments_lexer": "ipython3",
   "version": "3.11.5"
  }
 },
 "nbformat": 4,
 "nbformat_minor": 4
}
