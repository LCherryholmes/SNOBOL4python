{
  "nbformat": 4,
  "nbformat_minor": 0,
  "metadata": {
    "colab": {
      "provenance": []
    },
    "kernelspec": {
      "name": "python3",
      "display_name": "Python 3"
    },
    "language_info": {
      "name": "python"
    }
  },
  "cells": [
    {
      "cell_type": "code",
      "execution_count": null,
      "metadata": {
        "id": "BxhaIpyo-O1Y"
      },
      "outputs": [],
      "source": [
        "import pandas as pd\n",
        "import plotly.express as px\n",
        "from google.colab import drive\n",
        "from pprint import pprint, pformat\n",
        "drive.mount('/content/modules', force_remount=True)"
      ]
    },
    {
      "cell_type": "code",
      "source": [
        "# Read IMDB data\n",
        "db = pd.read_csv(\"/content/modules/My Drive/IMDB1.csv\")\n",
        "# Preliminary checkup\n",
        "pprint(['shape', db.shape])\n",
        "pprint(['columns', db.columns])\n",
        "if \"Revenue(Millions)\" in db.columns: # Rename column for convenience\n",
        "    db = db.rename(columns={\"Revenue(Millions)\": \"Revenue\"})\n",
        "pprint(['dtypes', db.dtypes])\n",
        "db.info()\n",
        "categorical_columns = [\"Title\", \"Genre\", \"Description\", \"Director\", \"Actors\"]\n",
        "for col in categorical_columns:\n",
        "    pprint([col, db[col].nunique(), db[col].dropna().unique()[:3]])\n",
        "numeric_columns = [\"Year\", \"Runtime\", \"Votes\", \"Rating\", \"Revenue\", \"Metascore\"]\n",
        "pprint(db[numeric_columns].describe())\n",
        "pprint(db.isnull().sum())"
      ],
      "metadata": {
        "collapsed": true,
        "id": "UQ6cSrHi-ly0"
      },
      "execution_count": null,
      "outputs": []
    },
    {
      "cell_type": "code",
      "source": [
        "# Convert comma-separated lists into Python lists\n",
        "re_name = r'[ ]*([^,]+?)[ ]*(?:,|$)'\n",
        "db.Genre    = db.Genre.str.findall(re_name)\n",
        "db.Actors   = db.Actors.str.findall(re_name)\n",
        "db.Director = db.Director.str.findall(re_name)\n",
        "db.head()"
      ],
      "metadata": {
        "id": "MHhfHne0KD0I"
      },
      "execution_count": null,
      "outputs": []
    },
    {
      "cell_type": "code",
      "source": [
        "genres    = db[['Title', 'Genre']].explode('Genre')\n",
        "actors    = db[['Title', 'Actors']].explode('Actors')\n",
        "directors = db[['Title', 'Director']].explode('Director')\n",
        "pprint(genres['Genre'].value_counts())\n",
        "pprint(actors['Actors'].value_counts())\n",
        "pprint(directors['Director'].value_counts())"
      ],
      "metadata": {
        "id": "g-NWs_IaRd73"
      },
      "execution_count": null,
      "outputs": []
    },
    {
      "cell_type": "code",
      "source": [
        "genres = db[['Title', 'Genre', 'Rating', 'Revenue', 'Votes', 'Runtime', 'Year']].explode('Genre')\n",
        "genres_agg = genres.groupby('Genre').agg(\n",
        "    num_movies=('Title', 'nunique'),\n",
        "    avg_rating=('Rating', 'mean'),\n",
        "    total_revenue=('Revenue', 'sum'),\n",
        "    avg_runtime=('Runtime', 'mean'),\n",
        "    total_votes=('Votes', 'sum'),\n",
        "    earliest_year=('Year', 'min'),\n",
        "    latest_year=('Year', 'max')\n",
        ").reset_index()\n",
        "pprint(genres_agg.sort_values(by='num_movies', ascending=False))"
      ],
      "metadata": {
        "id": "g93u3gazUQpk"
      },
      "execution_count": null,
      "outputs": []
    },
    {
      "cell_type": "code",
      "source": [
        "directors = db[['Title', 'Director', 'Year', 'Rating', 'Revenue', 'Votes', 'Runtime']].explode('Director')\n",
        "director_year_rating = pd.pivot_table( # Average movie rating per Director by Year.\n",
        "    directors,\n",
        "    index='Director',\n",
        "    columns='Year',\n",
        "    values='Rating',\n",
        "    aggfunc='mean',\n",
        "    fill_value=0\n",
        ")\n",
        "pprint(director_year_rating.head(10))"
      ],
      "metadata": {
        "id": "SnGD4jFBVtAs"
      },
      "execution_count": null,
      "outputs": []
    },
    {
      "cell_type": "code",
      "source": [
        "import plotly.express as px\n",
        "directors = db[['Title', 'Director', 'Year', 'Rating', 'Revenue', 'Votes', 'Runtime']].explode('Director')\n",
        "director_summary = directors.groupby('Director').agg(\n",
        "    num_movies=('Title', 'nunique'),\n",
        "    avg_rating=('Rating', 'mean'),\n",
        "    total_revenue=('Revenue', 'sum'),\n",
        "    avg_votes=('Votes', 'mean'),\n",
        "    avg_runtime=('Runtime', 'mean')\n",
        ").reset_index()\n",
        "top_directors = director_summary.nlargest(20, 'num_movies')\n",
        "fig = px.bar(\n",
        "    top_directors,\n",
        "    x='Director',\n",
        "    y='num_movies',\n",
        "    title='Top 20 Directors by Number of Movies',\n",
        "    labels={'num_movies': 'Number of Movies', 'Director': 'Director'},\n",
        "    color='num_movies',\n",
        "    color_continuous_scale='blues'\n",
        ")\n",
        "fig.update_layout(\n",
        "    xaxis_title=\"Director\",\n",
        "    yaxis_title=\"Number of Movies\",\n",
        "    xaxis_tickangle=-45\n",
        ")\n",
        "fig.show()"
      ],
      "metadata": {
        "id": "qrq0_YP9WaCl"
      },
      "execution_count": null,
      "outputs": []
    },
    {
      "cell_type": "code",
      "source": [
        "actors = db[['Title', 'Actors', 'Genre']].explode('Actors')\n",
        "actors = actors.explode('Genre')\n",
        "actor_genre_pivot = pd.pivot_table(\n",
        "    actors,\n",
        "    index='Actors',\n",
        "    columns='Genre',\n",
        "    values='Title',\n",
        "    aggfunc='count',\n",
        "    fill_value=0\n",
        ")\n",
        "pprint(actor_genre_pivot.head(10))"
      ],
      "metadata": {
        "id": "yokk6Z9QXACz"
      },
      "execution_count": null,
      "outputs": []
    },
    {
      "cell_type": "code",
      "source": [
        "high_rating = db.query(\"Rating >= 8\").copy()\n",
        "high_rating[\"Decade\"] = (high_rating['Year'] // 10) * 10\n",
        "decade_stats = high_rating.groupby('Decade').agg(\n",
        "    num_movies=('Title', 'count'),\n",
        "    avg_rating=('Rating', 'mean'),\n",
        "    total_revenue=('Revenue', 'sum'),\n",
        "    avg_votes=('Votes', 'mean')\n",
        ").reset_index()\n",
        "decade_stats_sorted = decade_stats.sort_values(by='avg_rating', ascending=False)\n",
        "pprint(decade_stats_sorted)"
      ],
      "metadata": {
        "id": "iyWvdQQcaU9B"
      },
      "execution_count": null,
      "outputs": []
    },
    {
      "cell_type": "code",
      "source": [
        "numeric_metrics = [\"Rating\", \"Revenue\", \"Metascore\"]\n",
        "melted = pd.melt(db, id_vars=[\"Title\", \"Year\"], value_vars=numeric_metrics, var_name=\"Metric\", value_name=\"Value\")\n",
        "pprint(melted.head(10))\n",
        "print()\n",
        "metric_summary = melted.groupby(\"Metric\").agg(\n",
        "    mean_value=(\"Value\", \"mean\"),\n",
        "    count_value=(\"Value\", \"count\")\n",
        ").reset_index()\n",
        "pprint(metric_summary)"
      ],
      "metadata": {
        "id": "4H97BSpKb6WE"
      },
      "execution_count": null,
      "outputs": []
    },
    {
      "cell_type": "code",
      "source": [
        "import plotly.express as px\n",
        "yearly_metrics = melted.groupby(['Year', 'Metric']).agg(\n",
        "    avg_value=('Value', 'mean')\n",
        ").reset_index()\n",
        "fig = px.line(\n",
        "    yearly_metrics,\n",
        "    x='Year',\n",
        "    y='avg_value',\n",
        "    color='Metric',\n",
        "    markers=True,\n",
        "    title='Yearly Averages of Movie Metrics'\n",
        ")\n",
        "fig.update_layout(\n",
        "    xaxis_title='Year',\n",
        "    yaxis_title='Average Value',\n",
        "    hovermode='x unified'\n",
        ")\n",
        "fig.show()"
      ],
      "metadata": {
        "id": "zlBppXZFc9mJ"
      },
      "execution_count": null,
      "outputs": []
    },
    {
      "cell_type": "code",
      "source": [
        "db['Rating_Category'] = pd.qcut(db.Rating, q=4, labels=[\"Low\", \"Medium\", \"High\", \"Very High\"])\n",
        "db['Votes_Category'] = pd.qcut(db.Votes, q=4, labels=[\"Low\", \"Medium\", \"High\", \"Very High\"])\n",
        "rating_votes_crosstab = pd.crosstab(db.Rating_Category, db.Votes_Category)\n",
        "pprint(rating_votes_crosstab)"
      ],
      "metadata": {
        "id": "H8_XE-oTeWK1"
      },
      "execution_count": null,
      "outputs": []
    },
    {
      "cell_type": "code",
      "source": [
        "complex_filter = (\n",
        "    (db['Year'].between(2000, 2020))\n",
        "  & (db['Rating'] >= 7.0)\n",
        "  & ((db['Metascore'] >= 60) | (db['Revenue'] >= 100))\n",
        "  & (db['Votes'] > 1000)\n",
        "  & (db['Genre'].str.contains('Action', case=False, na=False))\n",
        ")\n",
        "filtered = db.loc[complex_filter]\n",
        "pprint(filtered.head())"
      ],
      "metadata": {
        "id": "LwYyqXoKfTp8"
      },
      "execution_count": null,
      "outputs": []
    },
    {
      "cell_type": "code",
      "source": [
        "db['Rating_Category'] = pd.qcut(db['Rating'], q=4, labels=[\"Low\", \"Medium\", \"High\", \"Very High\"])\n",
        "db['Votes_Category'] = pd.qcut(db['Votes'], q=4, labels=[\"Low\", \"Medium\", \"High\", \"Very High\"])\n",
        "grouped_agg = db.groupby([\"Rating_Category\", \"Votes_Category\"]).agg(\n",
        "    num_movies=(\"Title\", \"count\"),\n",
        "    avg_rating=(\"Rating\", \"mean\"),\n",
        "    total_revenue=(\"Revenue\", lambda x: x.fillna(0).sum()),\n",
        "    median_runtime=(\"Runtime\", \"median\"),\n",
        "    year_range=(\"Year\", lambda x: x.max() - x.min()),\n",
        "    genres=(\"Genre\", lambda x: \", \".join(x.dropna().unique()))\n",
        ").reset_index()\n",
        "pprint(grouped_agg)"
      ],
      "metadata": {
        "id": "VRoGjxYigoRF"
      },
      "execution_count": null,
      "outputs": []
    },
    {
      "cell_type": "code",
      "source": [
        "data = {\n",
        "    'Category': ['A', 'A', 'B', 'B', 'C', 'C'],\n",
        "    'Value1': [10, 20, 30, 40, 50, 60],\n",
        "    'Value2': [1, 2, 3, 4, 5, 6]\n",
        "}\n",
        "df = pd.DataFrame(data)\n",
        "pprint(df)\n",
        "grouped = df.groupby('Category').agg({'Value1': 'mean', 'Value2': 'sum'})\n",
        "pprint(grouped)\n",
        "grouped_reset = grouped.reset_index()\n",
        "pprint(grouped_reset)\n",
        "print()\n",
        "sorted = df.sort_values(by='Value1', ascending=False)\n",
        "pprint(sorted)\n",
        "sorted_reset = sorted.reset_index(drop=True)\n",
        "pprint(sorted_reset)\n",
        "indexed = df.set_index('Category')\n",
        "pprint(indexed)\n",
        "indexed_reset = indexed.reset_index()\n",
        "pprint(indexed_reset)"
      ],
      "metadata": {
        "id": "s5c8g3D6iJeH"
      },
      "execution_count": null,
      "outputs": []
    }
  ]
}