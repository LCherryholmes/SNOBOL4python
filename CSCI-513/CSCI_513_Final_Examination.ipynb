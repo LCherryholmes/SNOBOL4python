{
  "nbformat": 4,
  "nbformat_minor": 0,
  "metadata": {
    "colab": {
      "provenance": []
    },
    "kernelspec": {
      "name": "python3",
      "display_name": "Python 3"
    },
    "language_info": {
      "name": "python"
    }
  },
  "cells": [
    {
      "cell_type": "code",
      "execution_count": 1,
      "metadata": {
        "colab": {
          "base_uri": "https://localhost:8080/"
        },
        "id": "BxhaIpyo-O1Y",
        "outputId": "882db1f3-2f05-4c52-b8a8-bfa7b15986d0"
      },
      "outputs": [
        {
          "output_type": "stream",
          "name": "stdout",
          "text": [
            "Mounted at /content/modules\n"
          ]
        }
      ],
      "source": [
        "import pandas as pd\n",
        "import plotly.express as px\n",
        "from google.colab import drive\n",
        "from pprint import pprint, pformat\n",
        "drive.mount('/content/modules', force_remount=True)"
      ]
    },
    {
      "cell_type": "code",
      "source": [
        "# Read IMDB data\n",
        "db = pd.read_csv(\"/content/modules/My Drive/IMDB1.csv\")\n",
        "# Preliminary checkup\n",
        "pprint(['shape', db.shape])\n",
        "pprint(['columns', db.columns])\n",
        "if \"Revenue(Millions)\" in db.columns: # Rename column for convenience\n",
        "    db = db.rename(columns={\"Revenue(Millions)\": \"Revenue\"})\n",
        "pprint(['dtypes', db.dtypes])\n",
        "db.info()\n",
        "categorical_columns = [\"Title\", \"Genre\", \"Description\", \"Director\", \"Actors\"]\n",
        "for col in categorical_columns:\n",
        "    pprint([col, db[col].nunique(), db[col].dropna().unique()[:3]])\n",
        "numeric_columns = [\"Year\", \"Runtime\", \"Votes\", \"Rating\", \"Revenue\", \"Metascore\"]\n",
        "pprint(db[numeric_columns].describe())\n",
        "pprint(db.isnull().sum())\n",
        "#db.head()"
      ],
      "metadata": {
        "collapsed": true,
        "id": "UQ6cSrHi-ly0"
      },
      "execution_count": null,
      "outputs": []
    },
    {
      "cell_type": "code",
      "source": [
        "# Convert comma-separated lists into Python lists\n",
        "re_name = r'[ ]*([^,]+?)[ ]*(?:,|$)'\n",
        "db.Genre    = db.Genre.str.findall(re_name)\n",
        "db.Actors   = db.Actors.str.findall(re_name)\n",
        "db.Director = db.Director.str.findall(re_name)\n",
        "db.head()"
      ],
      "metadata": {
        "id": "MHhfHne0KD0I"
      },
      "execution_count": null,
      "outputs": []
    },
    {
      "cell_type": "code",
      "source": [
        "genres    = db[['Title', 'Genre']].explode('Genre')\n",
        "actors    = db[['Title', 'Actors']].explode('Actors')\n",
        "directors = db[['Title', 'Director']].explode('Director')\n",
        "pprint(genres['Genre'].value_counts())\n",
        "pprint(actors['Actors'].value_counts())\n",
        "pprint(directors['Director'].value_counts())"
      ],
      "metadata": {
        "id": "g-NWs_IaRd73"
      },
      "execution_count": null,
      "outputs": []
    },
    {
      "cell_type": "code",
      "source": [
        "genres = db[['Title', 'Genre', 'Rating', 'Revenue', 'Votes', 'Runtime', 'Year']].explode('Genre')\n",
        "genres_agg = genres.groupby('Genre').agg(\n",
        "    num_movies=('Title', 'nunique'),\n",
        "    avg_rating=('Rating', 'mean'),\n",
        "    total_revenue=('Revenue', 'sum'),\n",
        "    avg_runtime=('Runtime', 'mean'),\n",
        "    total_votes=('Votes', 'sum'),\n",
        "    earliest_year=('Year', 'min'),\n",
        "    latest_year=('Year', 'max')\n",
        ").reset_index()\n",
        "pprint(genres_agg.sort_values(by='num_movies', ascending=False))"
      ],
      "metadata": {
        "id": "g93u3gazUQpk"
      },
      "execution_count": null,
      "outputs": []
    },
    {
      "cell_type": "code",
      "source": [
        "directors = db[['Title', 'Director', 'Year', 'Rating', 'Revenue', 'Votes', 'Runtime']].explode('Director')\n",
        "director_year_rating = pd.pivot_table( # Average movie rating per Director by Year.\n",
        "    directors,\n",
        "    index='Director',\n",
        "    columns='Year',\n",
        "    values='Rating',\n",
        "    aggfunc='mean',\n",
        "    fill_value=0\n",
        ")\n",
        "pprint(director_year_rating.head(10))"
      ],
      "metadata": {
        "id": "SnGD4jFBVtAs"
      },
      "execution_count": null,
      "outputs": []
    },
    {
      "cell_type": "code",
      "source": [
        "directors = db[['Title', 'Director', 'Year', 'Rating', 'Revenue', 'Votes', 'Runtime']].explode('Director')\n",
        "director_summary = directors.groupby('Director').agg(\n",
        "    num_movies=('Title', 'nunique'),\n",
        "    avg_rating=('Rating', 'mean'),\n",
        "    total_revenue=('Revenue', 'sum'),\n",
        "    avg_votes=('Votes', 'mean'),\n",
        "    avg_runtime=('Runtime', 'mean')\n",
        ").reset_index()\n",
        "pprint(director_summary.sort_values(by='num_movies', ascending=False).head(10))"
      ],
      "metadata": {
        "id": "qrq0_YP9WaCl"
      },
      "execution_count": null,
      "outputs": []
    },
    {
      "cell_type": "code",
      "source": [
        "actors = db[['Title', 'Actors', 'Genre']].explode('Actors')\n",
        "actors = actors.explode('Genre')\n",
        "actor_genre_pivot = pd.pivot_table(\n",
        "    actors,\n",
        "    index='Actors',\n",
        "    columns='Genre',\n",
        "    values='Title',\n",
        "    aggfunc='count',\n",
        "    fill_value=0\n",
        ")\n",
        "pprint(actor_genre_pivot.head(10))"
      ],
      "metadata": {
        "id": "yokk6Z9QXACz"
      },
      "execution_count": null,
      "outputs": []
    }
  ]
}