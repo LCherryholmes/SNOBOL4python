{
 "cells": [
  {
   "cell_type": "markdown",
   "id": "d55243c2-47af-4fcd-a856-0e908fddc48e",
   "metadata": {},
   "source": [
    "# NumPy\n",
    "\n",
    " - important foundational package\n",
    " - designed for efficiency on large arrays of data\n",
    " - fast operations on data without having to write loops"
   ]
  },
  {
   "cell_type": "markdown",
   "id": "c3f8b56c-a432-4d42-a7e7-2524833b8411",
   "metadata": {
    "tags": []
   },
   "source": [
    "# 1 Import NumPy Library\n",
    "\n",
    "Run the following code cell to import the NumPy module:"
   ]
  },
  {
   "cell_type": "code",
   "execution_count": null,
   "id": "6f81617d-c3c0-42bd-a044-2d336b8de7ef",
   "metadata": {
    "tags": []
   },
   "outputs": [],
   "source": [
    "import numpy as np "
   ]
  },
  {
   "cell_type": "markdown",
   "id": "3448a7ce-3b44-476a-95ba-8a104a4caf32",
   "metadata": {
    "tags": []
   },
   "source": [
    "# 2 Create NumPy Array:\n",
    "\n",
    "1)  array with initial values\n",
    "2)  array with specific values\n",
    "3)  array with sequences of numbers\n",
    "4)  array with random values\n",
    "5)  array from 2 arrays"
   ]
  },
  {
   "cell_type": "code",
   "execution_count": null,
   "id": "85362493-d1ae-4ba2-a7d4-edd2f6860a71",
   "metadata": {
    "tags": []
   },
   "outputs": [],
   "source": [
    "prices = np.array([29, 4, 2, 30, 25, 48, 63, 39, 53, 71, 47, 18, 24])\n",
    "print(prices)"
   ]
  },
  {
   "cell_type": "code",
   "execution_count": null,
   "id": "90a936a2-6092-46fe-8b52-13fd31f0a587",
   "metadata": {
    "tags": []
   },
   "outputs": [],
   "source": [
    "prices = np.ones(25, dtype=int)\n",
    "print(prices)"
   ]
  },
  {
   "cell_type": "code",
   "execution_count": null,
   "id": "14068825-802a-4f18-8860-066482bb6741",
   "metadata": {
    "tags": []
   },
   "outputs": [],
   "source": [
    "prices = np.arange(5, 201)\n",
    "print(prices)"
   ]
  },
  {
   "cell_type": "code",
   "execution_count": null,
   "id": "8cfa7db9-3769-4c81-8e1e-88a774c57350",
   "metadata": {
    "tags": []
   },
   "outputs": [],
   "source": [
    "prices_int = np.random.randint(low=10, high=21, size=[6])\n",
    "print(prices_int)\n",
    "prices_float = np.random.random([6])\n",
    "print(prices_float)"
   ]
  },
  {
   "cell_type": "code",
   "execution_count": null,
   "id": "955aeac8-124d-412b-86f0-c93821ec7fbf",
   "metadata": {
    "tags": []
   },
   "outputs": [],
   "source": [
    "a = np.array([29, 4, 2, 30, 18, 24])\n",
    "b = np.array([2, 4, 6, 3, 5, 7, 1])\n",
    "c = np.concatenate((a, b))\n",
    "print(c)"
   ]
  },
  {
   "cell_type": "markdown",
   "id": "70e916da-79f8-4139-a355-912ea0744202",
   "metadata": {
    "tags": []
   },
   "source": [
    "## Multi-Dimensional Arrays"
   ]
  },
  {
   "cell_type": "code",
   "execution_count": null,
   "id": "addf79a2-a29c-4719-bbb7-89d74155aa08",
   "metadata": {
    "tags": []
   },
   "outputs": [],
   "source": [
    "mda5 = np.arange(20).reshape((4, 5))\n",
    "print(mda5)"
   ]
  },
  {
   "cell_type": "code",
   "execution_count": null,
   "id": "b1a8ff76-b1bc-49da-b323-d38790510b93",
   "metadata": {
    "tags": []
   },
   "outputs": [],
   "source": [
    "mda = np.random.random([2,3,4])\n",
    "print(mda.shape)\n",
    "print(mda.dtype)"
   ]
  },
  {
   "cell_type": "markdown",
   "id": "9dca4d7c-7891-4a8c-b8c2-048c8653696a",
   "metadata": {},
   "source": [
    "# 3 Array Arithmetic \n",
    "  - The arrays should be of same dimensions"
   ]
  },
  {
   "cell_type": "code",
   "execution_count": null,
   "id": "0bb0668c-9fdb-4ff6-8740-a96b7ebecc53",
   "metadata": {
    "tags": []
   },
   "outputs": [],
   "source": [
    "prices = np.array([29, 4, 2, 30, 25, 48, 63, 39, 53, 71, 47, 18, 24])\n",
    "disc_prices = prices * 0.8\n",
    "print(disc_prices)\n"
   ]
  },
  {
   "cell_type": "code",
   "execution_count": null,
   "id": "570db735-8f3e-46ed-abd5-32311222497a",
   "metadata": {
    "tags": []
   },
   "outputs": [],
   "source": [
    "prices = np.array([29, 4, 2, 30, 25, 48, 63, 39, 53, 71, 47, 18, 24])\n",
    "prices = prices * 2\n",
    "print(prices)"
   ]
  },
  {
   "cell_type": "code",
   "execution_count": null,
   "id": "d5e97eab-96ef-49a8-b492-38f639d6415c",
   "metadata": {
    "tags": []
   },
   "outputs": [],
   "source": [
    "store1 = np.array([29, 4, 2, 30, 25, 48, 63, 39, 53, 71, 47, 18, 24])\n",
    "store2 = np.array([23, 2, 12, 32, 25, 47, 63, 39, 53, 71, 47, 18, 24])\n",
    "print(store1 / store2)"
   ]
  },
  {
   "cell_type": "code",
   "execution_count": null,
   "id": "6a1b01cc-c769-46d9-80c7-812df53d0913",
   "metadata": {
    "tags": []
   },
   "outputs": [],
   "source": [
    "# Conversion\n",
    "weight_str = np.array([\"1.25\", \"-9.6\", \"42\"])\n",
    "print(weight_str)\n",
    "weight_float = weight_str.astype(float)\n",
    "print(weight_float)"
   ]
  },
  {
   "cell_type": "code",
   "execution_count": null,
   "id": "3373534d-05d2-4092-a748-243b55216a30",
   "metadata": {
    "tags": []
   },
   "outputs": [],
   "source": [
    "# Copying (Shallow)\n",
    "prices = np.array([29, 4, 2, 30, 25, 48, 63, 39, 53, 71, 47, 18, 24])\n",
    "p = prices\n",
    "p[3] = 0\n",
    "print(p)\n",
    "print(prices)"
   ]
  },
  {
   "cell_type": "code",
   "execution_count": null,
   "id": "36da6505-4009-4f1f-9739-d6b8919a39d8",
   "metadata": {
    "tags": []
   },
   "outputs": [],
   "source": [
    "# Copying (Deep)\n",
    "prices = np.array([29, 4, 2, 30, 25, 48, 63, 39, 53, 71, 47, 18, 24])\n",
    "p = prices.copy()\n",
    "p[3] = 0\n",
    "print(p)\n",
    "print(prices)"
   ]
  },
  {
   "cell_type": "markdown",
   "id": "6ff55cbb-73ee-45e8-9ff2-50e6e84d3e72",
   "metadata": {},
   "source": [
    "# 4 Boolean Indexing"
   ]
  },
  {
   "cell_type": "code",
   "execution_count": null,
   "id": "377d3bf6-7389-43ed-8393-0e97857ae3ab",
   "metadata": {
    "tags": []
   },
   "outputs": [],
   "source": [
    "# Comparisons between arrays\n",
    "store1 = np.array([29, 4, 2, 30, 25, 48, 63, 39, 53, 71, 47, 18, 24])\n",
    "store2 = np.array([23, 2, 12, 32, 25, 47, 63, 39, 53, 71, 47, 18, 24])\n",
    "print(store1[store1 > store2])"
   ]
  },
  {
   "cell_type": "code",
   "execution_count": null,
   "id": "4a3cf908-e2c5-4f4c-b0b5-6c2707358930",
   "metadata": {
    "tags": []
   },
   "outputs": [],
   "source": [
    "prices = np.array([29, 4, 2, 30, 25, 48, 63, 39, 53, 71, 47, 18, 24])\n",
    "discounts = np.array([5, 20, 12, 10, 75, 50, 10, 15, 20, 10, 45, 75, 10])\n",
    "print(discounts == 20)\n",
    "\n",
    "twenty_percent = prices[discounts == 20]\n",
    "print(twenty_percent)\n",
    "\n",
    "print(prices[~(discounts == 20)])"
   ]
  },
  {
   "cell_type": "code",
   "execution_count": null,
   "id": "84708f9a-6755-434b-92bf-9c59eb6917d0",
   "metadata": {
    "tags": []
   },
   "outputs": [],
   "source": [
    "prices = np.array([29, 4, 2, 30, 25, 48, 63, 39, 53, 71, 47, 18, 24])\n",
    "discounts = np.array([5, 20, 12, 10, 75, 50, 10, 15, 20, 10, 45, 75, 10])\n",
    "\n",
    "fifty_seventyfive = prices[(discounts == 20) | (discounts == 75)]\n",
    "print(fifty_seventyfive)"
   ]
  },
  {
   "cell_type": "code",
   "execution_count": null,
   "id": "493e0e74-2579-4baa-a8e5-32f3772e46b5",
   "metadata": {
    "tags": []
   },
   "outputs": [],
   "source": [
    "discounts = np.array([5, 20, 12, 10, 75, 50, 10, 15, 20, 10, 45, 75, 10])\n",
    "discounts[discounts < 30] = 40\n",
    "print(discounts)\n",
    "\n",
    "discounts = discounts[discounts >= 30] * 0.8\n",
    "print(discounts)"
   ]
  },
  {
   "cell_type": "code",
   "execution_count": null,
   "id": "83c80a85-1e91-4a50-80e8-593af0fc5e27",
   "metadata": {
    "tags": []
   },
   "outputs": [],
   "source": [
    "# Fancy Indexing\n",
    "discounts = np.array([5, 20, 12, 10, 75, 50, 10, 15, 20, 10, 45, 75, 10])\n",
    "print(discounts[[5, 4, 3, 1, 0, 2, 2]])"
   ]
  },
  {
   "cell_type": "markdown",
   "id": "4a22edc9-aeff-4147-a410-ba1decf10d18",
   "metadata": {},
   "source": [
    "# 5 [Matrix Multiplication](https://www.mathsisfun.com/algebra/matrix-multiplying.html)"
   ]
  },
  {
   "cell_type": "code",
   "execution_count": null,
   "id": "04bac8e5-a4e5-44b5-9859-b7400a23109b",
   "metadata": {
    "tags": []
   },
   "outputs": [],
   "source": [
    "m = np.arange(10).reshape((2, 5))\n",
    "print(m)\n",
    "print(m.T)"
   ]
  },
  {
   "cell_type": "code",
   "execution_count": null,
   "id": "c5da755b-1879-4edf-9989-a21cd3a9f09a",
   "metadata": {
    "tags": []
   },
   "outputs": [],
   "source": [
    "m.T @ m"
   ]
  },
  {
   "cell_type": "markdown",
   "id": "52983b70-3a5d-42bc-8df1-6613b29ea5a7",
   "metadata": {
    "tags": []
   },
   "source": [
    "# 6 Aggregate Functions"
   ]
  },
  {
   "cell_type": "code",
   "execution_count": null,
   "id": "b285006a-6b2b-4dba-a4d4-6df03b28c281",
   "metadata": {
    "tags": []
   },
   "outputs": [],
   "source": [
    "prices = np.array([29, 4, 2, 30, 15, 48, 63, 32, 53, 70, 47, 19, 24])\n",
    "cond = np.array([False, True, False, False, False, True, False, False, True, True, False, False, True])\n",
    "\n",
    "print('Total: ', prices.sum())\n",
    "print('Average: ', prices.mean())\n",
    "print('Standard Deviation: ', prices.std())\n",
    "print('Lowest Price: ', prices.min())\n",
    "print('Highest Price: ', prices.max())\n",
    "\n",
    "print('Count: ', cond.sum())"
   ]
  },
  {
   "cell_type": "markdown",
   "id": "c0619caa-69e0-414b-83f9-648a5b27eafb",
   "metadata": {},
   "source": [
    "# 7 NumPy Array vs Python List"
   ]
  },
  {
   "cell_type": "code",
   "execution_count": null,
   "id": "3b5d19f6-ef60-4d00-aab7-edd92fe91642",
   "metadata": {
    "tags": []
   },
   "outputs": [],
   "source": [
    "numpy_array = np.arange(10000000)     # or 1_000_000\n",
    "python_list = list(range(10000000))"
   ]
  },
  {
   "cell_type": "code",
   "execution_count": null,
   "id": "15d236b3-425e-423c-b424-7a161e134b60",
   "metadata": {
    "tags": []
   },
   "outputs": [],
   "source": [
    "%timeit l1 = numpy_array * 2\n",
    "%timeit l2 = [x * 2 for x in python_list]"
   ]
  },
  {
   "cell_type": "markdown",
   "id": "12462ee0-fea5-48bc-a175-41e37d5a6a66",
   "metadata": {
    "tags": []
   },
   "source": [
    "## Reference\n",
    "[Python for Data Analysis](https://wesmckinney.com/book/numpy-basics)"
   ]
  }
 ],
 "metadata": {
  "kernelspec": {
   "display_name": "Python 3 (ipykernel)",
   "language": "python",
   "name": "python3"
  },
  "language_info": {
   "codemirror_mode": {
    "name": "ipython",
    "version": 3
   },
   "file_extension": ".py",
   "mimetype": "text/x-python",
   "name": "python",
   "nbconvert_exporter": "python",
   "pygments_lexer": "ipython3",
   "version": "3.11.5"
  }
 },
 "nbformat": 4,
 "nbformat_minor": 5
}
