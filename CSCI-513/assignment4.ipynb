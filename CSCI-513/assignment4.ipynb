{
 "cells": [
  {
   "cell_type": "markdown",
   "id": "59195215-c957-4b95-8d0c-31b8461456c5",
   "metadata": {},
   "source": [
    "# CSCI 513.01W – Python Programming for AI\n",
    "## Assignment 4 - NumPy"
   ]
  },
  {
   "cell_type": "markdown",
   "id": "0d27ddff-5ad3-404f-aef6-e9553c211bdd",
   "metadata": {},
   "source": [
    "## Exercise I\n",
    "\n",
    "Create an array called prices of 50 random float numbers between 0 and 100 (inclusive)."
   ]
  },
  {
   "cell_type": "code",
   "execution_count": null,
   "id": "9eb952e1-b59c-414e-b4b9-fe7a88d032b5",
   "metadata": {},
   "outputs": [],
   "source": []
  },
  {
   "cell_type": "markdown",
   "id": "2e95cb8a-7fda-4fc0-8f3f-bbcb4d5a153f",
   "metadata": {},
   "source": [
    "## Exercise II\n",
    "- Create a NumPy array called ages. This array should have 15 random ages between 5 and 25 (inclusive)\n",
    "- Create a NumPy array called ages2. The values in ages2 should be double the ones in ages."
   ]
  },
  {
   "cell_type": "code",
   "execution_count": null,
   "id": "6267b5ac-db99-420d-a232-0cd02d9745fa",
   "metadata": {},
   "outputs": [],
   "source": []
  },
  {
   "cell_type": "markdown",
   "id": "5b9abe6e-0503-4f9c-854b-7cffac8d8bdb",
   "metadata": {},
   "source": [
    "## Exercise III\n",
    "\n",
    "To make ages2 a little bit more realistic, insert a little random noise into each element of the array you created. To be more precise, modify each value assigned to ages2 by adding a different random floating-point value between -2 and +2."
   ]
  },
  {
   "cell_type": "code",
   "execution_count": null,
   "id": "7c5cdef9-4521-487c-91b9-193ba4fb072d",
   "metadata": {},
   "outputs": [],
   "source": []
  },
  {
   "cell_type": "markdown",
   "id": "94b44c93-270a-42bb-ad11-5fe509f2a666",
   "metadata": {},
   "source": [
    "# Exercise IV\n",
    "Suppose we have two numpy arrays that represent the price of the same items from different stores:\n",
    "\n",
    "store1 = np.array([29, 4, 2, 30, 15, 48, 63, 32, 53, 70, 47, 19, 24])\n",
    "\n",
    "store2 = np.array([23, 2, 12, 32, 25, 47, 53, 39, 63, 71, 47, 18, 21])\n",
    "\n",
    "Create a new array where we take the value from store1 whenever the corresponding value in cond is True, otherwise we take the value from store2.\n",
    "\n",
    "cond = np.array([False, True, False, False, False, True, False, False, True, True, False, False, True])"
   ]
  },
  {
   "cell_type": "code",
   "execution_count": null,
   "id": "4c406be0-d127-42bf-9eba-d7cdedca2f70",
   "metadata": {},
   "outputs": [],
   "source": []
  },
  {
   "cell_type": "markdown",
   "id": "c624a62f-2fdc-4788-8da8-99e28d00ce3f",
   "metadata": {},
   "source": [
    "# Exercise V\n",
    "\n",
    "Solve Exercise IV using numpy where function."
   ]
  },
  {
   "cell_type": "code",
   "execution_count": null,
   "id": "f90fb3e4-bf39-404e-bc18-ddd1fe595979",
   "metadata": {},
   "outputs": [],
   "source": []
  },
  {
   "cell_type": "markdown",
   "id": "301c158a-c88c-499e-a786-22bb9a6dcbe8",
   "metadata": {},
   "source": [
    "# Exercise VI\n",
    "\n",
    "Suppose we have the scores from players playing an arcade game:\n",
    "\n",
    "scores = np.random.randint(low=0, high=70, size=[2000])\n",
    "\n",
    "1. Retrieve the scores that are greater than 20.\n",
    "2. Retrieve the scores that are not 30.\n",
    "3. Retrieve the average score.\n",
    "4. Retrieve the minimum score.\n",
    "5. Retrieve the maximum score."
   ]
  },
  {
   "cell_type": "code",
   "execution_count": null,
   "id": "735595ec-231a-4198-a047-e69e269c82e1",
   "metadata": {},
   "outputs": [],
   "source": []
  }
 ],
 "metadata": {
  "kernelspec": {
   "display_name": "Python 3 (ipykernel)",
   "language": "python",
   "name": "python3"
  },
  "language_info": {
   "codemirror_mode": {
    "name": "ipython",
    "version": 3
   },
   "file_extension": ".py",
   "mimetype": "text/x-python",
   "name": "python",
   "nbconvert_exporter": "python",
   "pygments_lexer": "ipython3",
   "version": "3.11.5"
  }
 },
 "nbformat": 4,
 "nbformat_minor": 5
}
