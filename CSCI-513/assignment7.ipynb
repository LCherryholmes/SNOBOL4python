{
  "nbformat": 4,
  "nbformat_minor": 0,
  "metadata": {
    "colab": {
      "provenance": []
    },
    "kernelspec": {
      "name": "python3",
      "display_name": "Python 3"
    },
    "language_info": {
      "name": "python"
    }
  },
  "cells": [
    {
      "cell_type": "code",
      "execution_count": null,
      "metadata": {
        "id": "B9eVlClYPOuh"
      },
      "outputs": [],
      "source": [
        "import pandas as pd\n",
        "import plotly.express as px\n",
        "from google.colab import drive\n",
        "from pprint import pprint, pformat\n",
        "drive.mount('/content/modules', force_remount=True)\n",
        "cars = pd.read_csv(\"/content/modules/My Drive/cars.csv\")\n",
        "!pip install category_encoders"
      ]
    },
    {
      "cell_type": "code",
      "source": [
        "# Preliminary checkup\n",
        "pprint(['shape', cars.shape])\n",
        "pprint(['columns', cars.columns])\n",
        "pprint(['dtypes', cars.dtypes])\n",
        "pprint(['RequestedPrice.unique()', cars.RequestedPrice.unique()])\n",
        "pprint(['MaintenancePrice.unique', cars.MaintenancePrice.unique()])\n",
        "pprint(['Doors.unique()', cars.Doors.unique()])\n",
        "pprint(['Capacity.unique', cars.Capacity.unique()])\n",
        "pprint(['TrunkSize.unique', cars.TrunkSize.unique()])\n",
        "pprint(['Safety.unique', cars.Safety.unique()])\n",
        "pprint(['Buy.unique', cars.Buy.unique()])"
      ],
      "metadata": {
        "id": "ZN0VlhqKS_pS"
      },
      "execution_count": null,
      "outputs": []
    },
    {
      "cell_type": "code",
      "source": [
        "# 1.\n",
        "print(\"How many cars does this dataset have?\")\n",
        "print(f\"{cars.shape[0]} cars total.\")"
      ],
      "metadata": {
        "id": "u38b1susWi2e"
      },
      "execution_count": null,
      "outputs": []
    },
    {
      "cell_type": "code",
      "source": [
        "# 2.\n",
        "print(\"How many cars in this dataset were bought?\")\n",
        "print(f\"{cars[cars.Buy.str.contains(r'^yes$')].shape[0]} cars were bought.\")\n",
        "print(f\"{cars[cars.Buy.str.contains(r'^no$')].shape[0]} cars were not bought.\")"
      ],
      "metadata": {
        "id": "SmxcOKRrW9aK"
      },
      "execution_count": null,
      "outputs": []
    },
    {
      "cell_type": "code",
      "source": [
        "# 3.\n",
        "print(\"How many cars in this dataset have a very high price?\")\n",
        "print(f\"{cars[cars.RequestedPrice.str.contains(r'^vhigh$')].shape[0]} cars have a very high price.\")"
      ],
      "metadata": {
        "id": "PKwh75pkXdQH"
      },
      "execution_count": null,
      "outputs": []
    },
    {
      "cell_type": "code",
      "source": [
        "# 4.\n",
        "print(\"How many of the very high-priced cars were purchased?\")\n",
        "print(f\"{cars[cars.RequestedPrice.str.contains(r'^vhigh$') & cars.Buy.str.contains(r'^yes$')].shape[0]} very high priced cars were purchased.\")"
      ],
      "metadata": {
        "id": "LKEJMnxJXmQH"
      },
      "execution_count": null,
      "outputs": []
    },
    {
      "cell_type": "code",
      "source": [
        "# 5.\n",
        "print(\"Using Plotly, visualize the relationship between car prices and whether the car is sold or not.\")\n",
        "px.bar(\n",
        "    cars.groupby(['RequestedPrice', 'Buy']).size().reset_index(name='Count'),\n",
        "    x=\"RequestedPrice\", y=\"Count\", color=\"Buy\", barmode=\"group\", title=\"Car Prices vs. Sale Status\",\n",
        "    labels={\"RequestedPrice\": \"Price Category\", \"Count\": \"Number of Cars\", \"Bought\": \"Sold Status\"}\n",
        ").show()"
      ],
      "metadata": {
        "id": "GdJ1J1IiXp4B"
      },
      "execution_count": null,
      "outputs": []
    },
    {
      "cell_type": "code",
      "source": [
        "# 6.\n",
        "print(\"Using Plotly, and from the cars that were only sold, use a bar diagram to visualize the relationship between the requested price and maintenance price.\")\n",
        "px.bar(\n",
        "    cars[cars[\"Buy\"] == \"yes\"].groupby([\"RequestedPrice\", \"MaintenancePrice\"]).size().reset_index(name=\"Count\"),\n",
        "    x=\"RequestedPrice\", y=\"Count\",\n",
        "    color=\"MaintenancePrice\", barmode=\"group\",\n",
        "    title=\"Relationship Between Requested Price and Maintenance Price (Sold Cars)\",\n",
        "    labels={\"RequestedPrice\": \"Requested Price\", \"MaintenancePrice\": \"Maintenance Price\", \"Count\": \"Number of Cars\"}\n",
        ").show()"
      ],
      "metadata": {
        "id": "-LCVpEFCXrTO"
      },
      "execution_count": null,
      "outputs": []
    },
    {
      "cell_type": "code",
      "source": [
        "# 7.\n",
        "print(\"Using Plotly, and from the cars that were only sold, visualize the relationship between car safety and maintenance price.\")\n",
        "px.imshow(\n",
        "    pd.crosstab(\n",
        "        cars[cars.Buy == \"yes\"].Safety,\n",
        "        cars[cars.Buy == \"yes\"].MaintenancePrice\n",
        "    ),\n",
        "    text_auto=True,\n",
        "    color_continuous_scale=\"Blues\",\n",
        "    labels={\n",
        "        \"x\": \"Maintenance Price\",\n",
        "        \"y\": \"Car Safety\",\n",
        "        \"color\": \"Count\"\n",
        "    },\n",
        "    title=\"Car Safety vs. Maintenance Price for Sold Cars (Heatmap)\"\n",
        ").show()"
      ],
      "metadata": {
        "id": "lI-yNKwrXsnj"
      },
      "execution_count": null,
      "outputs": []
    },
    {
      "cell_type": "code",
      "source": [
        "# 8.\n",
        "print(\"Find any other interesting relationship in the data, and visualize it using Plotly.\")\n",
        "cars['Buy_num'] = cars.Buy.map({\"yes\": 1, \"no\": 0})\n",
        "px.parallel_categories(\n",
        "    cars,\n",
        "    dimensions=[\"RequestedPrice\", \"MaintenancePrice\", \"Doors\", \"Capacity\", \"TrunkSize\", \"Safety\", \"Buy\"],\n",
        "    color=\"Buy_num\",\n",
        "    color_continuous_scale=px.colors.sequential.Inferno,\n",
        "    labels={\n",
        "        \"RequestedPrice\": \"Requested Price\",\n",
        "        \"MaintenancePrice\": \"Maintenance Price\",\n",
        "        \"Doors\": \"Doors\",\n",
        "        \"Capacity\": \"Capacity\",\n",
        "        \"TrunkSize\": \"Trunk Size\",\n",
        "        \"Safety\": \"Safety\",\n",
        "        \"Buy\": \"Bought\"\n",
        "    },\n",
        "    title=\"Relationships Across Car Attributes and Bought\"\n",
        ").show()"
      ],
      "metadata": {
        "id": "3YQcHhoPXt6u"
      },
      "execution_count": null,
      "outputs": []
    },
    {
      "cell_type": "code",
      "source": [
        "# 9.\n",
        "print(\"Create two variables called X and y, where y stores all the class labels, while X stores all the class features not including the class label.\")\n",
        "print((X := cars.iloc[:, 0:6]).head())\n",
        "print()\n",
        "print((y := cars['Buy']).head())"
      ],
      "metadata": {
        "id": "EoWHrrdbYDRv"
      },
      "execution_count": null,
      "outputs": []
    },
    {
      "cell_type": "code",
      "source": [
        "# 10.\n",
        "# Next, we want to convert the data in X from string to integer. We are going to use a library called category_encoders\n",
        "# to do that. First, let us install this library:\n",
        "from category_encoders import OrdinalEncoder\n",
        "X = OrdinalEncoder().fit_transform(X)\n",
        "y = OrdinalEncoder().fit_transform(y)"
      ],
      "metadata": {
        "id": "HqIzspkXYEof"
      },
      "execution_count": null,
      "outputs": []
    },
    {
      "cell_type": "code",
      "source": [
        "# 11.\n",
        "# Divide the dataset into training and test sets. The training set should be 70% while the test set should 30%.\n",
        "# Use 53 as the random state.\n",
        "print(\"How many rows does the training set have, and how many rows does the testing set have?\")\n",
        "from sklearn.model_selection import train_test_split\n",
        "X_train, X_test, y_train, y_test = train_test_split(X, y, test_size = 0.3, random_state = 53)\n",
        "print(f\"The training set has {X_train.shape[0]} ({y_train.shape[0]}) rows.\")\n",
        "print(f\"The testing set has {X_test.shape[0]} ({y_test.shape[0]}) rows.\")"
      ],
      "metadata": {
        "id": "a-UPQ58fYK24"
      },
      "execution_count": null,
      "outputs": []
    },
    {
      "cell_type": "code",
      "source": [
        "# 12.\n",
        "# Create a logistic regression classifier, then train and test your classifier.\n",
        "print(\"What is the accuracy, precision, recall and f1-score of the model on the test data?\")\n",
        "from sklearn.linear_model import LogisticRegression\n",
        "from sklearn.model_selection import train_test_split\n",
        "from sklearn.metrics import accuracy_score, precision_score, recall_score, f1_score, classification_report\n",
        "model     = LogisticRegression(max_iter=1000, random_state=53)\n",
        "model.fit(X_train, y_train)\n",
        "y_pred    = model.predict(X_test)\n",
        "accuracy  = accuracy_score(y_test, y_pred)\n",
        "precision = precision_score(y_test, y_pred)\n",
        "recall    = recall_score(y_test, y_pred)\n",
        "f1        = f1_score(y_test, y_pred)\n",
        "print(\"Accuracy:\", accuracy)\n",
        "print(\"Precision:\", precision)\n",
        "print(\"Recall:\", recall)\n",
        "print(\"F1 Score:\", f1)\n",
        "print(\"Classification Report:\")\n",
        "print(classification_report(y_test, y_pred))"
      ],
      "metadata": {
        "id": "8HqGxtCoYMMV"
      },
      "execution_count": null,
      "outputs": []
    },
    {
      "cell_type": "code",
      "source": [
        "# 13.\n",
        "print(\"What are the true positives, true negatives, false positives, and false negatives?\")\n",
        "from sklearn.metrics import confusion_matrix\n",
        "cm = confusion_matrix(y_test, y_pred)\n",
        "print(\"Confusion Matrix:\")\n",
        "print(cm)\n",
        "true_negatives, false_positives, false_negatives, true_positives = cm.ravel()\n",
        "print(f\"True Negatives: {true_negatives}\")\n",
        "print(f\"False Positives: {false_positives}\")\n",
        "print(f\"False Negatives: {false_negatives}\")\n",
        "print(f\"True Positives: {true_positives}\")"
      ],
      "metadata": {
        "id": "Xh9ZUn-xYNZN"
      },
      "execution_count": null,
      "outputs": []
    },
    {
      "cell_type": "code",
      "source": [
        "# 14.\n",
        "# Although we did not learn about Support Vector Machine (SVM), let us use this classifier.\n",
        "# Different from logistic regression that only uses linear equation,\n",
        "# SVM supports different types of equations, including linear equation.\n",
        "# These equations in SVM are called kernels.\n",
        "# RBF (Radial Basis Function) is one of the kernels that is a popular in classification.\n",
        "# RBF requires one parameter called gamma that we need to specify in Sklearn.\n",
        "# Gamma should have a value from 0 to 1, where a higher value will cause the SVM to fit (memorize) the training dataset, which we do not want to do.\n",
        "# Usually, a gamma value of 0.1 is usually used. The value of gamma needs to be manually specified in the learning algorithm.\n",
        "# Create an SVM model with an RBF kernel. Then, train and test your classifier.\n",
        "print(\"What is the accuracy, precision, recall, f1-score and confusion matrix of the model?\")\n",
        "from sklearn.model_selection import train_test_split\n",
        "from sklearn.svm import SVC\n",
        "from sklearn.metrics import accuracy_score, precision_score, recall_score, f1_score, classification_report\n",
        "svm_model = SVC(kernel='rbf', gamma=0.1, random_state=53)\n",
        "svm_model.fit(X_train, y_train)\n",
        "y_pred = svm_model.predict(X_test)\n",
        "accuracy = accuracy_score(y_test, y_pred)\n",
        "precision = precision_score(y_test, y_pred)\n",
        "recall = recall_score(y_test, y_pred)\n",
        "f1 = f1_score(y_test, y_pred)\n",
        "print(\"Accuracy:\", accuracy)\n",
        "print(\"Precision:\", precision)\n",
        "print(\"Recall:\", recall)\n",
        "print(\"F1 Score:\", f1)\n",
        "print(\"Classification Report:\")\n",
        "print(classification_report(y_test, y_pred))"
      ],
      "metadata": {
        "id": "JzMQw4tKYO1P"
      },
      "execution_count": null,
      "outputs": []
    },
    {
      "cell_type": "code",
      "source": [
        "# 15.\n",
        "# Similar to SVMs, we also did not learn about random forest as a classifier but let us try it out.\n",
        "# Create a random forest model with 100 trees, the number of trees can be specified as a parameter in Sklearn.\n",
        "# Then, train and test your classifier.\n",
        "print(\"What is the accuracy, precision, recall, f1-score and confusion matrix of the model?\")\n",
        "from sklearn.model_selection import train_test_split\n",
        "from sklearn.ensemble import RandomForestClassifier\n",
        "from sklearn.metrics import accuracy_score, precision_score, recall_score, f1_score, classification_report\n",
        "rf_model = RandomForestClassifier(n_estimators=100, random_state=53)\n",
        "rf_model.fit(X_train, y_train)\n",
        "y_pred = rf_model.predict(X_test)\n",
        "accuracy = accuracy_score(y_test, y_pred)\n",
        "precision = precision_score(y_test, y_pred)\n",
        "recall = recall_score(y_test, y_pred)\n",
        "f1 = f1_score(y_test, y_pred)\n",
        "print(\"Accuracy:\", accuracy)\n",
        "print(\"Precision:\", precision)\n",
        "print(\"Recall:\", recall)\n",
        "print(\"F1 Score:\", f1)\n",
        "print(\"Classification Report:\")\n",
        "print(classification_report(y_test, y_pred))"
      ],
      "metadata": {
        "id": "yErPIr68YQgp"
      },
      "execution_count": null,
      "outputs": []
    }
  ]
}