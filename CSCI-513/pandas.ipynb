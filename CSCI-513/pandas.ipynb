{
 "cells": [
  {
   "cell_type": "markdown",
   "metadata": {
    "tags": []
   },
   "source": [
    "# 1 Import Pandas Library\n",
    "\n",
    "Run the code cell below to import the Pandas module:\n"
   ]
  },
  {
   "cell_type": "code",
   "execution_count": null,
   "metadata": {
    "tags": []
   },
   "outputs": [],
   "source": [
    "import pandas as pd"
   ]
  },
  {
   "cell_type": "markdown",
   "metadata": {},
   "source": [
    "# 2 Series\n",
    "One-dimensional array-like structure containing a sequence of values (same or different types) called array and an associated array of data labels called index.\n",
    "Similar to a column in Excel sheet but with more flexibility:\n",
    "![column](col.jpg) "
   ]
  },
  {
   "cell_type": "markdown",
   "metadata": {},
   "source": [
    "## Create a Series\n",
    "We can create a series from:\n",
    "  1) a list of specific values\n",
    "  2) two lists: one for values, the other for index\n",
    "  3) from a dictionary"
   ]
  },
  {
   "cell_type": "code",
   "execution_count": null,
   "metadata": {
    "tags": []
   },
   "outputs": [],
   "source": [
    "teams = pd.Series(['Bulls','Wizards','Grizzlies', 'Clippers', 'Hawks','Rockets', 'Warriors', 'Cavaliers'])\n",
    "print(teams)"
   ]
  },
  {
   "cell_type": "code",
   "execution_count": null,
   "metadata": {
    "tags": []
   },
   "outputs": [],
   "source": [
    "print(teams.index)\n",
    "print(teams.array)"
   ]
  },
  {
   "cell_type": "code",
   "execution_count": null,
   "metadata": {
    "tags": []
   },
   "outputs": [],
   "source": [
    "teams = pd.Series(['Bulls','Wizards','Grizzlies', 'Clippers', 'Hawks','Rockets', 'Warriors', 'Cavaliers'], index=['t1','t2','t3','t4','t5','t6','t7','t8'])\n",
    "print(teams)"
   ]
  },
  {
   "cell_type": "code",
   "execution_count": null,
   "metadata": {
    "tags": []
   },
   "outputs": [],
   "source": [
    "wins = pd.Series({'Bulls':12,'Wizards':6,'Grizzlies':4, 'Clippers':18, 'Hawks':11,'Rockets':13, 'Warriors':19, 'Cavaliers':10})\n",
    "print(wins)"
   ]
  },
  {
   "cell_type": "markdown",
   "metadata": {
    "tags": []
   },
   "source": [
    "## Basic Plots"
   ]
  },
  {
   "cell_type": "code",
   "execution_count": null,
   "metadata": {
    "tags": []
   },
   "outputs": [],
   "source": [
    "wins.plot(kind=\"pie\", figsize=(5,5), legend=True, autopct='%.1f%%').legend(loc='lower left')"
   ]
  },
  {
   "cell_type": "markdown",
   "metadata": {},
   "source": [
    "## Access Elements in a Series\n",
    "  1) Through their index value\n",
    "  2) using filtering expressions\n",
    "  3) using loc and iloc"
   ]
  },
  {
   "cell_type": "code",
   "execution_count": null,
   "metadata": {
    "tags": []
   },
   "outputs": [],
   "source": [
    "print(teams['t3'])"
   ]
  },
  {
   "cell_type": "code",
   "execution_count": null,
   "metadata": {
    "tags": []
   },
   "outputs": [],
   "source": [
    "print(teams[['t1', 't5', 't2', 't8']])"
   ]
  },
  {
   "cell_type": "code",
   "execution_count": null,
   "metadata": {
    "tags": []
   },
   "outputs": [],
   "source": [
    "print(teams[teams > 'I'])"
   ]
  },
  {
   "cell_type": "code",
   "execution_count": null,
   "metadata": {
    "tags": []
   },
   "outputs": [],
   "source": [
    "print(teams.loc['t4'])"
   ]
  },
  {
   "cell_type": "code",
   "execution_count": null,
   "metadata": {
    "tags": []
   },
   "outputs": [],
   "source": [
    "print(teams.iloc[4])"
   ]
  },
  {
   "cell_type": "markdown",
   "metadata": {
    "tags": []
   },
   "source": [
    "## Slicing in a Series"
   ]
  },
  {
   "cell_type": "code",
   "execution_count": null,
   "metadata": {
    "tags": []
   },
   "outputs": [],
   "source": [
    "print(teams.loc[['t4', 't6']])\n",
    "print(teams[1:4])"
   ]
  },
  {
   "cell_type": "markdown",
   "metadata": {},
   "source": [
    "## Counting in a Series"
   ]
  },
  {
   "cell_type": "code",
   "execution_count": null,
   "metadata": {
    "tags": []
   },
   "outputs": [],
   "source": [
    "team1Scores = pd.Series([99,100, 99,105,88, 115, 122, 105, 88, 105, 99])\n",
    "print(team1Scores.unique())\n",
    "print(team1Scores.nunique())\n",
    "print(team1Scores.value_counts())"
   ]
  },
  {
   "cell_type": "markdown",
   "metadata": {},
   "source": [
    "## Functions at a Series level"
   ]
  },
  {
   "cell_type": "code",
   "execution_count": null,
   "metadata": {
    "tags": []
   },
   "outputs": [],
   "source": [
    "team1Scores = pd.Series([99,100, 99,105,88, 115, 122, 105, 88, 105, 99])\n",
    "team2Scores = pd.Series([109,99, 89,115,123, 112, 106, 95, 96, 122, 103])\n",
    "ptDiff = team1Scores.sub(team2Scores)\n",
    "print(ptDiff)"
   ]
  },
  {
   "cell_type": "code",
   "execution_count": null,
   "metadata": {
    "tags": []
   },
   "outputs": [],
   "source": [
    "print('Average score', team1Scores.mean())\n",
    "print('Minimum score', team1Scores.min())"
   ]
  },
  {
   "cell_type": "code",
   "execution_count": null,
   "metadata": {
    "tags": []
   },
   "outputs": [],
   "source": [
    "print(team1Scores.agg(['mean','std','max','min','median']))"
   ]
  },
  {
   "cell_type": "markdown",
   "metadata": {},
   "source": [
    "## Converting & Saving Series\n",
    "  1) to a Python dictionary\n",
    "  2) to a Pandas Dataframe"
   ]
  },
  {
   "cell_type": "code",
   "execution_count": null,
   "metadata": {
    "tags": []
   },
   "outputs": [],
   "source": [
    "d = wins.to_dict()\n",
    "print(d)"
   ]
  },
  {
   "cell_type": "code",
   "execution_count": null,
   "metadata": {
    "tags": []
   },
   "outputs": [],
   "source": [
    "df = wins.to_frame()\n",
    "print(df)"
   ]
  },
  {
   "cell_type": "markdown",
   "metadata": {},
   "source": [
    "## Exercise\n",
    "Given the series below:\n",
    "    wins = pd.Series({'Bulls':12,'Wizards':6,'Grizzlies':4, 'Clippers':18, 'Hawks':11,'Rockets':13, 'Warriors':19, 'Cavaliers':10})\n",
    "\n",
    "Print the teams with 10 wins or more"
   ]
  },
  {
   "cell_type": "markdown",
   "metadata": {
    "tags": []
   },
   "source": [
    "## Reference\n",
    "[Python for Data Analysis](https://wesmckinney.com/book/pandas-basics)"
   ]
  }
 ],
 "metadata": {
  "kernelspec": {
   "display_name": "Python 3 (ipykernel)",
   "language": "python",
   "name": "python3"
  },
  "language_info": {
   "codemirror_mode": {
    "name": "ipython",
    "version": 3
   },
   "file_extension": ".py",
   "mimetype": "text/x-python",
   "name": "python",
   "nbconvert_exporter": "python",
   "pygments_lexer": "ipython3",
   "version": "3.11.5"
  }
 },
 "nbformat": 4,
 "nbformat_minor": 4
}
