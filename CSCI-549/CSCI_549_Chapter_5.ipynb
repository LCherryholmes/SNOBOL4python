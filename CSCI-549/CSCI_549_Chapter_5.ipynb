{
  "nbformat": 4,
  "nbformat_minor": 0,
  "metadata": {
    "colab": {
      "provenance": []
    },
    "kernelspec": {
      "name": "python3",
      "display_name": "Python 3"
    },
    "language_info": {
      "name": "python"
    }
  },
  "cells": [
    {
      "cell_type": "markdown",
      "source": [
        "---\n",
        "**Chapter 5: Introduction to Computer Theory by Daniel I. A. Cohen**"
      ],
      "metadata": {
        "id": "XulXWX_BJKLD"
      }
    },
    {
      "cell_type": "markdown",
      "source": [
        "---\n",
        "**Problem 1:** Write out the transition tables for the FAs on pp. 56, 58 (both), 63, 64, and 69 that were defined by pictures.\n",
        "\n",
        "**Answer 1:**\n",
        "\n"
      ],
      "metadata": {
        "id": "pH0DVXDdJega"
      }
    },
    {
      "cell_type": "code",
      "source": [
        "pg56 = \\\n",
        "[ ['a', 'b']\n",
        ", [ 2 ,  3] # 1\n",
        ", [ 1 ,  3] # 2\n",
        ", [ 3 ,  3] # 3\n",
        "]\n",
        "pg58_1 = \\\n",
        "[ ['a', 'b']\n",
        ", [ 2 ,  2 ] # 1\n",
        ", [ 2 ,  2 ] # 2\n",
        "]\n",
        "pg58_2 = \\\n",
        "[ ['a', 'b']\n",
        ", [ 1 ,  1 ] # 1\n",
        "]\n",
        "pg_63 = \\\n",
        "[ ['a', 'b']\n",
        ", [ 2 ,  3 ] # 1\n",
        ", [ 4 ,  3 ] # 2\n",
        ", [ 2 ,  4 ] # 3\n",
        ", [ 4 ,  4 ] # 4\n",
        "]\n",
        "pg_64 = \\\n",
        "[ ['a', 'b']\n",
        ", [ 2 ,  2 ] # 1\n",
        ", [ 3 ,  3 ] # 2\n",
        ", [ 4 ,  5 ] # 3\n",
        ", [ 4 ,  4 ] # 4\n",
        ", [ 5 ,  5 ] # 5\n",
        "]\n",
        "\n",
        "pg_69 = \\\n",
        "[ ['a', 'b']\n",
        ", [ 3 ,  2 ] # 1\n",
        ", [ 4 ,  1 ] # 2\n",
        ", [ 1 ,  4 ] # 3\n",
        ", [ 2 ,  3 ] # 4\n",
        "]"
      ],
      "metadata": {
        "id": "o9_KZTCfg7xC"
      },
      "execution_count": null,
      "outputs": []
    },
    {
      "cell_type": "markdown",
      "source": [
        "---\n",
        "**Problem 2:** Build an FA that accepts only the language of all words with b as the second letter. Show both the picture and the transition table for this machine and find a regular expression for the language.\n",
        "\n",
        "**Answer 2:**\n",
        "\n",
        "RE = $(a + b)b(a+b)^{*}$"
      ],
      "metadata": {
        "id": "ZtdnMh6IJlQh"
      }
    },
    {
      "cell_type": "code",
      "source": [
        "prob5_2 = \\\n",
        "[ ['a', 'b']\n",
        ", [ 2 ,  2 ] # 1-\n",
        ", [ 3 ,  4 ] # 2\n",
        ", [ 3 ,  3 ] # 3\n",
        ", [ 4 ,  4 ] # 4+\n",
        "]"
      ],
      "metadata": {
        "id": "IwvSBLtWlDcv"
      },
      "execution_count": null,
      "outputs": []
    },
    {
      "cell_type": "markdown",
      "source": [
        "---\n",
        "**Problem 3:** Build an FA that accepts only the words baa, ab, and abb and no other strings longer or shorter.\n",
        "\n",
        "**Answer 3:**\n",
        "\n",
        "RE = $(ab(Λ + b)+baa)$"
      ],
      "metadata": {
        "id": "-LFG4P6hJlXm"
      }
    },
    {
      "cell_type": "code",
      "source": [
        "prob5_3 = \\\n",
        "[ ['a', 'b']\n",
        ", [ 2 ,  5 ] # 1-\n",
        ", [ _ ,  3 ] # 2\n",
        ", [ _ ,  4 ] # 3+\n",
        ", [ 8 ,  8 ] # 4+\n",
        ", [ 6 ,  _ ] # 5\n",
        ", [ 7 ,  _ ] # 6\n",
        ", [ 8 ,  8 ] # 7+\n",
        ", [ 8 ,  8 ] # 8\n",
        "]"
      ],
      "metadata": {
        "id": "5Ovr5F-emEED"
      },
      "execution_count": null,
      "outputs": []
    },
    {
      "cell_type": "markdown",
      "source": [
        "---\n",
        "**Problem 4:**\n",
        "* (i) Build an FA with the three states that accepts all strings.\n",
        "* (ii) Show that given any FA with three states and three *+*'s, it accepts all input strings.\n",
        "* (iii) If an FA has three states and only one *+*, must it reject some inputs?\n",
        "\n",
        "**Answer 4:**\n",
        "- *See below*\n",
        "- follows from the pigeon-hole principle\n",
        "- No."
      ],
      "metadata": {
        "id": "IyWbBjIvJle0"
      }
    },
    {
      "cell_type": "code",
      "source": [
        "prob5_4 = \\\n",
        "[ ['a', 'b']\n",
        ", [ 2 ,  2 ] # 1+\n",
        ", [ 3 ,  3 ] # 2+\n",
        ", [ 4 ,  4 ] # 3+\n",
        "]"
      ],
      "metadata": {
        "id": "Ps2SwUaQoi_k"
      },
      "execution_count": null,
      "outputs": []
    },
    {
      "cell_type": "markdown",
      "source": [
        "---\n",
        "**Problem 5:**\n",
        "* (i) Build an FA that accepts only those words that have more that four letters.\n",
        "* (ii) Build an FA that accepts only those words that have fewer than four letters.\n",
        "* (iii) Build an FA that accepts only those words with exactly four letters.\n",
        "\n",
        "**Answer 5:**\n",
        "- RE: $\\quad (a+b)^{5}(a+b)^{*}$\n",
        "- RE: $\\quad Λ+(a+b+(Λ+(a+b+(Λ+(a+b))))), \\quad (Λ+a+b)^4$\n",
        "- RE: $\\quad (a+b)(a+b)(a+b)(a+b), \\quad (a+b)^4$"
      ],
      "metadata": {
        "id": "44dMX2vLJlla"
      }
    },
    {
      "cell_type": "code",
      "source": [
        "prob5_5_1 = \\\n",
        "[ ['a', 'b']\n",
        ", [ 2 ,  2 ] # 1\n",
        ", [ 3 ,  3 ] # 2\n",
        ", [ 4 ,  4 ] # 3\n",
        ", [ 5 ,  5 ] # 4\n",
        ", [ 6 ,  6 ] # 5\n",
        ", [ 6 ,  6 ] # 6+\n",
        "]\n",
        "\n",
        "prob5_5_2 = \\\n",
        "[ ['a', 'b']\n",
        ", [ 2 ,  2 ] # 1+\n",
        ", [ 3 ,  3 ] # 2+\n",
        ", [ 4 ,  4 ] # 3+\n",
        ", [ 5 ,  5 ] # 4+\n",
        ", [ 5 ,  5 ] # 5\n",
        "]\n",
        "\n",
        "prob5_5_3 = \\\n",
        "[ ['a', 'b']\n",
        ", [ 2 ,  2 ] # 1\n",
        ", [ 3 ,  3 ] # 2\n",
        ", [ 4 ,  4 ] # 3\n",
        ", [ 5 ,  5 ] # 4\n",
        ", [ 6 ,  6 ] # 5+\n",
        ", [ 6 ,  6 ] # 6\n",
        "]"
      ],
      "metadata": {
        "id": "4HL0eg95ruWy"
      },
      "execution_count": null,
      "outputs": []
    },
    {
      "cell_type": "markdown",
      "source": [
        "---\n",
        "**Problem 6:** Build an FA that accepts only those words that do *not* end with *ba*.\n",
        "\n",
        "**Answer 6:**\n",
        "RE: $Λ+a+(a+b)^{*}(b+aa)$"
      ],
      "metadata": {
        "id": "nD6JRDgVJl0Y"
      }
    },
    {
      "cell_type": "code",
      "source": [
        "prob5_6 = \\\n",
        "[ ['a', 'b']\n",
        ", [ 1 ,  2 ] # 1+ (start)\n",
        ", [ 3 ,  2 ] # 2+ (seen b)\n",
        ", [ 1 ,  2 ] # 3 (seen ba)\n",
        "]"
      ],
      "metadata": {
        "id": "w3oO14d8sDnf"
      },
      "execution_count": null,
      "outputs": []
    },
    {
      "cell_type": "markdown",
      "source": [
        "---\n",
        "**Problem 7:** Build an FA that accepts only those words that begin or end with a double letter.\n",
        "\n",
        "**Answer 7:** RE: $\\quad (aa+bb)(a+b)^{*}+(a+b)^{*}(aa+bb)$"
      ],
      "metadata": {
        "id": "U15TRzybJl7F"
      }
    },
    {
      "cell_type": "code",
      "source": [
        "prob5_7 = \\\n",
        "[ ['a', 'b']\n",
        ", [ 2 ,  4 ] # 1\n",
        ", [ 3 ,  6 ] # 2 (seen ^a)\n",
        ", [ 3 ,  3 ] # 3+ (seen ^aa)\n",
        ", [ 7 ,  5 ] # 4 (seen ^b)\n",
        ", [ 5 ,  5 ] # 5+ (seen ^bb)\n",
        ", [ 7 ,  8 ] # 6 (seen b)\n",
        ", [ 9 ,  6 ] # 7 (seen a)\n",
        ", [ 7 ,  8 ] # 8+ (seen bb)\n",
        ", [ 9 ,  7 ] # 9+ (seen aa)\n",
        "]"
      ],
      "metadata": {
        "id": "frl8YBPHsHKj"
      },
      "execution_count": null,
      "outputs": []
    },
    {
      "cell_type": "markdown",
      "source": [
        "---\n",
        "**Problem 8:** Build an FA that accepts only those words that have an even number of substrings *ab*.\n",
        "\n",
        "**Answer 8: ???**\n",
        "- RE: $\\quad (abab)^{*}$\n",
        "- RE: $\\quad (aa^{*}bb^{*}aa^{*}bb^{*})^{*}$"
      ],
      "metadata": {
        "id": "PKcqkKwxJmC7"
      }
    },
    {
      "cell_type": "code",
      "source": [
        "  prob5_8_1 = \\\n",
        "[ ['a', 'b']\n",
        ", [ 2 ,  6 ] # 1\n",
        ", [ 6 ,  3 ] # 2 (seen a)\n",
        ", [ 4 ,  6 ] # 3 (seen ab)\n",
        ", [ 6 ,  5 ] # 4 (seen aba)\n",
        ", [ 1 ,  6 ] # 5+ (seen abab)\n",
        ", [ 6 ,  6 ] # 6\n",
        "]\n",
        "\n",
        "prob5_8_2 = \\\n",
        "[ ['a', 'b']\n",
        ", [ 2 ,  3 ] # 1-+\n",
        ", [ 2 ,  3 ] # 2 (seen a)\n",
        ", [ 4 ,  3 ] # 3 (seen b)\n",
        ", [ 4 ,  4 ] # 4  (seen ab+ba)\n",
        "]\n"
      ],
      "metadata": {
        "id": "1WFI-oX0sMIJ"
      },
      "execution_count": null,
      "outputs": []
    },
    {
      "cell_type": "markdown",
      "source": [
        "---\n",
        "**Problem 9:**\n",
        "* (i) Recall from Chapter 4 the language of all words over the alphabet {*a b*} that have both the letter *a* and the letter *b* in them, but not necessarily in that order. Build an FA that accepts this language.\n",
        "* (ii) Build an FA that accepts the language of all words with only *a*'s or only *b*'s in them. Give a regular expression for this language.\n",
        "\n",
        "**Answer 9:**\n",
        "- (i) RE: $(a+b)^{*}(ab+ba)(a+b)^{*}$ or $\\quad (aa^{*}b+bb^{*}a)(a+b)^{*}$\n",
        "- (ii) RE: $aa^{*}+bb^{*}$\n"
      ],
      "metadata": {
        "id": "jSqexNdIJmKJ"
      }
    },
    {
      "cell_type": "code",
      "source": [
        "prob5_9_1 = \\\n",
        "[ ['a', 'b']\n",
        ", [ 2 ,  3 ] # 1-\n",
        ", [ 2 ,  4 ] # 2 (seen a)\n",
        ", [ 4 ,  3 ] # 3 (seen b)\n",
        ", [ 4 ,  4 ] # 4+ (seen ab+ba)\n",
        "]\n",
        "\n",
        "prob5_9_2 = \\\n",
        "[ ['a', 'b']\n",
        ", [ 2 ,  3 ] # 1-\n",
        ", [ 2 ,  4 ] # 2+ (seen aa*)\n",
        ", [ 4 ,  3 ] # 3+ (seen bb*)\n",
        ", [ 4 ,  4 ] # 4\n",
        "]"
      ],
      "metadata": {
        "id": "a0i2R8o-8Fw5"
      },
      "execution_count": null,
      "outputs": []
    },
    {
      "cell_type": "markdown",
      "source": [
        "---\n",
        "**Problem 10:**\n",
        "\n",
        "**Answer 10:**"
      ],
      "metadata": {
        "id": "I4Ss6kMeJmQ-"
      }
    },
    {
      "cell_type": "markdown",
      "source": [
        "---\n",
        "**Problem 11:** Show that there are exactly 5832 different finite automata with three states *x* *y*, *z* over the alphabet {*a b*}, where *x* is always the start state.\n",
        "\n",
        "**Answer 11:**"
      ],
      "metadata": {
        "id": "XW6E7jjIJmZE"
      }
    },
    {
      "cell_type": "markdown",
      "source": [
        "---\n",
        "**Problem 12:**\n",
        "\n",
        "**Answer 12:**"
      ],
      "metadata": {
        "id": "C-JT_BUwJmgK"
      }
    },
    {
      "cell_type": "markdown",
      "source": [
        "---\n",
        "**Problem 13:**\n",
        "\n",
        "**Answer 13:**"
      ],
      "metadata": {
        "id": "HCxLActoJmnP"
      }
    },
    {
      "cell_type": "markdown",
      "source": [
        "---\n",
        "**Problem 14:**\n",
        "\n",
        "**Answer 14:**"
      ],
      "metadata": {
        "id": "Y7TP_cvkJmu3"
      }
    },
    {
      "cell_type": "markdown",
      "source": [
        "---\n",
        "**Problem 15:** Build a machine that accepts all strings that have an even length that is not divisible by 6.\n",
        "\n",
        "**Answer 15:** RE: $$"
      ],
      "metadata": {
        "id": "c0FgjILrJm1s"
      }
    },
    {
      "cell_type": "code",
      "source": [
        "prob5_15 = \\\n",
        "[ ['a', 'b']\n",
        ", [ 2 ,  2 ] # 1\n",
        ", [ 3 ,  3 ] # 2\n",
        ", [ 4 ,  4 ] # 3+\n",
        ", [ 5 ,  5 ] # 4\n",
        ", [ 6 ,  6 ] # 5+\n",
        ", [ 7 ,  7 ] # 6\n",
        ", [ 2 ,  2 ] # 7\n",
        ", [ _ ,  _ ] # 8\n",
        "]"
      ],
      "metadata": {
        "id": "cHL2_MbOsUlo"
      },
      "execution_count": null,
      "outputs": []
    },
    {
      "cell_type": "markdown",
      "source": [
        "---\n",
        "**Problem 16:** Build an FA such that when the labels *a* and *b* are swapped the new machine is different from the old one but equivalent (the language defined by these machines is the same).\n",
        "\n",
        "**Answer 16:**"
      ],
      "metadata": {
        "id": "84LuF9RDJm8w"
      }
    },
    {
      "cell_type": "markdown",
      "source": [
        "---\n",
        "**Problem 17:**\n",
        "\n",
        "**Answer 17:**\n",
        "- $(aa+ab+ba+bb)a$\n",
        "- $(a+b)(aa+ab+ba+bb)a$\n",
        "- $(aa+ba)(aa+ba)^{*}$"
      ],
      "metadata": {
        "id": "ClLPMlv-JnD3"
      }
    },
    {
      "cell_type": "markdown",
      "source": [
        "---\n",
        "**Problem 18:**\n",
        "\n",
        "**Answer 18:**"
      ],
      "metadata": {
        "id": "LamdorERJnK9"
      }
    },
    {
      "cell_type": "markdown",
      "source": [
        "---\n",
        "**Problem 19:**\n",
        "\n",
        "**Answer 19:**"
      ],
      "metadata": {
        "id": "QqoIKGRVJnR6"
      }
    },
    {
      "cell_type": "markdown",
      "source": [
        "---\n",
        "**Problem 20:**\n",
        "\n",
        "**Answer 20:**"
      ],
      "metadata": {
        "id": "fV4oK9NkJnYI"
      }
    }
  ]
}