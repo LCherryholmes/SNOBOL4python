{
  "nbformat": 4,
  "nbformat_minor": 0,
  "metadata": {
    "colab": {
      "provenance": []
    },
    "kernelspec": {
      "name": "python3",
      "display_name": "Python 3"
    },
    "language_info": {
      "name": "python"
    }
  },
  "cells": [
    {
      "cell_type": "markdown",
      "source": [
        "---\n",
        "**Chapter 5: Introduction to Computer Theory by Daniel I. A. Cohen**"
      ],
      "metadata": {
        "id": "XulXWX_BJKLD"
      }
    },
    {
      "cell_type": "code",
      "source": [
        "!pip install SNOBOL4python==0.4.5"
      ],
      "metadata": {
        "id": "mcSv680JyL_L"
      },
      "execution_count": null,
      "outputs": []
    },
    {
      "cell_type": "code",
      "source": [
        "import re\n",
        "from graphviz import Digraph\n",
        "from itertools import product\n",
        "from pprint import pformat, pprint\n",
        "from IPython.display import display, Latex, Markdown\n",
        "import sys\n",
        "from pprint import pprint, pformat\n",
        "## Thirty one (31) flavors of patterns to choose from ...\n",
        "from SNOBOL4python import ε, σ, π, λ, Λ, ζ, θ, Θ, φ, Φ, α, ω\n",
        "from SNOBOL4python import ABORT, ANY, ARB, ARBNO, BAL, BREAK, BREAKX, FAIL\n",
        "from SNOBOL4python import FENCE, LEN, MARB, MARBNO, NOTANY, POS, REM, RPOS\n",
        "from SNOBOL4python import RTAB, SPAN, SUCCESS, TAB\n",
        "# Miscellaneous\n",
        "from SNOBOL4python import GLOBALS, TRACE, PATTERN, STRING\n",
        "from SNOBOL4python import ALPHABET, DIGITS, UCASE, LCASE, NULL\n",
        "from SNOBOL4python import nPush, nInc, nPop, Shift, Reduce, Pop\n",
        "# Instantiate the global variable space\n",
        "GLOBALS(globals())\n",
        "FA = dict()"
      ],
      "metadata": {
        "id": "66TDlYVVanqP"
      },
      "execution_count": null,
      "outputs": []
    },
    {
      "cell_type": "code",
      "source": [
        "def display_dfa(fa):\n",
        "    dot = Digraph()\n",
        "    dot.attr(rankdir='LR')\n",
        "    dot.attr(bgcolor='black')\n",
        "    dot.attr('node', style='filled', fillcolor='black', fontcolor='white', color='white')\n",
        "    dot.attr('edge', color='white', fontcolor='white')\n",
        "    Σ = fa[0][1:]\n",
        "    Δ = fa[1:]\n",
        "    for i, δ in enumerate(Δ):\n",
        "        q = δ[0]\n",
        "        is_start = False\n",
        "        is_finish = False\n",
        "        if m := re.match(r\"^\\-(.*)$\", q): is_start = True;  q = m.groups(1)[0]\n",
        "        if m := re.match(r\"^\\+(.*)$\", q): is_finish = True; q = m.groups(1)[0]\n",
        "        if is_finish: dot.node(str(i+1), shape='doublecircle')\n",
        "        else:         dot.node(str(i+1), shape='circle')\n",
        "        if is_start:\n",
        "            dot.node('', width='0', height='0', margin='0', shape='point', style='invis')\n",
        "            dot.edge('', str(i+1), )\n",
        "    for i, δ in enumerate(Δ):\n",
        "        for j in range(1, len(δ)):\n",
        "            dot.edge(str(i+1), str(δ[j]), label=Σ[j-1])\n",
        "    dot.render('dfa', format='png', cleanup=False)  # Saves as dfa.png\n",
        "    display(dot)"
      ],
      "metadata": {
        "id": "fX8q7id8P7zI"
      },
      "execution_count": null,
      "outputs": []
    },
    {
      "cell_type": "code",
      "source": [
        "def compile_fa(fa_table):\n",
        "    header = fa_table[0][1:]\n",
        "    states = fa_table[1:]\n",
        "    start_state = None\n",
        "    accepting_states = set()\n",
        "    transitions = {}\n",
        "    for row in states:\n",
        "        state_label = row[0]\n",
        "        state_num = int(state_label.lstrip('+-'))\n",
        "        if state_label.startswith('-'):\n",
        "            start_state = state_num\n",
        "        if state_label.startswith('+') or state_label.startswith('-+'):\n",
        "            accepting_states.add(state_num)\n",
        "        transitions[state_num] = {}\n",
        "        for symbol, next_state in zip(header, row[1:]):\n",
        "            transitions[state_num][symbol] = next_state\n",
        "    if start_state is None:\n",
        "        raise ValueError(\"No start state defined in FA table.\")\n",
        "    return start_state, header, transitions, accepting_states"
      ],
      "metadata": {
        "id": "X0zUpP-PaI_a"
      },
      "execution_count": null,
      "outputs": []
    },
    {
      "cell_type": "code",
      "source": [
        "def run_fsm(input_str, start_state, header, transitions, accepting_states):\n",
        "    current_state = start_state\n",
        "    for ch in input_str:\n",
        "        if ch not in header:\n",
        "            raise ValueError(f\"Invalid input symbol: {ch}\")\n",
        "        current_state = transitions[current_state][ch]\n",
        "    accepted = current_state in accepting_states\n",
        "    return accepted, current_state"
      ],
      "metadata": {
        "id": "xqwD1QrliX3A"
      },
      "execution_count": null,
      "outputs": []
    },
    {
      "cell_type": "code",
      "source": [
        "def show_samples(table):\n",
        "    accepted = []\n",
        "    rejected = []\n",
        "    alphabet = table[0][1:]\n",
        "    fsm = compile_fa(table)\n",
        "    for length in range(0, 8):\n",
        "        for combo in product(alphabet, repeat=length):\n",
        "            word = ''.join(combo)\n",
        "            is_accepted, _ = run_fsm(word, *fsm)\n",
        "            if is_accepted:\n",
        "                accepted.append(word)\n",
        "            else: rejected.append(word)\n",
        "    return accepted, rejected"
      ],
      "metadata": {
        "id": "UfWeCYsIcids"
      },
      "execution_count": null,
      "outputs": []
    },
    {
      "cell_type": "code",
      "source": [
        "import textwrap\n",
        "def display_problem(problem_name, verbose=True):\n",
        "    problem = FA[problem_name]\n",
        "    display(Latex(problem[0]))\n",
        "    display_dfa(problem[2])\n",
        "    accepted, rejected = show_samples(problem[2])\n",
        "    if (verbose):\n",
        "        print(\"Accepted:\")\n",
        "        print(textwrap.fill(\" \".join(accepted), width=80))\n",
        "        print()\n",
        "        print(\"Rejected:\")\n",
        "        print(textwrap.fill(\" \".join(rejected), width=80))"
      ],
      "metadata": {
        "id": "1y_q05x7J2Uv"
      },
      "execution_count": null,
      "outputs": []
    },
    {
      "cell_type": "markdown",
      "source": [
        "---\n",
        "**Problem 1:** Write out the transition tables for the FAs on pp. 56, 58 (both), 63, 64, and 69 that were defined by pictures.\n",
        "\n",
        "**Answer 1:** *See below*"
      ],
      "metadata": {
        "id": "pH0DVXDdJega"
      }
    },
    {
      "cell_type": "code",
      "source": [
        "#-------------------------------------------------------------------------------\n",
        "FA['pg_56'] = (\\\n",
        "  \"$(a+b)^{*}b(a+b)^{*}$\"\n",
        ", ARBNO(σ('a') | σ('b')) + σ('b') + ARBNO(σ('a') | σ('b'))\n",
        ", [ [  ' ', 'a', 'b']\n",
        "  , [ '-1',  2 ,  3]\n",
        "  , [  '2',  1 ,  3]\n",
        "  , [ '+3',  3 ,  3]\n",
        "  ])\n",
        "#-------------------------------------------------------------------------------\n",
        "display_problem('pg_56')"
      ],
      "metadata": {
        "id": "o9_KZTCfg7xC"
      },
      "execution_count": null,
      "outputs": []
    },
    {
      "cell_type": "code",
      "source": [
        "#-------------------------------------------------------------------------------\n",
        "FA['pg_58_1'] = (\\\n",
        "  \"$(a+b)(a+b)^{*}$\"\n",
        ", SPAN('ab')\n",
        ", [ [  ' ', 'a', 'b']\n",
        "  , [ '-1',  2 ,  2 ]\n",
        "  , [ '+2',  2 ,  2 ]\n",
        "  ])\n",
        "#-------------------------------------------------------------------------------\n",
        "display_problem('pg_58_1')"
      ],
      "metadata": {
        "id": "i7WcRyyuLvVp"
      },
      "execution_count": null,
      "outputs": []
    },
    {
      "cell_type": "code",
      "source": [
        "#-------------------------------------------------------------------------------\n",
        "FA['pg_58_2'] = (\\\n",
        "  \"$(a+b)^{*}$\"\n",
        ", SPAN('ab') | ε()\n",
        ", [ [  ' ', 'a', 'b']\n",
        "  , ['-+1',  1 ,  1 ]\n",
        "  ])\n",
        "#-------------------------------------------------------------------------------\n",
        "display_problem('pg_58_2')"
      ],
      "metadata": {
        "id": "B8jLTDZ-L0Xu"
      },
      "execution_count": null,
      "outputs": []
    },
    {
      "cell_type": "code",
      "source": [
        "#-------------------------------------------------------------------------------\n",
        "FA['pg_63'] = (\\\n",
        "  \"$(a+b)^{*}(aa+bb)(a+b)^{*}$\"\n",
        ", ARBNO(σ('a') | σ('b')) + (σ('aa') | σ('bb')) + ARBNO(σ('a') | σ('b'))\n",
        ", [ [  ' ', 'a', 'b']\n",
        "  , [ '-1',  2 ,  3 ]\n",
        "  , [  '2',  4 ,  3 ]\n",
        "  , [  '3',  2 ,  4 ]\n",
        "  , [ '+4',  4 ,  4 ]\n",
        "  ])\n",
        "#-------------------------------------------------------------------------------\n",
        "display_problem('pg_63')"
      ],
      "metadata": {
        "id": "_gM1mV7xL0jz"
      },
      "execution_count": null,
      "outputs": []
    },
    {
      "cell_type": "code",
      "source": [
        "#-------------------------------------------------------------------------------\n",
        "FA['pg_64'] = (\\\n",
        "  \"$(a+b)(a+b)b(a+b)*$\"\n",
        ", (σ('aaa') | σ('bbb')) + ARBNO(σ('a') | σ('b'))\n",
        ", [ [  ' ', 'a', 'b']\n",
        "  , [ '-1',  2 ,  2 ]\n",
        "  , [  '2',  3 ,  3 ]\n",
        "  , [  '3',  4 ,  5 ]\n",
        "  , [  '4',  4 ,  4 ]\n",
        "  , [ '+5',  5 ,  5 ]\n",
        "  ])\n",
        "#-------------------------------------------------------------------------------\n",
        "display_problem('pg_64')"
      ],
      "metadata": {
        "id": "d9rWJ8y-L02E"
      },
      "execution_count": null,
      "outputs": []
    },
    {
      "cell_type": "code",
      "source": [
        "# pg_69\n",
        "na = nb = 0\n",
        "def init(): na = nb = 0; return True\n",
        "def acnt(): global na; na += 1; return True\n",
        "def bcnt(): global nb; nb += 1; return True\n",
        "FA['EVEN_EVEN'] = (\\\n",
        "  \"$(aa+bb+(ab+ba)(aa+bb)^{*}(ab+ba))^{*}$\"\n",
        ", POS(0) + Λ(\"init()\")\n",
        "+ ARBNO(\n",
        "    σ('a') + λ(\"acnt()\")\n",
        "  | σ('b') + λ(\"bcnt()\")\n",
        "  )\n",
        "+ RPOS(0) + λ(\"a % 2 == 0 and b % 2 == 0\")\n",
        ", [ [  ' ', 'a', 'b']\n",
        "  , ['-+1',  3 ,  2 ]\n",
        "  , [  '2',  4 ,  1 ]\n",
        "  , [  '3',  1 ,  4 ]\n",
        "  , [  '4',  2 ,  3 ]\n",
        "  ])\n",
        "#-------------------------------------------------------------------------------\n",
        "display_problem('EVEN_EVEN')"
      ],
      "metadata": {
        "id": "EAOYDFfhL1Ku"
      },
      "execution_count": null,
      "outputs": []
    },
    {
      "cell_type": "markdown",
      "source": [
        "---\n",
        "**Problem 2:** Build an FA that accepts only the language of all words with b as the second letter. Show both the picture and the transition table for this machine and find a regular expression for the language.\n",
        "\n",
        "**Answer 2:**\n",
        "\n",
        "RE = $(a + b)b(a+b)^{*}$"
      ],
      "metadata": {
        "id": "ZtdnMh6IJlQh"
      }
    },
    {
      "cell_type": "code",
      "source": [
        "#-------------------------------------------------------------------------------\n",
        "FA['prob5_2'] = (\\\n",
        "  \"$(a+b)b(a+b)^{*}$\"\n",
        ", ANY(\"ab\") + σ('b') + ARBNO(σ('a') | σ('b'))\n",
        ", [ [  ' ','a', 'b']\n",
        "  , [ '-1', 2 ,  2 ]\n",
        "  , [  '2', 3 ,  4 ]\n",
        "  , [  '3', 3 ,  3 ]\n",
        "  , [ '+4', 4 ,  4 ]\n",
        "  ])\n",
        "#-------------------------------------------------------------------------------\n",
        "display_problem('prob5_2')"
      ],
      "metadata": {
        "id": "IwvSBLtWlDcv"
      },
      "execution_count": null,
      "outputs": []
    },
    {
      "cell_type": "markdown",
      "source": [
        "---\n",
        "**Problem 3:** Build an FA that accepts only the words baa, ab, and abb and no other strings longer or shorter.\n",
        "\n",
        "**Answer 3:**\n",
        "\n",
        "RE = $(ab(Λ + b)+baa)$"
      ],
      "metadata": {
        "id": "-LFG4P6hJlXm"
      }
    },
    {
      "cell_type": "code",
      "source": [
        "#-------------------------------------------------------------------------------\n",
        "FA['prob5_3'] = (\\\n",
        "  \"$(ab(Λ + b)+baa)$\"\n",
        ", σ('baa') | σ('ab') | σ('abb')\n",
        ", [ [  ' ','a', 'b']\n",
        "  , [ '-1', 2 ,  5 ]\n",
        "  , [  '2', 8 ,  3 ]\n",
        "  , [ '+3', 8 ,  4 ]\n",
        "  , [ '+4', 8 ,  8 ]\n",
        "  , [  '5', 6 ,  8 ]\n",
        "  , [  '6', 7 ,  8 ]\n",
        "  , [ '+7', 8 ,  8 ]\n",
        "  , [  '8', 8 ,  8 ]\n",
        "  ])\n",
        "#-------------------------------------------------------------------------------\n",
        "display_problem('prob5_3')"
      ],
      "metadata": {
        "id": "5Ovr5F-emEED"
      },
      "execution_count": null,
      "outputs": []
    },
    {
      "cell_type": "markdown",
      "source": [
        "---\n",
        "**Problem 4:**\n",
        "* (i) Build an FA with the three states that accepts all strings.\n",
        "* (ii) Show that given any FA with three states and three *+*'s, it accepts all input strings.\n",
        "* (iii) If an FA has three states and only one *+*, must it reject some inputs?\n",
        "\n",
        "**Answer 4:**\n",
        "- *See below*\n",
        "- follows from the pigeon-hole principle\n",
        "- No."
      ],
      "metadata": {
        "id": "IyWbBjIvJle0"
      }
    },
    {
      "cell_type": "code",
      "source": [
        "FA['prob5_4'] = (\\\n",
        "  \"$(a+b)(a+b)(a+b)^{*}$\"\n",
        ", ARBNO(σ('a') | σ('b'))\n",
        ", [ [ ' ' , 'a', 'b']\n",
        "  , ['-+1',  2 ,  2 ]\n",
        "  , [ '+2',  3 ,  3 ]\n",
        "  , [ '+3',  3 ,  3 ]\n",
        "  ])\n",
        "#-------------------------------------------------------------------------------\n",
        "display_problem('prob5_4')"
      ],
      "metadata": {
        "id": "Ps2SwUaQoi_k"
      },
      "execution_count": null,
      "outputs": []
    },
    {
      "cell_type": "markdown",
      "source": [
        "---\n",
        "**Problem 5:**\n",
        "* (i) Build an FA that accepts only those words that have more that four letters.\n",
        "* (ii) Build an FA that accepts only those words that have fewer than four letters.\n",
        "* (iii) Build an FA that accepts only those words with exactly four letters.\n",
        "\n",
        "**Answer 5:**\n",
        "- RE: $\\quad (a+b)^{5}(a+b)^{*}$\n",
        "- RE: $\\quad Λ+a+b+(Λ+a+b+(Λ+a+b)), \\quad (Λ+a+b)^3$\n",
        "- RE: $\\quad (a+b)(a+b)(a+b)(a+b), \\quad (a+b)^4$"
      ],
      "metadata": {
        "id": "44dMX2vLJlla"
      }
    },
    {
      "cell_type": "code",
      "source": [
        "FA['prob5_5_1'] = (\\\n",
        "  \"$(a+b)(a+b)(a+b)(a+b)(a+b)(a+b)^{*}$\"\n",
        ", SPAN(\"ab\") @ \"tx\" + Λ(\"len(tx) > 4\")\n",
        ", [ [  ' ', 'a', 'b']\n",
        "  , [ '-1',  2 ,  2 ]\n",
        "  , [  '2',  3 ,  3 ]\n",
        "  , [  '3',  4 ,  4 ]\n",
        "  , [  '4',  5 ,  5 ]\n",
        "  , [  '5',  6 ,  6 ]\n",
        "  , [ '+6',  6 ,  6 ]\n",
        "  ])\n",
        "#-------------------------------------------------------------------------------\n",
        "display_problem('prob5_5_1')"
      ],
      "metadata": {
        "id": "4HL0eg95ruWy"
      },
      "execution_count": null,
      "outputs": []
    },
    {
      "cell_type": "code",
      "source": [
        "FA['prob5_5_2'] = (\\\n",
        "  \"$(Λ+a+b)(Λ+a+b)(Λ+a+b)$\"\n",
        ", SPAN(\"ab\") @ \"tx\" + Λ(\"len(tx) < 4\")\n",
        ", [ [  ' ', 'a', 'b']\n",
        "  , ['-+1',  2 ,  2 ]\n",
        "  , [ '+2',  3 ,  3 ]\n",
        "  , [ '+3',  4 ,  4 ]\n",
        "  , [ '+4',  5 ,  5 ]\n",
        "  , [  '5',  5 ,  5 ]\n",
        "  ])\n",
        "#-------------------------------------------------------------------------------\n",
        "display_problem('prob5_5_2')"
      ],
      "metadata": {
        "id": "PMFXyWtYRB18"
      },
      "execution_count": null,
      "outputs": []
    },
    {
      "cell_type": "code",
      "source": [
        "FA['prob5_5_3'] = (\\\n",
        "  \"$(a+b)(a+b)(a+b)(a+b)$\"\n",
        ", SPAN(\"ab\") @ \"tx\" + Λ(\"len(tx) == 4\")\n",
        ", [ [  ' ', 'a', 'b']\n",
        "  , [ '-1',  2 ,  2 ]\n",
        "  , [  '2',  3 ,  3 ]\n",
        "  , [  '3',  4 ,  4 ]\n",
        "  , [  '4',  5 ,  5 ]\n",
        "  , [ '+5',  6 ,  6 ]\n",
        "  , [  '6',  6 ,  6 ]\n",
        "  ])\n",
        "#-------------------------------------------------------------------------------\n",
        "display_problem('prob5_5_3')"
      ],
      "metadata": {
        "id": "HZUZ8jbqRCGb"
      },
      "execution_count": null,
      "outputs": []
    },
    {
      "cell_type": "markdown",
      "source": [
        "---\n",
        "**Problem 6:** Build an FA that accepts only those words that do *not* end with *ba*.\n",
        "\n",
        "**Answer 6:**\n",
        "RE: $Λ+a+(a+b)^{*}(b+aa)$"
      ],
      "metadata": {
        "id": "nD6JRDgVJl0Y"
      }
    },
    {
      "cell_type": "code",
      "source": [
        "FA['prob5_6'] = (\\\n",
        "  \"$Λ+a+(a+b)^{*}(b+aa)$\"\n",
        ", ARBNO(σ('a') + σ('b')) + σ('ba') + RPOS(0) + FAIL()\n",
        ", [ [  ' ' , 'a', 'b']\n",
        "  , ['-+1' ,  1 ,  2 ]\n",
        "  , [ '+2' ,  3 ,  2 ]\n",
        "  , [  '3' ,  1 ,  2 ]])\n",
        "#-------------------------------------------------------------------------------\n",
        "display_problem('prob5_6')"
      ],
      "metadata": {
        "id": "w3oO14d8sDnf"
      },
      "execution_count": null,
      "outputs": []
    },
    {
      "cell_type": "markdown",
      "source": [
        "---\n",
        "**Problem 7:** Build an FA that accepts only those words that begin or end with a double letter.\n",
        "\n",
        "**Answer 7:** RE: $\\quad (aa+bb)(a+b)^{*}+(a+b)^{*}(aa+bb)$"
      ],
      "metadata": {
        "id": "U15TRzybJl7F"
      }
    },
    {
      "cell_type": "code",
      "source": [
        "FA['prob5_7'] = (\\\n",
        "  \"$(aa+bb)(a+b)^{*}+(a+b)^{*}(aa+bb)$\"\n",
        ", ( POS(0) + (σ('aa') | σ('bb')) + ARB()\n",
        "  | (σ('aa') | σ('bb')) + ARB() + RPOS(0)\n",
        "  )\n",
        ", [ [   ' ', 'a', 'b']\n",
        "  , [  '-1',  2 ,  4 ]\n",
        "  , [   '2',  3 ,  6 ]\n",
        "  , [  '+3',  3 ,  3 ]\n",
        "  , [   '4',  7 ,  5 ]\n",
        "  , [  '+5',  5 ,  5 ]\n",
        "  , [   '6',  7 ,  8 ]\n",
        "  , [   '7',  9 ,  6 ]\n",
        "  , [  '+8',  7 ,  8 ]\n",
        "  , [  '+9',  9 ,  7 ]\n",
        "  ])\n",
        "#-------------------------------------------------------------------------------\n",
        "display_problem('prob5_7')"
      ],
      "metadata": {
        "id": "frl8YBPHsHKj"
      },
      "execution_count": null,
      "outputs": []
    },
    {
      "cell_type": "markdown",
      "source": [
        "---\n",
        "**Problem 8:** Build an FA that accepts only those words that have an even number of substrings *ab*.\n",
        "\n",
        "**Answer 8: ???**\n",
        "- RE: $\\quad (abab)^{*}$\n",
        "- RE: $\\quad (aa^{*}bb^{*}aa^{*}bb^{*})^{*}$"
      ],
      "metadata": {
        "id": "PKcqkKwxJmC7"
      }
    },
    {
      "cell_type": "code",
      "source": [
        "FA['prob5_8_1'] = (\\\n",
        "  \"$(abab)^{*}$\"\n",
        ", ARBNO(σ('abab'))\n",
        ", [ [  ' ', 'a', 'b']\n",
        "  , [ '-1',  2 ,  6 ]\n",
        "  , [  '2',  6 ,  3 ]\n",
        "  , [  '3',  4 ,  6 ]\n",
        "  , [  '4',  6 ,  5 ]\n",
        "  , [ '+5',  2 ,  6 ]\n",
        "  , [  '6',  6 ,  6 ]])\n",
        "#-------------------------------------------------------------------------------\n",
        "display_problem('prob5_8_1')"
      ],
      "metadata": {
        "id": "1WFI-oX0sMIJ"
      },
      "execution_count": null,
      "outputs": []
    },
    {
      "cell_type": "code",
      "source": [
        "FA['prob5_8_2'] = (\\\n",
        "  \"$(aa^{*}bb^{*}aa^{*}bb^{*})^{*}$\"\n",
        ", ARBNO(\n",
        "    σ('a') + ARBNO(σ('a')) + σ('b') + ARBNO(σ('b'))\n",
        "  + σ('a') + ARBNO(σ('a')) + σ('b') + ARBNO(σ('b'))\n",
        "  )\n",
        ", [ [   ' ', 'a', 'b']\n",
        "  , [ '-+1',  2 ,  1 ]\n",
        "  , [   '2',  2 ,  3 ]\n",
        "  , [   '3',  4 ,  3 ]\n",
        "  , [   '4',  4 ,  1 ]\n",
        "  ])\n",
        "#-------------------------------------------------------------------------------\n",
        "display_problem('prob5_8_2')"
      ],
      "metadata": {
        "id": "qg1esDfVTJSN"
      },
      "execution_count": null,
      "outputs": []
    },
    {
      "cell_type": "markdown",
      "source": [
        "---\n",
        "**Problem 9:**\n",
        "* (i) Recall from Chapter 4 the language of all words over the alphabet {*a b*} that have both the letter *a* and the letter *b* in them, but not necessarily in that order. Build an FA that accepts this language.\n",
        "* (ii) Build an FA that accepts the language of all words with only *a*'s or only *b*'s in them. Give a regular expression for this language.\n",
        "\n",
        "**Answer 9:**\n",
        "- (i) RE: $(a+b)^{*}(ab+ba)(a+b)^{*}$ or $\\quad (aa^{*}b+bb^{*}a)(a+b)^{*}$\n",
        "- (ii) RE: $aa^{*}+bb^{*}$\n"
      ],
      "metadata": {
        "id": "jSqexNdIJmKJ"
      }
    },
    {
      "cell_type": "code",
      "source": [
        "FA['prob5_9_1'] = (\\\n",
        "  \"$(a+b)^{*}(ab+ba)(a+b)^{*}$\"\n",
        ", ARB() + σ('a') + ARB() + σ('b') + ARB()\n",
        "| ARB() + σ('b') + ARB() + σ('a') + ARB()\n",
        ", [ [  ' ', 'a', 'b']\n",
        "  , [ '-1',  2 ,  3 ]\n",
        "  , [  '2',  2 ,  4 ]\n",
        "  , [  '3',  4 ,  3 ]\n",
        "  , [ '+4',  4 ,  4 ]])\n",
        "#-------------------------------------------------------------------------------\n",
        "display_problem('prob5_9_1')"
      ],
      "metadata": {
        "id": "a0i2R8o-8Fw5"
      },
      "execution_count": null,
      "outputs": []
    },
    {
      "cell_type": "code",
      "source": [
        "FA['prob5_9_2'] = (\\\n",
        "  \"$aa^{*}+bb^{*}$\"\n",
        ", SPAN(\"a\") | SPAN(\"b\")\n",
        ", [ [  ' ', 'a', 'b']\n",
        "  , [ '-1',  2 ,  3 ]\n",
        "  , [ '+2',  2 ,  4 ]\n",
        "  , [ '+3',  4 ,  3 ]\n",
        "  , [  '4',  4 ,  4 ]])\n",
        "#-------------------------------------------------------------------------------\n",
        "display_problem('prob5_9_2')"
      ],
      "metadata": {
        "id": "scUJ4hptTtSD"
      },
      "execution_count": null,
      "outputs": []
    },
    {
      "cell_type": "markdown",
      "source": [
        "---\n",
        "**Problem 10:** Consider all the possible FAs over the alphabet { a, b } that have exactly two states. An FA must have a designated start state, but there are four possible ways to place the *+*'s:\n",
        "\n",
        "Type 1: ['-',  '']\n",
        "Type 2: ['-+', '']\n",
        "Type 3: ['-',  '+']\n",
        "Type 4: ['-+', '+']\n",
        "\n",
        "Each FA needs four edges (two from each state), each of which can lead to either of the states. There are $2^{4}=16$ ways to arrange the labeled edges for each of the four types of FAs. Therefore, in total there are 64 different FAs of two states. However, they do not represent 64 non-equivalent FAs because they are not all associated with different languages. All type 1 FAs do not accept any words at all, whereas all FAs of type 4 accepts all strings of *a*'s and *b*'s.\n",
        "\n",
        "* (i) Draw the remaining FAs of type 2.\n",
        "* (ii) Draw the remaining FAs of type 3.\n",
        "* (iii) Recalculate the total number of two-state machines using the transition table definition.\n",
        "\n",
        "**Book answer 10:**\n",
        "\n",
        "* (i-ii) *See below*\n",
        "* (iii) Transition tables for a two-state machine has four cells, two rows by two columns. Each may be filled with 1 or 2. So there are $2^4$ possibilities. There are still the same four ways to designate final states. Hence the total number of different transition tables is, surprise, 64, 2^4*4."
      ],
      "metadata": {
        "id": "I4Ss6kMeJmQ-"
      }
    },
    {
      "cell_type": "code",
      "source": [
        "import itertools\n",
        "FA_template = (\\\n",
        "  \"\"\n",
        ", ARB()\n",
        ", [ [ ' ', 'a', 'b']\n",
        "  , [ '1',  0 ,  0 ]\n",
        "  , [ '2',  0 ,  0 ]])\n",
        "#-------------------------------------------------------------------------------\n",
        "for t in range(1,3):\n",
        "    for i, combo in enumerate(itertools.product([1, 2], repeat=4)):\n",
        "        name = f\"prob_10_{i}\"\n",
        "        if t == 1:\n",
        "            FA_template[2][1][0] = '-+1'\n",
        "            FA_template[2][2][0] = '2'\n",
        "        if t == 2:\n",
        "            FA_template[2][1][0] = '-1'\n",
        "            FA_template[2][2][0] = '+2'\n",
        "        FA_template[2][1][1] = combo[0]\n",
        "        FA_template[2][1][2] = combo[1]\n",
        "        FA_template[2][2][1] = combo[2]\n",
        "        FA_template[2][2][2] = combo[3]\n",
        "        FA[name] = FA_template\n",
        "        display_problem(name)"
      ],
      "metadata": {
        "id": "Er_5Gy-ePy_q"
      },
      "execution_count": null,
      "outputs": []
    },
    {
      "cell_type": "markdown",
      "source": [
        "---\n",
        "**Problem 11:** Show that there are exactly 5832 different finite automata with three states *x* *y*, *z* over the alphabet {*a b*}, where *x* is always the start state.\n",
        "\n",
        "**Answer 11:** $1*2^3*3^6=5832$"
      ],
      "metadata": {
        "id": "XW6E7jjIJmZE"
      }
    },
    {
      "cell_type": "markdown",
      "source": [
        "---\n",
        "**Problem 12:** Suppose a particular FA, called FIN, has the property that it had only one final state that was not the start state. During the night, vandals come and switch the *+* sign with the *-* sign and reverse the direction of all the edges.\n",
        "* (i) Show that the picture that results might not actually be an FA at all by giving an example.\n",
        "* (ii) Suppose, however, that in a particular case what resulted was, in fact, a perfectly good FA. Let us call it NIF. Give an example of one such machine.\n",
        "* (iii) What is the relationship between the language accepted by FIN and the language accepted by NIF as described in part (ii)? Why?\n",
        "* (iv) One of the vandals told me that if in FIN the plus state and the minus state were the same state, then the language accepted by the machine could contain only palindromic words. Defeat this vandal by example.\n",
        "\n",
        "**Answer 12:**\n",
        "* (i) Any FA with a state having more than one incoming of the same character is problematic\n",
        "* (ii) Ensuring one of each in and out for each character of every state\n",
        "* (iii) The language accepted by NIF is the reverse of every word in the language accepted by FIN. For every path from one state to another in FIN, the exact reverse path exists in NIF."
      ],
      "metadata": {
        "id": "C-JT_BUwJmgK"
      }
    },
    {
      "cell_type": "code",
      "source": [
        "FA['prob5_12_1'] = (\\\n",
        "  \"\"\n",
        ", ARB()\n",
        ", [ [  ' ', 'a', 'b']\n",
        "  , [ '-1',  2 ,  3 ]\n",
        "  , [  '2',  2 ,  3 ]\n",
        "  , [ '+3',  3 ,  3 ]])\n",
        "#-------------------------------------------------------------------------------\n",
        "display_problem('prob5_12_1')"
      ],
      "metadata": {
        "id": "FcDC47LZCrqE"
      },
      "execution_count": null,
      "outputs": []
    },
    {
      "cell_type": "code",
      "source": [
        "FA['prob5_12_2'] = (\\\n",
        "  \"\"\n",
        ", ARB()\n",
        ", [ [  ' ', 'a', 'b']\n",
        "  , [ '-1',  2 ,  3 ]\n",
        "  , [  '2',  3 ,  1 ]\n",
        "  , [ '+3',  1 ,  2 ]])\n",
        "#-------------------------------------------------------------------------------\n",
        "display_problem('prob5_12_2')"
      ],
      "metadata": {
        "id": "qC5W_oCnGGTl"
      },
      "execution_count": null,
      "outputs": []
    },
    {
      "cell_type": "code",
      "source": [
        "FA['prob5_12_3'] = (\\\n",
        "  \"\"\n",
        ", ARB()\n",
        ", [ [  ' ', 'a', 'b']\n",
        "  , ['-+1',  2 ,  3 ]\n",
        "  , [  '2',  3 ,  1 ]\n",
        "  , [  '3',  1 ,  2 ]])\n",
        "#-------------------------------------------------------------------------------\n",
        "display_problem('prob5_12_3')"
      ],
      "metadata": {
        "id": "5ovflKMSLBE-"
      },
      "execution_count": null,
      "outputs": []
    },
    {
      "cell_type": "markdown",
      "source": [
        "---\n",
        "**Problem 13:** We define a removable state as a state such that if we erase the state itself and the edges that come out of it, what results is a perfectly good-looking FA.\n",
        "* (i) Give an example of an FA that contains a removable state.\n",
        "* (ii) Show that if we erase a removable state the language defined by the reduced FA is exactly the same as the language defined by the old FA.\n",
        "\n",
        "**Answer 13:**\n",
        "\n",
        "* (i) *See below*\n",
        "* (ii) An FA only retains its properties if the state being removed could not actually be reached, that is a state is removable only if there are no edges coming into it. Clearly if the stae is never used it has no bearing on the language that the FA accepts."
      ],
      "metadata": {
        "id": "HCxLActoJmnP"
      }
    },
    {
      "cell_type": "code",
      "source": [
        "FA['prob5_13_1'] = (\\\n",
        "  \"\"\n",
        ", ARB()\n",
        ", [ [  ' ', 'a', 'b']\n",
        "  , [ '-1',  1 ,  1 ]\n",
        "  , [ '+2',  1 ,  2 ]])\n",
        "#-------------------------------------------------------------------------------\n",
        "display_problem('prob5_13_1')"
      ],
      "metadata": {
        "id": "94ZSKZmTLVaZ"
      },
      "execution_count": null,
      "outputs": []
    },
    {
      "cell_type": "markdown",
      "source": [
        "---\n",
        "**Problem 14:**\n",
        "* (i) Build an FA that accepts the language of all strings of *a*'s and *b*'s such that the next to the last letter is an *a*.\n",
        "* (ii) Build an FA that accepts the language of all strings of length 4 or more such that the next-to-last letter is equal to the second letter of the input string.\n",
        "\n",
        "**Answer 14:** *See below*"
      ],
      "metadata": {
        "id": "Y7TP_cvkJmu3"
      }
    },
    {
      "cell_type": "code",
      "source": [
        "FA['prob5_14_1'] = (\\\n",
        "  \"\"\n",
        ", ARB()\n",
        ", [ [  ' ', 'a', 'b']\n",
        "  , [ '-1',  2 ,  1 ]\n",
        "  , [  '2',  3 ,  4 ]\n",
        "  , [ '+3',  3 ,  4 ]\n",
        "  , [ '+4',  3 ,  1 ]])\n",
        "#-------------------------------------------------------------------------------\n",
        "display_problem('prob5_14_1', verbose=True)"
      ],
      "metadata": {
        "id": "cHL2_MbOsUlo"
      },
      "execution_count": null,
      "outputs": []
    },
    {
      "cell_type": "code",
      "source": [
        "FA['prob5_14_2'] = (\\\n",
        "  \"\"\n",
        ", ARB()\n",
        ", [ [  ' ', 'a', 'b']\n",
        "  , [ '-1',  2 ,  2 ]\n",
        "  , [  '2',  3 ,  7 ]\n",
        "  , [  '3',  4 ,  3 ]\n",
        "  , [  '4',  5 ,  6 ]\n",
        "  , [ '+5',  5 ,  6 ]\n",
        "  , [ '+6',  5 ,  3 ]\n",
        "  , [  '7',  7 ,  8 ]\n",
        "  , [  '8', 10 ,  9 ]\n",
        "  , [ '+9', 10 ,  9 ]\n",
        "  , ['+10',  7 ,  9 ]])\n",
        "#-------------------------------------------------------------------------------\n",
        "display_problem('prob5_14_2', verbose=True)"
      ],
      "metadata": {
        "id": "M-YwGxuLSsWw"
      },
      "execution_count": null,
      "outputs": []
    },
    {
      "cell_type": "markdown",
      "source": [
        "---\n",
        "**Problem 15:** Build a machine that accepts all strings that have an even length that is not divisible by 6."
      ],
      "metadata": {
        "id": "c0FgjILrJm1s"
      }
    },
    {
      "cell_type": "markdown",
      "source": [
        "---\n",
        "**Problem 16:** Build an FA such that when the labels *a* and *b* are swapped the new machine is different from the old one but equivalent (the language defined by these machines is the same).\n",
        "\n",
        "**Answer 16:** *See below*"
      ],
      "metadata": {
        "id": "84LuF9RDJm8w"
      }
    },
    {
      "cell_type": "code",
      "source": [
        "FA['prob5_16'] = (\\\n",
        "  \"$(aa+ab+ba+bb)a$\"\n",
        ", ARB\n",
        ", [ [  ' ', 'a', 'b']\n",
        "  , [ '-1',  _ ,  _ ]\n",
        "  , [ '+2',  _ ,  _ ]\n",
        "  , [  '3',  _ ,  _ ]\n",
        "  , [  '4',  _ ,  _ ]])\n",
        "#-------------------------------------------------------------------------------\n",
        "display_problem('prob5_17_1')"
      ],
      "metadata": {
        "id": "wM3c9wI0Fvbe"
      },
      "execution_count": null,
      "outputs": []
    },
    {
      "cell_type": "markdown",
      "source": [
        "---\n",
        "**Problem 17:**\n",
        "* (i-iii) Describe in English the languages accepted by the following FAs.\n",
        "* (iv) Write regular expressions for the languages accepted by these three machines.\n",
        "\n",
        "**Answer 17:**\n",
        "* (i) odd-length sequence ending in *a*\n",
        "* (ii) non-null even-length sequence ending in *a*\n",
        "* (iii) non-null even-length sequence of *xa*\n",
        "* (iv) *See below*\n"
      ],
      "metadata": {
        "id": "ClLPMlv-JnD3"
      }
    },
    {
      "cell_type": "code",
      "source": [
        "FA['prob5_17_1'] = (\\\n",
        "  \"$(aa+ab+ba+bb)a$\"\n",
        ", ARB\n",
        ", [ [  ' ', 'a', 'b']\n",
        "  , [  '1',  2 ,  2 ]\n",
        "  , [ '-2',  3 ,  1 ]\n",
        "  , [ '+3',  2 ,  2 ]])\n",
        "#-------------------------------------------------------------------------------\n",
        "display_problem('prob5_17_1')"
      ],
      "metadata": {
        "id": "zuxqwT8Cj5dF"
      },
      "execution_count": null,
      "outputs": []
    },
    {
      "cell_type": "code",
      "source": [
        "FA['prob5_17_2'] = (\\\n",
        "  \"$(a+b)(aa+ab+ba+bb)a$\"\n",
        ", ARB\n",
        ", [ [  ' ', 'a', 'b']\n",
        "  , [ '-1',  2 ,  2 ]\n",
        "  , [  '2',  3 ,  4 ]\n",
        "  , [ '+3',  2 ,  2 ]\n",
        "  , [  '4',  2 ,  2 ]])\n",
        "#-------------------------------------------------------------------------------\n",
        "display_problem('prob5_17_2')"
      ],
      "metadata": {
        "id": "U_8ShUcNnPWI"
      },
      "execution_count": null,
      "outputs": []
    },
    {
      "cell_type": "code",
      "source": [
        "FA['prob5_17_3'] = (\\\n",
        "  \"$(aa+ba)(aa+ba)^{*}$\"\n",
        ", ARB\n",
        ", [ [  ' ', 'a', 'b']\n",
        "  , [ '-1',  2 ,  2 ]\n",
        "  , [  '2',  3 ,  5 ]\n",
        "  , [ '+3',  4 ,  4 ]\n",
        "  , [  '4',  3 ,  5 ]\n",
        "  , [  '5',  5 ,  5 ]])\n",
        "#-------------------------------------------------------------------------------\n",
        "display_problem('prob5_17_3')"
      ],
      "metadata": {
        "id": "NVhUgBGkpEWk"
      },
      "execution_count": null,
      "outputs": []
    },
    {
      "cell_type": "markdown",
      "source": [
        "---\n",
        "**Problem 18:** The following is an FA over the alphabet $\\Sigma = \\{ a\\, b\\, c \\}$. Prove that it acepts all strings that have an odd number of ocurrences of the substring *abc*.\n",
        "\n",
        "**Answer 18:** The machine will stay in states 1, 2, or 3 until *abc* is seen leading to state 4. The machine will stay in states 4, 5, or 6 until another *abc* is seen leading to state 1, and repeat. So no occurence of *abc* seen while in states 1-3, and one occurrence seen while in states 4-6. Due to repitition, this translates to even and odd. All states 4-6 are final states."
      ],
      "metadata": {
        "id": "LamdorERJnK9"
      }
    },
    {
      "cell_type": "code",
      "source": [
        "FA['prob5_18'] = (\\\n",
        "  \"\"\n",
        ", ARB\n",
        ", [ [  ' ', 'a', 'b', 'c']\n",
        "  , [ '-1',  2 ,  1 ,  1 ]\n",
        "  , [  '2',  2 ,  3 ,  1 ]\n",
        "  , [  '3',  2 ,  1 ,  4 ]\n",
        "  , [ '+4',  5 ,  4 ,  4 ]\n",
        "  , [ '+5',  5 ,  6 ,  4 ]\n",
        "  , [ '+6',  5 ,  4 ,  1 ]])\n",
        "#-------------------------------------------------------------------------------\n",
        "display_problem('prob5_18')"
      ],
      "metadata": {
        "id": "imNNBvmAtVPk"
      },
      "execution_count": null,
      "outputs": []
    },
    {
      "cell_type": "markdown",
      "source": [
        "---\n",
        "**Problem 19:** Consider the following FA:\n",
        "* (i) Show that any input string with more than three letters is not accepted by this FA.\n",
        "* (ii) Show that the only words accepted are *a*, *aab*, and *bab*.\n",
        "* (iii) Show that by changing the location of *+* signs, we can make this FA accept the language { *bb* *aba* *bba* }.\n",
        "* (iv) Show that any language in which the words have fewer than four letters can be accepted by a machine that looks like this one with the *+* signs in different places.\n",
        "* (v) Prove that if L is a finite language, then there is some FA that accepts L extending the binary-tree part of this machine several more layers if necessary.\n",
        "\n",
        "**Book answer 19:**\n",
        "* (i) This FA starts out like a binary tree. For the first three letters of the input, each time we read a letter we reach some node on the next level. However reading any more letters traps us in the dead end state at the bottom. So no word of more than three letters can be accepted.\n",
        "* (ii) There are exactly three final states in the machine. Concatenation of the labels on the transitions to these states shows that the machine accepts the words *a*, *aab*, and *bab*.\n",
        "* (iii) Eliminate the three existing pluses. Place new pluses in each of the following states, the right-most node on level two, the third node from the left on level three, and the second node from the right also on level three.\n",
        "* (iv) Each of the 15 possible strings with less than four letters is represented by one of the nodes (excluding the dead end state). Note the lexicographic order. Simply mark those nodes that represent the words in the language with plus signs.\n",
        "* (v) Since L is finite, we can determine the longest word and then build a binary tree large enough to accommodate it. Next we add a dead end state with transitions from all the leaves and itself. For every word in L, we place a plus in the appropriate, unique state."
      ],
      "metadata": {
        "id": "QqoIKGRVJnR6"
      }
    },
    {
      "cell_type": "code",
      "source": [
        "FA['prob5_19'] = (\\\n",
        "  \"\"\n",
        ", ARB\n",
        ", [ [   ' ', 'a', 'b']\n",
        "  , [  '-1',  2 ,  3 ]\n",
        "  , [   '2',  4 ,  5 ]\n",
        "  , [   '3',  6 ,  7 ]\n",
        "  , [   '4',  8 ,  9 ]\n",
        "  , [   '5', 10 , 11 ]\n",
        "  , [   '6', 12 , 13 ]\n",
        "  , [   '7', 14 , 15 ]\n",
        "  , [   '8', 16 , 16 ]\n",
        "  , [   '9', 16 , 16 ]\n",
        "  , [  '10', 16 , 16 ]\n",
        "  , [  '11', 16 , 16 ]\n",
        "  , [  '12', 16 , 16 ]\n",
        "  , [  '13', 16 , 16 ]\n",
        "  , [  '14', 16 , 16 ]\n",
        "  , [  '15', 16 , 16 ]\n",
        "  , [  '16', 16 , 16 ]])\n",
        "#-------------------------------------------------------------------------------\n",
        "display_problem('prob5_19')"
      ],
      "metadata": {
        "id": "t_Ws-PdJygCm"
      },
      "execution_count": null,
      "outputs": []
    },
    {
      "cell_type": "markdown",
      "source": [
        "---\n",
        "**Problem 20:** Let us consider the possibility of an infinite automaton that starts with this infinite binary tree. Let L be any infinite language of strings of *a*'s and *b*s whatsoever. Show that by the judicious placement of *+*'s, we can turn the picture above into an infinite automaton to accept the language L. Show that for any given finite string, we can determine from this machine, in a finite time, whether it is a word in L. Discuss why this machine would not be a satisfactory language-definer for L.\n",
        "\n",
        "**Book answer 20:** Even though the binary tree is infinite, the machine retains the uniqueness property (of the machines described in problem 19) that the path for every string ends in a different state. Surely just by placing the plus signs in the nodes that represent words in L would constitute an infinite automata. However, the machine obviously fails to define the language because no one can write down the infintely large picture."
      ],
      "metadata": {
        "id": "fV4oK9NkJnYI"
      }
    },
    {
      "cell_type": "code",
      "source": [],
      "metadata": {
        "id": "A7wjg9W26Up8"
      },
      "execution_count": null,
      "outputs": []
    }
  ]
}