{
  "nbformat": 4,
  "nbformat_minor": 0,
  "metadata": {
    "colab": {
      "provenance": []
    },
    "kernelspec": {
      "name": "python3",
      "display_name": "Python 3"
    },
    "language_info": {
      "name": "python"
    }
  },
  "cells": [
    {
      "cell_type": "markdown",
      "source": [
        "---\n",
        "**Chapter 5: Introduction to Computer Theory by Daniel I. A. Cohen**"
      ],
      "metadata": {
        "id": "XulXWX_BJKLD"
      }
    },
    {
      "cell_type": "code",
      "source": [
        "import re\n",
        "from graphviz import Digraph\n",
        "from itertools import product\n",
        "from pprint import pformat, pprint\n",
        "from IPython.display import display, Latex, Markdown\n",
        "FA = dict()"
      ],
      "metadata": {
        "id": "66TDlYVVanqP"
      },
      "execution_count": 1,
      "outputs": []
    },
    {
      "cell_type": "code",
      "source": [
        "def display_dfa(fa):\n",
        "    dot = Digraph()\n",
        "    dot.attr(rankdir='LR')\n",
        "    dot.attr(bgcolor='black')\n",
        "    dot.attr('node', style='filled', fillcolor='black', fontcolor='white', color='white')\n",
        "    dot.attr('edge', color='white', fontcolor='white')\n",
        "    Σ = fa[0][1:]\n",
        "    Δ = fa[1:]\n",
        "    for i, δ in enumerate(Δ):\n",
        "        q = δ[0]\n",
        "        is_start = False\n",
        "        is_finish = False\n",
        "        if m := re.match(r\"^\\-(.*)$\", q): is_start = True;  q = m.groups(1)[0]\n",
        "        if m := re.match(r\"^\\+(.*)$\", q): is_finish = True; q = m.groups(1)[0]\n",
        "        if is_finish: dot.node(str(i+1), shape='doublecircle')\n",
        "        else:         dot.node(str(i+1), shape='circle')\n",
        "        if is_start:\n",
        "            dot.node('', width='0', height='0', margin='0', shape='point', style='invis')\n",
        "            dot.edge('', str(i+1), )\n",
        "    for i, δ in enumerate(Δ):\n",
        "        for j in range(1, 3):\n",
        "            dot.edge(str(i+1), str(δ[j]), label=Σ[j-1])\n",
        "    dot.render('dfa', format='png', cleanup=False)  # Saves as dfa.png\n",
        "    display(dot)"
      ],
      "metadata": {
        "id": "fX8q7id8P7zI"
      },
      "execution_count": 2,
      "outputs": []
    },
    {
      "cell_type": "code",
      "source": [
        "def compile_fa(fa_table):\n",
        "    header = fa_table[0][1:]\n",
        "    states = fa_table[1:]\n",
        "    start_state = None\n",
        "    accepting_states = set()\n",
        "    transitions = {}\n",
        "    for row in states:\n",
        "        state_label = row[0]\n",
        "        state_num = int(state_label.lstrip('+-'))\n",
        "        if state_label.startswith('-'):\n",
        "            start_state = state_num\n",
        "        if state_label.startswith('+') or state_label.startswith('-+'):\n",
        "            accepting_states.add(state_num)\n",
        "        transitions[state_num] = {}\n",
        "        for symbol, next_state in zip(header, row[1:]):\n",
        "            transitions[state_num][symbol] = next_state\n",
        "    if start_state is None:\n",
        "        raise ValueError(\"No start state defined in FA table.\")\n",
        "    return start_state, header, transitions, accepting_states"
      ],
      "metadata": {
        "id": "X0zUpP-PaI_a"
      },
      "execution_count": 3,
      "outputs": []
    },
    {
      "cell_type": "code",
      "source": [
        "def run_fsm(input_str, start_state, header, transitions, accepting_states):\n",
        "    current_state = start_state\n",
        "    for ch in input_str:\n",
        "        if ch not in header:\n",
        "            raise ValueError(f\"Invalid input symbol: {ch}\")\n",
        "        current_state = transitions[current_state][ch]\n",
        "    accepted = current_state in accepting_states\n",
        "    return accepted, current_state"
      ],
      "metadata": {
        "id": "xqwD1QrliX3A"
      },
      "execution_count": 4,
      "outputs": []
    },
    {
      "cell_type": "code",
      "source": [
        "def show_samples(table):\n",
        "    parts = []\n",
        "    alphabet = table[0][1:]\n",
        "    fsm = compile_fa(table)\n",
        "    for length in range(0, 8):\n",
        "        for combo in product(alphabet, repeat=length):\n",
        "            word = ''.join(combo)\n",
        "            accepted, _ = run_fsm(word, *fsm)\n",
        "            if accepted:\n",
        "                parts.append(word)\n",
        "            else: parts.append(f\"**{word}**\")\n",
        "    results = ' '.join(parts)\n",
        "    return results"
      ],
      "metadata": {
        "id": "UfWeCYsIcids"
      },
      "execution_count": 5,
      "outputs": []
    },
    {
      "cell_type": "code",
      "source": [
        "def display_problem(problem_name):\n",
        "    problem = FA[problem_name]\n",
        "    display(Latex(problem[0]))\n",
        "    display_dfa(problem[1])\n",
        "    display(Markdown(show_samples(problem[1])))"
      ],
      "metadata": {
        "id": "1y_q05x7J2Uv"
      },
      "execution_count": 6,
      "outputs": []
    },
    {
      "cell_type": "markdown",
      "source": [
        "---\n",
        "**Problem 1:** Write out the transition tables for the FAs on pp. 56, 58 (both), 63, 64, and 69 that were defined by pictures.\n",
        "\n",
        "**Answer 1:**\n",
        "\n"
      ],
      "metadata": {
        "id": "pH0DVXDdJega"
      }
    },
    {
      "cell_type": "code",
      "source": [
        "#-------------------------------------------------------------------------------\n",
        "FA['pg_56'] = (\\\n",
        "  \"$(a+b)^{*}b(a+b)^{*}$\"\n",
        ", [ [  ' ', 'a', 'b']\n",
        "  , [ '-1',  2 ,  3]\n",
        "  , [  '2',  1 ,  3]\n",
        "  , [ '+3',  3 ,  3]\n",
        "  ])\n",
        "#-------------------------------------------------------------------------------\n",
        "display_problem('pg_56')"
      ],
      "metadata": {
        "colab": {
          "base_uri": "https://localhost:8080/",
          "height": 455
        },
        "id": "o9_KZTCfg7xC",
        "outputId": "16c3a7e0-7df7-4016-d45a-f95befc7bf01"
      },
      "execution_count": 7,
      "outputs": [
        {
          "output_type": "display_data",
          "data": {
            "text/plain": [
              "<IPython.core.display.Latex object>"
            ],
            "text/latex": "$(a+b)^{*}b(a+b)^{*}$"
          },
          "metadata": {}
        },
        {
          "output_type": "display_data",
          "data": {
            "image/svg+xml": "<?xml version=\"1.0\" encoding=\"UTF-8\" standalone=\"no\"?>\n<!DOCTYPE svg PUBLIC \"-//W3C//DTD SVG 1.1//EN\"\n \"http://www.w3.org/Graphics/SVG/1.1/DTD/svg11.dtd\">\n<!-- Generated by graphviz version 2.43.0 (0)\n -->\n<!-- Title: %3 Pages: 1 -->\n<svg width=\"247pt\" height=\"118pt\"\n viewBox=\"0.00 0.00 247.00 118.00\" xmlns=\"http://www.w3.org/2000/svg\" xmlns:xlink=\"http://www.w3.org/1999/xlink\">\n<g id=\"graph0\" class=\"graph\" transform=\"scale(1 1) rotate(0) translate(4 114)\">\n<title>%3</title>\n<polygon fill=\"black\" stroke=\"transparent\" points=\"-4,4 -4,-114 243,-114 243,4 -4,4\"/>\n<!-- 1 -->\n<g id=\"node1\" class=\"node\">\n<title>1</title>\n<ellipse fill=\"black\" stroke=\"white\" cx=\"55\" cy=\"-39\" rx=\"18\" ry=\"18\"/>\n<text text-anchor=\"middle\" x=\"55\" y=\"-35.3\" font-family=\"Times,serif\" font-size=\"14.00\" fill=\"white\">1</text>\n</g>\n<!-- 2 -->\n<g id=\"node3\" class=\"node\">\n<title>2</title>\n<ellipse fill=\"black\" stroke=\"white\" cx=\"134\" cy=\"-57\" rx=\"18\" ry=\"18\"/>\n<text text-anchor=\"middle\" x=\"134\" y=\"-53.3\" font-family=\"Times,serif\" font-size=\"14.00\" fill=\"white\">2</text>\n</g>\n<!-- 1&#45;&gt;2 -->\n<g id=\"edge2\" class=\"edge\">\n<title>1&#45;&gt;2</title>\n<path fill=\"none\" stroke=\"white\" d=\"M71.22,-47.49C77.21,-50.41 84.25,-53.36 91,-55 95.59,-56.12 100.55,-56.79 105.39,-57.19\"/>\n<polygon fill=\"white\" stroke=\"white\" points=\"105.48,-60.69 115.62,-57.64 105.79,-53.7 105.48,-60.69\"/>\n<text text-anchor=\"middle\" x=\"94.5\" y=\"-59.8\" font-family=\"Times,serif\" font-size=\"14.00\" fill=\"white\">a</text>\n</g>\n<!-- 3 -->\n<g id=\"node4\" class=\"node\">\n<title>3</title>\n<ellipse fill=\"black\" stroke=\"white\" cx=\"217\" cy=\"-22\" rx=\"18\" ry=\"18\"/>\n<ellipse fill=\"none\" stroke=\"white\" cx=\"217\" cy=\"-22\" rx=\"22\" ry=\"22\"/>\n<text text-anchor=\"middle\" x=\"217\" y=\"-18.3\" font-family=\"Times,serif\" font-size=\"14.00\" fill=\"white\">3</text>\n</g>\n<!-- 1&#45;&gt;3 -->\n<g id=\"edge3\" class=\"edge\">\n<title>1&#45;&gt;3</title>\n<path fill=\"none\" stroke=\"white\" d=\"M71.29,-30.99C83.13,-25.27 100.14,-18.06 116,-15 138.89,-10.59 165.2,-12.71 185.08,-15.74\"/>\n<polygon fill=\"white\" stroke=\"white\" points=\"184.69,-19.22 195.13,-17.42 185.84,-12.31 184.69,-19.22\"/>\n<text text-anchor=\"middle\" x=\"134\" y=\"-18.8\" font-family=\"Times,serif\" font-size=\"14.00\" fill=\"white\">b</text>\n</g>\n<!-- &#45;&gt;1 -->\n<g id=\"edge1\" class=\"edge\">\n<title>&#45;&gt;1</title>\n<path fill=\"none\" stroke=\"white\" d=\"M1.15,-39C2.63,-39 14.68,-39 26.9,-39\"/>\n<polygon fill=\"white\" stroke=\"white\" points=\"26.98,-42.5 36.98,-39 26.98,-35.5 26.98,-42.5\"/>\n</g>\n<!-- 2&#45;&gt;1 -->\n<g id=\"edge4\" class=\"edge\">\n<title>2&#45;&gt;1</title>\n<path fill=\"none\" stroke=\"white\" d=\"M119.16,-46.33C113.03,-42.25 105.51,-38.08 98,-36 93.15,-34.66 87.87,-34.25 82.74,-34.38\"/>\n<polygon fill=\"white\" stroke=\"white\" points=\"82.27,-30.91 72.61,-35.26 82.88,-37.88 82.27,-30.91\"/>\n<text text-anchor=\"middle\" x=\"94.5\" y=\"-39.8\" font-family=\"Times,serif\" font-size=\"14.00\" fill=\"white\">a</text>\n</g>\n<!-- 2&#45;&gt;3 -->\n<g id=\"edge5\" class=\"edge\">\n<title>2&#45;&gt;3</title>\n<path fill=\"none\" stroke=\"white\" d=\"M151,-50.09C161.33,-45.62 175.07,-39.68 187.26,-34.42\"/>\n<polygon fill=\"white\" stroke=\"white\" points=\"188.81,-37.56 196.6,-30.38 186.03,-31.14 188.81,-37.56\"/>\n<text text-anchor=\"middle\" x=\"173.5\" y=\"-44.8\" font-family=\"Times,serif\" font-size=\"14.00\" fill=\"white\">b</text>\n</g>\n<!-- 3&#45;&gt;3 -->\n<g id=\"edge6\" class=\"edge\">\n<title>3&#45;&gt;3</title>\n<path fill=\"none\" stroke=\"white\" d=\"M213.12,-43.81C212.75,-53.56 214.05,-62 217,-62 218.85,-62 220.04,-58.7 220.59,-53.85\"/>\n<polygon fill=\"white\" stroke=\"white\" points=\"224.09,-53.9 220.88,-43.81 217.09,-53.7 224.09,-53.9\"/>\n<text text-anchor=\"middle\" x=\"217\" y=\"-65.8\" font-family=\"Times,serif\" font-size=\"14.00\" fill=\"white\">a</text>\n</g>\n<!-- 3&#45;&gt;3 -->\n<g id=\"edge7\" class=\"edge\">\n<title>3&#45;&gt;3</title>\n<path fill=\"none\" stroke=\"white\" d=\"M210.38,-43.11C207.45,-61.1 209.66,-80 217,-80 222.97,-80 225.54,-67.52 224.73,-53.2\"/>\n<polygon fill=\"white\" stroke=\"white\" points=\"228.19,-52.67 223.62,-43.11 221.23,-53.44 228.19,-52.67\"/>\n<text text-anchor=\"middle\" x=\"217\" y=\"-83.8\" font-family=\"Times,serif\" font-size=\"14.00\" fill=\"white\">b</text>\n</g>\n</g>\n</svg>\n",
            "text/plain": [
              "<graphviz.graphs.Digraph at 0x7a36e9401d90>"
            ]
          },
          "metadata": {}
        },
        {
          "output_type": "display_data",
          "data": {
            "text/plain": [
              "<IPython.core.display.Markdown object>"
            ],
            "text/markdown": "**** **a** b **aa** ab ba bb **aaa** aab aba abb baa bab bba bbb **aaaa** aaab aaba aabb abaa abab abba abbb baaa baab baba babb bbaa bbab bbba bbbb **aaaaa** aaaab aaaba aaabb aabaa aabab aabba aabbb abaaa abaab ababa ababb abbaa abbab abbba abbbb baaaa baaab baaba baabb babaa babab babba babbb bbaaa bbaab bbaba bbabb bbbaa bbbab bbbba bbbbb **aaaaaa** aaaaab aaaaba aaaabb aaabaa aaabab aaabba aaabbb aabaaa aabaab aababa aababb aabbaa aabbab aabbba aabbbb abaaaa abaaab abaaba abaabb ababaa ababab ababba ababbb abbaaa abbaab abbaba abbabb abbbaa abbbab abbbba abbbbb baaaaa baaaab baaaba baaabb baabaa baabab baabba baabbb babaaa babaab bababa bababb babbaa babbab babbba babbbb bbaaaa bbaaab bbaaba bbaabb bbabaa bbabab bbabba bbabbb bbbaaa bbbaab bbbaba bbbabb bbbbaa bbbbab bbbbba bbbbbb **aaaaaaa** aaaaaab aaaaaba aaaaabb aaaabaa aaaabab aaaabba aaaabbb aaabaaa aaabaab aaababa aaababb aaabbaa aaabbab aaabbba aaabbbb aabaaaa aabaaab aabaaba aabaabb aababaa aababab aababba aababbb aabbaaa aabbaab aabbaba aabbabb aabbbaa aabbbab aabbbba aabbbbb abaaaaa abaaaab abaaaba abaaabb abaabaa abaabab abaabba abaabbb ababaaa ababaab abababa abababb ababbaa ababbab ababbba ababbbb abbaaaa abbaaab abbaaba abbaabb abbabaa abbabab abbabba abbabbb abbbaaa abbbaab abbbaba abbbabb abbbbaa abbbbab abbbbba abbbbbb baaaaaa baaaaab baaaaba baaaabb baaabaa baaabab baaabba baaabbb baabaaa baabaab baababa baababb baabbaa baabbab baabbba baabbbb babaaaa babaaab babaaba babaabb bababaa bababab bababba bababbb babbaaa babbaab babbaba babbabb babbbaa babbbab babbbba babbbbb bbaaaaa bbaaaab bbaaaba bbaaabb bbaabaa bbaabab bbaabba bbaabbb bbabaaa bbabaab bbababa bbababb bbabbaa bbabbab bbabbba bbabbbb bbbaaaa bbbaaab bbbaaba bbbaabb bbbabaa bbbabab bbbabba bbbabbb bbbbaaa bbbbaab bbbbaba bbbbabb bbbbbaa bbbbbab bbbbbba bbbbbbb"
          },
          "metadata": {}
        }
      ]
    },
    {
      "cell_type": "code",
      "source": [
        "#-------------------------------------------------------------------------------\n",
        "FA['pg_58_1'] = (\\\n",
        "  \"$(a+b)(a+b)^{*}$\"\n",
        ", [ [  ' ', 'a', 'b']\n",
        "  , [ '-1',  2 ,  2 ]\n",
        "  , [ '+2',  2 ,  2 ]\n",
        "  ])\n",
        "#-------------------------------------------------------------------------------\n",
        "display_problem('pg_58_1')"
      ],
      "metadata": {
        "colab": {
          "base_uri": "https://localhost:8080/",
          "height": 455
        },
        "id": "i7WcRyyuLvVp",
        "outputId": "8a57370f-9abd-4cb4-d10e-5919a7c47d28"
      },
      "execution_count": 8,
      "outputs": [
        {
          "output_type": "display_data",
          "data": {
            "text/plain": [
              "<IPython.core.display.Latex object>"
            ],
            "text/latex": "$(a+b)(a+b)^{*}$"
          },
          "metadata": {}
        },
        {
          "output_type": "display_data",
          "data": {
            "image/svg+xml": "<?xml version=\"1.0\" encoding=\"UTF-8\" standalone=\"no\"?>\n<!DOCTYPE svg PUBLIC \"-//W3C//DTD SVG 1.1//EN\"\n \"http://www.w3.org/Graphics/SVG/1.1/DTD/svg11.dtd\">\n<!-- Generated by graphviz version 2.43.0 (0)\n -->\n<!-- Title: %3 Pages: 1 -->\n<svg width=\"168pt\" height=\"118pt\"\n viewBox=\"0.00 0.00 168.00 118.00\" xmlns=\"http://www.w3.org/2000/svg\" xmlns:xlink=\"http://www.w3.org/1999/xlink\">\n<g id=\"graph0\" class=\"graph\" transform=\"scale(1 1) rotate(0) translate(4 114)\">\n<title>%3</title>\n<polygon fill=\"black\" stroke=\"transparent\" points=\"-4,4 -4,-114 164,-114 164,4 -4,4\"/>\n<!-- 1 -->\n<g id=\"node1\" class=\"node\">\n<title>1</title>\n<ellipse fill=\"black\" stroke=\"white\" cx=\"55\" cy=\"-22\" rx=\"18\" ry=\"18\"/>\n<text text-anchor=\"middle\" x=\"55\" y=\"-18.3\" font-family=\"Times,serif\" font-size=\"14.00\" fill=\"white\">1</text>\n</g>\n<!-- 2 -->\n<g id=\"node3\" class=\"node\">\n<title>2</title>\n<ellipse fill=\"black\" stroke=\"white\" cx=\"138\" cy=\"-22\" rx=\"18\" ry=\"18\"/>\n<ellipse fill=\"none\" stroke=\"white\" cx=\"138\" cy=\"-22\" rx=\"22\" ry=\"22\"/>\n<text text-anchor=\"middle\" x=\"138\" y=\"-18.3\" font-family=\"Times,serif\" font-size=\"14.00\" fill=\"white\">2</text>\n</g>\n<!-- 1&#45;&gt;2 -->\n<g id=\"edge2\" class=\"edge\">\n<title>1&#45;&gt;2</title>\n<path fill=\"none\" stroke=\"white\" d=\"M73.18,-22C82.61,-22 94.6,-22 105.64,-22\"/>\n<polygon fill=\"white\" stroke=\"white\" points=\"105.81,-25.5 115.81,-22 105.81,-18.5 105.81,-25.5\"/>\n<text text-anchor=\"middle\" x=\"94.5\" y=\"-25.8\" font-family=\"Times,serif\" font-size=\"14.00\" fill=\"white\">a</text>\n</g>\n<!-- 1&#45;&gt;2 -->\n<g id=\"edge3\" class=\"edge\">\n<title>1&#45;&gt;2</title>\n<path fill=\"none\" stroke=\"white\" d=\"M70.31,-12.13C76.4,-8.51 83.76,-4.84 91,-3 97.49,-1.35 104.26,-2.44 110.55,-4.76\"/>\n<polygon fill=\"white\" stroke=\"white\" points=\"109.39,-8.08 119.93,-9.2 112.39,-1.76 109.39,-8.08\"/>\n<text text-anchor=\"middle\" x=\"94.5\" y=\"-6.8\" font-family=\"Times,serif\" font-size=\"14.00\" fill=\"white\">b</text>\n</g>\n<!-- &#45;&gt;1 -->\n<g id=\"edge1\" class=\"edge\">\n<title>&#45;&gt;1</title>\n<path fill=\"none\" stroke=\"white\" d=\"M1.15,-22C2.63,-22 14.68,-22 26.9,-22\"/>\n<polygon fill=\"white\" stroke=\"white\" points=\"26.98,-25.5 36.98,-22 26.98,-18.5 26.98,-25.5\"/>\n</g>\n<!-- 2&#45;&gt;2 -->\n<g id=\"edge4\" class=\"edge\">\n<title>2&#45;&gt;2</title>\n<path fill=\"none\" stroke=\"white\" d=\"M134.12,-43.81C133.75,-53.56 135.05,-62 138,-62 139.85,-62 141.04,-58.7 141.59,-53.85\"/>\n<polygon fill=\"white\" stroke=\"white\" points=\"145.09,-53.9 141.88,-43.81 138.09,-53.7 145.09,-53.9\"/>\n<text text-anchor=\"middle\" x=\"138\" y=\"-65.8\" font-family=\"Times,serif\" font-size=\"14.00\" fill=\"white\">a</text>\n</g>\n<!-- 2&#45;&gt;2 -->\n<g id=\"edge5\" class=\"edge\">\n<title>2&#45;&gt;2</title>\n<path fill=\"none\" stroke=\"white\" d=\"M131.38,-43.11C128.45,-61.1 130.66,-80 138,-80 143.97,-80 146.54,-67.52 145.73,-53.2\"/>\n<polygon fill=\"white\" stroke=\"white\" points=\"149.19,-52.67 144.62,-43.11 142.23,-53.44 149.19,-52.67\"/>\n<text text-anchor=\"middle\" x=\"138\" y=\"-83.8\" font-family=\"Times,serif\" font-size=\"14.00\" fill=\"white\">b</text>\n</g>\n</g>\n</svg>\n",
            "text/plain": [
              "<graphviz.graphs.Digraph at 0x7a36e9473f50>"
            ]
          },
          "metadata": {}
        },
        {
          "output_type": "display_data",
          "data": {
            "text/plain": [
              "<IPython.core.display.Markdown object>"
            ],
            "text/markdown": "**** a b aa ab ba bb aaa aab aba abb baa bab bba bbb aaaa aaab aaba aabb abaa abab abba abbb baaa baab baba babb bbaa bbab bbba bbbb aaaaa aaaab aaaba aaabb aabaa aabab aabba aabbb abaaa abaab ababa ababb abbaa abbab abbba abbbb baaaa baaab baaba baabb babaa babab babba babbb bbaaa bbaab bbaba bbabb bbbaa bbbab bbbba bbbbb aaaaaa aaaaab aaaaba aaaabb aaabaa aaabab aaabba aaabbb aabaaa aabaab aababa aababb aabbaa aabbab aabbba aabbbb abaaaa abaaab abaaba abaabb ababaa ababab ababba ababbb abbaaa abbaab abbaba abbabb abbbaa abbbab abbbba abbbbb baaaaa baaaab baaaba baaabb baabaa baabab baabba baabbb babaaa babaab bababa bababb babbaa babbab babbba babbbb bbaaaa bbaaab bbaaba bbaabb bbabaa bbabab bbabba bbabbb bbbaaa bbbaab bbbaba bbbabb bbbbaa bbbbab bbbbba bbbbbb aaaaaaa aaaaaab aaaaaba aaaaabb aaaabaa aaaabab aaaabba aaaabbb aaabaaa aaabaab aaababa aaababb aaabbaa aaabbab aaabbba aaabbbb aabaaaa aabaaab aabaaba aabaabb aababaa aababab aababba aababbb aabbaaa aabbaab aabbaba aabbabb aabbbaa aabbbab aabbbba aabbbbb abaaaaa abaaaab abaaaba abaaabb abaabaa abaabab abaabba abaabbb ababaaa ababaab abababa abababb ababbaa ababbab ababbba ababbbb abbaaaa abbaaab abbaaba abbaabb abbabaa abbabab abbabba abbabbb abbbaaa abbbaab abbbaba abbbabb abbbbaa abbbbab abbbbba abbbbbb baaaaaa baaaaab baaaaba baaaabb baaabaa baaabab baaabba baaabbb baabaaa baabaab baababa baababb baabbaa baabbab baabbba baabbbb babaaaa babaaab babaaba babaabb bababaa bababab bababba bababbb babbaaa babbaab babbaba babbabb babbbaa babbbab babbbba babbbbb bbaaaaa bbaaaab bbaaaba bbaaabb bbaabaa bbaabab bbaabba bbaabbb bbabaaa bbabaab bbababa bbababb bbabbaa bbabbab bbabbba bbabbbb bbbaaaa bbbaaab bbbaaba bbbaabb bbbabaa bbbabab bbbabba bbbabbb bbbbaaa bbbbaab bbbbaba bbbbabb bbbbbaa bbbbbab bbbbbba bbbbbbb"
          },
          "metadata": {}
        }
      ]
    },
    {
      "cell_type": "code",
      "source": [
        "#-------------------------------------------------------------------------------\n",
        "FA['pg_58_2'] = (\\\n",
        "  \"$(a+b_^{*}$\"\n",
        ", [ [  ' ', 'a', 'b']\n",
        "  , ['-+1',  1 ,  1 ]\n",
        "  ])\n",
        "#-------------------------------------------------------------------------------\n",
        "display_problem('pg_58_2')"
      ],
      "metadata": {
        "colab": {
          "base_uri": "https://localhost:8080/",
          "height": 434
        },
        "id": "B8jLTDZ-L0Xu",
        "outputId": "9a183482-a7ff-4791-cbfe-8eeb117321f1"
      },
      "execution_count": 9,
      "outputs": [
        {
          "output_type": "display_data",
          "data": {
            "text/plain": [
              "<IPython.core.display.Latex object>"
            ],
            "text/latex": "$(a+b_^{*}$"
          },
          "metadata": {}
        },
        {
          "output_type": "display_data",
          "data": {
            "image/svg+xml": "<?xml version=\"1.0\" encoding=\"UTF-8\" standalone=\"no\"?>\n<!DOCTYPE svg PUBLIC \"-//W3C//DTD SVG 1.1//EN\"\n \"http://www.w3.org/Graphics/SVG/1.1/DTD/svg11.dtd\">\n<!-- Generated by graphviz version 2.43.0 (0)\n -->\n<!-- Title: %3 Pages: 1 -->\n<svg width=\"89pt\" height=\"118pt\"\n viewBox=\"0.00 0.00 89.00 118.00\" xmlns=\"http://www.w3.org/2000/svg\" xmlns:xlink=\"http://www.w3.org/1999/xlink\">\n<g id=\"graph0\" class=\"graph\" transform=\"scale(1 1) rotate(0) translate(4 114)\">\n<title>%3</title>\n<polygon fill=\"black\" stroke=\"transparent\" points=\"-4,4 -4,-114 85,-114 85,4 -4,4\"/>\n<!-- 1 -->\n<g id=\"node1\" class=\"node\">\n<title>1</title>\n<ellipse fill=\"black\" stroke=\"white\" cx=\"59\" cy=\"-22\" rx=\"18\" ry=\"18\"/>\n<ellipse fill=\"none\" stroke=\"white\" cx=\"59\" cy=\"-22\" rx=\"22\" ry=\"22\"/>\n<text text-anchor=\"middle\" x=\"59\" y=\"-18.3\" font-family=\"Times,serif\" font-size=\"14.00\" fill=\"white\">1</text>\n</g>\n<!-- 1&#45;&gt;1 -->\n<g id=\"edge2\" class=\"edge\">\n<title>1&#45;&gt;1</title>\n<path fill=\"none\" stroke=\"white\" d=\"M55.31,-43.81C54.96,-53.56 56.19,-62 59,-62 60.76,-62 61.9,-58.7 62.42,-53.85\"/>\n<polygon fill=\"white\" stroke=\"white\" points=\"65.92,-53.9 62.69,-43.81 58.92,-53.71 65.92,-53.9\"/>\n<text text-anchor=\"middle\" x=\"59\" y=\"-65.8\" font-family=\"Times,serif\" font-size=\"14.00\" fill=\"white\">a</text>\n</g>\n<!-- 1&#45;&gt;1 -->\n<g id=\"edge3\" class=\"edge\">\n<title>1&#45;&gt;1</title>\n<path fill=\"none\" stroke=\"white\" d=\"M52.69,-43.11C49.9,-61.1 52.01,-80 59,-80 64.68,-80 67.13,-67.52 66.36,-53.2\"/>\n<polygon fill=\"white\" stroke=\"white\" points=\"69.83,-52.7 65.31,-43.11 62.87,-53.42 69.83,-52.7\"/>\n<text text-anchor=\"middle\" x=\"59\" y=\"-83.8\" font-family=\"Times,serif\" font-size=\"14.00\" fill=\"white\">b</text>\n</g>\n<!-- &#45;&gt;1 -->\n<g id=\"edge1\" class=\"edge\">\n<title>&#45;&gt;1</title>\n<path fill=\"none\" stroke=\"white\" d=\"M1.16,-22C2.66,-22 14.26,-22 26.58,-22\"/>\n<polygon fill=\"white\" stroke=\"white\" points=\"26.91,-25.5 36.91,-22 26.91,-18.5 26.91,-25.5\"/>\n</g>\n</g>\n</svg>\n",
            "text/plain": [
              "<graphviz.graphs.Digraph at 0x7a36e94ae510>"
            ]
          },
          "metadata": {}
        },
        {
          "output_type": "display_data",
          "data": {
            "text/plain": [
              "<IPython.core.display.Markdown object>"
            ],
            "text/markdown": " a b aa ab ba bb aaa aab aba abb baa bab bba bbb aaaa aaab aaba aabb abaa abab abba abbb baaa baab baba babb bbaa bbab bbba bbbb aaaaa aaaab aaaba aaabb aabaa aabab aabba aabbb abaaa abaab ababa ababb abbaa abbab abbba abbbb baaaa baaab baaba baabb babaa babab babba babbb bbaaa bbaab bbaba bbabb bbbaa bbbab bbbba bbbbb aaaaaa aaaaab aaaaba aaaabb aaabaa aaabab aaabba aaabbb aabaaa aabaab aababa aababb aabbaa aabbab aabbba aabbbb abaaaa abaaab abaaba abaabb ababaa ababab ababba ababbb abbaaa abbaab abbaba abbabb abbbaa abbbab abbbba abbbbb baaaaa baaaab baaaba baaabb baabaa baabab baabba baabbb babaaa babaab bababa bababb babbaa babbab babbba babbbb bbaaaa bbaaab bbaaba bbaabb bbabaa bbabab bbabba bbabbb bbbaaa bbbaab bbbaba bbbabb bbbbaa bbbbab bbbbba bbbbbb aaaaaaa aaaaaab aaaaaba aaaaabb aaaabaa aaaabab aaaabba aaaabbb aaabaaa aaabaab aaababa aaababb aaabbaa aaabbab aaabbba aaabbbb aabaaaa aabaaab aabaaba aabaabb aababaa aababab aababba aababbb aabbaaa aabbaab aabbaba aabbabb aabbbaa aabbbab aabbbba aabbbbb abaaaaa abaaaab abaaaba abaaabb abaabaa abaabab abaabba abaabbb ababaaa ababaab abababa abababb ababbaa ababbab ababbba ababbbb abbaaaa abbaaab abbaaba abbaabb abbabaa abbabab abbabba abbabbb abbbaaa abbbaab abbbaba abbbabb abbbbaa abbbbab abbbbba abbbbbb baaaaaa baaaaab baaaaba baaaabb baaabaa baaabab baaabba baaabbb baabaaa baabaab baababa baababb baabbaa baabbab baabbba baabbbb babaaaa babaaab babaaba babaabb bababaa bababab bababba bababbb babbaaa babbaab babbaba babbabb babbbaa babbbab babbbba babbbbb bbaaaaa bbaaaab bbaaaba bbaaabb bbaabaa bbaabab bbaabba bbaabbb bbabaaa bbabaab bbababa bbababb bbabbaa bbabbab bbabbba bbabbbb bbbaaaa bbbaaab bbbaaba bbbaabb bbbabaa bbbabab bbbabba bbbabbb bbbbaaa bbbbaab bbbbaba bbbbabb bbbbbaa bbbbbab bbbbbba bbbbbbb"
          },
          "metadata": {}
        }
      ]
    },
    {
      "cell_type": "code",
      "source": [
        "#-------------------------------------------------------------------------------\n",
        "FA['pg_63'] = (\\\n",
        "  \"$(a+b)^{*}(aa+bb)(a+b)^{*}$\"\n",
        ", [ [  ' ', 'a', 'b']\n",
        "  , [ '-1',  2 ,  3 ]\n",
        "  , [  '2',  4 ,  3 ]\n",
        "  , [  '3',  2 ,  4 ]\n",
        "  , [ '+4',  4 ,  4 ]\n",
        "  ])\n",
        "#-------------------------------------------------------------------------------\n",
        "display_problem('pg_63')"
      ],
      "metadata": {
        "colab": {
          "base_uri": "https://localhost:8080/",
          "height": 527
        },
        "id": "_gM1mV7xL0jz",
        "outputId": "2a5f205b-a0b6-432c-9450-11c5d57f07ac"
      },
      "execution_count": 10,
      "outputs": [
        {
          "output_type": "display_data",
          "data": {
            "text/plain": [
              "<IPython.core.display.Latex object>"
            ],
            "text/latex": "$(a+b)^{*}(aa+bb)(a+b)^{*}$"
          },
          "metadata": {}
        },
        {
          "output_type": "display_data",
          "data": {
            "image/svg+xml": "<?xml version=\"1.0\" encoding=\"UTF-8\" standalone=\"no\"?>\n<!DOCTYPE svg PUBLIC \"-//W3C//DTD SVG 1.1//EN\"\n \"http://www.w3.org/Graphics/SVG/1.1/DTD/svg11.dtd\">\n<!-- Generated by graphviz version 2.43.0 (0)\n -->\n<!-- Title: %3 Pages: 1 -->\n<svg width=\"326pt\" height=\"172pt\"\n viewBox=\"0.00 0.00 326.00 172.00\" xmlns=\"http://www.w3.org/2000/svg\" xmlns:xlink=\"http://www.w3.org/1999/xlink\">\n<g id=\"graph0\" class=\"graph\" transform=\"scale(1 1) rotate(0) translate(4 168)\">\n<title>%3</title>\n<polygon fill=\"black\" stroke=\"transparent\" points=\"-4,4 -4,-168 322,-168 322,4 -4,4\"/>\n<!-- 1 -->\n<g id=\"node1\" class=\"node\">\n<title>1</title>\n<ellipse fill=\"black\" stroke=\"white\" cx=\"55\" cy=\"-18\" rx=\"18\" ry=\"18\"/>\n<text text-anchor=\"middle\" x=\"55\" y=\"-14.3\" font-family=\"Times,serif\" font-size=\"14.00\" fill=\"white\">1</text>\n</g>\n<!-- 2 -->\n<g id=\"node3\" class=\"node\">\n<title>2</title>\n<ellipse fill=\"black\" stroke=\"white\" cx=\"134\" cy=\"-63\" rx=\"18\" ry=\"18\"/>\n<text text-anchor=\"middle\" x=\"134\" y=\"-59.3\" font-family=\"Times,serif\" font-size=\"14.00\" fill=\"white\">2</text>\n</g>\n<!-- 1&#45;&gt;2 -->\n<g id=\"edge2\" class=\"edge\">\n<title>1&#45;&gt;2</title>\n<path fill=\"none\" stroke=\"white\" d=\"M70.85,-26.68C81.71,-33.03 96.68,-41.77 109.21,-49.09\"/>\n<polygon fill=\"white\" stroke=\"white\" points=\"107.8,-52.33 118.2,-54.35 111.33,-46.28 107.8,-52.33\"/>\n<text text-anchor=\"middle\" x=\"94.5\" y=\"-44.8\" font-family=\"Times,serif\" font-size=\"14.00\" fill=\"white\">a</text>\n</g>\n<!-- 3 -->\n<g id=\"node4\" class=\"node\">\n<title>3</title>\n<ellipse fill=\"black\" stroke=\"white\" cx=\"213\" cy=\"-42\" rx=\"18\" ry=\"18\"/>\n<text text-anchor=\"middle\" x=\"213\" y=\"-38.3\" font-family=\"Times,serif\" font-size=\"14.00\" fill=\"white\">3</text>\n</g>\n<!-- 1&#45;&gt;3 -->\n<g id=\"edge3\" class=\"edge\">\n<title>1&#45;&gt;3</title>\n<path fill=\"none\" stroke=\"white\" d=\"M73.33,-16.54C97.28,-15.09 141.55,-14.52 177,-26 180.41,-27.1 183.92,-28.45 187.35,-29.88\"/>\n<polygon fill=\"white\" stroke=\"white\" points=\"186.07,-33.14 196.63,-34.04 188.94,-26.75 186.07,-33.14\"/>\n<text text-anchor=\"middle\" x=\"134\" y=\"-22.8\" font-family=\"Times,serif\" font-size=\"14.00\" fill=\"white\">b</text>\n</g>\n<!-- &#45;&gt;1 -->\n<g id=\"edge1\" class=\"edge\">\n<title>&#45;&gt;1</title>\n<path fill=\"none\" stroke=\"white\" d=\"M1.15,-18C2.63,-18 14.68,-18 26.9,-18\"/>\n<polygon fill=\"white\" stroke=\"white\" points=\"26.98,-21.5 36.98,-18 26.98,-14.5 26.98,-21.5\"/>\n</g>\n<!-- 2&#45;&gt;3 -->\n<g id=\"edge5\" class=\"edge\">\n<title>2&#45;&gt;3</title>\n<path fill=\"none\" stroke=\"white\" d=\"M151.71,-58.44C161.6,-55.75 174.34,-52.27 185.57,-49.21\"/>\n<polygon fill=\"white\" stroke=\"white\" points=\"186.6,-52.56 195.32,-46.55 184.76,-45.8 186.6,-52.56\"/>\n<text text-anchor=\"middle\" x=\"173.5\" y=\"-56.8\" font-family=\"Times,serif\" font-size=\"14.00\" fill=\"white\">b</text>\n</g>\n<!-- 4 -->\n<g id=\"node5\" class=\"node\">\n<title>4</title>\n<ellipse fill=\"black\" stroke=\"white\" cx=\"296\" cy=\"-76\" rx=\"18\" ry=\"18\"/>\n<ellipse fill=\"none\" stroke=\"white\" cx=\"296\" cy=\"-76\" rx=\"22\" ry=\"22\"/>\n<text text-anchor=\"middle\" x=\"296\" y=\"-72.3\" font-family=\"Times,serif\" font-size=\"14.00\" fill=\"white\">4</text>\n</g>\n<!-- 2&#45;&gt;4 -->\n<g id=\"edge4\" class=\"edge\">\n<title>2&#45;&gt;4</title>\n<path fill=\"none\" stroke=\"white\" d=\"M151.61,-67.91C157.38,-69.44 163.93,-71 170,-72 207.8,-78.25 217.7,-78.98 256,-78 258.55,-77.93 261.19,-77.85 263.85,-77.74\"/>\n<polygon fill=\"white\" stroke=\"white\" points=\"264.13,-81.23 273.96,-77.28 263.81,-74.24 264.13,-81.23\"/>\n<text text-anchor=\"middle\" x=\"213\" y=\"-81.8\" font-family=\"Times,serif\" font-size=\"14.00\" fill=\"white\">a</text>\n</g>\n<!-- 3&#45;&gt;2 -->\n<g id=\"edge6\" class=\"edge\">\n<title>3&#45;&gt;2</title>\n<path fill=\"none\" stroke=\"white\" d=\"M196.55,-33.98C188.49,-30.88 178.55,-28.76 170,-32 164.07,-34.25 158.5,-38.01 153.62,-42.16\"/>\n<polygon fill=\"white\" stroke=\"white\" points=\"150.95,-39.87 146.12,-49.3 155.78,-44.94 150.95,-39.87\"/>\n<text text-anchor=\"middle\" x=\"173.5\" y=\"-35.8\" font-family=\"Times,serif\" font-size=\"14.00\" fill=\"white\">a</text>\n</g>\n<!-- 3&#45;&gt;4 -->\n<g id=\"edge7\" class=\"edge\">\n<title>3&#45;&gt;4</title>\n<path fill=\"none\" stroke=\"white\" d=\"M230,-48.72C240.26,-53.02 253.88,-58.74 266,-63.83\"/>\n<polygon fill=\"white\" stroke=\"white\" points=\"264.73,-67.09 275.31,-67.73 267.44,-60.64 264.73,-67.09\"/>\n<text text-anchor=\"middle\" x=\"252.5\" y=\"-62.8\" font-family=\"Times,serif\" font-size=\"14.00\" fill=\"white\">b</text>\n</g>\n<!-- 4&#45;&gt;4 -->\n<g id=\"edge8\" class=\"edge\">\n<title>4&#45;&gt;4</title>\n<path fill=\"none\" stroke=\"white\" d=\"M292.12,-97.81C291.75,-107.56 293.05,-116 296,-116 297.85,-116 299.04,-112.7 299.59,-107.85\"/>\n<polygon fill=\"white\" stroke=\"white\" points=\"303.09,-107.9 299.88,-97.81 296.09,-107.7 303.09,-107.9\"/>\n<text text-anchor=\"middle\" x=\"296\" y=\"-119.8\" font-family=\"Times,serif\" font-size=\"14.00\" fill=\"white\">a</text>\n</g>\n<!-- 4&#45;&gt;4 -->\n<g id=\"edge9\" class=\"edge\">\n<title>4&#45;&gt;4</title>\n<path fill=\"none\" stroke=\"white\" d=\"M289.38,-97.11C286.45,-115.1 288.66,-134 296,-134 301.97,-134 304.54,-121.52 303.73,-107.2\"/>\n<polygon fill=\"white\" stroke=\"white\" points=\"307.19,-106.67 302.62,-97.11 300.23,-107.44 307.19,-106.67\"/>\n<text text-anchor=\"middle\" x=\"296\" y=\"-137.8\" font-family=\"Times,serif\" font-size=\"14.00\" fill=\"white\">b</text>\n</g>\n</g>\n</svg>\n",
            "text/plain": [
              "<graphviz.graphs.Digraph at 0x7a36e9471c10>"
            ]
          },
          "metadata": {}
        },
        {
          "output_type": "display_data",
          "data": {
            "text/plain": [
              "<IPython.core.display.Markdown object>"
            ],
            "text/markdown": "**** **a** **b** aa **ab** **ba** bb aaa aab **aba** abb baa **bab** bba bbb aaaa aaab aaba aabb abaa **abab** abba abbb baaa baab **baba** babb bbaa bbab bbba bbbb aaaaa aaaab aaaba aaabb aabaa aabab aabba aabbb abaaa abaab **ababa** ababb abbaa abbab abbba abbbb baaaa baaab baaba baabb babaa **babab** babba babbb bbaaa bbaab bbaba bbabb bbbaa bbbab bbbba bbbbb aaaaaa aaaaab aaaaba aaaabb aaabaa aaabab aaabba aaabbb aabaaa aabaab aababa aababb aabbaa aabbab aabbba aabbbb abaaaa abaaab abaaba abaabb ababaa **ababab** ababba ababbb abbaaa abbaab abbaba abbabb abbbaa abbbab abbbba abbbbb baaaaa baaaab baaaba baaabb baabaa baabab baabba baabbb babaaa babaab **bababa** bababb babbaa babbab babbba babbbb bbaaaa bbaaab bbaaba bbaabb bbabaa bbabab bbabba bbabbb bbbaaa bbbaab bbbaba bbbabb bbbbaa bbbbab bbbbba bbbbbb aaaaaaa aaaaaab aaaaaba aaaaabb aaaabaa aaaabab aaaabba aaaabbb aaabaaa aaabaab aaababa aaababb aaabbaa aaabbab aaabbba aaabbbb aabaaaa aabaaab aabaaba aabaabb aababaa aababab aababba aababbb aabbaaa aabbaab aabbaba aabbabb aabbbaa aabbbab aabbbba aabbbbb abaaaaa abaaaab abaaaba abaaabb abaabaa abaabab abaabba abaabbb ababaaa ababaab **abababa** abababb ababbaa ababbab ababbba ababbbb abbaaaa abbaaab abbaaba abbaabb abbabaa abbabab abbabba abbabbb abbbaaa abbbaab abbbaba abbbabb abbbbaa abbbbab abbbbba abbbbbb baaaaaa baaaaab baaaaba baaaabb baaabaa baaabab baaabba baaabbb baabaaa baabaab baababa baababb baabbaa baabbab baabbba baabbbb babaaaa babaaab babaaba babaabb bababaa **bababab** bababba bababbb babbaaa babbaab babbaba babbabb babbbaa babbbab babbbba babbbbb bbaaaaa bbaaaab bbaaaba bbaaabb bbaabaa bbaabab bbaabba bbaabbb bbabaaa bbabaab bbababa bbababb bbabbaa bbabbab bbabbba bbabbbb bbbaaaa bbbaaab bbbaaba bbbaabb bbbabaa bbbabab bbbabba bbbabbb bbbbaaa bbbbaab bbbbaba bbbbabb bbbbbaa bbbbbab bbbbbba bbbbbbb"
          },
          "metadata": {}
        }
      ]
    },
    {
      "cell_type": "code",
      "source": [
        "#-------------------------------------------------------------------------------\n",
        "FA['pg_64'] = (\\\n",
        "  \"$(a+b)(a+b)b(a+b)*$\"\n",
        ", [ [  ' ', 'a', 'b']\n",
        "  , [ '-1',  2 ,  2 ]\n",
        "  , [  '2',  3 ,  3 ]\n",
        "  , [  '3',  4 ,  5 ]\n",
        "  , [  '4',  4 ,  4 ]\n",
        "  , [ '+5',  5 ,  5 ]\n",
        "  ])\n",
        "#-------------------------------------------------------------------------------\n",
        "display_problem('pg_64')"
      ],
      "metadata": {
        "colab": {
          "base_uri": "https://localhost:8080/",
          "height": 615
        },
        "id": "d9rWJ8y-L02E",
        "outputId": "22a3427a-4942-4b83-da34-83c0a81b9aff"
      },
      "execution_count": 11,
      "outputs": [
        {
          "output_type": "display_data",
          "data": {
            "text/plain": [
              "<IPython.core.display.Latex object>"
            ],
            "text/latex": "$(a+b)(a+b)b(a+b)*$"
          },
          "metadata": {}
        },
        {
          "output_type": "display_data",
          "data": {
            "image/svg+xml": "<?xml version=\"1.0\" encoding=\"UTF-8\" standalone=\"no\"?>\n<!DOCTYPE svg PUBLIC \"-//W3C//DTD SVG 1.1//EN\"\n \"http://www.w3.org/Graphics/SVG/1.1/DTD/svg11.dtd\">\n<!-- Generated by graphviz version 2.43.0 (0)\n -->\n<!-- Title: %3 Pages: 1 -->\n<svg width=\"326pt\" height=\"238pt\"\n viewBox=\"0.00 0.00 326.00 238.00\" xmlns=\"http://www.w3.org/2000/svg\" xmlns:xlink=\"http://www.w3.org/1999/xlink\">\n<g id=\"graph0\" class=\"graph\" transform=\"scale(1 1) rotate(0) translate(4 234)\">\n<title>%3</title>\n<polygon fill=\"black\" stroke=\"transparent\" points=\"-4,4 -4,-234 322,-234 322,4 -4,4\"/>\n<!-- 1 -->\n<g id=\"node1\" class=\"node\">\n<title>1</title>\n<ellipse fill=\"black\" stroke=\"white\" cx=\"55\" cy=\"-84\" rx=\"18\" ry=\"18\"/>\n<text text-anchor=\"middle\" x=\"55\" y=\"-80.3\" font-family=\"Times,serif\" font-size=\"14.00\" fill=\"white\">1</text>\n</g>\n<!-- 2 -->\n<g id=\"node3\" class=\"node\">\n<title>2</title>\n<ellipse fill=\"black\" stroke=\"white\" cx=\"134\" cy=\"-84\" rx=\"18\" ry=\"18\"/>\n<text text-anchor=\"middle\" x=\"134\" y=\"-80.3\" font-family=\"Times,serif\" font-size=\"14.00\" fill=\"white\">2</text>\n</g>\n<!-- 1&#45;&gt;2 -->\n<g id=\"edge2\" class=\"edge\">\n<title>1&#45;&gt;2</title>\n<path fill=\"none\" stroke=\"white\" d=\"M73.09,-84C82.66,-84 94.82,-84 105.68,-84\"/>\n<polygon fill=\"white\" stroke=\"white\" points=\"105.96,-87.5 115.96,-84 105.96,-80.5 105.96,-87.5\"/>\n<text text-anchor=\"middle\" x=\"94.5\" y=\"-87.8\" font-family=\"Times,serif\" font-size=\"14.00\" fill=\"white\">a</text>\n</g>\n<!-- 1&#45;&gt;2 -->\n<g id=\"edge3\" class=\"edge\">\n<title>1&#45;&gt;2</title>\n<path fill=\"none\" stroke=\"white\" d=\"M70.31,-74.13C76.4,-70.51 83.76,-66.84 91,-65 97.62,-63.32 104.49,-64.87 110.71,-67.68\"/>\n<polygon fill=\"white\" stroke=\"white\" points=\"109.4,-70.96 119.82,-72.86 112.86,-64.88 109.4,-70.96\"/>\n<text text-anchor=\"middle\" x=\"94.5\" y=\"-68.8\" font-family=\"Times,serif\" font-size=\"14.00\" fill=\"white\">b</text>\n</g>\n<!-- &#45;&gt;1 -->\n<g id=\"edge1\" class=\"edge\">\n<title>&#45;&gt;1</title>\n<path fill=\"none\" stroke=\"white\" d=\"M1.15,-84C2.63,-84 14.68,-84 26.9,-84\"/>\n<polygon fill=\"white\" stroke=\"white\" points=\"26.98,-87.5 36.98,-84 26.98,-80.5 26.98,-87.5\"/>\n</g>\n<!-- 3 -->\n<g id=\"node4\" class=\"node\">\n<title>3</title>\n<ellipse fill=\"black\" stroke=\"white\" cx=\"213\" cy=\"-84\" rx=\"18\" ry=\"18\"/>\n<text text-anchor=\"middle\" x=\"213\" y=\"-80.3\" font-family=\"Times,serif\" font-size=\"14.00\" fill=\"white\">3</text>\n</g>\n<!-- 2&#45;&gt;3 -->\n<g id=\"edge4\" class=\"edge\">\n<title>2&#45;&gt;3</title>\n<path fill=\"none\" stroke=\"white\" d=\"M152.09,-84C161.66,-84 173.82,-84 184.68,-84\"/>\n<polygon fill=\"white\" stroke=\"white\" points=\"184.96,-87.5 194.96,-84 184.96,-80.5 184.96,-87.5\"/>\n<text text-anchor=\"middle\" x=\"173.5\" y=\"-87.8\" font-family=\"Times,serif\" font-size=\"14.00\" fill=\"white\">a</text>\n</g>\n<!-- 2&#45;&gt;3 -->\n<g id=\"edge5\" class=\"edge\">\n<title>2&#45;&gt;3</title>\n<path fill=\"none\" stroke=\"white\" d=\"M149.31,-74.13C155.4,-70.51 162.76,-66.84 170,-65 176.62,-63.32 183.49,-64.87 189.71,-67.68\"/>\n<polygon fill=\"white\" stroke=\"white\" points=\"188.4,-70.96 198.82,-72.86 191.86,-64.88 188.4,-70.96\"/>\n<text text-anchor=\"middle\" x=\"173.5\" y=\"-68.8\" font-family=\"Times,serif\" font-size=\"14.00\" fill=\"white\">b</text>\n</g>\n<!-- 4 -->\n<g id=\"node5\" class=\"node\">\n<title>4</title>\n<ellipse fill=\"black\" stroke=\"white\" cx=\"296\" cy=\"-146\" rx=\"18\" ry=\"18\"/>\n<text text-anchor=\"middle\" x=\"296\" y=\"-142.3\" font-family=\"Times,serif\" font-size=\"14.00\" fill=\"white\">4</text>\n</g>\n<!-- 3&#45;&gt;4 -->\n<g id=\"edge6\" class=\"edge\">\n<title>3&#45;&gt;4</title>\n<path fill=\"none\" stroke=\"white\" d=\"M227.74,-94.52C240.19,-104.05 258.75,-118.25 273.22,-129.33\"/>\n<polygon fill=\"white\" stroke=\"white\" points=\"271.12,-132.13 281.19,-135.43 275.38,-126.57 271.12,-132.13\"/>\n<text text-anchor=\"middle\" x=\"252.5\" y=\"-118.8\" font-family=\"Times,serif\" font-size=\"14.00\" fill=\"white\">a</text>\n</g>\n<!-- 5 -->\n<g id=\"node6\" class=\"node\">\n<title>5</title>\n<ellipse fill=\"black\" stroke=\"white\" cx=\"296\" cy=\"-22\" rx=\"18\" ry=\"18\"/>\n<ellipse fill=\"none\" stroke=\"white\" cx=\"296\" cy=\"-22\" rx=\"22\" ry=\"22\"/>\n<text text-anchor=\"middle\" x=\"296\" y=\"-18.3\" font-family=\"Times,serif\" font-size=\"14.00\" fill=\"white\">5</text>\n</g>\n<!-- 3&#45;&gt;5 -->\n<g id=\"edge7\" class=\"edge\">\n<title>3&#45;&gt;5</title>\n<path fill=\"none\" stroke=\"white\" d=\"M227.74,-73.48C239.25,-64.67 255.99,-51.86 269.88,-41.23\"/>\n<polygon fill=\"white\" stroke=\"white\" points=\"272.28,-43.8 278.1,-34.94 268.03,-38.24 272.28,-43.8\"/>\n<text text-anchor=\"middle\" x=\"252.5\" y=\"-60.8\" font-family=\"Times,serif\" font-size=\"14.00\" fill=\"white\">b</text>\n</g>\n<!-- 4&#45;&gt;4 -->\n<g id=\"edge8\" class=\"edge\">\n<title>4&#45;&gt;4</title>\n<path fill=\"none\" stroke=\"white\" d=\"M292.22,-163.78C291.58,-173.31 292.84,-182 296,-182 297.92,-182 299.14,-178.77 299.66,-174.1\"/>\n<polygon fill=\"white\" stroke=\"white\" points=\"303.16,-173.82 299.78,-163.78 296.16,-173.74 303.16,-173.82\"/>\n<text text-anchor=\"middle\" x=\"296\" y=\"-185.8\" font-family=\"Times,serif\" font-size=\"14.00\" fill=\"white\">a</text>\n</g>\n<!-- 4&#45;&gt;4 -->\n<g id=\"edge9\" class=\"edge\">\n<title>4&#45;&gt;4</title>\n<path fill=\"none\" stroke=\"white\" d=\"M289.86,-163.14C286.24,-180.58 288.29,-200 296,-200 302.2,-200 304.74,-187.43 303.61,-173.43\"/>\n<polygon fill=\"white\" stroke=\"white\" points=\"307.02,-172.55 302.14,-163.14 300.09,-173.54 307.02,-172.55\"/>\n<text text-anchor=\"middle\" x=\"296\" y=\"-203.8\" font-family=\"Times,serif\" font-size=\"14.00\" fill=\"white\">b</text>\n</g>\n<!-- 5&#45;&gt;5 -->\n<g id=\"edge10\" class=\"edge\">\n<title>5&#45;&gt;5</title>\n<path fill=\"none\" stroke=\"white\" d=\"M292.12,-43.81C291.75,-53.56 293.05,-62 296,-62 297.85,-62 299.04,-58.7 299.59,-53.85\"/>\n<polygon fill=\"white\" stroke=\"white\" points=\"303.09,-53.9 299.88,-43.81 296.09,-53.7 303.09,-53.9\"/>\n<text text-anchor=\"middle\" x=\"296\" y=\"-65.8\" font-family=\"Times,serif\" font-size=\"14.00\" fill=\"white\">a</text>\n</g>\n<!-- 5&#45;&gt;5 -->\n<g id=\"edge11\" class=\"edge\">\n<title>5&#45;&gt;5</title>\n<path fill=\"none\" stroke=\"white\" d=\"M289.38,-43.11C286.45,-61.1 288.66,-80 296,-80 301.97,-80 304.54,-67.52 303.73,-53.2\"/>\n<polygon fill=\"white\" stroke=\"white\" points=\"307.19,-52.67 302.62,-43.11 300.23,-53.44 307.19,-52.67\"/>\n<text text-anchor=\"middle\" x=\"296\" y=\"-83.8\" font-family=\"Times,serif\" font-size=\"14.00\" fill=\"white\">b</text>\n</g>\n</g>\n</svg>\n",
            "text/plain": [
              "<graphviz.graphs.Digraph at 0x7a36e94af9b0>"
            ]
          },
          "metadata": {}
        },
        {
          "output_type": "display_data",
          "data": {
            "text/plain": [
              "<IPython.core.display.Markdown object>"
            ],
            "text/markdown": "**** **a** **b** **aa** **ab** **ba** **bb** **aaa** aab **aba** abb **baa** bab **bba** bbb **aaaa** **aaab** aaba aabb **abaa** **abab** abba abbb **baaa** **baab** baba babb **bbaa** **bbab** bbba bbbb **aaaaa** **aaaab** **aaaba** **aaabb** aabaa aabab aabba aabbb **abaaa** **abaab** **ababa** **ababb** abbaa abbab abbba abbbb **baaaa** **baaab** **baaba** **baabb** babaa babab babba babbb **bbaaa** **bbaab** **bbaba** **bbabb** bbbaa bbbab bbbba bbbbb **aaaaaa** **aaaaab** **aaaaba** **aaaabb** **aaabaa** **aaabab** **aaabba** **aaabbb** aabaaa aabaab aababa aababb aabbaa aabbab aabbba aabbbb **abaaaa** **abaaab** **abaaba** **abaabb** **ababaa** **ababab** **ababba** **ababbb** abbaaa abbaab abbaba abbabb abbbaa abbbab abbbba abbbbb **baaaaa** **baaaab** **baaaba** **baaabb** **baabaa** **baabab** **baabba** **baabbb** babaaa babaab bababa bababb babbaa babbab babbba babbbb **bbaaaa** **bbaaab** **bbaaba** **bbaabb** **bbabaa** **bbabab** **bbabba** **bbabbb** bbbaaa bbbaab bbbaba bbbabb bbbbaa bbbbab bbbbba bbbbbb **aaaaaaa** **aaaaaab** **aaaaaba** **aaaaabb** **aaaabaa** **aaaabab** **aaaabba** **aaaabbb** **aaabaaa** **aaabaab** **aaababa** **aaababb** **aaabbaa** **aaabbab** **aaabbba** **aaabbbb** aabaaaa aabaaab aabaaba aabaabb aababaa aababab aababba aababbb aabbaaa aabbaab aabbaba aabbabb aabbbaa aabbbab aabbbba aabbbbb **abaaaaa** **abaaaab** **abaaaba** **abaaabb** **abaabaa** **abaabab** **abaabba** **abaabbb** **ababaaa** **ababaab** **abababa** **abababb** **ababbaa** **ababbab** **ababbba** **ababbbb** abbaaaa abbaaab abbaaba abbaabb abbabaa abbabab abbabba abbabbb abbbaaa abbbaab abbbaba abbbabb abbbbaa abbbbab abbbbba abbbbbb **baaaaaa** **baaaaab** **baaaaba** **baaaabb** **baaabaa** **baaabab** **baaabba** **baaabbb** **baabaaa** **baabaab** **baababa** **baababb** **baabbaa** **baabbab** **baabbba** **baabbbb** babaaaa babaaab babaaba babaabb bababaa bababab bababba bababbb babbaaa babbaab babbaba babbabb babbbaa babbbab babbbba babbbbb **bbaaaaa** **bbaaaab** **bbaaaba** **bbaaabb** **bbaabaa** **bbaabab** **bbaabba** **bbaabbb** **bbabaaa** **bbabaab** **bbababa** **bbababb** **bbabbaa** **bbabbab** **bbabbba** **bbabbbb** bbbaaaa bbbaaab bbbaaba bbbaabb bbbabaa bbbabab bbbabba bbbabbb bbbbaaa bbbbaab bbbbaba bbbbabb bbbbbaa bbbbbab bbbbbba bbbbbbb"
          },
          "metadata": {}
        }
      ]
    },
    {
      "cell_type": "code",
      "source": [
        "# pg_69\n",
        "FA['EVEN_EVEN'] = (\\\n",
        "  \"$(aa+bb+(ab+ba)(aa+bb)^{*}(ab+ba))^{*}$\"\n",
        ", [ [  ' ', 'a', 'b']\n",
        "  , ['-+1',  3 ,  2 ]\n",
        "  , [  '2',  4 ,  1 ]\n",
        "  , [  '3',  1 ,  4 ]\n",
        "  , [  '4',  2 ,  3 ]\n",
        "  ])\n",
        "#-------------------------------------------------------------------------------\n",
        "display_problem('EVEN_EVEN')"
      ],
      "metadata": {
        "colab": {
          "base_uri": "https://localhost:8080/",
          "height": 418
        },
        "id": "EAOYDFfhL1Ku",
        "outputId": "743ebb07-dd5d-4d51-b20b-1b1cc4e91242"
      },
      "execution_count": 12,
      "outputs": [
        {
          "output_type": "display_data",
          "data": {
            "text/plain": [
              "<IPython.core.display.Latex object>"
            ],
            "text/latex": "$(aa+bb+(ab+ba)(aa+bb)^{*}(ab+ba))^{*}$"
          },
          "metadata": {}
        },
        {
          "output_type": "display_data",
          "data": {
            "image/svg+xml": "<?xml version=\"1.0\" encoding=\"UTF-8\" standalone=\"no\"?>\n<!DOCTYPE svg PUBLIC \"-//W3C//DTD SVG 1.1//EN\"\n \"http://www.w3.org/Graphics/SVG/1.1/DTD/svg11.dtd\">\n<!-- Generated by graphviz version 2.43.0 (0)\n -->\n<!-- Title: %3 Pages: 1 -->\n<svg width=\"326pt\" height=\"90pt\"\n viewBox=\"0.00 0.00 326.00 90.00\" xmlns=\"http://www.w3.org/2000/svg\" xmlns:xlink=\"http://www.w3.org/1999/xlink\">\n<g id=\"graph0\" class=\"graph\" transform=\"scale(1 1) rotate(0) translate(4 86)\">\n<title>%3</title>\n<polygon fill=\"black\" stroke=\"transparent\" points=\"-4,4 -4,-86 322,-86 322,4 -4,4\"/>\n<!-- 1 -->\n<g id=\"node1\" class=\"node\">\n<title>1</title>\n<ellipse fill=\"black\" stroke=\"white\" cx=\"59\" cy=\"-22\" rx=\"18\" ry=\"18\"/>\n<ellipse fill=\"none\" stroke=\"white\" cx=\"59\" cy=\"-22\" rx=\"22\" ry=\"22\"/>\n<text text-anchor=\"middle\" x=\"59\" y=\"-18.3\" font-family=\"Times,serif\" font-size=\"14.00\" fill=\"white\">1</text>\n</g>\n<!-- 2 -->\n<g id=\"node3\" class=\"node\">\n<title>2</title>\n<ellipse fill=\"black\" stroke=\"white\" cx=\"142\" cy=\"-64\" rx=\"18\" ry=\"18\"/>\n<text text-anchor=\"middle\" x=\"142\" y=\"-60.3\" font-family=\"Times,serif\" font-size=\"14.00\" fill=\"white\">2</text>\n</g>\n<!-- 1&#45;&gt;2 -->\n<g id=\"edge3\" class=\"edge\">\n<title>1&#45;&gt;2</title>\n<path fill=\"none\" stroke=\"white\" d=\"M75.04,-37.76C81.81,-44 90.24,-50.7 99,-55 103.61,-57.26 108.78,-58.96 113.87,-60.23\"/>\n<polygon fill=\"white\" stroke=\"white\" points=\"113.53,-63.73 124.02,-62.29 114.92,-56.87 113.53,-63.73\"/>\n<text text-anchor=\"middle\" x=\"102.5\" y=\"-60.8\" font-family=\"Times,serif\" font-size=\"14.00\" fill=\"white\">b</text>\n</g>\n<!-- 3 -->\n<g id=\"node4\" class=\"node\">\n<title>3</title>\n<ellipse fill=\"black\" stroke=\"white\" cx=\"300\" cy=\"-22\" rx=\"18\" ry=\"18\"/>\n<text text-anchor=\"middle\" x=\"300\" y=\"-18.3\" font-family=\"Times,serif\" font-size=\"14.00\" fill=\"white\">3</text>\n</g>\n<!-- 1&#45;&gt;3 -->\n<g id=\"edge2\" class=\"edge\">\n<title>1&#45;&gt;3</title>\n<path fill=\"none\" stroke=\"white\" d=\"M81.21,-22C124.56,-22 223.27,-22 271.48,-22\"/>\n<polygon fill=\"white\" stroke=\"white\" points=\"271.78,-25.5 281.78,-22 271.78,-18.5 271.78,-25.5\"/>\n<text text-anchor=\"middle\" x=\"181.5\" y=\"-25.8\" font-family=\"Times,serif\" font-size=\"14.00\" fill=\"white\">a</text>\n</g>\n<!-- &#45;&gt;1 -->\n<g id=\"edge1\" class=\"edge\">\n<title>&#45;&gt;1</title>\n<path fill=\"none\" stroke=\"white\" d=\"M1.16,-22C2.66,-22 14.26,-22 26.58,-22\"/>\n<polygon fill=\"white\" stroke=\"white\" points=\"26.91,-25.5 36.91,-22 26.91,-18.5 26.91,-25.5\"/>\n</g>\n<!-- 2&#45;&gt;1 -->\n<g id=\"edge5\" class=\"edge\">\n<title>2&#45;&gt;1</title>\n<path fill=\"none\" stroke=\"white\" d=\"M128.21,-51.81C121.92,-46.35 113.99,-40.21 106,-36 101.23,-33.49 95.94,-31.35 90.69,-29.56\"/>\n<polygon fill=\"white\" stroke=\"white\" points=\"91.4,-26.11 80.81,-26.54 89.35,-32.81 91.4,-26.11\"/>\n<text text-anchor=\"middle\" x=\"102.5\" y=\"-39.8\" font-family=\"Times,serif\" font-size=\"14.00\" fill=\"white\">b</text>\n</g>\n<!-- 4 -->\n<g id=\"node5\" class=\"node\">\n<title>4</title>\n<ellipse fill=\"black\" stroke=\"white\" cx=\"221\" cy=\"-64\" rx=\"18\" ry=\"18\"/>\n<text text-anchor=\"middle\" x=\"221\" y=\"-60.3\" font-family=\"Times,serif\" font-size=\"14.00\" fill=\"white\">4</text>\n</g>\n<!-- 2&#45;&gt;4 -->\n<g id=\"edge4\" class=\"edge\">\n<title>2&#45;&gt;4</title>\n<path fill=\"none\" stroke=\"white\" d=\"M160.09,-64C169.66,-64 181.82,-64 192.68,-64\"/>\n<polygon fill=\"white\" stroke=\"white\" points=\"192.96,-67.5 202.96,-64 192.96,-60.5 192.96,-67.5\"/>\n<text text-anchor=\"middle\" x=\"181.5\" y=\"-67.8\" font-family=\"Times,serif\" font-size=\"14.00\" fill=\"white\">a</text>\n</g>\n<!-- 3&#45;&gt;1 -->\n<g id=\"edge6\" class=\"edge\">\n<title>3&#45;&gt;1</title>\n<path fill=\"none\" stroke=\"white\" d=\"M282.11,-18.29C259.95,-13.62 219.79,-5.88 185,-3 152.31,-0.29 115.2,-7.22 89.96,-13.45\"/>\n<polygon fill=\"white\" stroke=\"white\" points=\"89.06,-10.07 80.25,-15.97 90.81,-16.85 89.06,-10.07\"/>\n<text text-anchor=\"middle\" x=\"181.5\" y=\"-6.8\" font-family=\"Times,serif\" font-size=\"14.00\" fill=\"white\">a</text>\n</g>\n<!-- 3&#45;&gt;4 -->\n<g id=\"edge7\" class=\"edge\">\n<title>3&#45;&gt;4</title>\n<path fill=\"none\" stroke=\"white\" d=\"M282.69,-28.12C274.77,-31.31 265.2,-35.49 257,-40 252.82,-42.3 248.52,-44.97 244.42,-47.68\"/>\n<polygon fill=\"white\" stroke=\"white\" points=\"242.16,-44.99 235.9,-53.54 246.12,-50.75 242.16,-44.99\"/>\n<text text-anchor=\"middle\" x=\"260.5\" y=\"-43.8\" font-family=\"Times,serif\" font-size=\"14.00\" fill=\"white\">b</text>\n</g>\n<!-- 4&#45;&gt;2 -->\n<g id=\"edge8\" class=\"edge\">\n<title>4&#45;&gt;2</title>\n<path fill=\"none\" stroke=\"white\" d=\"M206.82,-52.86C198.76,-47.38 188.08,-42.44 178,-45 174.04,-46.01 170.05,-47.56 166.24,-49.35\"/>\n<polygon fill=\"white\" stroke=\"white\" points=\"164.48,-46.33 157.31,-54.13 167.78,-52.5 164.48,-46.33\"/>\n<text text-anchor=\"middle\" x=\"181.5\" y=\"-48.8\" font-family=\"Times,serif\" font-size=\"14.00\" fill=\"white\">a</text>\n</g>\n<!-- 4&#45;&gt;3 -->\n<g id=\"edge9\" class=\"edge\">\n<title>4&#45;&gt;3</title>\n<path fill=\"none\" stroke=\"white\" d=\"M239.07,-62.48C247,-61.25 256.34,-59.02 264,-55 270.02,-51.84 275.74,-47.36 280.76,-42.71\"/>\n<polygon fill=\"white\" stroke=\"white\" points=\"283.42,-44.99 287.99,-35.43 278.46,-40.06 283.42,-44.99\"/>\n<text text-anchor=\"middle\" x=\"260.5\" y=\"-60.8\" font-family=\"Times,serif\" font-size=\"14.00\" fill=\"white\">b</text>\n</g>\n</g>\n</svg>\n",
            "text/plain": [
              "<graphviz.graphs.Digraph at 0x7a36e94af020>"
            ]
          },
          "metadata": {}
        },
        {
          "output_type": "display_data",
          "data": {
            "text/plain": [
              "<IPython.core.display.Markdown object>"
            ],
            "text/markdown": " **a** **b** aa **ab** **ba** bb **aaa** **aab** **aba** **abb** **baa** **bab** **bba** **bbb** aaaa **aaab** **aaba** aabb **abaa** abab abba **abbb** **baaa** baab baba **babb** bbaa **bbab** **bbba** bbbb **aaaaa** **aaaab** **aaaba** **aaabb** **aabaa** **aabab** **aabba** **aabbb** **abaaa** **abaab** **ababa** **ababb** **abbaa** **abbab** **abbba** **abbbb** **baaaa** **baaab** **baaba** **baabb** **babaa** **babab** **babba** **babbb** **bbaaa** **bbaab** **bbaba** **bbabb** **bbbaa** **bbbab** **bbbba** **bbbbb** aaaaaa **aaaaab** **aaaaba** aaaabb **aaabaa** aaabab aaabba **aaabbb** **aabaaa** aabaab aababa **aababb** aabbaa **aabbab** **aabbba** aabbbb **abaaaa** abaaab abaaba **abaabb** ababaa **ababab** **ababba** ababbb abbaaa **abbaab** **abbaba** abbabb **abbbaa** abbbab abbbba **abbbbb** **baaaaa** baaaab baaaba **baaabb** baabaa **baabab** **baabba** baabbb babaaa **babaab** **bababa** bababb **babbaa** babbab babbba **babbbb** bbaaaa **bbaaab** **bbaaba** bbaabb **bbabaa** bbabab bbabba **bbabbb** **bbbaaa** bbbaab bbbaba **bbbabb** bbbbaa **bbbbab** **bbbbba** bbbbbb **aaaaaaa** **aaaaaab** **aaaaaba** **aaaaabb** **aaaabaa** **aaaabab** **aaaabba** **aaaabbb** **aaabaaa** **aaabaab** **aaababa** **aaababb** **aaabbaa** **aaabbab** **aaabbba** **aaabbbb** **aabaaaa** **aabaaab** **aabaaba** **aabaabb** **aababaa** **aababab** **aababba** **aababbb** **aabbaaa** **aabbaab** **aabbaba** **aabbabb** **aabbbaa** **aabbbab** **aabbbba** **aabbbbb** **abaaaaa** **abaaaab** **abaaaba** **abaaabb** **abaabaa** **abaabab** **abaabba** **abaabbb** **ababaaa** **ababaab** **abababa** **abababb** **ababbaa** **ababbab** **ababbba** **ababbbb** **abbaaaa** **abbaaab** **abbaaba** **abbaabb** **abbabaa** **abbabab** **abbabba** **abbabbb** **abbbaaa** **abbbaab** **abbbaba** **abbbabb** **abbbbaa** **abbbbab** **abbbbba** **abbbbbb** **baaaaaa** **baaaaab** **baaaaba** **baaaabb** **baaabaa** **baaabab** **baaabba** **baaabbb** **baabaaa** **baabaab** **baababa** **baababb** **baabbaa** **baabbab** **baabbba** **baabbbb** **babaaaa** **babaaab** **babaaba** **babaabb** **bababaa** **bababab** **bababba** **bababbb** **babbaaa** **babbaab** **babbaba** **babbabb** **babbbaa** **babbbab** **babbbba** **babbbbb** **bbaaaaa** **bbaaaab** **bbaaaba** **bbaaabb** **bbaabaa** **bbaabab** **bbaabba** **bbaabbb** **bbabaaa** **bbabaab** **bbababa** **bbababb** **bbabbaa** **bbabbab** **bbabbba** **bbabbbb** **bbbaaaa** **bbbaaab** **bbbaaba** **bbbaabb** **bbbabaa** **bbbabab** **bbbabba** **bbbabbb** **bbbbaaa** **bbbbaab** **bbbbaba** **bbbbabb** **bbbbbaa** **bbbbbab** **bbbbbba** **bbbbbbb**"
          },
          "metadata": {}
        }
      ]
    },
    {
      "cell_type": "markdown",
      "source": [
        "---\n",
        "**Problem 2:** Build an FA that accepts only the language of all words with b as the second letter. Show both the picture and the transition table for this machine and find a regular expression for the language.\n",
        "\n",
        "**Answer 2:**\n",
        "\n",
        "RE = $(a + b)b(a+b)^{*}$"
      ],
      "metadata": {
        "id": "ZtdnMh6IJlQh"
      }
    },
    {
      "cell_type": "code",
      "source": [
        "#-------------------------------------------------------------------------------\n",
        "FA['prob5_2'] = (\\\n",
        "  \"$(a+b)b(a+b)^{*}$\"\n",
        ", [ [  ' ','a', 'b']\n",
        "  , [ '-1', 2 ,  2 ]\n",
        "  , [  '2', 3 ,  4 ]\n",
        "  , [  '3', 3 ,  3 ]\n",
        "  , [ '+4', 4 ,  4 ]\n",
        "  ])\n",
        "#-------------------------------------------------------------------------------\n",
        "display_problem('prob5_2')"
      ],
      "metadata": {
        "colab": {
          "base_uri": "https://localhost:8080/",
          "height": 615
        },
        "id": "IwvSBLtWlDcv",
        "outputId": "4ccfb5dd-b06b-4391-c5f5-acaf7a153784"
      },
      "execution_count": 13,
      "outputs": [
        {
          "output_type": "display_data",
          "data": {
            "text/plain": [
              "<IPython.core.display.Latex object>"
            ],
            "text/latex": "$(a+b)b(a+b)^{*}$"
          },
          "metadata": {}
        },
        {
          "output_type": "display_data",
          "data": {
            "image/svg+xml": "<?xml version=\"1.0\" encoding=\"UTF-8\" standalone=\"no\"?>\n<!DOCTYPE svg PUBLIC \"-//W3C//DTD SVG 1.1//EN\"\n \"http://www.w3.org/Graphics/SVG/1.1/DTD/svg11.dtd\">\n<!-- Generated by graphviz version 2.43.0 (0)\n -->\n<!-- Title: %3 Pages: 1 -->\n<svg width=\"247pt\" height=\"238pt\"\n viewBox=\"0.00 0.00 247.00 238.00\" xmlns=\"http://www.w3.org/2000/svg\" xmlns:xlink=\"http://www.w3.org/1999/xlink\">\n<g id=\"graph0\" class=\"graph\" transform=\"scale(1 1) rotate(0) translate(4 234)\">\n<title>%3</title>\n<polygon fill=\"black\" stroke=\"transparent\" points=\"-4,4 -4,-234 243,-234 243,4 -4,4\"/>\n<!-- 1 -->\n<g id=\"node1\" class=\"node\">\n<title>1</title>\n<ellipse fill=\"black\" stroke=\"white\" cx=\"55\" cy=\"-84\" rx=\"18\" ry=\"18\"/>\n<text text-anchor=\"middle\" x=\"55\" y=\"-80.3\" font-family=\"Times,serif\" font-size=\"14.00\" fill=\"white\">1</text>\n</g>\n<!-- 2 -->\n<g id=\"node3\" class=\"node\">\n<title>2</title>\n<ellipse fill=\"black\" stroke=\"white\" cx=\"134\" cy=\"-84\" rx=\"18\" ry=\"18\"/>\n<text text-anchor=\"middle\" x=\"134\" y=\"-80.3\" font-family=\"Times,serif\" font-size=\"14.00\" fill=\"white\">2</text>\n</g>\n<!-- 1&#45;&gt;2 -->\n<g id=\"edge2\" class=\"edge\">\n<title>1&#45;&gt;2</title>\n<path fill=\"none\" stroke=\"white\" d=\"M73.09,-84C82.66,-84 94.82,-84 105.68,-84\"/>\n<polygon fill=\"white\" stroke=\"white\" points=\"105.96,-87.5 115.96,-84 105.96,-80.5 105.96,-87.5\"/>\n<text text-anchor=\"middle\" x=\"94.5\" y=\"-87.8\" font-family=\"Times,serif\" font-size=\"14.00\" fill=\"white\">a</text>\n</g>\n<!-- 1&#45;&gt;2 -->\n<g id=\"edge3\" class=\"edge\">\n<title>1&#45;&gt;2</title>\n<path fill=\"none\" stroke=\"white\" d=\"M70.31,-74.13C76.4,-70.51 83.76,-66.84 91,-65 97.62,-63.32 104.49,-64.87 110.71,-67.68\"/>\n<polygon fill=\"white\" stroke=\"white\" points=\"109.4,-70.96 119.82,-72.86 112.86,-64.88 109.4,-70.96\"/>\n<text text-anchor=\"middle\" x=\"94.5\" y=\"-68.8\" font-family=\"Times,serif\" font-size=\"14.00\" fill=\"white\">b</text>\n</g>\n<!-- &#45;&gt;1 -->\n<g id=\"edge1\" class=\"edge\">\n<title>&#45;&gt;1</title>\n<path fill=\"none\" stroke=\"white\" d=\"M1.15,-84C2.63,-84 14.68,-84 26.9,-84\"/>\n<polygon fill=\"white\" stroke=\"white\" points=\"26.98,-87.5 36.98,-84 26.98,-80.5 26.98,-87.5\"/>\n</g>\n<!-- 3 -->\n<g id=\"node4\" class=\"node\">\n<title>3</title>\n<ellipse fill=\"black\" stroke=\"white\" cx=\"217\" cy=\"-146\" rx=\"18\" ry=\"18\"/>\n<text text-anchor=\"middle\" x=\"217\" y=\"-142.3\" font-family=\"Times,serif\" font-size=\"14.00\" fill=\"white\">3</text>\n</g>\n<!-- 2&#45;&gt;3 -->\n<g id=\"edge4\" class=\"edge\">\n<title>2&#45;&gt;3</title>\n<path fill=\"none\" stroke=\"white\" d=\"M148.74,-94.52C161.19,-104.05 179.75,-118.25 194.22,-129.33\"/>\n<polygon fill=\"white\" stroke=\"white\" points=\"192.12,-132.13 202.19,-135.43 196.38,-126.57 192.12,-132.13\"/>\n<text text-anchor=\"middle\" x=\"173.5\" y=\"-118.8\" font-family=\"Times,serif\" font-size=\"14.00\" fill=\"white\">a</text>\n</g>\n<!-- 4 -->\n<g id=\"node5\" class=\"node\">\n<title>4</title>\n<ellipse fill=\"black\" stroke=\"white\" cx=\"217\" cy=\"-22\" rx=\"18\" ry=\"18\"/>\n<ellipse fill=\"none\" stroke=\"white\" cx=\"217\" cy=\"-22\" rx=\"22\" ry=\"22\"/>\n<text text-anchor=\"middle\" x=\"217\" y=\"-18.3\" font-family=\"Times,serif\" font-size=\"14.00\" fill=\"white\">4</text>\n</g>\n<!-- 2&#45;&gt;4 -->\n<g id=\"edge5\" class=\"edge\">\n<title>2&#45;&gt;4</title>\n<path fill=\"none\" stroke=\"white\" d=\"M148.74,-73.48C160.25,-64.67 176.99,-51.86 190.88,-41.23\"/>\n<polygon fill=\"white\" stroke=\"white\" points=\"193.28,-43.8 199.1,-34.94 189.03,-38.24 193.28,-43.8\"/>\n<text text-anchor=\"middle\" x=\"173.5\" y=\"-60.8\" font-family=\"Times,serif\" font-size=\"14.00\" fill=\"white\">b</text>\n</g>\n<!-- 3&#45;&gt;3 -->\n<g id=\"edge6\" class=\"edge\">\n<title>3&#45;&gt;3</title>\n<path fill=\"none\" stroke=\"white\" d=\"M213.22,-163.78C212.58,-173.31 213.84,-182 217,-182 218.92,-182 220.14,-178.77 220.66,-174.1\"/>\n<polygon fill=\"white\" stroke=\"white\" points=\"224.16,-173.82 220.78,-163.78 217.16,-173.74 224.16,-173.82\"/>\n<text text-anchor=\"middle\" x=\"217\" y=\"-185.8\" font-family=\"Times,serif\" font-size=\"14.00\" fill=\"white\">a</text>\n</g>\n<!-- 3&#45;&gt;3 -->\n<g id=\"edge7\" class=\"edge\">\n<title>3&#45;&gt;3</title>\n<path fill=\"none\" stroke=\"white\" d=\"M210.86,-163.14C207.24,-180.58 209.29,-200 217,-200 223.2,-200 225.74,-187.43 224.61,-173.43\"/>\n<polygon fill=\"white\" stroke=\"white\" points=\"228.02,-172.55 223.14,-163.14 221.09,-173.54 228.02,-172.55\"/>\n<text text-anchor=\"middle\" x=\"217\" y=\"-203.8\" font-family=\"Times,serif\" font-size=\"14.00\" fill=\"white\">b</text>\n</g>\n<!-- 4&#45;&gt;4 -->\n<g id=\"edge8\" class=\"edge\">\n<title>4&#45;&gt;4</title>\n<path fill=\"none\" stroke=\"white\" d=\"M213.12,-43.81C212.75,-53.56 214.05,-62 217,-62 218.85,-62 220.04,-58.7 220.59,-53.85\"/>\n<polygon fill=\"white\" stroke=\"white\" points=\"224.09,-53.9 220.88,-43.81 217.09,-53.7 224.09,-53.9\"/>\n<text text-anchor=\"middle\" x=\"217\" y=\"-65.8\" font-family=\"Times,serif\" font-size=\"14.00\" fill=\"white\">a</text>\n</g>\n<!-- 4&#45;&gt;4 -->\n<g id=\"edge9\" class=\"edge\">\n<title>4&#45;&gt;4</title>\n<path fill=\"none\" stroke=\"white\" d=\"M210.38,-43.11C207.45,-61.1 209.66,-80 217,-80 222.97,-80 225.54,-67.52 224.73,-53.2\"/>\n<polygon fill=\"white\" stroke=\"white\" points=\"228.19,-52.67 223.62,-43.11 221.23,-53.44 228.19,-52.67\"/>\n<text text-anchor=\"middle\" x=\"217\" y=\"-83.8\" font-family=\"Times,serif\" font-size=\"14.00\" fill=\"white\">b</text>\n</g>\n</g>\n</svg>\n",
            "text/plain": [
              "<graphviz.graphs.Digraph at 0x7a36e9401c10>"
            ]
          },
          "metadata": {}
        },
        {
          "output_type": "display_data",
          "data": {
            "text/plain": [
              "<IPython.core.display.Markdown object>"
            ],
            "text/markdown": "**** **a** **b** **aa** ab **ba** bb **aaa** **aab** aba abb **baa** **bab** bba bbb **aaaa** **aaab** **aaba** **aabb** abaa abab abba abbb **baaa** **baab** **baba** **babb** bbaa bbab bbba bbbb **aaaaa** **aaaab** **aaaba** **aaabb** **aabaa** **aabab** **aabba** **aabbb** abaaa abaab ababa ababb abbaa abbab abbba abbbb **baaaa** **baaab** **baaba** **baabb** **babaa** **babab** **babba** **babbb** bbaaa bbaab bbaba bbabb bbbaa bbbab bbbba bbbbb **aaaaaa** **aaaaab** **aaaaba** **aaaabb** **aaabaa** **aaabab** **aaabba** **aaabbb** **aabaaa** **aabaab** **aababa** **aababb** **aabbaa** **aabbab** **aabbba** **aabbbb** abaaaa abaaab abaaba abaabb ababaa ababab ababba ababbb abbaaa abbaab abbaba abbabb abbbaa abbbab abbbba abbbbb **baaaaa** **baaaab** **baaaba** **baaabb** **baabaa** **baabab** **baabba** **baabbb** **babaaa** **babaab** **bababa** **bababb** **babbaa** **babbab** **babbba** **babbbb** bbaaaa bbaaab bbaaba bbaabb bbabaa bbabab bbabba bbabbb bbbaaa bbbaab bbbaba bbbabb bbbbaa bbbbab bbbbba bbbbbb **aaaaaaa** **aaaaaab** **aaaaaba** **aaaaabb** **aaaabaa** **aaaabab** **aaaabba** **aaaabbb** **aaabaaa** **aaabaab** **aaababa** **aaababb** **aaabbaa** **aaabbab** **aaabbba** **aaabbbb** **aabaaaa** **aabaaab** **aabaaba** **aabaabb** **aababaa** **aababab** **aababba** **aababbb** **aabbaaa** **aabbaab** **aabbaba** **aabbabb** **aabbbaa** **aabbbab** **aabbbba** **aabbbbb** abaaaaa abaaaab abaaaba abaaabb abaabaa abaabab abaabba abaabbb ababaaa ababaab abababa abababb ababbaa ababbab ababbba ababbbb abbaaaa abbaaab abbaaba abbaabb abbabaa abbabab abbabba abbabbb abbbaaa abbbaab abbbaba abbbabb abbbbaa abbbbab abbbbba abbbbbb **baaaaaa** **baaaaab** **baaaaba** **baaaabb** **baaabaa** **baaabab** **baaabba** **baaabbb** **baabaaa** **baabaab** **baababa** **baababb** **baabbaa** **baabbab** **baabbba** **baabbbb** **babaaaa** **babaaab** **babaaba** **babaabb** **bababaa** **bababab** **bababba** **bababbb** **babbaaa** **babbaab** **babbaba** **babbabb** **babbbaa** **babbbab** **babbbba** **babbbbb** bbaaaaa bbaaaab bbaaaba bbaaabb bbaabaa bbaabab bbaabba bbaabbb bbabaaa bbabaab bbababa bbababb bbabbaa bbabbab bbabbba bbabbbb bbbaaaa bbbaaab bbbaaba bbbaabb bbbabaa bbbabab bbbabba bbbabbb bbbbaaa bbbbaab bbbbaba bbbbabb bbbbbaa bbbbbab bbbbbba bbbbbbb"
          },
          "metadata": {}
        }
      ]
    },
    {
      "cell_type": "markdown",
      "source": [
        "---\n",
        "**Problem 3:** Build an FA that accepts only the words baa, ab, and abb and no other strings longer or shorter.\n",
        "\n",
        "**Answer 3:**\n",
        "\n",
        "RE = $(ab(Λ + b)+baa)$"
      ],
      "metadata": {
        "id": "-LFG4P6hJlXm"
      }
    },
    {
      "cell_type": "code",
      "source": [
        "#-------------------------------------------------------------------------------\n",
        "FA['prob5_3'] = (\\\n",
        "  \"$(ab(Λ + b)+baa)$\"\n",
        ", [ [  ' ','a', 'b']\n",
        "  , [ '-1', 2 ,  5 ]\n",
        "  , [  '2', 8 ,  3 ]\n",
        "  , [ '+3', 8 ,  4 ]\n",
        "  , [ '+4', 8 ,  8 ]\n",
        "  , [  '5', 6 ,  8 ]\n",
        "  , [  '6', 7 ,  8 ]\n",
        "  , [ '+7', 8 ,  8 ]\n",
        "  , [  '8', 8 ,  8 ]\n",
        "  ])\n",
        "#-------------------------------------------------------------------------------\n",
        "display_problem('prob5_3')"
      ],
      "metadata": {
        "colab": {
          "base_uri": "https://localhost:8080/",
          "height": 623
        },
        "id": "5Ovr5F-emEED",
        "outputId": "44af7cf0-9d08-4755-9b8f-83c51d2baf0b"
      },
      "execution_count": 14,
      "outputs": [
        {
          "output_type": "display_data",
          "data": {
            "text/plain": [
              "<IPython.core.display.Latex object>"
            ],
            "text/latex": "$(ab(Λ + b)+baa)$"
          },
          "metadata": {}
        },
        {
          "output_type": "display_data",
          "data": {
            "image/svg+xml": "<?xml version=\"1.0\" encoding=\"UTF-8\" standalone=\"no\"?>\n<!DOCTYPE svg PUBLIC \"-//W3C//DTD SVG 1.1//EN\"\n \"http://www.w3.org/Graphics/SVG/1.1/DTD/svg11.dtd\">\n<!-- Generated by graphviz version 2.43.0 (0)\n -->\n<!-- Title: %3 Pages: 1 -->\n<svg width=\"413pt\" height=\"244pt\"\n viewBox=\"0.00 0.00 413.00 243.56\" xmlns=\"http://www.w3.org/2000/svg\" xmlns:xlink=\"http://www.w3.org/1999/xlink\">\n<g id=\"graph0\" class=\"graph\" transform=\"scale(1 1) rotate(0) translate(4 239.56)\">\n<title>%3</title>\n<polygon fill=\"black\" stroke=\"transparent\" points=\"-4,4 -4,-239.56 409,-239.56 409,4 -4,4\"/>\n<!-- 1 -->\n<g id=\"node1\" class=\"node\">\n<title>1</title>\n<ellipse fill=\"black\" stroke=\"white\" cx=\"55\" cy=\"-75.56\" rx=\"18\" ry=\"18\"/>\n<text text-anchor=\"middle\" x=\"55\" y=\"-71.86\" font-family=\"Times,serif\" font-size=\"14.00\" fill=\"white\">1</text>\n</g>\n<!-- 2 -->\n<g id=\"node3\" class=\"node\">\n<title>2</title>\n<ellipse fill=\"black\" stroke=\"white\" cx=\"134\" cy=\"-112.56\" rx=\"18\" ry=\"18\"/>\n<text text-anchor=\"middle\" x=\"134\" y=\"-108.86\" font-family=\"Times,serif\" font-size=\"14.00\" fill=\"white\">2</text>\n</g>\n<!-- 1&#45;&gt;2 -->\n<g id=\"edge2\" class=\"edge\">\n<title>1&#45;&gt;2</title>\n<path fill=\"none\" stroke=\"white\" d=\"M71.58,-83.04C82.12,-88.11 96.27,-94.91 108.33,-100.7\"/>\n<polygon fill=\"white\" stroke=\"white\" points=\"106.91,-103.9 117.44,-105.08 109.94,-97.59 106.91,-103.9\"/>\n<text text-anchor=\"middle\" x=\"94.5\" y=\"-98.36\" font-family=\"Times,serif\" font-size=\"14.00\" fill=\"white\">a</text>\n</g>\n<!-- 5 -->\n<g id=\"node6\" class=\"node\">\n<title>5</title>\n<ellipse fill=\"black\" stroke=\"white\" cx=\"134\" cy=\"-48.56\" rx=\"18\" ry=\"18\"/>\n<text text-anchor=\"middle\" x=\"134\" y=\"-44.86\" font-family=\"Times,serif\" font-size=\"14.00\" fill=\"white\">5</text>\n</g>\n<!-- 1&#45;&gt;5 -->\n<g id=\"edge3\" class=\"edge\">\n<title>1&#45;&gt;5</title>\n<path fill=\"none\" stroke=\"white\" d=\"M72.33,-69.83C82.44,-66.29 95.64,-61.66 107.14,-57.62\"/>\n<polygon fill=\"white\" stroke=\"white\" points=\"108.42,-60.89 116.69,-54.27 106.1,-54.28 108.42,-60.89\"/>\n<text text-anchor=\"middle\" x=\"94.5\" y=\"-67.36\" font-family=\"Times,serif\" font-size=\"14.00\" fill=\"white\">b</text>\n</g>\n<!-- &#45;&gt;1 -->\n<g id=\"edge1\" class=\"edge\">\n<title>&#45;&gt;1</title>\n<path fill=\"none\" stroke=\"white\" d=\"M1.15,-75.56C2.63,-75.56 14.68,-75.56 26.9,-75.56\"/>\n<polygon fill=\"white\" stroke=\"white\" points=\"26.98,-79.06 36.98,-75.56 26.98,-72.06 26.98,-79.06\"/>\n</g>\n<!-- 3 -->\n<g id=\"node4\" class=\"node\">\n<title>3</title>\n<ellipse fill=\"black\" stroke=\"white\" cx=\"217\" cy=\"-162.56\" rx=\"18\" ry=\"18\"/>\n<ellipse fill=\"none\" stroke=\"white\" cx=\"217\" cy=\"-162.56\" rx=\"22\" ry=\"22\"/>\n<text text-anchor=\"middle\" x=\"217\" y=\"-158.86\" font-family=\"Times,serif\" font-size=\"14.00\" fill=\"white\">3</text>\n</g>\n<!-- 2&#45;&gt;3 -->\n<g id=\"edge5\" class=\"edge\">\n<title>2&#45;&gt;3</title>\n<path fill=\"none\" stroke=\"white\" d=\"M149.86,-121.73C160.84,-128.51 176.1,-137.93 189.19,-146.01\"/>\n<polygon fill=\"white\" stroke=\"white\" points=\"187.49,-149.07 197.83,-151.34 191.16,-143.11 187.49,-149.07\"/>\n<text text-anchor=\"middle\" x=\"173.5\" y=\"-141.36\" font-family=\"Times,serif\" font-size=\"14.00\" fill=\"white\">b</text>\n</g>\n<!-- 8 -->\n<g id=\"node9\" class=\"node\">\n<title>8</title>\n<ellipse fill=\"black\" stroke=\"white\" cx=\"387\" cy=\"-97.56\" rx=\"18\" ry=\"18\"/>\n<text text-anchor=\"middle\" x=\"387\" y=\"-93.86\" font-family=\"Times,serif\" font-size=\"14.00\" fill=\"white\">8</text>\n</g>\n<!-- 2&#45;&gt;8 -->\n<g id=\"edge4\" class=\"edge\">\n<title>2&#45;&gt;8</title>\n<path fill=\"none\" stroke=\"white\" d=\"M152.25,-111.52C195.16,-108.96 306.98,-102.28 358.85,-99.18\"/>\n<polygon fill=\"white\" stroke=\"white\" points=\"359.19,-102.66 368.96,-98.57 358.77,-95.68 359.19,-102.66\"/>\n<text text-anchor=\"middle\" x=\"260.5\" y=\"-108.36\" font-family=\"Times,serif\" font-size=\"14.00\" fill=\"white\">a</text>\n</g>\n<!-- 4 -->\n<g id=\"node5\" class=\"node\">\n<title>4</title>\n<ellipse fill=\"black\" stroke=\"white\" cx=\"304\" cy=\"-213.56\" rx=\"18\" ry=\"18\"/>\n<ellipse fill=\"none\" stroke=\"white\" cx=\"304\" cy=\"-213.56\" rx=\"22\" ry=\"22\"/>\n<text text-anchor=\"middle\" x=\"304\" y=\"-209.86\" font-family=\"Times,serif\" font-size=\"14.00\" fill=\"white\">4</text>\n</g>\n<!-- 3&#45;&gt;4 -->\n<g id=\"edge7\" class=\"edge\">\n<title>3&#45;&gt;4</title>\n<path fill=\"none\" stroke=\"white\" d=\"M236.44,-173.62C247.92,-180.51 262.88,-189.48 275.71,-197.18\"/>\n<polygon fill=\"white\" stroke=\"white\" points=\"274.22,-200.37 284.59,-202.51 277.82,-194.36 274.22,-200.37\"/>\n<text text-anchor=\"middle\" x=\"260.5\" y=\"-193.36\" font-family=\"Times,serif\" font-size=\"14.00\" fill=\"white\">b</text>\n</g>\n<!-- 3&#45;&gt;8 -->\n<g id=\"edge6\" class=\"edge\">\n<title>3&#45;&gt;8</title>\n<path fill=\"none\" stroke=\"white\" d=\"M238.82,-159.74C265.88,-155.46 314.04,-145.71 351,-126.56 356.17,-123.88 361.26,-120.34 365.9,-116.65\"/>\n<polygon fill=\"white\" stroke=\"white\" points=\"368.33,-119.17 373.66,-110.02 363.78,-113.85 368.33,-119.17\"/>\n<text text-anchor=\"middle\" x=\"304\" y=\"-154.36\" font-family=\"Times,serif\" font-size=\"14.00\" fill=\"white\">a</text>\n</g>\n<!-- 4&#45;&gt;8 -->\n<g id=\"edge8\" class=\"edge\">\n<title>4&#45;&gt;8</title>\n<path fill=\"none\" stroke=\"white\" d=\"M326.19,-215.47C334.75,-215.14 344.2,-213.24 351,-207.56 374.95,-187.54 382.71,-151.16 385.12,-125.74\"/>\n<polygon fill=\"white\" stroke=\"white\" points=\"388.62,-125.82 385.86,-115.6 381.64,-125.32 388.62,-125.82\"/>\n<text text-anchor=\"middle\" x=\"347.5\" y=\"-214.36\" font-family=\"Times,serif\" font-size=\"14.00\" fill=\"white\">a</text>\n</g>\n<!-- 4&#45;&gt;8 -->\n<g id=\"edge9\" class=\"edge\">\n<title>4&#45;&gt;8</title>\n<path fill=\"none\" stroke=\"white\" d=\"M321.75,-200.13C331.17,-191.99 342.67,-180.99 351,-169.56 361.31,-155.41 369.95,-137.76 376.06,-123.47\"/>\n<polygon fill=\"white\" stroke=\"white\" points=\"379.31,-124.78 379.88,-114.21 372.84,-122.12 379.31,-124.78\"/>\n<text text-anchor=\"middle\" x=\"347.5\" y=\"-181.36\" font-family=\"Times,serif\" font-size=\"14.00\" fill=\"white\">b</text>\n</g>\n<!-- 6 -->\n<g id=\"node7\" class=\"node\">\n<title>6</title>\n<ellipse fill=\"black\" stroke=\"white\" cx=\"217\" cy=\"-48.56\" rx=\"18\" ry=\"18\"/>\n<text text-anchor=\"middle\" x=\"217\" y=\"-44.86\" font-family=\"Times,serif\" font-size=\"14.00\" fill=\"white\">6</text>\n</g>\n<!-- 5&#45;&gt;6 -->\n<g id=\"edge10\" class=\"edge\">\n<title>5&#45;&gt;6</title>\n<path fill=\"none\" stroke=\"white\" d=\"M152.18,-48.56C162.81,-48.56 176.69,-48.56 188.8,-48.56\"/>\n<polygon fill=\"white\" stroke=\"white\" points=\"188.85,-52.06 198.85,-48.56 188.85,-45.06 188.85,-52.06\"/>\n<text text-anchor=\"middle\" x=\"173.5\" y=\"-52.36\" font-family=\"Times,serif\" font-size=\"14.00\" fill=\"white\">a</text>\n</g>\n<!-- 5&#45;&gt;8 -->\n<g id=\"edge11\" class=\"edge\">\n<title>5&#45;&gt;8</title>\n<path fill=\"none\" stroke=\"white\" d=\"M150.26,-39.63C183.18,-21.58 262.97,15.61 326,-7.56 353.18,-17.54 369.38,-48.15 377.97,-70.91\"/>\n<polygon fill=\"white\" stroke=\"white\" points=\"374.69,-72.13 381.3,-80.41 381.3,-69.81 374.69,-72.13\"/>\n<text text-anchor=\"middle\" x=\"260.5\" y=\"-6.36\" font-family=\"Times,serif\" font-size=\"14.00\" fill=\"white\">b</text>\n</g>\n<!-- 7 -->\n<g id=\"node8\" class=\"node\">\n<title>7</title>\n<ellipse fill=\"black\" stroke=\"white\" cx=\"304\" cy=\"-62.56\" rx=\"18\" ry=\"18\"/>\n<ellipse fill=\"none\" stroke=\"white\" cx=\"304\" cy=\"-62.56\" rx=\"22\" ry=\"22\"/>\n<text text-anchor=\"middle\" x=\"304\" y=\"-58.86\" font-family=\"Times,serif\" font-size=\"14.00\" fill=\"white\">7</text>\n</g>\n<!-- 6&#45;&gt;7 -->\n<g id=\"edge12\" class=\"edge\">\n<title>6&#45;&gt;7</title>\n<path fill=\"none\" stroke=\"white\" d=\"M234.79,-51.32C245.38,-53.06 259.37,-55.37 271.92,-57.44\"/>\n<polygon fill=\"white\" stroke=\"white\" points=\"271.59,-60.93 282.02,-59.1 272.72,-54.02 271.59,-60.93\"/>\n<text text-anchor=\"middle\" x=\"260.5\" y=\"-60.36\" font-family=\"Times,serif\" font-size=\"14.00\" fill=\"white\">a</text>\n</g>\n<!-- 6&#45;&gt;8 -->\n<g id=\"edge13\" class=\"edge\">\n<title>6&#45;&gt;8</title>\n<path fill=\"none\" stroke=\"white\" d=\"M231.89,-38.07C253.04,-23.47 294.21,-0.54 326,-16.56 348.86,-28.07 365.19,-52.88 374.98,-72.02\"/>\n<polygon fill=\"white\" stroke=\"white\" points=\"371.89,-73.66 379.39,-81.15 378.19,-70.62 371.89,-73.66\"/>\n<text text-anchor=\"middle\" x=\"304\" y=\"-20.36\" font-family=\"Times,serif\" font-size=\"14.00\" fill=\"white\">b</text>\n</g>\n<!-- 7&#45;&gt;8 -->\n<g id=\"edge14\" class=\"edge\">\n<title>7&#45;&gt;8</title>\n<path fill=\"none\" stroke=\"white\" d=\"M324.61,-71.03C335.51,-75.74 349.19,-81.65 360.87,-86.7\"/>\n<polygon fill=\"white\" stroke=\"white\" points=\"359.53,-89.93 370.1,-90.69 362.31,-83.51 359.53,-89.93\"/>\n<text text-anchor=\"middle\" x=\"347.5\" y=\"-85.36\" font-family=\"Times,serif\" font-size=\"14.00\" fill=\"white\">a</text>\n</g>\n<!-- 7&#45;&gt;8 -->\n<g id=\"edge15\" class=\"edge\">\n<title>7&#45;&gt;8</title>\n<path fill=\"none\" stroke=\"white\" d=\"M325.86,-57.85C333.99,-56.97 343.22,-57.2 351,-60.56 358.26,-63.68 364.71,-69.13 370.04,-74.91\"/>\n<polygon fill=\"white\" stroke=\"white\" points=\"367.51,-77.33 376.58,-82.79 372.89,-72.86 367.51,-77.33\"/>\n<text text-anchor=\"middle\" x=\"347.5\" y=\"-64.36\" font-family=\"Times,serif\" font-size=\"14.00\" fill=\"white\">b</text>\n</g>\n<!-- 8&#45;&gt;8 -->\n<g id=\"edge16\" class=\"edge\">\n<title>8&#45;&gt;8</title>\n<path fill=\"none\" stroke=\"white\" d=\"M383.58,-115.34C383,-124.87 384.14,-133.56 387,-133.56 388.74,-133.56 389.84,-130.33 390.31,-125.65\"/>\n<polygon fill=\"white\" stroke=\"white\" points=\"393.81,-125.37 390.42,-115.34 386.81,-125.3 393.81,-125.37\"/>\n<text text-anchor=\"middle\" x=\"387\" y=\"-137.36\" font-family=\"Times,serif\" font-size=\"14.00\" fill=\"white\">a</text>\n</g>\n<!-- 8&#45;&gt;8 -->\n<g id=\"edge17\" class=\"edge\">\n<title>8&#45;&gt;8</title>\n<path fill=\"none\" stroke=\"white\" d=\"M381.44,-114.7C378.17,-132.14 380.02,-151.56 387,-151.56 392.61,-151.56 394.91,-138.98 393.89,-124.98\"/>\n<polygon fill=\"white\" stroke=\"white\" points=\"397.31,-124.17 392.56,-114.7 390.37,-125.06 397.31,-124.17\"/>\n<text text-anchor=\"middle\" x=\"387\" y=\"-155.36\" font-family=\"Times,serif\" font-size=\"14.00\" fill=\"white\">b</text>\n</g>\n</g>\n</svg>\n",
            "text/plain": [
              "<graphviz.graphs.Digraph at 0x7a36e9579fa0>"
            ]
          },
          "metadata": {}
        },
        {
          "output_type": "display_data",
          "data": {
            "text/plain": [
              "<IPython.core.display.Markdown object>"
            ],
            "text/markdown": "**** **a** **b** **aa** ab **ba** **bb** **aaa** **aab** **aba** abb baa **bab** **bba** **bbb** **aaaa** **aaab** **aaba** **aabb** **abaa** **abab** **abba** **abbb** **baaa** **baab** **baba** **babb** **bbaa** **bbab** **bbba** **bbbb** **aaaaa** **aaaab** **aaaba** **aaabb** **aabaa** **aabab** **aabba** **aabbb** **abaaa** **abaab** **ababa** **ababb** **abbaa** **abbab** **abbba** **abbbb** **baaaa** **baaab** **baaba** **baabb** **babaa** **babab** **babba** **babbb** **bbaaa** **bbaab** **bbaba** **bbabb** **bbbaa** **bbbab** **bbbba** **bbbbb** **aaaaaa** **aaaaab** **aaaaba** **aaaabb** **aaabaa** **aaabab** **aaabba** **aaabbb** **aabaaa** **aabaab** **aababa** **aababb** **aabbaa** **aabbab** **aabbba** **aabbbb** **abaaaa** **abaaab** **abaaba** **abaabb** **ababaa** **ababab** **ababba** **ababbb** **abbaaa** **abbaab** **abbaba** **abbabb** **abbbaa** **abbbab** **abbbba** **abbbbb** **baaaaa** **baaaab** **baaaba** **baaabb** **baabaa** **baabab** **baabba** **baabbb** **babaaa** **babaab** **bababa** **bababb** **babbaa** **babbab** **babbba** **babbbb** **bbaaaa** **bbaaab** **bbaaba** **bbaabb** **bbabaa** **bbabab** **bbabba** **bbabbb** **bbbaaa** **bbbaab** **bbbaba** **bbbabb** **bbbbaa** **bbbbab** **bbbbba** **bbbbbb** **aaaaaaa** **aaaaaab** **aaaaaba** **aaaaabb** **aaaabaa** **aaaabab** **aaaabba** **aaaabbb** **aaabaaa** **aaabaab** **aaababa** **aaababb** **aaabbaa** **aaabbab** **aaabbba** **aaabbbb** **aabaaaa** **aabaaab** **aabaaba** **aabaabb** **aababaa** **aababab** **aababba** **aababbb** **aabbaaa** **aabbaab** **aabbaba** **aabbabb** **aabbbaa** **aabbbab** **aabbbba** **aabbbbb** **abaaaaa** **abaaaab** **abaaaba** **abaaabb** **abaabaa** **abaabab** **abaabba** **abaabbb** **ababaaa** **ababaab** **abababa** **abababb** **ababbaa** **ababbab** **ababbba** **ababbbb** **abbaaaa** **abbaaab** **abbaaba** **abbaabb** **abbabaa** **abbabab** **abbabba** **abbabbb** **abbbaaa** **abbbaab** **abbbaba** **abbbabb** **abbbbaa** **abbbbab** **abbbbba** **abbbbbb** **baaaaaa** **baaaaab** **baaaaba** **baaaabb** **baaabaa** **baaabab** **baaabba** **baaabbb** **baabaaa** **baabaab** **baababa** **baababb** **baabbaa** **baabbab** **baabbba** **baabbbb** **babaaaa** **babaaab** **babaaba** **babaabb** **bababaa** **bababab** **bababba** **bababbb** **babbaaa** **babbaab** **babbaba** **babbabb** **babbbaa** **babbbab** **babbbba** **babbbbb** **bbaaaaa** **bbaaaab** **bbaaaba** **bbaaabb** **bbaabaa** **bbaabab** **bbaabba** **bbaabbb** **bbabaaa** **bbabaab** **bbababa** **bbababb** **bbabbaa** **bbabbab** **bbabbba** **bbabbbb** **bbbaaaa** **bbbaaab** **bbbaaba** **bbbaabb** **bbbabaa** **bbbabab** **bbbabba** **bbbabbb** **bbbbaaa** **bbbbaab** **bbbbaba** **bbbbabb** **bbbbbaa** **bbbbbab** **bbbbbba** **bbbbbbb**"
          },
          "metadata": {}
        }
      ]
    },
    {
      "cell_type": "markdown",
      "source": [
        "---\n",
        "**Problem 4:**\n",
        "* (i) Build an FA with the three states that accepts all strings.\n",
        "* (ii) Show that given any FA with three states and three *+*'s, it accepts all input strings.\n",
        "* (iii) If an FA has three states and only one *+*, must it reject some inputs?\n",
        "\n",
        "**Answer 4:**\n",
        "- *See below*\n",
        "- follows from the pigeon-hole principle\n",
        "- No."
      ],
      "metadata": {
        "id": "IyWbBjIvJle0"
      }
    },
    {
      "cell_type": "code",
      "source": [
        "FA['prob5_4'] = (\\\n",
        "  \"$(a+b)(a+b)(a+b)^{*}$\"\n",
        ", [ [ ' ' , 'a', 'b']\n",
        "  , ['-+1',  2 ,  2 ]\n",
        "  , [ '+2',  3 ,  3 ]\n",
        "  , [ '+3',  3 ,  3 ]\n",
        "  ])\n",
        "#-------------------------------------------------------------------------------\n",
        "display_problem('prob5_4')"
      ],
      "metadata": {
        "colab": {
          "base_uri": "https://localhost:8080/",
          "height": 438
        },
        "id": "Ps2SwUaQoi_k",
        "outputId": "33cc264f-d66e-46ee-f8d2-f6ebe2013d8a"
      },
      "execution_count": 15,
      "outputs": [
        {
          "output_type": "display_data",
          "data": {
            "text/plain": [
              "<IPython.core.display.Latex object>"
            ],
            "text/latex": "$(a+b)(a+b)(a+b)^{*}$"
          },
          "metadata": {}
        },
        {
          "output_type": "display_data",
          "data": {
            "image/svg+xml": "<?xml version=\"1.0\" encoding=\"UTF-8\" standalone=\"no\"?>\n<!DOCTYPE svg PUBLIC \"-//W3C//DTD SVG 1.1//EN\"\n \"http://www.w3.org/Graphics/SVG/1.1/DTD/svg11.dtd\">\n<!-- Generated by graphviz version 2.43.0 (0)\n -->\n<!-- Title: %3 Pages: 1 -->\n<svg width=\"263pt\" height=\"118pt\"\n viewBox=\"0.00 0.00 263.00 118.00\" xmlns=\"http://www.w3.org/2000/svg\" xmlns:xlink=\"http://www.w3.org/1999/xlink\">\n<g id=\"graph0\" class=\"graph\" transform=\"scale(1 1) rotate(0) translate(4 114)\">\n<title>%3</title>\n<polygon fill=\"black\" stroke=\"transparent\" points=\"-4,4 -4,-114 259,-114 259,4 -4,4\"/>\n<!-- 1 -->\n<g id=\"node1\" class=\"node\">\n<title>1</title>\n<ellipse fill=\"black\" stroke=\"white\" cx=\"59\" cy=\"-22\" rx=\"18\" ry=\"18\"/>\n<ellipse fill=\"none\" stroke=\"white\" cx=\"59\" cy=\"-22\" rx=\"22\" ry=\"22\"/>\n<text text-anchor=\"middle\" x=\"59\" y=\"-18.3\" font-family=\"Times,serif\" font-size=\"14.00\" fill=\"white\">1</text>\n</g>\n<!-- 2 -->\n<g id=\"node3\" class=\"node\">\n<title>2</title>\n<ellipse fill=\"black\" stroke=\"white\" cx=\"146\" cy=\"-22\" rx=\"18\" ry=\"18\"/>\n<ellipse fill=\"none\" stroke=\"white\" cx=\"146\" cy=\"-22\" rx=\"22\" ry=\"22\"/>\n<text text-anchor=\"middle\" x=\"146\" y=\"-18.3\" font-family=\"Times,serif\" font-size=\"14.00\" fill=\"white\">2</text>\n</g>\n<!-- 1&#45;&gt;2 -->\n<g id=\"edge2\" class=\"edge\">\n<title>1&#45;&gt;2</title>\n<path fill=\"none\" stroke=\"white\" d=\"M81.01,-22C90.92,-22 102.95,-22 113.89,-22\"/>\n<polygon fill=\"white\" stroke=\"white\" points=\"113.94,-25.5 123.94,-22 113.94,-18.5 113.94,-25.5\"/>\n<text text-anchor=\"middle\" x=\"102.5\" y=\"-25.8\" font-family=\"Times,serif\" font-size=\"14.00\" fill=\"white\">a</text>\n</g>\n<!-- 1&#45;&gt;2 -->\n<g id=\"edge3\" class=\"edge\">\n<title>1&#45;&gt;2</title>\n<path fill=\"none\" stroke=\"white\" d=\"M78.4,-10.92C84.71,-7.7 91.95,-4.62 99,-3 105.52,-1.5 112.3,-2.64 118.6,-4.97\"/>\n<polygon fill=\"white\" stroke=\"white\" points=\"117.43,-8.29 127.97,-9.39 120.42,-1.96 117.43,-8.29\"/>\n<text text-anchor=\"middle\" x=\"102.5\" y=\"-6.8\" font-family=\"Times,serif\" font-size=\"14.00\" fill=\"white\">b</text>\n</g>\n<!-- &#45;&gt;1 -->\n<g id=\"edge1\" class=\"edge\">\n<title>&#45;&gt;1</title>\n<path fill=\"none\" stroke=\"white\" d=\"M1.16,-22C2.66,-22 14.26,-22 26.58,-22\"/>\n<polygon fill=\"white\" stroke=\"white\" points=\"26.91,-25.5 36.91,-22 26.91,-18.5 26.91,-25.5\"/>\n</g>\n<!-- 3 -->\n<g id=\"node4\" class=\"node\">\n<title>3</title>\n<ellipse fill=\"black\" stroke=\"white\" cx=\"233\" cy=\"-22\" rx=\"18\" ry=\"18\"/>\n<ellipse fill=\"none\" stroke=\"white\" cx=\"233\" cy=\"-22\" rx=\"22\" ry=\"22\"/>\n<text text-anchor=\"middle\" x=\"233\" y=\"-18.3\" font-family=\"Times,serif\" font-size=\"14.00\" fill=\"white\">3</text>\n</g>\n<!-- 2&#45;&gt;3 -->\n<g id=\"edge4\" class=\"edge\">\n<title>2&#45;&gt;3</title>\n<path fill=\"none\" stroke=\"white\" d=\"M168.01,-22C177.92,-22 189.95,-22 200.89,-22\"/>\n<polygon fill=\"white\" stroke=\"white\" points=\"200.94,-25.5 210.94,-22 200.94,-18.5 200.94,-25.5\"/>\n<text text-anchor=\"middle\" x=\"189.5\" y=\"-25.8\" font-family=\"Times,serif\" font-size=\"14.00\" fill=\"white\">a</text>\n</g>\n<!-- 2&#45;&gt;3 -->\n<g id=\"edge5\" class=\"edge\">\n<title>2&#45;&gt;3</title>\n<path fill=\"none\" stroke=\"white\" d=\"M164.03,-9.39C172.52,-4.57 183.06,-0.71 193,-3 196.74,-3.86 200.54,-5.14 204.23,-6.62\"/>\n<polygon fill=\"white\" stroke=\"white\" points=\"203.05,-9.93 213.6,-10.92 205.96,-3.57 203.05,-9.93\"/>\n<text text-anchor=\"middle\" x=\"189.5\" y=\"-6.8\" font-family=\"Times,serif\" font-size=\"14.00\" fill=\"white\">b</text>\n</g>\n<!-- 3&#45;&gt;3 -->\n<g id=\"edge6\" class=\"edge\">\n<title>3&#45;&gt;3</title>\n<path fill=\"none\" stroke=\"white\" d=\"M229.12,-43.81C228.75,-53.56 230.05,-62 233,-62 234.85,-62 236.04,-58.7 236.59,-53.85\"/>\n<polygon fill=\"white\" stroke=\"white\" points=\"240.09,-53.9 236.88,-43.81 233.09,-53.7 240.09,-53.9\"/>\n<text text-anchor=\"middle\" x=\"233\" y=\"-65.8\" font-family=\"Times,serif\" font-size=\"14.00\" fill=\"white\">a</text>\n</g>\n<!-- 3&#45;&gt;3 -->\n<g id=\"edge7\" class=\"edge\">\n<title>3&#45;&gt;3</title>\n<path fill=\"none\" stroke=\"white\" d=\"M226.38,-43.11C223.45,-61.1 225.66,-80 233,-80 238.97,-80 241.54,-67.52 240.73,-53.2\"/>\n<polygon fill=\"white\" stroke=\"white\" points=\"244.19,-52.67 239.62,-43.11 237.23,-53.44 244.19,-52.67\"/>\n<text text-anchor=\"middle\" x=\"233\" y=\"-83.8\" font-family=\"Times,serif\" font-size=\"14.00\" fill=\"white\">b</text>\n</g>\n</g>\n</svg>\n",
            "text/plain": [
              "<graphviz.graphs.Digraph at 0x7a36e94afc50>"
            ]
          },
          "metadata": {}
        },
        {
          "output_type": "display_data",
          "data": {
            "text/plain": [
              "<IPython.core.display.Markdown object>"
            ],
            "text/markdown": " a b aa ab ba bb aaa aab aba abb baa bab bba bbb aaaa aaab aaba aabb abaa abab abba abbb baaa baab baba babb bbaa bbab bbba bbbb aaaaa aaaab aaaba aaabb aabaa aabab aabba aabbb abaaa abaab ababa ababb abbaa abbab abbba abbbb baaaa baaab baaba baabb babaa babab babba babbb bbaaa bbaab bbaba bbabb bbbaa bbbab bbbba bbbbb aaaaaa aaaaab aaaaba aaaabb aaabaa aaabab aaabba aaabbb aabaaa aabaab aababa aababb aabbaa aabbab aabbba aabbbb abaaaa abaaab abaaba abaabb ababaa ababab ababba ababbb abbaaa abbaab abbaba abbabb abbbaa abbbab abbbba abbbbb baaaaa baaaab baaaba baaabb baabaa baabab baabba baabbb babaaa babaab bababa bababb babbaa babbab babbba babbbb bbaaaa bbaaab bbaaba bbaabb bbabaa bbabab bbabba bbabbb bbbaaa bbbaab bbbaba bbbabb bbbbaa bbbbab bbbbba bbbbbb aaaaaaa aaaaaab aaaaaba aaaaabb aaaabaa aaaabab aaaabba aaaabbb aaabaaa aaabaab aaababa aaababb aaabbaa aaabbab aaabbba aaabbbb aabaaaa aabaaab aabaaba aabaabb aababaa aababab aababba aababbb aabbaaa aabbaab aabbaba aabbabb aabbbaa aabbbab aabbbba aabbbbb abaaaaa abaaaab abaaaba abaaabb abaabaa abaabab abaabba abaabbb ababaaa ababaab abababa abababb ababbaa ababbab ababbba ababbbb abbaaaa abbaaab abbaaba abbaabb abbabaa abbabab abbabba abbabbb abbbaaa abbbaab abbbaba abbbabb abbbbaa abbbbab abbbbba abbbbbb baaaaaa baaaaab baaaaba baaaabb baaabaa baaabab baaabba baaabbb baabaaa baabaab baababa baababb baabbaa baabbab baabbba baabbbb babaaaa babaaab babaaba babaabb bababaa bababab bababba bababbb babbaaa babbaab babbaba babbabb babbbaa babbbab babbbba babbbbb bbaaaaa bbaaaab bbaaaba bbaaabb bbaabaa bbaabab bbaabba bbaabbb bbabaaa bbabaab bbababa bbababb bbabbaa bbabbab bbabbba bbabbbb bbbaaaa bbbaaab bbbaaba bbbaabb bbbabaa bbbabab bbbabba bbbabbb bbbbaaa bbbbaab bbbbaba bbbbabb bbbbbaa bbbbbab bbbbbba bbbbbbb"
          },
          "metadata": {}
        }
      ]
    },
    {
      "cell_type": "markdown",
      "source": [
        "---\n",
        "**Problem 5:**\n",
        "* (i) Build an FA that accepts only those words that have more that four letters.\n",
        "* (ii) Build an FA that accepts only those words that have fewer than four letters.\n",
        "* (iii) Build an FA that accepts only those words with exactly four letters.\n",
        "\n",
        "**Answer 5:**\n",
        "- RE: $\\quad (a+b)^{5}(a+b)^{*}$\n",
        "- RE: $\\quad Λ+a+b+(Λ+a+b+(Λ+a+b)), \\quad (Λ+a+b)^3$\n",
        "- RE: $\\quad (a+b)(a+b)(a+b)(a+b), \\quad (a+b)^4$"
      ],
      "metadata": {
        "id": "44dMX2vLJlla"
      }
    },
    {
      "cell_type": "code",
      "source": [
        "FA['prob5_5_1'] = (\\\n",
        "  \"$(a+b)(a+b)(a+b)(a+b)(a+b)(a+b)^{*}$\"\n",
        ", [ [  ' ', 'a', 'b']\n",
        "  , [ '-1',  2 ,  2 ]\n",
        "  , [  '2',  3 ,  3 ]\n",
        "  , [  '3',  4 ,  4 ]\n",
        "  , [  '4',  5 ,  5 ]\n",
        "  , [  '5',  6 ,  6 ]\n",
        "  , [ '+6',  6 ,  6 ]\n",
        "  ])\n",
        "#-------------------------------------------------------------------------------\n",
        "display_problem('prob5_5_1')"
      ],
      "metadata": {
        "colab": {
          "base_uri": "https://localhost:8080/",
          "height": 455
        },
        "id": "4HL0eg95ruWy",
        "outputId": "738e9487-25ab-4981-988c-689bc0b038be"
      },
      "execution_count": 16,
      "outputs": [
        {
          "output_type": "display_data",
          "data": {
            "text/plain": [
              "<IPython.core.display.Latex object>"
            ],
            "text/latex": "$(a+b)(a+b)(a+b)(a+b)(a+b)(a+b)^{*}$"
          },
          "metadata": {}
        },
        {
          "output_type": "display_data",
          "data": {
            "image/svg+xml": "<?xml version=\"1.0\" encoding=\"UTF-8\" standalone=\"no\"?>\n<!DOCTYPE svg PUBLIC \"-//W3C//DTD SVG 1.1//EN\"\n \"http://www.w3.org/Graphics/SVG/1.1/DTD/svg11.dtd\">\n<!-- Generated by graphviz version 2.43.0 (0)\n -->\n<!-- Title: %3 Pages: 1 -->\n<svg width=\"484pt\" height=\"118pt\"\n viewBox=\"0.00 0.00 484.00 118.00\" xmlns=\"http://www.w3.org/2000/svg\" xmlns:xlink=\"http://www.w3.org/1999/xlink\">\n<g id=\"graph0\" class=\"graph\" transform=\"scale(1 1) rotate(0) translate(4 114)\">\n<title>%3</title>\n<polygon fill=\"black\" stroke=\"transparent\" points=\"-4,4 -4,-114 480,-114 480,4 -4,4\"/>\n<!-- 1 -->\n<g id=\"node1\" class=\"node\">\n<title>1</title>\n<ellipse fill=\"black\" stroke=\"white\" cx=\"55\" cy=\"-22\" rx=\"18\" ry=\"18\"/>\n<text text-anchor=\"middle\" x=\"55\" y=\"-18.3\" font-family=\"Times,serif\" font-size=\"14.00\" fill=\"white\">1</text>\n</g>\n<!-- 2 -->\n<g id=\"node3\" class=\"node\">\n<title>2</title>\n<ellipse fill=\"black\" stroke=\"white\" cx=\"134\" cy=\"-22\" rx=\"18\" ry=\"18\"/>\n<text text-anchor=\"middle\" x=\"134\" y=\"-18.3\" font-family=\"Times,serif\" font-size=\"14.00\" fill=\"white\">2</text>\n</g>\n<!-- 1&#45;&gt;2 -->\n<g id=\"edge2\" class=\"edge\">\n<title>1&#45;&gt;2</title>\n<path fill=\"none\" stroke=\"white\" d=\"M73.09,-22C82.66,-22 94.82,-22 105.68,-22\"/>\n<polygon fill=\"white\" stroke=\"white\" points=\"105.96,-25.5 115.96,-22 105.96,-18.5 105.96,-25.5\"/>\n<text text-anchor=\"middle\" x=\"94.5\" y=\"-25.8\" font-family=\"Times,serif\" font-size=\"14.00\" fill=\"white\">a</text>\n</g>\n<!-- 1&#45;&gt;2 -->\n<g id=\"edge3\" class=\"edge\">\n<title>1&#45;&gt;2</title>\n<path fill=\"none\" stroke=\"white\" d=\"M70.31,-12.13C76.4,-8.51 83.76,-4.84 91,-3 97.62,-1.32 104.49,-2.87 110.71,-5.68\"/>\n<polygon fill=\"white\" stroke=\"white\" points=\"109.4,-8.96 119.82,-10.86 112.86,-2.88 109.4,-8.96\"/>\n<text text-anchor=\"middle\" x=\"94.5\" y=\"-6.8\" font-family=\"Times,serif\" font-size=\"14.00\" fill=\"white\">b</text>\n</g>\n<!-- &#45;&gt;1 -->\n<g id=\"edge1\" class=\"edge\">\n<title>&#45;&gt;1</title>\n<path fill=\"none\" stroke=\"white\" d=\"M1.15,-22C2.63,-22 14.68,-22 26.9,-22\"/>\n<polygon fill=\"white\" stroke=\"white\" points=\"26.98,-25.5 36.98,-22 26.98,-18.5 26.98,-25.5\"/>\n</g>\n<!-- 3 -->\n<g id=\"node4\" class=\"node\">\n<title>3</title>\n<ellipse fill=\"black\" stroke=\"white\" cx=\"213\" cy=\"-22\" rx=\"18\" ry=\"18\"/>\n<text text-anchor=\"middle\" x=\"213\" y=\"-18.3\" font-family=\"Times,serif\" font-size=\"14.00\" fill=\"white\">3</text>\n</g>\n<!-- 2&#45;&gt;3 -->\n<g id=\"edge4\" class=\"edge\">\n<title>2&#45;&gt;3</title>\n<path fill=\"none\" stroke=\"white\" d=\"M152.09,-22C161.66,-22 173.82,-22 184.68,-22\"/>\n<polygon fill=\"white\" stroke=\"white\" points=\"184.96,-25.5 194.96,-22 184.96,-18.5 184.96,-25.5\"/>\n<text text-anchor=\"middle\" x=\"173.5\" y=\"-25.8\" font-family=\"Times,serif\" font-size=\"14.00\" fill=\"white\">a</text>\n</g>\n<!-- 2&#45;&gt;3 -->\n<g id=\"edge5\" class=\"edge\">\n<title>2&#45;&gt;3</title>\n<path fill=\"none\" stroke=\"white\" d=\"M149.31,-12.13C155.4,-8.51 162.76,-4.84 170,-3 176.62,-1.32 183.49,-2.87 189.71,-5.68\"/>\n<polygon fill=\"white\" stroke=\"white\" points=\"188.4,-8.96 198.82,-10.86 191.86,-2.88 188.4,-8.96\"/>\n<text text-anchor=\"middle\" x=\"173.5\" y=\"-6.8\" font-family=\"Times,serif\" font-size=\"14.00\" fill=\"white\">b</text>\n</g>\n<!-- 4 -->\n<g id=\"node5\" class=\"node\">\n<title>4</title>\n<ellipse fill=\"black\" stroke=\"white\" cx=\"292\" cy=\"-22\" rx=\"18\" ry=\"18\"/>\n<text text-anchor=\"middle\" x=\"292\" y=\"-18.3\" font-family=\"Times,serif\" font-size=\"14.00\" fill=\"white\">4</text>\n</g>\n<!-- 3&#45;&gt;4 -->\n<g id=\"edge6\" class=\"edge\">\n<title>3&#45;&gt;4</title>\n<path fill=\"none\" stroke=\"white\" d=\"M231.09,-22C240.66,-22 252.82,-22 263.68,-22\"/>\n<polygon fill=\"white\" stroke=\"white\" points=\"263.96,-25.5 273.96,-22 263.96,-18.5 263.96,-25.5\"/>\n<text text-anchor=\"middle\" x=\"252.5\" y=\"-25.8\" font-family=\"Times,serif\" font-size=\"14.00\" fill=\"white\">a</text>\n</g>\n<!-- 3&#45;&gt;4 -->\n<g id=\"edge7\" class=\"edge\">\n<title>3&#45;&gt;4</title>\n<path fill=\"none\" stroke=\"white\" d=\"M228.31,-12.13C234.4,-8.51 241.76,-4.84 249,-3 255.62,-1.32 262.49,-2.87 268.71,-5.68\"/>\n<polygon fill=\"white\" stroke=\"white\" points=\"267.4,-8.96 277.82,-10.86 270.86,-2.88 267.4,-8.96\"/>\n<text text-anchor=\"middle\" x=\"252.5\" y=\"-6.8\" font-family=\"Times,serif\" font-size=\"14.00\" fill=\"white\">b</text>\n</g>\n<!-- 5 -->\n<g id=\"node6\" class=\"node\">\n<title>5</title>\n<ellipse fill=\"black\" stroke=\"white\" cx=\"371\" cy=\"-22\" rx=\"18\" ry=\"18\"/>\n<text text-anchor=\"middle\" x=\"371\" y=\"-18.3\" font-family=\"Times,serif\" font-size=\"14.00\" fill=\"white\">5</text>\n</g>\n<!-- 4&#45;&gt;5 -->\n<g id=\"edge8\" class=\"edge\">\n<title>4&#45;&gt;5</title>\n<path fill=\"none\" stroke=\"white\" d=\"M310.09,-22C319.66,-22 331.82,-22 342.68,-22\"/>\n<polygon fill=\"white\" stroke=\"white\" points=\"342.96,-25.5 352.96,-22 342.96,-18.5 342.96,-25.5\"/>\n<text text-anchor=\"middle\" x=\"331.5\" y=\"-25.8\" font-family=\"Times,serif\" font-size=\"14.00\" fill=\"white\">a</text>\n</g>\n<!-- 4&#45;&gt;5 -->\n<g id=\"edge9\" class=\"edge\">\n<title>4&#45;&gt;5</title>\n<path fill=\"none\" stroke=\"white\" d=\"M307.31,-12.13C313.4,-8.51 320.76,-4.84 328,-3 334.62,-1.32 341.49,-2.87 347.71,-5.68\"/>\n<polygon fill=\"white\" stroke=\"white\" points=\"346.4,-8.96 356.82,-10.86 349.86,-2.88 346.4,-8.96\"/>\n<text text-anchor=\"middle\" x=\"331.5\" y=\"-6.8\" font-family=\"Times,serif\" font-size=\"14.00\" fill=\"white\">b</text>\n</g>\n<!-- 6 -->\n<g id=\"node7\" class=\"node\">\n<title>6</title>\n<ellipse fill=\"black\" stroke=\"white\" cx=\"454\" cy=\"-22\" rx=\"18\" ry=\"18\"/>\n<ellipse fill=\"none\" stroke=\"white\" cx=\"454\" cy=\"-22\" rx=\"22\" ry=\"22\"/>\n<text text-anchor=\"middle\" x=\"454\" y=\"-18.3\" font-family=\"Times,serif\" font-size=\"14.00\" fill=\"white\">6</text>\n</g>\n<!-- 5&#45;&gt;6 -->\n<g id=\"edge10\" class=\"edge\">\n<title>5&#45;&gt;6</title>\n<path fill=\"none\" stroke=\"white\" d=\"M389.18,-22C398.61,-22 410.6,-22 421.64,-22\"/>\n<polygon fill=\"white\" stroke=\"white\" points=\"421.81,-25.5 431.81,-22 421.81,-18.5 421.81,-25.5\"/>\n<text text-anchor=\"middle\" x=\"410.5\" y=\"-25.8\" font-family=\"Times,serif\" font-size=\"14.00\" fill=\"white\">a</text>\n</g>\n<!-- 5&#45;&gt;6 -->\n<g id=\"edge11\" class=\"edge\">\n<title>5&#45;&gt;6</title>\n<path fill=\"none\" stroke=\"white\" d=\"M386.31,-12.13C392.4,-8.51 399.76,-4.84 407,-3 413.49,-1.35 420.26,-2.44 426.55,-4.76\"/>\n<polygon fill=\"white\" stroke=\"white\" points=\"425.39,-8.08 435.93,-9.2 428.39,-1.76 425.39,-8.08\"/>\n<text text-anchor=\"middle\" x=\"410.5\" y=\"-6.8\" font-family=\"Times,serif\" font-size=\"14.00\" fill=\"white\">b</text>\n</g>\n<!-- 6&#45;&gt;6 -->\n<g id=\"edge12\" class=\"edge\">\n<title>6&#45;&gt;6</title>\n<path fill=\"none\" stroke=\"white\" d=\"M450.12,-43.81C449.75,-53.56 451.05,-62 454,-62 455.85,-62 457.04,-58.7 457.59,-53.85\"/>\n<polygon fill=\"white\" stroke=\"white\" points=\"461.09,-53.9 457.88,-43.81 454.09,-53.7 461.09,-53.9\"/>\n<text text-anchor=\"middle\" x=\"454\" y=\"-65.8\" font-family=\"Times,serif\" font-size=\"14.00\" fill=\"white\">a</text>\n</g>\n<!-- 6&#45;&gt;6 -->\n<g id=\"edge13\" class=\"edge\">\n<title>6&#45;&gt;6</title>\n<path fill=\"none\" stroke=\"white\" d=\"M447.38,-43.11C444.45,-61.1 446.66,-80 454,-80 459.97,-80 462.54,-67.52 461.73,-53.2\"/>\n<polygon fill=\"white\" stroke=\"white\" points=\"465.19,-52.67 460.62,-43.11 458.23,-53.44 465.19,-52.67\"/>\n<text text-anchor=\"middle\" x=\"454\" y=\"-83.8\" font-family=\"Times,serif\" font-size=\"14.00\" fill=\"white\">b</text>\n</g>\n</g>\n</svg>\n",
            "text/plain": [
              "<graphviz.graphs.Digraph at 0x7a36e94beb10>"
            ]
          },
          "metadata": {}
        },
        {
          "output_type": "display_data",
          "data": {
            "text/plain": [
              "<IPython.core.display.Markdown object>"
            ],
            "text/markdown": "**** **a** **b** **aa** **ab** **ba** **bb** **aaa** **aab** **aba** **abb** **baa** **bab** **bba** **bbb** **aaaa** **aaab** **aaba** **aabb** **abaa** **abab** **abba** **abbb** **baaa** **baab** **baba** **babb** **bbaa** **bbab** **bbba** **bbbb** aaaaa aaaab aaaba aaabb aabaa aabab aabba aabbb abaaa abaab ababa ababb abbaa abbab abbba abbbb baaaa baaab baaba baabb babaa babab babba babbb bbaaa bbaab bbaba bbabb bbbaa bbbab bbbba bbbbb aaaaaa aaaaab aaaaba aaaabb aaabaa aaabab aaabba aaabbb aabaaa aabaab aababa aababb aabbaa aabbab aabbba aabbbb abaaaa abaaab abaaba abaabb ababaa ababab ababba ababbb abbaaa abbaab abbaba abbabb abbbaa abbbab abbbba abbbbb baaaaa baaaab baaaba baaabb baabaa baabab baabba baabbb babaaa babaab bababa bababb babbaa babbab babbba babbbb bbaaaa bbaaab bbaaba bbaabb bbabaa bbabab bbabba bbabbb bbbaaa bbbaab bbbaba bbbabb bbbbaa bbbbab bbbbba bbbbbb aaaaaaa aaaaaab aaaaaba aaaaabb aaaabaa aaaabab aaaabba aaaabbb aaabaaa aaabaab aaababa aaababb aaabbaa aaabbab aaabbba aaabbbb aabaaaa aabaaab aabaaba aabaabb aababaa aababab aababba aababbb aabbaaa aabbaab aabbaba aabbabb aabbbaa aabbbab aabbbba aabbbbb abaaaaa abaaaab abaaaba abaaabb abaabaa abaabab abaabba abaabbb ababaaa ababaab abababa abababb ababbaa ababbab ababbba ababbbb abbaaaa abbaaab abbaaba abbaabb abbabaa abbabab abbabba abbabbb abbbaaa abbbaab abbbaba abbbabb abbbbaa abbbbab abbbbba abbbbbb baaaaaa baaaaab baaaaba baaaabb baaabaa baaabab baaabba baaabbb baabaaa baabaab baababa baababb baabbaa baabbab baabbba baabbbb babaaaa babaaab babaaba babaabb bababaa bababab bababba bababbb babbaaa babbaab babbaba babbabb babbbaa babbbab babbbba babbbbb bbaaaaa bbaaaab bbaaaba bbaaabb bbaabaa bbaabab bbaabba bbaabbb bbabaaa bbabaab bbababa bbababb bbabbaa bbabbab bbabbba bbabbbb bbbaaaa bbbaaab bbbaaba bbbaabb bbbabaa bbbabab bbbabba bbbabbb bbbbaaa bbbbaab bbbbaba bbbbabb bbbbbaa bbbbbab bbbbbba bbbbbbb"
          },
          "metadata": {}
        }
      ]
    },
    {
      "cell_type": "code",
      "source": [
        "FA['prob5_5_2'] = (\\\n",
        "  \"$(Λ+a+b)(Λ+a+b)(Λ+a+b)$\"\n",
        ", [ [  ' ', 'a', 'b']\n",
        "  , ['-+1',  2 ,  2 ]\n",
        "  , [ '+2',  3 ,  3 ]\n",
        "  , [ '+3',  4 ,  4 ]\n",
        "  , [ '+4',  5 ,  5 ]\n",
        "  , [  '5',  5 ,  5 ]\n",
        "  ])\n",
        "#-------------------------------------------------------------------------------\n",
        "display_problem('prob5_5_2')"
      ],
      "metadata": {
        "colab": {
          "base_uri": "https://localhost:8080/",
          "height": 450
        },
        "id": "PMFXyWtYRB18",
        "outputId": "17b1c77c-a220-49dd-cca9-a485de021484"
      },
      "execution_count": 17,
      "outputs": [
        {
          "output_type": "display_data",
          "data": {
            "text/plain": [
              "<IPython.core.display.Latex object>"
            ],
            "text/latex": "$(Λ+a+b)(Λ+a+b)(Λ+a+b)$"
          },
          "metadata": {}
        },
        {
          "output_type": "display_data",
          "data": {
            "image/svg+xml": "<?xml version=\"1.0\" encoding=\"UTF-8\" standalone=\"no\"?>\n<!DOCTYPE svg PUBLIC \"-//W3C//DTD SVG 1.1//EN\"\n \"http://www.w3.org/Graphics/SVG/1.1/DTD/svg11.dtd\">\n<!-- Generated by graphviz version 2.43.0 (0)\n -->\n<!-- Title: %3 Pages: 1 -->\n<svg width=\"429pt\" height=\"114pt\"\n viewBox=\"0.00 0.00 429.00 114.00\" xmlns=\"http://www.w3.org/2000/svg\" xmlns:xlink=\"http://www.w3.org/1999/xlink\">\n<g id=\"graph0\" class=\"graph\" transform=\"scale(1 1) rotate(0) translate(4 110)\">\n<title>%3</title>\n<polygon fill=\"black\" stroke=\"transparent\" points=\"-4,4 -4,-110 425,-110 425,4 -4,4\"/>\n<!-- 1 -->\n<g id=\"node1\" class=\"node\">\n<title>1</title>\n<ellipse fill=\"black\" stroke=\"white\" cx=\"59\" cy=\"-22\" rx=\"18\" ry=\"18\"/>\n<ellipse fill=\"none\" stroke=\"white\" cx=\"59\" cy=\"-22\" rx=\"22\" ry=\"22\"/>\n<text text-anchor=\"middle\" x=\"59\" y=\"-18.3\" font-family=\"Times,serif\" font-size=\"14.00\" fill=\"white\">1</text>\n</g>\n<!-- 2 -->\n<g id=\"node3\" class=\"node\">\n<title>2</title>\n<ellipse fill=\"black\" stroke=\"white\" cx=\"146\" cy=\"-22\" rx=\"18\" ry=\"18\"/>\n<ellipse fill=\"none\" stroke=\"white\" cx=\"146\" cy=\"-22\" rx=\"22\" ry=\"22\"/>\n<text text-anchor=\"middle\" x=\"146\" y=\"-18.3\" font-family=\"Times,serif\" font-size=\"14.00\" fill=\"white\">2</text>\n</g>\n<!-- 1&#45;&gt;2 -->\n<g id=\"edge2\" class=\"edge\">\n<title>1&#45;&gt;2</title>\n<path fill=\"none\" stroke=\"white\" d=\"M81.01,-22C90.92,-22 102.95,-22 113.89,-22\"/>\n<polygon fill=\"white\" stroke=\"white\" points=\"113.94,-25.5 123.94,-22 113.94,-18.5 113.94,-25.5\"/>\n<text text-anchor=\"middle\" x=\"102.5\" y=\"-25.8\" font-family=\"Times,serif\" font-size=\"14.00\" fill=\"white\">a</text>\n</g>\n<!-- 1&#45;&gt;2 -->\n<g id=\"edge3\" class=\"edge\">\n<title>1&#45;&gt;2</title>\n<path fill=\"none\" stroke=\"white\" d=\"M78.4,-10.92C84.71,-7.7 91.95,-4.62 99,-3 105.52,-1.5 112.3,-2.64 118.6,-4.97\"/>\n<polygon fill=\"white\" stroke=\"white\" points=\"117.43,-8.29 127.97,-9.39 120.42,-1.96 117.43,-8.29\"/>\n<text text-anchor=\"middle\" x=\"102.5\" y=\"-6.8\" font-family=\"Times,serif\" font-size=\"14.00\" fill=\"white\">b</text>\n</g>\n<!-- &#45;&gt;1 -->\n<g id=\"edge1\" class=\"edge\">\n<title>&#45;&gt;1</title>\n<path fill=\"none\" stroke=\"white\" d=\"M1.16,-22C2.66,-22 14.26,-22 26.58,-22\"/>\n<polygon fill=\"white\" stroke=\"white\" points=\"26.91,-25.5 36.91,-22 26.91,-18.5 26.91,-25.5\"/>\n</g>\n<!-- 3 -->\n<g id=\"node4\" class=\"node\">\n<title>3</title>\n<ellipse fill=\"black\" stroke=\"white\" cx=\"233\" cy=\"-22\" rx=\"18\" ry=\"18\"/>\n<ellipse fill=\"none\" stroke=\"white\" cx=\"233\" cy=\"-22\" rx=\"22\" ry=\"22\"/>\n<text text-anchor=\"middle\" x=\"233\" y=\"-18.3\" font-family=\"Times,serif\" font-size=\"14.00\" fill=\"white\">3</text>\n</g>\n<!-- 2&#45;&gt;3 -->\n<g id=\"edge4\" class=\"edge\">\n<title>2&#45;&gt;3</title>\n<path fill=\"none\" stroke=\"white\" d=\"M168.01,-22C177.92,-22 189.95,-22 200.89,-22\"/>\n<polygon fill=\"white\" stroke=\"white\" points=\"200.94,-25.5 210.94,-22 200.94,-18.5 200.94,-25.5\"/>\n<text text-anchor=\"middle\" x=\"189.5\" y=\"-25.8\" font-family=\"Times,serif\" font-size=\"14.00\" fill=\"white\">a</text>\n</g>\n<!-- 2&#45;&gt;3 -->\n<g id=\"edge5\" class=\"edge\">\n<title>2&#45;&gt;3</title>\n<path fill=\"none\" stroke=\"white\" d=\"M164.03,-9.39C172.52,-4.57 183.06,-0.71 193,-3 196.74,-3.86 200.54,-5.14 204.23,-6.62\"/>\n<polygon fill=\"white\" stroke=\"white\" points=\"203.05,-9.93 213.6,-10.92 205.96,-3.57 203.05,-9.93\"/>\n<text text-anchor=\"middle\" x=\"189.5\" y=\"-6.8\" font-family=\"Times,serif\" font-size=\"14.00\" fill=\"white\">b</text>\n</g>\n<!-- 4 -->\n<g id=\"node5\" class=\"node\">\n<title>4</title>\n<ellipse fill=\"black\" stroke=\"white\" cx=\"320\" cy=\"-22\" rx=\"18\" ry=\"18\"/>\n<ellipse fill=\"none\" stroke=\"white\" cx=\"320\" cy=\"-22\" rx=\"22\" ry=\"22\"/>\n<text text-anchor=\"middle\" x=\"320\" y=\"-18.3\" font-family=\"Times,serif\" font-size=\"14.00\" fill=\"white\">4</text>\n</g>\n<!-- 3&#45;&gt;4 -->\n<g id=\"edge6\" class=\"edge\">\n<title>3&#45;&gt;4</title>\n<path fill=\"none\" stroke=\"white\" d=\"M255.01,-22C264.92,-22 276.95,-22 287.89,-22\"/>\n<polygon fill=\"white\" stroke=\"white\" points=\"287.94,-25.5 297.94,-22 287.94,-18.5 287.94,-25.5\"/>\n<text text-anchor=\"middle\" x=\"276.5\" y=\"-25.8\" font-family=\"Times,serif\" font-size=\"14.00\" fill=\"white\">a</text>\n</g>\n<!-- 3&#45;&gt;4 -->\n<g id=\"edge7\" class=\"edge\">\n<title>3&#45;&gt;4</title>\n<path fill=\"none\" stroke=\"white\" d=\"M252.4,-10.92C258.71,-7.7 265.95,-4.62 273,-3 279.52,-1.5 286.3,-2.64 292.6,-4.97\"/>\n<polygon fill=\"white\" stroke=\"white\" points=\"291.43,-8.29 301.97,-9.39 294.42,-1.96 291.43,-8.29\"/>\n<text text-anchor=\"middle\" x=\"276.5\" y=\"-6.8\" font-family=\"Times,serif\" font-size=\"14.00\" fill=\"white\">b</text>\n</g>\n<!-- 5 -->\n<g id=\"node6\" class=\"node\">\n<title>5</title>\n<ellipse fill=\"black\" stroke=\"white\" cx=\"403\" cy=\"-22\" rx=\"18\" ry=\"18\"/>\n<text text-anchor=\"middle\" x=\"403\" y=\"-18.3\" font-family=\"Times,serif\" font-size=\"14.00\" fill=\"white\">5</text>\n</g>\n<!-- 4&#45;&gt;5 -->\n<g id=\"edge8\" class=\"edge\">\n<title>4&#45;&gt;5</title>\n<path fill=\"none\" stroke=\"white\" d=\"M342.28,-22C352.27,-22 364.28,-22 374.9,-22\"/>\n<polygon fill=\"white\" stroke=\"white\" points=\"374.94,-25.5 384.94,-22 374.94,-18.5 374.94,-25.5\"/>\n<text text-anchor=\"middle\" x=\"363.5\" y=\"-25.8\" font-family=\"Times,serif\" font-size=\"14.00\" fill=\"white\">a</text>\n</g>\n<!-- 4&#45;&gt;5 -->\n<g id=\"edge9\" class=\"edge\">\n<title>4&#45;&gt;5</title>\n<path fill=\"none\" stroke=\"white\" d=\"M338.07,-9.2C346.57,-4.33 357.12,-0.49 367,-3 370.96,-4.01 374.95,-5.56 378.76,-7.35\"/>\n<polygon fill=\"white\" stroke=\"white\" points=\"377.22,-10.5 387.69,-12.13 380.52,-4.33 377.22,-10.5\"/>\n<text text-anchor=\"middle\" x=\"363.5\" y=\"-6.8\" font-family=\"Times,serif\" font-size=\"14.00\" fill=\"white\">b</text>\n</g>\n<!-- 5&#45;&gt;5 -->\n<g id=\"edge10\" class=\"edge\">\n<title>5&#45;&gt;5</title>\n<path fill=\"none\" stroke=\"white\" d=\"M399.58,-39.78C399,-49.31 400.14,-58 403,-58 404.74,-58 405.84,-54.77 406.31,-50.1\"/>\n<polygon fill=\"white\" stroke=\"white\" points=\"409.81,-49.82 406.42,-39.78 402.81,-49.74 409.81,-49.82\"/>\n<text text-anchor=\"middle\" x=\"403\" y=\"-61.8\" font-family=\"Times,serif\" font-size=\"14.00\" fill=\"white\">a</text>\n</g>\n<!-- 5&#45;&gt;5 -->\n<g id=\"edge11\" class=\"edge\">\n<title>5&#45;&gt;5</title>\n<path fill=\"none\" stroke=\"white\" d=\"M397.44,-39.14C394.17,-56.58 396.02,-76 403,-76 408.61,-76 410.91,-63.43 409.89,-49.43\"/>\n<polygon fill=\"white\" stroke=\"white\" points=\"413.31,-48.61 408.56,-39.14 406.37,-49.51 413.31,-48.61\"/>\n<text text-anchor=\"middle\" x=\"403\" y=\"-79.8\" font-family=\"Times,serif\" font-size=\"14.00\" fill=\"white\">b</text>\n</g>\n</g>\n</svg>\n",
            "text/plain": [
              "<graphviz.graphs.Digraph at 0x7a36e94af890>"
            ]
          },
          "metadata": {}
        },
        {
          "output_type": "display_data",
          "data": {
            "text/plain": [
              "<IPython.core.display.Markdown object>"
            ],
            "text/markdown": " a b aa ab ba bb aaa aab aba abb baa bab bba bbb **aaaa** **aaab** **aaba** **aabb** **abaa** **abab** **abba** **abbb** **baaa** **baab** **baba** **babb** **bbaa** **bbab** **bbba** **bbbb** **aaaaa** **aaaab** **aaaba** **aaabb** **aabaa** **aabab** **aabba** **aabbb** **abaaa** **abaab** **ababa** **ababb** **abbaa** **abbab** **abbba** **abbbb** **baaaa** **baaab** **baaba** **baabb** **babaa** **babab** **babba** **babbb** **bbaaa** **bbaab** **bbaba** **bbabb** **bbbaa** **bbbab** **bbbba** **bbbbb** **aaaaaa** **aaaaab** **aaaaba** **aaaabb** **aaabaa** **aaabab** **aaabba** **aaabbb** **aabaaa** **aabaab** **aababa** **aababb** **aabbaa** **aabbab** **aabbba** **aabbbb** **abaaaa** **abaaab** **abaaba** **abaabb** **ababaa** **ababab** **ababba** **ababbb** **abbaaa** **abbaab** **abbaba** **abbabb** **abbbaa** **abbbab** **abbbba** **abbbbb** **baaaaa** **baaaab** **baaaba** **baaabb** **baabaa** **baabab** **baabba** **baabbb** **babaaa** **babaab** **bababa** **bababb** **babbaa** **babbab** **babbba** **babbbb** **bbaaaa** **bbaaab** **bbaaba** **bbaabb** **bbabaa** **bbabab** **bbabba** **bbabbb** **bbbaaa** **bbbaab** **bbbaba** **bbbabb** **bbbbaa** **bbbbab** **bbbbba** **bbbbbb** **aaaaaaa** **aaaaaab** **aaaaaba** **aaaaabb** **aaaabaa** **aaaabab** **aaaabba** **aaaabbb** **aaabaaa** **aaabaab** **aaababa** **aaababb** **aaabbaa** **aaabbab** **aaabbba** **aaabbbb** **aabaaaa** **aabaaab** **aabaaba** **aabaabb** **aababaa** **aababab** **aababba** **aababbb** **aabbaaa** **aabbaab** **aabbaba** **aabbabb** **aabbbaa** **aabbbab** **aabbbba** **aabbbbb** **abaaaaa** **abaaaab** **abaaaba** **abaaabb** **abaabaa** **abaabab** **abaabba** **abaabbb** **ababaaa** **ababaab** **abababa** **abababb** **ababbaa** **ababbab** **ababbba** **ababbbb** **abbaaaa** **abbaaab** **abbaaba** **abbaabb** **abbabaa** **abbabab** **abbabba** **abbabbb** **abbbaaa** **abbbaab** **abbbaba** **abbbabb** **abbbbaa** **abbbbab** **abbbbba** **abbbbbb** **baaaaaa** **baaaaab** **baaaaba** **baaaabb** **baaabaa** **baaabab** **baaabba** **baaabbb** **baabaaa** **baabaab** **baababa** **baababb** **baabbaa** **baabbab** **baabbba** **baabbbb** **babaaaa** **babaaab** **babaaba** **babaabb** **bababaa** **bababab** **bababba** **bababbb** **babbaaa** **babbaab** **babbaba** **babbabb** **babbbaa** **babbbab** **babbbba** **babbbbb** **bbaaaaa** **bbaaaab** **bbaaaba** **bbaaabb** **bbaabaa** **bbaabab** **bbaabba** **bbaabbb** **bbabaaa** **bbabaab** **bbababa** **bbababb** **bbabbaa** **bbabbab** **bbabbba** **bbabbbb** **bbbaaaa** **bbbaaab** **bbbaaba** **bbbaabb** **bbbabaa** **bbbabab** **bbbabba** **bbbabbb** **bbbbaaa** **bbbbaab** **bbbbaba** **bbbbabb** **bbbbbaa** **bbbbbab** **bbbbbba** **bbbbbbb**"
          },
          "metadata": {}
        }
      ]
    },
    {
      "cell_type": "code",
      "source": [
        "FA['prob5_5_3'] = (\\\n",
        "  \"$(a+b)(a+b)(a+b)(a+b)$\"\n",
        ", [ [  ' ', 'a', 'b']\n",
        "  , [ '-1',  2 ,  2 ]\n",
        "  , [  '2',  3 ,  3 ]\n",
        "  , [  '3',  4 ,  4 ]\n",
        "  , [  '4',  5 ,  5 ]\n",
        "  , [ '+5',  6 ,  6 ]\n",
        "  , [  '6',  6 ,  6 ]\n",
        "  ])\n",
        "#-------------------------------------------------------------------------------\n",
        "display_problem('prob5_5_3')"
      ],
      "metadata": {
        "colab": {
          "base_uri": "https://localhost:8080/",
          "height": 450
        },
        "id": "HZUZ8jbqRCGb",
        "outputId": "80cf4458-71b7-444a-fc66-6c348302c82e"
      },
      "execution_count": 18,
      "outputs": [
        {
          "output_type": "display_data",
          "data": {
            "text/plain": [
              "<IPython.core.display.Latex object>"
            ],
            "text/latex": "$(a+b)(a+b)(a+b)(a+b)$"
          },
          "metadata": {}
        },
        {
          "output_type": "display_data",
          "data": {
            "image/svg+xml": "<?xml version=\"1.0\" encoding=\"UTF-8\" standalone=\"no\"?>\n<!DOCTYPE svg PUBLIC \"-//W3C//DTD SVG 1.1//EN\"\n \"http://www.w3.org/Graphics/SVG/1.1/DTD/svg11.dtd\">\n<!-- Generated by graphviz version 2.43.0 (0)\n -->\n<!-- Title: %3 Pages: 1 -->\n<svg width=\"484pt\" height=\"114pt\"\n viewBox=\"0.00 0.00 484.00 114.00\" xmlns=\"http://www.w3.org/2000/svg\" xmlns:xlink=\"http://www.w3.org/1999/xlink\">\n<g id=\"graph0\" class=\"graph\" transform=\"scale(1 1) rotate(0) translate(4 110)\">\n<title>%3</title>\n<polygon fill=\"black\" stroke=\"transparent\" points=\"-4,4 -4,-110 480,-110 480,4 -4,4\"/>\n<!-- 1 -->\n<g id=\"node1\" class=\"node\">\n<title>1</title>\n<ellipse fill=\"black\" stroke=\"white\" cx=\"55\" cy=\"-22\" rx=\"18\" ry=\"18\"/>\n<text text-anchor=\"middle\" x=\"55\" y=\"-18.3\" font-family=\"Times,serif\" font-size=\"14.00\" fill=\"white\">1</text>\n</g>\n<!-- 2 -->\n<g id=\"node3\" class=\"node\">\n<title>2</title>\n<ellipse fill=\"black\" stroke=\"white\" cx=\"134\" cy=\"-22\" rx=\"18\" ry=\"18\"/>\n<text text-anchor=\"middle\" x=\"134\" y=\"-18.3\" font-family=\"Times,serif\" font-size=\"14.00\" fill=\"white\">2</text>\n</g>\n<!-- 1&#45;&gt;2 -->\n<g id=\"edge2\" class=\"edge\">\n<title>1&#45;&gt;2</title>\n<path fill=\"none\" stroke=\"white\" d=\"M73.09,-22C82.66,-22 94.82,-22 105.68,-22\"/>\n<polygon fill=\"white\" stroke=\"white\" points=\"105.96,-25.5 115.96,-22 105.96,-18.5 105.96,-25.5\"/>\n<text text-anchor=\"middle\" x=\"94.5\" y=\"-25.8\" font-family=\"Times,serif\" font-size=\"14.00\" fill=\"white\">a</text>\n</g>\n<!-- 1&#45;&gt;2 -->\n<g id=\"edge3\" class=\"edge\">\n<title>1&#45;&gt;2</title>\n<path fill=\"none\" stroke=\"white\" d=\"M70.31,-12.13C76.4,-8.51 83.76,-4.84 91,-3 97.62,-1.32 104.49,-2.87 110.71,-5.68\"/>\n<polygon fill=\"white\" stroke=\"white\" points=\"109.4,-8.96 119.82,-10.86 112.86,-2.88 109.4,-8.96\"/>\n<text text-anchor=\"middle\" x=\"94.5\" y=\"-6.8\" font-family=\"Times,serif\" font-size=\"14.00\" fill=\"white\">b</text>\n</g>\n<!-- &#45;&gt;1 -->\n<g id=\"edge1\" class=\"edge\">\n<title>&#45;&gt;1</title>\n<path fill=\"none\" stroke=\"white\" d=\"M1.15,-22C2.63,-22 14.68,-22 26.9,-22\"/>\n<polygon fill=\"white\" stroke=\"white\" points=\"26.98,-25.5 36.98,-22 26.98,-18.5 26.98,-25.5\"/>\n</g>\n<!-- 3 -->\n<g id=\"node4\" class=\"node\">\n<title>3</title>\n<ellipse fill=\"black\" stroke=\"white\" cx=\"213\" cy=\"-22\" rx=\"18\" ry=\"18\"/>\n<text text-anchor=\"middle\" x=\"213\" y=\"-18.3\" font-family=\"Times,serif\" font-size=\"14.00\" fill=\"white\">3</text>\n</g>\n<!-- 2&#45;&gt;3 -->\n<g id=\"edge4\" class=\"edge\">\n<title>2&#45;&gt;3</title>\n<path fill=\"none\" stroke=\"white\" d=\"M152.09,-22C161.66,-22 173.82,-22 184.68,-22\"/>\n<polygon fill=\"white\" stroke=\"white\" points=\"184.96,-25.5 194.96,-22 184.96,-18.5 184.96,-25.5\"/>\n<text text-anchor=\"middle\" x=\"173.5\" y=\"-25.8\" font-family=\"Times,serif\" font-size=\"14.00\" fill=\"white\">a</text>\n</g>\n<!-- 2&#45;&gt;3 -->\n<g id=\"edge5\" class=\"edge\">\n<title>2&#45;&gt;3</title>\n<path fill=\"none\" stroke=\"white\" d=\"M149.31,-12.13C155.4,-8.51 162.76,-4.84 170,-3 176.62,-1.32 183.49,-2.87 189.71,-5.68\"/>\n<polygon fill=\"white\" stroke=\"white\" points=\"188.4,-8.96 198.82,-10.86 191.86,-2.88 188.4,-8.96\"/>\n<text text-anchor=\"middle\" x=\"173.5\" y=\"-6.8\" font-family=\"Times,serif\" font-size=\"14.00\" fill=\"white\">b</text>\n</g>\n<!-- 4 -->\n<g id=\"node5\" class=\"node\">\n<title>4</title>\n<ellipse fill=\"black\" stroke=\"white\" cx=\"292\" cy=\"-22\" rx=\"18\" ry=\"18\"/>\n<text text-anchor=\"middle\" x=\"292\" y=\"-18.3\" font-family=\"Times,serif\" font-size=\"14.00\" fill=\"white\">4</text>\n</g>\n<!-- 3&#45;&gt;4 -->\n<g id=\"edge6\" class=\"edge\">\n<title>3&#45;&gt;4</title>\n<path fill=\"none\" stroke=\"white\" d=\"M231.09,-22C240.66,-22 252.82,-22 263.68,-22\"/>\n<polygon fill=\"white\" stroke=\"white\" points=\"263.96,-25.5 273.96,-22 263.96,-18.5 263.96,-25.5\"/>\n<text text-anchor=\"middle\" x=\"252.5\" y=\"-25.8\" font-family=\"Times,serif\" font-size=\"14.00\" fill=\"white\">a</text>\n</g>\n<!-- 3&#45;&gt;4 -->\n<g id=\"edge7\" class=\"edge\">\n<title>3&#45;&gt;4</title>\n<path fill=\"none\" stroke=\"white\" d=\"M228.31,-12.13C234.4,-8.51 241.76,-4.84 249,-3 255.62,-1.32 262.49,-2.87 268.71,-5.68\"/>\n<polygon fill=\"white\" stroke=\"white\" points=\"267.4,-8.96 277.82,-10.86 270.86,-2.88 267.4,-8.96\"/>\n<text text-anchor=\"middle\" x=\"252.5\" y=\"-6.8\" font-family=\"Times,serif\" font-size=\"14.00\" fill=\"white\">b</text>\n</g>\n<!-- 5 -->\n<g id=\"node6\" class=\"node\">\n<title>5</title>\n<ellipse fill=\"black\" stroke=\"white\" cx=\"375\" cy=\"-22\" rx=\"18\" ry=\"18\"/>\n<ellipse fill=\"none\" stroke=\"white\" cx=\"375\" cy=\"-22\" rx=\"22\" ry=\"22\"/>\n<text text-anchor=\"middle\" x=\"375\" y=\"-18.3\" font-family=\"Times,serif\" font-size=\"14.00\" fill=\"white\">5</text>\n</g>\n<!-- 4&#45;&gt;5 -->\n<g id=\"edge8\" class=\"edge\">\n<title>4&#45;&gt;5</title>\n<path fill=\"none\" stroke=\"white\" d=\"M310.18,-22C319.61,-22 331.6,-22 342.64,-22\"/>\n<polygon fill=\"white\" stroke=\"white\" points=\"342.81,-25.5 352.81,-22 342.81,-18.5 342.81,-25.5\"/>\n<text text-anchor=\"middle\" x=\"331.5\" y=\"-25.8\" font-family=\"Times,serif\" font-size=\"14.00\" fill=\"white\">a</text>\n</g>\n<!-- 4&#45;&gt;5 -->\n<g id=\"edge9\" class=\"edge\">\n<title>4&#45;&gt;5</title>\n<path fill=\"none\" stroke=\"white\" d=\"M307.31,-12.13C313.4,-8.51 320.76,-4.84 328,-3 334.49,-1.35 341.26,-2.44 347.55,-4.76\"/>\n<polygon fill=\"white\" stroke=\"white\" points=\"346.39,-8.08 356.93,-9.2 349.39,-1.76 346.39,-8.08\"/>\n<text text-anchor=\"middle\" x=\"331.5\" y=\"-6.8\" font-family=\"Times,serif\" font-size=\"14.00\" fill=\"white\">b</text>\n</g>\n<!-- 6 -->\n<g id=\"node7\" class=\"node\">\n<title>6</title>\n<ellipse fill=\"black\" stroke=\"white\" cx=\"458\" cy=\"-22\" rx=\"18\" ry=\"18\"/>\n<text text-anchor=\"middle\" x=\"458\" y=\"-18.3\" font-family=\"Times,serif\" font-size=\"14.00\" fill=\"white\">6</text>\n</g>\n<!-- 5&#45;&gt;6 -->\n<g id=\"edge10\" class=\"edge\">\n<title>5&#45;&gt;6</title>\n<path fill=\"none\" stroke=\"white\" d=\"M397.28,-22C407.27,-22 419.28,-22 429.9,-22\"/>\n<polygon fill=\"white\" stroke=\"white\" points=\"429.94,-25.5 439.94,-22 429.94,-18.5 429.94,-25.5\"/>\n<text text-anchor=\"middle\" x=\"418.5\" y=\"-25.8\" font-family=\"Times,serif\" font-size=\"14.00\" fill=\"white\">a</text>\n</g>\n<!-- 5&#45;&gt;6 -->\n<g id=\"edge11\" class=\"edge\">\n<title>5&#45;&gt;6</title>\n<path fill=\"none\" stroke=\"white\" d=\"M393.07,-9.2C401.57,-4.33 412.12,-0.49 422,-3 425.96,-4.01 429.95,-5.56 433.76,-7.35\"/>\n<polygon fill=\"white\" stroke=\"white\" points=\"432.22,-10.5 442.69,-12.13 435.52,-4.33 432.22,-10.5\"/>\n<text text-anchor=\"middle\" x=\"418.5\" y=\"-6.8\" font-family=\"Times,serif\" font-size=\"14.00\" fill=\"white\">b</text>\n</g>\n<!-- 6&#45;&gt;6 -->\n<g id=\"edge12\" class=\"edge\">\n<title>6&#45;&gt;6</title>\n<path fill=\"none\" stroke=\"white\" d=\"M454.58,-39.78C454,-49.31 455.14,-58 458,-58 459.74,-58 460.84,-54.77 461.31,-50.1\"/>\n<polygon fill=\"white\" stroke=\"white\" points=\"464.81,-49.82 461.42,-39.78 457.81,-49.74 464.81,-49.82\"/>\n<text text-anchor=\"middle\" x=\"458\" y=\"-61.8\" font-family=\"Times,serif\" font-size=\"14.00\" fill=\"white\">a</text>\n</g>\n<!-- 6&#45;&gt;6 -->\n<g id=\"edge13\" class=\"edge\">\n<title>6&#45;&gt;6</title>\n<path fill=\"none\" stroke=\"white\" d=\"M452.44,-39.14C449.17,-56.58 451.02,-76 458,-76 463.61,-76 465.91,-63.43 464.89,-49.43\"/>\n<polygon fill=\"white\" stroke=\"white\" points=\"468.31,-48.61 463.56,-39.14 461.37,-49.51 468.31,-48.61\"/>\n<text text-anchor=\"middle\" x=\"458\" y=\"-79.8\" font-family=\"Times,serif\" font-size=\"14.00\" fill=\"white\">b</text>\n</g>\n</g>\n</svg>\n",
            "text/plain": [
              "<graphviz.graphs.Digraph at 0x7a36e94af950>"
            ]
          },
          "metadata": {}
        },
        {
          "output_type": "display_data",
          "data": {
            "text/plain": [
              "<IPython.core.display.Markdown object>"
            ],
            "text/markdown": "**** **a** **b** **aa** **ab** **ba** **bb** **aaa** **aab** **aba** **abb** **baa** **bab** **bba** **bbb** aaaa aaab aaba aabb abaa abab abba abbb baaa baab baba babb bbaa bbab bbba bbbb **aaaaa** **aaaab** **aaaba** **aaabb** **aabaa** **aabab** **aabba** **aabbb** **abaaa** **abaab** **ababa** **ababb** **abbaa** **abbab** **abbba** **abbbb** **baaaa** **baaab** **baaba** **baabb** **babaa** **babab** **babba** **babbb** **bbaaa** **bbaab** **bbaba** **bbabb** **bbbaa** **bbbab** **bbbba** **bbbbb** **aaaaaa** **aaaaab** **aaaaba** **aaaabb** **aaabaa** **aaabab** **aaabba** **aaabbb** **aabaaa** **aabaab** **aababa** **aababb** **aabbaa** **aabbab** **aabbba** **aabbbb** **abaaaa** **abaaab** **abaaba** **abaabb** **ababaa** **ababab** **ababba** **ababbb** **abbaaa** **abbaab** **abbaba** **abbabb** **abbbaa** **abbbab** **abbbba** **abbbbb** **baaaaa** **baaaab** **baaaba** **baaabb** **baabaa** **baabab** **baabba** **baabbb** **babaaa** **babaab** **bababa** **bababb** **babbaa** **babbab** **babbba** **babbbb** **bbaaaa** **bbaaab** **bbaaba** **bbaabb** **bbabaa** **bbabab** **bbabba** **bbabbb** **bbbaaa** **bbbaab** **bbbaba** **bbbabb** **bbbbaa** **bbbbab** **bbbbba** **bbbbbb** **aaaaaaa** **aaaaaab** **aaaaaba** **aaaaabb** **aaaabaa** **aaaabab** **aaaabba** **aaaabbb** **aaabaaa** **aaabaab** **aaababa** **aaababb** **aaabbaa** **aaabbab** **aaabbba** **aaabbbb** **aabaaaa** **aabaaab** **aabaaba** **aabaabb** **aababaa** **aababab** **aababba** **aababbb** **aabbaaa** **aabbaab** **aabbaba** **aabbabb** **aabbbaa** **aabbbab** **aabbbba** **aabbbbb** **abaaaaa** **abaaaab** **abaaaba** **abaaabb** **abaabaa** **abaabab** **abaabba** **abaabbb** **ababaaa** **ababaab** **abababa** **abababb** **ababbaa** **ababbab** **ababbba** **ababbbb** **abbaaaa** **abbaaab** **abbaaba** **abbaabb** **abbabaa** **abbabab** **abbabba** **abbabbb** **abbbaaa** **abbbaab** **abbbaba** **abbbabb** **abbbbaa** **abbbbab** **abbbbba** **abbbbbb** **baaaaaa** **baaaaab** **baaaaba** **baaaabb** **baaabaa** **baaabab** **baaabba** **baaabbb** **baabaaa** **baabaab** **baababa** **baababb** **baabbaa** **baabbab** **baabbba** **baabbbb** **babaaaa** **babaaab** **babaaba** **babaabb** **bababaa** **bababab** **bababba** **bababbb** **babbaaa** **babbaab** **babbaba** **babbabb** **babbbaa** **babbbab** **babbbba** **babbbbb** **bbaaaaa** **bbaaaab** **bbaaaba** **bbaaabb** **bbaabaa** **bbaabab** **bbaabba** **bbaabbb** **bbabaaa** **bbabaab** **bbababa** **bbababb** **bbabbaa** **bbabbab** **bbabbba** **bbabbbb** **bbbaaaa** **bbbaaab** **bbbaaba** **bbbaabb** **bbbabaa** **bbbabab** **bbbabba** **bbbabbb** **bbbbaaa** **bbbbaab** **bbbbaba** **bbbbabb** **bbbbbaa** **bbbbbab** **bbbbbba** **bbbbbbb**"
          },
          "metadata": {}
        }
      ]
    },
    {
      "cell_type": "markdown",
      "source": [
        "---\n",
        "**Problem 6:** Build an FA that accepts only those words that do *not* end with *ba*.\n",
        "\n",
        "**Answer 6:**\n",
        "RE: $Λ+a+(a+b)^{*}(b+aa)$"
      ],
      "metadata": {
        "id": "nD6JRDgVJl0Y"
      }
    },
    {
      "cell_type": "code",
      "source": [
        "FA['prob5_6'] = (\\\n",
        "  \"$Λ+a+(a+b)^{*}(b+aa)$\"\n",
        ", [ [  ' ' , 'a', 'b']\n",
        "  , ['-+1' ,  1 ,  2 ]\n",
        "  , [ '+2' ,  3 ,  2 ]\n",
        "  , [  '3' ,  1 ,  2 ]])\n",
        "#-------------------------------------------------------------------------------\n",
        "display_problem('prob5_6')"
      ],
      "metadata": {
        "colab": {
          "base_uri": "https://localhost:8080/",
          "height": 463
        },
        "id": "w3oO14d8sDnf",
        "outputId": "96ae4498-3b28-48f6-dbaa-372d8d0cd4c1"
      },
      "execution_count": 19,
      "outputs": [
        {
          "output_type": "display_data",
          "data": {
            "text/plain": [
              "<IPython.core.display.Latex object>"
            ],
            "text/latex": "$Λ+a+(a+b)^{*}(b+aa)$"
          },
          "metadata": {}
        },
        {
          "output_type": "display_data",
          "data": {
            "image/svg+xml": "<?xml version=\"1.0\" encoding=\"UTF-8\" standalone=\"no\"?>\n<!DOCTYPE svg PUBLIC \"-//W3C//DTD SVG 1.1//EN\"\n \"http://www.w3.org/Graphics/SVG/1.1/DTD/svg11.dtd\">\n<!-- Generated by graphviz version 2.43.0 (0)\n -->\n<!-- Title: %3 Pages: 1 -->\n<svg width=\"255pt\" height=\"124pt\"\n viewBox=\"0.00 0.00 255.00 124.00\" xmlns=\"http://www.w3.org/2000/svg\" xmlns:xlink=\"http://www.w3.org/1999/xlink\">\n<g id=\"graph0\" class=\"graph\" transform=\"scale(1 1) rotate(0) translate(4 120)\">\n<title>%3</title>\n<polygon fill=\"black\" stroke=\"transparent\" points=\"-4,4 -4,-120 251,-120 251,4 -4,4\"/>\n<!-- 1 -->\n<g id=\"node1\" class=\"node\">\n<title>1</title>\n<ellipse fill=\"black\" stroke=\"white\" cx=\"59\" cy=\"-22\" rx=\"18\" ry=\"18\"/>\n<ellipse fill=\"none\" stroke=\"white\" cx=\"59\" cy=\"-22\" rx=\"22\" ry=\"22\"/>\n<text text-anchor=\"middle\" x=\"59\" y=\"-18.3\" font-family=\"Times,serif\" font-size=\"14.00\" fill=\"white\">1</text>\n</g>\n<!-- 1&#45;&gt;1 -->\n<g id=\"edge2\" class=\"edge\">\n<title>1&#45;&gt;1</title>\n<path fill=\"none\" stroke=\"white\" d=\"M51.68,-42.99C50.78,-53.09 53.22,-62 59,-62 62.7,-62 65.04,-58.34 66,-53.06\"/>\n<polygon fill=\"white\" stroke=\"white\" points=\"69.5,-53.1 66.32,-42.99 62.5,-52.87 69.5,-53.1\"/>\n<text text-anchor=\"middle\" x=\"59\" y=\"-65.8\" font-family=\"Times,serif\" font-size=\"14.00\" fill=\"white\">a</text>\n</g>\n<!-- 2 -->\n<g id=\"node3\" class=\"node\">\n<title>2</title>\n<ellipse fill=\"black\" stroke=\"white\" cx=\"146\" cy=\"-61\" rx=\"18\" ry=\"18\"/>\n<ellipse fill=\"none\" stroke=\"white\" cx=\"146\" cy=\"-61\" rx=\"22\" ry=\"22\"/>\n<text text-anchor=\"middle\" x=\"146\" y=\"-57.3\" font-family=\"Times,serif\" font-size=\"14.00\" fill=\"white\">2</text>\n</g>\n<!-- 1&#45;&gt;2 -->\n<g id=\"edge3\" class=\"edge\">\n<title>1&#45;&gt;2</title>\n<path fill=\"none\" stroke=\"white\" d=\"M79.29,-30.85C90.26,-35.89 104.22,-42.29 116.45,-47.9\"/>\n<polygon fill=\"white\" stroke=\"white\" points=\"115.24,-51.2 125.79,-52.19 118.16,-44.83 115.24,-51.2\"/>\n<text text-anchor=\"middle\" x=\"102.5\" y=\"-45.8\" font-family=\"Times,serif\" font-size=\"14.00\" fill=\"white\">b</text>\n</g>\n<!-- &#45;&gt;1 -->\n<g id=\"edge1\" class=\"edge\">\n<title>&#45;&gt;1</title>\n<path fill=\"none\" stroke=\"white\" d=\"M1.16,-22C2.66,-22 14.26,-22 26.58,-22\"/>\n<polygon fill=\"white\" stroke=\"white\" points=\"26.91,-25.5 36.91,-22 26.91,-18.5 26.91,-25.5\"/>\n</g>\n<!-- 2&#45;&gt;2 -->\n<g id=\"edge5\" class=\"edge\">\n<title>2&#45;&gt;2</title>\n<path fill=\"none\" stroke=\"white\" d=\"M138.32,-81.99C137.37,-92.09 139.93,-101 146,-101 149.89,-101 152.34,-97.34 153.35,-92.06\"/>\n<polygon fill=\"white\" stroke=\"white\" points=\"156.85,-92.1 153.68,-81.99 149.85,-91.87 156.85,-92.1\"/>\n<text text-anchor=\"middle\" x=\"146\" y=\"-104.8\" font-family=\"Times,serif\" font-size=\"14.00\" fill=\"white\">b</text>\n</g>\n<!-- 3 -->\n<g id=\"node4\" class=\"node\">\n<title>3</title>\n<ellipse fill=\"black\" stroke=\"white\" cx=\"229\" cy=\"-39\" rx=\"18\" ry=\"18\"/>\n<text text-anchor=\"middle\" x=\"229\" y=\"-35.3\" font-family=\"Times,serif\" font-size=\"14.00\" fill=\"white\">3</text>\n</g>\n<!-- 2&#45;&gt;3 -->\n<g id=\"edge4\" class=\"edge\">\n<title>2&#45;&gt;3</title>\n<path fill=\"none\" stroke=\"white\" d=\"M168.34,-59.56C176.2,-58.68 185.1,-57.26 193,-55 196.44,-54.01 199.98,-52.74 203.42,-51.34\"/>\n<polygon fill=\"white\" stroke=\"white\" points=\"204.99,-54.47 212.7,-47.2 202.14,-48.07 204.99,-54.47\"/>\n<text text-anchor=\"middle\" x=\"189.5\" y=\"-59.8\" font-family=\"Times,serif\" font-size=\"14.00\" fill=\"white\">a</text>\n</g>\n<!-- 3&#45;&gt;1 -->\n<g id=\"edge6\" class=\"edge\">\n<title>3&#45;&gt;1</title>\n<path fill=\"none\" stroke=\"white\" d=\"M212.71,-30.99C200.87,-25.27 183.86,-18.06 168,-15 142.31,-10.05 112.62,-12.56 90.88,-15.87\"/>\n<polygon fill=\"white\" stroke=\"white\" points=\"90.19,-12.44 80.9,-17.53 91.34,-19.34 90.19,-12.44\"/>\n<text text-anchor=\"middle\" x=\"146\" y=\"-18.8\" font-family=\"Times,serif\" font-size=\"14.00\" fill=\"white\">a</text>\n</g>\n<!-- 3&#45;&gt;2 -->\n<g id=\"edge7\" class=\"edge\">\n<title>3&#45;&gt;2</title>\n<path fill=\"none\" stroke=\"white\" d=\"M211.36,-35.15C203.52,-34.01 194.14,-33.62 186,-36 181.23,-37.4 176.5,-39.57 172.06,-42.07\"/>\n<polygon fill=\"white\" stroke=\"white\" points=\"170.02,-39.22 163.43,-47.51 173.76,-45.14 170.02,-39.22\"/>\n<text text-anchor=\"middle\" x=\"189.5\" y=\"-39.8\" font-family=\"Times,serif\" font-size=\"14.00\" fill=\"white\">b</text>\n</g>\n</g>\n</svg>\n",
            "text/plain": [
              "<graphviz.graphs.Digraph at 0x7a36e950e2d0>"
            ]
          },
          "metadata": {}
        },
        {
          "output_type": "display_data",
          "data": {
            "text/plain": [
              "<IPython.core.display.Markdown object>"
            ],
            "text/markdown": " a b aa ab **ba** bb aaa aab **aba** abb baa bab **bba** bbb aaaa aaab **aaba** aabb abaa abab **abba** abbb baaa baab **baba** babb bbaa bbab **bbba** bbbb aaaaa aaaab **aaaba** aaabb aabaa aabab **aabba** aabbb abaaa abaab **ababa** ababb abbaa abbab **abbba** abbbb baaaa baaab **baaba** baabb babaa babab **babba** babbb bbaaa bbaab **bbaba** bbabb bbbaa bbbab **bbbba** bbbbb aaaaaa aaaaab **aaaaba** aaaabb aaabaa aaabab **aaabba** aaabbb aabaaa aabaab **aababa** aababb aabbaa aabbab **aabbba** aabbbb abaaaa abaaab **abaaba** abaabb ababaa ababab **ababba** ababbb abbaaa abbaab **abbaba** abbabb abbbaa abbbab **abbbba** abbbbb baaaaa baaaab **baaaba** baaabb baabaa baabab **baabba** baabbb babaaa babaab **bababa** bababb babbaa babbab **babbba** babbbb bbaaaa bbaaab **bbaaba** bbaabb bbabaa bbabab **bbabba** bbabbb bbbaaa bbbaab **bbbaba** bbbabb bbbbaa bbbbab **bbbbba** bbbbbb aaaaaaa aaaaaab **aaaaaba** aaaaabb aaaabaa aaaabab **aaaabba** aaaabbb aaabaaa aaabaab **aaababa** aaababb aaabbaa aaabbab **aaabbba** aaabbbb aabaaaa aabaaab **aabaaba** aabaabb aababaa aababab **aababba** aababbb aabbaaa aabbaab **aabbaba** aabbabb aabbbaa aabbbab **aabbbba** aabbbbb abaaaaa abaaaab **abaaaba** abaaabb abaabaa abaabab **abaabba** abaabbb ababaaa ababaab **abababa** abababb ababbaa ababbab **ababbba** ababbbb abbaaaa abbaaab **abbaaba** abbaabb abbabaa abbabab **abbabba** abbabbb abbbaaa abbbaab **abbbaba** abbbabb abbbbaa abbbbab **abbbbba** abbbbbb baaaaaa baaaaab **baaaaba** baaaabb baaabaa baaabab **baaabba** baaabbb baabaaa baabaab **baababa** baababb baabbaa baabbab **baabbba** baabbbb babaaaa babaaab **babaaba** babaabb bababaa bababab **bababba** bababbb babbaaa babbaab **babbaba** babbabb babbbaa babbbab **babbbba** babbbbb bbaaaaa bbaaaab **bbaaaba** bbaaabb bbaabaa bbaabab **bbaabba** bbaabbb bbabaaa bbabaab **bbababa** bbababb bbabbaa bbabbab **bbabbba** bbabbbb bbbaaaa bbbaaab **bbbaaba** bbbaabb bbbabaa bbbabab **bbbabba** bbbabbb bbbbaaa bbbbaab **bbbbaba** bbbbabb bbbbbaa bbbbbab **bbbbbba** bbbbbbb"
          },
          "metadata": {}
        }
      ]
    },
    {
      "cell_type": "markdown",
      "source": [
        "---\n",
        "**Problem 7:** Build an FA that accepts only those words that begin or end with a double letter.\n",
        "\n",
        "**Answer 7:** RE: $\\quad (aa+bb)(a+b)^{*}+(a+b)^{*}(aa+bb)$"
      ],
      "metadata": {
        "id": "U15TRzybJl7F"
      }
    },
    {
      "cell_type": "code",
      "source": [
        "FA['prob5_7'] = (\\\n",
        "  \"$(aa+bb)(a+b)^{*}+(a+b)^{*}(aa+bb)$\"\n",
        ", [ [   ' ', 'a', 'b']\n",
        "  , [  '-1',  2 ,  4 ]\n",
        "  , [   '2',  3 ,  6 ]\n",
        "  , [  '+3',  3 ,  3 ]\n",
        "  , [   '4',  7 ,  5 ]\n",
        "  , [  '+5',  5 ,  5 ]\n",
        "  , [   '6',  7 ,  8 ]\n",
        "  , [   '7',  9 ,  6 ]\n",
        "  , [  '+8',  7 ,  8 ]\n",
        "  , [  '+9',  9 ,  7 ]\n",
        "  ])\n",
        "#-------------------------------------------------------------------------------\n",
        "display_problem('prob5_7')"
      ],
      "metadata": {
        "colab": {
          "base_uri": "https://localhost:8080/",
          "height": 714
        },
        "id": "frl8YBPHsHKj",
        "outputId": "d5a29d92-658d-4385-a6a2-161e50c8fe79"
      },
      "execution_count": 20,
      "outputs": [
        {
          "output_type": "display_data",
          "data": {
            "text/plain": [
              "<IPython.core.display.Latex object>"
            ],
            "text/latex": "$(aa+bb)(a+b)^{*}+(a+b)^{*}(aa+bb)$"
          },
          "metadata": {}
        },
        {
          "output_type": "display_data",
          "data": {
            "image/svg+xml": "<?xml version=\"1.0\" encoding=\"UTF-8\" standalone=\"no\"?>\n<!DOCTYPE svg PUBLIC \"-//W3C//DTD SVG 1.1//EN\"\n \"http://www.w3.org/Graphics/SVG/1.1/DTD/svg11.dtd\">\n<!-- Generated by graphviz version 2.43.0 (0)\n -->\n<!-- Title: %3 Pages: 1 -->\n<svg width=\"500pt\" height=\"312pt\"\n viewBox=\"0.00 0.00 500.00 312.09\" xmlns=\"http://www.w3.org/2000/svg\" xmlns:xlink=\"http://www.w3.org/1999/xlink\">\n<g id=\"graph0\" class=\"graph\" transform=\"scale(1 1) rotate(0) translate(4 308.09)\">\n<title>%3</title>\n<polygon fill=\"black\" stroke=\"transparent\" points=\"-4,4 -4,-308.09 496,-308.09 496,4 -4,4\"/>\n<!-- 1 -->\n<g id=\"node1\" class=\"node\">\n<title>1</title>\n<ellipse fill=\"black\" stroke=\"white\" cx=\"55\" cy=\"-96.09\" rx=\"18\" ry=\"18\"/>\n<text text-anchor=\"middle\" x=\"55\" y=\"-92.39\" font-family=\"Times,serif\" font-size=\"14.00\" fill=\"white\">1</text>\n</g>\n<!-- 2 -->\n<g id=\"node3\" class=\"node\">\n<title>2</title>\n<ellipse fill=\"black\" stroke=\"white\" cx=\"134\" cy=\"-158.09\" rx=\"18\" ry=\"18\"/>\n<text text-anchor=\"middle\" x=\"134\" y=\"-154.39\" font-family=\"Times,serif\" font-size=\"14.00\" fill=\"white\">2</text>\n</g>\n<!-- 1&#45;&gt;2 -->\n<g id=\"edge2\" class=\"edge\">\n<title>1&#45;&gt;2</title>\n<path fill=\"none\" stroke=\"white\" d=\"M69.41,-106.89C81.04,-116.25 98.09,-129.98 111.6,-140.86\"/>\n<polygon fill=\"white\" stroke=\"white\" points=\"109.5,-143.66 119.48,-147.2 113.89,-138.2 109.5,-143.66\"/>\n<text text-anchor=\"middle\" x=\"94.5\" y=\"-131.89\" font-family=\"Times,serif\" font-size=\"14.00\" fill=\"white\">a</text>\n</g>\n<!-- 4 -->\n<g id=\"node5\" class=\"node\">\n<title>4</title>\n<ellipse fill=\"black\" stroke=\"white\" cx=\"134\" cy=\"-34.09\" rx=\"18\" ry=\"18\"/>\n<text text-anchor=\"middle\" x=\"134\" y=\"-30.39\" font-family=\"Times,serif\" font-size=\"14.00\" fill=\"white\">4</text>\n</g>\n<!-- 1&#45;&gt;4 -->\n<g id=\"edge3\" class=\"edge\">\n<title>1&#45;&gt;4</title>\n<path fill=\"none\" stroke=\"white\" d=\"M69.41,-85.29C81.04,-75.92 98.09,-62.2 111.6,-51.31\"/>\n<polygon fill=\"white\" stroke=\"white\" points=\"113.89,-53.97 119.48,-44.97 109.5,-48.52 113.89,-53.97\"/>\n<text text-anchor=\"middle\" x=\"94.5\" y=\"-70.89\" font-family=\"Times,serif\" font-size=\"14.00\" fill=\"white\">b</text>\n</g>\n<!-- &#45;&gt;1 -->\n<g id=\"edge1\" class=\"edge\">\n<title>&#45;&gt;1</title>\n<path fill=\"none\" stroke=\"white\" d=\"M1.15,-96.09C2.63,-96.09 14.68,-96.09 26.9,-96.09\"/>\n<polygon fill=\"white\" stroke=\"white\" points=\"26.98,-99.59 36.98,-96.09 26.98,-92.59 26.98,-99.59\"/>\n</g>\n<!-- 3 -->\n<g id=\"node4\" class=\"node\">\n<title>3</title>\n<ellipse fill=\"black\" stroke=\"white\" cx=\"217\" cy=\"-216.09\" rx=\"18\" ry=\"18\"/>\n<ellipse fill=\"none\" stroke=\"white\" cx=\"217\" cy=\"-216.09\" rx=\"22\" ry=\"22\"/>\n<text text-anchor=\"middle\" x=\"217\" y=\"-212.39\" font-family=\"Times,serif\" font-size=\"14.00\" fill=\"white\">3</text>\n</g>\n<!-- 2&#45;&gt;3 -->\n<g id=\"edge4\" class=\"edge\">\n<title>2&#45;&gt;3</title>\n<path fill=\"none\" stroke=\"white\" d=\"M149.11,-168.19C160.41,-176.28 176.57,-187.85 190.18,-197.6\"/>\n<polygon fill=\"white\" stroke=\"white\" points=\"188.5,-200.7 198.67,-203.68 192.58,-195.01 188.5,-200.7\"/>\n<text text-anchor=\"middle\" x=\"173.5\" y=\"-190.89\" font-family=\"Times,serif\" font-size=\"14.00\" fill=\"white\">a</text>\n</g>\n<!-- 6 -->\n<g id=\"node7\" class=\"node\">\n<title>6</title>\n<ellipse fill=\"black\" stroke=\"white\" cx=\"217\" cy=\"-158.09\" rx=\"18\" ry=\"18\"/>\n<text text-anchor=\"middle\" x=\"217\" y=\"-154.39\" font-family=\"Times,serif\" font-size=\"14.00\" fill=\"white\">6</text>\n</g>\n<!-- 2&#45;&gt;6 -->\n<g id=\"edge5\" class=\"edge\">\n<title>2&#45;&gt;6</title>\n<path fill=\"none\" stroke=\"white\" d=\"M152.18,-158.09C162.81,-158.09 176.69,-158.09 188.8,-158.09\"/>\n<polygon fill=\"white\" stroke=\"white\" points=\"188.85,-161.59 198.85,-158.09 188.85,-154.59 188.85,-161.59\"/>\n<text text-anchor=\"middle\" x=\"173.5\" y=\"-161.89\" font-family=\"Times,serif\" font-size=\"14.00\" fill=\"white\">b</text>\n</g>\n<!-- 3&#45;&gt;3 -->\n<g id=\"edge6\" class=\"edge\">\n<title>3&#45;&gt;3</title>\n<path fill=\"none\" stroke=\"white\" d=\"M213.12,-237.89C212.75,-247.65 214.05,-256.09 217,-256.09 218.85,-256.09 220.04,-252.79 220.59,-247.94\"/>\n<polygon fill=\"white\" stroke=\"white\" points=\"224.09,-247.99 220.88,-237.89 217.09,-247.79 224.09,-247.99\"/>\n<text text-anchor=\"middle\" x=\"217\" y=\"-259.89\" font-family=\"Times,serif\" font-size=\"14.00\" fill=\"white\">a</text>\n</g>\n<!-- 3&#45;&gt;3 -->\n<g id=\"edge7\" class=\"edge\">\n<title>3&#45;&gt;3</title>\n<path fill=\"none\" stroke=\"white\" d=\"M210.38,-237.2C207.45,-255.18 209.66,-274.09 217,-274.09 222.97,-274.09 225.54,-261.61 224.73,-247.28\"/>\n<polygon fill=\"white\" stroke=\"white\" points=\"228.19,-246.76 223.62,-237.2 221.23,-247.52 228.19,-246.76\"/>\n<text text-anchor=\"middle\" x=\"217\" y=\"-277.89\" font-family=\"Times,serif\" font-size=\"14.00\" fill=\"white\">b</text>\n</g>\n<!-- 5 -->\n<g id=\"node6\" class=\"node\">\n<title>5</title>\n<ellipse fill=\"black\" stroke=\"white\" cx=\"217\" cy=\"-34.09\" rx=\"18\" ry=\"18\"/>\n<ellipse fill=\"none\" stroke=\"white\" cx=\"217\" cy=\"-34.09\" rx=\"22\" ry=\"22\"/>\n<text text-anchor=\"middle\" x=\"217\" y=\"-30.39\" font-family=\"Times,serif\" font-size=\"14.00\" fill=\"white\">5</text>\n</g>\n<!-- 4&#45;&gt;5 -->\n<g id=\"edge9\" class=\"edge\">\n<title>4&#45;&gt;5</title>\n<path fill=\"none\" stroke=\"white\" d=\"M152.18,-34.09C161.61,-34.09 173.6,-34.09 184.64,-34.09\"/>\n<polygon fill=\"white\" stroke=\"white\" points=\"184.81,-37.59 194.81,-34.09 184.81,-30.59 184.81,-37.59\"/>\n<text text-anchor=\"middle\" x=\"173.5\" y=\"-37.89\" font-family=\"Times,serif\" font-size=\"14.00\" fill=\"white\">b</text>\n</g>\n<!-- 7 -->\n<g id=\"node8\" class=\"node\">\n<title>7</title>\n<ellipse fill=\"black\" stroke=\"white\" cx=\"387\" cy=\"-63.09\" rx=\"18\" ry=\"18\"/>\n<text text-anchor=\"middle\" x=\"387\" y=\"-59.39\" font-family=\"Times,serif\" font-size=\"14.00\" fill=\"white\">7</text>\n</g>\n<!-- 4&#45;&gt;7 -->\n<g id=\"edge8\" class=\"edge\">\n<title>4&#45;&gt;7</title>\n<path fill=\"none\" stroke=\"white\" d=\"M149.5,-24.07C161.19,-16.64 178.37,-7.13 195,-3.09 214,1.53 219.69,0.02 239,-3.09 290.76,-11.41 303.8,-17.27 351,-40.09 355.24,-42.13 359.57,-44.62 363.68,-47.19\"/>\n<polygon fill=\"white\" stroke=\"white\" points=\"361.92,-50.22 372.2,-52.8 365.78,-44.38 361.92,-50.22\"/>\n<text text-anchor=\"middle\" x=\"260.5\" y=\"-11.89\" font-family=\"Times,serif\" font-size=\"14.00\" fill=\"white\">a</text>\n</g>\n<!-- 5&#45;&gt;5 -->\n<g id=\"edge10\" class=\"edge\">\n<title>5&#45;&gt;5</title>\n<path fill=\"none\" stroke=\"white\" d=\"M213.12,-55.89C212.75,-65.65 214.05,-74.09 217,-74.09 218.85,-74.09 220.04,-70.79 220.59,-65.94\"/>\n<polygon fill=\"white\" stroke=\"white\" points=\"224.09,-65.99 220.88,-55.89 217.09,-65.79 224.09,-65.99\"/>\n<text text-anchor=\"middle\" x=\"217\" y=\"-77.89\" font-family=\"Times,serif\" font-size=\"14.00\" fill=\"white\">a</text>\n</g>\n<!-- 5&#45;&gt;5 -->\n<g id=\"edge11\" class=\"edge\">\n<title>5&#45;&gt;5</title>\n<path fill=\"none\" stroke=\"white\" d=\"M210.38,-55.2C207.45,-73.18 209.66,-92.09 217,-92.09 222.97,-92.09 225.54,-79.61 224.73,-65.28\"/>\n<polygon fill=\"white\" stroke=\"white\" points=\"228.19,-64.76 223.62,-55.2 221.23,-65.52 228.19,-64.76\"/>\n<text text-anchor=\"middle\" x=\"217\" y=\"-95.89\" font-family=\"Times,serif\" font-size=\"14.00\" fill=\"white\">b</text>\n</g>\n<!-- 6&#45;&gt;7 -->\n<g id=\"edge12\" class=\"edge\">\n<title>6&#45;&gt;7</title>\n<path fill=\"none\" stroke=\"white\" d=\"M234.61,-162.11C256.95,-166.58 297.19,-171.21 326,-155.09 351.25,-140.95 367.65,-111.24 376.82,-89.39\"/>\n<polygon fill=\"white\" stroke=\"white\" points=\"380.11,-90.58 380.53,-79.99 373.6,-88.01 380.11,-90.58\"/>\n<text text-anchor=\"middle\" x=\"304\" y=\"-169.89\" font-family=\"Times,serif\" font-size=\"14.00\" fill=\"white\">a</text>\n</g>\n<!-- 8 -->\n<g id=\"node9\" class=\"node\">\n<title>8</title>\n<ellipse fill=\"black\" stroke=\"white\" cx=\"304\" cy=\"-91.09\" rx=\"18\" ry=\"18\"/>\n<ellipse fill=\"none\" stroke=\"white\" cx=\"304\" cy=\"-91.09\" rx=\"22\" ry=\"22\"/>\n<text text-anchor=\"middle\" x=\"304\" y=\"-87.39\" font-family=\"Times,serif\" font-size=\"14.00\" fill=\"white\">8</text>\n</g>\n<!-- 6&#45;&gt;8 -->\n<g id=\"edge13\" class=\"edge\">\n<title>6&#45;&gt;8</title>\n<path fill=\"none\" stroke=\"white\" d=\"M231.66,-147.32C244.17,-137.46 263,-122.62 278.17,-110.66\"/>\n<polygon fill=\"white\" stroke=\"white\" points=\"280.47,-113.3 286.16,-104.36 276.14,-107.8 280.47,-113.3\"/>\n<text text-anchor=\"middle\" x=\"260.5\" y=\"-129.89\" font-family=\"Times,serif\" font-size=\"14.00\" fill=\"white\">b</text>\n</g>\n<!-- 7&#45;&gt;6 -->\n<g id=\"edge15\" class=\"edge\">\n<title>7&#45;&gt;6</title>\n<path fill=\"none\" stroke=\"white\" d=\"M371.01,-54.5C349.63,-43.51 309.9,-27.84 282,-45.09 245.65,-67.55 261.78,-94.93 239,-131.09 237.91,-132.82 236.73,-134.58 235.51,-136.32\"/>\n<polygon fill=\"white\" stroke=\"white\" points=\"232.4,-134.62 229.23,-144.73 238.01,-138.81 232.4,-134.62\"/>\n<text text-anchor=\"middle\" x=\"304\" y=\"-48.89\" font-family=\"Times,serif\" font-size=\"14.00\" fill=\"white\">b</text>\n</g>\n<!-- 9 -->\n<g id=\"node10\" class=\"node\">\n<title>9</title>\n<ellipse fill=\"black\" stroke=\"white\" cx=\"470\" cy=\"-63.09\" rx=\"18\" ry=\"18\"/>\n<ellipse fill=\"none\" stroke=\"white\" cx=\"470\" cy=\"-63.09\" rx=\"22\" ry=\"22\"/>\n<text text-anchor=\"middle\" x=\"470\" y=\"-59.39\" font-family=\"Times,serif\" font-size=\"14.00\" fill=\"white\">9</text>\n</g>\n<!-- 7&#45;&gt;9 -->\n<g id=\"edge14\" class=\"edge\">\n<title>7&#45;&gt;9</title>\n<path fill=\"none\" stroke=\"white\" d=\"M405.18,-63.09C414.61,-63.09 426.6,-63.09 437.64,-63.09\"/>\n<polygon fill=\"white\" stroke=\"white\" points=\"437.81,-66.59 447.81,-63.09 437.81,-59.59 437.81,-66.59\"/>\n<text text-anchor=\"middle\" x=\"426.5\" y=\"-66.89\" font-family=\"Times,serif\" font-size=\"14.00\" fill=\"white\">a</text>\n</g>\n<!-- 8&#45;&gt;7 -->\n<g id=\"edge16\" class=\"edge\">\n<title>8&#45;&gt;7</title>\n<path fill=\"none\" stroke=\"white\" d=\"M325.02,-84.16C335.57,-80.52 348.63,-76.01 359.95,-72.09\"/>\n<polygon fill=\"white\" stroke=\"white\" points=\"361.43,-75.28 369.74,-68.71 359.15,-68.67 361.43,-75.28\"/>\n<text text-anchor=\"middle\" x=\"347.5\" y=\"-80.89\" font-family=\"Times,serif\" font-size=\"14.00\" fill=\"white\">a</text>\n</g>\n<!-- 8&#45;&gt;8 -->\n<g id=\"edge17\" class=\"edge\">\n<title>8&#45;&gt;8</title>\n<path fill=\"none\" stroke=\"white\" d=\"M296.32,-112.08C295.37,-122.17 297.93,-131.09 304,-131.09 307.89,-131.09 310.34,-127.43 311.35,-122.14\"/>\n<polygon fill=\"white\" stroke=\"white\" points=\"314.85,-122.19 311.68,-112.08 307.85,-121.95 314.85,-122.19\"/>\n<text text-anchor=\"middle\" x=\"304\" y=\"-134.89\" font-family=\"Times,serif\" font-size=\"14.00\" fill=\"white\">b</text>\n</g>\n<!-- 9&#45;&gt;7 -->\n<g id=\"edge19\" class=\"edge\">\n<title>9&#45;&gt;7</title>\n<path fill=\"none\" stroke=\"white\" d=\"M451.93,-50.29C443.43,-45.42 432.88,-41.58 423,-44.09 419.04,-45.09 415.05,-46.64 411.24,-48.44\"/>\n<polygon fill=\"white\" stroke=\"white\" points=\"409.48,-45.41 402.31,-53.22 412.78,-51.59 409.48,-45.41\"/>\n<text text-anchor=\"middle\" x=\"426.5\" y=\"-47.89\" font-family=\"Times,serif\" font-size=\"14.00\" fill=\"white\">b</text>\n</g>\n<!-- 9&#45;&gt;9 -->\n<g id=\"edge18\" class=\"edge\">\n<title>9&#45;&gt;9</title>\n<path fill=\"none\" stroke=\"white\" d=\"M462.32,-84.08C461.37,-94.17 463.93,-103.09 470,-103.09 473.89,-103.09 476.34,-99.43 477.35,-94.14\"/>\n<polygon fill=\"white\" stroke=\"white\" points=\"480.85,-94.19 477.68,-84.08 473.85,-93.95 480.85,-94.19\"/>\n<text text-anchor=\"middle\" x=\"470\" y=\"-106.89\" font-family=\"Times,serif\" font-size=\"14.00\" fill=\"white\">a</text>\n</g>\n</g>\n</svg>\n",
            "text/plain": [
              "<graphviz.graphs.Digraph at 0x7a36e94724e0>"
            ]
          },
          "metadata": {}
        },
        {
          "output_type": "display_data",
          "data": {
            "text/plain": [
              "<IPython.core.display.Markdown object>"
            ],
            "text/markdown": "**** **a** **b** aa **ab** **ba** bb aaa aab **aba** abb baa **bab** bba bbb aaaa aaab aaba aabb abaa **abab** **abba** abbb baaa **baab** **baba** babb bbaa bbab bbba bbbb aaaaa aaaab aaaba aaabb aabaa aabab aabba aabbb abaaa **abaab** **ababa** ababb abbaa **abbab** **abbba** abbbb baaaa **baaab** baaba **baabb** babaa **babab** **babba** babbb bbaaa bbaab bbaba bbabb bbbaa bbbab bbbba bbbbb aaaaaa aaaaab aaaaba aaaabb aaabaa aaabab aaabba aaabbb aabaaa aabaab aababa aababb aabbaa aabbab aabbba aabbbb abaaaa **abaaab** abaaba **abaabb** ababaa **ababab** **ababba** ababbb abbaaa **abbaab** **abbaba** abbabb abbbaa **abbbab** **abbbba** abbbbb baaaaa **baaaab** baaaba **baaabb** baabaa **baabab** **baabba** baabbb babaaa **babaab** **bababa** bababb babbaa **babbab** **babbba** babbbb bbaaaa bbaaab bbaaba bbaabb bbabaa bbabab bbabba bbabbb bbbaaa bbbaab bbbaba bbbabb bbbbaa bbbbab bbbbba bbbbbb aaaaaaa aaaaaab aaaaaba aaaaabb aaaabaa aaaabab aaaabba aaaabbb aaabaaa aaabaab aaababa aaababb aaabbaa aaabbab aaabbba aaabbbb aabaaaa aabaaab aabaaba aabaabb aababaa aababab aababba aababbb aabbaaa aabbaab aabbaba aabbabb aabbbaa aabbbab aabbbba aabbbbb abaaaaa **abaaaab** abaaaba **abaaabb** abaabaa **abaabab** **abaabba** abaabbb ababaaa **ababaab** **abababa** abababb ababbaa **ababbab** **ababbba** ababbbb abbaaaa **abbaaab** abbaaba **abbaabb** abbabaa **abbabab** **abbabba** abbabbb abbbaaa **abbbaab** **abbbaba** abbbabb abbbbaa **abbbbab** **abbbbba** abbbbbb baaaaaa **baaaaab** baaaaba **baaaabb** baaabaa **baaabab** **baaabba** baaabbb baabaaa **baabaab** baababa **baababb** baabbaa **baabbab** **baabbba** baabbbb babaaaa **babaaab** babaaba **babaabb** bababaa **bababab** **bababba** bababbb babbaaa **babbaab** **babbaba** babbabb babbbaa **babbbab** **babbbba** babbbbb bbaaaaa bbaaaab bbaaaba bbaaabb bbaabaa bbaabab bbaabba bbaabbb bbabaaa bbabaab bbababa bbababb bbabbaa bbabbab bbabbba bbabbbb bbbaaaa bbbaaab bbbaaba bbbaabb bbbabaa bbbabab bbbabba bbbabbb bbbbaaa bbbbaab bbbbaba bbbbabb bbbbbaa bbbbbab bbbbbba bbbbbbb"
          },
          "metadata": {}
        }
      ]
    },
    {
      "cell_type": "markdown",
      "source": [
        "---\n",
        "**Problem 8:** Build an FA that accepts only those words that have an even number of substrings *ab*.\n",
        "\n",
        "**Answer 8: ???**\n",
        "- RE: $\\quad (abab)^{*}$\n",
        "- RE: $\\quad (aa^{*}bb^{*}aa^{*}bb^{*})^{*}$"
      ],
      "metadata": {
        "id": "PKcqkKwxJmC7"
      }
    },
    {
      "cell_type": "code",
      "source": [
        "FA['prob5_8_1'] = (\\\n",
        "  \"$(abab)^{*}$\"\n",
        ", [ [  ' ', 'a', 'b']\n",
        "  , [ '-1',  2 ,  6 ]\n",
        "  , [  '2',  6 ,  3 ]\n",
        "  , [  '3',  4 ,  6 ]\n",
        "  , [  '4',  6 ,  5 ]\n",
        "  , [ '+5',  2 ,  6 ]\n",
        "  , [  '6',  6 ,  6 ]])\n",
        "#-------------------------------------------------------------------------------\n",
        "display_problem('prob5_8_1')"
      ],
      "metadata": {
        "colab": {
          "base_uri": "https://localhost:8080/",
          "height": 611
        },
        "id": "1WFI-oX0sMIJ",
        "outputId": "14cbe64e-4787-4721-d475-1637ced5cf7f"
      },
      "execution_count": 21,
      "outputs": [
        {
          "output_type": "display_data",
          "data": {
            "text/plain": [
              "<IPython.core.display.Latex object>"
            ],
            "text/latex": "$(abab)^{*}$"
          },
          "metadata": {}
        },
        {
          "output_type": "display_data",
          "data": {
            "image/svg+xml": "<?xml version=\"1.0\" encoding=\"UTF-8\" standalone=\"no\"?>\n<!DOCTYPE svg PUBLIC \"-//W3C//DTD SVG 1.1//EN\"\n \"http://www.w3.org/Graphics/SVG/1.1/DTD/svg11.dtd\">\n<!-- Generated by graphviz version 2.43.0 (0)\n -->\n<!-- Title: %3 Pages: 1 -->\n<svg width=\"484pt\" height=\"235pt\"\n viewBox=\"0.00 0.00 484.00 235.00\" xmlns=\"http://www.w3.org/2000/svg\" xmlns:xlink=\"http://www.w3.org/1999/xlink\">\n<g id=\"graph0\" class=\"graph\" transform=\"scale(1 1) rotate(0) translate(4 231)\">\n<title>%3</title>\n<polygon fill=\"black\" stroke=\"transparent\" points=\"-4,4 -4,-231 480,-231 480,4 -4,4\"/>\n<!-- 1 -->\n<g id=\"node1\" class=\"node\">\n<title>1</title>\n<ellipse fill=\"black\" stroke=\"white\" cx=\"55\" cy=\"-181\" rx=\"18\" ry=\"18\"/>\n<text text-anchor=\"middle\" x=\"55\" y=\"-177.3\" font-family=\"Times,serif\" font-size=\"14.00\" fill=\"white\">1</text>\n</g>\n<!-- 2 -->\n<g id=\"node3\" class=\"node\">\n<title>2</title>\n<ellipse fill=\"black\" stroke=\"white\" cx=\"134\" cy=\"-149\" rx=\"18\" ry=\"18\"/>\n<text text-anchor=\"middle\" x=\"134\" y=\"-145.3\" font-family=\"Times,serif\" font-size=\"14.00\" fill=\"white\">2</text>\n</g>\n<!-- 1&#45;&gt;2 -->\n<g id=\"edge2\" class=\"edge\">\n<title>1&#45;&gt;2</title>\n<path fill=\"none\" stroke=\"white\" d=\"M71.95,-174.37C82.28,-170.08 95.94,-164.4 107.73,-159.5\"/>\n<polygon fill=\"white\" stroke=\"white\" points=\"109.17,-162.69 117.07,-155.62 106.49,-156.23 109.17,-162.69\"/>\n<text text-anchor=\"middle\" x=\"94.5\" y=\"-169.8\" font-family=\"Times,serif\" font-size=\"14.00\" fill=\"white\">a</text>\n</g>\n<!-- 6 -->\n<g id=\"node7\" class=\"node\">\n<title>6</title>\n<ellipse fill=\"black\" stroke=\"white\" cx=\"458\" cy=\"-123\" rx=\"18\" ry=\"18\"/>\n<text text-anchor=\"middle\" x=\"458\" y=\"-119.3\" font-family=\"Times,serif\" font-size=\"14.00\" fill=\"white\">6</text>\n</g>\n<!-- 1&#45;&gt;6 -->\n<g id=\"edge3\" class=\"edge\">\n<title>1&#45;&gt;6</title>\n<path fill=\"none\" stroke=\"white\" d=\"M70.36,-190.64C85.32,-199.74 109.8,-212 133,-212 133,-212 133,-212 376,-212 410.27,-212 433.88,-175.46 446.42,-149.2\"/>\n<polygon fill=\"white\" stroke=\"white\" points=\"449.77,-150.3 450.68,-139.74 443.38,-147.42 449.77,-150.3\"/>\n<text text-anchor=\"middle\" x=\"252.5\" y=\"-215.8\" font-family=\"Times,serif\" font-size=\"14.00\" fill=\"white\">b</text>\n</g>\n<!-- &#45;&gt;1 -->\n<g id=\"edge1\" class=\"edge\">\n<title>&#45;&gt;1</title>\n<path fill=\"none\" stroke=\"white\" d=\"M1.15,-181C2.63,-181 14.68,-181 26.9,-181\"/>\n<polygon fill=\"white\" stroke=\"white\" points=\"26.98,-184.5 36.98,-181 26.98,-177.5 26.98,-184.5\"/>\n</g>\n<!-- 3 -->\n<g id=\"node4\" class=\"node\">\n<title>3</title>\n<ellipse fill=\"black\" stroke=\"white\" cx=\"213\" cy=\"-123\" rx=\"18\" ry=\"18\"/>\n<text text-anchor=\"middle\" x=\"213\" y=\"-119.3\" font-family=\"Times,serif\" font-size=\"14.00\" fill=\"white\">3</text>\n</g>\n<!-- 2&#45;&gt;3 -->\n<g id=\"edge5\" class=\"edge\">\n<title>2&#45;&gt;3</title>\n<path fill=\"none\" stroke=\"white\" d=\"M151.33,-143.49C161.44,-140.07 174.64,-135.62 186.14,-131.73\"/>\n<polygon fill=\"white\" stroke=\"white\" points=\"187.34,-135.02 195.69,-128.51 185.1,-128.39 187.34,-135.02\"/>\n<text text-anchor=\"middle\" x=\"173.5\" y=\"-140.8\" font-family=\"Times,serif\" font-size=\"14.00\" fill=\"white\">b</text>\n</g>\n<!-- 2&#45;&gt;6 -->\n<g id=\"edge4\" class=\"edge\">\n<title>2&#45;&gt;6</title>\n<path fill=\"none\" stroke=\"white\" d=\"M150.91,-155.66C166.27,-161.48 190.32,-169 212,-169 212,-169 212,-169 376,-169 399.06,-169 421.56,-154.73 436.97,-142.08\"/>\n<polygon fill=\"white\" stroke=\"white\" points=\"439.5,-144.52 444.76,-135.33 434.92,-139.23 439.5,-144.52\"/>\n<text text-anchor=\"middle\" x=\"292\" y=\"-172.8\" font-family=\"Times,serif\" font-size=\"14.00\" fill=\"white\">a</text>\n</g>\n<!-- 4 -->\n<g id=\"node5\" class=\"node\">\n<title>4</title>\n<ellipse fill=\"black\" stroke=\"white\" cx=\"292\" cy=\"-77\" rx=\"18\" ry=\"18\"/>\n<text text-anchor=\"middle\" x=\"292\" y=\"-73.3\" font-family=\"Times,serif\" font-size=\"14.00\" fill=\"white\">4</text>\n</g>\n<!-- 3&#45;&gt;4 -->\n<g id=\"edge6\" class=\"edge\">\n<title>3&#45;&gt;4</title>\n<path fill=\"none\" stroke=\"white\" d=\"M226.58,-110.97C232.94,-105.31 241.01,-98.77 249,-94 253.98,-91.03 259.58,-88.35 265.02,-86.06\"/>\n<polygon fill=\"white\" stroke=\"white\" points=\"266.46,-89.25 274.49,-82.35 263.9,-82.74 266.46,-89.25\"/>\n<text text-anchor=\"middle\" x=\"252.5\" y=\"-97.8\" font-family=\"Times,serif\" font-size=\"14.00\" fill=\"white\">a</text>\n</g>\n<!-- 3&#45;&gt;6 -->\n<g id=\"edge7\" class=\"edge\">\n<title>3&#45;&gt;6</title>\n<path fill=\"none\" stroke=\"white\" d=\"M231.09,-123C272.65,-123 379.33,-123 429.78,-123\"/>\n<polygon fill=\"white\" stroke=\"white\" points=\"429.93,-126.5 439.93,-123 429.93,-119.5 429.93,-126.5\"/>\n<text text-anchor=\"middle\" x=\"331.5\" y=\"-126.8\" font-family=\"Times,serif\" font-size=\"14.00\" fill=\"white\">b</text>\n</g>\n<!-- 5 -->\n<g id=\"node6\" class=\"node\">\n<title>5</title>\n<ellipse fill=\"black\" stroke=\"white\" cx=\"375\" cy=\"-22\" rx=\"18\" ry=\"18\"/>\n<ellipse fill=\"none\" stroke=\"white\" cx=\"375\" cy=\"-22\" rx=\"22\" ry=\"22\"/>\n<text text-anchor=\"middle\" x=\"375\" y=\"-18.3\" font-family=\"Times,serif\" font-size=\"14.00\" fill=\"white\">5</text>\n</g>\n<!-- 4&#45;&gt;5 -->\n<g id=\"edge9\" class=\"edge\">\n<title>4&#45;&gt;5</title>\n<path fill=\"none\" stroke=\"white\" d=\"M306.79,-66.38C313.16,-61.57 320.88,-55.88 328,-51 334.07,-46.84 340.71,-42.53 347,-38.54\"/>\n<polygon fill=\"white\" stroke=\"white\" points=\"349.26,-41.25 355.88,-32.98 345.55,-35.32 349.26,-41.25\"/>\n<text text-anchor=\"middle\" x=\"331.5\" y=\"-54.8\" font-family=\"Times,serif\" font-size=\"14.00\" fill=\"white\">b</text>\n</g>\n<!-- 4&#45;&gt;6 -->\n<g id=\"edge8\" class=\"edge\">\n<title>4&#45;&gt;6</title>\n<path fill=\"none\" stroke=\"white\" d=\"M310.28,-78.29C331.21,-80.21 367.34,-84.63 397,-94 409.33,-97.9 422.33,-103.92 433.07,-109.47\"/>\n<polygon fill=\"white\" stroke=\"white\" points=\"431.74,-112.73 442.21,-114.36 435.04,-106.55 431.74,-112.73\"/>\n<text text-anchor=\"middle\" x=\"375\" y=\"-97.8\" font-family=\"Times,serif\" font-size=\"14.00\" fill=\"white\">a</text>\n</g>\n<!-- 5&#45;&gt;2 -->\n<g id=\"edge10\" class=\"edge\">\n<title>5&#45;&gt;2</title>\n<path fill=\"none\" stroke=\"white\" d=\"M353.18,-26.2C332.58,-30.74 300.4,-38.83 274,-50 236.58,-65.83 227.94,-72.21 195,-96 181.04,-106.08 166.53,-118.82 155.28,-129.29\"/>\n<polygon fill=\"white\" stroke=\"white\" points=\"152.59,-127.02 147.72,-136.43 157.39,-132.11 152.59,-127.02\"/>\n<text text-anchor=\"middle\" x=\"252.5\" y=\"-64.8\" font-family=\"Times,serif\" font-size=\"14.00\" fill=\"white\">a</text>\n</g>\n<!-- 5&#45;&gt;6 -->\n<g id=\"edge11\" class=\"edge\">\n<title>5&#45;&gt;6</title>\n<path fill=\"none\" stroke=\"white\" d=\"M395.21,-30.96C404.21,-35.89 414.57,-42.7 422,-51 433.75,-64.12 442.45,-81.9 448.23,-96.51\"/>\n<polygon fill=\"white\" stroke=\"white\" points=\"445,-97.87 451.77,-106.02 451.56,-95.42 445,-97.87\"/>\n<text text-anchor=\"middle\" x=\"418.5\" y=\"-54.8\" font-family=\"Times,serif\" font-size=\"14.00\" fill=\"white\">b</text>\n</g>\n<!-- 6&#45;&gt;6 -->\n<g id=\"edge12\" class=\"edge\">\n<title>6&#45;&gt;6</title>\n<path fill=\"none\" stroke=\"white\" d=\"M454.58,-140.78C454,-150.31 455.14,-159 458,-159 459.74,-159 460.84,-155.77 461.31,-151.1\"/>\n<polygon fill=\"white\" stroke=\"white\" points=\"464.81,-150.82 461.42,-140.78 457.81,-150.74 464.81,-150.82\"/>\n<text text-anchor=\"middle\" x=\"458\" y=\"-162.8\" font-family=\"Times,serif\" font-size=\"14.00\" fill=\"white\">a</text>\n</g>\n<!-- 6&#45;&gt;6 -->\n<g id=\"edge13\" class=\"edge\">\n<title>6&#45;&gt;6</title>\n<path fill=\"none\" stroke=\"white\" d=\"M452.44,-140.14C449.17,-157.58 451.02,-177 458,-177 463.61,-177 465.91,-164.43 464.89,-150.43\"/>\n<polygon fill=\"white\" stroke=\"white\" points=\"468.31,-149.61 463.56,-140.14 461.37,-150.51 468.31,-149.61\"/>\n<text text-anchor=\"middle\" x=\"458\" y=\"-180.8\" font-family=\"Times,serif\" font-size=\"14.00\" fill=\"white\">b</text>\n</g>\n</g>\n</svg>\n",
            "text/plain": [
              "<graphviz.graphs.Digraph at 0x7a36e94af950>"
            ]
          },
          "metadata": {}
        },
        {
          "output_type": "display_data",
          "data": {
            "text/plain": [
              "<IPython.core.display.Markdown object>"
            ],
            "text/markdown": "**** **a** **b** **aa** **ab** **ba** **bb** **aaa** **aab** **aba** **abb** **baa** **bab** **bba** **bbb** **aaaa** **aaab** **aaba** **aabb** **abaa** abab **abba** **abbb** **baaa** **baab** **baba** **babb** **bbaa** **bbab** **bbba** **bbbb** **aaaaa** **aaaab** **aaaba** **aaabb** **aabaa** **aabab** **aabba** **aabbb** **abaaa** **abaab** **ababa** **ababb** **abbaa** **abbab** **abbba** **abbbb** **baaaa** **baaab** **baaba** **baabb** **babaa** **babab** **babba** **babbb** **bbaaa** **bbaab** **bbaba** **bbabb** **bbbaa** **bbbab** **bbbba** **bbbbb** **aaaaaa** **aaaaab** **aaaaba** **aaaabb** **aaabaa** **aaabab** **aaabba** **aaabbb** **aabaaa** **aabaab** **aababa** **aababb** **aabbaa** **aabbab** **aabbba** **aabbbb** **abaaaa** **abaaab** **abaaba** **abaabb** **ababaa** **ababab** **ababba** **ababbb** **abbaaa** **abbaab** **abbaba** **abbabb** **abbbaa** **abbbab** **abbbba** **abbbbb** **baaaaa** **baaaab** **baaaba** **baaabb** **baabaa** **baabab** **baabba** **baabbb** **babaaa** **babaab** **bababa** **bababb** **babbaa** **babbab** **babbba** **babbbb** **bbaaaa** **bbaaab** **bbaaba** **bbaabb** **bbabaa** **bbabab** **bbabba** **bbabbb** **bbbaaa** **bbbaab** **bbbaba** **bbbabb** **bbbbaa** **bbbbab** **bbbbba** **bbbbbb** **aaaaaaa** **aaaaaab** **aaaaaba** **aaaaabb** **aaaabaa** **aaaabab** **aaaabba** **aaaabbb** **aaabaaa** **aaabaab** **aaababa** **aaababb** **aaabbaa** **aaabbab** **aaabbba** **aaabbbb** **aabaaaa** **aabaaab** **aabaaba** **aabaabb** **aababaa** **aababab** **aababba** **aababbb** **aabbaaa** **aabbaab** **aabbaba** **aabbabb** **aabbbaa** **aabbbab** **aabbbba** **aabbbbb** **abaaaaa** **abaaaab** **abaaaba** **abaaabb** **abaabaa** **abaabab** **abaabba** **abaabbb** **ababaaa** **ababaab** **abababa** **abababb** **ababbaa** **ababbab** **ababbba** **ababbbb** **abbaaaa** **abbaaab** **abbaaba** **abbaabb** **abbabaa** **abbabab** **abbabba** **abbabbb** **abbbaaa** **abbbaab** **abbbaba** **abbbabb** **abbbbaa** **abbbbab** **abbbbba** **abbbbbb** **baaaaaa** **baaaaab** **baaaaba** **baaaabb** **baaabaa** **baaabab** **baaabba** **baaabbb** **baabaaa** **baabaab** **baababa** **baababb** **baabbaa** **baabbab** **baabbba** **baabbbb** **babaaaa** **babaaab** **babaaba** **babaabb** **bababaa** **bababab** **bababba** **bababbb** **babbaaa** **babbaab** **babbaba** **babbabb** **babbbaa** **babbbab** **babbbba** **babbbbb** **bbaaaaa** **bbaaaab** **bbaaaba** **bbaaabb** **bbaabaa** **bbaabab** **bbaabba** **bbaabbb** **bbabaaa** **bbabaab** **bbababa** **bbababb** **bbabbaa** **bbabbab** **bbabbba** **bbabbbb** **bbbaaaa** **bbbaaab** **bbbaaba** **bbbaabb** **bbbabaa** **bbbabab** **bbbabba** **bbbabbb** **bbbbaaa** **bbbbaab** **bbbbaba** **bbbbabb** **bbbbbaa** **bbbbbab** **bbbbbba** **bbbbbbb**"
          },
          "metadata": {}
        }
      ]
    },
    {
      "cell_type": "code",
      "source": [
        "FA['prob5_8_2'] = (\\\n",
        "  \"$(aa^{*}bb^{*}aa^{*}bb^{*})^{*}$\"\n",
        ", [ [   ' ', 'a', 'b']\n",
        "  , [ '-+1',  2 ,  1 ]\n",
        "  , [   '2',  2 ,  3 ]\n",
        "  , [   '3',  4 ,  3 ]\n",
        "  , [   '4',  4 ,  1 ]\n",
        "  ])\n",
        "#-------------------------------------------------------------------------------\n",
        "display_problem('prob5_8_2')"
      ],
      "metadata": {
        "colab": {
          "base_uri": "https://localhost:8080/",
          "height": 446
        },
        "id": "qg1esDfVTJSN",
        "outputId": "e29c3563-4eeb-4612-debc-bba74cb4af9a"
      },
      "execution_count": 22,
      "outputs": [
        {
          "output_type": "display_data",
          "data": {
            "text/plain": [
              "<IPython.core.display.Latex object>"
            ],
            "text/latex": "$(aa^{*}bb^{*}aa^{*}bb^{*})^{*}$"
          },
          "metadata": {}
        },
        {
          "output_type": "display_data",
          "data": {
            "image/svg+xml": "<?xml version=\"1.0\" encoding=\"UTF-8\" standalone=\"no\"?>\n<!DOCTYPE svg PUBLIC \"-//W3C//DTD SVG 1.1//EN\"\n \"http://www.w3.org/Graphics/SVG/1.1/DTD/svg11.dtd\">\n<!-- Generated by graphviz version 2.43.0 (0)\n -->\n<!-- Title: %3 Pages: 1 -->\n<svg width=\"326pt\" height=\"111pt\"\n viewBox=\"0.00 0.00 326.00 111.00\" xmlns=\"http://www.w3.org/2000/svg\" xmlns:xlink=\"http://www.w3.org/1999/xlink\">\n<g id=\"graph0\" class=\"graph\" transform=\"scale(1 1) rotate(0) translate(4 107)\">\n<title>%3</title>\n<polygon fill=\"black\" stroke=\"transparent\" points=\"-4,4 -4,-107 322,-107 322,4 -4,4\"/>\n<!-- 1 -->\n<g id=\"node1\" class=\"node\">\n<title>1</title>\n<ellipse fill=\"black\" stroke=\"white\" cx=\"59\" cy=\"-22\" rx=\"18\" ry=\"18\"/>\n<ellipse fill=\"none\" stroke=\"white\" cx=\"59\" cy=\"-22\" rx=\"22\" ry=\"22\"/>\n<text text-anchor=\"middle\" x=\"59\" y=\"-18.3\" font-family=\"Times,serif\" font-size=\"14.00\" fill=\"white\">1</text>\n</g>\n<!-- 1&#45;&gt;1 -->\n<g id=\"edge3\" class=\"edge\">\n<title>1&#45;&gt;1</title>\n<path fill=\"none\" stroke=\"white\" d=\"M51.68,-42.99C50.78,-53.09 53.22,-62 59,-62 62.7,-62 65.04,-58.34 66,-53.06\"/>\n<polygon fill=\"white\" stroke=\"white\" points=\"69.5,-53.1 66.32,-42.99 62.5,-52.87 69.5,-53.1\"/>\n<text text-anchor=\"middle\" x=\"59\" y=\"-65.8\" font-family=\"Times,serif\" font-size=\"14.00\" fill=\"white\">b</text>\n</g>\n<!-- 2 -->\n<g id=\"node3\" class=\"node\">\n<title>2</title>\n<ellipse fill=\"black\" stroke=\"white\" cx=\"142\" cy=\"-52\" rx=\"18\" ry=\"18\"/>\n<text text-anchor=\"middle\" x=\"142\" y=\"-48.3\" font-family=\"Times,serif\" font-size=\"14.00\" fill=\"white\">2</text>\n</g>\n<!-- 1&#45;&gt;2 -->\n<g id=\"edge2\" class=\"edge\">\n<title>1&#45;&gt;2</title>\n<path fill=\"none\" stroke=\"white\" d=\"M80.02,-29.42C90.68,-33.36 103.89,-38.26 115.3,-42.48\"/>\n<polygon fill=\"white\" stroke=\"white\" points=\"114.15,-45.79 124.74,-45.98 116.58,-39.22 114.15,-45.79\"/>\n<text text-anchor=\"middle\" x=\"102.5\" y=\"-41.8\" font-family=\"Times,serif\" font-size=\"14.00\" fill=\"white\">a</text>\n</g>\n<!-- &#45;&gt;1 -->\n<g id=\"edge1\" class=\"edge\">\n<title>&#45;&gt;1</title>\n<path fill=\"none\" stroke=\"white\" d=\"M1.16,-22C2.66,-22 14.26,-22 26.58,-22\"/>\n<polygon fill=\"white\" stroke=\"white\" points=\"26.91,-25.5 36.91,-22 26.91,-18.5 26.91,-25.5\"/>\n</g>\n<!-- 2&#45;&gt;2 -->\n<g id=\"edge4\" class=\"edge\">\n<title>2&#45;&gt;2</title>\n<path fill=\"none\" stroke=\"white\" d=\"M135.27,-69.04C133.89,-78.86 136.14,-88 142,-88 145.66,-88 147.92,-84.43 148.75,-79.35\"/>\n<polygon fill=\"white\" stroke=\"white\" points=\"152.25,-79.03 148.73,-69.04 145.25,-79.04 152.25,-79.03\"/>\n<text text-anchor=\"middle\" x=\"142\" y=\"-91.8\" font-family=\"Times,serif\" font-size=\"14.00\" fill=\"white\">a</text>\n</g>\n<!-- 3 -->\n<g id=\"node4\" class=\"node\">\n<title>3</title>\n<ellipse fill=\"black\" stroke=\"white\" cx=\"221\" cy=\"-52\" rx=\"18\" ry=\"18\"/>\n<text text-anchor=\"middle\" x=\"221\" y=\"-48.3\" font-family=\"Times,serif\" font-size=\"14.00\" fill=\"white\">3</text>\n</g>\n<!-- 2&#45;&gt;3 -->\n<g id=\"edge5\" class=\"edge\">\n<title>2&#45;&gt;3</title>\n<path fill=\"none\" stroke=\"white\" d=\"M160.09,-52C169.66,-52 181.82,-52 192.68,-52\"/>\n<polygon fill=\"white\" stroke=\"white\" points=\"192.96,-55.5 202.96,-52 192.96,-48.5 192.96,-55.5\"/>\n<text text-anchor=\"middle\" x=\"181.5\" y=\"-55.8\" font-family=\"Times,serif\" font-size=\"14.00\" fill=\"white\">b</text>\n</g>\n<!-- 3&#45;&gt;3 -->\n<g id=\"edge7\" class=\"edge\">\n<title>3&#45;&gt;3</title>\n<path fill=\"none\" stroke=\"white\" d=\"M214.27,-69.04C212.89,-78.86 215.14,-88 221,-88 224.66,-88 226.92,-84.43 227.75,-79.35\"/>\n<polygon fill=\"white\" stroke=\"white\" points=\"231.25,-79.03 227.73,-69.04 224.25,-79.04 231.25,-79.03\"/>\n<text text-anchor=\"middle\" x=\"221\" y=\"-91.8\" font-family=\"Times,serif\" font-size=\"14.00\" fill=\"white\">b</text>\n</g>\n<!-- 4 -->\n<g id=\"node5\" class=\"node\">\n<title>4</title>\n<ellipse fill=\"black\" stroke=\"white\" cx=\"300\" cy=\"-22\" rx=\"18\" ry=\"18\"/>\n<text text-anchor=\"middle\" x=\"300\" y=\"-18.3\" font-family=\"Times,serif\" font-size=\"14.00\" fill=\"white\">4</text>\n</g>\n<!-- 3&#45;&gt;4 -->\n<g id=\"edge6\" class=\"edge\">\n<title>3&#45;&gt;4</title>\n<path fill=\"none\" stroke=\"white\" d=\"M237.95,-45.78C248.28,-41.76 261.94,-36.44 273.73,-31.85\"/>\n<polygon fill=\"white\" stroke=\"white\" points=\"275.02,-35.1 283.07,-28.21 272.48,-28.58 275.02,-35.1\"/>\n<text text-anchor=\"middle\" x=\"260.5\" y=\"-40.8\" font-family=\"Times,serif\" font-size=\"14.00\" fill=\"white\">a</text>\n</g>\n<!-- 4&#45;&gt;1 -->\n<g id=\"edge9\" class=\"edge\">\n<title>4&#45;&gt;1</title>\n<path fill=\"none\" stroke=\"white\" d=\"M281.78,-22C241.83,-22 142.38,-22 91.33,-22\"/>\n<polygon fill=\"white\" stroke=\"white\" points=\"91.21,-18.5 81.21,-22 91.21,-25.5 91.21,-18.5\"/>\n<text text-anchor=\"middle\" x=\"181.5\" y=\"-25.8\" font-family=\"Times,serif\" font-size=\"14.00\" fill=\"white\">b</text>\n</g>\n<!-- 4&#45;&gt;4 -->\n<g id=\"edge8\" class=\"edge\">\n<title>4&#45;&gt;4</title>\n<path fill=\"none\" stroke=\"white\" d=\"M293.27,-39.04C291.89,-48.86 294.14,-58 300,-58 303.66,-58 305.92,-54.43 306.75,-49.35\"/>\n<polygon fill=\"white\" stroke=\"white\" points=\"310.25,-49.03 306.73,-39.04 303.25,-49.04 310.25,-49.03\"/>\n<text text-anchor=\"middle\" x=\"300\" y=\"-61.8\" font-family=\"Times,serif\" font-size=\"14.00\" fill=\"white\">a</text>\n</g>\n</g>\n</svg>\n",
            "text/plain": [
              "<graphviz.graphs.Digraph at 0x7a36e94af260>"
            ]
          },
          "metadata": {}
        },
        {
          "output_type": "display_data",
          "data": {
            "text/plain": [
              "<IPython.core.display.Markdown object>"
            ],
            "text/markdown": " **a** b **aa** **ab** **ba** bb **aaa** **aab** **aba** **abb** **baa** **bab** **bba** bbb **aaaa** **aaab** **aaba** **aabb** **abaa** abab **abba** **abbb** **baaa** **baab** **baba** **babb** **bbaa** **bbab** **bbba** bbbb **aaaaa** **aaaab** **aaaba** **aaabb** **aabaa** aabab **aabba** **aabbb** **abaaa** abaab **ababa** ababb **abbaa** abbab **abbba** **abbbb** **baaaa** **baaab** **baaba** **baabb** **babaa** babab **babba** **babbb** **bbaaa** **bbaab** **bbaba** **bbabb** **bbbaa** **bbbab** **bbbba** bbbbb **aaaaaa** **aaaaab** **aaaaba** **aaaabb** **aaabaa** aaabab **aaabba** **aaabbb** **aabaaa** aabaab **aababa** aababb **aabbaa** aabbab **aabbba** **aabbbb** **abaaaa** abaaab **abaaba** abaabb **ababaa** **ababab** **ababba** ababbb **abbaaa** abbaab **abbaba** abbabb **abbbaa** abbbab **abbbba** **abbbbb** **baaaaa** **baaaab** **baaaba** **baaabb** **baabaa** baabab **baabba** **baabbb** **babaaa** babaab **bababa** bababb **babbaa** babbab **babbba** **babbbb** **bbaaaa** **bbaaab** **bbaaba** **bbaabb** **bbabaa** bbabab **bbabba** **bbabbb** **bbbaaa** **bbbaab** **bbbaba** **bbbabb** **bbbbaa** **bbbbab** **bbbbba** bbbbbb **aaaaaaa** **aaaaaab** **aaaaaba** **aaaaabb** **aaaabaa** aaaabab **aaaabba** **aaaabbb** **aaabaaa** aaabaab **aaababa** aaababb **aaabbaa** aaabbab **aaabbba** **aaabbbb** **aabaaaa** aabaaab **aabaaba** aabaabb **aababaa** **aababab** **aababba** aababbb **aabbaaa** aabbaab **aabbaba** aabbabb **aabbbaa** aabbbab **aabbbba** **aabbbbb** **abaaaaa** abaaaab **abaaaba** abaaabb **abaabaa** **abaabab** **abaabba** abaabbb **ababaaa** **ababaab** **abababa** **abababb** **ababbaa** **ababbab** **ababbba** ababbbb **abbaaaa** abbaaab **abbaaba** abbaabb **abbabaa** **abbabab** **abbabba** abbabbb **abbbaaa** abbbaab **abbbaba** abbbabb **abbbbaa** abbbbab **abbbbba** **abbbbbb** **baaaaaa** **baaaaab** **baaaaba** **baaaabb** **baaabaa** baaabab **baaabba** **baaabbb** **baabaaa** baabaab **baababa** baababb **baabbaa** baabbab **baabbba** **baabbbb** **babaaaa** babaaab **babaaba** babaabb **bababaa** **bababab** **bababba** bababbb **babbaaa** babbaab **babbaba** babbabb **babbbaa** babbbab **babbbba** **babbbbb** **bbaaaaa** **bbaaaab** **bbaaaba** **bbaaabb** **bbaabaa** bbaabab **bbaabba** **bbaabbb** **bbabaaa** bbabaab **bbababa** bbababb **bbabbaa** bbabbab **bbabbba** **bbabbbb** **bbbaaaa** **bbbaaab** **bbbaaba** **bbbaabb** **bbbabaa** bbbabab **bbbabba** **bbbabbb** **bbbbaaa** **bbbbaab** **bbbbaba** **bbbbabb** **bbbbbaa** **bbbbbab** **bbbbbba** bbbbbbb"
          },
          "metadata": {}
        }
      ]
    },
    {
      "cell_type": "markdown",
      "source": [
        "---\n",
        "**Problem 9:**\n",
        "* (i) Recall from Chapter 4 the language of all words over the alphabet {*a b*} that have both the letter *a* and the letter *b* in them, but not necessarily in that order. Build an FA that accepts this language.\n",
        "* (ii) Build an FA that accepts the language of all words with only *a*'s or only *b*'s in them. Give a regular expression for this language.\n",
        "\n",
        "**Answer 9:**\n",
        "- (i) RE: $(a+b)^{*}(ab+ba)(a+b)^{*}$ or $\\quad (aa^{*}b+bb^{*}a)(a+b)^{*}$\n",
        "- (ii) RE: $aa^{*}+bb^{*}$\n"
      ],
      "metadata": {
        "id": "jSqexNdIJmKJ"
      }
    },
    {
      "cell_type": "code",
      "source": [
        "FA['prob5_9_1'] = (\\\n",
        "  \"$(a+b)^{*}(ab+ba)(a+b)^{*}$\"\n",
        ", [ [  ' ', 'a', 'b']\n",
        "  , [ '-1',  2 ,  3 ]\n",
        "  , [  '2',  2 ,  4 ]\n",
        "  , [  '3',  4 ,  3 ]\n",
        "  , [ '+4',  4 ,  4 ]])\n",
        "#-------------------------------------------------------------------------------\n",
        "display_problem('prob5_9_1')"
      ],
      "metadata": {
        "colab": {
          "base_uri": "https://localhost:8080/",
          "height": 517
        },
        "id": "a0i2R8o-8Fw5",
        "outputId": "fd121326-a0f1-4bed-e200-99fee99a9b8b"
      },
      "execution_count": 23,
      "outputs": [
        {
          "output_type": "display_data",
          "data": {
            "text/plain": [
              "<IPython.core.display.Latex object>"
            ],
            "text/latex": "$(a+b)^{*}(ab+ba)(a+b)^{*}$"
          },
          "metadata": {}
        },
        {
          "output_type": "display_data",
          "data": {
            "image/svg+xml": "<?xml version=\"1.0\" encoding=\"UTF-8\" standalone=\"no\"?>\n<!DOCTYPE svg PUBLIC \"-//W3C//DTD SVG 1.1//EN\"\n \"http://www.w3.org/Graphics/SVG/1.1/DTD/svg11.dtd\">\n<!-- Generated by graphviz version 2.43.0 (0)\n -->\n<!-- Title: %3 Pages: 1 -->\n<svg width=\"247pt\" height=\"164pt\"\n viewBox=\"0.00 0.00 247.00 164.00\" xmlns=\"http://www.w3.org/2000/svg\" xmlns:xlink=\"http://www.w3.org/1999/xlink\">\n<g id=\"graph0\" class=\"graph\" transform=\"scale(1 1) rotate(0) translate(4 160)\">\n<title>%3</title>\n<polygon fill=\"black\" stroke=\"transparent\" points=\"-4,4 -4,-160 243,-160 243,4 -4,4\"/>\n<!-- 1 -->\n<g id=\"node1\" class=\"node\">\n<title>1</title>\n<ellipse fill=\"black\" stroke=\"white\" cx=\"55\" cy=\"-61\" rx=\"18\" ry=\"18\"/>\n<text text-anchor=\"middle\" x=\"55\" y=\"-57.3\" font-family=\"Times,serif\" font-size=\"14.00\" fill=\"white\">1</text>\n</g>\n<!-- 2 -->\n<g id=\"node3\" class=\"node\">\n<title>2</title>\n<ellipse fill=\"black\" stroke=\"white\" cx=\"134\" cy=\"-105\" rx=\"18\" ry=\"18\"/>\n<text text-anchor=\"middle\" x=\"134\" y=\"-101.3\" font-family=\"Times,serif\" font-size=\"14.00\" fill=\"white\">2</text>\n</g>\n<!-- 1&#45;&gt;2 -->\n<g id=\"edge2\" class=\"edge\">\n<title>1&#45;&gt;2</title>\n<path fill=\"none\" stroke=\"white\" d=\"M71.21,-69.69C82.04,-75.88 96.8,-84.32 109.18,-91.39\"/>\n<polygon fill=\"white\" stroke=\"white\" points=\"107.66,-94.55 118.08,-96.47 111.13,-88.47 107.66,-94.55\"/>\n<text text-anchor=\"middle\" x=\"94.5\" y=\"-87.8\" font-family=\"Times,serif\" font-size=\"14.00\" fill=\"white\">a</text>\n</g>\n<!-- 3 -->\n<g id=\"node4\" class=\"node\">\n<title>3</title>\n<ellipse fill=\"black\" stroke=\"white\" cx=\"134\" cy=\"-18\" rx=\"18\" ry=\"18\"/>\n<text text-anchor=\"middle\" x=\"134\" y=\"-14.3\" font-family=\"Times,serif\" font-size=\"14.00\" fill=\"white\">3</text>\n</g>\n<!-- 1&#45;&gt;3 -->\n<g id=\"edge3\" class=\"edge\">\n<title>1&#45;&gt;3</title>\n<path fill=\"none\" stroke=\"white\" d=\"M71.21,-52.5C81.97,-46.5 96.61,-38.32 108.94,-31.43\"/>\n<polygon fill=\"white\" stroke=\"white\" points=\"110.79,-34.41 117.82,-26.48 107.38,-28.3 110.79,-34.41\"/>\n<text text-anchor=\"middle\" x=\"94.5\" y=\"-44.8\" font-family=\"Times,serif\" font-size=\"14.00\" fill=\"white\">b</text>\n</g>\n<!-- &#45;&gt;1 -->\n<g id=\"edge1\" class=\"edge\">\n<title>&#45;&gt;1</title>\n<path fill=\"none\" stroke=\"white\" d=\"M1.15,-61C2.63,-61 14.68,-61 26.9,-61\"/>\n<polygon fill=\"white\" stroke=\"white\" points=\"26.98,-64.5 36.98,-61 26.98,-57.5 26.98,-64.5\"/>\n</g>\n<!-- 2&#45;&gt;2 -->\n<g id=\"edge4\" class=\"edge\">\n<title>2&#45;&gt;2</title>\n<path fill=\"none\" stroke=\"white\" d=\"M127.27,-122.04C125.89,-131.86 128.14,-141 134,-141 137.66,-141 139.92,-137.43 140.75,-132.35\"/>\n<polygon fill=\"white\" stroke=\"white\" points=\"144.25,-132.03 140.73,-122.04 137.25,-132.04 144.25,-132.03\"/>\n<text text-anchor=\"middle\" x=\"134\" y=\"-144.8\" font-family=\"Times,serif\" font-size=\"14.00\" fill=\"white\">a</text>\n</g>\n<!-- 4 -->\n<g id=\"node5\" class=\"node\">\n<title>4</title>\n<ellipse fill=\"black\" stroke=\"white\" cx=\"217\" cy=\"-61\" rx=\"18\" ry=\"18\"/>\n<ellipse fill=\"none\" stroke=\"white\" cx=\"217\" cy=\"-61\" rx=\"22\" ry=\"22\"/>\n<text text-anchor=\"middle\" x=\"217\" y=\"-57.3\" font-family=\"Times,serif\" font-size=\"14.00\" fill=\"white\">4</text>\n</g>\n<!-- 2&#45;&gt;4 -->\n<g id=\"edge5\" class=\"edge\">\n<title>2&#45;&gt;4</title>\n<path fill=\"none\" stroke=\"white\" d=\"M150.24,-96.72C161,-90.87 175.74,-82.87 188.53,-75.92\"/>\n<polygon fill=\"white\" stroke=\"white\" points=\"190.3,-78.94 197.42,-71.09 186.96,-72.79 190.3,-78.94\"/>\n<text text-anchor=\"middle\" x=\"173.5\" y=\"-88.8\" font-family=\"Times,serif\" font-size=\"14.00\" fill=\"white\">b</text>\n</g>\n<!-- 3&#45;&gt;3 -->\n<g id=\"edge7\" class=\"edge\">\n<title>3&#45;&gt;3</title>\n<path fill=\"none\" stroke=\"white\" d=\"M127.27,-35.04C125.89,-44.86 128.14,-54 134,-54 137.66,-54 139.92,-50.43 140.75,-45.35\"/>\n<polygon fill=\"white\" stroke=\"white\" points=\"144.25,-45.03 140.73,-35.04 137.25,-45.04 144.25,-45.03\"/>\n<text text-anchor=\"middle\" x=\"134\" y=\"-57.8\" font-family=\"Times,serif\" font-size=\"14.00\" fill=\"white\">b</text>\n</g>\n<!-- 3&#45;&gt;4 -->\n<g id=\"edge6\" class=\"edge\">\n<title>3&#45;&gt;4</title>\n<path fill=\"none\" stroke=\"white\" d=\"M150.24,-26.09C160.93,-31.77 175.54,-39.52 188.27,-46.28\"/>\n<polygon fill=\"white\" stroke=\"white\" points=\"186.65,-49.38 197.13,-50.98 189.93,-43.2 186.65,-49.38\"/>\n<text text-anchor=\"middle\" x=\"173.5\" y=\"-43.8\" font-family=\"Times,serif\" font-size=\"14.00\" fill=\"white\">a</text>\n</g>\n<!-- 4&#45;&gt;4 -->\n<g id=\"edge8\" class=\"edge\">\n<title>4&#45;&gt;4</title>\n<path fill=\"none\" stroke=\"white\" d=\"M213.12,-82.81C212.75,-92.56 214.05,-101 217,-101 218.85,-101 220.04,-97.7 220.59,-92.85\"/>\n<polygon fill=\"white\" stroke=\"white\" points=\"224.09,-92.9 220.88,-82.81 217.09,-92.7 224.09,-92.9\"/>\n<text text-anchor=\"middle\" x=\"217\" y=\"-104.8\" font-family=\"Times,serif\" font-size=\"14.00\" fill=\"white\">a</text>\n</g>\n<!-- 4&#45;&gt;4 -->\n<g id=\"edge9\" class=\"edge\">\n<title>4&#45;&gt;4</title>\n<path fill=\"none\" stroke=\"white\" d=\"M210.38,-82.11C207.45,-100.1 209.66,-119 217,-119 222.97,-119 225.54,-106.52 224.73,-92.2\"/>\n<polygon fill=\"white\" stroke=\"white\" points=\"228.19,-91.67 223.62,-82.11 221.23,-92.44 228.19,-91.67\"/>\n<text text-anchor=\"middle\" x=\"217\" y=\"-122.8\" font-family=\"Times,serif\" font-size=\"14.00\" fill=\"white\">b</text>\n</g>\n</g>\n</svg>\n",
            "text/plain": [
              "<graphviz.graphs.Digraph at 0x7a36e94af260>"
            ]
          },
          "metadata": {}
        },
        {
          "output_type": "display_data",
          "data": {
            "text/plain": [
              "<IPython.core.display.Markdown object>"
            ],
            "text/markdown": "**** **a** **b** **aa** ab ba **bb** **aaa** aab aba abb baa bab bba **bbb** **aaaa** aaab aaba aabb abaa abab abba abbb baaa baab baba babb bbaa bbab bbba **bbbb** **aaaaa** aaaab aaaba aaabb aabaa aabab aabba aabbb abaaa abaab ababa ababb abbaa abbab abbba abbbb baaaa baaab baaba baabb babaa babab babba babbb bbaaa bbaab bbaba bbabb bbbaa bbbab bbbba **bbbbb** **aaaaaa** aaaaab aaaaba aaaabb aaabaa aaabab aaabba aaabbb aabaaa aabaab aababa aababb aabbaa aabbab aabbba aabbbb abaaaa abaaab abaaba abaabb ababaa ababab ababba ababbb abbaaa abbaab abbaba abbabb abbbaa abbbab abbbba abbbbb baaaaa baaaab baaaba baaabb baabaa baabab baabba baabbb babaaa babaab bababa bababb babbaa babbab babbba babbbb bbaaaa bbaaab bbaaba bbaabb bbabaa bbabab bbabba bbabbb bbbaaa bbbaab bbbaba bbbabb bbbbaa bbbbab bbbbba **bbbbbb** **aaaaaaa** aaaaaab aaaaaba aaaaabb aaaabaa aaaabab aaaabba aaaabbb aaabaaa aaabaab aaababa aaababb aaabbaa aaabbab aaabbba aaabbbb aabaaaa aabaaab aabaaba aabaabb aababaa aababab aababba aababbb aabbaaa aabbaab aabbaba aabbabb aabbbaa aabbbab aabbbba aabbbbb abaaaaa abaaaab abaaaba abaaabb abaabaa abaabab abaabba abaabbb ababaaa ababaab abababa abababb ababbaa ababbab ababbba ababbbb abbaaaa abbaaab abbaaba abbaabb abbabaa abbabab abbabba abbabbb abbbaaa abbbaab abbbaba abbbabb abbbbaa abbbbab abbbbba abbbbbb baaaaaa baaaaab baaaaba baaaabb baaabaa baaabab baaabba baaabbb baabaaa baabaab baababa baababb baabbaa baabbab baabbba baabbbb babaaaa babaaab babaaba babaabb bababaa bababab bababba bababbb babbaaa babbaab babbaba babbabb babbbaa babbbab babbbba babbbbb bbaaaaa bbaaaab bbaaaba bbaaabb bbaabaa bbaabab bbaabba bbaabbb bbabaaa bbabaab bbababa bbababb bbabbaa bbabbab bbabbba bbabbbb bbbaaaa bbbaaab bbbaaba bbbaabb bbbabaa bbbabab bbbabba bbbabbb bbbbaaa bbbbaab bbbbaba bbbbabb bbbbbaa bbbbbab bbbbbba **bbbbbbb**"
          },
          "metadata": {}
        }
      ]
    },
    {
      "cell_type": "code",
      "source": [
        "FA['prob5_9_2'] = (\\\n",
        "  \"$aa^{*}+bb^{*}$\"\n",
        ", [ [  ' ', 'a', 'b']\n",
        "  , [ '-1',  2 ,  3 ]\n",
        "  , [ '+2',  2 ,  4 ]\n",
        "  , [ '+3',  4 ,  3 ]\n",
        "  , [  '4',  4 ,  4 ]])\n",
        "#-------------------------------------------------------------------------------\n",
        "display_problem('prob5_9_2')"
      ],
      "metadata": {
        "colab": {
          "base_uri": "https://localhost:8080/",
          "height": 538
        },
        "id": "scUJ4hptTtSD",
        "outputId": "91e8917d-e379-43c3-b225-89b7dbcdbcd4"
      },
      "execution_count": 24,
      "outputs": [
        {
          "output_type": "display_data",
          "data": {
            "text/plain": [
              "<IPython.core.display.Latex object>"
            ],
            "text/latex": "$aa^{*}+bb^{*}$"
          },
          "metadata": {}
        },
        {
          "output_type": "display_data",
          "data": {
            "image/svg+xml": "<?xml version=\"1.0\" encoding=\"UTF-8\" standalone=\"no\"?>\n<!DOCTYPE svg PUBLIC \"-//W3C//DTD SVG 1.1//EN\"\n \"http://www.w3.org/Graphics/SVG/1.1/DTD/svg11.dtd\">\n<!-- Generated by graphviz version 2.43.0 (0)\n -->\n<!-- Title: %3 Pages: 1 -->\n<svg width=\"247pt\" height=\"180pt\"\n viewBox=\"0.00 0.00 247.00 180.00\" xmlns=\"http://www.w3.org/2000/svg\" xmlns:xlink=\"http://www.w3.org/1999/xlink\">\n<g id=\"graph0\" class=\"graph\" transform=\"scale(1 1) rotate(0) translate(4 176)\">\n<title>%3</title>\n<polygon fill=\"black\" stroke=\"transparent\" points=\"-4,4 -4,-176 243,-176 243,4 -4,4\"/>\n<!-- 1 -->\n<g id=\"node1\" class=\"node\">\n<title>1</title>\n<ellipse fill=\"black\" stroke=\"white\" cx=\"55\" cy=\"-69\" rx=\"18\" ry=\"18\"/>\n<text text-anchor=\"middle\" x=\"55\" y=\"-65.3\" font-family=\"Times,serif\" font-size=\"14.00\" fill=\"white\">1</text>\n</g>\n<!-- 2 -->\n<g id=\"node3\" class=\"node\">\n<title>2</title>\n<ellipse fill=\"black\" stroke=\"white\" cx=\"138\" cy=\"-117\" rx=\"18\" ry=\"18\"/>\n<ellipse fill=\"none\" stroke=\"white\" cx=\"138\" cy=\"-117\" rx=\"22\" ry=\"22\"/>\n<text text-anchor=\"middle\" x=\"138\" y=\"-113.3\" font-family=\"Times,serif\" font-size=\"14.00\" fill=\"white\">2</text>\n</g>\n<!-- 1&#45;&gt;2 -->\n<g id=\"edge2\" class=\"edge\">\n<title>1&#45;&gt;2</title>\n<path fill=\"none\" stroke=\"white\" d=\"M70.86,-77.8C81.77,-84.27 96.89,-93.23 109.93,-100.96\"/>\n<polygon fill=\"white\" stroke=\"white\" points=\"108.15,-103.97 118.54,-106.06 111.72,-97.95 108.15,-103.97\"/>\n<text text-anchor=\"middle\" x=\"94.5\" y=\"-96.8\" font-family=\"Times,serif\" font-size=\"14.00\" fill=\"white\">a</text>\n</g>\n<!-- 3 -->\n<g id=\"node4\" class=\"node\">\n<title>3</title>\n<ellipse fill=\"black\" stroke=\"white\" cx=\"138\" cy=\"-22\" rx=\"18\" ry=\"18\"/>\n<ellipse fill=\"none\" stroke=\"white\" cx=\"138\" cy=\"-22\" rx=\"22\" ry=\"22\"/>\n<text text-anchor=\"middle\" x=\"138\" y=\"-18.3\" font-family=\"Times,serif\" font-size=\"14.00\" fill=\"white\">3</text>\n</g>\n<!-- 1&#45;&gt;3 -->\n<g id=\"edge3\" class=\"edge\">\n<title>1&#45;&gt;3</title>\n<path fill=\"none\" stroke=\"white\" d=\"M70.86,-60.38C81.66,-54.11 96.6,-45.44 109.55,-37.93\"/>\n<polygon fill=\"white\" stroke=\"white\" points=\"111.65,-40.76 118.54,-32.71 108.13,-34.7 111.65,-40.76\"/>\n<text text-anchor=\"middle\" x=\"94.5\" y=\"-52.8\" font-family=\"Times,serif\" font-size=\"14.00\" fill=\"white\">b</text>\n</g>\n<!-- &#45;&gt;1 -->\n<g id=\"edge1\" class=\"edge\">\n<title>&#45;&gt;1</title>\n<path fill=\"none\" stroke=\"white\" d=\"M1.15,-69C2.63,-69 14.68,-69 26.9,-69\"/>\n<polygon fill=\"white\" stroke=\"white\" points=\"26.98,-72.5 36.98,-69 26.98,-65.5 26.98,-72.5\"/>\n</g>\n<!-- 2&#45;&gt;2 -->\n<g id=\"edge4\" class=\"edge\">\n<title>2&#45;&gt;2</title>\n<path fill=\"none\" stroke=\"white\" d=\"M130.32,-137.99C129.37,-148.09 131.93,-157 138,-157 141.89,-157 144.34,-153.34 145.35,-148.06\"/>\n<polygon fill=\"white\" stroke=\"white\" points=\"148.85,-148.1 145.68,-137.99 141.85,-147.87 148.85,-148.1\"/>\n<text text-anchor=\"middle\" x=\"138\" y=\"-160.8\" font-family=\"Times,serif\" font-size=\"14.00\" fill=\"white\">a</text>\n</g>\n<!-- 4 -->\n<g id=\"node5\" class=\"node\">\n<title>4</title>\n<ellipse fill=\"black\" stroke=\"white\" cx=\"221\" cy=\"-69\" rx=\"18\" ry=\"18\"/>\n<text text-anchor=\"middle\" x=\"221\" y=\"-65.3\" font-family=\"Times,serif\" font-size=\"14.00\" fill=\"white\">4</text>\n</g>\n<!-- 2&#45;&gt;4 -->\n<g id=\"edge5\" class=\"edge\">\n<title>2&#45;&gt;4</title>\n<path fill=\"none\" stroke=\"white\" d=\"M157.38,-106.11C168.91,-99.28 183.89,-90.4 196.31,-83.04\"/>\n<polygon fill=\"white\" stroke=\"white\" points=\"198.39,-85.88 205.21,-77.77 194.82,-79.85 198.39,-85.88\"/>\n<text text-anchor=\"middle\" x=\"181.5\" y=\"-96.8\" font-family=\"Times,serif\" font-size=\"14.00\" fill=\"white\">b</text>\n</g>\n<!-- 3&#45;&gt;3 -->\n<g id=\"edge7\" class=\"edge\">\n<title>3&#45;&gt;3</title>\n<path fill=\"none\" stroke=\"white\" d=\"M130.32,-42.99C129.37,-53.09 131.93,-62 138,-62 141.89,-62 144.34,-58.34 145.35,-53.06\"/>\n<polygon fill=\"white\" stroke=\"white\" points=\"148.85,-53.1 145.68,-42.99 141.85,-52.87 148.85,-53.1\"/>\n<text text-anchor=\"middle\" x=\"138\" y=\"-65.8\" font-family=\"Times,serif\" font-size=\"14.00\" fill=\"white\">b</text>\n</g>\n<!-- 3&#45;&gt;4 -->\n<g id=\"edge6\" class=\"edge\">\n<title>3&#45;&gt;4</title>\n<path fill=\"none\" stroke=\"white\" d=\"M157.38,-32.67C168.84,-39.31 183.7,-47.94 196.07,-55.11\"/>\n<polygon fill=\"white\" stroke=\"white\" points=\"194.54,-58.27 204.95,-60.26 198.05,-52.22 194.54,-58.27\"/>\n<text text-anchor=\"middle\" x=\"181.5\" y=\"-52.8\" font-family=\"Times,serif\" font-size=\"14.00\" fill=\"white\">a</text>\n</g>\n<!-- 4&#45;&gt;4 -->\n<g id=\"edge8\" class=\"edge\">\n<title>4&#45;&gt;4</title>\n<path fill=\"none\" stroke=\"white\" d=\"M217.58,-86.78C217,-96.31 218.14,-105 221,-105 222.74,-105 223.84,-101.77 224.31,-97.1\"/>\n<polygon fill=\"white\" stroke=\"white\" points=\"227.81,-96.82 224.42,-86.78 220.81,-96.74 227.81,-96.82\"/>\n<text text-anchor=\"middle\" x=\"221\" y=\"-108.8\" font-family=\"Times,serif\" font-size=\"14.00\" fill=\"white\">a</text>\n</g>\n<!-- 4&#45;&gt;4 -->\n<g id=\"edge9\" class=\"edge\">\n<title>4&#45;&gt;4</title>\n<path fill=\"none\" stroke=\"white\" d=\"M215.44,-86.14C212.17,-103.58 214.02,-123 221,-123 226.61,-123 228.91,-110.43 227.89,-96.43\"/>\n<polygon fill=\"white\" stroke=\"white\" points=\"231.31,-95.61 226.56,-86.14 224.37,-96.51 231.31,-95.61\"/>\n<text text-anchor=\"middle\" x=\"221\" y=\"-126.8\" font-family=\"Times,serif\" font-size=\"14.00\" fill=\"white\">b</text>\n</g>\n</g>\n</svg>\n",
            "text/plain": [
              "<graphviz.graphs.Digraph at 0x7a36e94bc890>"
            ]
          },
          "metadata": {}
        },
        {
          "output_type": "display_data",
          "data": {
            "text/plain": [
              "<IPython.core.display.Markdown object>"
            ],
            "text/markdown": "**** a b aa **ab** **ba** bb aaa **aab** **aba** **abb** **baa** **bab** **bba** bbb aaaa **aaab** **aaba** **aabb** **abaa** **abab** **abba** **abbb** **baaa** **baab** **baba** **babb** **bbaa** **bbab** **bbba** bbbb aaaaa **aaaab** **aaaba** **aaabb** **aabaa** **aabab** **aabba** **aabbb** **abaaa** **abaab** **ababa** **ababb** **abbaa** **abbab** **abbba** **abbbb** **baaaa** **baaab** **baaba** **baabb** **babaa** **babab** **babba** **babbb** **bbaaa** **bbaab** **bbaba** **bbabb** **bbbaa** **bbbab** **bbbba** bbbbb aaaaaa **aaaaab** **aaaaba** **aaaabb** **aaabaa** **aaabab** **aaabba** **aaabbb** **aabaaa** **aabaab** **aababa** **aababb** **aabbaa** **aabbab** **aabbba** **aabbbb** **abaaaa** **abaaab** **abaaba** **abaabb** **ababaa** **ababab** **ababba** **ababbb** **abbaaa** **abbaab** **abbaba** **abbabb** **abbbaa** **abbbab** **abbbba** **abbbbb** **baaaaa** **baaaab** **baaaba** **baaabb** **baabaa** **baabab** **baabba** **baabbb** **babaaa** **babaab** **bababa** **bababb** **babbaa** **babbab** **babbba** **babbbb** **bbaaaa** **bbaaab** **bbaaba** **bbaabb** **bbabaa** **bbabab** **bbabba** **bbabbb** **bbbaaa** **bbbaab** **bbbaba** **bbbabb** **bbbbaa** **bbbbab** **bbbbba** bbbbbb aaaaaaa **aaaaaab** **aaaaaba** **aaaaabb** **aaaabaa** **aaaabab** **aaaabba** **aaaabbb** **aaabaaa** **aaabaab** **aaababa** **aaababb** **aaabbaa** **aaabbab** **aaabbba** **aaabbbb** **aabaaaa** **aabaaab** **aabaaba** **aabaabb** **aababaa** **aababab** **aababba** **aababbb** **aabbaaa** **aabbaab** **aabbaba** **aabbabb** **aabbbaa** **aabbbab** **aabbbba** **aabbbbb** **abaaaaa** **abaaaab** **abaaaba** **abaaabb** **abaabaa** **abaabab** **abaabba** **abaabbb** **ababaaa** **ababaab** **abababa** **abababb** **ababbaa** **ababbab** **ababbba** **ababbbb** **abbaaaa** **abbaaab** **abbaaba** **abbaabb** **abbabaa** **abbabab** **abbabba** **abbabbb** **abbbaaa** **abbbaab** **abbbaba** **abbbabb** **abbbbaa** **abbbbab** **abbbbba** **abbbbbb** **baaaaaa** **baaaaab** **baaaaba** **baaaabb** **baaabaa** **baaabab** **baaabba** **baaabbb** **baabaaa** **baabaab** **baababa** **baababb** **baabbaa** **baabbab** **baabbba** **baabbbb** **babaaaa** **babaaab** **babaaba** **babaabb** **bababaa** **bababab** **bababba** **bababbb** **babbaaa** **babbaab** **babbaba** **babbabb** **babbbaa** **babbbab** **babbbba** **babbbbb** **bbaaaaa** **bbaaaab** **bbaaaba** **bbaaabb** **bbaabaa** **bbaabab** **bbaabba** **bbaabbb** **bbabaaa** **bbabaab** **bbababa** **bbababb** **bbabbaa** **bbabbab** **bbabbba** **bbabbbb** **bbbaaaa** **bbbaaab** **bbbaaba** **bbbaabb** **bbbabaa** **bbbabab** **bbbabba** **bbbabbb** **bbbbaaa** **bbbbaab** **bbbbaba** **bbbbabb** **bbbbbaa** **bbbbbab** **bbbbbba** bbbbbbb"
          },
          "metadata": {}
        }
      ]
    },
    {
      "cell_type": "markdown",
      "source": [
        "---\n",
        "**Problem 10:**\n",
        "\n",
        "**Answer 10:**"
      ],
      "metadata": {
        "id": "I4Ss6kMeJmQ-"
      }
    },
    {
      "cell_type": "markdown",
      "source": [
        "---\n",
        "**Problem 11:** Show that there are exactly 5832 different finite automata with three states *x* *y*, *z* over the alphabet {*a b*}, where *x* is always the start state.\n",
        "\n",
        "**Answer 11:**"
      ],
      "metadata": {
        "id": "XW6E7jjIJmZE"
      }
    },
    {
      "cell_type": "markdown",
      "source": [
        "---\n",
        "**Problem 12:**\n",
        "\n",
        "**Answer 12:**"
      ],
      "metadata": {
        "id": "C-JT_BUwJmgK"
      }
    },
    {
      "cell_type": "markdown",
      "source": [
        "---\n",
        "**Problem 13:**\n",
        "\n",
        "**Answer 13:**"
      ],
      "metadata": {
        "id": "HCxLActoJmnP"
      }
    },
    {
      "cell_type": "markdown",
      "source": [
        "---\n",
        "**Problem 14:**\n",
        "\n",
        "**Answer 14:**"
      ],
      "metadata": {
        "id": "Y7TP_cvkJmu3"
      }
    },
    {
      "cell_type": "markdown",
      "source": [
        "---\n",
        "**Problem 15:** Build a machine that accepts all strings that have an even length that is not divisible by 6.\n",
        "\n",
        "**Answer 15:**"
      ],
      "metadata": {
        "id": "c0FgjILrJm1s"
      }
    },
    {
      "cell_type": "code",
      "source": [
        "FA['prob5_15'] = (\\\n",
        "  \"?\"\n",
        ", [ [  ' ', 'a', 'b']\n",
        "  , [ '-1',  2 ,  2 ]\n",
        "  , [  '2',  3 ,  3 ]\n",
        "  , [ '+3',  4 ,  4 ]\n",
        "  , [  '4',  5 ,  5 ]\n",
        "  , [ '+5',  6 ,  6 ]\n",
        "  , [  '6',  7 ,  7 ]\n",
        "  , [  '7',  2 ,  2 ]])\n",
        "#-------------------------------------------------------------------------------\n",
        "display_problem('prob5_15')"
      ],
      "metadata": {
        "colab": {
          "base_uri": "https://localhost:8080/",
          "height": 472
        },
        "id": "cHL2_MbOsUlo",
        "outputId": "c77baf18-717e-4c33-99db-5c28d9dbe4db"
      },
      "execution_count": 25,
      "outputs": [
        {
          "output_type": "display_data",
          "data": {
            "text/plain": [
              "<IPython.core.display.Latex object>"
            ],
            "text/latex": "?"
          },
          "metadata": {}
        },
        {
          "output_type": "display_data",
          "data": {
            "image/svg+xml": "<?xml version=\"1.0\" encoding=\"UTF-8\" standalone=\"no\"?>\n<!DOCTYPE svg PUBLIC \"-//W3C//DTD SVG 1.1//EN\"\n \"http://www.w3.org/Graphics/SVG/1.1/DTD/svg11.dtd\">\n<!-- Generated by graphviz version 2.43.0 (0)\n -->\n<!-- Title: %3 Pages: 1 -->\n<svg width=\"571pt\" height=\"132pt\"\n viewBox=\"0.00 0.00 571.00 132.00\" xmlns=\"http://www.w3.org/2000/svg\" xmlns:xlink=\"http://www.w3.org/1999/xlink\">\n<g id=\"graph0\" class=\"graph\" transform=\"scale(1 1) rotate(0) translate(4 128)\">\n<title>%3</title>\n<polygon fill=\"black\" stroke=\"transparent\" points=\"-4,4 -4,-128 567,-128 567,4 -4,4\"/>\n<!-- 1 -->\n<g id=\"node1\" class=\"node\">\n<title>1</title>\n<ellipse fill=\"black\" stroke=\"white\" cx=\"55\" cy=\"-54\" rx=\"18\" ry=\"18\"/>\n<text text-anchor=\"middle\" x=\"55\" y=\"-50.3\" font-family=\"Times,serif\" font-size=\"14.00\" fill=\"white\">1</text>\n</g>\n<!-- 2 -->\n<g id=\"node3\" class=\"node\">\n<title>2</title>\n<ellipse fill=\"black\" stroke=\"white\" cx=\"134\" cy=\"-54\" rx=\"18\" ry=\"18\"/>\n<text text-anchor=\"middle\" x=\"134\" y=\"-50.3\" font-family=\"Times,serif\" font-size=\"14.00\" fill=\"white\">2</text>\n</g>\n<!-- 1&#45;&gt;2 -->\n<g id=\"edge2\" class=\"edge\">\n<title>1&#45;&gt;2</title>\n<path fill=\"none\" stroke=\"white\" d=\"M73.09,-54C82.66,-54 94.82,-54 105.68,-54\"/>\n<polygon fill=\"white\" stroke=\"white\" points=\"105.96,-57.5 115.96,-54 105.96,-50.5 105.96,-57.5\"/>\n<text text-anchor=\"middle\" x=\"94.5\" y=\"-57.8\" font-family=\"Times,serif\" font-size=\"14.00\" fill=\"white\">a</text>\n</g>\n<!-- 1&#45;&gt;2 -->\n<g id=\"edge3\" class=\"edge\">\n<title>1&#45;&gt;2</title>\n<path fill=\"none\" stroke=\"white\" d=\"M70.31,-44.13C76.4,-40.51 83.76,-36.84 91,-35 97.62,-33.32 104.49,-34.87 110.71,-37.68\"/>\n<polygon fill=\"white\" stroke=\"white\" points=\"109.4,-40.96 119.82,-42.86 112.86,-34.88 109.4,-40.96\"/>\n<text text-anchor=\"middle\" x=\"94.5\" y=\"-38.8\" font-family=\"Times,serif\" font-size=\"14.00\" fill=\"white\">b</text>\n</g>\n<!-- &#45;&gt;1 -->\n<g id=\"edge1\" class=\"edge\">\n<title>&#45;&gt;1</title>\n<path fill=\"none\" stroke=\"white\" d=\"M1.15,-54C2.63,-54 14.68,-54 26.9,-54\"/>\n<polygon fill=\"white\" stroke=\"white\" points=\"26.98,-57.5 36.98,-54 26.98,-50.5 26.98,-57.5\"/>\n</g>\n<!-- 3 -->\n<g id=\"node4\" class=\"node\">\n<title>3</title>\n<ellipse fill=\"black\" stroke=\"white\" cx=\"217\" cy=\"-98\" rx=\"18\" ry=\"18\"/>\n<ellipse fill=\"none\" stroke=\"white\" cx=\"217\" cy=\"-98\" rx=\"22\" ry=\"22\"/>\n<text text-anchor=\"middle\" x=\"217\" y=\"-94.3\" font-family=\"Times,serif\" font-size=\"14.00\" fill=\"white\">3</text>\n</g>\n<!-- 2&#45;&gt;3 -->\n<g id=\"edge4\" class=\"edge\">\n<title>2&#45;&gt;3</title>\n<path fill=\"none\" stroke=\"white\" d=\"M146.36,-67.68C152.67,-74.44 161.04,-82.16 170,-87 174.67,-89.52 179.91,-91.47 185.13,-92.98\"/>\n<polygon fill=\"white\" stroke=\"white\" points=\"184.47,-96.42 195.02,-95.36 186.11,-89.61 184.47,-96.42\"/>\n<text text-anchor=\"middle\" x=\"173.5\" y=\"-93.8\" font-family=\"Times,serif\" font-size=\"14.00\" fill=\"white\">a</text>\n</g>\n<!-- 2&#45;&gt;3 -->\n<g id=\"edge5\" class=\"edge\">\n<title>2&#45;&gt;3</title>\n<path fill=\"none\" stroke=\"white\" d=\"M151.88,-58.23C159.77,-60.55 169.13,-63.81 177,-68 182.09,-70.71 187.21,-74.07 191.99,-77.56\"/>\n<polygon fill=\"white\" stroke=\"white\" points=\"190.08,-80.51 200.13,-83.86 194.36,-74.97 190.08,-80.51\"/>\n<text text-anchor=\"middle\" x=\"173.5\" y=\"-71.8\" font-family=\"Times,serif\" font-size=\"14.00\" fill=\"white\">b</text>\n</g>\n<!-- 4 -->\n<g id=\"node5\" class=\"node\">\n<title>4</title>\n<ellipse fill=\"black\" stroke=\"white\" cx=\"300\" cy=\"-96\" rx=\"18\" ry=\"18\"/>\n<text text-anchor=\"middle\" x=\"300\" y=\"-92.3\" font-family=\"Times,serif\" font-size=\"14.00\" fill=\"white\">4</text>\n</g>\n<!-- 3&#45;&gt;4 -->\n<g id=\"edge6\" class=\"edge\">\n<title>3&#45;&gt;4</title>\n<path fill=\"none\" stroke=\"white\" d=\"M239.28,-97.47C249.27,-97.23 261.28,-96.93 271.9,-96.67\"/>\n<polygon fill=\"white\" stroke=\"white\" points=\"272.03,-100.17 281.94,-96.42 271.86,-93.17 272.03,-100.17\"/>\n<text text-anchor=\"middle\" x=\"260.5\" y=\"-100.8\" font-family=\"Times,serif\" font-size=\"14.00\" fill=\"white\">a</text>\n</g>\n<!-- 3&#45;&gt;4 -->\n<g id=\"edge7\" class=\"edge\">\n<title>3&#45;&gt;4</title>\n<path fill=\"none\" stroke=\"white\" d=\"M235.88,-85.98C242.26,-82.35 249.69,-78.84 257,-77 263.62,-75.33 270.49,-76.88 276.71,-79.7\"/>\n<polygon fill=\"white\" stroke=\"white\" points=\"275.4,-82.98 285.82,-84.87 278.86,-76.89 275.4,-82.98\"/>\n<text text-anchor=\"middle\" x=\"260.5\" y=\"-80.8\" font-family=\"Times,serif\" font-size=\"14.00\" fill=\"white\">b</text>\n</g>\n<!-- 5 -->\n<g id=\"node6\" class=\"node\">\n<title>5</title>\n<ellipse fill=\"black\" stroke=\"white\" cx=\"383\" cy=\"-102\" rx=\"18\" ry=\"18\"/>\n<ellipse fill=\"none\" stroke=\"white\" cx=\"383\" cy=\"-102\" rx=\"22\" ry=\"22\"/>\n<text text-anchor=\"middle\" x=\"383\" y=\"-98.3\" font-family=\"Times,serif\" font-size=\"14.00\" fill=\"white\">5</text>\n</g>\n<!-- 4&#45;&gt;5 -->\n<g id=\"edge8\" class=\"edge\">\n<title>4&#45;&gt;5</title>\n<path fill=\"none\" stroke=\"white\" d=\"M318.18,-97.27C327.61,-97.97 339.6,-98.86 350.64,-99.68\"/>\n<polygon fill=\"white\" stroke=\"white\" points=\"350.58,-103.18 360.81,-100.43 351.1,-96.2 350.58,-103.18\"/>\n<text text-anchor=\"middle\" x=\"339.5\" y=\"-102.8\" font-family=\"Times,serif\" font-size=\"14.00\" fill=\"white\">a</text>\n</g>\n<!-- 4&#45;&gt;5 -->\n<g id=\"edge9\" class=\"edge\">\n<title>4&#45;&gt;5</title>\n<path fill=\"none\" stroke=\"white\" d=\"M314.71,-85.51C322.79,-80.6 333.29,-76.35 343,-79 347.38,-80.2 351.78,-82.03 355.95,-84.14\"/>\n<polygon fill=\"white\" stroke=\"white\" points=\"354.23,-87.19 364.65,-89.09 357.69,-81.1 354.23,-87.19\"/>\n<text text-anchor=\"middle\" x=\"339.5\" y=\"-82.8\" font-family=\"Times,serif\" font-size=\"14.00\" fill=\"white\">b</text>\n</g>\n<!-- 6 -->\n<g id=\"node7\" class=\"node\">\n<title>6</title>\n<ellipse fill=\"black\" stroke=\"white\" cx=\"466\" cy=\"-96\" rx=\"18\" ry=\"18\"/>\n<text text-anchor=\"middle\" x=\"466\" y=\"-92.3\" font-family=\"Times,serif\" font-size=\"14.00\" fill=\"white\">6</text>\n</g>\n<!-- 5&#45;&gt;6 -->\n<g id=\"edge10\" class=\"edge\">\n<title>5&#45;&gt;6</title>\n<path fill=\"none\" stroke=\"white\" d=\"M405.28,-100.42C415.27,-99.68 427.28,-98.79 437.9,-98.01\"/>\n<polygon fill=\"white\" stroke=\"white\" points=\"438.23,-101.49 447.94,-97.26 437.71,-94.51 438.23,-101.49\"/>\n<text text-anchor=\"middle\" x=\"426.5\" y=\"-102.8\" font-family=\"Times,serif\" font-size=\"14.00\" fill=\"white\">a</text>\n</g>\n<!-- 5&#45;&gt;6 -->\n<g id=\"edge11\" class=\"edge\">\n<title>5&#45;&gt;6</title>\n<path fill=\"none\" stroke=\"white\" d=\"M401.35,-89.09C407.81,-85.03 415.42,-81.07 423,-79 429.37,-77.26 436.09,-78.49 442.23,-80.93\"/>\n<polygon fill=\"white\" stroke=\"white\" points=\"440.78,-84.12 451.29,-85.51 443.94,-77.88 440.78,-84.12\"/>\n<text text-anchor=\"middle\" x=\"426.5\" y=\"-82.8\" font-family=\"Times,serif\" font-size=\"14.00\" fill=\"white\">b</text>\n</g>\n<!-- 7 -->\n<g id=\"node8\" class=\"node\">\n<title>7</title>\n<ellipse fill=\"black\" stroke=\"white\" cx=\"545\" cy=\"-54\" rx=\"18\" ry=\"18\"/>\n<text text-anchor=\"middle\" x=\"545\" y=\"-50.3\" font-family=\"Times,serif\" font-size=\"14.00\" fill=\"white\">7</text>\n</g>\n<!-- 6&#45;&gt;7 -->\n<g id=\"edge12\" class=\"edge\">\n<title>6&#45;&gt;7</title>\n<path fill=\"none\" stroke=\"white\" d=\"M484.07,-94.48C492,-93.25 501.34,-91.02 509,-87 515.02,-83.84 520.74,-79.36 525.76,-74.71\"/>\n<polygon fill=\"white\" stroke=\"white\" points=\"528.42,-76.99 532.99,-67.43 523.46,-72.06 528.42,-76.99\"/>\n<text text-anchor=\"middle\" x=\"505.5\" y=\"-92.8\" font-family=\"Times,serif\" font-size=\"14.00\" fill=\"white\">a</text>\n</g>\n<!-- 6&#45;&gt;7 -->\n<g id=\"edge13\" class=\"edge\">\n<title>6&#45;&gt;7</title>\n<path fill=\"none\" stroke=\"white\" d=\"M479.84,-83.91C486.14,-78.47 494.07,-72.31 502,-68 506.77,-65.4 512.11,-63.17 517.34,-61.31\"/>\n<polygon fill=\"white\" stroke=\"white\" points=\"518.64,-64.56 527.08,-58.16 516.49,-57.9 518.64,-64.56\"/>\n<text text-anchor=\"middle\" x=\"505.5\" y=\"-71.8\" font-family=\"Times,serif\" font-size=\"14.00\" fill=\"white\">b</text>\n</g>\n<!-- 7&#45;&gt;2 -->\n<g id=\"edge14\" class=\"edge\">\n<title>7&#45;&gt;2</title>\n<path fill=\"none\" stroke=\"white\" d=\"M527.68,-48.58C512.23,-43.94 488.3,-38 467,-38 216,-38 216,-38 216,-38 197.48,-38 177.03,-42.07 161.3,-46.11\"/>\n<polygon fill=\"white\" stroke=\"white\" points=\"159.99,-42.84 151.26,-48.85 161.83,-49.6 159.99,-42.84\"/>\n<text text-anchor=\"middle\" x=\"339.5\" y=\"-41.8\" font-family=\"Times,serif\" font-size=\"14.00\" fill=\"white\">a</text>\n</g>\n<!-- 7&#45;&gt;2 -->\n<g id=\"edge15\" class=\"edge\">\n<title>7&#45;&gt;2</title>\n<path fill=\"none\" stroke=\"white\" d=\"M533.4,-40.09C519.9,-24.09 494.92,0 467,0 216,0 216,0 216,0 191.25,0 168.3,-17.68 153.2,-32.8\"/>\n<polygon fill=\"white\" stroke=\"white\" points=\"150.37,-30.7 146.05,-40.37 155.46,-35.51 150.37,-30.7\"/>\n<text text-anchor=\"middle\" x=\"339.5\" y=\"-3.8\" font-family=\"Times,serif\" font-size=\"14.00\" fill=\"white\">b</text>\n</g>\n</g>\n</svg>\n",
            "text/plain": [
              "<graphviz.graphs.Digraph at 0x7a36e94af260>"
            ]
          },
          "metadata": {}
        },
        {
          "output_type": "display_data",
          "data": {
            "text/plain": [
              "<IPython.core.display.Markdown object>"
            ],
            "text/markdown": "**** **a** **b** aa ab ba bb **aaa** **aab** **aba** **abb** **baa** **bab** **bba** **bbb** aaaa aaab aaba aabb abaa abab abba abbb baaa baab baba babb bbaa bbab bbba bbbb **aaaaa** **aaaab** **aaaba** **aaabb** **aabaa** **aabab** **aabba** **aabbb** **abaaa** **abaab** **ababa** **ababb** **abbaa** **abbab** **abbba** **abbbb** **baaaa** **baaab** **baaba** **baabb** **babaa** **babab** **babba** **babbb** **bbaaa** **bbaab** **bbaba** **bbabb** **bbbaa** **bbbab** **bbbba** **bbbbb** **aaaaaa** **aaaaab** **aaaaba** **aaaabb** **aaabaa** **aaabab** **aaabba** **aaabbb** **aabaaa** **aabaab** **aababa** **aababb** **aabbaa** **aabbab** **aabbba** **aabbbb** **abaaaa** **abaaab** **abaaba** **abaabb** **ababaa** **ababab** **ababba** **ababbb** **abbaaa** **abbaab** **abbaba** **abbabb** **abbbaa** **abbbab** **abbbba** **abbbbb** **baaaaa** **baaaab** **baaaba** **baaabb** **baabaa** **baabab** **baabba** **baabbb** **babaaa** **babaab** **bababa** **bababb** **babbaa** **babbab** **babbba** **babbbb** **bbaaaa** **bbaaab** **bbaaba** **bbaabb** **bbabaa** **bbabab** **bbabba** **bbabbb** **bbbaaa** **bbbaab** **bbbaba** **bbbabb** **bbbbaa** **bbbbab** **bbbbba** **bbbbbb** **aaaaaaa** **aaaaaab** **aaaaaba** **aaaaabb** **aaaabaa** **aaaabab** **aaaabba** **aaaabbb** **aaabaaa** **aaabaab** **aaababa** **aaababb** **aaabbaa** **aaabbab** **aaabbba** **aaabbbb** **aabaaaa** **aabaaab** **aabaaba** **aabaabb** **aababaa** **aababab** **aababba** **aababbb** **aabbaaa** **aabbaab** **aabbaba** **aabbabb** **aabbbaa** **aabbbab** **aabbbba** **aabbbbb** **abaaaaa** **abaaaab** **abaaaba** **abaaabb** **abaabaa** **abaabab** **abaabba** **abaabbb** **ababaaa** **ababaab** **abababa** **abababb** **ababbaa** **ababbab** **ababbba** **ababbbb** **abbaaaa** **abbaaab** **abbaaba** **abbaabb** **abbabaa** **abbabab** **abbabba** **abbabbb** **abbbaaa** **abbbaab** **abbbaba** **abbbabb** **abbbbaa** **abbbbab** **abbbbba** **abbbbbb** **baaaaaa** **baaaaab** **baaaaba** **baaaabb** **baaabaa** **baaabab** **baaabba** **baaabbb** **baabaaa** **baabaab** **baababa** **baababb** **baabbaa** **baabbab** **baabbba** **baabbbb** **babaaaa** **babaaab** **babaaba** **babaabb** **bababaa** **bababab** **bababba** **bababbb** **babbaaa** **babbaab** **babbaba** **babbabb** **babbbaa** **babbbab** **babbbba** **babbbbb** **bbaaaaa** **bbaaaab** **bbaaaba** **bbaaabb** **bbaabaa** **bbaabab** **bbaabba** **bbaabbb** **bbabaaa** **bbabaab** **bbababa** **bbababb** **bbabbaa** **bbabbab** **bbabbba** **bbabbbb** **bbbaaaa** **bbbaaab** **bbbaaba** **bbbaabb** **bbbabaa** **bbbabab** **bbbabba** **bbbabbb** **bbbbaaa** **bbbbaab** **bbbbaba** **bbbbabb** **bbbbbaa** **bbbbbab** **bbbbbba** **bbbbbbb**"
          },
          "metadata": {}
        }
      ]
    },
    {
      "cell_type": "markdown",
      "source": [
        "---\n",
        "**Problem 16:** Build an FA such that when the labels *a* and *b* are swapped the new machine is different from the old one but equivalent (the language defined by these machines is the same).\n",
        "\n",
        "**Answer 16:**"
      ],
      "metadata": {
        "id": "84LuF9RDJm8w"
      }
    },
    {
      "cell_type": "markdown",
      "source": [
        "---\n",
        "**Problem 17:**\n",
        "\n",
        "**Answer 17:**\n",
        "- $(aa+ab+ba+bb)a$\n",
        "- $(a+b)(aa+ab+ba+bb)a$\n",
        "- $(aa+ba)(aa+ba)^{*}$"
      ],
      "metadata": {
        "id": "ClLPMlv-JnD3"
      }
    },
    {
      "cell_type": "markdown",
      "source": [
        "---\n",
        "**Problem 18:**\n",
        "\n",
        "**Answer 18:**"
      ],
      "metadata": {
        "id": "LamdorERJnK9"
      }
    },
    {
      "cell_type": "markdown",
      "source": [
        "---\n",
        "**Problem 19:**\n",
        "\n",
        "**Answer 19:**"
      ],
      "metadata": {
        "id": "QqoIKGRVJnR6"
      }
    },
    {
      "cell_type": "markdown",
      "source": [
        "---\n",
        "**Problem 20:**\n",
        "\n",
        "**Answer 20:**"
      ],
      "metadata": {
        "id": "fV4oK9NkJnYI"
      }
    }
  ]
}