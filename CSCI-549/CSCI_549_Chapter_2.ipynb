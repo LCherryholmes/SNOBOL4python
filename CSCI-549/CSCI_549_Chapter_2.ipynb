{
  "nbformat": 4,
  "nbformat_minor": 0,
  "metadata": {
    "colab": {
      "provenance": []
    },
    "kernelspec": {
      "name": "python3",
      "display_name": "Python 3"
    },
    "language_info": {
      "name": "python"
    }
  },
  "cells": [
    {
      "cell_type": "markdown",
      "source": [
        "---\n",
        "**Chapter 2: Introduction to Computer Theory by Daniel I. A. Cohen**"
      ],
      "metadata": {
        "id": "3q98Wv8kcRtc"
      }
    },
    {
      "cell_type": "code",
      "source": [
        "from itertools import product\n",
        "from pprint import pprint\n",
        "\n",
        "def kleene_star(S):\n",
        "    result = [{} for _ in range(8)]\n",
        "    for repeat in range(8):\n",
        "        for combo in product(S, repeat=repeat):\n",
        "            combo = \"\".join(combo)\n",
        "            length = len(combo)\n",
        "            if length < len(result):\n",
        "                if combo not in result[length]:\n",
        "                    result[length][combo] = 1\n",
        "                else: result[length][combo] += 1\n",
        "    for length, words in enumerate(result):\n",
        "        if words is not None:\n",
        "            print(length, len(words), words)"
      ],
      "metadata": {
        "id": "CDASEICxz2_e"
      },
      "execution_count": null,
      "outputs": []
    },
    {
      "cell_type": "markdown",
      "source": [
        "---\n",
        "**Problem 1:** Consider the language $S^{*}$, where $S =$ {*a b*}.\n",
        "1. How many words does the language have of length 2?\n",
        "2. of length 3?\n",
        "3. of length *n*?"
      ],
      "metadata": {
        "id": "NxkkyVaJQwi8"
      }
    },
    {
      "cell_type": "markdown",
      "source": [
        "**Answer 1:**\n",
        "1. $4$\n",
        "2. $8$\n",
        "3. $2^{n}$"
      ],
      "metadata": {
        "id": "t7j-27bgN9WU"
      }
    },
    {
      "cell_type": "code",
      "source": [
        "# Observe the powers of two sequence: 1, 2, 4, 8, 16, 32, 64, ...\n",
        "S = {\"a\", \"b\"}\n",
        "kleene_star(S)"
      ],
      "metadata": {
        "id": "QwLN_1S8z9mP"
      },
      "execution_count": null,
      "outputs": []
    },
    {
      "cell_type": "markdown",
      "source": [
        "---\n",
        "**Problem 2:** Consider the language $S^{*}$, where $S =$ {*aa b*}.\n",
        "1. How many words does the language have of length 4?\n",
        "2. of length 5?\n",
        "3. of length 6?\n",
        "4. What can be said in general?"
      ],
      "metadata": {
        "id": "KT72DTgORof5"
      }
    },
    {
      "cell_type": "markdown",
      "source": [
        "**Answer 2:**\n",
        "1. $5$\n",
        "2. $8$\n",
        "3. $13$\n",
        "4. *See below.**"
      ],
      "metadata": {
        "id": "PU1pG-OAOFyC"
      }
    },
    {
      "cell_type": "code",
      "source": [
        "# Observe the Fibonacci sequence: 1, 1, 2, 3, 5, 8, 13, ...\n",
        "S = {\"aa\", \"b\"}\n",
        "kleene_star(S)"
      ],
      "metadata": {
        "id": "qYIdPtvvv3FZ"
      },
      "execution_count": null,
      "outputs": []
    },
    {
      "cell_type": "markdown",
      "source": [
        "---\n",
        "**Problem 3:** Consider the language $S^{*}$, where $S =$ {*ab ba*}.\n",
        "1. Write out all the words in $S^{*}$ that have seven or fewer letters.\n",
        "2. Can any word in this language contain the substrings *aaa* or *bbb*?\n",
        "3. What is the smallest word *not* in this language?"
      ],
      "metadata": {
        "id": "j5Tivw0ySAxm"
      }
    },
    {
      "cell_type": "markdown",
      "source": [
        "**Answer 3:**\n",
        "\n",
        "1. *See below.*\n",
        "2. No. $S$ does not contain *aa* or *bb*. Any substring has at most two consecutive *a*'s or *b*'s.\n",
        "3. Either *a* or *b*."
      ],
      "metadata": {
        "id": "_IJUONDMOJxm"
      }
    },
    {
      "cell_type": "code",
      "source": [
        "# Answer 3.1\n",
        "S = {\"ab\", \"ba\"}\n",
        "kleene_star(S)"
      ],
      "metadata": {
        "id": "k2rv4obp9oKl"
      },
      "execution_count": null,
      "outputs": []
    },
    {
      "cell_type": "markdown",
      "source": [
        "---\n",
        "**Problem 4:** Consider the language $S^{*}$, where $S =$ {*a ab ba*}.\n",
        "1. Is the string (*abbba*) a word in this language?\n",
        "2. Write out all the words in this language with six or fewer letters.\n",
        "3. What is another way in which to describe the words in this language? Be careful, this is not simply the language of all words without bbb."
      ],
      "metadata": {
        "id": "MrKukPfsSA4c"
      }
    },
    {
      "cell_type": "markdown",
      "source": [
        "**Answer 4:**\n",
        "\n",
        "1. No. Neither *b* nor *bb* are in $S$. At most two consecutive *b*'s.\n",
        "2. *See below.*\n",
        "3. All the strings of *a*'s and *b*'s where each *b* is adjacent to a unique *a*."
      ],
      "metadata": {
        "id": "SFcnBSVsOgRs"
      }
    },
    {
      "cell_type": "code",
      "source": [
        "# Answer 4.2\n",
        "S = {\"a\", \"ab\", \"ba\"}\n",
        "kleene_star(S)"
      ],
      "metadata": {
        "id": "nBMVwKXkA64v"
      },
      "execution_count": null,
      "outputs": []
    },
    {
      "cell_type": "markdown",
      "source": [
        "---\n",
        "**Problem 5:** Consider the language $S^{*}$, where $S =$ {*aa aba baa*}.\n",
        "1. Show that the words *aabaa*, *baaabaaa*, and *baaaaababaaaa* are all in this language.\n",
        "2. Can any word in this language be interpreted as a string of elements from $S$ in two different ways?\n",
        "3. Can any word in this language have an odd total number of *a*'s?"
      ],
      "metadata": {
        "id": "Ikc2DX3fSBBW"
      }
    },
    {
      "cell_type": "markdown",
      "source": [
        "**Answer 5:**\n",
        "1. *aabaa* = *aa baa* \\\n",
        "   *baaabaaa* = *baa aba aa* \\\n",
        "   *baaaaababaaaa* = *baa aa aba baa aa*\n",
        "2. No. None of the words in $S$ is a prefix of another word in $S$. Neither *a*, *ab*, nor *ba* are elements of $S$.\n",
        "3. No. Each element has two *a*'s and any composite string will have only multiples."
      ],
      "metadata": {
        "id": "t97JxnKWOkJU"
      }
    },
    {
      "cell_type": "markdown",
      "source": [
        "---\n",
        "**Problem 6:** Consider the language $S^{*}$, where $S =$ {*xx xxx*}.\n",
        "In how many ways can $x^{19}$ be written as the product of words in $S$?\n",
        "This means: How many different factorizations are there of $x^{19}$ into *xx* and *xxx*?"
      ],
      "metadata": {
        "id": "n71p6prZSBK5"
      }
    },
    {
      "cell_type": "markdown",
      "source": [
        "**Answer 6:**\n",
        "\n",
        "$\\text{Let } a = \\#(\\text{copies of } xx), \\quad b = \\#(\\text{copies of } xxx)$.\n",
        "\n",
        "The length condition is $2a + 3b = 19, \\quad a,b \\in \\mathbb{Z}_{\\ge 0}$.\n",
        "\n",
        "For each feasible pair $(a,b)$, the number of distinct orderings is $\\binom{a+b}{a}$.\n",
        "\n",
        "Solving $2a + 3b = 19$:\n",
        "\n",
        "$$\n",
        "\\begin{aligned}\n",
        "b &= 1 \\quad\\Rightarrow\\quad a = 8, &\\binom{9}{8} &= 9, \\\\\n",
        "b &= 3 \\quad\\Rightarrow\\quad a = 5, &\\binom{8}{5} &= 56, \\\\\n",
        "b &= 5 \\quad\\Rightarrow\\quad a = 2, &\\binom{7}{2} &= 21.\n",
        "\\end{aligned}\n",
        "$$\n",
        "\n",
        "Summing over all solutions: $9 + 56 + 21 = 86$.\n",
        "\n",
        "$$\n",
        "\\boxed{\\text{There are 86 distinct factorizations.}}\n",
        "$$"
      ],
      "metadata": {
        "id": "31QUyooFmhpU"
      }
    },
    {
      "cell_type": "markdown",
      "source": [
        "---\n",
        "**Problem 7:** Consider the language PALINDROME over the alphabet {*a b*}.\n",
        "\n",
        "$\\textbf{Let}$ $\\text{PALINDROME} = \\{\\, w \\in \\{a,b\\}^* \\mid w = w^R \\,\\}$, where $w^R$ denotes the reverse of $w$.\n",
        "\n",
        "* (i) Prove that if $x$ is in PALINDROME, then so is $x^{n}$ for any *n*.\n",
        "* (ii) Prove that if $y^{3}$ is in PALINDROME, then so is $y$.\n",
        "* (iii) Prove that if $z^{n}$ is in PALINDROME for some $n$ (greater than 0), then $z$ itself is also.\n",
        "* (iv) Prove that PALINDROME has as many words of length 4 as it does of length 3.\n",
        "* (v) Prove that PALINDROME has as many words of length $2n$ as it has of length $2n - 1$. How many words is that?"
      ],
      "metadata": {
        "id": "B80v7xQnSSlp"
      }
    },
    {
      "cell_type": "markdown",
      "source": [
        "---\n",
        "**Answer 7(i):**\n",
        "\n",
        "$\\textbf{Claim.}$ If $x \\in \\text{PALINDROME}$, then $x^n \\in \\text{PALINDROME}$ for any integer $n \\ge 0$.\n",
        "\n",
        "$\\textbf{Proof.}$\n",
        "\n",
        "Recall that for any strings *u,v*, we have $(uv)^R = v^R u^R.$\n",
        "\n",
        "Since $x \\in \\text{PALINDROME}$, we have $x = x^R$. Thus, $(x^n)^R = (x^R)^n = x^n$."
      ],
      "metadata": {
        "id": "41BbKlgPQ2j7"
      }
    },
    {
      "cell_type": "markdown",
      "source": [
        "---\n",
        "**Answer 7(ii):**\n",
        "\n",
        "$\\textbf{Claim.}$ If $y^3 \\in \\text{PALINDROME}$, then $y \\in \\text{PALINDROME}$.\n",
        "\n",
        "$\\textbf{Proof.}$\n",
        "\n",
        "Recall that for any strings *u,v*, we have $(uv)^R = v^R u^R.$\n",
        "\n",
        "Since $y^3 \\in \\text{PALINDROME}$, we have $yyy = (yyy)^R$, $(yyy)^R = y^Ry^Ry^R$. Given they are one-to-one and corresponding, therefore $y = y^R$."
      ],
      "metadata": {
        "id": "FeqxiyW5URE7"
      }
    },
    {
      "cell_type": "markdown",
      "source": [
        "---\n",
        "**Answer 7(iii):**\n",
        "\n",
        "$\\textbf{Claim.}$ If $y^3 \\in \\text{PALINDROME}$, then $y \\in \\text{PALINDROME}$.\n",
        "\n",
        "$\\textbf{Proof.}$\n",
        "\n",
        "Recall that for any strings *u,v*, we have $(uv)^R = v^R u^R.$\n",
        "\n",
        "Since $z^n \\in \\text{PALINDROME}$, we have $z^n = (z^n)^R$, $(z^n)^R = (z^R)^n$. Given they are one-to-one and corresponding, therefore $z = z^R$."
      ],
      "metadata": {
        "id": "bguwR-LdYEKf"
      }
    },
    {
      "cell_type": "markdown",
      "source": [
        "**Answer 7(iv):**\n",
        "\n",
        "For alphabet {*a b*}, a palindrome of length $n$ is determined by its first ${\\lceil n/2 \\rceil}$ positions, each with 2 choices. Thus the number of palindromes of length $n$ is $2^{\\lceil n/2 \\rceil}$. For $n=3$ the length is $2$ and for $n=4$ the length is $2$, hence the same number of palindromes, which is $4$.\n"
      ],
      "metadata": {
        "id": "a2c-mAtLZy0w"
      }
    },
    {
      "cell_type": "markdown",
      "source": [
        "---\n",
        "**Answer 7(v):**\n",
        "\n",
        "For alphabet {*a b*}, a palindrome of length $n$ is determined by its first ${\\lceil n/2 \\rceil}$ positions, each with 2 choices. Thus the number of palindromes of length $n$ is $2^{\\lceil n/2 \\rceil}$. For $n=2N$ the length is ${\\lceil 2N/2 \\rceil}$ and for $n=2N-1$ the length is ${\\lceil (2N-1)/2 \\rceil}$, but $2N/2=(2N-1)/2=N$ hence the same number of palindromes, which is $2^{\\lceil N \\rceil}$."
      ],
      "metadata": {
        "id": "vdjH4fP7beGd"
      }
    },
    {
      "cell_type": "markdown",
      "source": [
        "---\n",
        "**Problem 8:** Show that if the concatenation of two words (neither $Λ$) in PALINDROME is also a word in PALINDROME, then both words are powers of some other word; that is, if $x$ and $y$ and $xy$ are all in PALINDROME, then there is a word $z$ such that $x = z^{p}$  and $y = z^{q}$ for some integers $p$ and $q$ (maybe $p$ or $q = 1$).\n",
        "\n",
        "* $x = x^R$\n",
        "* $y = y^R$\n",
        "* $(xy) = (xy)^R = (y^Rx^R) = (yx)$\n",
        "  \n",
        "so $x$ and $y$ commute.\n",
        "\n",
        "We prove by induction on $|x|+|y|$ that if nonempty words $x,y$ commute, then there exists $z$ with $x=z^m$ and $y=z^n$ for some $m,n\\ge 1$.\n",
        "\n",
        "If $|x|=|y|$, then $xy=yx$ implies $x=y$, and taking $z=x$ gives the claim. Otherwise, without loss of generality $|x|>|y|$. Since $xy=yx$, the word $y$ is a prefix of $x$; write $x=yt$ for some (possibly empty) $t$. Substituting into $xy=yx$ yields\n",
        "\n",
        "$(yt)y = y(yt) \\;\\;\\Rightarrow\\;\\; yty = yyt \\;\\;\\Rightarrow\\;\\; ty=yt$,\n",
        "\n",
        "where we used left-cancellation in the free monoid. If $t=\\varepsilon$, then $x=y$ and we are done as before. If $t\\neq\\varepsilon$, then $t$ and $y$ are shorter nonempty words that commute, and $|t|+|y|<|x|+|y|$. By the induction hypothesis, there exists a word $z$ and integers $p,q\\ge 1$ such that $t=z^p$ and $y=z^q$. Hence\n",
        "\n",
        "$x=yt = z^q z^p = z^{p+q} \\quad\\text{and}\\quad y=z^q$,\n",
        "\n",
        "so taking $m=p+q$ and $n=q$ completes the proof.\n",
        "\n",
        "Thus, from $x,y,xy\\in$ PALINDROME with $x,y\\neq\\varepsilon$, we conclude that $x$ and $y$ are powers of a common word."
      ],
      "metadata": {
        "id": "3zMEj22iSSu9"
      }
    },
    {
      "cell_type": "markdown",
      "source": [
        "---\n",
        "**Problem 9:**\n",
        "* (i) Let $S$ = {*ab bb*} and let $T$ = {*ab bb bbbb*}. Show that $S^{*} = T^{*}$.\n",
        "* (ii) Let $S$ = {*ab bb*} and let $T$ = {*ab bb bbb*}. Show that $S^{*} \\neq T^{*}$, but that $S^{*} \\subset T^{*}$.\n",
        "* (iii) What principle does this illustrate?"
      ],
      "metadata": {
        "id": "8RBVUYALSS2T"
      }
    },
    {
      "cell_type": "markdown",
      "source": [
        "Proof that $S^{*} = T^{*}$\n",
        "\n",
        "Let $S =$ {*ab bb*}, $T =$ {*ab bb bbbb*}.\n",
        "\n",
        "By definition of the Kleene star:\n",
        "\n",
        "$\n",
        "A^{0} = \\{\\varepsilon\\},\n",
        "A^{n} = \\{x_{1}x_{2}\\cdots x_{n} \\mid x_{i} \\in A \\ \\text{for all } i\\},\n",
        "A^{*} = \\bigcup_{n \\ge 0} A^{n}.\n",
        "$\n",
        "\n",
        "1. $S^{*} \\subseteq T^{*}$\n",
        "\n",
        "Let $w \\in S^{*}$. Then $w \\in S^{n}$ for some $n \\ge 0$, so $w = s_{1}s_{2}\\cdots s_{n}\n",
        "\\quad\\text{with each } s_{i} \\in S$.\n",
        "\n",
        "Since $S \\subseteq T$, each $s_{i} \\in T$, hence $w \\in T^{n} \\subseteq T^{*}$.\n",
        "\n",
        "2. $T^{*} \\subseteq S^{*}$\n",
        "\n",
        "Let $w \\in T^{*}$. Then $w \\in T^{k}$ for some $k \\ge 0$, so $w = x_{1}x_{2}\\cdots x_{k} \\quad\\text{with each } x_{i} \\in T = \\{ab,\\, bb,\\, bbbb\\}$.\n",
        "\n",
        "We can rewrite each \\(x_{i}\\) as a sequence of elements from $S$:\n",
        "- If $x_{i} = ab$, replace it by $(ab)$.\n",
        "- If $x_{i} = bb$, replace it by $(bb)$.\n",
        "- If $x_{i} = bbbb$, note that $bbbb = (bb)(bb)$, so replace it by ($bb$ $bb$).\n",
        "\n",
        "Concatenating all these replacements yields $w = y_{1}y_{2}\\cdots y_{m}\\quad\\text{with each } y_{j} \\in S$.\n",
        "\n",
        "Thus $w \\in S^{m} \\subseteq S^{*}$.\n",
        "\n",
        "3. Since $S^{*} \\subseteq T^{*}$ and $T^{*} \\subseteq S^{*}$, we have $S^{*} = T^{*}$."
      ],
      "metadata": {
        "id": "_c_dENrolTG-"
      }
    },
    {
      "cell_type": "markdown",
      "source": [
        "---\n",
        "**Problem 10:** How does the situation in Problem 9 change if we replace the operator $^{*}$ with the operator $^{+}$ as defined in this chapter? Note the language $S^{+}$ means the same same $S^{*}$, but does not allow the \"concatenation of no words\" of $S$.\n",
        "\n",
        "**Answer 10:**\n",
        "No changes in the the equalities and inclusions."
      ],
      "metadata": {
        "id": "xTE0gDaMSTzs"
      }
    },
    {
      "cell_type": "markdown",
      "source": [
        "---\n",
        "**Problem 11:** Prove that for all sets $S$,\n",
        "* (i) $(S^{+})^{*} = (S^{*})^{*}$\n",
        "* (ii) $(S^{+})^{+} = S^{+}$\n",
        "* (iii) Is $(S^{*})^{+} = (S^{+})^{*}$ for all sets $S$?\n",
        "\n",
        "**Answer 11:**\n",
        "\n",
        "* (i) $(S^+)^*$ includes $Λ$ even if $S$ does not, so $(S^+)^*=S^*$. $S^*=S^**$ by Theorem 1.\n",
        "* (ii) There can be no factor in $S$ that is not in $S^+$, $(S^+)^+ \\subseteq S^+$. In general any set is contained in its positive closure $S^+ \\subseteq (S^+)^+$. Therefore, $(S^+)^+ = S^+$.\n",
        "* (iii) Yes."
      ],
      "metadata": {
        "id": "pAvrSU_pST8D"
      }
    },
    {
      "cell_type": "markdown",
      "source": [
        "---\n",
        "**Problem 12:** Let $S$ = {*a bb bab abaab*}.\n",
        "1. Is *abbabaabab* in $S^{*}$?\n",
        "2. Is *abaabbabbaabb*?\n",
        "3. Does any word in $S^{*}$ have an odd total number of *b*'s?\n",
        "\n",
        "**Answer 12:**\n",
        "\n",
        "1. No.\n",
        "2. No.\n",
        "3. No."
      ],
      "metadata": {
        "id": "biQzrBMASUBH"
      }
    },
    {
      "cell_type": "markdown",
      "source": [
        "---\n",
        "**Problem 13:** Suppose that for some language $L$ we can always concatenate two words in $L$ and get another word in $L$, if and only if the words are not the same. That is, for any words $w_{1}$ and $w_{2}$ in L where $w_{1} \\neq w_{2}$, the word $w_{1}$$w_{2}$ is in $L$ but the word $w_{1}$$w_{1}$ is not in $L$. Prove that this cannot happen.\n",
        "\n",
        "**Answer 13:** This is the same as saying that the language L would allow all concatenations that did not produce squares. First observe that Λ = ΛΛ, so Λ cannot be in the language. Consider $w_1 \\neq w_2 $ and $ w_1w_2 \\in L$. Let $w_3 = w_1w_2$, since $Λ \\notin L$, $w_3 \\neq w_2$, so $w_4 = w_2w_3 \\in L$ where $w_4 \\neq w_1$, finally let $w_5 = w_1w_4 \\in L$. However, $w5 = w_1w_2w_1w_2 = w_3w_3$ which is square, so $w_5 \\notin L$.\n"
      ],
      "metadata": {
        "id": "LTJB8dK3SUGV"
      }
    },
    {
      "cell_type": "markdown",
      "source": [
        "---\n",
        "**Problem 14:** Let us define $(S^{**})^{*} = S^{***}$.\n",
        "\n",
        "1. Is this set bigger than $S^{*}$?\n",
        "2. Is it bigger that $S$?\n",
        "\n",
        "**Answer 14:**\n",
        "\n",
        "1. No. $(S^{**})^{*} = (S^{*})^{*} = S^{*}$ by Theorem 1.\n",
        "2. It is often bigger than $S$."
      ],
      "metadata": {
        "id": "agyC7aWkSULD"
      }
    },
    {
      "cell_type": "markdown",
      "source": [
        "---\n",
        "**Problem 15:** Let $w$ be a string of letters and let the language $T$ be defined by adding $w$ to the language $S$. Suppose further that $T^{*} = S^{*}$.\n",
        "* (i) Is it necessarily true that $w \\in S$?\n",
        "* (ii) Is it necessarily true that $w \\in S^{*}$?\n",
        "\n",
        "**Answer 15:**\n",
        "* (i) no\n",
        "* (ii) yes, $T = S + \\{w\\} \\implies w \\in T \\implies w \\in T^*$ and $T^* = S^* \\implies w \\in S^*$."
      ],
      "metadata": {
        "id": "H7MyZqY-SUPx"
      }
    },
    {
      "cell_type": "markdown",
      "source": [
        "---\n",
        "**Problem 16:** Give an example of a set $S$ such that the language $S^{*}$ has more six-letter words than eight-letter words. Does there exists an $S^{*}$ such that it has more six-letter words that twelve-letter words?\n",
        "\n",
        "**Answer 16:**\n",
        "Let $S = $ {*aaa*}, $S^*$ has one six-letter word and no seven-letter words and no eight-letter words. However, it is impossible for $S^*$ for $S$ to contain more six-letter words that twelve-letter words, because for every six-letter word $w$ there is a twelve-letter word $ww$ in $S^*$."
      ],
      "metadata": {
        "id": "x5wICglTSUU-"
      }
    },
    {
      "cell_type": "markdown",
      "source": [
        "---\n",
        "**Problem 17:**\n",
        "* (i) Consider the language $S^{*}$, where $S$ = {*aa ab ba bb*}. Give another description of this language.\n",
        "* (ii) Give an example of a set $S$ such that $S^{*}$ *only* contains all possible strings of *a*'s and *b*'s that have length divisible by 3.\n",
        "* (iii) Let S be all strings of *a*'s and *b*'s with odd length. What is $S^{*}$?\n",
        "\n",
        "**Answer 17:**\n",
        "- (i) All words over $Σ =$ {*a b*} of even length.\n",
        "- (ii) $S =$ {*aaa aab aba abb baa bab bba bbb*}\n",
        "- (iii) All strings of *a*'s and *b*'s except Λ"
      ],
      "metadata": {
        "id": "ojXwNd_HSUZ9"
      }
    },
    {
      "cell_type": "markdown",
      "source": [
        "---\n",
        "**Problem 18:**\n",
        "* (i) If $S =$ {*a b*} and $T^{*} = S^{*}$, prove that $T$ must contain $S$.\n",
        "* (ii) Find another pair of sets $S$ and $T$ such that if $T^{*} = S^{*}$, then $S \\subset T$.\n",
        "\n",
        "**Answer 18:**\n",
        "- (i) $S^*$ and $T^*$ both represent the set of all strings of *a*'s *b*'s. Therefore $T$ must include at least the words *a* and *b*, which is the set $S$.\n",
        "- (ii) $S =$ {*a bb*}, $T =$ {*a aa bb*}."
      ],
      "metadata": {
        "id": "tARV7x_bSUfD"
      }
    },
    {
      "cell_type": "markdown",
      "source": [
        "---\n",
        "**Problem 19:** One student suggested the following algorithm to test a string of *a*'s and *b*'s to see if it is a word in $S^{*}$, where $S =$ {*aa ba aba abaab*}.\n",
        "* Step 1, cross off the longest set of characters from the front of the string that is a word in $S$.\n",
        "* Step 2, repeat step 1 until it is no longer possible. If what remains is the string $Λ$, the original string was a word in $S^{*}$. If what remains is not $Λ$ (this means that some letters are left, but we cannot find a word in $S$ at the beginning), the original string was not a word in $S^{*}$. Find a string that disproves this algorithm.\n",
        "\n",
        "**Answer 19:**\n",
        "The word *abaaba* disproves the algorithm."
      ],
      "metadata": {
        "id": "RlFXX-J2SUkA"
      }
    },
    {
      "cell_type": "markdown",
      "source": [
        "---\n",
        "**Problem 20:** A language $L_1$ is smaller than another language $L_2$ if $L_1 \\subset L_2$ and $L_1 \\neq L_2$. Let $T$ be any language closed under concatenation; that is, if $t_1 \\in T$ and $t_2 \\in T$, then $t_1t_2$ is also an element of $T$. Show that if $T$ contains $S$ but $T \\neq S^{*}$, then $S^{*}$ is smaller that $T$. We can summarize this by saying that $S^{*}$ is the smallest closed language containing $S$.\n",
        "\n",
        "**Answer 20:**\n",
        "Since $T$ is closed and $S \\subset T$, any factors in $S$ concatentated together two at a time will be a word in $T$. Likewise concatentating factors in $S$ any number of times produces a word in $T$. That is any word in $S^*$ is also in $T$. However we are given that $T \\neq S^*$ so $T$ contains some words not in $S^*$. We can conclude that $S^*$ is a proper subset of $T$, in other words $S^*$ is smaller that $T$, and in symbols $S^* \\subset T$."
      ],
      "metadata": {
        "id": "CLDDHKmISsTW"
      }
    }
  ]
}