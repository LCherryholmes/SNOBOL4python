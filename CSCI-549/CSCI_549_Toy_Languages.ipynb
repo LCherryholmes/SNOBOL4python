{
  "nbformat": 4,
  "nbformat_minor": 0,
  "metadata": {
    "colab": {
      "provenance": [],
      "collapsed_sections": [
        "_s7xu4oGDA-z"
      ]
    },
    "kernelspec": {
      "name": "python3",
      "display_name": "Python 3"
    },
    "language_info": {
      "name": "python"
    }
  },
  "cells": [
    {
      "cell_type": "markdown",
      "source": [
        "# Example Sets\n"
      ],
      "metadata": {
        "id": "_s7xu4oGDA-z"
      }
    },
    {
      "cell_type": "markdown",
      "source": [
        "---\n",
        "$INTEGERS:$\n",
        "\n",
        "Rule 1: $\\quad 1 \\in INTEGERS$\n",
        "\n",
        "Rule 2: $\\quad x \\in INTEGERS \\implies x+1 \\in INTEGERS$\n"
      ],
      "metadata": {
        "id": "nHu8SDNr51gM"
      }
    },
    {
      "cell_type": "markdown",
      "source": [
        "---\n",
        "$EVEN:$\n",
        "\n",
        "Rule 1: $\\quad 2 \\in EVEN$\n",
        "\n",
        "Rule 2: $\\quad x \\in EVEN \\implies x+2 \\in EVEN$\n"
      ],
      "metadata": {
        "id": "SFQGU5tI51Fp"
      }
    },
    {
      "cell_type": "markdown",
      "source": [
        "---\n",
        "$ODD:$\n",
        "\n",
        "Rule 1: $\\quad 1 \\in ODD$\n",
        "\n",
        "Rule 2: $\\quad x \\in ODD \\implies x+2 \\in ODD$\n"
      ],
      "metadata": {
        "id": "AKuW8GeOHkHS"
      }
    },
    {
      "cell_type": "markdown",
      "source": [
        "---\n",
        "$RATIONAL:$\n",
        "\n",
        "Rule 1: $\\quad 1 \\in RATIONAL$\n",
        "\n",
        "Rule 2: $\\quad x,y \\in RATIONAL \\implies x+y, x * y,$ and $x/y \\in RATIONAL$\n"
      ],
      "metadata": {
        "id": "rjB3yXxQHHGL"
      }
    },
    {
      "cell_type": "markdown",
      "source": [
        "# Example Languages\n"
      ],
      "metadata": {
        "id": "hYS3SdGN21C1"
      }
    },
    {
      "cell_type": "markdown",
      "source": [
        "---\n",
        "$L_1 = \\{x^n \\mid n \\geq 1\\}.$\n",
        "\n",
        "$L_1 = \\{x\\} \\cup \\{\\,αx \\mid α \\in L_1\\,\\}.$\n",
        "\n",
        "Rule 1: $\\quad x \\in L_1$\n",
        "\n",
        "Rule 2: $\\quad α \\in L_1 \\implies αx \\in L_1.$\n",
        "\n",
        "RE: $\\quad x^{+}$\n"
      ],
      "metadata": {
        "id": "OhNbvf6T9Kab"
      }
    },
    {
      "cell_type": "markdown",
      "source": [
        "---\n",
        "$L_2 = \\{(xx)^n \\mid n \\geq 1\\}.$\n",
        "\n",
        "Rule 1: $\\quad xx \\in L_2$\n",
        "\n",
        "Rule 2: $\\quad α \\in L_2 \\implies αxx \\in L_2$\n",
        "\n",
        "RE: $\\quad (xx)^{+}$\n"
      ],
      "metadata": {
        "id": "XW-UqEXt5yTG"
      }
    },
    {
      "cell_type": "markdown",
      "source": [
        "---\n",
        "$L_3:$\n",
        "\n",
        "Rule 1: $\\quad 1,2,3,4,5,6,7,8,9 \\in L_3$\n",
        "\n",
        "Rule 2: $\\quad δ_1, δ_2 \\in L_3 \\implies δ_20$, $ δ_2δ_1 \\in L_3$\n",
        "\n",
        "RE: $\\quad (1+2+3+4+5+6+7+8+9)(0+1+2+3+4+5+6+7+8+9)^{*}$\n"
      ],
      "metadata": {
        "id": "JISHyQgV50yM"
      }
    },
    {
      "cell_type": "markdown",
      "source": [
        "---\n",
        "$L_4 = \\{x^n \\mid n \\geq 0\\}.$\n",
        "\n",
        "Rule 1: $\\quad Λ \\in L_4$\n",
        "\n",
        "Rule 2: $\\quad α \\in L_4 \\implies αx \\in L_4$\n",
        "\n",
        "RE = $\\quad x^{*}$\n"
      ],
      "metadata": {
        "id": "ybGiGdCm505N"
      }
    },
    {
      "cell_type": "markdown",
      "source": [
        "---\n",
        "$PALINDROME:$\n",
        "\n",
        "Rule 1: $\\quad Λ,a,b \\in PALINDROME$\n",
        "\n",
        "Rule 2: $\\quad γ \\in PALINDROME \\implies γγ, aγa, bγb \\in PALINDROME$\n",
        "\n",
        "RE: *Not possible*"
      ],
      "metadata": {
        "id": "c19FGP5u50_9"
      }
    },
    {
      "cell_type": "markdown",
      "source": [
        "---\n",
        "$EVEN\\_STRING:$\n",
        "\n",
        "Rule 1: $\\quad Λ \\in EVEN\\_STRING$\n",
        "\n",
        "Rule 2: $\\quad γ \\in EVEN\\_STRING \\implies γaa, γab, γba, γbb \\in EVEN\\_STRING$\n",
        "\n",
        "RE: $\\quad (aa + ab + ba + bb)^{*}$\n"
      ],
      "metadata": {
        "id": "XFOIq6JV51KS"
      }
    },
    {
      "cell_type": "markdown",
      "source": [
        "---\n",
        "$ODD\\_STRING:$\n",
        "\n",
        "Rule 1: $\\quad a,b \\in ODD\\_STRING$\n",
        "\n",
        "Rule 2: $\\quad γ \\in ODD\\_STRING \\implies γaa, γab, γba, γbb \\in ODD\\_STRING$\n",
        "\n",
        "RE: $\\quad (a+b)(aa+ab+ba+bb)^{*}$\n"
      ],
      "metadata": {
        "id": "GXHYlfLzHX7o"
      }
    },
    {
      "cell_type": "markdown",
      "source": [
        "---\n",
        "$THREE\\_STRING:$\n",
        "\n",
        "Rule 1: $\\quad Λ \\in THREE\\_STRING$\n",
        "\n",
        "Rule 2: $\\quad γ \\in THREE\\_STRING \\implies γaaa, γaab, γaba, γabb,  γbaa, γbab, γbba, γbbb \\in THREE\\_STRING$\n",
        "\n",
        "RE: $(aaa+aab+aba+abb+baa+bab+bba+bbb)^{*}$\n",
        "\n",
        "RE: $\\quad ((a+b)(a+b)(a+b))^{*}$\n"
      ],
      "metadata": {
        "id": "iO3-hNslHYHX"
      }
    },
    {
      "cell_type": "markdown",
      "source": [
        "---\n",
        "$MODN\\_STRING:$\n",
        "\n",
        "Rule 1: $\\quad Λ \\in MODN\\_STRING$\n",
        "\n",
        "Rule 2: $\\quad γ \\in MODN\\_STRING \\implies γΣ^n \\in MODN\\_STRING \\mid Σ = \\{a,b\\}$\n",
        "\n",
        "RE: $\\quad ((a+b)^{n})^{*}$\n"
      ],
      "metadata": {
        "id": "aQg4Dp0HHYjI"
      }
    },
    {
      "cell_type": "markdown",
      "source": [
        "---\n",
        "$SAME\\_SAME:$\n",
        "\n",
        "Rule 1: $\\quad Λ \\in SAME\\_SAME$\n",
        "\n",
        "Rule 2: $\\quad γ \\in SAME\\_SAME \\implies γab, aγb, γba, bγa \\in SAME\\_SAME$\n"
      ],
      "metadata": {
        "id": "rOu64rcPGWdb"
      }
    },
    {
      "cell_type": "markdown",
      "source": [
        "---\n",
        "$EVEN\\_EVEN:$\n",
        "\n",
        "Rule 1: $\\quad Λ \\in EVEN\\_EVEN$\n",
        "\n",
        "Rule 2: $\\quad γ \\in EVEN\\_EVEN \\implies γaa, aγa, aaγ, γbb, bγb, bbγ \\in EVEN\\_EVEN$\n",
        "\n",
        "RE: $\\quad even\\_even = (aa+bb+(ab+ba)^2)^{*}$ # prove invalid\n",
        "\n",
        "RE: $\\quad even\\_even = (aa+bb+(ab+ba)(aa+bb)^{*}(ab+ba))^{*}$\n"
      ],
      "metadata": {
        "id": "pmOqorb_GdvL"
      }
    },
    {
      "cell_type": "markdown",
      "source": [
        "---\n",
        "$ODD\\_ODD:$\n",
        "\n",
        "Rule 1: $\\quad ab,ba \\in ODD\\_ODD$\n",
        "\n",
        "Rule 2: $\\quad γ \\in ODD\\_ODD \\implies γaa, aγa, aaγ, γbb, bγb, bbγ \\in ODD\\_ODD$\n"
      ],
      "metadata": {
        "id": "q8y77f3DGd9o"
      }
    },
    {
      "cell_type": "markdown",
      "source": [
        "---\n",
        "$EVEN\\_ODD:$\n",
        "\n",
        "Rule 1: $\\quad b \\in EVEN\\_ODD$\n",
        "\n",
        "Rule 2: $\\quad γ \\in EVEN\\_ODD \\implies γaa, aγa, aaγ, γbb, bγb, bbγ \\in EVEN\\_ODD$\n",
        "\n",
        "RE: $\\quad even\\_odd = (b(bb)^{*}+aa+ab(aa+bb)^{*}a)^{+}$\n"
      ],
      "metadata": {
        "id": "aox8_JNVGeZ0"
      }
    },
    {
      "cell_type": "markdown",
      "source": [
        "---\n",
        "$ODD\\_EVEN:$\n",
        "\n",
        "Rule 1: $\\quad a \\in ODD\\_EVEN$\n",
        "\n",
        "Rule 2: $\\quad γ \\in ODD\\_EVEN \\implies γaa, aγa, aaγ, γbb, bγb, bbγ \\in ODD\\_EVEN$\n",
        "\n",
        "RE: $\\quad odd\\_even = (a(aa)^{*}+bb+ba(bb+aa)^{*}b)^{+}$\n"
      ],
      "metadata": {
        "id": "33JDhxRQGezo"
      }
    },
    {
      "cell_type": "markdown",
      "source": [
        "---\n",
        "$EVEN\\_A:$\n",
        "\n",
        "Rule 1: $\\quad Λ \\in EVEN\\_A$\n",
        "\n",
        "Rule 2: $\\quad γ \\in EVEN\\_A \\implies γaa, aγa, aaγ, γb, bγ \\in EVEN\\_A$\n",
        "\n",
        "RE: $\\quad even\\_a = (b+aa+ab(aa+b)^{*}a)^{*}$\n"
      ],
      "metadata": {
        "id": "ovNqUVj1Gsrh"
      }
    },
    {
      "cell_type": "markdown",
      "source": [
        "---\n",
        "$EVEN\\_B:$\n",
        "\n",
        "Rule 1: $\\quad Λ \\in EVEN\\_B$\n",
        "\n",
        "Rule 2: $\\quad γ \\in EVEN\\_B \\implies γbb, bγb, bbγ, γa, aγ \\in EVEN\\_B$\n",
        "\n",
        "RE: $\\quad even\\_b = (a+bb+ba(bb+a)^{*}b)^{*}$\n"
      ],
      "metadata": {
        "id": "mtZJjGSRGfB-"
      }
    },
    {
      "cell_type": "markdown",
      "source": [
        "---\n",
        "$NO\\_AB:$\n",
        "\n",
        "Rule 1: $\\quad Λ \\in NO\\_AB$\n",
        "\n",
        "Rule 2: $\\quad γ \\in NO\\_AB \\implies bγ, γa \\in NO\\_AB$\n",
        "\n",
        "RE: $\\quad no\\_ab = b^{*}a^{*}$\n"
      ],
      "metadata": {
        "id": "OGNmAPJS51P3"
      }
    },
    {
      "cell_type": "markdown",
      "source": [
        "---\n",
        "$NO\\_AA:$\n",
        "\n",
        "Rule 1: $\\quad Λ,a \\in NO\\_AA$\n",
        "\n",
        "Rule 2: $\\quad γ \\in NO\\_AA \\implies γb, γba \\in NO\\_AA$\n",
        "\n",
        "RE: $\\quad (Λ+a)(b+ba)^{*}$\n"
      ],
      "metadata": {
        "id": "NCDJRIWg51Uq"
      }
    },
    {
      "cell_type": "markdown",
      "source": [
        "---\n",
        "$NO\\_AAA:$\n",
        "\n",
        "Rule 1: $\\quad Λ,a,aa \\in NO\\_AAA$\n",
        "\n",
        "Rule 2: $\\quad γ \\in NO\\_AAA \\implies γb, γba, γbaa \\in NO\\_AAA$\n",
        "\n",
        "RE: $\\quad (Λ+a+aa)(b+ba+baa)^{*}$"
      ],
      "metadata": {
        "id": "iTGERj64HMu4"
      }
    },
    {
      "cell_type": "markdown",
      "source": [
        "---\n",
        "$BEGIN\\_AA:$\n",
        "\n",
        "Rule 1: $\\quad aa \\in BEGIN\\_AA$\n",
        "\n",
        "Rule 2: $\\quad γ \\in BEGIN\\_AA \\implies γa, γb \\in BEGIN\\_AA$\n",
        "\n",
        "RE: $\\quad aa(a+b)^{*}$\n"
      ],
      "metadata": {
        "id": "yL0Bahm051al"
      }
    },
    {
      "cell_type": "markdown",
      "source": [
        "---\n",
        "$END\\_AA:$\n",
        "\n",
        "Rule 1: $\\quad aa \\in END\\_AA$\n",
        "\n",
        "Rule 2: $\\quad γ \\in END\\_AA \\implies aγ, bγ \\in END\\_AA$\n",
        "\n",
        "RE: $\\quad (a+b)^{*}aa$\n"
      ],
      "metadata": {
        "id": "qAEy_I5UG82-"
      }
    },
    {
      "cell_type": "markdown",
      "source": [
        "---\n",
        "$HAS\\_AA:$\n",
        "\n",
        "Rule 1: $\\quad aa \\in HAS\\_AA$\n",
        "\n",
        "Rule 2: $\\quad γ \\in HAS\\_AA \\implies γa, γb, aγ, bγ \\in HAS\\_AA$\n",
        "\n",
        "RE: $\\quad (a+b)^{*}aa(a+b)^{*}$\n"
      ],
      "metadata": {
        "id": "8jdmZP_6G9FR"
      }
    },
    {
      "cell_type": "markdown",
      "source": [
        "---\n",
        "$PREFIX\\_A\\_GE\\_B:$\n",
        "\n",
        "Rule 1: $\\quad Λ \\in PREFIX\\_A\\_GE\\_B$\n",
        "\n",
        "Rule 2: $\\quad γ \\in PREFIX\\_A\\_GE\\_B \\implies aγ, γba \\in PREFIX\\_A\\_GE\\_B$\n",
        "\n",
        "RE: $\\quad ?$\n"
      ],
      "metadata": {
        "id": "mA2Oe1wt6zrQ"
      }
    },
    {
      "cell_type": "markdown",
      "source": [
        "---\n",
        "$ALT1:$\n",
        "\n",
        "Rule 1: $\\quad a \\in ALT1$\n",
        "\n",
        "Rule 2: $\\quad γ \\in ALT1 \\implies γba \\in ALT1$\n",
        "\n",
        "RE: $\\quad a(ba)^{*}$\n"
      ],
      "metadata": {
        "id": "qWZzxOhI510r"
      }
    },
    {
      "cell_type": "markdown",
      "source": [
        "---\n",
        "$ALT2:$\n",
        "\n",
        "Rule 1: $\\quad Λ \\in ALT2$\n",
        "\n",
        "Rule 2: $\\quad γ \\in ALT2 \\implies γba \\in ALT2$\n",
        "\n",
        "RE: $\\quad (ba)^{*}$\n"
      ],
      "metadata": {
        "id": "cxEK7PW36zhT"
      }
    },
    {
      "cell_type": "markdown",
      "source": [
        "---\n",
        "$END\\_SAME:$\n",
        "\n",
        "Rule 1: $\\quad ?$\n",
        "\n",
        "Rule 2: $\\quad ?$\n",
        "\n",
        "RE: $\\quad a(a+b)^{*}a+b(a+b)^{*}b$\n"
      ],
      "metadata": {
        "id": "dmCB4YgY6z2l"
      }
    },
    {
      "cell_type": "markdown",
      "source": [
        "---\n",
        "$BALANCED:$\n",
        "\n",
        "Rule 1: $\\quad a,b,c,...,z \\in BALANCED$\n",
        "\n",
        "Rule 2: $\\quad γ \\in BALANCED \\implies (γ), γ^{+} \\in BALANCED$\n",
        "\n",
        "RE: *Not Possible*\n"
      ],
      "metadata": {
        "id": "nptUS_jaUcZR"
      }
    },
    {
      "cell_type": "markdown",
      "source": [
        "---\n",
        "$POLY:$\n",
        "\n",
        "* $x \\in POLY, INTEGERS \\subset POLY$\n",
        "* $x_1 \\in POLY \\implies (x_1) \\in POLY$\n",
        "* $x_1,x_2 \\in POLY \\implies x_1x_2 \\in POLY$\n",
        "* $x_1,x_2 \\in POLY \\implies x_1-x_2 \\in POLY$\n",
        "* $x_1,x_2 \\in POLY \\implies x_1+x_2 \\in POLY$\n",
        "\n",
        "RE: *Not Possible*\n"
      ],
      "metadata": {
        "id": "aQfCcb3X51me"
      }
    },
    {
      "cell_type": "markdown",
      "source": [
        "---\n",
        "$AE:$\n",
        "\n",
        "* $INTEGERS \\subset AE$\n",
        "* $α \\in AE \\implies (α) \\in AE$\n",
        "* $α \\in AE \\implies -α \\in AE$\n",
        "* $α,β \\in AE \\implies α$ ** $β \\in AE$\n",
        "* $α,β \\in AE \\implies α / β \\in AE$\n",
        "* $α,β \\in AE \\implies α * β \\in AE$\n",
        "* $α,β \\in AE \\implies α - β \\in AE$\n",
        "* $α,β \\in AE \\implies α + β \\in AE$\n",
        "\n",
        "RE: *Not Possible*\n"
      ],
      "metadata": {
        "id": "4gfdjX0U51sw"
      }
    },
    {
      "cell_type": "markdown",
      "source": [
        "---\n",
        "$WFF:$\n",
        "\n",
        "* $a,b,c,...,z \\in WFF$\n",
        "* $ζ \\in WFF \\implies (ζ) \\in WFF$\n",
        "* $ζ \\in WFF \\implies ¬ζ \\in WFF$\n",
        "* $ζ,ξ \\in WFF \\implies ζ\\vee ξ$\n",
        "* $ζ,ξ \\in WFF \\implies ζ\\wedge ξ$\n",
        "* $ζ,ξ \\in WFF \\implies ζ→ξ$\n",
        "\n",
        "RE: *Not Possible*\n"
      ],
      "metadata": {
        "id": "17IOzuvY5sCg"
      }
    },
    {
      "cell_type": "markdown",
      "source": [
        "---\n",
        "$:$"
      ],
      "metadata": {
        "id": "uOqv31I560V6"
      }
    }
  ]
}