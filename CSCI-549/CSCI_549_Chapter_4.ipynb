{
  "nbformat": 4,
  "nbformat_minor": 0,
  "metadata": {
    "colab": {
      "provenance": []
    },
    "kernelspec": {
      "name": "python3",
      "display_name": "Python 3"
    },
    "language_info": {
      "name": "python"
    }
  },
  "cells": [
    {
      "cell_type": "markdown",
      "source": [
        "---\n",
        "**Chapter 4: Introduction to Computer Theory by Daniel I. A. Cohen**"
      ],
      "metadata": {
        "id": "1LZyeIBk83-U"
      }
    },
    {
      "cell_type": "markdown",
      "source": [
        "---\n",
        "**Problem 1:**\n",
        "Let $r_1$, $r_2$, and $r_3$ be three regular expressions.\n",
        "Show that the language associated with $(r_1+r_2)r_3$ is the same as the language associated with $r_1r_3+r_2r_3$.\n",
        "Show that $r_1(r_2+r_3)$ is equivalent to $r_1r_2+r_1r_3$.\n",
        "This will be the same as proving a \"distributive law\" for regular expressions.\n",
        "\n",
        "**Answer 1:**"
      ],
      "metadata": {
        "id": "6FPuVlaz9J4n"
      }
    },
    {
      "cell_type": "markdown",
      "source": [
        "Let $L(r)$ be the language denoted by the regular expression $r$.\n",
        "\n",
        "- Union: $L(r_1 + r_2) = L(r_1) \\cup L(r_2)$\n",
        "- Concatenation: $L(r_1 r_2) = \\{\\, xy \\mid x \\in L(r_1),\\ y \\in L(r_2) \\,\\}$\n",
        "\n",
        "Claim: $$L\\big((r_1 + r_2) r_3\\big) = L(r_1 r_3) \\cup L(r_2 r_3).$$\n",
        "\n",
        "Proof:\n",
        "- ($\\subseteq$) Let $w \\in L((r_1 + r_2) r_3)$.\n",
        "  - Then $w = xy$ with $x \\in L(r_1) \\cup L(r_2)$ and $y \\in L(r_3)$.\n",
        "  - If $x \\in L(r_1)$, then $w \\in L(r_1 r_3)$.\n",
        "  - If $x \\in L(r_2)$, then $w \\in L(r_2 r_3)$.\n",
        "  - Hence $w \\in L(r_1 r_3) \\cup L(r_2 r_3)$.\n",
        "\n",
        "- ($\\supseteq$) Let $w \\in L(r_1 r_3) \\cup L(r_2 r_3)$.\n",
        "  - If $w \\in L(r_1 r_3)$, then $w = xy$ with $x \\in L(r_1)$ and $y \\in L(r_3)$.\n",
        "  - Since $x \\in L(r_1) \\subseteq L(r_1) \\cup L(r_2)$, we have $w \\in L((r_1 + r_2) r_3)$.\n",
        "  - The case $w \\in L(r_2 r_3)$ is analogous.\n",
        "\n",
        "Therefore, $$L((r_1 + r_2) r_3) = L(r_1 r_3) \\cup L(r_2 r_3).$$\n",
        "\n",
        "Claim: $$L\\big(r_1 (r_2 + r_3)\\big) = L(r_1 r_2) \\cup L(r_1 r_3).$$\n",
        "\n",
        "Proof:\n",
        "- ($\\subseteq$) Let $w \\in L(r_1 (r_2 + r_3))$.\n",
        "  - Then $w = xy$ with $x \\in L(r_1)$ and $y \\in L(r_2) \\cup L(r_3)$.\n",
        "  - If $y \\in L(r_2)$, then $w \\in L(r_1 r_2)$.\n",
        "  - If $y \\in L(r_3)$, then $w \\in L(r_1 r_3)$.\n",
        "  - Hence $w \\in L(r_1 r_2) \\cup L(r_1 r_3)$.\n",
        "\n",
        "- ($\\supseteq$) Let $w \\in L(r_1 r_2) \\cup L(r_1 r_3)$.\n",
        "  - If $w \\in L(r_1 r_2)$, then $w = xy$ with $x \\in L(r_1)$ and $y \\in L(r_2) \\subseteq L(r_2) \\cup L(r_3)$.\n",
        "  - Thus $w \\in L(r_1 (r_2 + r_3))$.\n",
        "  - The case $w \\in L(r_1 r_3)$ is analogous.\n",
        "\n",
        "Therefore, $$L(r_1 (r_2 + r_3)) = L(r_1 r_2) \\cup L(r_1 r_3).$$\n",
        "\n",
        "Conclusion:\n",
        "$$\n",
        "(r_1 + r_2) r_3 \\equiv r_1 r_3 + r_2 r_3\n",
        "\\quad\\text{and}\\quad\n",
        "r_1 (r_2 + r_3) \\equiv r_1 r_2 + r_1 r_3.\n",
        "$$"
      ],
      "metadata": {
        "id": "ZViRC30Bctyj"
      }
    },
    {
      "cell_type": "markdown",
      "source": [
        "For Problems 2 through 11, construct a regular expression defining each of the following languages over the alphabet $Σ = \\{a\\,b\\}$.\n",
        "\n",
        "A recursive definition for REGEX is:\n",
        "* Rule 1: $Λ, a, b \\in REGEX$.\n",
        "* Rule 2: If $r_1, r_2 \\in REGEX$, then $(r_1), r_1r_2, r_1+r_2, r_1^{*} \\in REGEX$."
      ],
      "metadata": {
        "id": "9rpdEiJWfSAk"
      }
    },
    {
      "cell_type": "markdown",
      "source": [
        "---\n",
        "**Problem 2:** Given $Σ = \\{a\\,b\\}$. Construct a regular expression for all words in which *a* appears tripled, if at all. This means that every clump of *a*'s contains 3 or 6 or 9 or 12 ... *a*'s.\n",
        "\n",
        "**Answer 2:**\n",
        "- $(aaa+b)^{*}$\n",
        "- $((aaa)^{*}b^{*})^{*}$"
      ],
      "metadata": {
        "id": "UxL85lY59Q24"
      }
    },
    {
      "cell_type": "markdown",
      "source": [
        "---\n",
        "**Problem 3:** Given $Σ = \\{a\\,b\\}$. Construct a regular expression for all words that contain at least one of the strings $s_1$, $s_2$, $s_3$, or $s_4$.\n",
        "\n",
        "**Answer 3:** $(a+b)^{*}(s_1+s_2+s_3+s_4)(a+b)^{*}$"
      ],
      "metadata": {
        "id": "ugTQorST9RD-"
      }
    },
    {
      "cell_type": "markdown",
      "source": [
        "---\n",
        "**Problem 4:** Given $Σ = \\{a\\,b\\}$. Construct a regular expression for all words that contain exactly two *b*'s or exactly three *b*'s, not more.\n",
        "\n",
        "**Answer 4:** $a^{*}ba^{*}ba^{*}(Λ+ba^{*})$"
      ],
      "metadata": {
        "id": "CYQ9biYs9RM8"
      }
    },
    {
      "cell_type": "markdown",
      "source": [
        "---\n",
        "**Problem 5:** Given $Σ = \\{a\\,b\\}$. Construct a regular expression for\n",
        "* (i) all strings that end in a double letter,\n",
        "* (ii) all strings that do not end in a double letter.\n",
        "\n",
        "**Answer 5:**\n",
        "- $(a+b)^{*}(aa+bb)$\n",
        "- $Λ+a+b+(a+b)^{*}(ab+ba)$"
      ],
      "metadata": {
        "id": "8rwqLGnE9RTR"
      }
    },
    {
      "cell_type": "markdown",
      "source": [
        "---\n",
        "**Problem 6:** Given $Σ = \\{a\\,b\\}$. Construct a regular expression for all strings that have exactly one double letter in them.\n",
        "\n",
        "**Answer 6:** $(ab)^{*}aa(ba)^{*} + (ba)^{*}bb(ab)^{*}$"
      ],
      "metadata": {
        "id": "rGRk0h7T9Rj2"
      }
    },
    {
      "cell_type": "markdown",
      "source": [
        "---\n",
        "**Problem 7:** Given $Σ = \\{a\\,b\\}$. Construct a regular expression for all strings in which the letter *b* is *never* tripled. This means that no word contains the string *bbb*.\n",
        "\n",
        "**Answer 7:** $(Λ+b+bb)(a^{*}a(b+bb))^{*}a^{*}$"
      ],
      "metadata": {
        "id": "4-LE6A6f9Rpj"
      }
    },
    {
      "cell_type": "markdown",
      "source": [
        "---\n",
        "**Problem 8:** Given $Σ = \\{a\\,b\\}$. Construct a regular expression for all words in which *a* is tripled or *b* is tripled, but not both. This means each word contains the substring *aaa* or the substring *bbb* but not both.\n",
        "\n",
        "**Answer 8:**\n",
        "- Let $NOTBBB=(Λ+b+bb)(a^{*}a(b+bb))^{*}a^{*}$\n",
        "- Let $HASAAA=(NOTBBB)aaa(NOTBBB)$\n",
        "- Let $NOTAAA=(Λ+a+aa)(b^{*}b(a+aa))^{*}b^{*}$\n",
        "- Let $HASBBB=(NOTBBB)bbb(NOTBBB)$\n",
        "- $(HASAAA+HASBBB)$\n"
      ],
      "metadata": {
        "id": "2YRT7wCQ9RwQ"
      }
    },
    {
      "cell_type": "markdown",
      "source": [
        "---\n",
        "**Problem 9:** Given $Σ = \\{a\\,b\\}$. Construct a regular expression for\n",
        "* (i) all words that do not have the substring *ab*,\n",
        "* (ii) all words that do not have both the substrings *bba* and *abb*.\n",
        "\n",
        "**Answer 9:**\n",
        "- (i) $b^{*}a^{*}$\n",
        "- (ii) $Λ+a^{*}b(Λ+a)+b^{*}a(Λ+b)$"
      ],
      "metadata": {
        "id": "0Wk9Gwtf9R3G"
      }
    },
    {
      "cell_type": "markdown",
      "source": [
        "---\n",
        "**Problem 10:** Given $Σ = \\{a\\,b\\}$. Construct a regular expression for all strings in which the *total* number of *a*'s is divisible by 3 no matter how they are distributed, such as *aabaabbaba*.\n",
        "\n",
        "**Answer 10:** $b^{*}(ab^{*}ab^{*}a)^{*}b^{*}$"
      ],
      "metadata": {
        "id": "_6T1vye_9R9j"
      }
    },
    {
      "cell_type": "markdown",
      "source": [
        "---\n",
        "**Problem 11:** Given $Σ = \\{a\\,b\\}$. Construct a regular expression for all strings\n",
        "* (i) in which any *b*'s that occur are found in clumps of an odd number at a time, such as *abaabbbab*.\n",
        "* (ii) that have an even number of *a*'s and an odd number of *b*'s.\n",
        "* (iii) that have an odd number of *a*'s and an odd number of *b*'s.\n",
        "\n",
        "**Answer 11:**\n",
        "\n",
        "- Let $EVEN\\_EVEN=(aa+bb+(ab+ba)(aa+bb)^{*}(ab+ba))^{*}$\n",
        "- (i) $b(bb)^{*}(ab(bb)^{*})^{*}a^{*}$\n",
        "- (ii)\n",
        "  - Let $ODD=b+ab(bb)^{*}a$\n",
        "  - $(EVEN\\_EVEN)(ODD)(EVEN\\_EVEN)$\n",
        "- (iii)\n",
        "  - Let $ODD=ab+ba$\n",
        "  - $(EVEN\\_EVEN)(ODD)(EVEN\\_EVEN)$"
      ],
      "metadata": {
        "id": "_659sySH9SMZ"
      }
    },
    {
      "cell_type": "markdown",
      "source": [
        "---\n",
        "**Problem 12:**\n",
        "\n",
        "* (i) Let us reconsider the regular expression $$(a+b)^{*}a(a+b)^{*}b(a+b)^{*}$$ Show that this is equivalent to $$(a+b)^{*}ab(a+b)^{*}$$ in the sense that they define the same language.\n",
        "* (ii) Show that $(a+b)^{*}ab(a+b)^{*} + b^{*}a^{*} = (a+b)^{*}$.\n",
        "* (iii) Show that $(a+b)^{*}ab(a+b)^{*}ab(a+b)^{*} = (a+b)^{*}$.\n",
        "* (iv) Is (iii) the last variation of this theme or are there more beasts left in this cave?"
      ],
      "metadata": {
        "id": "pwW3VHGx9SSe"
      }
    },
    {
      "cell_type": "markdown",
      "source": [
        "**Answer 12(i):**\n",
        "\n",
        "Let $L_1 = L\\big((a+b)^{*}a(a+b)^{*}b(a+b)^{*}\\big).$\n",
        "\n",
        "Let $L_2 = L\\big((a+b)^{*}ab(a+b)^{*}\\big).$\n",
        "\n",
        "Take any $w \\in L_1$. Then $w$ can be written as  \n",
        "$$\n",
        "w = x \\; a \\; m \\; b \\; y\n",
        "\\quad\\text{with}\\quad\n",
        "x,y \\in \\{a,b\\}^{*}, \\; m \\in \\{a,b\\}^{*}.\n",
        "$$\n",
        "\n",
        "We analyze the possible forms of $m$:\n",
        "\n",
        "- **Case 1: $m = \\epsilon$**  \n",
        "  Then $w = x\\,ab\\,y$, so $w$ contains the substring $ab$ and hence $w \\in L_2$.\n",
        "\n",
        "- **Case 2: $m \\neq \\epsilon$ and $m$ contains a $b$**  \n",
        "  Let the first $b$ in $m$ occur at position $j$.  \n",
        "  - If $j = 1$, then the boundary between $a$ and the first symbol of $m$ is $ab$, so $w$ contains $ab$.  \n",
        "  - If $j > 1$, then the symbol at position $j-1$ in $m$ cannot be $b$ (by minimality of $j$), so it is $a$, giving an internal $ab$ in $m$.  \n",
        "  In both subcases, $w \\in L_2$.\n",
        "\n",
        "- **Case 3: $m$ has no $b$**  \n",
        "  Then $m = a^{k}$ for some $k \\ge 1$. The last $a$ of $m$ is immediately followed by the trailing $b$, so $ab$ occurs in $w$. Thus $w \\in L_2$.\n",
        "\n",
        "In all cases, $w$ contains a contiguous $ab$, so $w \\in L_2$.\n",
        "\n",
        "If $w \\in L_2$, then  \n",
        "$$\n",
        "w = x\\,ab\\,y, \\quad x,y \\in \\{a,b\\}^{*}.\n",
        "$$\n",
        "This matches $(a+b)^{*}a(a+b)^{*}b(a+b)^{*}$ by choosing $m = \\epsilon$.  \n",
        "Hence $w \\in L_1$.\n",
        "\n",
        "Since $L_1 \\subseteq L_2$ and $L_2 \\subseteq L_1$, we have  \n",
        "$$\n",
        "L\\big((a+b)^{*}a(a+b)^{*}b(a+b)^{*}\\big)\n",
        "=\n",
        "L\\big((a+b)^{*}ab(a+b)^{*}\\big).\n",
        "$$\n"
      ],
      "metadata": {
        "id": "QvtzXbqYA2Wz"
      }
    },
    {
      "cell_type": "markdown",
      "source": [
        "**Answer 12(ii):**\n",
        "\n",
        "Since $(a+b)^{*}ab(a+b)^{*}ab(a+b)^{*}$ represents all strings which have a *b* following an *a*. This exludes from the set of all possible strings, $a^{*}$, $b^{*}$, and $b^{*}a^{*}$. Hence the union of the two is the set of all possible string $(a+b)^{*}$.\n",
        "\n",
        "**Answer 12(iii):**\n",
        "\n",
        "Strictly speaking there are an infinite amount of these type of substitutions."
      ],
      "metadata": {
        "id": "fDP4XGlSCl6e"
      }
    },
    {
      "cell_type": "markdown",
      "source": [
        "---\n",
        "**Problem 13:**\n",
        "\n",
        "We have defined the product of two sets of strings in general. If we apply this to the case where both factors are the same set, $S=T$, we obtain squares, $S^2$. Similarily, we can define $S^3, S^4,...$. Show that it makes some sense to write:\n",
        "* (i) $S^{*} = Λ + S + S^1 + S^2 + S^3 + S^4 + ...$\n",
        "* (ii) $S^{+} = S + S^1 + S^2 + S^3 + S^4 + ...$\n",
        "\n",
        "**Answer 13:**\n",
        "\n",
        "- (i) Obvious.\n",
        "- (ii) Obvious."
      ],
      "metadata": {
        "id": "RKXeadfR9SYE"
      }
    },
    {
      "cell_type": "markdown",
      "source": [
        "---\n",
        "**Problem 14:** If the only difference between $L$ and $L^{*}$ is the word $Λ$, is the only difference between $L^2$ and $L^{*}$ the word $Λ$?\n",
        "\n",
        "**Answer 14:**\n",
        "\n",
        "Let $L=(a+b)^{+}$. $L$ and $L^{*}$ differ only by $Λ$.\n",
        "\n",
        "Now $L^2=(a+b)(a+b)^{+}$. So, no. $L$ and $L^{*}$ differ by $Λ$, $a$, and $b$."
      ],
      "metadata": {
        "id": "HSVF-v2c9SdR"
      }
    },
    {
      "cell_type": "markdown",
      "source": [
        "---\n",
        "**Problem 15:** Show that the following pairs of regular expressions define the same language over the alphabet $Σ = \\{a\\,b\\}$:\n",
        "\n",
        "* (i) $(ab)^{*}a\\quad$ and $\\quad a(ba)^{*}$\n",
        "* (ii) $(a^{*}+b)^{*}\\quad$ and $\\quad (a+b)^{*}$\n",
        "* (iii) $(a^{*}+b^{*})^{*}\\quad$ and $\\quad (a+b)^{*}$"
      ],
      "metadata": {
        "id": "X7ijcRDS9SjG"
      }
    },
    {
      "cell_type": "markdown",
      "source": [
        "**Answer 15(i):**\n",
        "\n",
        "Let the alphabet be $\\Sigma = \\{a,b\\}$ with concatenation associative and identity $\\epsilon$.\n",
        "\n",
        "Define  \n",
        "- $w_0 = \\epsilon$, $w_{k+1} = w_k\\,ab$ so $w_k = (ab)^k$,  \n",
        "- $v_0 = \\epsilon$, $v_{k+1} = v_k\\,ba$ so $v_k = (ba)^k$.\n",
        "\n",
        "**Claim:** for all $k \\ge 0$, $w_k\\,a = a\\,v_k$.\n",
        "\n",
        "**Base case ($k=0$):** $\\epsilon a = a = a\\epsilon.$\n",
        "\n",
        "**Inductive step:**\n",
        "\n",
        "Assume $w_k a = a v_k$.\n",
        "\n",
        "Then  \n",
        "$$\n",
        "\\begin{aligned}\n",
        "w_{k+1} a\n",
        "&= (w_k\\,ab)\\,a \\\\\n",
        "&= w_k\\,(ab\\,a) && \\text{(associativity)} \\\\\n",
        "&= (w_k a)\\,ba \\\\\n",
        "&= (a v_k)\\,ba && \\text{(inductive hypothesis)} \\\\\n",
        "&= a\\,(v_k\\,ba) \\\\\n",
        "&= a\\,v_{k+1}.\n",
        "\\end{aligned}\n",
        "$$\n",
        "\n",
        "Thus $w_k a = a v_k$ for all $k$, i.e., $(ab)^k a = a(ba)^k$."
      ],
      "metadata": {
        "id": "NjU77tJGYl51"
      }
    },
    {
      "cell_type": "markdown",
      "source": [
        "**Answer 15(ii)**\n",
        "\n",
        "We work over the alphabet $\\Sigma = \\{a, b\\}$. The claim is  \n",
        "$$\n",
        "(a^{*} + b)^{*} \\;=\\; \\Sigma^{*} \\;=\\; (a + b)^{*}.\n",
        "$$\n",
        "\n",
        "**Claim:** Every $w \\in \\Sigma^{*}$ belongs to $(a^{*} + b)^{*}$.\n",
        "\n",
        "**Base case: ($|w| = 0$):**  \n",
        "$$\n",
        "w = \\epsilon \\in (a^{*} + b)^{*}.\n",
        "$$\n",
        "\n",
        "**Inductive step:** Assume all words of length $\\le n$ are in $(a^{*} + b)^{*}$. Take $w$ with $|w| = n+1$.\n",
        "\n",
        "- **Case 1:** $w$ starts with $b$. Write $w = b\\,u$. By the inductive hypothesis, $u \\in (a^{*} + b)^{*}$, hence $w \\in (a^{*} + b)^{*}$ since $b \\in a^{*} + b$.\n",
        "\n",
        "- **Case 2:** $w$ starts with $a$. Let $w = a^{k} u$ where $k \\ge 1$ and $u$ is empty or starts with $b$. Then $a^{k} \\in a^{*}$ and, by the inductive hypothesis, $u \\in (a^{*} + b)^{*}$. Hence $w \\in (a^{*} + b)^{*}$.\n",
        "\n",
        "Thus  \n",
        "$$\n",
        "\\Sigma^{*} \\subseteq (a^{*} + b)^{*},\n",
        "$$\n",
        "and the equality with $(a + b)^{*}$ follows as above."
      ],
      "metadata": {
        "id": "oP-_ZGJublXT"
      }
    },
    {
      "cell_type": "markdown",
      "source": [
        "**Answer 15(iii)**\n",
        "\n",
        "We work over the alphabet $\\Sigma = \\{a, b\\}$. The claim is  \n",
        "$$\n",
        "(a^{*} + b^{*})^{*} \\;=\\; \\Sigma^{*} \\;=\\; (a + b)^{*}.\n",
        "$$\n",
        "\n",
        "**Claim:** Every $w \\in \\Sigma^{*}$ belongs to $(a^{*} + b^{*})^{*}$.\n",
        "\n",
        "**Base case ($|w| = 0$):**  \n",
        "$$\n",
        "w = \\epsilon \\in (a^{*} + b^{*})^{*}.\n",
        "$$\n",
        "\n",
        "**Inductive step:** Assume all words of length $\\le n$ are in $(a^{*} + b^{*})^{*}$. Take $w$ with $|w| = n+1$.\n",
        "\n",
        "- **Case 1:** $w$ starts with $b$. Let $w = b^{k} u$ where $k \\ge 1$ and $u$ is empty or starts with $a$. Then $b^{k} \\in b^{*}$ and, by the inductive hypothesis, $u \\in (a^{*} + b^{*})^{*}$. Hence $w \\in (a^{*} + b^{*})^{*}$.\n",
        "\n",
        "- **Case 2:** $w$ starts with $a$. Let $w = a^{k} u$ where $k \\ge 1$ and $u$ is empty or starts with $b$. Then $a^{k} \\in a^{*}$ and, by the inductive hypothesis, $u \\in (a^{*} + b^{*})^{*}$. Hence $w \\in (a^{*} + b^{*})^{*}$.\n",
        "\n",
        "Thus  \n",
        "$$\n",
        "\\Sigma^{*} \\subseteq (a^{*} + b^{*})^{*},\n",
        "$$\n",
        "and the equality with $(a + b)^{*}$ follows as above."
      ],
      "metadata": {
        "id": "dsWHFCUOenZ2"
      }
    },
    {
      "cell_type": "markdown",
      "source": [
        "---\n",
        "**Problem 16:** Show that the following pairs of regular expressions define the same language over the alphabet $Σ = \\{a\\,b\\}$:\n",
        "\n",
        "* (i) $Λ^{*}\\quad$ and $\\quad Λ$\n",
        "* (ii) $(a^{*}b)^{*}a^{*}\\quad$ and $\\quad a^{*}(ba^{*})^{*}$\n",
        "* (iii) $(a^{*}bbb)^{*}a^{*}\\quad$ and $\\quad a^{*}(bbba^{*})^{*}$\n",
        "\n",
        "**Answer 16:**\n",
        "\n",
        "- (i) Obvious.\n",
        "- (ii) Follows from $(R^{*}S)^{*}R^{*}=R^{*}(SR^{*})^{*}$.\n",
        "- (iii) Follows from $(R^{*}S)^{*}R^{*}=R^{*}(SR^{*})^{*}$."
      ],
      "metadata": {
        "id": "qzjlYCfI9SvN"
      }
    },
    {
      "cell_type": "markdown",
      "source": [
        "---\n",
        "**Problem 17:** Show that the following pairs of regular expressions define the same language over the alphabet $Σ = \\{a\\,b\\}$:\n",
        "\n",
        "* (i) $((a+bb)^{*}aa)^{*}\\quad$ and $\\quad Λ+(a+bb)^{*}aa$\n",
        "* (ii) $(aa)^{*}(Λ+a)\\quad$ and $\\quad a^{*}$\n",
        "* (iii) $a(aa)^{*}(Λ+a)b+b\\quad$ and $\\quad a^{*}b$\n",
        "* (iv) $a(ba+a)^{*}b\\quad$ and $\\quad aa^{*}b(aa^{*}b)^{*}$\n",
        "* (v) $Λ+a(a+b)^{*}+(a+b)^{*}aa(a+b)^{*}\\quad$ and $\\quad ((b^{*}a)^{*}ab^{*})^{*}$\n",
        "\n",
        "**Answer 17:**\n",
        "\n",
        "- (i) Follows from definition of Kleene closure.\n",
        "- (ii) A combination of mutiple of two *a*'s followed by an optional *a*, is simply zero or more *a*'s.\n",
        "- (iii) Follows from (ii) above.\n",
        "- (iv) Regarding the first, strings begin with *a* and end with *b* and between *b*'s are always followed by an *a*. Or in other words, each *b* is surrounded by at least one *a* on either side.\n",
        "- (v) $???$\n"
      ],
      "metadata": {
        "id": "t_kdG08T9S05"
      }
    },
    {
      "cell_type": "markdown",
      "source": [
        "---\n",
        "**Problem 18:** Describe (in English phrases) the languages associated with the following regular expressions:\n",
        "\n",
        "* (i) $(a+b)^{*}a(Λ+bbbb)$\n",
        "* (ii) $(a(a+bb)^{*})^{*}$\n",
        "* (iii) $(a(aa)^{*}b(bb)^{*})^{*}$\n",
        "* (iv) $(b(bb)^{*})^{*}(a(aa)^{*}b(bb)^{*})^{*}$\n",
        "* (v) $(b(bb)^{*})^{*}(a(aa)^{*}b(bb)^{*})^{*}(a(aa)^{*})^{*}$\n",
        "* (vi) $((a+b)a)^{*}$\n",
        "\n",
        "**Answer 18:**\n",
        "\n",
        "- all strings ending in either *a* or *abbbb*.\n",
        "- all strings starting with *a* and in which *b*'s appear as clumps of even length.\n",
        "- Λ or strings starting with a and ending in b where *a*'s and *b*'s are clumped by odd-numbered lengths.\n",
        "- Λ or clumps of odd-length *a*'s and *b*'s ending in *b*.\n",
        "- Λ or clumps of odd-length *a*'s and *b*'s.\n",
        "- Λ or even-length strings with *a* repeating in even positions."
      ],
      "metadata": {
        "id": "g_wluocP9S6X"
      }
    },
    {
      "cell_type": "markdown",
      "source": [
        "---\n",
        "**Problem 19:** (D. N. Arden)\n",
        "\n",
        "Let $R$, $S$, and $T$ be three languages and assume that $Λ$ is not in $S$.\n",
        "\n",
        "Prove the following statements:\n",
        "* From the premise that $R=SR+T$, we can conclude that $R=S^{*}T$\n",
        "* From the premise that $R=S^{*}T$, we can conclude that $R=SR+T$.\n",
        "\n",
        "**Answer 19:**\n",
        "\n",
        "$R=SR+T$ defines $R$ as containing all the words in $T$ and also all words composed of an initial part from $S$ concatenated with another words from $R$. This permits us to continue concatenating factors from $S$ as many time as we like, but we are still required to finish the word with a factor from $R$. The only type of factor from $R$ that does not entail this kind of recursion is a factor from the language $T$. So we have any number of factors from S followed by a factor from $T$, or we have just a factor from $T$, equivalently $S^{*}T$.\n",
        "\n",
        "$R=S^{*}T$ defines $R$ as words with any number (if any) factors from $S$ followed by a single factor from $T$. If the star operator is taken fro zero, we have for $R$ any word in $T$. Suppose the star operator is taken once, then we have exactly one word from $S$ followed by one word from $T$. But the word from $T$ is itself a factor from $R$, so we can see that this word is in the set $SR$. Consider what happens if we take the star more than once; the star operates on $S$, so we have $SR, SSR, SSSR, ...$ all in the set $S^{*}T$. In fact, we established $S^{+}T$ in this way. The difference between $S^{*}T$ and $S^{+}T$ is that only $S^{*}T$ contains $T$. But that means that $S^{*}T$ must equal exactly $SR+T$."
      ],
      "metadata": {
        "id": "a5NAQP979S_l"
      }
    },
    {
      "cell_type": "markdown",
      "source": [
        "**Answer 19:**\n",
        "\n",
        "**Statement and assumptions**\n",
        "\n",
        "Let $R, S, T \\subseteq \\Sigma^{*}$ be languages, and assume $\\varepsilon \\notin S$. Prove:\n",
        "\n",
        "1. If $R = S R \\cup T$, then $R = S^{*} T$.\n",
        "2. If $R = S^{*} T$, then $R = S R \\cup T$.\n",
        "\n",
        "**Preliminaries**\n",
        "\n",
        "- **Kleene star:** $S^{*} = \\bigcup_{n \\ge 0} S^{n}$ and $S^{*} = \\{\\varepsilon\\} \\cup S S^{*}$.\n",
        "- **Length fact (uses $\\varepsilon \\notin S$):** Every $x \\in S$ satisfies $|x| \\ge 1$. Hence if $w = xy$ with $x \\in S$, then $|y| < |w|$.\n",
        "\n",
        "From $R = S R \\cup T$ to $R = S^{*} T$\n",
        "\n",
        "We prove both inclusions.\n",
        "\n",
        "Inclusion $R \\subseteq S^{*} T$:\n",
        "\n",
        "Fix $w \\in R$. Proceed by induction on $|w|$.\n",
        "\n",
        "- **Base case:** If $w \\in T$, then $w \\in S^{0} T \\subseteq S^{*} T$.\n",
        "- **Inductive step:** If $w \\notin T$, then $w \\in S R$ by $R = S R \\cup T$.  \n",
        "  So $w = xy$ for some $x \\in S$ and $y \\in R$.  \n",
        "  Since $\\varepsilon \\notin S$, we have $|x| \\ge 1$, hence $|y| < |w|$.  \n",
        "  By the induction hypothesis, $y \\in S^{*} T$. Thus  \n",
        "  $$w = x y \\in S S^{*} T \\subseteq S^{*} T.$$\n",
        "\n",
        "Therefore $R \\subseteq S^{*} T$.\n",
        "\n",
        "Inclusion $S^{*} T \\subseteq R$:\n",
        "\n",
        "We show $S^{n} T \\subseteq R$ for all $n \\ge 0$ by induction on $n$.\n",
        "\n",
        "- **Base case: ($n=0$):** $S^{0} T = T \\subseteq R$ since $R = S R \\cup T$.\n",
        "- **Inductive step:** Suppose $S^{n} T \\subseteq R$. Then  \n",
        "  $$S^{n+1} T = S (S^{n} T) \\subseteq S R \\subseteq S R \\cup T = R.$$\n",
        "\n",
        "Hence $S^{*} T = \\bigcup_{n \\ge 0} S^{n} T \\subseteq R$.\n",
        "\n",
        "Combining both inclusions, we have $R = S^{*} T$.\n",
        "\n",
        "From $R = S^{*} T$ to $R = S R \\cup T$:\n",
        "\n",
        "Using $S^{*} = \\{\\varepsilon\\} \\cup S S^{*}$, we have:\n",
        "$$\n",
        "R = S^{*} T\n",
        "  = (\\{\\varepsilon\\} \\cup S S^{*}) T\n",
        "  = T \\cup S (S^{*} T)\n",
        "  = T \\cup S R\n",
        "  = S R \\cup T.\n",
        "$$\n",
        "\n",
        "This implication does not require $\\varepsilon \\notin S$.\n",
        "\n",
        "**Conclusion**\n",
        "\n",
        "Under $\\varepsilon \\notin S$, the equation $R = S R \\cup T$ holds if and only if $R = S^{*} T$ (Arden’s lemma)."
      ],
      "metadata": {
        "id": "n11yMJb5lBCN"
      }
    },
    {
      "cell_type": "markdown",
      "source": [
        "---\n",
        "**Problem 20(i):**\n",
        "\n",
        "Explain why we can take any pair of equivalent regular expressions and replace the letter *a* in both with any regular expression **R** and the letter *b* with any regular expression **S** and the resulting regular expressions will have the same language. For example, 17(ii), which says\n",
        "\n",
        "   $$(a^{*}b)^{*}a^{*}=a^{*}(ba^{*})^{*}$$\n",
        "\n",
        "becomes the identity\n",
        "\n",
        "   $$(R^{*}S)^{*}R^{*}=R^{*}(SR^{*})^{*}$$\n",
        "\n",
        "which is true for all regular expressions **R** and **S**.\n",
        "\n",
        "**Answer 20(i):**\n",
        "\n",
        "It is easiest to understand this in terms of the recursive definition of regular expressions. Any letter of the alphabet is itself a regular expression. The rule for forming regular expressions apply to these and to all more complicated regular expressions. Each regular expression describes a set. Equivalent expressions describe equivalent sets. The equivalences are not disturbed by taking unions, products, or Kleen closures. This means that any set must be considered a building block in the construction of other sets."
      ],
      "metadata": {
        "id": "Woh_MWpJ9TFT"
      }
    },
    {
      "cell_type": "markdown",
      "source": [
        "**Answer 20(i):**\n",
        "\n",
        "**Substitution Preserves Equivalence of Regular Expressions**\n",
        "\n",
        "**1. Setup**\n",
        "Let $E_1$ and $E_2$ be regular expressions over the alphabet $\\{a,b\\}$ with  \n",
        "$$\n",
        "L(E_1) = L(E_2).\n",
        "$$\n",
        "\n",
        "Let $R$ and $S$ be arbitrary regular expressions (over any alphabet).  \n",
        "We write  \n",
        "$$\n",
        "E[a \\leftarrow R,\\, b \\leftarrow S]\n",
        "$$  \n",
        "for the expression obtained by replacing each $a$ by $R$ and each $b$ by $S$.\n",
        "\n",
        "**2. Substitution on Words and Languages**\n",
        "Define a substitution $\\sigma$ on letters by:\n",
        "$$\n",
        "\\sigma(a) = L(R), \\quad \\sigma(b) = L(S).\n",
        "$$\n",
        "\n",
        "Extend $\\sigma$ to words $w = w_1 w_2 \\dots w_n \\in \\{a,b\\}^*$ by:\n",
        "$$\n",
        "\\hat{\\sigma}(w) = \\sigma(w_1) \\cdot \\sigma(w_2) \\cdots \\sigma(w_n),\n",
        "$$\n",
        "and to languages $L \\subseteq \\{a,b\\}^*$ by:\n",
        "$$\n",
        "\\hat{\\sigma}(L) = \\bigcup_{w \\in L} \\hat{\\sigma}(w).\n",
        "$$\n",
        "\n",
        "**3. Lemma — Semantics Commute with Substitution**\n",
        "For every regular expression $E$ over $\\{a,b\\}$:\n",
        "$$\n",
        "L\\big(E[a \\leftarrow R,\\, b \\leftarrow S]\\big) = \\hat{\\sigma}\\big(L(E)\\big).\n",
        "$$\n",
        "\n",
        "**Proof (by structural induction on $E$):**\n",
        "\n",
        "1. **Empty set**:  \n",
        "   $E = \\emptyset$  \n",
        "   $$\n",
        "   L(E[a \\leftarrow R, b \\leftarrow S]) = \\emptyset = \\hat{\\sigma}(\\emptyset).\n",
        "   $$\n",
        "\n",
        "2. **Empty word**:  \n",
        "   $E = \\varepsilon$  \n",
        "   $$\n",
        "   L(E[a \\leftarrow R, b \\leftarrow S]) = \\{\\varepsilon\\} = \\hat{\\sigma}(\\{\\varepsilon\\}).\n",
        "   $$\n",
        "\n",
        "3. **Letter $a$**:  \n",
        "   $E = a$  \n",
        "   $$\n",
        "   L(E[a \\leftarrow R, b \\leftarrow S]) = L(R) = \\sigma(a) = \\hat{\\sigma}(\\{a\\}).\n",
        "   $$\n",
        "\n",
        "4. **Letter $b$**: symmetric to $a$.\n",
        "\n",
        "5. **Union**: $E = F + G$  \n",
        "   $$\n",
        "   L\\big((F+G)[\\cdot]\\big) = L(F[\\cdot]) \\cup L(G[\\cdot])  \n",
        "   = \\hat{\\sigma}(L(F)) \\cup \\hat{\\sigma}(L(G))  \n",
        "   = \\hat{\\sigma}(L(F) \\cup L(G)).\n",
        "   $$\n",
        "\n",
        "6. **Concatenation**: $E = FG$  \n",
        "   $$\n",
        "   L\\big((FG)[\\cdot]\\big) = L(F[\\cdot]) \\cdot L(G[\\cdot])  \n",
        "   = \\hat{\\sigma}(L(F)) \\cdot \\hat{\\sigma}(L(G))  \n",
        "   = \\hat{\\sigma}(L(F) \\cdot L(G)).\n",
        "   $$\n",
        "\n",
        "7. **Kleene star**: $E = F^*$  \n",
        "   $$\n",
        "   L\\big((F^*)[\\cdot]\\big) = \\big(L(F[\\cdot])\\big)^*  \n",
        "   = \\big(\\hat{\\sigma}(L(F))\\big)^*  \n",
        "   = \\hat{\\sigma}\\left(\\bigcup_{n \\ge 0} L(F)^n\\right)  \n",
        "   = \\hat{\\sigma}(L(F^*)).\n",
        "   $$\n",
        "\n",
        "Thus, the lemma holds.\n",
        "\n",
        "**4. Theorem — Substitution Preserves Equivalence**\n",
        "If $L(E_1) = L(E_2)$, then for all $R, S$:\n",
        "$$\n",
        "L\\big(E_1[a \\leftarrow R,\\, b \\leftarrow S]\\big)  \n",
        "= \\hat{\\sigma}(L(E_1))  \n",
        "= \\hat{\\sigma}(L(E_2))  \n",
        "= L\\big(E_2[a \\leftarrow R,\\, b \\leftarrow S]\\big).\n",
        "$$\n",
        "\n",
        "Therefore, $E_1[a \\leftarrow R,\\, b \\leftarrow S]$ and $E_2[a \\leftarrow R,\\, b \\leftarrow S]$ are equivalent for all choices of $R, S$."
      ],
      "metadata": {
        "id": "j9vOvurwpxG5"
      }
    },
    {
      "cell_type": "markdown",
      "source": [
        "**Problem 20(ii)**\n",
        "\n",
        "In particular, $$R=a+bb, S=ba^{*}$$\n",
        "\n",
        "results in the complicated identity\n",
        "\n",
        "$$((a+bb)^{*}(ba^{*}))^{*}(a+bb)^{*}=(a+bb)^{*}((ba^{*})(a+bb)^{*})^{*}$$\n",
        "\n",
        "What identity would result from using $$R=(ba^{*})^{*}\\quad S=(Λ+b)$$\n",
        "\n",
        "**Answer 20(ii)**\n",
        "\n",
        "$$(R^{*}S)^{*}R^{*}=R^{*}(SR^{*})^{*}$$\n",
        "results in\n",
        "$$((ba^{*})^{*}(Λ+b))^{*}(ba^{*})^{*}=(ba^{*})^{*}((Λ+b)(ba^{*})^{*})^{*}$$"
      ],
      "metadata": {
        "id": "CqyDHMi1uAP7"
      }
    }
  ]
}