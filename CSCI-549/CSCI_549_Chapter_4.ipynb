{
  "nbformat": 4,
  "nbformat_minor": 0,
  "metadata": {
    "colab": {
      "provenance": []
    },
    "kernelspec": {
      "name": "python3",
      "display_name": "Python 3"
    },
    "language_info": {
      "name": "python"
    }
  },
  "cells": [
    {
      "cell_type": "markdown",
      "source": [
        "---\n",
        "**Chapter 4: Introduction to Computer Theory by Daniel I. A. Cohen**"
      ],
      "metadata": {
        "id": "1LZyeIBk83-U"
      }
    },
    {
      "cell_type": "markdown",
      "source": [
        "---\n",
        "**Problem 1:**\n",
        "Let $r_1$, $r_2$, and $r_3$ be three regular expressions.\n",
        "Show that the language associated with $(r_1+r_2)r_3$ is the same as the language associated with $r_1r_3+r_2r_3$.\n",
        "Show that $r_1(r_2+r_3)$ is equivalent to $r_1r_2+r_1r_3$.\n",
        "This will be the same as proving a \"distributive law\" for regular expressions.\n",
        "\n",
        "**Answer 1:**"
      ],
      "metadata": {
        "id": "6FPuVlaz9J4n"
      }
    },
    {
      "cell_type": "markdown",
      "source": [
        "Let $L(r)$ be the language denoted by the regular expression $r$.\n",
        "\n",
        "- Union: $L(r_1 + r_2) = L(r_1) \\cup L(r_2)$\n",
        "- Concatenation: $L(r_1 r_2) = \\{\\, xy \\mid x \\in L(r_1),\\ y \\in L(r_2) \\,\\}$\n",
        "\n",
        "Claim: $$L\\big((r_1 + r_2) r_3\\big) = L(r_1 r_3) \\cup L(r_2 r_3).$$\n",
        "\n",
        "Proof:\n",
        "- ($\\subseteq$) Let $w \\in L((r_1 + r_2) r_3)$.\n",
        "  - Then $w = xy$ with $x \\in L(r_1) \\cup L(r_2)$ and $y \\in L(r_3)$.\n",
        "  - If $x \\in L(r_1)$, then $w \\in L(r_1 r_3)$.\n",
        "  - If $x \\in L(r_2)$, then $w \\in L(r_2 r_3)$.\n",
        "  - Hence $w \\in L(r_1 r_3) \\cup L(r_2 r_3)$.\n",
        "\n",
        "- ($\\supseteq$) Let $w \\in L(r_1 r_3) \\cup L(r_2 r_3)$.\n",
        "  - If $w \\in L(r_1 r_3)$, then $w = xy$ with $x \\in L(r_1)$ and $y \\in L(r_3)$.\n",
        "  - Since $x \\in L(r_1) \\subseteq L(r_1) \\cup L(r_2)$, we have $w \\in L((r_1 + r_2) r_3)$.\n",
        "  - The case $w \\in L(r_2 r_3)$ is analogous.\n",
        "\n",
        "Therefore, $$L((r_1 + r_2) r_3) = L(r_1 r_3) \\cup L(r_2 r_3).$$\n",
        "\n",
        "Claim: $$L\\big(r_1 (r_2 + r_3)\\big) = L(r_1 r_2) \\cup L(r_1 r_3).$$\n",
        "\n",
        "Proof:\n",
        "- ($\\subseteq$) Let $w \\in L(r_1 (r_2 + r_3))$.\n",
        "  - Then $w = xy$ with $x \\in L(r_1)$ and $y \\in L(r_2) \\cup L(r_3)$.\n",
        "  - If $y \\in L(r_2)$, then $w \\in L(r_1 r_2)$.\n",
        "  - If $y \\in L(r_3)$, then $w \\in L(r_1 r_3)$.\n",
        "  - Hence $w \\in L(r_1 r_2) \\cup L(r_1 r_3)$.\n",
        "\n",
        "- ($\\supseteq$) Let $w \\in L(r_1 r_2) \\cup L(r_1 r_3)$.\n",
        "  - If $w \\in L(r_1 r_2)$, then $w = xy$ with $x \\in L(r_1)$ and $y \\in L(r_2) \\subseteq L(r_2) \\cup L(r_3)$.\n",
        "  - Thus $w \\in L(r_1 (r_2 + r_3))$.\n",
        "  - The case $w \\in L(r_1 r_3)$ is analogous.\n",
        "\n",
        "Therefore, $$L(r_1 (r_2 + r_3)) = L(r_1 r_2) \\cup L(r_1 r_3).$$\n",
        "\n",
        "Conclusion:\n",
        "$$\n",
        "(r_1 + r_2) r_3 \\equiv r_1 r_3 + r_2 r_3\n",
        "\\quad\\text{and}\\quad\n",
        "r_1 (r_2 + r_3) \\equiv r_1 r_2 + r_1 r_3.\n",
        "$$"
      ],
      "metadata": {
        "id": "ZViRC30Bctyj"
      }
    },
    {
      "cell_type": "markdown",
      "source": [
        "For Problems 2 through 11, construct a regular expression defining each of the following languages over the alphabet $Σ = \\{a\\,b\\}$.\n",
        "\n",
        "A recursive definition for REGEX is:\n",
        "* Rule 1: $Λ, a, b \\in REGEX$.\n",
        "* Rule 2: If $r_1, r_2 \\in REGEX$, then $(r_1), r_1r_2, r_1+r_2, r_1^{*} \\in REGEX$."
      ],
      "metadata": {
        "id": "9rpdEiJWfSAk"
      }
    },
    {
      "cell_type": "markdown",
      "source": [
        "---\n",
        "**Problem 2:** Given $Σ = \\{a\\,b\\}$. Construct a regular expression for all words in which *a* appears tripled, if at all. This means that every clump of *a*'s contains 3 or 6 or 9 or 12 ... *a*'s.\n",
        "\n",
        "**Answer 2:**\n",
        "- $(aaa+b)^{*}$\n",
        "- $((aaa)^{*}b^{*})^{*}$"
      ],
      "metadata": {
        "id": "UxL85lY59Q24"
      }
    },
    {
      "cell_type": "markdown",
      "source": [
        "---\n",
        "**Problem 3:** Given $Σ = \\{a\\,b\\}$. Construct a regular expression for all words that contain at least one of the strings $s_1$, $s_2$, $s_3$, or $s_4$.\n",
        "\n",
        "**Answer 3:** $(a+b)^{*}(s_1+s_2+s_3+s_4)(a+b)^{*}$"
      ],
      "metadata": {
        "id": "ugTQorST9RD-"
      }
    },
    {
      "cell_type": "markdown",
      "source": [
        "---\n",
        "**Problem 4:** Given $Σ = \\{a\\,b\\}$. Construct a regular expression for all words that contain exactly two *b*'s or exactly three *b*'s, not more.\n",
        "\n",
        "**Answer 4:** $a^{*}ba^{*}ba^{*}(Λ+ba^{*})$"
      ],
      "metadata": {
        "id": "CYQ9biYs9RM8"
      }
    },
    {
      "cell_type": "markdown",
      "source": [
        "---\n",
        "**Problem 5:** Given $Σ = \\{a\\,b\\}$. Construct a regular expression for\n",
        "* (i) all strings that end in a double letter,\n",
        "* (ii) all strings that do not end in a double letter.\n",
        "\n",
        "**Answer 5:**\n",
        "- $(a+b)^{*}(aa+bb)$\n",
        "- $Λ+a+b+(a+b)^{*}(ab+ba)$"
      ],
      "metadata": {
        "id": "8rwqLGnE9RTR"
      }
    },
    {
      "cell_type": "markdown",
      "source": [
        "---\n",
        "**Problem 6:** Given $Σ = \\{a\\,b\\}$. Construct a regular expression for all strings that have exactly one double letter in them.\n",
        "\n",
        "**Answer 6:** $(ab)^{*}aa(ba)^{*} + (ba)^{*}bb(ab)^{*}$"
      ],
      "metadata": {
        "id": "rGRk0h7T9Rj2"
      }
    },
    {
      "cell_type": "markdown",
      "source": [
        "---\n",
        "**Problem 7:** Given $Σ = \\{a\\,b\\}$. Construct a regular expression for all strings in which the letter *b* is *never* tripled. This means that no word contains the string *bbb*.\n",
        "\n",
        "**Answer 7:** $(Λ+b+bb)(a^{*}a(b+bb))^{*}a^{*}$"
      ],
      "metadata": {
        "id": "4-LE6A6f9Rpj"
      }
    },
    {
      "cell_type": "markdown",
      "source": [
        "---\n",
        "**Problem 8:** Given $Σ = \\{a\\,b\\}$. Construct a regular expression for all words in which *a* is tripled or *b* is tripled, but not both. This means each word contains the substring *aaa* or the substring *bbb* but not both.\n",
        "\n",
        "**Answer 8:**\n",
        "- Let $NOTBBB=(Λ+b+bb)(a^{*}a(b+bb))^{*}a^{*}$\n",
        "- Let $HASAAA=(NOTBBB)aaa(NOTBBB)$\n",
        "- Let $NOTAAA=(Λ+a+aa)(b^{*}b(a+aa))^{*}b^{*}$\n",
        "- Let $HASBBB=(NOTBBB)bbb(NOTBBB)$\n",
        "- $(HASAAA+HASBBB)$\n"
      ],
      "metadata": {
        "id": "2YRT7wCQ9RwQ"
      }
    },
    {
      "cell_type": "markdown",
      "source": [
        "---\n",
        "**Problem 9:** Given $Σ = \\{a\\,b\\}$. Construct a regular expression for\n",
        "* (i) all words that do not have the substring *ab*,\n",
        "* (ii) all words that do not have both the substrings *bba* and *abb*.\n",
        "\n",
        "**Answer 9:**\n",
        "- (i) $b^{*}a^{*}$\n",
        "- (ii) $???$"
      ],
      "metadata": {
        "id": "0Wk9Gwtf9R3G"
      }
    },
    {
      "cell_type": "markdown",
      "source": [
        "---\n",
        "**Problem 10:** Given $Σ = \\{a\\,b\\}$. Construct a regular expression for all strings in which the *total* number of *a*'s is divisible by 3 no matter how they are distributed, such as *aabaabbaba*.\n",
        "\n",
        "**Answer 10:** $b^{*}(ab^{*}ab^{*}a)^{*}b^{*}$"
      ],
      "metadata": {
        "id": "_6T1vye_9R9j"
      }
    },
    {
      "cell_type": "markdown",
      "source": [
        "---\n",
        "**Problem 11:** Given $Σ = \\{a\\,b\\}$. Construct a regular expression for all strings\n",
        "* (i) in which any *b*'s that occur are found in clumps of an odd number at a time, such as *abaabbbab*.\n",
        "* (ii) that have an even number of *a*'s and an odd number of *b*'s.\n",
        "* (iii) that have an odd number of *a*'s and an odd number of *b*'s.\n",
        "\n",
        "**Answer 11:**\n",
        "\n",
        "- Let $EVEN\\_EVEN=(aa+bb+(ab+ba)(aa+bb)^{*}(ab+ba))^{*}$\n",
        "- (i) $b(bb)^{*}(ab(bb)^{*})^{*}a^{*}$\n",
        "- (ii)\n",
        "  - Let $ODD=b+ab(bb)^{*}a$\n",
        "  - $(EVEN\\_EVEN)(ODD)(EVEN\\_EVEN)$\n",
        "- (iii)\n",
        "  - Let $ODD=ab+ba$\n",
        "  - $(EVEN\\_EVEN)(ODD)(EVEN\\_EVEN)$"
      ],
      "metadata": {
        "id": "_659sySH9SMZ"
      }
    },
    {
      "cell_type": "markdown",
      "source": [
        "---\n",
        "**Problem 12:**\n",
        "\n",
        "* (i) Let us reconsider the regular expression $$(a+b)^{*}a(a+b)^{*}b(a+b)^{*}$$ Show that this is equivalent to $$(a+b)^{*}ab(a+b)^{*}$$ in the sense that they define the same language.\n",
        "* (ii) Show that $(a+b)^{*}ab(a+b)^{*} + b^{*}a^{*} = (a+b)^{*}$.\n",
        "* (iii) Show that $(a+b)^{*}ab(a+b)^{*}ab(a+b)^{*} = (a+b)^{*}$.\n",
        "* (iv) Is (iii) the last variation of this theme or are there more beasts left in this cave?\n",
        "\n",
        "**Answer 12:**"
      ],
      "metadata": {
        "id": "pwW3VHGx9SSe"
      }
    },
    {
      "cell_type": "markdown",
      "source": [
        "---\n",
        "**Problem 13:**\n",
        "\n",
        "We have defined the product of two sets of strings in general. If we apply this to the case where both factors are the same set, $S=T$, we obtain squares, $S^2$. Similarily, we can define $S^3, S^4,...$. Show that it makes some sense to write:\n",
        "* (i) $S^{*} = Λ + S + S^1 + S^2 + S^3 + S^4 + ...$\n",
        "* (ii)$S^{+} = S + S^1 + S^2 + S^3 + S^4 + ...$\n",
        "\n",
        "**Answer 13:**"
      ],
      "metadata": {
        "id": "RKXeadfR9SYE"
      }
    },
    {
      "cell_type": "markdown",
      "source": [
        "---\n",
        "**Problem 14:** If the only difference between $L$ and $L^{*}$ is the word $Λ$, is the only difference between $L^2$ and $L^{*}$ the word $Λ$?\n",
        "\n",
        "**Answer 14:**"
      ],
      "metadata": {
        "id": "HSVF-v2c9SdR"
      }
    },
    {
      "cell_type": "markdown",
      "source": [
        "---\n",
        "**Problem 15:** Show that the following pairs of regular expressions define the same language over the alphabet $Σ = \\{a\\,b\\}$:\n",
        "\n",
        "* (i) $(ab)^{*}a\\quad$ and $\\quad a(ba)^{*}$\n",
        "* (ii) $(a^{*}+b)^{*}\\quad$ and $\\quad (a+b)^{*}$\n",
        "* (iii) $(a^{*}+b^{*})^{*}\\quad$ and $\\quad (a+b)^{*}$\n",
        "\n",
        "**Answer 15:**"
      ],
      "metadata": {
        "id": "X7ijcRDS9SjG"
      }
    },
    {
      "cell_type": "markdown",
      "source": [
        "---\n",
        "**Problem 16:** Show that the following pairs of regular expressions define the same language over the alphabet $Σ = \\{a\\,b\\}$:\n",
        "\n",
        "* (i) $Λ^{*}\\quad$ and $\\quad Λ$\n",
        "* (ii) $(a^{*}b)^{*}a^{*}\\quad$ and $\\quad a^{*}(ba^{*})^{*}$\n",
        "* (iii) $(a^{*}bbb)^{*}a^{*}\\quad$ and $\\quad a^{*}(bbba^{*})^{*}$\n",
        "\n",
        "**Answer 16:**"
      ],
      "metadata": {
        "id": "qzjlYCfI9SvN"
      }
    },
    {
      "cell_type": "markdown",
      "source": [
        "---\n",
        "**Problem 17:** Show that the following pairs of regular expressions define the same language over the alphabet $Σ = \\{a\\,b\\}$:\n",
        "\n",
        "* (i) $((a+bb)^{*}aa)^{*}\\quad$ and $\\quad Λ+(a+bb)^{*}aa$\n",
        "* (ii) $(aa)^{*}(Λ+a)\\quad$ and $\\quad a^{*}$\n",
        "* (iii) $a(aa)^{*}(Λ+a)b+b\\quad$ and $\\quad a^{*}b$\n",
        "* (iv) $a(ba+a)^{*}b\\quad$ and $\\quad aa^{*}b(aa^{*}b)^{*}$\n",
        "* (v) $Λ+a(a+b)^{*}+(a+b)^{*}aa(a+b)^{*}\\quad$ and $\\quad ((b^{*}a)^{*}ab^{*})^{*}$\n",
        "\n",
        "**Answer 17:**"
      ],
      "metadata": {
        "id": "t_kdG08T9S05"
      }
    },
    {
      "cell_type": "markdown",
      "source": [
        "---\n",
        "**Problem 18:** Describe (in English phrases) the languages associated with the following regular expressions:\n",
        "\n",
        "* (i) $(a+b)^{*}a(Λ+bbbb)$\n",
        "* (ii) $(a(a+bb)^{*})^{*}$\n",
        "* (iii) $(a(aa)^{*}b(bb)^{*})^{*}$\n",
        "* (iv) $(b(bb)^{*})^{*}(a(aa)^{*}b(bb)^{*})^{*}$\n",
        "* (v) $(b(bb)^{*})^{*}(a(aa)^{*}b(bb)^{*})^{*}(a(aa)^{*})^{*}$\n",
        "* (vi) $((a+b)a)^{*}$\n",
        "\n",
        "**Answer 18:**"
      ],
      "metadata": {
        "id": "g_wluocP9S6X"
      }
    },
    {
      "cell_type": "markdown",
      "source": [
        "---\n",
        "**Problem 19:** (D. N. Arden) Let $R$, $S$, and $T$ be three languages and assume that $Λ$ is not in $S$. Prove the following statements:\n",
        "* From the premise that $R=SR+T$, we can conclude that $R=S^{*}T$\n",
        "* From the premise that $R=S^{*}T$, we can conclude that $R=SR+T$.\n",
        "\n",
        "**Answer 19:**"
      ],
      "metadata": {
        "id": "a5NAQP979S_l"
      }
    },
    {
      "cell_type": "markdown",
      "source": [
        "---\n",
        "**Problem 20:**\n",
        "\n",
        "* (i) Explain why we can take any pair of equivalent regular expressions and replace the letter *a* in both with any regular expression **R** and the letter *b* with any regular expression **S** and the resulting regular expressions will have the same language. For example, 17(ii), which says\n",
        "\n",
        "   $$(a^{*}b)^{*}a^{*}=a^{*}(ba^{*})^{*}$$\n",
        "\n",
        "becomes the identity\n",
        "\n",
        "   $$(R^{*}S)^{*}R^{*}=R^{*}(SR^{*})^{*}$$\n",
        "\n",
        "which is true for all regular expressions **R** and **S**.\n",
        "\n",
        "In particular, $$R=a+bb, S=ba^{*}$$\n",
        "\n",
        "results in the complicated identity\n",
        "\n",
        "$$((a+bb)^{*}(ba^{*}))^{*}(a+bb)^{*}=(a+bb)^{*}((ba^{*})(a+bb)^{*})^{*}$$\n",
        "\n",
        "* (ii) What identity would result from using $$R=(ba^{*})^{*}\\quad S=(Λ+b)$$\n",
        "\n",
        "**Answer 20:**"
      ],
      "metadata": {
        "id": "Woh_MWpJ9TFT"
      }
    }
  ]
}