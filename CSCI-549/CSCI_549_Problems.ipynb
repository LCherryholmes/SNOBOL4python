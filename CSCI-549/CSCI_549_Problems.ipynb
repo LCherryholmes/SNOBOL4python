{
  "nbformat": 4,
  "nbformat_minor": 0,
  "metadata": {
    "colab": {
      "provenance": []
    },
    "kernelspec": {
      "name": "python3",
      "display_name": "Python 3"
    },
    "language_info": {
      "name": "python"
    }
  },
  "cells": [
    {
      "cell_type": "markdown",
      "source": [
        "**Introduction to Computer Theory, 2nd. Edition by Daniel Cohen**\n",
        "\n",
        "CSCI-549 East Texas A&M University\n",
        "\n",
        "Lon Cherryholmes, Sr."
      ],
      "metadata": {
        "id": "rNMGgXAjph2M"
      }
    },
    {
      "cell_type": "code",
      "source": [
        "!pip install SNOBOL4python==0.4.5\n",
        "!apt-get install -y graphviz libgraphviz-dev\n",
        "!pip install pygraphviz\n",
        "!pip install networkx"
      ],
      "metadata": {
        "id": "mcSv680JyL_L"
      },
      "execution_count": null,
      "outputs": []
    },
    {
      "cell_type": "code",
      "source": [
        "import re\n",
        "from graphviz import Digraph\n",
        "from itertools import product\n",
        "from pprint import pformat, pprint\n",
        "from IPython.display import display, Latex, Markdown\n",
        "import sys\n",
        "from pprint import pprint, pformat\n",
        "## Thirty one (31) flavors of patterns to choose from ...\n",
        "from SNOBOL4python import ε, σ, π, λ, Λ, ζ, θ, Θ, φ, Φ, α, ω\n",
        "from SNOBOL4python import ABORT, ANY, ARB, ARBNO, BAL, BREAK, BREAKX, FAIL\n",
        "from SNOBOL4python import FENCE, LEN, MARB, MARBNO, NOTANY, POS, REM, RPOS\n",
        "from SNOBOL4python import RTAB, SPAN, SUCCESS, TAB\n",
        "# Miscellaneous\n",
        "from SNOBOL4python import GLOBALS, TRACE, PATTERN, STRING\n",
        "from SNOBOL4python import ALPHABET, DIGITS, UCASE, LCASE, NULL\n",
        "from SNOBOL4python import nPush, nInc, nPop, Shift, Reduce, Pop\n",
        "# Instantiate the global variable space\n",
        "GLOBALS(globals())\n",
        "FA = dict()"
      ],
      "metadata": {
        "id": "66TDlYVVanqP"
      },
      "execution_count": null,
      "outputs": []
    },
    {
      "cell_type": "code",
      "source": [
        "def display_dfa(fa):\n",
        "    dot = Digraph()\n",
        "    dot.attr(rankdir='LR')\n",
        "    dot.attr(bgcolor='black')\n",
        "    dot.attr('node', style='filled', fillcolor='black', fontcolor='white', color='white')\n",
        "    dot.attr('edge', color='white', fontcolor='white')\n",
        "    Σ = fa[0][1:]\n",
        "    Δ = fa[1:]\n",
        "    for i, δ in enumerate(Δ):\n",
        "        q = δ[0]\n",
        "        is_start = False\n",
        "        is_finish = False\n",
        "        if m := re.match(r\"^\\-(.*)$\", q): is_start = True;  q = m.groups(1)[0]\n",
        "        if m := re.match(r\"^\\+(.*)$\", q): is_finish = True; q = m.groups(1)[0]\n",
        "        if is_finish: dot.node(str(i+1), shape='doublecircle')\n",
        "        else:         dot.node(str(i+1), shape='circle')\n",
        "        if is_start:\n",
        "            dot.node('', width='0', height='0', margin='0', shape='point', style='invis')\n",
        "            dot.edge('', str(i+1), )\n",
        "    for i, δ in enumerate(Δ):\n",
        "        for j in range(1, len(δ)):\n",
        "            dot.edge(str(i+1), str(δ[j]), label=Σ[j-1])\n",
        "    dot.render('dfa', format='png', cleanup=False)  # Saves as dfa.png\n",
        "    display(dot)"
      ],
      "metadata": {
        "id": "fX8q7id8P7zI"
      },
      "execution_count": null,
      "outputs": []
    },
    {
      "cell_type": "code",
      "source": [
        "def compile_fa(fa_table):\n",
        "    header = fa_table[0][1:]\n",
        "    states = fa_table[1:]\n",
        "    start_state = None\n",
        "    accepting_states = set()\n",
        "    transitions = {}\n",
        "    for row in states:\n",
        "        state_label = row[0]\n",
        "        state_num = int(state_label.lstrip('+-'))\n",
        "        if state_label.startswith('-'):\n",
        "            start_state = state_num\n",
        "        if state_label.startswith('+') or state_label.startswith('-+'):\n",
        "            accepting_states.add(state_num)\n",
        "        transitions[state_num] = {}\n",
        "        for symbol, next_state in zip(header, row[1:]):\n",
        "            transitions[state_num][symbol] = next_state\n",
        "    if start_state is None:\n",
        "        raise ValueError(\"No start state defined in FA table.\")\n",
        "    return start_state, header, transitions, accepting_states"
      ],
      "metadata": {
        "id": "X0zUpP-PaI_a"
      },
      "execution_count": null,
      "outputs": []
    },
    {
      "cell_type": "code",
      "source": [
        "def run_fsm(input_str, start_state, header, transitions, accepting_states):\n",
        "    current_state = start_state\n",
        "    for ch in input_str:\n",
        "        if ch not in header:\n",
        "            raise ValueError(f\"Invalid input symbol: {ch}\")\n",
        "        current_state = transitions[current_state][ch]\n",
        "    accepted = current_state in accepting_states\n",
        "    return accepted, current_state"
      ],
      "metadata": {
        "id": "xqwD1QrliX3A"
      },
      "execution_count": null,
      "outputs": []
    },
    {
      "cell_type": "code",
      "source": [
        "def show_samples(table):\n",
        "    accepted = []\n",
        "    rejected = []\n",
        "    alphabet = table[0][1:]\n",
        "    fsm = compile_fa(table)\n",
        "    for length in range(0, 8):\n",
        "        for combo in product(alphabet, repeat=length):\n",
        "            word = ''.join(combo)\n",
        "            is_accepted, _ = run_fsm(word, *fsm)\n",
        "            if is_accepted:\n",
        "                accepted.append(word)\n",
        "            else: rejected.append(word)\n",
        "    return accepted, rejected"
      ],
      "metadata": {
        "id": "UfWeCYsIcids"
      },
      "execution_count": null,
      "outputs": []
    },
    {
      "cell_type": "code",
      "source": [
        "import textwrap\n",
        "def display_problem(problem_name, verbose=True):\n",
        "    problem = FA[problem_name]\n",
        "    display(Latex(problem[0]))\n",
        "    display_dfa(problem[2])\n",
        "    if (verbose):\n",
        "        accepted, rejected = show_samples(problem[2])\n",
        "        print(\"Accepted:\")\n",
        "        print(textwrap.fill(\" \".join(accepted), width=80))\n",
        "        print()\n",
        "        print(\"Rejected:\")\n",
        "        print(textwrap.fill(\" \".join(rejected), width=80))"
      ],
      "metadata": {
        "id": "1y_q05x7J2Uv"
      },
      "execution_count": null,
      "outputs": []
    },
    {
      "cell_type": "markdown",
      "source": [
        "---\n",
        "**Chapter 2: Languages**"
      ],
      "metadata": {
        "id": "3q98Wv8kcRtc"
      }
    },
    {
      "cell_type": "code",
      "source": [
        "from itertools import product\n",
        "from pprint import pprint\n",
        "\n",
        "def kleene_star(S):\n",
        "    result = [{} for _ in range(8)]\n",
        "    for repeat in range(8):\n",
        "        for combo in product(S, repeat=repeat):\n",
        "            combo = \"\".join(combo)\n",
        "            length = len(combo)\n",
        "            if length < len(result):\n",
        "                if combo not in result[length]:\n",
        "                    result[length][combo] = 1\n",
        "                else: result[length][combo] += 1\n",
        "    for length, words in enumerate(result):\n",
        "        if words is not None:\n",
        "            print(length, len(words), words)"
      ],
      "metadata": {
        "id": "CDASEICxz2_e"
      },
      "execution_count": null,
      "outputs": []
    },
    {
      "cell_type": "markdown",
      "source": [
        "---\n",
        "**Problem 2.1:** Consider the language $S^{*}$, where $S =$ {*a b*}.\n",
        "1. How many words does the language have of length 2?\n",
        "2. of length 3?\n",
        "3. of length *n*?"
      ],
      "metadata": {
        "id": "NxkkyVaJQwi8"
      }
    },
    {
      "cell_type": "markdown",
      "source": [
        "**Answer 2.1:**\n",
        "1. $4$\n",
        "2. $8$\n",
        "3. $2^{n}$"
      ],
      "metadata": {
        "id": "t7j-27bgN9WU"
      }
    },
    {
      "cell_type": "code",
      "source": [
        "# Observe the powers of two sequence: 1, 2, 4, 8, 16, 32, 64, ...\n",
        "S = {\"a\", \"b\"}\n",
        "kleene_star(S)"
      ],
      "metadata": {
        "id": "QwLN_1S8z9mP"
      },
      "execution_count": null,
      "outputs": []
    },
    {
      "cell_type": "markdown",
      "source": [
        "---\n",
        "**Problem 2.2:** Consider the language $S^{*}$, where $S =$ {*aa b*}.\n",
        "1. How many words does the language have of length 4?\n",
        "2. of length 5?\n",
        "3. of length 6?\n",
        "4. What can be said in general?"
      ],
      "metadata": {
        "id": "KT72DTgORof5"
      }
    },
    {
      "cell_type": "markdown",
      "source": [
        "**Answer 2.2:**\n",
        "1. $5$\n",
        "2. $8$\n",
        "3. $13$\n",
        "4. *See below.**"
      ],
      "metadata": {
        "id": "PU1pG-OAOFyC"
      }
    },
    {
      "cell_type": "code",
      "source": [
        "# Observe the Fibonacci sequence: 1, 1, 2, 3, 5, 8, 13, ...\n",
        "S = {\"aa\", \"b\"}\n",
        "kleene_star(S)"
      ],
      "metadata": {
        "id": "qYIdPtvvv3FZ"
      },
      "execution_count": null,
      "outputs": []
    },
    {
      "cell_type": "markdown",
      "source": [
        "---\n",
        "**Problem 2.3:** Consider the language $S^{*}$, where $S =$ {*ab ba*}.\n",
        "1. Write out all the words in $S^{*}$ that have seven or fewer letters.\n",
        "2. Can any word in this language contain the substrings *aaa* or *bbb*?\n",
        "3. What is the smallest word *not* in this language?"
      ],
      "metadata": {
        "id": "j5Tivw0ySAxm"
      }
    },
    {
      "cell_type": "markdown",
      "source": [
        "**Answer 2.3:**\n",
        "\n",
        "1. *See below.*\n",
        "2. No. $S$ does not contain *aa* or *bb*. Any substring has at most two consecutive *a*'s or *b*'s.\n",
        "3. Either *a* or *b*."
      ],
      "metadata": {
        "id": "_IJUONDMOJxm"
      }
    },
    {
      "cell_type": "code",
      "source": [
        "# Answer 2.3.1\n",
        "S = {\"ab\", \"ba\"}\n",
        "kleene_star(S)"
      ],
      "metadata": {
        "id": "k2rv4obp9oKl"
      },
      "execution_count": null,
      "outputs": []
    },
    {
      "cell_type": "markdown",
      "source": [
        "---\n",
        "**Problem 2.4:** Consider the language $S^{*}$, where $S =$ {*a ab ba*}.\n",
        "1. Is the string (*abbba*) a word in this language?\n",
        "2. Write out all the words in this language with six or fewer letters.\n",
        "3. What is another way in which to describe the words in this language? Be careful, this is not simply the language of all words without bbb."
      ],
      "metadata": {
        "id": "MrKukPfsSA4c"
      }
    },
    {
      "cell_type": "markdown",
      "source": [
        "**Answer 2.4:**\n",
        "\n",
        "1. No. Neither *b* nor *bb* are in $S$. At most two consecutive *b*'s.\n",
        "2. *See below.*\n",
        "3. All the strings of *a*'s and *b*'s where each *b* is adjacent to a unique *a*."
      ],
      "metadata": {
        "id": "SFcnBSVsOgRs"
      }
    },
    {
      "cell_type": "code",
      "source": [
        "# Answer 2.4.2\n",
        "S = {\"a\", \"ab\", \"ba\"}\n",
        "kleene_star(S)"
      ],
      "metadata": {
        "id": "nBMVwKXkA64v"
      },
      "execution_count": null,
      "outputs": []
    },
    {
      "cell_type": "markdown",
      "source": [
        "---\n",
        "**Problem 2.5:** Consider the language $S^{*}$, where $S =$ {*aa aba baa*}.\n",
        "1. Show that the words *aabaa*, *baaabaaa*, and *baaaaababaaaa* are all in this language.\n",
        "2. Can any word in this language be interpreted as a string of elements from $S$ in two different ways?\n",
        "3. Can any word in this language have an odd total number of *a*'s?"
      ],
      "metadata": {
        "id": "Ikc2DX3fSBBW"
      }
    },
    {
      "cell_type": "markdown",
      "source": [
        "**Answer 2.5:**\n",
        "1. *aabaa* = *aa baa* \\\n",
        "   *baaabaaa* = *baa aba aa* \\\n",
        "   *baaaaababaaaa* = *baa aa aba baa aa*\n",
        "2. No. None of the words in $S$ is a prefix of another word in $S$. Neither *a*, *ab*, nor *ba* are elements of $S$.\n",
        "3. No. Each element has two *a*'s and any composite string will have only multiples."
      ],
      "metadata": {
        "id": "t97JxnKWOkJU"
      }
    },
    {
      "cell_type": "markdown",
      "source": [
        "---\n",
        "**Problem 2.6:** Consider the language $S^{*}$, where $S =$ {*xx xxx*}.\n",
        "In how many ways can $x^{19}$ be written as the product of words in $S$?\n",
        "This means: How many different factorizations are there of $x^{19}$ into *xx* and *xxx*?"
      ],
      "metadata": {
        "id": "n71p6prZSBK5"
      }
    },
    {
      "cell_type": "markdown",
      "source": [
        "**Answer 2.6:**\n",
        "\n",
        "$\\text{Let } a = \\#(\\text{copies of } xx), \\quad b = \\#(\\text{copies of } xxx)$.\n",
        "\n",
        "The length condition is $2a + 3b = 19, \\quad a,b \\in \\mathbb{Z}_{\\ge 0}$.\n",
        "\n",
        "For each feasible pair $(a,b)$, the number of distinct orderings is $\\binom{a+b}{a}$.\n",
        "\n",
        "Solving $2a + 3b = 19$:\n",
        "\n",
        "$$\n",
        "\\begin{aligned}\n",
        "b &= 1 \\quad\\Rightarrow\\quad a = 8, &\\binom{9}{8} &= 9, \\\\\n",
        "b &= 3 \\quad\\Rightarrow\\quad a = 5, &\\binom{8}{5} &= 56, \\\\\n",
        "b &= 5 \\quad\\Rightarrow\\quad a = 2, &\\binom{7}{2} &= 21.\n",
        "\\end{aligned}\n",
        "$$\n",
        "\n",
        "Summing over all solutions: $9 + 56 + 21 = 86$.\n",
        "\n",
        "$$\n",
        "\\boxed{\\text{There are 86 distinct factorizations.}}\n",
        "$$"
      ],
      "metadata": {
        "id": "31QUyooFmhpU"
      }
    },
    {
      "cell_type": "markdown",
      "source": [
        "---\n",
        "**Problem 2.7:** Consider the language PALINDROME over the alphabet {*a b*}.\n",
        "\n",
        "$\\textbf{Let}$ $\\text{PALINDROME} = \\{\\, w \\in \\{a,b\\}^* \\mid w = w^R \\,\\}$, where $w^R$ denotes the reverse of $w$.\n",
        "\n",
        "* (i) Prove that if $x$ is in PALINDROME, then so is $x^{n}$ for any *n*.\n",
        "* (ii) Prove that if $y^{3}$ is in PALINDROME, then so is $y$.\n",
        "* (iii) Prove that if $z^{n}$ is in PALINDROME for some $n$ (greater than 0), then $z$ itself is also.\n",
        "* (iv) Prove that PALINDROME has as many words of length 4 as it does of length 3.\n",
        "* (v) Prove that PALINDROME has as many words of length $2n$ as it has of length $2n - 1$. How many words is that?"
      ],
      "metadata": {
        "id": "B80v7xQnSSlp"
      }
    },
    {
      "cell_type": "markdown",
      "source": [
        "---\n",
        "**Answer 2.7(i):**\n",
        "\n",
        "$\\textbf{Claim.}$ If $x \\in \\text{PALINDROME}$, then $x^n \\in \\text{PALINDROME}$ for any integer $n \\ge 0$.\n",
        "\n",
        "$\\textbf{Proof.}$\n",
        "\n",
        "Recall that for any strings *u,v*, we have $(uv)^R = v^R u^R.$\n",
        "\n",
        "Since $x \\in \\text{PALINDROME}$, we have $x = x^R$. Thus, $(x^n)^R = (x^R)^n = x^n$."
      ],
      "metadata": {
        "id": "41BbKlgPQ2j7"
      }
    },
    {
      "cell_type": "markdown",
      "source": [
        "---\n",
        "**Answer 2.7(ii):**\n",
        "\n",
        "$\\textbf{Claim.}$ If $y^3 \\in \\text{PALINDROME}$, then $y \\in \\text{PALINDROME}$.\n",
        "\n",
        "$\\textbf{Proof.}$\n",
        "\n",
        "Recall that for any strings *u,v*, we have $(uv)^R = v^R u^R.$\n",
        "\n",
        "Since $y^3 \\in \\text{PALINDROME}$, we have $yyy = (yyy)^R$, $(yyy)^R = y^Ry^Ry^R$. Given they are one-to-one and corresponding, therefore $y = y^R$."
      ],
      "metadata": {
        "id": "FeqxiyW5URE7"
      }
    },
    {
      "cell_type": "markdown",
      "source": [
        "---\n",
        "**Answer 2.7(iii):**\n",
        "\n",
        "$\\textbf{Claim.}$ If $y^3 \\in \\text{PALINDROME}$, then $y \\in \\text{PALINDROME}$.\n",
        "\n",
        "$\\textbf{Proof.}$\n",
        "\n",
        "Recall that for any strings *u,v*, we have $(uv)^R = v^R u^R.$\n",
        "\n",
        "Since $z^n \\in \\text{PALINDROME}$, we have $z^n = (z^n)^R$, $(z^n)^R = (z^R)^n$. Given they are one-to-one and corresponding, therefore $z = z^R$."
      ],
      "metadata": {
        "id": "bguwR-LdYEKf"
      }
    },
    {
      "cell_type": "markdown",
      "source": [
        "**Answer 2.7(iv):**\n",
        "\n",
        "For alphabet {*a b*}, a palindrome of length $n$ is determined by its first ${\\lceil n/2 \\rceil}$ positions, each with 2 choices. Thus the number of palindromes of length $n$ is $2^{\\lceil n/2 \\rceil}$. For $n=3$ the length is $2$ and for $n=4$ the length is $2$, hence the same number of palindromes, which is $4$."
      ],
      "metadata": {
        "id": "a2c-mAtLZy0w"
      }
    },
    {
      "cell_type": "markdown",
      "source": [
        "---\n",
        "**Answer 2.7(v):**\n",
        "\n",
        "For alphabet {*a b*}, a palindrome of length $n$ is determined by its first ${\\lceil n/2 \\rceil}$ positions, each with 2 choices. Thus the number of palindromes of length $n$ is $2^{\\lceil n/2 \\rceil}$. For $n=2N$ the length is ${\\lceil 2N/2 \\rceil}$ and for $n=2N-1$ the length is ${\\lceil (2N-1)/2 \\rceil}$, but $2N/2=(2N-1)/2=N$ hence the same number of palindromes, which is $2^{\\lceil N \\rceil}$."
      ],
      "metadata": {
        "id": "vdjH4fP7beGd"
      }
    },
    {
      "cell_type": "markdown",
      "source": [
        "---\n",
        "**Problem 2.8:** Show that if the concatenation of two words (neither $Λ$) in PALINDROME is also a word in PALINDROME, then both words are powers of some other word; that is, if $x$ and $y$ and $xy$ are all in PALINDROME, then there is a word $z$ such that $x = z^{p}$  and $y = z^{q}$ for some integers $p$ and $q$ (maybe $p$ or $q = 1$).\n",
        "\n",
        "* $x = x^R$\n",
        "* $y = y^R$\n",
        "* $(xy) = (xy)^R = (y^Rx^R) = (yx)$\n",
        "  \n",
        "so $x$ and $y$ commute.\n",
        "\n",
        "We prove by induction on $|x|+|y|$ that if nonempty words $x,y$ commute, then there exists $z$ with $x=z^m$ and $y=z^n$ for some $m,n\\ge 1$.\n",
        "\n",
        "If $|x|=|y|$, then $xy=yx$ implies $x=y$, and taking $z=x$ gives the claim. Otherwise, without loss of generality $|x|>|y|$. Since $xy=yx$, the word $y$ is a prefix of $x$; write $x=yt$ for some (possibly empty) $t$. Substituting into $xy=yx$ yields\n",
        "\n",
        "$(yt)y = y(yt) \\;\\;\\Rightarrow\\;\\; yty = yyt \\;\\;\\Rightarrow\\;\\; ty=yt$,\n",
        "\n",
        "where we used left-cancellation in the free monoid. If $t=\\varepsilon$, then $x=y$ and we are done as before. If $t\\neq\\varepsilon$, then $t$ and $y$ are shorter nonempty words that commute, and $|t|+|y|<|x|+|y|$. By the induction hypothesis, there exists a word $z$ and integers $p,q\\ge 1$ such that $t=z^p$ and $y=z^q$. Hence\n",
        "\n",
        "$x=yt = z^q z^p = z^{p+q} \\quad\\text{and}\\quad y=z^q$,\n",
        "\n",
        "so taking $m=p+q$ and $n=q$ completes the proof.\n",
        "\n",
        "Thus, from $x,y,xy\\in$ PALINDROME with $x,y\\neq\\varepsilon$, we conclude that $x$ and $y$ are powers of a common word."
      ],
      "metadata": {
        "id": "3zMEj22iSSu9"
      }
    },
    {
      "cell_type": "markdown",
      "source": [
        "---\n",
        "**Problem 2.9:**\n",
        "* (i) Let $S$ = {*ab bb*} and let $T$ = {*ab bb bbbb*}. Show that $S^{*} = T^{*}$.\n",
        "* (ii) Let $S$ = {*ab bb*} and let $T$ = {*ab bb bbb*}. Show that $S^{*} \\neq T^{*}$, but that $S^{*} \\subset T^{*}$.\n",
        "* (iii) What principle does this illustrate?"
      ],
      "metadata": {
        "id": "8RBVUYALSS2T"
      }
    },
    {
      "cell_type": "markdown",
      "source": [
        "Proof that $S^{*} = T^{*}$\n",
        "\n",
        "Let $S =$ {*ab bb*}, $T =$ {*ab bb bbbb*}.\n",
        "\n",
        "By definition of the Kleene star:\n",
        "\n",
        "$\n",
        "A^{0} = \\{\\varepsilon\\},\n",
        "A^{n} = \\{x_{1}x_{2}\\cdots x_{n} \\mid x_{i} \\in A \\ \\text{for all } i\\},\n",
        "A^{*} = \\bigcup_{n \\ge 0} A^{n}.\n",
        "$\n",
        "\n",
        "1. $S^{*} \\subseteq T^{*}$\n",
        "\n",
        "Let $w \\in S^{*}$. Then $w \\in S^{n}$ for some $n \\ge 0$, so $w = s_{1}s_{2}\\cdots s_{n}\n",
        "\\quad\\text{with each } s_{i} \\in S$.\n",
        "\n",
        "Since $S \\subseteq T$, each $s_{i} \\in T$, hence $w \\in T^{n} \\subseteq T^{*}$.\n",
        "\n",
        "2. $T^{*} \\subseteq S^{*}$\n",
        "\n",
        "Let $w \\in T^{*}$. Then $w \\in T^{k}$ for some $k \\ge 0$, so $w = x_{1}x_{2}\\cdots x_{k} \\quad\\text{with each } x_{i} \\in T = \\{ab,\\, bb,\\, bbbb\\}$.\n",
        "\n",
        "We can rewrite each \\(x_{i}\\) as a sequence of elements from $S$:\n",
        "- If $x_{i} = ab$, replace it by $(ab)$.\n",
        "- If $x_{i} = bb$, replace it by $(bb)$.\n",
        "- If $x_{i} = bbbb$, note that $bbbb = (bb)(bb)$, so replace it by ($bb$ $bb$).\n",
        "\n",
        "Concatenating all these replacements yields $w = y_{1}y_{2}\\cdots y_{m}\\quad\\text{with each } y_{j} \\in S$.\n",
        "\n",
        "Thus $w \\in S^{m} \\subseteq S^{*}$.\n",
        "\n",
        "3. Since $S^{*} \\subseteq T^{*}$ and $T^{*} \\subseteq S^{*}$, we have $S^{*} = T^{*}$."
      ],
      "metadata": {
        "id": "_c_dENrolTG-"
      }
    },
    {
      "cell_type": "markdown",
      "source": [
        "---\n",
        "**Problem 2.10:** How does the situation in Problem 9 change if we replace the operator $^{*}$ with the operator $^{+}$ as defined in this chapter? Note the language $S^{+}$ means the same same $S^{*}$, but does not allow the \"concatenation of no words\" of $S$.\n",
        "\n",
        "**Answer 2.10:**\n",
        "No changes in the the equalities and inclusions."
      ],
      "metadata": {
        "id": "xTE0gDaMSTzs"
      }
    },
    {
      "cell_type": "markdown",
      "source": [
        "---\n",
        "**Problem 2.11:** Prove that for all sets $S$,\n",
        "* (i) $(S^{+})^{*} = (S^{*})^{*}$\n",
        "* (ii) $(S^{+})^{+} = S^{+}$\n",
        "* (iii) Is $(S^{*})^{+} = (S^{+})^{*}$ for all sets $S$?\n",
        "\n",
        "**Answer 2.11:**\n",
        "\n",
        "* (i) $(S^+)^*$ includes $Λ$ even if $S$ does not, so $(S^+)^*=S^*$. $S^*=S^**$ by Theorem 1.\n",
        "* (ii) There can be no factor in $S$ that is not in $S^+$, $(S^+)^+ \\subseteq S^+$. In general any set is contained in its positive closure $S^+ \\subseteq (S^+)^+$. Therefore, $(S^+)^+ = S^+$.\n",
        "* (iii) Yes."
      ],
      "metadata": {
        "id": "pAvrSU_pST8D"
      }
    },
    {
      "cell_type": "markdown",
      "source": [
        "---\n",
        "**Problem 2.12:** Let $S$ = {*a bb bab abaab*}.\n",
        "1. Is *abbabaabab* in $S^{*}$?\n",
        "2. Is *abaabbabbaabb*?\n",
        "3. Does any word in $S^{*}$ have an odd total number of *b*'s?\n",
        "\n",
        "**Answer 2.12:**\n",
        "\n",
        "1. No.\n",
        "2. No.\n",
        "3. No."
      ],
      "metadata": {
        "id": "biQzrBMASUBH"
      }
    },
    {
      "cell_type": "markdown",
      "source": [
        "---\n",
        "**Problem 2.13:** Suppose that for some language $L$ we can always concatenate two words in $L$ and get another word in $L$, if and only if the words are not the same. That is, for any words $w_{1}$ and $w_{2}$ in L where $w_{1} \\neq w_{2}$, the word $w_{1}$$w_{2}$ is in $L$ but the word $w_{1}$$w_{1}$ is not in $L$. Prove that this cannot happen.\n",
        "\n",
        "**Answer 2.13:** This is the same as saying that the language L would allow all concatenations that did not produce squares. First observe that Λ = ΛΛ, so Λ cannot be in the language. Consider $w_1 \\neq w_2 $ and $ w_1w_2 \\in L$. Let $w_3 = w_1w_2$, since $Λ \\notin L$, $w_3 \\neq w_2$, so $w_4 = w_2w_3 \\in L$ where $w_4 \\neq w_1$, finally let $w_5 = w_1w_4 \\in L$. However, $w5 = w_1w_2w_1w_2 = w_3w_3$ which is square, so $w_5 \\notin L$."
      ],
      "metadata": {
        "id": "LTJB8dK3SUGV"
      }
    },
    {
      "cell_type": "markdown",
      "source": [
        "---\n",
        "**Problem 2.14:** Let us define $(S^{**})^{*} = S^{***}$.\n",
        "\n",
        "1. Is this set bigger than $S^{*}$?\n",
        "2. Is it bigger that $S$?\n",
        "\n",
        "**Answer 2.14:**\n",
        "\n",
        "1. No. $(S^{**})^{*} = (S^{*})^{*} = S^{*}$ by Theorem 1.\n",
        "2. It is often bigger than $S$."
      ],
      "metadata": {
        "id": "agyC7aWkSULD"
      }
    },
    {
      "cell_type": "markdown",
      "source": [
        "---\n",
        "**Problem 2.15:** Let $w$ be a string of letters and let the language $T$ be defined by adding $w$ to the language $S$. Suppose further that $T^{*} = S^{*}$.\n",
        "* (i) Is it necessarily true that $w \\in S$?\n",
        "* (ii) Is it necessarily true that $w \\in S^{*}$?\n",
        "\n",
        "**Answer 2.15:**\n",
        "* (i) no\n",
        "* (ii) yes, $T = S + \\{w\\} \\implies w \\in T \\implies w \\in T^*$ and $T^* = S^* \\implies w \\in S^*$."
      ],
      "metadata": {
        "id": "H7MyZqY-SUPx"
      }
    },
    {
      "cell_type": "markdown",
      "source": [
        "---\n",
        "**Problem 2.16:** Give an example of a set $S$ such that the language $S^{*}$ has more six-letter words than eight-letter words. Does there exists an $S^{*}$ such that it has more six-letter words that twelve-letter words?\n",
        "\n",
        "**Answer 2.16:**\n",
        "Let $S = $ {*aaa*}, $S^*$ has one six-letter word and no seven-letter words and no eight-letter words. However, it is impossible for $S^*$ for $S$ to contain more six-letter words that twelve-letter words, because for every six-letter word $w$ there is a twelve-letter word $ww$ in $S^*$."
      ],
      "metadata": {
        "id": "x5wICglTSUU-"
      }
    },
    {
      "cell_type": "markdown",
      "source": [
        "---\n",
        "**Problem 2.17:**\n",
        "* (i) Consider the language $S^{*}$, where $S$ = {*aa ab ba bb*}. Give another description of this language.\n",
        "* (ii) Give an example of a set $S$ such that $S^{*}$ *only* contains all possible strings of *a*'s and *b*'s that have length divisible by 3.\n",
        "* (iii) Let S be all strings of *a*'s and *b*'s with odd length. What is $S^{*}$?\n",
        "\n",
        "**Answer 2.17:**\n",
        "- (i) All words over $Σ =$ {*a b*} of even length.\n",
        "- (ii) $S =$ {*aaa aab aba abb baa bab bba bbb*}\n",
        "- (iii) All strings of *a*'s and *b*'s except Λ"
      ],
      "metadata": {
        "id": "ojXwNd_HSUZ9"
      }
    },
    {
      "cell_type": "markdown",
      "source": [
        "---\n",
        "**Problem 2.18:**\n",
        "* (i) If $S =$ {*a b*} and $T^{*} = S^{*}$, prove that $T$ must contain $S$.\n",
        "* (ii) Find another pair of sets $S$ and $T$ such that if $T^{*} = S^{*}$, then $S \\subset T$.\n",
        "\n",
        "**Answer 2.18:**\n",
        "- (i) $S^*$ and $T^*$ both represent the set of all strings of *a*'s *b*'s. Therefore $T$ must include at least the words *a* and *b*, which is the set $S$.\n",
        "- (ii) $S =$ {*a bb*}, $T =$ {*a aa bb*}."
      ],
      "metadata": {
        "id": "tARV7x_bSUfD"
      }
    },
    {
      "cell_type": "markdown",
      "source": [
        "---\n",
        "**Problem 2.19:** One student suggested the following algorithm to test a string of *a*'s and *b*'s to see if it is a word in $S^{*}$, where $S =$ {*aa ba aba abaab*}.\n",
        "* Step 1, cross off the longest set of characters from the front of the string that is a word in $S$.\n",
        "* Step 2, repeat step 1 until it is no longer possible. If what remains is the string $Λ$, the original string was a word in $S^{*}$. If what remains is not $Λ$ (this means that some letters are left, but we cannot find a word in $S$ at the beginning), the original string was not a word in $S^{*}$. Find a string that disproves this algorithm.\n",
        "\n",
        "**Answer 2.19:**\n",
        "The word *abaaba* disproves the algorithm."
      ],
      "metadata": {
        "id": "RlFXX-J2SUkA"
      }
    },
    {
      "cell_type": "markdown",
      "source": [
        "---\n",
        "**Problem 2.20:** A language $L_1$ is smaller than another language $L_2$ if $L_1 \\subset L_2$ and $L_1 \\neq L_2$. Let $T$ be any language closed under concatenation; that is, if $t_1 \\in T$ and $t_2 \\in T$, then $t_1t_2$ is also an element of $T$. Show that if $T$ contains $S$ but $T \\neq S^{*}$, then $S^{*}$ is smaller that $T$. We can summarize this by saying that $S^{*}$ is the smallest closed language containing $S$.\n",
        "\n",
        "**Answer 2.20:**\n",
        "Since $T$ is closed and $S \\subset T$, any factors in $S$ concatentated together two at a time will be a word in $T$. Likewise concatentating factors in $S$ any number of times produces a word in $T$. That is any word in $S^*$ is also in $T$. However we are given that $T \\neq S^*$ so $T$ contains some words not in $S^*$. We can conclude that $S^*$ is a proper subset of $T$, in other words $S^*$ is smaller that $T$, and in symbols $S^* \\subset T$."
      ],
      "metadata": {
        "id": "CLDDHKmISsTW"
      }
    },
    {
      "cell_type": "markdown",
      "source": [
        "---\n",
        "**Chapter 3: Recursive Definitions**\n",
        "\n",
        "1. Write a recursive definition given a statement of the language\n",
        "2. Prove a recursive definition correctly specifies the stated language\n",
        "3. Show derivation chain (*x*) or tree(*x* and *y*) for instance of proof using recursive definition\n",
        "4. Given a recursive definition of a language, prove a certain characteristic\n",
        "5. Give a recursive definition, list the invalid substrings of length 2 or 3\n",
        "6. Given a recursive definition, determine cardinalities based on combinations and permutations"
      ],
      "metadata": {
        "id": "ZZdolncsclDu"
      }
    },
    {
      "cell_type": "markdown",
      "source": [
        "---\n",
        "**Problem 3.1:**\n",
        "Write another recursive definition for the language $L_1$ of Chapter 2.\n",
        "\n",
        "$L_1 = \\{x\\}^+$\n",
        "\n",
        "**Answer 3.1:**\n",
        "\n",
        "* Rule 1: $x$ is in $L_1$.\n",
        "* Rule 2: If $w$ is in $L_1$, then so is $wx$."
      ],
      "metadata": {
        "id": "RuO9gQlFqX41"
      }
    },
    {
      "cell_type": "markdown",
      "source": [
        "---\n",
        "**Problem 3.2:**\n",
        "Using the second recursive definition of the set EVEN, how many different ways can we prove that 14 is in EVEN?\n",
        "* Rule 1: 2 is in EVEN.\n",
        "* Rule 2: If *x* and *y* are both in EVEN, then so is $x+y$.\n",
        "\n",
        "**Answer 3.2:**\n",
        "\n",
        "* 2+2=4\n",
        "  * 2+4=6\n",
        "    * 2+6=8\n",
        "      * 2+8=10\n",
        "        * 2+10=12\n",
        "          * **2+12=14**\n",
        "        * **4+10=14**\n",
        "      * 4+8=12\n",
        "        * **2+12=14**\n",
        "      * **6+8=14**\n",
        "    * 4+6=10\n",
        "      * 2+10=12\n",
        "        * **2+12=14**\n",
        "      * **4+10=14**\n",
        "    * 6+6=12\n",
        "      * **2+12=14**\n",
        "  * 4+4=8\n",
        "    * 2+8=10\n",
        "      * 2+10=12\n",
        "        * **2+12=14**\n",
        "      * **4+10=14**\n",
        "    * 4+8=12\n",
        "      * **2+12=14**\n",
        "    * **6+8=14**"
      ],
      "metadata": {
        "id": "RG5x_ccxqgcU"
      }
    },
    {
      "cell_type": "markdown",
      "source": [
        "---\n",
        "**Problem 3.3:**\n",
        "Using the second recursive definition of EVEN.\n",
        "* What is the smallest number of steps required to prove that 100 is EVEN?\n",
        "* Describe a good method for showing that $2n$ is in EVEN.\n",
        "\n",
        "**Answer 3.3:**\n",
        "- 2, 2+2=4, 4+4=8, 8+8=16, 16+16=32, 32+32=64, 64+32=96, 96+4=100, eight steps\n",
        "- Continue doubling until overreach. Back up one. Continue adding highest value in set which will not cause overreach. Repeat until target is reached."
      ],
      "metadata": {
        "id": "pJAwJ1zjqg9a"
      }
    },
    {
      "cell_type": "markdown",
      "source": [
        "---\n",
        "**Problem 3.4:**\n",
        "Show that the following is another recursive definition of the set EVEN:\n",
        "* Rule 1: 2 and 4 are in EVEN\n",
        "* Rule 2: If $x$ is in EVEN, then so is $x + 4$."
      ],
      "metadata": {
        "id": "7VjOcp1wqhHA"
      }
    },
    {
      "cell_type": "markdown",
      "source": [
        "**Answer 3.4:**\n",
        "\n",
        "We define the set $E$ recursively as follows:\n",
        "\n",
        "1. **Base cases:** $2 \\in E$ and $4 \\in E$.\n",
        "2. **Recursive step:** If $x \\in E$, then $x + 4 \\in E$.\n",
        "\n",
        "**Step 1: Show $E \\subseteq \\text{EVEN}$.**\n",
        "\n",
        "We proceed by structural induction on the definition of $E$:\n",
        "\n",
        "- **Base cases:** $2$ and $4$ are even numbers.\n",
        "- **Inductive step:** Assume $x$ is even. Then $x + 4$ is also even, since the sum of two even numbers is even.\n",
        "\n",
        "Thus, every element of $E$ is even.\n",
        "\n",
        "**Step 2: Show $\\text{EVEN} \\subseteq E$.**\n",
        "\n",
        "Let $n$ be an even integer with $n \\ge 2$.\n",
        "\n",
        "We can write $n$ as either $n = 2 + 4k \\quad \\text{or} \\quad n = 4 + 4k \\quad$ for some integer $k \\ge 0$.\n",
        "\n",
        "- If $n = 2$ or $n = 4$, then $n \\in E$ by the base cases.\n",
        "- If $n > 4$, then $n - 4$ is even and $\\ge 2$.  \n",
        "  By the induction hypothesis, $n - 4 \\in E$, and by the recursive step, $n \\in E$.\n",
        "\n",
        "**Step 3: Conclusion**\n",
        "\n",
        "We have shown: $E \\subseteq \\text{EVEN} \\quad \\text{and} \\quad \\text{EVEN} \\subseteq E$\n",
        "\n",
        "Therefore: $E = \\{ n \\in \\mathbb{N} \\mid n \\text{ is even and } n \\ge 2 \\}$."
      ],
      "metadata": {
        "id": "ylZX10ZVumvQ"
      }
    },
    {
      "cell_type": "markdown",
      "source": [
        "---\n",
        "**Problem 3.5:**\n",
        "Show that there are infinitely many different recursive definitions for the set EVEN."
      ],
      "metadata": {
        "id": "Ncg5YPzSqhP2"
      }
    },
    {
      "cell_type": "markdown",
      "source": [
        "**Answer 3.5:**\n",
        "\n",
        "$\n",
        "\\textbf{Theorem:} \\quad\n",
        "\\text{There are infinitely many distinct recursive definitions of the set } \\mathrm{EVEN}.\n",
        "$\n",
        "\n",
        "$\n",
        "\\textbf{Definition for a fixed } k \\ge 1:\n",
        "\\quad\n",
        "\\begin{cases}\n",
        "\\text{Base cases:} & 2, 4, \\dots, 2k \\in E_k, \\\\\n",
        "\\text{Recursive step:} & x \\in E_k \\ \\Rightarrow\\ x + 2k \\in E_k.\n",
        "\\end{cases}\n",
        "$\n",
        "\n",
        "$\\textbf{Claim:} \\quad E_k = \\mathrm{EVEN} \\quad \\text{for all } k \\ge 1.$\n",
        "\n",
        "$\\textit{Proof:}$\n",
        "\n",
        "$\\text{(1) Soundness: All base elements are even. Adding $2k$ preserves evenness, so } E_k \\subseteq \\mathrm{EVEN}.$\n",
        "\n",
        "$\n",
        "\\text{(2) Completeness: Let $n \\ge 2$ be even. Write $n = 2q$. By the division algorithm,}\n",
        "$\n",
        "\n",
        "$$q = kq' + j, \\quad \\text{with } q' \\ge 0, \\ j \\in \\{1,2,\\dots,k\\}.$$\n",
        "\n",
        "$\\text{Then } n = 2j + 2kq'. \\ \\text{Since $2j$ is a base element and we can add $2k$ repeatedly, } n \\in E_k.$\n",
        "\n",
        "$$\\therefore \\ E_k = \\mathrm{EVEN} \\ \\text{for all } k \\ge 1.$$\n",
        "\n",
        "$$\n",
        "\\textbf{Infinitely many definitions:} \\quad\n",
        "\\text{Different $k$ give different base sets and step sizes, so the rules differ.}\n",
        "$$\n",
        "\n",
        "$\\text{Since $k$ can be any positive integer, there are infinitely many such recursive definitions.}$"
      ],
      "metadata": {
        "id": "FfTBMw6kw5o6"
      }
    },
    {
      "cell_type": "markdown",
      "source": [
        "---\n",
        "**Problem 3.6:**\n",
        "Using any recursive definition of the set EVEN, show that all the numbers in it end in the digits 0, 2, 4, 6, or 8."
      ],
      "metadata": {
        "id": "_GBO3DO2qhYk"
      }
    },
    {
      "cell_type": "markdown",
      "source": [
        "**Answer 3.6:**\n",
        "\n",
        "We define the set $\\mathrm{EVEN}$ recursively as:\n",
        "\n",
        "1. **Base case:** $2 \\in \\mathrm{EVEN}$.\n",
        "2. **Recursive step:** If $x \\in \\mathrm{EVEN}$, then $x + 2 \\in \\mathrm{EVEN}$.\n",
        "3. **Closure:** No other elements are in $\\mathrm{EVEN}$.\n",
        "\n",
        "**Claim:** Every $n \\in \\mathrm{EVEN}$ ends with digit $0, 2, 4, 6,$ or $8$.\n",
        "\n",
        "**Proof (structural induction):**\n",
        "\n",
        "**Base case:**  \n",
        "$2$ ends with digit $2 \\in \\{0,2,4,6,8\\}$.\n",
        "\n",
        "**Inductive step:**  \n",
        "Assume $x$ ends with digit $d \\in \\{0,2,4,6,8\\}$.  \n",
        "Consider $x + 2$:\n",
        "\n",
        "$$\n",
        "\\begin{aligned}\n",
        "d &= 0 \\implies d+2 = 2, \\\\\n",
        "d &= 2 \\implies d+2 = 4, \\\\\n",
        "d &= 4 \\implies d+2 = 6, \\\\\n",
        "d &= 6 \\implies d+2 = 8, \\\\\n",
        "d &= 8 \\implies d+2 = 10 \\ (\\text{last digit } 0).\n",
        "\\end{aligned}\n",
        "$$\n",
        "\n",
        "In each case, the last digit remains in $\\{0,2,4,6,8\\}$.\n",
        "\n",
        "**Conclusion:**  \n",
        "By induction, all elements of $\\mathrm{EVEN}$ have last digit in $\\{0,2,4,6,8\\}$."
      ],
      "metadata": {
        "id": "mYTHTc5wz1rJ"
      }
    },
    {
      "cell_type": "markdown",
      "source": [
        "---\n",
        "**Problem 3.7:**\n",
        "The set POLYNOMIAL defined in this chapter contains only the polynomials in the one variable $x$. Write a recursive definition for the set of all polynomials in the two variables $x$ and $y$.\n",
        "\n",
        "* Rule 1: Any number is in POLYNOMIAL.\n",
        "* Rule 2: The variable *x* is in POLYNOMIAL.\n",
        "* Rule 3: If *p* and *q* are in POLYNOMIAL, then so are $p+q$, $p-q$, $(p)$, and $pq$.\n",
        "\n",
        "**Answer 3.7:**\n",
        "\n",
        "- Rule 1: Any number is in POLYNOMIAL.\n",
        "- Rule 2: The variable *x* or *y* is in POLYNOMIAL.\n",
        "- Rule 3: If *p* and *q* are in POLYNOMIAL, then so are $p+q$, $p-q$, $(p)$, and $pq$."
      ],
      "metadata": {
        "id": "zarLWO0iqhg6"
      }
    },
    {
      "cell_type": "markdown",
      "source": [
        "---\n",
        "**Problem 3.8:**\n",
        "Define the set of valid algebraic expressions ALEX as follows:\n",
        "* Rule 1: All polynomials are in ALEX.\n",
        "* Rule 2: If $f(x)$ and $g(x)$ are in ALEX, then so are:\n",
        "* (i) $(f(x))$\n",
        "* (ii) $-(f(x))$\n",
        "* (iii) $f(x) + g(x)$\n",
        "* (iv) $f(x) - g(x)$\n",
        "* (v) $f(x)g(x)$\n",
        "* (vi) $f(x)/g(x)$\n",
        "* (vii) $f(x)^{g(x)}$\n",
        "* (viii) $f(g(x))$\n",
        "\n",
        "- (a) Show that $(x + 2)^{3x}$ is in ALEX.\n",
        "- (b) Show that elementary calculus contains enough rules to prove the theorem that all algebraic expressions can be differentiated.\n",
        "- (c) Is Rule 2(viii) really necessary?\n",
        "\n",
        "**Answer 3.8:**\n",
        "\n",
        "- (a) Steps for proof:\n",
        "  - *Rule 1.2:* $x$\n",
        "  - *Rule 1.1:* $2$\n",
        "  - *Rule 1.1:* $3$\n",
        "  - *Rule 1.3:* $x+2$\n",
        "  - *Rule 1.3:* $(x+2)$\n",
        "  - *Rule 1.3:* $3x$\n",
        "  - *Rule 2:* $(x+2)^{3x}$\n",
        "- (b) Rules of differentiation exists for all unary and binary operators of POLYNOMIAL.\n",
        "- (c) No."
      ],
      "metadata": {
        "id": "t8N9AdIGqhm_"
      }
    },
    {
      "cell_type": "markdown",
      "source": [
        "---\n",
        "**Problem 3.9:**\n",
        "* Using the fact that $3x^2 + 7x - 9 = (((((3)x) + 7)x) - 9)$, show how to produce this polynomial from the rules for POLYNOMIAL using multiplication only twice.\n",
        "* What is the smallest number of steps needed for producing $x^8 + x^4$?\n",
        "* What is the smallest number of steps needed for producing $7x^7 + 5x^5 + 3x^3 + x$?\n",
        "\n",
        "**Answer 3.9:**\n",
        "- The product of $(3)$ and $x$, and the product of $(((3)x) + 7)$ and $x$.\n",
        "- Steps: $x$, $8$, $4$, $x^8$, $x^4$, $x^8 + x^4$, six steps.\n",
        "- Steps:\n",
        "  - 1: $7$\n",
        "  - 2: $x$\n",
        "  - 3: $5$\n",
        "  - 4: $3$\n",
        "  - 5: $x^7$\n",
        "  - 6: $x^5$\n",
        "  - 7: $x^3$\n",
        "  - 8: $7x^7 + 5x^5$\n",
        "  - 9: $7x^7 + 5x^5 + 3x^3$\n",
        "  - 10: $7x^7 + 5x^5 + 3x^3 + x$"
      ],
      "metadata": {
        "id": "RH34dcXuqhse"
      }
    },
    {
      "cell_type": "markdown",
      "source": [
        "---\n",
        "**Problem 3.10:**\n",
        "Show that if $n$ is less that 31, then $x^n$ can be shown to be in POLYNOMIAL in fewer that eight steps.\n",
        "\n",
        "**Answer 3.10:**"
      ],
      "metadata": {
        "id": "1P9Q3kWzqhxr"
      }
    },
    {
      "cell_type": "markdown",
      "source": [
        "---\n",
        "**Problem 3.11:**\n",
        "In this chapter, we mentioned several substrings of length 2 that cannot occur in arithmetic expressions, such as *(/*, *+)*, *//*, and *\\*/*. What is the complete list of substrings of length 2 that cannot occur?\n",
        "\n",
        "**Answer 3.11:**\n",
        "- *++* *-+* *\\*+* */+* *(+*\n",
        "- *)(* *+\\** *-\\** */\\** *(\\**\n",
        "- *+/* *-/* *\\*/* *//* *(/*\n",
        "- *+)* *-)* *\\*)* */)* *()*"
      ],
      "metadata": {
        "id": "5v-TtwKtqh2h"
      }
    },
    {
      "cell_type": "markdown",
      "source": [
        "---\n",
        "**Problem 3.12:**\n",
        "Are there any substrings of length 3 that cannot occur that do not contain forbidden substrings of length 2? (This means that *///* is already known to be illegal because it contains the forbidden substring *//*.) What is the longest forbidden substring that does not contain a shorter forbidden substring?\n",
        "\n",
        "**Answer 3.12:**\n",
        "Yes. *+--* *---* *\\*--* */--* *(--* *\\*\\*\\**"
      ],
      "metadata": {
        "id": "2bNLHWPFqh7P"
      }
    },
    {
      "cell_type": "markdown",
      "source": [
        "---\n",
        "**Problem 3.13:**\n",
        "The rules given earlier for the set AE allow for the peculiar expressions\n",
        "\n",
        "$(((((9)))))$ and $-(-(-(-(9))))$\n",
        "\n",
        "It is not really harmful to allow these in AE, but is there some modified definition of AE that eliminates this problem?\n",
        "\n",
        "**Answer 3.13:** Yes, but with some difficulty. Though, it's almost always better to remove the redunancies and equivalencies in a later processing step."
      ],
      "metadata": {
        "id": "OgXVY8zxqiAl"
      }
    },
    {
      "cell_type": "markdown",
      "source": [
        "---\n",
        "**Problem 3.14:**\n",
        "* (i) Write out the full recursive definition for the propositional calculus that contains the symbols $\\vee$ and $\\wedge$ as well as $¬$ and $→$.\n",
        "* (ii) What are all the forbidden substrings of length 2 in this language?\n",
        "\n",
        "**Answer 3.14:**\n",
        "- (i) PROPCALC is defined as\n",
        "  - Rule 1: Any letter is in PROPCALC.\n",
        "  - Rule 2: If *x* and *y* are in PROPCALC, then so are the following:\n",
        "    - $¬x$\n",
        "    - $(x)$\n",
        "    - $x\\vee y$\n",
        "    - $x\\wedge y$\n",
        "    - $x→y$\n",
        "\n",
        "- (ii) 22 forbidden substrings of length 2\n",
        "  - $)($, $)¬$\n",
        "  - $()$, $(\\vee$, $(\\wedge$, $(→$\n",
        "  - $¬)$, $¬\\vee$, $¬\\wedge$, $¬→$\n",
        "  - $\\vee)$, $\\vee\\vee$, $\\vee\\wedge$, $\\vee →$\n",
        "  - $\\wedge)$, $\\wedge\\vee$, $\\wedge\\wedge$, $\\wedge →$\n",
        "  - $→)$, $→\\vee$, $→\\wedge$, $→→$"
      ],
      "metadata": {
        "id": "m4-OaDXyqiFi"
      }
    },
    {
      "cell_type": "markdown",
      "source": [
        "---\n",
        "**Problem 3.15:**\n",
        "* (i) When asked to give a recursive definition for the language PALINDROME over the alphabet $Σ = \\{a\\, b\\}$, a student wrote:\n",
        "  * Rule 1: *a* and *b* are in PALINDROME\n",
        "  * Rule 2: If *x* is in PALINDROME, then so are *axa* and *bxb*.\n",
        "\n",
        "Unfortunately, all the words in the language defined above have an odd length and so it is not all of PALINDROME.\n",
        "* (i)  Fix this problem.\n",
        "* (ii) Give a recursive definition for the language EVEN_PALINDROME of all palindromes of even length.\n",
        "\n",
        "**Answer 3.15:**\n",
        "\n",
        "- (i) PALINDROME is defined as\n",
        "  - Rule 1: *a*, *b*, and $Λ$ are in PALINDROME\n",
        "  - Rule 2: If *x* is in PALINDROME, then so are $xx$, $axa$, and $bxb$.\n",
        "\n",
        "- (ii) EVEN_PALINDROME is define as\n",
        "  - Rule 1: *aa*, *bb* are in EVEN_PALINDROME\n",
        "  - Rule 2: If *x* is in EVEN_PALINDROME, then so are $axa$ and $bxb$."
      ],
      "metadata": {
        "id": "26lape21qiKo"
      }
    },
    {
      "cell_type": "markdown",
      "source": [
        "---\n",
        "**Problem 3.16:**\n",
        "* (i) Give a recursive definition for the set $ODD = \\{1\\, 3\\, 5\\, 7\\, ...\\}$.\n",
        "* (ii) Give a recursive definition for the set of strings of digits 0, 1, 2, 3, ..., 9 that cannot start with the digit 0.\n",
        "\n",
        "**Answer 3.16:**\n",
        "- $ODD$ is defined as\n",
        "  - Rule 1: 1 is in $ODD$\n",
        "  - Rule 2: If *x* is in $ODD$, then so is $x + 2$.\n",
        "\n",
        "- $DIGITS$ is defined as\n",
        "  - Rule 1: $\\{1\\,2\\,3\\,4\\,5\\,6\\,7\\,8\\,9\\} \\subset DIGITS$.\n",
        "  - Rule 2: If $x$ and $y$ are in $DIGITS$, then so is $x0$ and $xy$."
      ],
      "metadata": {
        "id": "0m_8i1orqiQW"
      }
    },
    {
      "cell_type": "markdown",
      "source": [
        "---\n",
        "**Problem 3.17:**\n",
        "In this chapter we attempted to define the positive numbers by the following rules:\n",
        "* Rule 1: 1 is in $L$\n",
        "* Rule 2: If $x$ and $y$ are in $L$, Then so are $x+y$, $x*y$, and $x/y$.\n",
        "\n",
        "The language $L$ defined in this way is a famous mathematical set.\n",
        "* (i) What is it?\n",
        "* (ii) Prove it.\n",
        "\n",
        "**Answer 3.17:**\n",
        "- (i) The set of positive rational numbers.\n",
        "- (ii) The additional operator gives the positive natural numbers. The division operators gives the fractional rational numbers."
      ],
      "metadata": {
        "id": "LRVVtvbQqiVU"
      }
    },
    {
      "cell_type": "markdown",
      "source": [
        "---\n",
        "**Problem 3.18:**\n",
        "Give two recursive definitions for the set POWERS-OF-TWO $= \\{1\\, 2\\, 4\\, 8\\, 16\\, ...\\}$.\n",
        "\n",
        "Use one of them to prove that the product of two POWERS-OF-TWO is also a POWERS-OF-TWO.\n",
        "\n",
        "**Answer 3.18:**\n",
        "\n",
        "- $POWERS\\_OF\\_TWO$ is defined as\n",
        "  - Rule 1: $1 \\in POWERS\\_OF\\_TWO$\n",
        "  - Rule 2: $x \\in POWERS\\_OF\\_TWO \\implies 2x \\in POWERS\\_OF\\_TWO$\n",
        "\n",
        "Claim: $x, y \\in POWERS\\_OF\\_TWO \\implies x*y \\in POWERS\\_OF\\_TWO$\n",
        "\n",
        "Proof:\n",
        "\n",
        "Given $x, y \\in POWERS\\_OF\\_TWO$.\n",
        "\n",
        "Recall $x=2^m$ and $y=2^n$, for some m, n.\n",
        "\n",
        "So $x*y = 2^m2^n = 2^{m+n}$, a power of 2.\n",
        "\n",
        "$\\therefore x*y \\in POWERS\\_OF\\_TWO$."
      ],
      "metadata": {
        "id": "oSLX83Vzqiaa"
      }
    },
    {
      "cell_type": "markdown",
      "source": [
        "---\n",
        "**Problem 3.19:**\n",
        "Give recursive definitions for the the following languages over the alphabet $\\{a\\, b\\}$:\n",
        "* (i) The language EVENSTRING of all words of even length.\n",
        "* (ii) The language ODDSTRING of all words of odd length.\n",
        "* (iii) The language AA of all words containing the substring *aa*.\n",
        "* (iv)  The language NOTAA of all words not containing the substring *aa*.\n",
        "\n",
        "**Answer 3.19:**\n",
        "- (i) $EVENSTRING$ is defined as\n",
        "  - Rule 1: $Λ \\in EVENSTRING.$\n",
        "  - Rule 2: $w \\in EVENSTRING \\implies waa$, $wab$, $wba$, $wbb \\in EVENSTRING$.\n",
        "- (ii) $ODDSTRING$ is defined as\n",
        "  - Rule 1: $a, b \\in ODDSTRING$.\n",
        "  - Rule 2: $w \\in ODDSTRING \\implies waa$, $wab$, $wba$, $wbb \\in ODDSTRING$.\n",
        "- (iii) $AA$ is defined as\n",
        "  - Rule 1: $aa \\in AA$.\n",
        "  - Rule 2: $w \\in AA \\implies wa, aw, wb, bw \\in AA$.\n",
        "- (iv) $NOTAA$ is defined as\n",
        "  - Rule 1: $Λ, a, b \\in NOTAA$.\n",
        "  - Rule 2: $w \\in NOTAA \\implies wb, wba \\in NOTAA$."
      ],
      "metadata": {
        "id": "HsMt9joeqifX"
      }
    },
    {
      "cell_type": "markdown",
      "source": [
        "---\n",
        "**Problem 3.20:**\n",
        "* (i) Consider the following recursive definition of 3-PERMUTATION:\n",
        "  * Rule 1: 123 is a 3-PERMUTATION.\n",
        "  * Rule 2: If *xyz* is a 3-PERMUTATION, then so are *zyx* and *yzx*.\n",
        "\n",
        "  Show that there are six different 3-PERMUTATIONs.\n",
        "\n",
        "* (ii)\n",
        "  * Rule 1: 1234 is a 4-PERMUTATION.\n",
        "  * Rule 2: If *xyzw* is a 4-PERMUTATION, then so are *wzyx* and *yzwx*.\n",
        "\n",
        "  How many 4-PERMUTATIONs are there (by this definition)?\n",
        "\n",
        "**Answer 3.20:**\n",
        "- (i) 123, 321, 231, 213, 312, 132\n",
        "- (ii) 1234, 4321, 2341, 3214, 1432, 3412, 4123, 2143"
      ],
      "metadata": {
        "id": "Q6bo3MI-qikm"
      }
    },
    {
      "cell_type": "code",
      "source": [
        "def derivations(n):\n",
        "    if n == 1:\n",
        "        return [\"1\"]\n",
        "    results = []\n",
        "    for a in range(1, n):\n",
        "        b = n - a\n",
        "        if a > b:\n",
        "            break\n",
        "        for left in derivations(a):\n",
        "            for right in derivations(b):\n",
        "                if a == b:\n",
        "                    if left > right:\n",
        "                        continue\n",
        "                results.append(f\"{a}[{left}] + {b}[{right}]\")\n",
        "    return results\n",
        "\n",
        "n = 7\n",
        "seq = derivations(n)\n",
        "print(f\"Derivations for {n} (total {len(seq)} ways):\")\n",
        "for i, d in enumerate(seq, 1):\n",
        "    print(f\"{i}. {d}\")"
      ],
      "metadata": {
        "id": "X7qo157QFise"
      },
      "execution_count": null,
      "outputs": []
    },
    {
      "cell_type": "code",
      "source": [
        "from functools import lru_cache\n",
        "\n",
        "@lru_cache(None)\n",
        "def count_proofs(n):\n",
        "    if n == 1:\n",
        "        return 1\n",
        "    total = 0\n",
        "    for a in range(1, n):\n",
        "        b = n - a\n",
        "        if a > b:\n",
        "            break\n",
        "        if a == b:\n",
        "            total += (count_proofs(a) * (count_proofs(a) + 1)) // 2\n",
        "        else:\n",
        "            total += count_proofs(a) * count_proofs(b)\n",
        "    return total\n",
        "\n",
        "for n in range(1, 16):\n",
        "    print(f\"{n}: {count_proofs(n)} proofs\")"
      ],
      "metadata": {
        "id": "1PHSxS_pF7Sf"
      },
      "execution_count": null,
      "outputs": []
    },
    {
      "cell_type": "markdown",
      "source": [
        "---\n",
        "**Chapter 4: Regular Expressions**"
      ],
      "metadata": {
        "id": "1LZyeIBk83-U"
      }
    },
    {
      "cell_type": "markdown",
      "source": [
        "---\n",
        "**Problem 4.1:**\n",
        "Let $r_1$, $r_2$, and $r_3$ be three regular expressions.\n",
        "Show that the language associated with $(r_1+r_2)r_3$ is the same as the language associated with $r_1r_3+r_2r_3$.\n",
        "Show that $r_1(r_2+r_3)$ is equivalent to $r_1r_2+r_1r_3$.\n",
        "This will be the same as proving a \"distributive law\" for regular expressions.\n",
        "\n",
        "**Answer 4.1:**"
      ],
      "metadata": {
        "id": "6FPuVlaz9J4n"
      }
    },
    {
      "cell_type": "markdown",
      "source": [
        "Let $L(r)$ be the language denoted by the regular expression $r$.\n",
        "\n",
        "- Union: $L(r_1 + r_2) = L(r_1) \\cup L(r_2)$\n",
        "- Concatenation: $L(r_1 r_2) = \\{\\, xy \\mid x \\in L(r_1),\\ y \\in L(r_2) \\,\\}$\n",
        "\n",
        "Claim: $$L\\big((r_1 + r_2) r_3\\big) = L(r_1 r_3) \\cup L(r_2 r_3).$$\n",
        "\n",
        "Proof:\n",
        "- ($\\subseteq$) Let $w \\in L((r_1 + r_2) r_3)$.\n",
        "  - Then $w = xy$ with $x \\in L(r_1) \\cup L(r_2)$ and $y \\in L(r_3)$.\n",
        "  - If $x \\in L(r_1)$, then $w \\in L(r_1 r_3)$.\n",
        "  - If $x \\in L(r_2)$, then $w \\in L(r_2 r_3)$.\n",
        "  - Hence $w \\in L(r_1 r_3) \\cup L(r_2 r_3)$.\n",
        "\n",
        "- ($\\supseteq$) Let $w \\in L(r_1 r_3) \\cup L(r_2 r_3)$.\n",
        "  - If $w \\in L(r_1 r_3)$, then $w = xy$ with $x \\in L(r_1)$ and $y \\in L(r_3)$.\n",
        "  - Since $x \\in L(r_1) \\subseteq L(r_1) \\cup L(r_2)$, we have $w \\in L((r_1 + r_2) r_3)$.\n",
        "  - The case $w \\in L(r_2 r_3)$ is analogous.\n",
        "\n",
        "Therefore, $$L((r_1 + r_2) r_3) = L(r_1 r_3) \\cup L(r_2 r_3).$$\n",
        "\n",
        "Claim: $$L\\big(r_1 (r_2 + r_3)\\big) = L(r_1 r_2) \\cup L(r_1 r_3).$$\n",
        "\n",
        "Proof:\n",
        "- ($\\subseteq$) Let $w \\in L(r_1 (r_2 + r_3))$.\n",
        "  - Then $w = xy$ with $x \\in L(r_1)$ and $y \\in L(r_2) \\cup L(r_3)$.\n",
        "  - If $y \\in L(r_2)$, then $w \\in L(r_1 r_2)$.\n",
        "  - If $y \\in L(r_3)$, then $w \\in L(r_1 r_3)$.\n",
        "  - Hence $w \\in L(r_1 r_2) \\cup L(r_1 r_3)$.\n",
        "\n",
        "- ($\\supseteq$) Let $w \\in L(r_1 r_2) \\cup L(r_1 r_3)$.\n",
        "  - If $w \\in L(r_1 r_2)$, then $w = xy$ with $x \\in L(r_1)$ and $y \\in L(r_2) \\subseteq L(r_2) \\cup L(r_3)$.\n",
        "  - Thus $w \\in L(r_1 (r_2 + r_3))$.\n",
        "  - The case $w \\in L(r_1 r_3)$ is analogous.\n",
        "\n",
        "Therefore, $$L(r_1 (r_2 + r_3)) = L(r_1 r_2) \\cup L(r_1 r_3).$$\n",
        "\n",
        "Conclusion:\n",
        "$$\n",
        "(r_1 + r_2) r_3 \\equiv r_1 r_3 + r_2 r_3\n",
        "\\quad\\text{and}\\quad\n",
        "r_1 (r_2 + r_3) \\equiv r_1 r_2 + r_1 r_3.\n",
        "$$"
      ],
      "metadata": {
        "id": "ZViRC30Bctyj"
      }
    },
    {
      "cell_type": "markdown",
      "source": [
        "For Problems 4.2 through 4.11, construct a regular expression defining each of the following languages over the alphabet $Σ = \\{a\\,b\\}$.\n",
        "\n",
        "A recursive definition for REGEX is:\n",
        "* Rule 1: $Λ, a, b \\in REGEX$.\n",
        "* Rule 2: If $r_1, r_2 \\in REGEX$, then $(r_1), r_1r_2, r_1+r_2, r_1^{*} \\in REGEX$."
      ],
      "metadata": {
        "id": "9rpdEiJWfSAk"
      }
    },
    {
      "cell_type": "markdown",
      "source": [
        "---\n",
        "**Problem 4.2:** Given $Σ = \\{a\\,b\\}$. Construct a regular expression for all words in which *a* appears tripled, if at all. This means that every clump of *a*'s contains 3 or 6 or 9 or 12 ... *a*'s.\n",
        "\n",
        "**Answer 4.2:**\n",
        "- $(aaa+b)^{*}$\n",
        "- $((aaa)^{*}b^{*})^{*}$"
      ],
      "metadata": {
        "id": "UxL85lY59Q24"
      }
    },
    {
      "cell_type": "markdown",
      "source": [
        "---\n",
        "**Problem 4.3:** Given $Σ = \\{a\\,b\\}$. Construct a regular expression for all words that contain at least one of the strings $s_1$, $s_2$, $s_3$, or $s_4$.\n",
        "\n",
        "**Answer 4.3:** $(a+b)^{*}(s_1+s_2+s_3+s_4)(a+b)^{*}$"
      ],
      "metadata": {
        "id": "ugTQorST9RD-"
      }
    },
    {
      "cell_type": "markdown",
      "source": [
        "---\n",
        "**Problem 4.4:** Given $Σ = \\{a\\,b\\}$. Construct a regular expression for all words that contain exactly two *b*'s or exactly three *b*'s, not more.\n",
        "\n",
        "**Answer 4.4:** $a^{*}ba^{*}ba^{*}(Λ+ba^{*})$"
      ],
      "metadata": {
        "id": "CYQ9biYs9RM8"
      }
    },
    {
      "cell_type": "markdown",
      "source": [
        "---\n",
        "**Problem 4.5:** Given $Σ = \\{a\\,b\\}$. Construct a regular expression for\n",
        "* (i) all strings that end in a double letter,\n",
        "* (ii) all strings that do not end in a double letter.\n",
        "\n",
        "**Answer 4.5:**\n",
        "- $(a+b)^{*}(aa+bb)$\n",
        "- $Λ+a+b+(a+b)^{*}(ab+ba)$"
      ],
      "metadata": {
        "id": "8rwqLGnE9RTR"
      }
    },
    {
      "cell_type": "markdown",
      "source": [
        "---\n",
        "**Problem 4.6:** Given $Σ = \\{a\\,b\\}$. Construct a regular expression for all strings that have exactly one double letter in them.\n",
        "\n",
        "**Answer 4.6:** $(ab)^{*}aa(ba)^{*} + (ba)^{*}bb(ab)^{*}$"
      ],
      "metadata": {
        "id": "rGRk0h7T9Rj2"
      }
    },
    {
      "cell_type": "markdown",
      "source": [
        "---\n",
        "**Problem 4.7:** Given $Σ = \\{a\\,b\\}$. Construct a regular expression for all strings in which the letter *b* is *never* tripled. This means that no word contains the string *bbb*.\n",
        "\n",
        "**Answer 4.7:** $(Λ+b+bb)(a^{*}a(b+bb))^{*}a^{*}$"
      ],
      "metadata": {
        "id": "4-LE6A6f9Rpj"
      }
    },
    {
      "cell_type": "markdown",
      "source": [
        "---\n",
        "**Problem 4.8:** Given $Σ = \\{a\\,b\\}$. Construct a regular expression for all words in which *a* is tripled or *b* is tripled, but not both. This means each word contains the substring *aaa* or the substring *bbb* but not both.\n",
        "\n",
        "**Answer 4.8:**\n",
        "- Let $NOTBBB=(Λ+b+bb)(a^{*}a(b+bb))^{*}a^{*}$\n",
        "- Let $HASAAA=(NOTBBB)aaa(NOTBBB)$\n",
        "- Let $NOTAAA=(Λ+a+aa)(b^{*}b(a+aa))^{*}b^{*}$\n",
        "- Let $HASBBB=(NOTBBB)bbb(NOTBBB)$\n",
        "- $(HASAAA+HASBBB)$"
      ],
      "metadata": {
        "id": "2YRT7wCQ9RwQ"
      }
    },
    {
      "cell_type": "markdown",
      "source": [
        "---\n",
        "**Problem 4.9:** Given $Σ = \\{a\\,b\\}$. Construct a regular expression for\n",
        "* (i) all words that do not have the substring *ab*,\n",
        "* (ii) all words that do not have both the substrings *bba* and *abb*.\n",
        "\n",
        "**Answer 4.9:**\n",
        "- (i) $b^{*}a^{*}$\n",
        "- (ii) $Λ+a^{*}b(Λ+a)+b^{*}a(Λ+b)$"
      ],
      "metadata": {
        "id": "0Wk9Gwtf9R3G"
      }
    },
    {
      "cell_type": "markdown",
      "source": [
        "---\n",
        "**Problem 4.10:** Given $Σ = \\{a\\,b\\}$. Construct a regular expression for all strings in which the *total* number of *a*'s is divisible by 3 no matter how they are distributed, such as *aabaabbaba*.\n",
        "\n",
        "**Answer 4.10:** $b^{*}(ab^{*}ab^{*}a)^{*}b^{*}$"
      ],
      "metadata": {
        "id": "_6T1vye_9R9j"
      }
    },
    {
      "cell_type": "markdown",
      "source": [
        "---\n",
        "**Problem 4.11:** Given $Σ = \\{a\\,b\\}$. Construct a regular expression for all strings\n",
        "* (i) in which any *b*'s that occur are found in clumps of an odd number at a time, such as *abaabbbab*.\n",
        "* (ii) that have an even number of *a*'s and an odd number of *b*'s.\n",
        "* (iii) that have an odd number of *a*'s and an odd number of *b*'s.\n",
        "\n",
        "**Answer 4.11:**\n",
        "\n",
        "- Let $EVEN\\_EVEN=(aa+bb+(ab+ba)(aa+bb)^{*}(ab+ba))^{*}$\n",
        "- (i) $b(bb)^{*}(ab(bb)^{*})^{*}a^{*}$\n",
        "- (ii)\n",
        "  - Let $ODD=b+ab(bb)^{*}a$\n",
        "  - $(EVEN\\_EVEN)(ODD)(EVEN\\_EVEN)$\n",
        "- (iii)\n",
        "  - Let $ODD=ab+ba$\n",
        "  - $(EVEN\\_EVEN)(ODD)(EVEN\\_EVEN)$"
      ],
      "metadata": {
        "id": "_659sySH9SMZ"
      }
    },
    {
      "cell_type": "markdown",
      "source": [
        "---\n",
        "**Problem 4.12:**\n",
        "\n",
        "* (i) Let us reconsider the regular expression $$(a+b)^{*}a(a+b)^{*}b(a+b)^{*}$$ Show that this is equivalent to $$(a+b)^{*}ab(a+b)^{*}$$ in the sense that they define the same language.\n",
        "* (ii) Show that $(a+b)^{*}ab(a+b)^{*} + b^{*}a^{*} = (a+b)^{*}$.\n",
        "* (iii) Show that $(a+b)^{*}ab(a+b)^{*}ab(a+b)^{*} = (a+b)^{*}$.\n",
        "* (iv) Is (iii) the last variation of this theme or are there more beasts left in this cave?"
      ],
      "metadata": {
        "id": "pwW3VHGx9SSe"
      }
    },
    {
      "cell_type": "markdown",
      "source": [
        "**Answer 4.12(i):**\n",
        "\n",
        "Let $L_1 = L\\big((a+b)^{*}a(a+b)^{*}b(a+b)^{*}\\big).$\n",
        "\n",
        "Let $L_2 = L\\big((a+b)^{*}ab(a+b)^{*}\\big).$\n",
        "\n",
        "Take any $w \\in L_1$. Then $w$ can be written as  \n",
        "$$\n",
        "w = x \\; a \\; m \\; b \\; y\n",
        "\\quad\\text{with}\\quad\n",
        "x,y \\in \\{a,b\\}^{*}, \\; m \\in \\{a,b\\}^{*}.\n",
        "$$\n",
        "\n",
        "We analyze the possible forms of $m$:\n",
        "\n",
        "- **Case 1: $m = \\epsilon$**  \n",
        "  Then $w = x\\,ab\\,y$, so $w$ contains the substring $ab$ and hence $w \\in L_2$.\n",
        "\n",
        "- **Case 2: $m \\neq \\epsilon$ and $m$ contains a $b$**  \n",
        "  Let the first $b$ in $m$ occur at position $j$.  \n",
        "  - If $j = 1$, then the boundary between $a$ and the first symbol of $m$ is $ab$, so $w$ contains $ab$.  \n",
        "  - If $j > 1$, then the symbol at position $j-1$ in $m$ cannot be $b$ (by minimality of $j$), so it is $a$, giving an internal $ab$ in $m$.  \n",
        "  In both subcases, $w \\in L_2$.\n",
        "\n",
        "- **Case 3: $m$ has no $b$**  \n",
        "  Then $m = a^{k}$ for some $k \\ge 1$. The last $a$ of $m$ is immediately followed by the trailing $b$, so $ab$ occurs in $w$. Thus $w \\in L_2$.\n",
        "\n",
        "In all cases, $w$ contains a contiguous $ab$, so $w \\in L_2$.\n",
        "\n",
        "If $w \\in L_2$, then  \n",
        "$$\n",
        "w = x\\,ab\\,y, \\quad x,y \\in \\{a,b\\}^{*}.\n",
        "$$\n",
        "This matches $(a+b)^{*}a(a+b)^{*}b(a+b)^{*}$ by choosing $m = \\epsilon$.  \n",
        "Hence $w \\in L_1$.\n",
        "\n",
        "Since $L_1 \\subseteq L_2$ and $L_2 \\subseteq L_1$, we have  \n",
        "$$\n",
        "L\\big((a+b)^{*}a(a+b)^{*}b(a+b)^{*}\\big)\n",
        "=\n",
        "L\\big((a+b)^{*}ab(a+b)^{*}\\big).\n",
        "$$"
      ],
      "metadata": {
        "id": "QvtzXbqYA2Wz"
      }
    },
    {
      "cell_type": "markdown",
      "source": [
        "**Answer 4.12(ii):**\n",
        "\n",
        "Since $(a+b)^{*}ab(a+b)^{*}ab(a+b)^{*}$ represents all strings which have a *b* following an *a*. This exludes from the set of all possible strings, $a^{*}$, $b^{*}$, and $b^{*}a^{*}$. Hence the union of the two is the set of all possible string $(a+b)^{*}$.\n",
        "\n",
        "**Answer 4.12(iii):**\n",
        "\n",
        "Strictly speaking there are an infinite amount of these type of substitutions."
      ],
      "metadata": {
        "id": "fDP4XGlSCl6e"
      }
    },
    {
      "cell_type": "markdown",
      "source": [
        "---\n",
        "**Problem 4.13:**\n",
        "\n",
        "We have defined the product of two sets of strings in general. If we apply this to the case where both factors are the same set, $S=T$, we obtain squares, $S^2$. Similarily, we can define $S^3, S^4,...$. Show that it makes some sense to write:\n",
        "* (i) $S^{*} = Λ + S + S^1 + S^2 + S^3 + S^4 + ...$\n",
        "* (ii) $S^{+} = S + S^1 + S^2 + S^3 + S^4 + ...$\n",
        "\n",
        "**Answer 4.13:**\n",
        "\n",
        "- (i) Obvious.\n",
        "- (ii) Obvious."
      ],
      "metadata": {
        "id": "RKXeadfR9SYE"
      }
    },
    {
      "cell_type": "markdown",
      "source": [
        "---\n",
        "**Problem 4.14:** If the only difference between $L$ and $L^{*}$ is the word $Λ$, is the only difference between $L^2$ and $L^{*}$ the word $Λ$?\n",
        "\n",
        "**Answer 4.14:**\n",
        "\n",
        "Let $L=(a+b)^{+}$. $L$ and $L^{*}$ differ only by $Λ$.\n",
        "\n",
        "Now $L^2=(a+b)(a+b)^{+}$. So, no. $L$ and $L^{*}$ differ by $Λ$, $a$, and $b$."
      ],
      "metadata": {
        "id": "HSVF-v2c9SdR"
      }
    },
    {
      "cell_type": "markdown",
      "source": [
        "---\n",
        "**Problem 4.15:** Show that the following pairs of regular expressions define the same language over the alphabet $Σ = \\{a\\,b\\}$:\n",
        "\n",
        "* (i) $(ab)^{*}a\\quad$ and $\\quad a(ba)^{*}$\n",
        "* (ii) $(a^{*}+b)^{*}\\quad$ and $\\quad (a+b)^{*}$\n",
        "* (iii) $(a^{*}+b^{*})^{*}\\quad$ and $\\quad (a+b)^{*}$"
      ],
      "metadata": {
        "id": "X7ijcRDS9SjG"
      }
    },
    {
      "cell_type": "markdown",
      "source": [
        "**Answer 4.15(i):**\n",
        "\n",
        "Let the alphabet be $\\Sigma = \\{a,b\\}$ with concatenation associative and identity $\\epsilon$.\n",
        "\n",
        "Define  \n",
        "- $w_0 = \\epsilon$, $w_{k+1} = w_k\\,ab$ so $w_k = (ab)^k$,  \n",
        "- $v_0 = \\epsilon$, $v_{k+1} = v_k\\,ba$ so $v_k = (ba)^k$.\n",
        "\n",
        "**Claim:** for all $k \\ge 0$, $w_k\\,a = a\\,v_k$.\n",
        "\n",
        "**Base case ($k=0$):** $\\epsilon a = a = a\\epsilon.$\n",
        "\n",
        "**Inductive step:**\n",
        "\n",
        "Assume $w_k a = a v_k$.\n",
        "\n",
        "Then  \n",
        "$$\n",
        "\\begin{aligned}\n",
        "w_{k+1} a\n",
        "&= (w_k\\,ab)\\,a \\\\\n",
        "&= w_k\\,(ab\\,a) && \\text{(associativity)} \\\\\n",
        "&= (w_k a)\\,ba \\\\\n",
        "&= (a v_k)\\,ba && \\text{(inductive hypothesis)} \\\\\n",
        "&= a\\,(v_k\\,ba) \\\\\n",
        "&= a\\,v_{k+1}.\n",
        "\\end{aligned}\n",
        "$$\n",
        "\n",
        "Thus $w_k a = a v_k$ for all $k$, i.e., $(ab)^k a = a(ba)^k$."
      ],
      "metadata": {
        "id": "NjU77tJGYl51"
      }
    },
    {
      "cell_type": "markdown",
      "source": [
        "**Answer 4.15(ii)**\n",
        "\n",
        "We work over the alphabet $\\Sigma = \\{a, b\\}$. The claim is  \n",
        "$$\n",
        "(a^{*} + b)^{*} \\;=\\; \\Sigma^{*} \\;=\\; (a + b)^{*}.\n",
        "$$\n",
        "\n",
        "**Claim:** Every $w \\in \\Sigma^{*}$ belongs to $(a^{*} + b)^{*}$.\n",
        "\n",
        "**Base case: ($|w| = 0$):**  \n",
        "$$\n",
        "w = \\epsilon \\in (a^{*} + b)^{*}.\n",
        "$$\n",
        "\n",
        "**Inductive step:** Assume all words of length $\\le n$ are in $(a^{*} + b)^{*}$. Take $w$ with $|w| = n+1$.\n",
        "\n",
        "- **Case 1:** $w$ starts with $b$. Write $w = b\\,u$. By the inductive hypothesis, $u \\in (a^{*} + b)^{*}$, hence $w \\in (a^{*} + b)^{*}$ since $b \\in a^{*} + b$.\n",
        "\n",
        "- **Case 2:** $w$ starts with $a$. Let $w = a^{k} u$ where $k \\ge 1$ and $u$ is empty or starts with $b$. Then $a^{k} \\in a^{*}$ and, by the inductive hypothesis, $u \\in (a^{*} + b)^{*}$. Hence $w \\in (a^{*} + b)^{*}$.\n",
        "\n",
        "Thus  \n",
        "$$\n",
        "\\Sigma^{*} \\subseteq (a^{*} + b)^{*},\n",
        "$$\n",
        "and the equality with $(a + b)^{*}$ follows as above."
      ],
      "metadata": {
        "id": "oP-_ZGJublXT"
      }
    },
    {
      "cell_type": "markdown",
      "source": [
        "**Answer 4.15(iii)**\n",
        "\n",
        "We work over the alphabet $\\Sigma = \\{a, b\\}$. The claim is  \n",
        "$$\n",
        "(a^{*} + b^{*})^{*} \\;=\\; \\Sigma^{*} \\;=\\; (a + b)^{*}.\n",
        "$$\n",
        "\n",
        "**Claim:** Every $w \\in \\Sigma^{*}$ belongs to $(a^{*} + b^{*})^{*}$.\n",
        "\n",
        "**Base case ($|w| = 0$):**  \n",
        "$$\n",
        "w = \\epsilon \\in (a^{*} + b^{*})^{*}.\n",
        "$$\n",
        "\n",
        "**Inductive step:** Assume all words of length $\\le n$ are in $(a^{*} + b^{*})^{*}$. Take $w$ with $|w| = n+1$.\n",
        "\n",
        "- **Case 1:** $w$ starts with $b$. Let $w = b^{k} u$ where $k \\ge 1$ and $u$ is empty or starts with $a$. Then $b^{k} \\in b^{*}$ and, by the inductive hypothesis, $u \\in (a^{*} + b^{*})^{*}$. Hence $w \\in (a^{*} + b^{*})^{*}$.\n",
        "\n",
        "- **Case 2:** $w$ starts with $a$. Let $w = a^{k} u$ where $k \\ge 1$ and $u$ is empty or starts with $b$. Then $a^{k} \\in a^{*}$ and, by the inductive hypothesis, $u \\in (a^{*} + b^{*})^{*}$. Hence $w \\in (a^{*} + b^{*})^{*}$.\n",
        "\n",
        "Thus  \n",
        "$$\n",
        "\\Sigma^{*} \\subseteq (a^{*} + b^{*})^{*},\n",
        "$$\n",
        "and the equality with $(a + b)^{*}$ follows as above."
      ],
      "metadata": {
        "id": "dsWHFCUOenZ2"
      }
    },
    {
      "cell_type": "markdown",
      "source": [
        "---\n",
        "**Problem 4.16:** Show that the following pairs of regular expressions define the same language over the alphabet $Σ = \\{a\\,b\\}$:\n",
        "\n",
        "* (i) $Λ^{*}\\quad$ and $\\quad Λ$\n",
        "* (ii) $(a^{*}b)^{*}a^{*}\\quad$ and $\\quad a^{*}(ba^{*})^{*}$\n",
        "* (iii) $(a^{*}bbb)^{*}a^{*}\\quad$ and $\\quad a^{*}(bbba^{*})^{*}$\n",
        "\n",
        "**Answer 4.16:**\n",
        "\n",
        "- (i) Obvious.\n",
        "- (ii) Follows from $(R^{*}S)^{*}R^{*}=R^{*}(SR^{*})^{*}$.\n",
        "- (iii) Follows from $(R^{*}S)^{*}R^{*}=R^{*}(SR^{*})^{*}$."
      ],
      "metadata": {
        "id": "qzjlYCfI9SvN"
      }
    },
    {
      "cell_type": "markdown",
      "source": [
        "---\n",
        "**Problem 4.17:** Show that the following pairs of regular expressions define the same language over the alphabet $Σ = \\{a\\,b\\}$:\n",
        "\n",
        "* (i) $((a+bb)^{*}aa)^{*}\\quad$ and $\\quad Λ+(a+bb)^{*}aa$\n",
        "* (ii) $(aa)^{*}(Λ+a)\\quad$ and $\\quad a^{*}$\n",
        "* (iii) $a(aa)^{*}(Λ+a)b+b\\quad$ and $\\quad a^{*}b$\n",
        "* (iv) $a(ba+a)^{*}b\\quad$ and $\\quad aa^{*}b(aa^{*}b)^{*}$\n",
        "* (v) $Λ+a(a+b)^{*}+(a+b)^{*}aa(a+b)^{*}\\quad$ and $\\quad ((b^{*}a)^{*}ab^{*})^{*}$\n",
        "\n",
        "**Answer 4.17:**\n",
        "\n",
        "- (i) Follows from definition of Kleene closure.\n",
        "- (ii) A combination of mutiple of two *a*'s followed by an optional *a*, is simply zero or more *a*'s.\n",
        "- (iii) Follows from (ii) above.\n",
        "- (iv) Regarding the first, strings begin with *a* and end with *b* and between *b*'s are always followed by an *a*. Or in other words, each *b* is surrounded by at least one *a* on either side.\n",
        "- (v) $???$"
      ],
      "metadata": {
        "id": "t_kdG08T9S05"
      }
    },
    {
      "cell_type": "markdown",
      "source": [
        "---\n",
        "**Problem 4.18:** Describe (in English phrases) the languages associated with the following regular expressions:\n",
        "\n",
        "* (i) $(a+b)^{*}a(Λ+bbbb)$\n",
        "* (ii) $(a(a+bb)^{*})^{*}$\n",
        "* (iii) $(a(aa)^{*}b(bb)^{*})^{*}$\n",
        "* (iv) $(b(bb)^{*})^{*}(a(aa)^{*}b(bb)^{*})^{*}$\n",
        "* (v) $(b(bb)^{*})^{*}(a(aa)^{*}b(bb)^{*})^{*}(a(aa)^{*})^{*}$\n",
        "* (vi) $((a+b)a)^{*}$\n",
        "\n",
        "**Answer 4.18:**\n",
        "\n",
        "- all strings ending in either *a* or *abbbb*.\n",
        "- all strings starting with *a* and in which *b*'s appear as clumps of even length.\n",
        "- Λ or strings starting with a and ending in b where *a*'s and *b*'s are clumped by odd-numbered lengths.\n",
        "- Λ or clumps of odd-length *a*'s and *b*'s ending in *b*.\n",
        "- Λ or clumps of odd-length *a*'s and *b*'s.\n",
        "- Λ or even-length strings with *a* repeating in even positions."
      ],
      "metadata": {
        "id": "g_wluocP9S6X"
      }
    },
    {
      "cell_type": "markdown",
      "source": [
        "---\n",
        "**Problem 4.19:** (D. N. Arden)\n",
        "\n",
        "Let $R$, $S$, and $T$ be three languages and assume that $Λ$ is not in $S$.\n",
        "\n",
        "Prove the following statements:\n",
        "* From the premise that $R=SR+T$, we can conclude that $R=S^{*}T$\n",
        "* From the premise that $R=S^{*}T$, we can conclude that $R=SR+T$.\n",
        "\n",
        "**Answer 4.19:**\n",
        "\n",
        "$R=SR+T$ defines $R$ as containing all the words in $T$ and also all words composed of an initial part from $S$ concatenated with another words from $R$. This permits us to continue concatenating factors from $S$ as many time as we like, but we are still required to finish the word with a factor from $R$. The only type of factor from $R$ that does not entail this kind of recursion is a factor from the language $T$. So we have any number of factors from S followed by a factor from $T$, or we have just a factor from $T$, equivalently $S^{*}T$.\n",
        "\n",
        "$R=S^{*}T$ defines $R$ as words with any number (if any) factors from $S$ followed by a single factor from $T$. If the star operator is taken fro zero, we have for $R$ any word in $T$. Suppose the star operator is taken once, then we have exactly one word from $S$ followed by one word from $T$. But the word from $T$ is itself a factor from $R$, so we can see that this word is in the set $SR$. Consider what happens if we take the star more than once; the star operates on $S$, so we have $SR, SSR, SSSR, ...$ all in the set $S^{*}T$. In fact, we established $S^{+}T$ in this way. The difference between $S^{*}T$ and $S^{+}T$ is that only $S^{*}T$ contains $T$. But that means that $S^{*}T$ must equal exactly $SR+T$."
      ],
      "metadata": {
        "id": "a5NAQP979S_l"
      }
    },
    {
      "cell_type": "markdown",
      "source": [
        "**Answer 4.19:**\n",
        "\n",
        "**Statement and assumptions**\n",
        "\n",
        "Let $R, S, T \\subseteq \\Sigma^{*}$ be languages, and assume $\\varepsilon \\notin S$. Prove:\n",
        "\n",
        "1. If $R = S R \\cup T$, then $R = S^{*} T$.\n",
        "2. If $R = S^{*} T$, then $R = S R \\cup T$.\n",
        "\n",
        "**Preliminaries**\n",
        "\n",
        "- **Kleene star:** $S^{*} = \\bigcup_{n \\ge 0} S^{n}$ and $S^{*} = \\{\\varepsilon\\} \\cup S S^{*}$.\n",
        "- **Length fact (uses $\\varepsilon \\notin S$):** Every $x \\in S$ satisfies $|x| \\ge 1$. Hence if $w = xy$ with $x \\in S$, then $|y| < |w|$.\n",
        "\n",
        "From $R = S R \\cup T$ to $R = S^{*} T$\n",
        "\n",
        "We prove both inclusions.\n",
        "\n",
        "Inclusion $R \\subseteq S^{*} T$:\n",
        "\n",
        "Fix $w \\in R$. Proceed by induction on $|w|$.\n",
        "\n",
        "- **Base case:** If $w \\in T$, then $w \\in S^{0} T \\subseteq S^{*} T$.\n",
        "- **Inductive step:** If $w \\notin T$, then $w \\in S R$ by $R = S R \\cup T$.  \n",
        "  So $w = xy$ for some $x \\in S$ and $y \\in R$.  \n",
        "  Since $\\varepsilon \\notin S$, we have $|x| \\ge 1$, hence $|y| < |w|$.  \n",
        "  By the induction hypothesis, $y \\in S^{*} T$. Thus  \n",
        "  $$w = x y \\in S S^{*} T \\subseteq S^{*} T.$$\n",
        "\n",
        "Therefore $R \\subseteq S^{*} T$.\n",
        "\n",
        "Inclusion $S^{*} T \\subseteq R$:\n",
        "\n",
        "We show $S^{n} T \\subseteq R$ for all $n \\ge 0$ by induction on $n$.\n",
        "\n",
        "- **Base case: ($n=0$):** $S^{0} T = T \\subseteq R$ since $R = S R \\cup T$.\n",
        "- **Inductive step:** Suppose $S^{n} T \\subseteq R$. Then  \n",
        "  $$S^{n+1} T = S (S^{n} T) \\subseteq S R \\subseteq S R \\cup T = R.$$\n",
        "\n",
        "Hence $S^{*} T = \\bigcup_{n \\ge 0} S^{n} T \\subseteq R$.\n",
        "\n",
        "Combining both inclusions, we have $R = S^{*} T$.\n",
        "\n",
        "From $R = S^{*} T$ to $R = S R \\cup T$:\n",
        "\n",
        "Using $S^{*} = \\{\\varepsilon\\} \\cup S S^{*}$, we have:\n",
        "$$\n",
        "R = S^{*} T\n",
        "  = (\\{\\varepsilon\\} \\cup S S^{*}) T\n",
        "  = T \\cup S (S^{*} T)\n",
        "  = T \\cup S R\n",
        "  = S R \\cup T.\n",
        "$$\n",
        "\n",
        "This implication does not require $\\varepsilon \\notin S$.\n",
        "\n",
        "**Conclusion**\n",
        "\n",
        "Under $\\varepsilon \\notin S$, the equation $R = S R \\cup T$ holds if and only if $R = S^{*} T$ (Arden’s lemma)."
      ],
      "metadata": {
        "id": "n11yMJb5lBCN"
      }
    },
    {
      "cell_type": "markdown",
      "source": [
        "---\n",
        "**Problem 4.20(i):**\n",
        "\n",
        "Explain why we can take any pair of equivalent regular expressions and replace the letter *a* in both with any regular expression **R** and the letter *b* with any regular expression **S** and the resulting regular expressions will have the same language. For example, 17(ii), which says\n",
        "\n",
        "   $$(a^{*}b)^{*}a^{*}=a^{*}(ba^{*})^{*}$$\n",
        "\n",
        "becomes the identity\n",
        "\n",
        "   $$(R^{*}S)^{*}R^{*}=R^{*}(SR^{*})^{*}$$\n",
        "\n",
        "which is true for all regular expressions **R** and **S**.\n",
        "\n",
        "**Answer 4.20(i):**\n",
        "\n",
        "It is easiest to understand this in terms of the recursive definition of regular expressions. Any letter of the alphabet is itself a regular expression. The rule for forming regular expressions apply to these and to all more complicated regular expressions. Each regular expression describes a set. Equivalent expressions describe equivalent sets. The equivalences are not disturbed by taking unions, products, or Kleen closures. This means that any set must be considered a building block in the construction of other sets."
      ],
      "metadata": {
        "id": "Woh_MWpJ9TFT"
      }
    },
    {
      "cell_type": "markdown",
      "source": [
        "**Answer 4.20(i):**\n",
        "\n",
        "**Substitution Preserves Equivalence of Regular Expressions**\n",
        "\n",
        "**1. Setup**\n",
        "Let $E_1$ and $E_2$ be regular expressions over the alphabet $\\{a,b\\}$ with  \n",
        "$$\n",
        "L(E_1) = L(E_2).\n",
        "$$\n",
        "\n",
        "Let $R$ and $S$ be arbitrary regular expressions (over any alphabet).  \n",
        "We write  \n",
        "$$\n",
        "E[a \\leftarrow R,\\, b \\leftarrow S]\n",
        "$$  \n",
        "for the expression obtained by replacing each $a$ by $R$ and each $b$ by $S$.\n",
        "\n",
        "**2. Substitution on Words and Languages**\n",
        "Define a substitution $\\sigma$ on letters by:\n",
        "$$\n",
        "\\sigma(a) = L(R), \\quad \\sigma(b) = L(S).\n",
        "$$\n",
        "\n",
        "Extend $\\sigma$ to words $w = w_1 w_2 \\dots w_n \\in \\{a,b\\}^*$ by:\n",
        "$$\n",
        "\\hat{\\sigma}(w) = \\sigma(w_1) \\cdot \\sigma(w_2) \\cdots \\sigma(w_n),\n",
        "$$\n",
        "and to languages $L \\subseteq \\{a,b\\}^*$ by:\n",
        "$$\n",
        "\\hat{\\sigma}(L) = \\bigcup_{w \\in L} \\hat{\\sigma}(w).\n",
        "$$\n",
        "\n",
        "**3. Lemma — Semantics Commute with Substitution**\n",
        "For every regular expression $E$ over $\\{a,b\\}$:\n",
        "$$\n",
        "L\\big(E[a \\leftarrow R,\\, b \\leftarrow S]\\big) = \\hat{\\sigma}\\big(L(E)\\big).\n",
        "$$\n",
        "\n",
        "**Proof (by structural induction on $E$):**\n",
        "\n",
        "1. **Empty set**:  \n",
        "   $E = \\emptyset$  \n",
        "   $$\n",
        "   L(E[a \\leftarrow R, b \\leftarrow S]) = \\emptyset = \\hat{\\sigma}(\\emptyset).\n",
        "   $$\n",
        "\n",
        "2. **Empty word**:  \n",
        "   $E = \\varepsilon$  \n",
        "   $$\n",
        "   L(E[a \\leftarrow R, b \\leftarrow S]) = \\{\\varepsilon\\} = \\hat{\\sigma}(\\{\\varepsilon\\}).\n",
        "   $$\n",
        "\n",
        "3. **Letter $a$**:  \n",
        "   $E = a$  \n",
        "   $$\n",
        "   L(E[a \\leftarrow R, b \\leftarrow S]) = L(R) = \\sigma(a) = \\hat{\\sigma}(\\{a\\}).\n",
        "   $$\n",
        "\n",
        "4. **Letter $b$**: symmetric to $a$.\n",
        "\n",
        "5. **Union**: $E = F + G$  \n",
        "   $$\n",
        "   L\\big((F+G)[\\cdot]\\big) = L(F[\\cdot]) \\cup L(G[\\cdot])  \n",
        "   = \\hat{\\sigma}(L(F)) \\cup \\hat{\\sigma}(L(G))  \n",
        "   = \\hat{\\sigma}(L(F) \\cup L(G)).\n",
        "   $$\n",
        "\n",
        "6. **Concatenation**: $E = FG$  \n",
        "   $$\n",
        "   L\\big((FG)[\\cdot]\\big) = L(F[\\cdot]) \\cdot L(G[\\cdot])  \n",
        "   = \\hat{\\sigma}(L(F)) \\cdot \\hat{\\sigma}(L(G))  \n",
        "   = \\hat{\\sigma}(L(F) \\cdot L(G)).\n",
        "   $$\n",
        "\n",
        "7. **Kleene star**: $E = F^*$  \n",
        "   $$\n",
        "   L\\big((F^*)[\\cdot]\\big) = \\big(L(F[\\cdot])\\big)^*  \n",
        "   = \\big(\\hat{\\sigma}(L(F))\\big)^*  \n",
        "   = \\hat{\\sigma}\\left(\\bigcup_{n \\ge 0} L(F)^n\\right)  \n",
        "   = \\hat{\\sigma}(L(F^*)).\n",
        "   $$\n",
        "\n",
        "Thus, the lemma holds.\n",
        "\n",
        "**4. Theorem — Substitution Preserves Equivalence**\n",
        "If $L(E_1) = L(E_2)$, then for all $R, S$:\n",
        "$$\n",
        "L\\big(E_1[a \\leftarrow R,\\, b \\leftarrow S]\\big)  \n",
        "= \\hat{\\sigma}(L(E_1))  \n",
        "= \\hat{\\sigma}(L(E_2))  \n",
        "= L\\big(E_2[a \\leftarrow R,\\, b \\leftarrow S]\\big).\n",
        "$$\n",
        "\n",
        "Therefore, $E_1[a \\leftarrow R,\\, b \\leftarrow S]$ and $E_2[a \\leftarrow R,\\, b \\leftarrow S]$ are equivalent for all choices of $R, S$."
      ],
      "metadata": {
        "id": "j9vOvurwpxG5"
      }
    },
    {
      "cell_type": "markdown",
      "source": [
        "**Problem 4.20(ii)**\n",
        "\n",
        "In particular, $$R=a+bb, S=ba^{*}$$\n",
        "\n",
        "results in the complicated identity\n",
        "\n",
        "$$((a+bb)^{*}(ba^{*}))^{*}(a+bb)^{*}=(a+bb)^{*}((ba^{*})(a+bb)^{*})^{*}$$\n",
        "\n",
        "What identity would result from using $$R=(ba^{*})^{*}\\quad S=(Λ+b)$$\n",
        "\n",
        "**Answer 4.20(ii)**\n",
        "\n",
        "$$(R^{*}S)^{*}R^{*}=R^{*}(SR^{*})^{*}$$\n",
        "results in\n",
        "$$((ba^{*})^{*}(Λ+b))^{*}(ba^{*})^{*}=(ba^{*})^{*}((Λ+b)(ba^{*})^{*})^{*}$$"
      ],
      "metadata": {
        "id": "CqyDHMi1uAP7"
      }
    },
    {
      "cell_type": "markdown",
      "source": [
        "---\n",
        "**Chapter 5: Finite Automata**"
      ],
      "metadata": {
        "id": "XulXWX_BJKLD"
      }
    },
    {
      "cell_type": "markdown",
      "source": [
        "---\n",
        "**Problem 5.1:** Write out the transition tables for the FAs on pp. 56, 58 (both), 63, 64, and 69 that were defined by pictures.\n",
        "\n",
        "**Answer 5.1:** *See below*"
      ],
      "metadata": {
        "id": "pH0DVXDdJega"
      }
    },
    {
      "cell_type": "code",
      "source": [
        "#-------------------------------------------------------------------------------\n",
        "FA['pg_56'] = (\\\n",
        "  \"$(a+b)^{*}b(a+b)^{*}$\"\n",
        ", ARBNO(σ('a') | σ('b')) + σ('b') + ARBNO(σ('a') | σ('b'))\n",
        ", [ [  ' ', 'a', 'b']\n",
        "  , [ '-1',  2 ,  3]\n",
        "  , [  '2',  1 ,  3]\n",
        "  , [ '+3',  3 ,  3]\n",
        "  ])\n",
        "#-------------------------------------------------------------------------------\n",
        "display_problem('pg_56')"
      ],
      "metadata": {
        "id": "o9_KZTCfg7xC"
      },
      "execution_count": null,
      "outputs": []
    },
    {
      "cell_type": "code",
      "source": [
        "#-------------------------------------------------------------------------------\n",
        "FA['pg_58_1'] = (\\\n",
        "  \"$(a+b)(a+b)^{*}$\"\n",
        ", SPAN('ab')\n",
        ", [ [  ' ', 'a', 'b']\n",
        "  , [ '-1',  2 ,  2 ]\n",
        "  , [ '+2',  2 ,  2 ]\n",
        "  ])\n",
        "#-------------------------------------------------------------------------------\n",
        "display_problem('pg_58_1')"
      ],
      "metadata": {
        "id": "i7WcRyyuLvVp"
      },
      "execution_count": null,
      "outputs": []
    },
    {
      "cell_type": "code",
      "source": [
        "#-------------------------------------------------------------------------------\n",
        "FA['pg_58_2'] = (\\\n",
        "  \"$(a+b)^{*}$\"\n",
        ", SPAN('ab') | ε()\n",
        ", [ [  ' ', 'a', 'b']\n",
        "  , ['-+1',  1 ,  1 ]\n",
        "  ])\n",
        "#-------------------------------------------------------------------------------\n",
        "display_problem('pg_58_2')"
      ],
      "metadata": {
        "id": "B8jLTDZ-L0Xu"
      },
      "execution_count": null,
      "outputs": []
    },
    {
      "cell_type": "code",
      "source": [
        "#-------------------------------------------------------------------------------\n",
        "FA['pg_63'] = (\\\n",
        "  \"$(a+b)^{*}(aa+bb)(a+b)^{*}$\"\n",
        ", ARBNO(σ('a') | σ('b')) + (σ('aa') | σ('bb')) + ARBNO(σ('a') | σ('b'))\n",
        ", [ [  ' ', 'a', 'b']\n",
        "  , [ '-1',  2 ,  3 ]\n",
        "  , [  '2',  4 ,  3 ]\n",
        "  , [  '3',  2 ,  4 ]\n",
        "  , [ '+4',  4 ,  4 ]\n",
        "  ])\n",
        "#-------------------------------------------------------------------------------\n",
        "display_problem('pg_63')"
      ],
      "metadata": {
        "id": "_gM1mV7xL0jz"
      },
      "execution_count": null,
      "outputs": []
    },
    {
      "cell_type": "code",
      "source": [
        "#-------------------------------------------------------------------------------\n",
        "FA['pg_64'] = (\\\n",
        "  \"$(a+b)(a+b)b(a+b)*$\"\n",
        ", (σ('aaa') | σ('bbb')) + ARBNO(σ('a') | σ('b'))\n",
        ", [ [  ' ', 'a', 'b']\n",
        "  , [ '-1',  2 ,  2 ]\n",
        "  , [  '2',  3 ,  3 ]\n",
        "  , [  '3',  4 ,  5 ]\n",
        "  , [  '4',  4 ,  4 ]\n",
        "  , [ '+5',  5 ,  5 ]\n",
        "  ])\n",
        "#-------------------------------------------------------------------------------\n",
        "display_problem('pg_64')"
      ],
      "metadata": {
        "id": "d9rWJ8y-L02E"
      },
      "execution_count": null,
      "outputs": []
    },
    {
      "cell_type": "code",
      "source": [
        "# pg_69\n",
        "na = nb = 0\n",
        "def init(): na = nb = 0; return True\n",
        "def acnt(): global na; na += 1; return True\n",
        "def bcnt(): global nb; nb += 1; return True\n",
        "FA['EVEN_EVEN'] = (\\\n",
        "  \"$(aa+bb+(ab+ba)(aa+bb)^{*}(ab+ba))^{*}$\"\n",
        ", POS(0) + Λ(\"init()\")\n",
        "+ ARBNO(\n",
        "    σ('a') + λ(\"acnt()\")\n",
        "  | σ('b') + λ(\"bcnt()\")\n",
        "  )\n",
        "+ RPOS(0) + λ(\"a % 2 == 0 and b % 2 == 0\")\n",
        ", [ [  ' ', 'a', 'b']\n",
        "  , ['-+1',  3 ,  2 ]\n",
        "  , [  '2',  4 ,  1 ]\n",
        "  , [  '3',  1 ,  4 ]\n",
        "  , [  '4',  2 ,  3 ]\n",
        "  ])\n",
        "#-------------------------------------------------------------------------------\n",
        "display_problem('EVEN_EVEN')"
      ],
      "metadata": {
        "id": "EAOYDFfhL1Ku"
      },
      "execution_count": null,
      "outputs": []
    },
    {
      "cell_type": "markdown",
      "source": [
        "---\n",
        "**Problem 5.2:** Build an FA that accepts only the language of all words with b as the second letter. Show both the picture and the transition table for this machine and find a regular expression for the language.\n",
        "\n",
        "**Answer 5.2:**\n",
        "\n",
        "RE = $(a + b)b(a+b)^{*}$"
      ],
      "metadata": {
        "id": "ZtdnMh6IJlQh"
      }
    },
    {
      "cell_type": "code",
      "source": [
        "#-------------------------------------------------------------------------------\n",
        "FA['prob5_2'] = (\\\n",
        "  \"$(a+b)b(a+b)^{*}$\"\n",
        ", ANY(\"ab\") + σ('b') + ARBNO(σ('a') | σ('b'))\n",
        ", [ [  ' ','a', 'b']\n",
        "  , [ '-1', 2 ,  2 ]\n",
        "  , [  '2', 3 ,  4 ]\n",
        "  , [  '3', 3 ,  3 ]\n",
        "  , [ '+4', 4 ,  4 ]\n",
        "  ])\n",
        "#-------------------------------------------------------------------------------\n",
        "display_problem('prob5_2')"
      ],
      "metadata": {
        "id": "IwvSBLtWlDcv"
      },
      "execution_count": null,
      "outputs": []
    },
    {
      "cell_type": "markdown",
      "source": [
        "---\n",
        "**Problem 5.3:** Build an FA that accepts only the words baa, ab, and abb and no other strings longer or shorter.\n",
        "\n",
        "**Answer 5.3:**\n",
        "\n",
        "RE = $(ab(Λ + b)+baa)$"
      ],
      "metadata": {
        "id": "-LFG4P6hJlXm"
      }
    },
    {
      "cell_type": "code",
      "source": [
        "#-------------------------------------------------------------------------------\n",
        "FA['prob5_3'] = (\\\n",
        "  \"$(ab(Λ + b)+baa)$\"\n",
        ", σ('baa') | σ('ab') | σ('abb')\n",
        ", [ [  ' ','a', 'b']\n",
        "  , [ '-1', 2 ,  5 ]\n",
        "  , [  '2', 8 ,  3 ]\n",
        "  , [ '+3', 8 ,  4 ]\n",
        "  , [ '+4', 8 ,  8 ]\n",
        "  , [  '5', 6 ,  8 ]\n",
        "  , [  '6', 7 ,  8 ]\n",
        "  , [ '+7', 8 ,  8 ]\n",
        "  , [  '8', 8 ,  8 ]\n",
        "  ])\n",
        "#-------------------------------------------------------------------------------\n",
        "display_problem('prob5_3')"
      ],
      "metadata": {
        "id": "5Ovr5F-emEED"
      },
      "execution_count": null,
      "outputs": []
    },
    {
      "cell_type": "markdown",
      "source": [
        "---\n",
        "**Problem 5.4:**\n",
        "* (i) Build an FA with the three states that accepts all strings.\n",
        "* (ii) Show that given any FA with three states and three *+*'s, it accepts all input strings.\n",
        "* (iii) If an FA has three states and only one *+*, must it reject some inputs?\n",
        "\n",
        "**Answer 5.4:**\n",
        "- *See below*\n",
        "- follows from the pigeon-hole principle\n",
        "- No."
      ],
      "metadata": {
        "id": "IyWbBjIvJle0"
      }
    },
    {
      "cell_type": "code",
      "source": [
        "FA['prob5_4'] = (\\\n",
        "  \"$(a+b)(a+b)(a+b)^{*}$\"\n",
        ", ARBNO(σ('a') | σ('b'))\n",
        ", [ [ ' ' , 'a', 'b']\n",
        "  , ['-+1',  2 ,  2 ]\n",
        "  , [ '+2',  3 ,  3 ]\n",
        "  , [ '+3',  3 ,  3 ]\n",
        "  ])\n",
        "#-------------------------------------------------------------------------------\n",
        "display_problem('prob5_4')"
      ],
      "metadata": {
        "id": "Ps2SwUaQoi_k"
      },
      "execution_count": null,
      "outputs": []
    },
    {
      "cell_type": "markdown",
      "source": [
        "---\n",
        "**Problem 5.5:**\n",
        "* (i) Build an FA that accepts only those words that have more that four letters.\n",
        "* (ii) Build an FA that accepts only those words that have fewer than four letters.\n",
        "* (iii) Build an FA that accepts only those words with exactly four letters.\n",
        "\n",
        "**Answer 5.5:**\n",
        "- RE: $\\quad (a+b)^{5}(a+b)^{*}$\n",
        "- RE: $\\quad Λ+a+b+(Λ+a+b+(Λ+a+b)), \\quad (Λ+a+b)^3$\n",
        "- RE: $\\quad (a+b)(a+b)(a+b)(a+b), \\quad (a+b)^4$"
      ],
      "metadata": {
        "id": "44dMX2vLJlla"
      }
    },
    {
      "cell_type": "code",
      "source": [
        "FA['prob5_5_1'] = (\\\n",
        "  \"$(a+b)(a+b)(a+b)(a+b)(a+b)(a+b)^{*}$\"\n",
        ", SPAN(\"ab\") @ \"tx\" + Λ(\"len(tx) > 4\")\n",
        ", [ [  ' ', 'a', 'b']\n",
        "  , [ '-1',  2 ,  2 ]\n",
        "  , [  '2',  3 ,  3 ]\n",
        "  , [  '3',  4 ,  4 ]\n",
        "  , [  '4',  5 ,  5 ]\n",
        "  , [  '5',  6 ,  6 ]\n",
        "  , [ '+6',  6 ,  6 ]\n",
        "  ])\n",
        "#-------------------------------------------------------------------------------\n",
        "display_problem('prob5_5_1')"
      ],
      "metadata": {
        "id": "4HL0eg95ruWy"
      },
      "execution_count": null,
      "outputs": []
    },
    {
      "cell_type": "code",
      "source": [
        "FA['prob5_5_2'] = (\\\n",
        "  \"$(Λ+a+b)(Λ+a+b)(Λ+a+b)$\"\n",
        ", SPAN(\"ab\") @ \"tx\" + Λ(\"len(tx) < 4\")\n",
        ", [ [  ' ', 'a', 'b']\n",
        "  , ['-+1',  2 ,  2 ]\n",
        "  , [ '+2',  3 ,  3 ]\n",
        "  , [ '+3',  4 ,  4 ]\n",
        "  , [ '+4',  5 ,  5 ]\n",
        "  , [  '5',  5 ,  5 ]\n",
        "  ])\n",
        "#-------------------------------------------------------------------------------\n",
        "display_problem('prob5_5_2')"
      ],
      "metadata": {
        "id": "PMFXyWtYRB18"
      },
      "execution_count": null,
      "outputs": []
    },
    {
      "cell_type": "code",
      "source": [
        "FA['prob5_5_3'] = (\\\n",
        "  \"$(a+b)(a+b)(a+b)(a+b)$\"\n",
        ", SPAN(\"ab\") @ \"tx\" + Λ(\"len(tx) == 4\")\n",
        ", [ [  ' ', 'a', 'b']\n",
        "  , [ '-1',  2 ,  2 ]\n",
        "  , [  '2',  3 ,  3 ]\n",
        "  , [  '3',  4 ,  4 ]\n",
        "  , [  '4',  5 ,  5 ]\n",
        "  , [ '+5',  6 ,  6 ]\n",
        "  , [  '6',  6 ,  6 ]\n",
        "  ])\n",
        "#-------------------------------------------------------------------------------\n",
        "display_problem('prob5_5_3')"
      ],
      "metadata": {
        "id": "HZUZ8jbqRCGb"
      },
      "execution_count": null,
      "outputs": []
    },
    {
      "cell_type": "markdown",
      "source": [
        "---\n",
        "**Problem 5.6:** Build an FA that accepts only those words that do *not* end with *ba*.\n",
        "\n",
        "**Answer 5.6:**\n",
        "RE: $Λ+a+(a+b)^{*}(b+aa)$"
      ],
      "metadata": {
        "id": "nD6JRDgVJl0Y"
      }
    },
    {
      "cell_type": "code",
      "source": [
        "FA['prob5_6'] = (\\\n",
        "  \"$Λ+a+(a+b)^{*}(b+aa)$\"\n",
        ", ARBNO(σ('a') + σ('b')) + σ('ba') + RPOS(0) + FAIL()\n",
        ", [ [  ' ' , 'a', 'b']\n",
        "  , ['-+1' ,  1 ,  2 ]\n",
        "  , [ '+2' ,  3 ,  2 ]\n",
        "  , [  '3' ,  1 ,  2 ]])\n",
        "#-------------------------------------------------------------------------------\n",
        "display_problem('prob5_6')"
      ],
      "metadata": {
        "id": "w3oO14d8sDnf"
      },
      "execution_count": null,
      "outputs": []
    },
    {
      "cell_type": "markdown",
      "source": [
        "---\n",
        "**Problem 5.7:** Build an FA that accepts only those words that begin or end with a double letter.\n",
        "\n",
        "**Answer 5.7:** RE: $\\quad (aa+bb)(a+b)^{*}+(a+b)^{*}(aa+bb)$"
      ],
      "metadata": {
        "id": "U15TRzybJl7F"
      }
    },
    {
      "cell_type": "code",
      "source": [
        "FA['prob5_7'] = (\\\n",
        "  \"$(aa+bb)(a+b)^{*}+(a+b)^{*}(aa+bb)$\"\n",
        ", ( POS(0) + (σ('aa') | σ('bb')) + ARB()\n",
        "  | (σ('aa') | σ('bb')) + ARB() + RPOS(0)\n",
        "  )\n",
        ", [ [   ' ', 'a', 'b']\n",
        "  , [  '-1',  2 ,  4 ]\n",
        "  , [   '2',  3 ,  6 ]\n",
        "  , [  '+3',  3 ,  3 ]\n",
        "  , [   '4',  7 ,  5 ]\n",
        "  , [  '+5',  5 ,  5 ]\n",
        "  , [   '6',  7 ,  8 ]\n",
        "  , [   '7',  9 ,  6 ]\n",
        "  , [  '+8',  7 ,  8 ]\n",
        "  , [  '+9',  9 ,  7 ]\n",
        "  ])\n",
        "#-------------------------------------------------------------------------------\n",
        "display_problem('prob5_7')"
      ],
      "metadata": {
        "id": "frl8YBPHsHKj"
      },
      "execution_count": null,
      "outputs": []
    },
    {
      "cell_type": "markdown",
      "source": [
        "---\n",
        "**Problem 5.8:** Build an FA that accepts only those words that have an even number of substrings *ab*.\n",
        "\n",
        "**Answer 5.8: ???**\n",
        "- RE: $\\quad (abab)^{*}$\n",
        "- RE: $\\quad (aa^{*}bb^{*}aa^{*}bb^{*})^{*}$"
      ],
      "metadata": {
        "id": "PKcqkKwxJmC7"
      }
    },
    {
      "cell_type": "code",
      "source": [
        "FA['prob5_8_1'] = (\\\n",
        "  \"$(abab)^{*}$\"\n",
        ", ARBNO(σ('abab'))\n",
        ", [ [  ' ', 'a', 'b']\n",
        "  , [ '-1',  2 ,  6 ]\n",
        "  , [  '2',  6 ,  3 ]\n",
        "  , [  '3',  4 ,  6 ]\n",
        "  , [  '4',  6 ,  5 ]\n",
        "  , [ '+5',  2 ,  6 ]\n",
        "  , [  '6',  6 ,  6 ]])\n",
        "#-------------------------------------------------------------------------------\n",
        "display_problem('prob5_8_1')"
      ],
      "metadata": {
        "id": "1WFI-oX0sMIJ"
      },
      "execution_count": null,
      "outputs": []
    },
    {
      "cell_type": "code",
      "source": [
        "FA['prob5_8_2'] = (\\\n",
        "  \"$(aa^{*}bb^{*}aa^{*}bb^{*})^{*}$\"\n",
        ", ARBNO(\n",
        "    σ('a') + ARBNO(σ('a')) + σ('b') + ARBNO(σ('b'))\n",
        "  + σ('a') + ARBNO(σ('a')) + σ('b') + ARBNO(σ('b'))\n",
        "  )\n",
        ", [ [   ' ', 'a', 'b']\n",
        "  , [ '-+1',  2 ,  1 ]\n",
        "  , [   '2',  2 ,  3 ]\n",
        "  , [   '3',  4 ,  3 ]\n",
        "  , [   '4',  4 ,  1 ]\n",
        "  ])\n",
        "#-------------------------------------------------------------------------------\n",
        "display_problem('prob5_8_2')"
      ],
      "metadata": {
        "id": "qg1esDfVTJSN"
      },
      "execution_count": null,
      "outputs": []
    },
    {
      "cell_type": "markdown",
      "source": [
        "---\n",
        "**Problem 5.9:**\n",
        "* (i) Recall from Chapter 4 the language of all words over the alphabet {*a b*} that have both the letter *a* and the letter *b* in them, but not necessarily in that order. Build an FA that accepts this language.\n",
        "* (ii) Build an FA that accepts the language of all words with only *a*'s or only *b*'s in them. Give a regular expression for this language.\n",
        "\n",
        "**Answer 5.9:**\n",
        "- (i) RE: $(a+b)^{*}(ab+ba)(a+b)^{*}$ or $\\quad (aa^{*}b+bb^{*}a)(a+b)^{*}$\n",
        "- (ii) RE: $aa^{*}+bb^{*}$\n"
      ],
      "metadata": {
        "id": "jSqexNdIJmKJ"
      }
    },
    {
      "cell_type": "code",
      "source": [
        "FA['prob5_9_1'] = (\\\n",
        "  \"$(a+b)^{*}(ab+ba)(a+b)^{*}$\"\n",
        ", ARB() + σ('a') + ARB() + σ('b') + ARB()\n",
        "| ARB() + σ('b') + ARB() + σ('a') + ARB()\n",
        ", [ [  ' ', 'a', 'b']\n",
        "  , [ '-1',  2 ,  3 ]\n",
        "  , [  '2',  2 ,  4 ]\n",
        "  , [  '3',  4 ,  3 ]\n",
        "  , [ '+4',  4 ,  4 ]])\n",
        "#-------------------------------------------------------------------------------\n",
        "display_problem('prob5_9_1')"
      ],
      "metadata": {
        "id": "a0i2R8o-8Fw5"
      },
      "execution_count": null,
      "outputs": []
    },
    {
      "cell_type": "code",
      "source": [
        "FA['prob5_9_2'] = (\\\n",
        "  \"$aa^{*}+bb^{*}$\"\n",
        ", SPAN(\"a\") | SPAN(\"b\")\n",
        ", [ [  ' ', 'a', 'b']\n",
        "  , [ '-1',  2 ,  3 ]\n",
        "  , [ '+2',  2 ,  4 ]\n",
        "  , [ '+3',  4 ,  3 ]\n",
        "  , [  '4',  4 ,  4 ]])\n",
        "#-------------------------------------------------------------------------------\n",
        "display_problem('prob5_9_2')"
      ],
      "metadata": {
        "id": "scUJ4hptTtSD"
      },
      "execution_count": null,
      "outputs": []
    },
    {
      "cell_type": "markdown",
      "source": [
        "---\n",
        "**Problem 5.10:** Consider all the possible FAs over the alphabet { a, b } that have exactly two states. An FA must have a designated start state, but there are four possible ways to place the *+*'s:\n",
        "\n",
        "Type 1: ['-',  '']\n",
        "Type 2: ['-+', '']\n",
        "Type 3: ['-',  '+']\n",
        "Type 4: ['-+', '+']\n",
        "\n",
        "Each FA needs four edges (two from each state), each of which can lead to either of the states. There are $2^{4}=16$ ways to arrange the labeled edges for each of the four types of FAs. Therefore, in total there are 64 different FAs of two states. However, they do not represent 64 non-equivalent FAs because they are not all associated with different languages. All type 1 FAs do not accept any words at all, whereas all FAs of type 4 accepts all strings of *a*'s and *b*'s.\n",
        "\n",
        "* (i) Draw the remaining FAs of type 2.\n",
        "* (ii) Draw the remaining FAs of type 3.\n",
        "* (iii) Recalculate the total number of two-state machines using the transition table definition.\n",
        "\n",
        "**Book answer 5.10:**\n",
        "\n",
        "* (i-ii) *See below*\n",
        "* (iii) Transition tables for a two-state machine has four cells, two rows by two columns. Each may be filled with 1 or 2. So there are $2^4$ possibilities. There are still the same four ways to designate final states. Hence the total number of different transition tables is, surprise, 64, 2^4*4."
      ],
      "metadata": {
        "id": "I4Ss6kMeJmQ-"
      }
    },
    {
      "cell_type": "code",
      "source": [
        "import itertools\n",
        "FA_template = (\\\n",
        "  \"\"\n",
        ", ARB()\n",
        ", [ [ ' ', 'a', 'b']\n",
        "  , [ '1',  0 ,  0 ]\n",
        "  , [ '2',  0 ,  0 ]])\n",
        "#-------------------------------------------------------------------------------\n",
        "for t in range(1,3):\n",
        "    for i, combo in enumerate(itertools.product([1, 2], repeat=4)):\n",
        "        name = f\"prob_10_{i}\"\n",
        "        if t == 1:\n",
        "            FA_template[2][1][0] = '-+1'\n",
        "            FA_template[2][2][0] = '2'\n",
        "        if t == 2:\n",
        "            FA_template[2][1][0] = '-1'\n",
        "            FA_template[2][2][0] = '+2'\n",
        "        FA_template[2][1][1] = combo[0]\n",
        "        FA_template[2][1][2] = combo[1]\n",
        "        FA_template[2][2][1] = combo[2]\n",
        "        FA_template[2][2][2] = combo[3]\n",
        "        FA[name] = FA_template\n",
        "        display_problem(name)"
      ],
      "metadata": {
        "id": "Er_5Gy-ePy_q"
      },
      "execution_count": null,
      "outputs": []
    },
    {
      "cell_type": "markdown",
      "source": [
        "---\n",
        "**Problem 5.11:** Show that there are exactly 5832 different finite automata with three states *x* *y*, *z* over the alphabet {*a b*}, where *x* is always the start state.\n",
        "\n",
        "**Answer 5.11:** $1*2^3*3^6=5832$"
      ],
      "metadata": {
        "id": "XW6E7jjIJmZE"
      }
    },
    {
      "cell_type": "markdown",
      "source": [
        "---\n",
        "**Problem 5.12:** Suppose a particular FA, called FIN, has the property that it had only one final state that was not the start state. During the night, vandals come and switch the *+* sign with the *-* sign and reverse the direction of all the edges.\n",
        "* (i) Show that the picture that results might not actually be an FA at all by giving an example.\n",
        "* (ii) Suppose, however, that in a particular case what resulted was, in fact, a perfectly good FA. Let us call it NIF. Give an example of one such machine.\n",
        "* (iii) What is the relationship between the language accepted by FIN and the language accepted by NIF as described in part (ii)? Why?\n",
        "* (iv) One of the vandals told me that if in FIN the plus state and the minus state were the same state, then the language accepted by the machine could contain only palindromic words. Defeat this vandal by example.\n",
        "\n",
        "**Answer 5.12:**\n",
        "* (i) Any FA with a state having more than one incoming of the same character is problematic\n",
        "* (ii) Ensuring one of each in and out for each character of every state\n",
        "* (iii) The language accepted by NIF is the reverse of every word in the language accepted by FIN. For every path from one state to another in FIN, the exact reverse path exists in NIF."
      ],
      "metadata": {
        "id": "C-JT_BUwJmgK"
      }
    },
    {
      "cell_type": "code",
      "source": [
        "FA['prob5_12_1'] = (\\\n",
        "  \"\"\n",
        ", ARB()\n",
        ", [ [  ' ', 'a', 'b']\n",
        "  , [ '-1',  2 ,  3 ]\n",
        "  , [  '2',  2 ,  3 ]\n",
        "  , [ '+3',  3 ,  3 ]])\n",
        "#-------------------------------------------------------------------------------\n",
        "display_problem('prob5_12_1')"
      ],
      "metadata": {
        "id": "FcDC47LZCrqE"
      },
      "execution_count": null,
      "outputs": []
    },
    {
      "cell_type": "code",
      "source": [
        "FA['prob5_12_2'] = (\\\n",
        "  \"\"\n",
        ", ARB()\n",
        ", [ [  ' ', 'a', 'b']\n",
        "  , [ '-1',  2 ,  3 ]\n",
        "  , [  '2',  3 ,  1 ]\n",
        "  , [ '+3',  1 ,  2 ]])\n",
        "#-------------------------------------------------------------------------------\n",
        "display_problem('prob5_12_2')"
      ],
      "metadata": {
        "id": "qC5W_oCnGGTl"
      },
      "execution_count": null,
      "outputs": []
    },
    {
      "cell_type": "code",
      "source": [
        "FA['prob5_12_3'] = (\\\n",
        "  \"\"\n",
        ", ARB()\n",
        ", [ [  ' ', 'a', 'b']\n",
        "  , ['-+1',  2 ,  3 ]\n",
        "  , [  '2',  3 ,  1 ]\n",
        "  , [  '3',  1 ,  2 ]])\n",
        "#-------------------------------------------------------------------------------\n",
        "display_problem('prob5_12_3')"
      ],
      "metadata": {
        "id": "5ovflKMSLBE-"
      },
      "execution_count": null,
      "outputs": []
    },
    {
      "cell_type": "markdown",
      "source": [
        "---\n",
        "**Problem 5.13:** We define a removable state as a state such that if we erase the state itself and the edges that come out of it, what results is a perfectly good-looking FA.\n",
        "* (i) Give an example of an FA that contains a removable state.\n",
        "* (ii) Show that if we erase a removable state the language defined by the reduced FA is exactly the same as the language defined by the old FA.\n",
        "\n",
        "**Answer 5.13:**\n",
        "\n",
        "* (i) *See below*\n",
        "* (ii) An FA only retains its properties if the state being removed could not actually be reached, that is a state is removable only if there are no edges coming into it. Clearly if the stae is never used it has no bearing on the language that the FA accepts."
      ],
      "metadata": {
        "id": "HCxLActoJmnP"
      }
    },
    {
      "cell_type": "code",
      "source": [
        "FA['prob5_13_1'] = (\\\n",
        "  \"\"\n",
        ", ARB()\n",
        ", [ [  ' ', 'a', 'b']\n",
        "  , [ '-1',  1 ,  1 ]\n",
        "  , [ '+2',  1 ,  2 ]])\n",
        "#-------------------------------------------------------------------------------\n",
        "display_problem('prob5_13_1')"
      ],
      "metadata": {
        "id": "94ZSKZmTLVaZ"
      },
      "execution_count": null,
      "outputs": []
    },
    {
      "cell_type": "markdown",
      "source": [
        "---\n",
        "**Problem 5.14:**\n",
        "* (i) Build an FA that accepts the language of all strings of *a*'s and *b*'s such that the next to the last letter is an *a*.\n",
        "* (ii) Build an FA that accepts the language of all strings of length 4 or more such that the next-to-last letter is equal to the second letter of the input string.\n",
        "\n",
        "**Answer 5.14:** *See below*"
      ],
      "metadata": {
        "id": "Y7TP_cvkJmu3"
      }
    },
    {
      "cell_type": "code",
      "source": [
        "FA['prob5_14_1'] = (\\\n",
        "  \"\"\n",
        ", ARB()\n",
        ", [ [  ' ', 'a', 'b']\n",
        "  , [ '-1',  2 ,  1 ]\n",
        "  , [  '2',  3 ,  4 ]\n",
        "  , [ '+3',  3 ,  4 ]\n",
        "  , [ '+4',  3 ,  1 ]])\n",
        "#-------------------------------------------------------------------------------\n",
        "display_problem('prob5_14_1', verbose=True)"
      ],
      "metadata": {
        "id": "cHL2_MbOsUlo"
      },
      "execution_count": null,
      "outputs": []
    },
    {
      "cell_type": "code",
      "source": [
        "FA['prob5_14_2'] = (\\\n",
        "  \"\"\n",
        ", ARB()\n",
        ", [ [  ' ', 'a', 'b']\n",
        "  , [ '-1',  2 ,  2 ]\n",
        "  , [  '2',  3 ,  7 ]\n",
        "  , [  '3',  4 ,  3 ]\n",
        "  , [  '4',  5 ,  6 ]\n",
        "  , [ '+5',  5 ,  6 ]\n",
        "  , [ '+6',  5 ,  3 ]\n",
        "  , [  '7',  7 ,  8 ]\n",
        "  , [  '8', 10 ,  9 ]\n",
        "  , [ '+9', 10 ,  9 ]\n",
        "  , ['+10',  7 ,  9 ]])\n",
        "#-------------------------------------------------------------------------------\n",
        "display_problem('prob5_14_2', verbose=True)"
      ],
      "metadata": {
        "id": "M-YwGxuLSsWw"
      },
      "execution_count": null,
      "outputs": []
    },
    {
      "cell_type": "markdown",
      "source": [
        "---\n",
        "**Problem 5.15:** Build a machine that accepts all strings that have an even length that is not divisible by 6."
      ],
      "metadata": {
        "id": "c0FgjILrJm1s"
      }
    },
    {
      "cell_type": "code",
      "source": [
        "FA['prob5_15'] = (\\\n",
        "  \"\"\n",
        ", ARB\n",
        ", [ [  ' ', 'a', 'b']\n",
        "  , ['-+1',  2 ,  2 ]\n",
        "  , [  '2',  3 ,  3 ]\n",
        "  , [ '+3',  4 ,  4 ]\n",
        "  , [  '4',  5 ,  5 ]\n",
        "  , [ '+5',  6 ,  6 ]\n",
        "  , [  '6',  7 ,  7 ]\n",
        "  , [  '7',  2 ,  2 ]])\n",
        "#-------------------------------------------------------------------------------\n",
        "display_problem('prob5_15')"
      ],
      "metadata": {
        "id": "DM3NVa7_bAzP"
      },
      "execution_count": null,
      "outputs": []
    },
    {
      "cell_type": "markdown",
      "source": [
        "---\n",
        "**Problem 5.16:** Build an FA such that when the labels *a* and *b* are swapped the new machine is different from the old one but equivalent (the language defined by these machines is the same).\n",
        "\n",
        "**Answer 5.16:** *See below*"
      ],
      "metadata": {
        "id": "84LuF9RDJm8w"
      }
    },
    {
      "cell_type": "code",
      "source": [
        "FA['prob5_16'] = (\\\n",
        "  \"\"\n",
        ", ARB\n",
        ", [ [  ' ', 'a', 'b']\n",
        "  , [ '-1',  2 ,  2 ]\n",
        "  , [ '+2',  3 ,  4 ]\n",
        "  , [  '3',  4 ,  3 ]\n",
        "  , [  '4',  3 ,  3 ]])\n",
        "#-------------------------------------------------------------------------------\n",
        "display_problem('prob5_16')"
      ],
      "metadata": {
        "id": "wM3c9wI0Fvbe"
      },
      "execution_count": null,
      "outputs": []
    },
    {
      "cell_type": "markdown",
      "source": [
        "---\n",
        "**Problem 5.17:**\n",
        "* (i-iii) Describe in English the languages accepted by the following FAs.\n",
        "* (iv) Write regular expressions for the languages accepted by these three machines.\n",
        "\n",
        "**Answer 5.17:**\n",
        "* (i) odd-length sequence ending in *a*\n",
        "* (ii) non-null even-length sequence ending in *a*\n",
        "* (iii) non-null even-length sequence of *xa*\n",
        "* (iv) *See below*\n"
      ],
      "metadata": {
        "id": "ClLPMlv-JnD3"
      }
    },
    {
      "cell_type": "code",
      "source": [
        "FA['prob5_17_1'] = (\\\n",
        "  \"$(aa+ab+ba+bb)a$\"\n",
        ", ARB\n",
        ", [ [  ' ', 'a', 'b']\n",
        "  , [  '1',  2 ,  2 ]\n",
        "  , [ '-2',  3 ,  1 ]\n",
        "  , [ '+3',  2 ,  2 ]])\n",
        "#-------------------------------------------------------------------------------\n",
        "display_problem('prob5_17_1')"
      ],
      "metadata": {
        "id": "zuxqwT8Cj5dF"
      },
      "execution_count": null,
      "outputs": []
    },
    {
      "cell_type": "code",
      "source": [
        "FA['prob5_17_2'] = (\\\n",
        "  \"$(a+b)(aa+ab+ba+bb)a$\"\n",
        ", ARB\n",
        ", [ [  ' ', 'a', 'b']\n",
        "  , [ '-1',  2 ,  2 ]\n",
        "  , [  '2',  3 ,  4 ]\n",
        "  , [ '+3',  2 ,  2 ]\n",
        "  , [  '4',  2 ,  2 ]])\n",
        "#-------------------------------------------------------------------------------\n",
        "display_problem('prob5_17_2')"
      ],
      "metadata": {
        "id": "U_8ShUcNnPWI"
      },
      "execution_count": null,
      "outputs": []
    },
    {
      "cell_type": "code",
      "source": [
        "FA['prob5_17_3'] = (\\\n",
        "  \"$(aa+ba)(aa+ba)^{*}$\"\n",
        ", ARB\n",
        ", [ [  ' ', 'a', 'b']\n",
        "  , [ '-1',  2 ,  2 ]\n",
        "  , [  '2',  3 ,  5 ]\n",
        "  , [ '+3',  4 ,  4 ]\n",
        "  , [  '4',  3 ,  5 ]\n",
        "  , [  '5',  5 ,  5 ]])\n",
        "#-------------------------------------------------------------------------------\n",
        "display_problem('prob5_17_3')"
      ],
      "metadata": {
        "id": "NVhUgBGkpEWk"
      },
      "execution_count": null,
      "outputs": []
    },
    {
      "cell_type": "markdown",
      "source": [
        "---\n",
        "**Problem 5.18:** The following is an FA over the alphabet $\\Sigma = \\{ a\\, b\\, c \\}$. Prove that it acepts all strings that have an odd number of ocurrences of the substring *abc*.\n",
        "\n",
        "**Answer 5.18:** The machine will stay in states 1, 2, or 3 until *abc* is seen leading to state 4. The machine will stay in states 4, 5, or 6 until another *abc* is seen leading to state 1, and repeat. So no occurence of *abc* seen while in states 1-3, and one occurrence seen while in states 4-6. Due to repitition, this translates to even and odd. All states 4-6 are final states."
      ],
      "metadata": {
        "id": "LamdorERJnK9"
      }
    },
    {
      "cell_type": "code",
      "source": [
        "FA['prob5_18'] = (\\\n",
        "  \"\"\n",
        ", ARB\n",
        ", [ [  ' ', 'a', 'b', 'c']\n",
        "  , [ '-1',  2 ,  1 ,  1 ]\n",
        "  , [  '2',  2 ,  3 ,  1 ]\n",
        "  , [  '3',  2 ,  1 ,  4 ]\n",
        "  , [ '+4',  5 ,  4 ,  4 ]\n",
        "  , [ '+5',  5 ,  6 ,  4 ]\n",
        "  , [ '+6',  5 ,  4 ,  1 ]])\n",
        "#-------------------------------------------------------------------------------\n",
        "display_problem('prob5_18')"
      ],
      "metadata": {
        "id": "imNNBvmAtVPk"
      },
      "execution_count": null,
      "outputs": []
    },
    {
      "cell_type": "markdown",
      "source": [
        "---\n",
        "**Problem 5.19:** Consider the following FA:\n",
        "* (i) Show that any input string with more than three letters is not accepted by this FA.\n",
        "* (ii) Show that the only words accepted are *a*, *aab*, and *bab*.\n",
        "* (iii) Show that by changing the location of *+* signs, we can make this FA accept the language { *bb* *aba* *bba* }.\n",
        "* (iv) Show that any language in which the words have fewer than four letters can be accepted by a machine that looks like this one with the *+* signs in different places.\n",
        "* (v) Prove that if L is a finite language, then there is some FA that accepts L extending the binary-tree part of this machine several more layers if necessary.\n",
        "\n",
        "**Book answer 5.19:**\n",
        "* (i) This FA starts out like a binary tree. For the first three letters of the input, each time we read a letter we reach some node on the next level. However reading any more letters traps us in the dead end state at the bottom. So no word of more than three letters can be accepted.\n",
        "* (ii) There are exactly three final states in the machine. Concatenation of the labels on the transitions to these states shows that the machine accepts the words *a*, *aab*, and *bab*.\n",
        "* (iii) Eliminate the three existing pluses. Place new pluses in each of the following states, the right-most node on level two, the third node from the left on level three, and the second node from the right also on level three.\n",
        "* (iv) Each of the 15 possible strings with less than four letters is represented by one of the nodes (excluding the dead end state). Note the lexicographic order. Simply mark those nodes that represent the words in the language with plus signs.\n",
        "* (v) Since L is finite, we can determine the longest word and then build a binary tree large enough to accommodate it. Next we add a dead end state with transitions from all the leaves and itself. For every word in L, we place a plus in the appropriate, unique state."
      ],
      "metadata": {
        "id": "QqoIKGRVJnR6"
      }
    },
    {
      "cell_type": "code",
      "source": [
        "FA['prob5_19'] = (\\\n",
        "  \"\"\n",
        ", ARB\n",
        ", [ [   ' ', 'a', 'b']\n",
        "  , [  '-1',  2 ,  3 ]\n",
        "  , [   '2',  4 ,  5 ]\n",
        "  , [   '3',  6 ,  7 ]\n",
        "  , [   '4',  8 ,  9 ]\n",
        "  , [   '5', 10 , 11 ]\n",
        "  , [   '6', 12 , 13 ]\n",
        "  , [   '7', 14 , 15 ]\n",
        "  , [   '8', 16 , 16 ]\n",
        "  , [   '9', 16 , 16 ]\n",
        "  , [  '10', 16 , 16 ]\n",
        "  , [  '11', 16 , 16 ]\n",
        "  , [  '12', 16 , 16 ]\n",
        "  , [  '13', 16 , 16 ]\n",
        "  , [  '14', 16 , 16 ]\n",
        "  , [  '15', 16 , 16 ]\n",
        "  , [  '16', 16 , 16 ]])\n",
        "#-------------------------------------------------------------------------------\n",
        "display_problem('prob5_19')"
      ],
      "metadata": {
        "id": "t_Ws-PdJygCm"
      },
      "execution_count": null,
      "outputs": []
    },
    {
      "cell_type": "markdown",
      "source": [
        "---\n",
        "**Problem 5.20:** Let us consider the possibility of an infinite automaton that starts with this infinite binary tree. Let L be any infinite language of strings of *a*'s and *b*s whatsoever. Show that by the judicious placement of *+*'s, we can turn the picture above into an infinite automaton to accept the language L. Show that for any given finite string, we can determine from this machine, in a finite time, whether it is a word in L. Discuss why this machine would not be a satisfactory language-definer for L.\n",
        "\n",
        "**Book answer 5.20:** Even though the binary tree is infinite, the machine retains the uniqueness property (of the machines described in problem 19) that the path for every string ends in a different state. Surely just by placing the plus signs in the nodes that represent words in L would constitute an infinite automata. However, the machine obviously fails to define the language because no one can write down the infintely large picture."
      ],
      "metadata": {
        "id": "fV4oK9NkJnYI"
      }
    },
    {
      "cell_type": "markdown",
      "source": [
        "---\n",
        "**Chapter 6: Transition Graphs**"
      ],
      "metadata": {
        "id": "4xTrly0sevX1"
      }
    },
    {
      "cell_type": "code",
      "source": [
        "import networkx as nx\n",
        "from io import BytesIO\n",
        "from PIL import Image\n",
        "from IPython.display import display\n",
        "from networkx.drawing.nx_agraph import to_agraph\n",
        "TG = {}\n",
        "def display_TG_problem(name):\n",
        "    data = TG[name]\n",
        "    starts, finals, states = [], set(), set()\n",
        "    for code, trans in data:\n",
        "        sid = code.lstrip('+-')\n",
        "        states.add(sid)\n",
        "        if code.startswith('-'): starts.append(sid)\n",
        "        if code.startswith('+'): finals.add(sid)\n",
        "        for tgt, _ in trans:\n",
        "            states.add(str(tgt))\n",
        "    G = nx.DiGraph()\n",
        "    for sid in states:\n",
        "        if sid in finals:\n",
        "            G.add_node(sid, shape='doublecircle', color='white',\n",
        "                penwidth='2', style='filled', fillcolor='white', fontcolor='black')\n",
        "        else:\n",
        "            G.add_node(sid, shape='circle', color='black',\n",
        "                style='filled', fillcolor='white', fontcolor='black')\n",
        "    edge_labels = {}\n",
        "    for code, trans in data:\n",
        "        src = code.lstrip('+-')\n",
        "        for tgt, lbl in trans:\n",
        "            key = (src, str(tgt))\n",
        "            if key in edge_labels:\n",
        "                edge_labels[key].append(lbl)\n",
        "            else:\n",
        "                edge_labels[key] = [lbl]\n",
        "    for (src, tgt), labels in edge_labels.items():\n",
        "        G.add_edge(src, tgt, label=\", \".join(labels), color='white', fontcolor='white', fontsize='12')\n",
        "    A = to_agraph(G)\n",
        "    A.node_attr.update(style='filled', fillcolor='white', fontcolor='black')\n",
        "    A.graph_attr.update(bgcolor='black', rankdir='LR')\n",
        "    if starts:\n",
        "        anchor = f'__start__{name}'\n",
        "        A.add_node(anchor, label='', shape='none', width=0, height=0)\n",
        "        for s in starts:\n",
        "            A.add_edge(anchor, s, color='white')\n",
        "    img = BytesIO()\n",
        "    A.draw(img, format='png', prog='dot')\n",
        "    img.seek(0)\n",
        "    display(Image.open(img))"
      ],
      "metadata": {
        "id": "88jBxEyf3lSN"
      },
      "execution_count": null,
      "outputs": []
    },
    {
      "cell_type": "markdown",
      "source": [
        "---\n",
        "**Problem 6.1:** For each of the five FAs pictured in Problems 17, 19, and 20 in Chapter 5, build a transition graph that accepts the same language but has fewer states.\n",
        "\n",
        "**Answer 6.1:**"
      ],
      "metadata": {
        "id": "xQZQrPbxex2r"
      }
    },
    {
      "cell_type": "markdown",
      "source": [
        "---\n",
        "**Problem 6.2:** For each of the next 10 words, decide which of the six machines on the next page accept the given word.\n",
        "* (i) Λ\n",
        "* (ii) *a*\n",
        "* (iii) *b*\n",
        "* (iv) *aa*\n",
        "* (v) *ab*\n",
        "* (vi) *aba*\n",
        "* (vii) *abba*\n",
        "* (viii) *bab*\n",
        "* (ix) *baab*\n",
        "* (x) *abbb*\n",
        "\n",
        "**Answer 6.2:**"
      ],
      "metadata": {
        "id": "yIDq2Gq1fAy4"
      }
    },
    {
      "cell_type": "code",
      "source": [
        "TG['prob6_2_1'] = \\\n",
        "  [ [  '-1', [(2, \"a\"), (4, \"ab\"), (4, \"b\")]]\n",
        "  , [   '2', [(2, \"b\"), (3, \"Λ\")]]\n",
        "  , [   '3', [(3, \"b\"), (4, \"a\")]]\n",
        "  , [  '+4', []]\n",
        "  ]\n",
        "#-------------------------------------------------------------------------------\n",
        "TG['prob6_2_2'] = \\\n",
        "  [ [ '-+1', [(2, \"a\"), (3, \"b\")]]\n",
        "  , [   '2', [(2, \"a\"), (3, \"b\")]]\n",
        "  , [  '+3', []]\n",
        "  ]\n",
        "#-------------------------------------------------------------------------------\n",
        "TG['prob6_2_3'] = \\\n",
        "  [ [  '-1', [(1, \"ab\"), (1, \"ba\"), (2, \"aa\"), (2, \"bb\")]]\n",
        "  , [  '+2', [(2, \"ab\"), (2, \"ba\"), (2, \"aa\"), (2, \"bb\")]]\n",
        "  ]\n",
        "#-------------------------------------------------------------------------------\n",
        "TG['prob6_2_4'] = \\\n",
        "  [ [  '-1', [(2, \"a\"), (3, \"b\")]]\n",
        "  , [  '+2', [(1, \"a\"), (2, \"b\")]]\n",
        "  , [  '+3', [(3, \"a\"), (1, \"b\")]]\n",
        "  ]\n",
        "#-------------------------------------------------------------------------------\n",
        "TG['prob6_2_5'] = \\\n",
        "  [ [ '-+1', [(2, \"Λ\"), (5, \"Λ\")]]\n",
        "  , [   '2', [(3, \"a\"), (2, \"b\")]]\n",
        "  , [   '3', [(4, \"a\"), (3, \"b\")]]\n",
        "  , [  '+4', [(4, \"b\")]]\n",
        "  , [   '5', [(5, \"a\"), (6, \"b\")]]\n",
        "  , [   '6', [(6, \"a\"), (7, \"b\")]]\n",
        "  , [  '+7', [(7, \"a\")]]\n",
        "  ]\n",
        "#-------------------------------------------------------------------------------\n",
        "TG['prob6_2_6'] = \\\n",
        "  [ [  '-1', [(2, \"ab\"), (4, \"a\")]]\n",
        "  , [  '+2', [(3, \"bb\")]]\n",
        "  , [  '+3', []]\n",
        "  , [   '4', [(4, \"b\"), (3, \"a\")]]\n",
        "  ]\n",
        "#-------------------------------------------------------------------------------\n",
        "display_TG_problem('prob6_2_1')\n",
        "display_TG_problem('prob6_2_2')\n",
        "display_TG_problem('prob6_2_3')\n",
        "display_TG_problem('prob6_2_4')\n",
        "display_TG_problem('prob6_2_5')\n",
        "display_TG_problem('prob6_2_6')"
      ],
      "metadata": {
        "id": "gtXSX5qQzXEn"
      },
      "execution_count": null,
      "outputs": []
    },
    {
      "cell_type": "markdown",
      "source": [
        "---\n",
        "**Problem 6.3:** Show that any language that can be accepted by a TG can be accepted by a TG with an even number of states.\n",
        "\n",
        "**Answer 6.3:**"
      ],
      "metadata": {
        "id": "WHTaAlxFfA9k"
      }
    },
    {
      "cell_type": "code",
      "source": [],
      "metadata": {
        "id": "htmCGxWisIZ6"
      },
      "execution_count": null,
      "outputs": []
    },
    {
      "cell_type": "markdown",
      "source": [
        "---\n",
        "**Problem 6.4:** How many different TGs are there over the alphabet { *a*, *b* } That have two states?\n",
        "\n",
        "**Answer 6.4:**"
      ],
      "metadata": {
        "id": "S1h2TwfhfBV_"
      }
    },
    {
      "cell_type": "markdown",
      "source": [
        "---\n",
        "**Problem 6.5:** Prove that for every TG there is another TG that accepts the same language but has only one *+* state.\n",
        "\n",
        "**Answer 6.5:**"
      ],
      "metadata": {
        "id": "5AD5CMMmfBcE"
      }
    },
    {
      "cell_type": "markdown",
      "source": [
        "---\n",
        "**Problem 6.6:** Build a TG that accepts the language $L_1$ of all words that begin and end with the same double letter, either of the form *aa...aa* or *bb...bb*. Note: *aaa* and *bbb* are not words in the language.\n",
        "\n",
        "**Answer 6.6:**"
      ],
      "metadata": {
        "id": "ny0Kcs71fBwL"
      }
    },
    {
      "cell_type": "markdown",
      "source": [
        "---\n",
        "**Problem 6.7:** If OURSPONSER is a language that is accepted by a TG called Henry, prove that there is a TG that accepts the language of all strings of *a*'s and *b's that end in a word from OURSPONSER.\n",
        "\n",
        "**Answer 6.7:**"
      ],
      "metadata": {
        "id": "z44MAyQCfB2_"
      }
    },
    {
      "cell_type": "markdown",
      "source": [
        "---\n",
        "**Problem 6.8:**\n",
        "* (i) Suppose that $L$ is a finite language whose words are $w_1, w_2, w_3, ..., w_83.$ Prove that there is a TG that accepts exactly the language $L$.\n",
        "* (ii) Of all TGs that accept exactly the language $L$, what is the one with the fewest number of states?\n",
        "\n",
        "**Answer 6.8:**"
      ],
      "metadata": {
        "id": "P9RJ_977fB-O"
      }
    },
    {
      "cell_type": "markdown",
      "source": [
        "---\n",
        "**Problem 6.9:** Give a TG, called $TG_1$, that accepts the language $L_1$ and a TG, called $TG_2$ that accepts the language $L_2$, show how to build a new TG (called $TG_3$) that accepts exactly the language $L_1 + L_2$.\n",
        "\n",
        "**Answer 6.9:**"
      ],
      "metadata": {
        "id": "qTWdyg9nfCEz"
      }
    },
    {
      "cell_type": "markdown",
      "source": [
        "---\n",
        "**Problem 6.10:** Given $TG_1$ and $TG_2$ as described in Problem 6.9, show how to build $TG_4$ that accepts exactly the language $L_1L_2.$\n",
        "\n",
        "**Answer 6.10:**"
      ],
      "metadata": {
        "id": "ngy_futPfCLg"
      }
    },
    {
      "cell_type": "markdown",
      "source": [
        "---\n",
        "**Problem 6.11:**\n",
        "\n",
        "**Answer 6.11:**"
      ],
      "metadata": {
        "id": "vDaQhBobfCbv"
      }
    },
    {
      "cell_type": "markdown",
      "source": [
        "---\n",
        "**Problem 6.12:**\n",
        "\n",
        "**Answer 6.12:**"
      ],
      "metadata": {
        "id": "ESfs2BQOfCkO"
      }
    },
    {
      "cell_type": "markdown",
      "source": [
        "---\n",
        "**Problem 6.13:**\n",
        "\n",
        "**Answer 6.13:**"
      ],
      "metadata": {
        "id": "ue3xALYgfCsk"
      }
    },
    {
      "cell_type": "markdown",
      "source": [
        "---\n",
        "**Problem 6.14:**\n",
        "\n",
        "**Answer 6.14:**"
      ],
      "metadata": {
        "id": "5PxVv9F-fCz5"
      }
    },
    {
      "cell_type": "markdown",
      "source": [
        "---\n",
        "**Problem 6.15:**\n",
        "\n",
        "**Answer 6.15:**"
      ],
      "metadata": {
        "id": "FDJB2wwufC7G"
      }
    },
    {
      "cell_type": "markdown",
      "source": [
        "---\n",
        "**Problem 6.16:**\n",
        "\n",
        "**Answer 6.16:**"
      ],
      "metadata": {
        "id": "AmRCPJ1ufXAb"
      }
    },
    {
      "cell_type": "markdown",
      "source": [
        "---\n",
        "**Problem 6.17:**\n",
        "\n",
        "**Answer 6.17:**"
      ],
      "metadata": {
        "id": "ATU5ml--fXIA"
      }
    },
    {
      "cell_type": "markdown",
      "source": [
        "---\n",
        "**Problem 6.18:**\n",
        "\n",
        "**Answer 6.18:**"
      ],
      "metadata": {
        "id": "GrQUNfBsfXP_"
      }
    },
    {
      "cell_type": "markdown",
      "source": [
        "---\n",
        "**Problem 6.19:**\n",
        "\n",
        "**Answer 6.19:**"
      ],
      "metadata": {
        "id": "3cvYrZP-fXX9"
      }
    },
    {
      "cell_type": "markdown",
      "source": [
        "---\n",
        "**Problem 6.20:**\n",
        "\n",
        "**Answer 6.20:**"
      ],
      "metadata": {
        "id": "DS1Rq3yhfXgr"
      }
    }
  ]
}