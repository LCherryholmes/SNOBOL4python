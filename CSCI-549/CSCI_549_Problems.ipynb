{
  "nbformat": 4,
  "nbformat_minor": 0,
  "metadata": {
    "colab": {
      "provenance": [],
      "collapsed_sections": [
        "rNMGgXAjph2M",
        "pvOs7LYJWg89",
        "yCYvSVatuP_t",
        "JPjTJCckup4e",
        "jHW0ESdZWjCV",
        "F1DRO4mqZf-d",
        "nKyo-hXKxA2Q",
        "PdGGxG64ZiCo",
        "LqCPPrZyZiap",
        "PIn12RAaZirD",
        "YCxSfbvoir55",
        "h-am_d3DlIix",
        "zE50IilimoIC",
        "iDkEZ_fgoQZw",
        "lCrWzzt2Voja",
        "heg_i_LjVuyl",
        "ua-s1s8ZYLTz",
        "OQw8tyhNYi4C",
        "xDhSdETVYkcb",
        "aVE9PmFUZOME",
        "Jx468yuqZOZT",
        "9MnhJiHbZOlu",
        "pulED91WZOwc",
        "M4Cq2CoUq75z",
        "TCY9gRCjrYVF",
        "iqndwQMysEE1",
        "grbuYmpysrMX",
        "Z7WcynvXtix4",
        "0Bb7gqZuuvt1",
        "acHaDNtMu0f7",
        "rMnOiW_Ux7Nw",
        "ApWflOOz9Xv2",
        "mXiCYgE39YIT",
        "b_pb9IXjCiiC",
        "UXezQiA0DWdo",
        "aKv6mTZ5Ee2V",
        "3q98Wv8kcRtc",
        "XY3n-6u2oznY",
        "NxkkyVaJQwi8",
        "KT72DTgORof5",
        "j5Tivw0ySAxm",
        "MrKukPfsSA4c",
        "Ikc2DX3fSBBW",
        "n71p6prZSBK5",
        "B80v7xQnSSlp",
        "3zMEj22iSSu9",
        "8RBVUYALSS2T",
        "xTE0gDaMSTzs",
        "pAvrSU_pST8D",
        "biQzrBMASUBH",
        "LTJB8dK3SUGV",
        "agyC7aWkSULD",
        "H7MyZqY-SUPx",
        "x5wICglTSUU-",
        "ojXwNd_HSUZ9",
        "tARV7x_bSUfD",
        "RlFXX-J2SUkA",
        "CLDDHKmISsTW",
        "ZZdolncsclDu",
        "1LZyeIBk83-U",
        "fdY70w6Gw79m",
        "8qe6cKe6ejfT",
        "LMYRdvuiQEbl",
        "GjCaSuZdTmum",
        "jQvAcQLxQk2c",
        "OWUIwmFrT6tA",
        "oH7HInaDQyxQ",
        "qMm7iqJTQ_ki",
        "6FPuVlaz9J4n",
        "UxL85lY59Q24",
        "ugTQorST9RD-",
        "CYQ9biYs9RM8",
        "8rwqLGnE9RTR",
        "rGRk0h7T9Rj2",
        "4-LE6A6f9Rpj",
        "2YRT7wCQ9RwQ",
        "0Wk9Gwtf9R3G",
        "_6T1vye_9R9j",
        "_659sySH9SMZ",
        "pwW3VHGx9SSe",
        "RKXeadfR9SYE",
        "HSVF-v2c9SdR",
        "X7ijcRDS9SjG",
        "qzjlYCfI9SvN",
        "t_kdG08T9S05",
        "g_wluocP9S6X",
        "a5NAQP979S_l",
        "Woh_MWpJ9TFT",
        "XulXWX_BJKLD",
        "G6KSrDhgsI_M",
        "pH0DVXDdJega",
        "ZtdnMh6IJlQh",
        "-LFG4P6hJlXm",
        "IyWbBjIvJle0",
        "44dMX2vLJlla",
        "nD6JRDgVJl0Y",
        "U15TRzybJl7F",
        "PKcqkKwxJmC7",
        "jSqexNdIJmKJ",
        "I4Ss6kMeJmQ-",
        "XW6E7jjIJmZE",
        "C-JT_BUwJmgK",
        "HCxLActoJmnP",
        "Y7TP_cvkJmu3",
        "c0FgjILrJm1s",
        "84LuF9RDJm8w",
        "ClLPMlv-JnD3",
        "LamdorERJnK9",
        "QqoIKGRVJnR6",
        "fV4oK9NkJnYI",
        "4xTrly0sevX1",
        "LQJG4NY_uY_h",
        "xQZQrPbxex2r",
        "yIDq2Gq1fAy4",
        "WHTaAlxFfA9k",
        "S1h2TwfhfBV_",
        "5AD5CMMmfBcE",
        "ny0Kcs71fBwL",
        "z44MAyQCfB2_",
        "P9RJ_977fB-O",
        "qTWdyg9nfCEz",
        "ngy_futPfCLg",
        "vDaQhBobfCbv",
        "ESfs2BQOfCkO",
        "ue3xALYgfCsk",
        "5PxVv9F-fCz5",
        "FDJB2wwufC7G",
        "AmRCPJ1ufXAb",
        "ATU5ml--fXIA",
        "GrQUNfBsfXP_",
        "3cvYrZP-fXX9",
        "DS1Rq3yhfXgr",
        "y08QTHAae1of",
        "SWd6X13tfQ7w",
        "hrcj0bcjfana",
        "sIe35HImpGnq",
        "LDaaSd24fa9C",
        "TCQEaI8FfbLA",
        "iO7I1BlGfbVX",
        "C85ibh7sfbhj",
        "0c17iBSwfbrZ",
        "J3p-IQj0fb1V",
        "LOzNasm2fb90",
        "K9D3ERtEfcGA",
        "cQDEjXNVfcO-",
        "s_tDKrWMfcXH",
        "MzrZyiU3fcfV",
        "Rkwwk5erfcng",
        "LgQ8oxVVfcv-",
        "y769weuOfc3s",
        "S2gJjtUufc_s",
        "buvS3WJJfdII",
        "6P5s2o7zfdQO",
        "14Y8ernsfdYM",
        "YnkuxriPdPwz",
        "hSjV_uSa37L9",
        "1JMk-PCW3_2M",
        "x30Oh-vz4tZG",
        "nvBgvn154vEV",
        "BLa_3Br14vUy",
        "XsRXYixa4vhw",
        "6N3RovQ04wTv",
        "URpb6niq4waU",
        "_GXQq7pC4wg6",
        "BrRTcU5_4wnX",
        "jRnfeDHe4wtm",
        "xqsoJt4v4w0U",
        "5A4QDP4Q4w7R",
        "x4sfAWrU4xBv",
        "mCQ_rZ9Kg61H",
        "pkX2dAyq4xIF",
        "0SlXDej_4xOk",
        "v8xLEVDi4xVO",
        "eR7NlrNvlAeh",
        "AZPiaQAg4xbg",
        "EOtzGcrY4xiI",
        "pKoeK3lc4xoc",
        "pirlHPQE4xvD",
        "3_2H-Pc3-3l7",
        "slUdkdE0-9vx",
        "MpfEwH5ri7lW",
        "1nqPiKrOnejy",
        "T3q1iN4-nnu5",
        "h8vt0g1knxB8",
        "EPjyLmN3nxML",
        "TFLRrtegnxUn",
        "61iCt9JQnxcm",
        "-Oh3UTZLnxjc",
        "sFrT-gQYnxnr",
        "ol103GQMnxqw",
        "m0bJytPPnxuO",
        "CpsBrXeynxxc",
        "tw3N881Inx1B",
        "HZQF3dzknx4J",
        "8DmSKZ7tnx7N",
        "mJMixWeHnx-T",
        "E5KBdht4nyBg",
        "zOkjlXVmnyEv",
        "Ua7Tj5GtnyIF",
        "yrrh4oV_nyLL",
        "fMpx1AhLnyPJ",
        "jf28-ObnnyS_"
      ]
    },
    "kernelspec": {
      "name": "python3",
      "display_name": "Python 3"
    },
    "language_info": {
      "name": "python"
    }
  },
  "cells": [
    {
      "cell_type": "markdown",
      "source": [
        "# **Introduction to Computer Theory, 2nd. Edition by Daniel Cohen**\n",
        "\n",
        "CSCI-549 East Texas A&M University\n",
        "\n",
        "Lon Cherryholmes, Sr."
      ],
      "metadata": {
        "id": "rNMGgXAjph2M"
      }
    },
    {
      "cell_type": "code",
      "source": [
        "!pip install SNOBOL4python==0.4.5\n",
        "!apt-get install -y graphviz libgraphviz-dev\n",
        "!pip install pygraphviz\n",
        "!pip install networkx"
      ],
      "metadata": {
        "id": "mcSv680JyL_L"
      },
      "execution_count": null,
      "outputs": []
    },
    {
      "cell_type": "code",
      "source": [
        "import re\n",
        "import graphviz\n",
        "from graphviz import Digraph\n",
        "from itertools import product\n",
        "from pprint import pformat, pprint\n",
        "from IPython.display import display, Latex, Markdown\n",
        "from pprint import pprint, pformat\n",
        "## Thirty one (31) flavors of patterns to choose from ...\n",
        "from SNOBOL4python import ε, σ, π, λ, Λ, ζ, θ, Θ, φ, Φ, α, ω\n",
        "from SNOBOL4python import ABORT, ANY, ARB, ARBNO, BAL, BREAK, BREAKX, FAIL\n",
        "from SNOBOL4python import FENCE, LEN, MARB, MARBNO, NOTANY, POS, REM, RPOS\n",
        "from SNOBOL4python import RTAB, SPAN, SUCCESS, TAB\n",
        "# Miscellaneous\n",
        "from SNOBOL4python import GLOBALS, TRACE, PATTERN, STRING\n",
        "from SNOBOL4python import ALPHABET, DIGITS, UCASE, LCASE, NULL\n",
        "from SNOBOL4python import nPush, nInc, nPop, Shift, Reduce, Pop\n",
        "# Instantiate the global variable space\n",
        "GLOBALS(globals())\n",
        "TRACE(40)\n",
        "FA = {}\n",
        "TG = {}\n",
        "GTG = {}\n",
        "NFA = {}\n",
        "Moore = {}\n",
        "Mealy = {}"
      ],
      "metadata": {
        "id": "66TDlYVVanqP"
      },
      "execution_count": null,
      "outputs": []
    },
    {
      "cell_type": "markdown",
      "source": [
        "# **Definitions**"
      ],
      "metadata": {
        "id": "pvOs7LYJWg89"
      }
    },
    {
      "cell_type": "markdown",
      "source": [
        "## length function"
      ],
      "metadata": {
        "id": "yCYvSVatuP_t"
      }
    },
    {
      "cell_type": "markdown",
      "source": [
        "We define the function **length** of a string to be the number of letters in the string."
      ],
      "metadata": {
        "id": "WubJAGB9uQUD"
      }
    },
    {
      "cell_type": "markdown",
      "source": [
        "## reverse function"
      ],
      "metadata": {
        "id": "JPjTJCckup4e"
      }
    },
    {
      "cell_type": "markdown",
      "source": [
        "Let us introduce the function **reverse**. If *a* is a word in some language $L$, then reverse(*a*) is the same string of letters spelled backward, called the reverse of *a*, even if this backward string is not a word in $L$."
      ],
      "metadata": {
        "id": "ov5q7lYVuqM0"
      }
    },
    {
      "cell_type": "markdown",
      "source": [
        "## Kleene closure"
      ],
      "metadata": {
        "id": "jHW0ESdZWjCV"
      }
    },
    {
      "cell_type": "markdown",
      "source": [
        "Given an alphabet Σ, we wish to define a language in which any string of letters from Σ is a word, even the null string. This language we shall call the **closure** of the alphabet. It is denoted by writing a star (an asterisk) after the name of the alphabet as a superscript: $$Σ^{*}$$ This notation is sometimes known as the **Kleene star** after the logician who was one of the founders of this subject.\n",
        "\n",
        "If $S$ is a set of words, then by $S^{*}$ we mean the set of all finite strings formed by concatenating words from $S$, where any word may be used as often as we like, and where the null string is also included."
      ],
      "metadata": {
        "id": "qNG-Lw9yZfmM"
      }
    },
    {
      "cell_type": "markdown",
      "source": [
        "## regular expression"
      ],
      "metadata": {
        "id": "F1DRO4mqZf-d"
      }
    },
    {
      "cell_type": "markdown",
      "source": [
        "The symbols that appear in regular expressions are the letters of the alphabet $Σ$, the symbol for the null string $\\mathbf{Λ}$, parenthesis, the star operator, and the plus sign.\n",
        "\n",
        "The set of **regular expressions** is defined by the following rules:\n",
        "\n",
        "Rule 1: Every letter of Σ can be made into a regular expression by writing it in boldface. **Λ** itself is a regular expression.\n",
        "\n",
        "Rule 2: If $\\mathbf{r_1}$ and $\\mathbf{r_2}$ are regular expressions, then so are:\n",
        "* (i) $(\\mathbf{r_1})$\n",
        "* (ii) $\\mathbf{r_1r_2}$\n",
        "* (iii) $\\mathbf{r_1}+\\mathbf{r_2}$\n",
        "* (iv) $\\mathbf{r_1}^{*}$\n",
        "\n",
        "Rule 3: Nothing else is a regular expression."
      ],
      "metadata": {
        "id": "o4Hsn9mzZhz8"
      }
    },
    {
      "cell_type": "markdown",
      "source": [
        "## language associated (with regular expression)"
      ],
      "metadata": {
        "id": "nKyo-hXKxA2Q"
      }
    },
    {
      "cell_type": "markdown",
      "source": [
        "The following rules define the **language associated** with any regular expression:\n",
        "\n",
        "* Rule 1: The language associated with the regular expression that is just a single letter is that one-letter word alone, and the language associated with $Λ$ is just { **Λ** }, a one-word language.\n",
        "\n",
        "* Rule 2: If $\\mathbf{r_1}$ is a regular expression associated with the language $L_1$ and $\\mathbf{r_2}$ is a regular expression associated with the language $L_2,$ then:\n",
        "  - (i) The regular expression $(\\mathbf{r_1})(\\mathbf{r_2})$ is associated with the product $L_1L_2$ that is the the language $L_1$ times $L_2$: $$\\text{language(}\\mathbf{r_1}\\mathbf{r_2}\\text{)}=L_1L_2$$\n",
        "  - (ii) The regular expression $\\mathbf{r_1}+\\mathbf{r_2}$ is associated with the language formed by the union of the sets $L_1$ and $L_2$: $$\\text{language(}\\mathbf{r_1}+\\mathbf{r_2}\\text{)}=L_1+L_2$$\n",
        "  - (iii) The language associated with the regular expression ($\\mathbf{r_1}^{*}$) is $L_1^{*}$, the Kleene closure of the set $L_1$ as a set of words: $$\\text{language(}\\mathbf{r_1}^{*}\\text{)}=L_1^{*}$$"
      ],
      "metadata": {
        "id": "ZD6ZYYxPxBRz"
      }
    },
    {
      "cell_type": "markdown",
      "source": [
        "## product set"
      ],
      "metadata": {
        "id": "PdGGxG64ZiCo"
      }
    },
    {
      "cell_type": "markdown",
      "source": [
        "If $S$ and $T$ are sets of strings of letters (whether they are finite or infinite sets), we define the **product set** of strings of letters to be:\n",
        "\n",
        "$$\n",
        "ST= \\{ \\text{all combinations of a string from S concatenated with a string from T in that order } \\}\n",
        "$$"
      ],
      "metadata": {
        "id": "eFo9D7CyZiQg"
      }
    },
    {
      "cell_type": "markdown",
      "source": [
        "## finite automaton"
      ],
      "metadata": {
        "id": "LqCPPrZyZiap"
      }
    },
    {
      "cell_type": "markdown",
      "source": [
        "A **finite automaton**, abbreviated **FA**, is a collection of three things:\n",
        "\n",
        "1. A finite set of states, one of which is designated as the initial state, called the **start state**, and some (maybe none) of which are designated as **final states**.\n",
        "2. An **alphabet** $Σ$ of possible input letters.\n",
        "3. A finite set of **transitions** that tell for each state and for each letter of the input alphabet which state to go to next.\n",
        "\n",
        "The plural of automaton, **finite automata**, is abbreviated **FAs**.\n",
        "\n",
        "The abstract definition of an FA is then:\n",
        "\n",
        "1. A finite set of states $Q = \\{ q_0\\; q_1\\; q_2\\; ... \\}$ of which $q_0$ is the start state\n",
        "2. A subset of $Q$ called the final states.\n",
        "3. An alphabet $Σ = \\{ x_1\\; x_2\\; x_3\\; ... \\}$.\n",
        "4. A transition function $δ$ associating each pair of state and letter with a state: $δ(q_{i}, x_{j})=x_k$"
      ],
      "metadata": {
        "id": "yjlPFoQCZij0"
      }
    },
    {
      "cell_type": "markdown",
      "source": [
        "## transition graph"
      ],
      "metadata": {
        "id": "PIn12RAaZirD"
      }
    },
    {
      "cell_type": "markdown",
      "source": [
        "A **transition graph**, abbreviated **TG**, is a collection of three things:\n",
        "\n",
        "1. A finite set of states, at least one of which is designated as the **start state** (*-*) and some (maybe none) of which are designated as **final states** (*+*).\n",
        "2. An **alphabet** $Σ$ of possible input letters from which input strings are formed.\n",
        "3. A finite set of **transitions** (edge labels) that show how to go from some states to some others, based on reading specified substrings of input letters (possibly even the null string **Λ**)."
      ],
      "metadata": {
        "id": "5ih0JdjxdrX3"
      }
    },
    {
      "cell_type": "markdown",
      "source": [
        "## generalized transition graph"
      ],
      "metadata": {
        "id": "YCxSfbvoir55"
      }
    },
    {
      "cell_type": "markdown",
      "source": [
        "A **generalized transition graph**, abbreviated **GTG**, is a collection of three things:\n",
        "\n",
        "1. A finite set of states, of which at least one is a **start state** and some (maybe none) are **final states**.\n",
        "2. An **alphabet** $Σ$ of input letters.\n",
        "3. Directed edges connecting some pairs of states, each labeled with a regular expression."
      ],
      "metadata": {
        "id": "VPKOa_MKir9H"
      }
    },
    {
      "cell_type": "markdown",
      "source": [
        "## nondeterministic finite automata"
      ],
      "metadata": {
        "id": "h-am_d3DlIix"
      }
    },
    {
      "cell_type": "markdown",
      "source": [
        "A **nondeterministic finite automata** is a TG with a unique **start state** with the property that each of its edge labels is a single alphabet letter. It is given the acronym NFA. Sometimes, to distinguish them from NFAs, the regular deterministic finite automata are referred to as DFAs."
      ],
      "metadata": {
        "id": "OBR6mgBwlI5i"
      }
    },
    {
      "cell_type": "markdown",
      "source": [
        "## Moore machine"
      ],
      "metadata": {
        "id": "zE50IilimoIC"
      }
    },
    {
      "cell_type": "markdown",
      "source": [
        "A Moore machine is a collection of five things:\n",
        "\n",
        "1. A finite set of states $q_0, q_1, q_2, ...,$ where $q_0$ is designated as the start state.\n",
        "2. An alphabet of letters for forming the input string $$Σ = \\{ a\\, b\\, c\\, ... \\}$$\n",
        "3. An alphabet of possible output characters $$Γ = \\{ x\\, y\\, z\\, ... \\}$$\n",
        "4. A transition table that shows for *each* state and *each* input letter what state is reached next.\n",
        "5. An output table that shows what character from Γ is printed by each state as it is entered."
      ],
      "metadata": {
        "id": "IXlVGKEqmoTf"
      }
    },
    {
      "cell_type": "markdown",
      "source": [
        "## Mealy machine"
      ],
      "metadata": {
        "id": "iDkEZ_fgoQZw"
      }
    },
    {
      "cell_type": "markdown",
      "source": [
        "A Mealy machine is a collection of four things:\n",
        "\n",
        "1. A finite set of states $q_0, q_1, q_2, ...,$ where $q_0$ is designated as the start state.\n",
        "2. An alphabet of letters $Σ = \\{ a\\, b\\, c\\, ... \\}$ for forming input strings.\n",
        "3. An alphabet of possible output characters $Γ = \\{ x\\, y\\, z\\, ... \\}$.\n",
        "4. A pictorial representation with states represented by small circles and directed edges indicating transitions between states. Each edge is labeled with a compound symbol of the form *i/o*, where *i* is the input symbol and *o* is the output character.*Every* state must have exactly one outgoing edge for *each* possible input letter. The edge we travel is determined by the input letter *i*. While traveling on the edge, we must print the output character *o*."
      ],
      "metadata": {
        "id": "9lwu0AkNoQxx"
      }
    },
    {
      "cell_type": "markdown",
      "source": [
        "# **Theorems**"
      ],
      "metadata": {
        "id": "lCrWzzt2Voja"
      }
    },
    {
      "cell_type": "markdown",
      "source": [
        "## **Theorem 1:**"
      ],
      "metadata": {
        "id": "heg_i_LjVuyl"
      }
    },
    {
      "cell_type": "markdown",
      "source": [
        "For any set $S$ of strings we have $S^{*}=S^{**}$."
      ],
      "metadata": {
        "id": "gAyxZpA-V4az"
      }
    },
    {
      "cell_type": "markdown",
      "source": [
        "## **Theorem 2:**"
      ],
      "metadata": {
        "id": "ua-s1s8ZYLTz"
      }
    },
    {
      "cell_type": "markdown",
      "source": [
        "An arithmetic expression cannot contain the character *\\$*."
      ],
      "metadata": {
        "id": "M1duCoGdYPFu"
      }
    },
    {
      "cell_type": "markdown",
      "source": [
        "## **Theorem 3:**"
      ],
      "metadata": {
        "id": "OQw8tyhNYi4C"
      }
    },
    {
      "cell_type": "markdown",
      "source": [
        "No arithmetic expression can begin or end with the symbol */*."
      ],
      "metadata": {
        "id": "-vcWD1pcYjZV"
      }
    },
    {
      "cell_type": "markdown",
      "source": [
        "## **Theorem 4:**"
      ],
      "metadata": {
        "id": "xDhSdETVYkcb"
      }
    },
    {
      "cell_type": "markdown",
      "source": [
        "No arithmetic expression can contain the substring *//*."
      ],
      "metadata": {
        "id": "2VWA1iwZYk7C"
      }
    },
    {
      "cell_type": "markdown",
      "source": [
        "## **Theorem 5:**"
      ],
      "metadata": {
        "id": "aVE9PmFUZOME"
      }
    },
    {
      "cell_type": "markdown",
      "source": [
        "If $L$ is a finite language (a language with only finitely many words), then $L$ can be defined by a regular expression. In other words, all finite languages are regular."
      ],
      "metadata": {
        "id": "k8lMH4KlZOSD"
      }
    },
    {
      "cell_type": "markdown",
      "source": [
        "## **Theorem 6:**"
      ],
      "metadata": {
        "id": "Jx468yuqZOZT"
      }
    },
    {
      "cell_type": "markdown",
      "source": [
        "Any language that can be defined by\n",
        "* regular expression, or\n",
        "* finite automaton, or\n",
        "* transition graph\n",
        "\n",
        "can be defined by all three methods."
      ],
      "metadata": {
        "id": "sib-lUOKZOfT"
      }
    },
    {
      "cell_type": "markdown",
      "source": [
        "## **Theorem 7:**"
      ],
      "metadata": {
        "id": "9MnhJiHbZOlu"
      }
    },
    {
      "cell_type": "markdown",
      "source": [
        "For every NFA, there is some FA that accepts exactly the same language."
      ],
      "metadata": {
        "id": "RkxaLjrWZOq_"
      }
    },
    {
      "cell_type": "markdown",
      "source": [
        "## **Theorem 8:**"
      ],
      "metadata": {
        "id": "pulED91WZOwc"
      }
    },
    {
      "cell_type": "markdown",
      "source": [
        "If $Mo$ is a Moore machine, then there is a Mealy machine $Me$ that is equivalent to it."
      ],
      "metadata": {
        "id": "NDsOAtIiZO1c"
      }
    },
    {
      "cell_type": "markdown",
      "source": [
        "## **Theorem 9:**"
      ],
      "metadata": {
        "id": "M4Cq2CoUq75z"
      }
    },
    {
      "cell_type": "markdown",
      "source": [
        "For every Mealy machine $Me$, there is a Moore machine  $Mo$ that is equivalent to it."
      ],
      "metadata": {
        "id": "lSPMp9Ujq8XN"
      }
    },
    {
      "cell_type": "markdown",
      "source": [
        "## **Theorem 10:**"
      ],
      "metadata": {
        "id": "TCY9gRCjrYVF"
      }
    },
    {
      "cell_type": "markdown",
      "source": [
        "If $L_1$ and $L_2$ are regular expressions, then $L_1+L_2$, $L_1L_2$, and $L_1^{*}$ are also regular expressions."
      ],
      "metadata": {
        "id": "VOrUeTA9rYgs"
      }
    },
    {
      "cell_type": "markdown",
      "source": [
        "## **Theorem 11:**"
      ],
      "metadata": {
        "id": "iqndwQMysEE1"
      }
    },
    {
      "cell_type": "markdown",
      "source": [
        "If $L$ is a regular language, then $L'$ is also a regular language. In other words, the set of regular languages is closed under complementation."
      ],
      "metadata": {
        "id": "jI8BTDT5sEbc"
      }
    },
    {
      "cell_type": "markdown",
      "source": [
        "## **Theorem 12:**"
      ],
      "metadata": {
        "id": "grbuYmpysrMX"
      }
    },
    {
      "cell_type": "markdown",
      "source": [
        "If $L_1$ and $L_2$ are regular languages, then $L_1 \\cap L_2$ is also a regular language. In other words, the set of regular languages is closed under intersection."
      ],
      "metadata": {
        "id": "3NA0QS9vsrWI"
      }
    },
    {
      "cell_type": "markdown",
      "source": [
        "## **Theorem 13:**"
      ],
      "metadata": {
        "id": "Z7WcynvXtix4"
      }
    },
    {
      "cell_type": "markdown",
      "source": [
        "Let $L$ be any regular language that has infintely many words. Then there exists some three strings *x*, *y*, and *z* (where *y* is not the null string) such that all the strings of the form $$xy^nz\\; \\text{for n}=1\\,2\\,3\\,...$$ are words in $L$."
      ],
      "metadata": {
        "id": "uTbBH_ZntjmX"
      }
    },
    {
      "cell_type": "markdown",
      "source": [
        "## **Theorem 14:**"
      ],
      "metadata": {
        "id": "0Bb7gqZuuvt1"
      }
    },
    {
      "cell_type": "markdown",
      "source": [
        "Let $L$ be an infinite language accepted by a finite automaton with $N$ states. Then for all words $w$ in $L$ that have more than $N$ letters, there are strings $x$, $y$, and $z$, where $y$ is not null and length($x$) + length($y$) does not exceed $N$ such that $$w=xyz$$ and all strings of the form $$xy^nz\\; \\text{(for } n=1\\, 2\\, 3\\, ...\\text{)}$$ are in $L$."
      ],
      "metadata": {
        "id": "z_lrfNAjuwAm"
      }
    },
    {
      "cell_type": "markdown",
      "source": [
        "## **Theorem 15:**"
      ],
      "metadata": {
        "id": "acHaDNtMu0f7"
      }
    },
    {
      "cell_type": "markdown",
      "source": [
        "Given a language $L$, we shall say that any two strings $x$ and $y$ are in the same class if for all possible strings $z$ either both $xz$ and $yz$ are in $L$ or both are not.\n",
        "\n",
        "1. The language $L$ divides the set of all possible strings into separate (mutually exclusive) classes.\n",
        "2. If $L$ is regular, the number of classes $L$ creates is finite.\n",
        "3. If the number of classes $L$ creates is finite, then $L$ is regular."
      ],
      "metadata": {
        "id": "k4U-YLXQu6kg"
      }
    },
    {
      "cell_type": "markdown",
      "source": [
        "## **Theorem 16:**"
      ],
      "metadata": {
        "id": "rMnOiW_Ux7Nw"
      }
    },
    {
      "cell_type": "markdown",
      "source": [
        "If $R$ is a regular language and $Q$ is any language whatsoever, then the language $$P=\\text{Pref}(Q\\; \\text{in}\\; R)$$ is regular."
      ],
      "metadata": {
        "id": "QbOasqxVx7ag"
      }
    },
    {
      "cell_type": "markdown",
      "source": [
        "# **Algorithms**"
      ],
      "metadata": {
        "id": "ApWflOOz9Xv2"
      }
    },
    {
      "cell_type": "markdown",
      "source": [
        "## Construct regular expression from TG"
      ],
      "metadata": {
        "id": "mXiCYgE39YIT"
      }
    },
    {
      "cell_type": "markdown",
      "source": [
        "* Step 1: Create a unique, unenterable minus state and a unique, unleaveable plus state.\n",
        "* Step 2: One by one, in any order, bypass and eliminate all the non *-* or *+* states in the TG. A state is bypassed by connecting each incoming edge with each outgoing edge. The label of each resultant edge is the concatenation of the label on the incoming edge with the label on the loop edge if there is one and the label on the outgoing edge.\n",
        "* Step 3: When two states are joined by more than one edge going in the same direction, unify them by adding their labels.\n",
        "* Step 4: Finally, when all that is left is one edge from *-* to *+*, the label on that edge is a regular expression that generates the same language as was recognized by the original machine.\n"
      ],
      "metadata": {
        "id": "g9pgqiuZ-xFw"
      }
    },
    {
      "cell_type": "markdown",
      "source": [
        "## Construct union of finite automata"
      ],
      "metadata": {
        "id": "b_pb9IXjCiiC"
      }
    },
    {
      "cell_type": "markdown",
      "source": [
        "p. 113"
      ],
      "metadata": {
        "id": "ZdmyR9y2C9a1"
      }
    },
    {
      "cell_type": "markdown",
      "source": [
        "## Construct product of finite automata"
      ],
      "metadata": {
        "id": "UXezQiA0DWdo"
      }
    },
    {
      "cell_type": "markdown",
      "source": [
        "p. 121"
      ],
      "metadata": {
        "id": "cS0I2sC5EWS5"
      }
    },
    {
      "cell_type": "markdown",
      "source": [
        "## Construct closure of finite automaton"
      ],
      "metadata": {
        "id": "aKv6mTZ5Ee2V"
      }
    },
    {
      "cell_type": "markdown",
      "source": [
        "p. 129"
      ],
      "metadata": {
        "id": "pC1ohmbHEfex"
      }
    },
    {
      "cell_type": "markdown",
      "source": [
        "# **Chapter 2: Languages**"
      ],
      "metadata": {
        "id": "3q98Wv8kcRtc"
      }
    },
    {
      "cell_type": "markdown",
      "source": [
        "## Functions\n",
        "---"
      ],
      "metadata": {
        "id": "XY3n-6u2oznY"
      }
    },
    {
      "cell_type": "code",
      "source": [
        "from itertools import product\n",
        "from pprint import pprint\n",
        "\n",
        "def kleene_star(S):\n",
        "    result = [{} for _ in range(8)]\n",
        "    for repeat in range(8):\n",
        "        for combo in product(S, repeat=repeat):\n",
        "            combo = \"\".join(combo)\n",
        "            length = len(combo)\n",
        "            if length < len(result):\n",
        "                if combo not in result[length]:\n",
        "                    result[length][combo] = 1\n",
        "                else: result[length][combo] += 1\n",
        "    for length, words in enumerate(result):\n",
        "        if words is not None:\n",
        "            print(length, len(words), words)"
      ],
      "metadata": {
        "id": "CDASEICxz2_e"
      },
      "execution_count": null,
      "outputs": []
    },
    {
      "cell_type": "markdown",
      "source": [
        "## **Problem 2.1:**"
      ],
      "metadata": {
        "id": "NxkkyVaJQwi8"
      }
    },
    {
      "cell_type": "markdown",
      "source": [
        "---\n",
        "Consider the language $S^{*}$, where $S =$ {*a b*}.\n",
        "1. How many words does the language have of length 2?\n",
        "2. of length 3?\n",
        "3. of length *n*?"
      ],
      "metadata": {
        "id": "NakVnUdljjfa"
      }
    },
    {
      "cell_type": "markdown",
      "source": [
        "**Answer 2.1:**\n",
        "1. $4$\n",
        "2. $8$\n",
        "3. $2^{n}$"
      ],
      "metadata": {
        "id": "t7j-27bgN9WU"
      }
    },
    {
      "cell_type": "code",
      "source": [
        "# Observe the powers of two sequence: 1, 2, 4, 8, 16, 32, 64, ...\n",
        "S = {\"a\", \"b\"}\n",
        "kleene_star(S)"
      ],
      "metadata": {
        "id": "QwLN_1S8z9mP"
      },
      "execution_count": null,
      "outputs": []
    },
    {
      "cell_type": "markdown",
      "source": [
        "## **Problem 2.2:**"
      ],
      "metadata": {
        "id": "KT72DTgORof5"
      }
    },
    {
      "cell_type": "markdown",
      "source": [
        "---\n",
        "Consider the language $S^{*}$, where $S =$ {*aa b*}.\n",
        "1. How many words does the language have of length 4?\n",
        "2. of length 5?\n",
        "3. of length 6?\n",
        "4. What can be said in general?"
      ],
      "metadata": {
        "id": "Duig0VvMjz-L"
      }
    },
    {
      "cell_type": "markdown",
      "source": [
        "**Answer 2.2:**\n",
        "1. $5$\n",
        "2. $8$\n",
        "3. $13$\n",
        "4. *See below.**"
      ],
      "metadata": {
        "id": "PU1pG-OAOFyC"
      }
    },
    {
      "cell_type": "code",
      "source": [
        "# Observe the Fibonacci sequence: 1, 1, 2, 3, 5, 8, 13, ...\n",
        "S = {\"aa\", \"b\"}\n",
        "kleene_star(S)"
      ],
      "metadata": {
        "id": "qYIdPtvvv3FZ"
      },
      "execution_count": null,
      "outputs": []
    },
    {
      "cell_type": "markdown",
      "source": [
        "## **Problem 2.3:**"
      ],
      "metadata": {
        "id": "j5Tivw0ySAxm"
      }
    },
    {
      "cell_type": "markdown",
      "source": [
        "---\n",
        "Consider the language $S^{*}$, where $S =$ {*ab ba*}.\n",
        "1. Write out all the words in $S^{*}$ that have seven or fewer letters.\n",
        "2. Can any word in this language contain the substrings *aaa* or *bbb*?\n",
        "3. What is the smallest word *not* in this language?"
      ],
      "metadata": {
        "id": "2yrJL1o6kIUR"
      }
    },
    {
      "cell_type": "markdown",
      "source": [
        "**Answer 2.3:**\n",
        "\n",
        "1. *See below.*\n",
        "2. No. $S$ does not contain *aa* or *bb*. Any substring has at most two consecutive *a*'s or *b*'s.\n",
        "3. Either *a* or *b*."
      ],
      "metadata": {
        "id": "_IJUONDMOJxm"
      }
    },
    {
      "cell_type": "code",
      "source": [
        "# Answer 2.3.1\n",
        "S = {\"ab\", \"ba\"}\n",
        "kleene_star(S)"
      ],
      "metadata": {
        "id": "k2rv4obp9oKl"
      },
      "execution_count": null,
      "outputs": []
    },
    {
      "cell_type": "markdown",
      "source": [
        "## **Problem 2.4:**"
      ],
      "metadata": {
        "id": "MrKukPfsSA4c"
      }
    },
    {
      "cell_type": "markdown",
      "source": [
        "---\n",
        "Consider the language $S^{*}$, where $S =$ {*a ab ba*}.\n",
        "1. Is the string (*abbba*) a word in this language?\n",
        "2. Write out all the words in this language with six or fewer letters.\n",
        "3. What is another way in which to describe the words in this language? Be careful, this is not simply the language of all words without bbb."
      ],
      "metadata": {
        "id": "-YZ6FQGykORh"
      }
    },
    {
      "cell_type": "markdown",
      "source": [
        "**Answer 2.4:**\n",
        "\n",
        "1. No. Neither *b* nor *bb* are in $S$. At most two consecutive *b*'s.\n",
        "2. *See below.*\n",
        "3. All the strings of *a*'s and *b*'s where each *b* is adjacent to a unique *a*."
      ],
      "metadata": {
        "id": "SFcnBSVsOgRs"
      }
    },
    {
      "cell_type": "code",
      "source": [
        "# Answer 2.4.2\n",
        "S = {\"a\", \"ab\", \"ba\"}\n",
        "kleene_star(S)"
      ],
      "metadata": {
        "id": "nBMVwKXkA64v"
      },
      "execution_count": null,
      "outputs": []
    },
    {
      "cell_type": "markdown",
      "source": [
        "## **Problem 2.5:**"
      ],
      "metadata": {
        "id": "Ikc2DX3fSBBW"
      }
    },
    {
      "cell_type": "markdown",
      "source": [
        "---\n",
        "Consider the language $S^{*}$, where $S =$ {*aa aba baa*}.\n",
        "1. Show that the words *aabaa*, *baaabaaa*, and *baaaaababaaaa* are all in this language.\n",
        "2. Can any word in this language be interpreted as a string of elements from $S$ in two different ways?\n",
        "3. Can any word in this language have an odd total number of *a*'s?"
      ],
      "metadata": {
        "id": "4xsX-sVUkVJ8"
      }
    },
    {
      "cell_type": "markdown",
      "source": [
        "**Answer 2.5:**\n",
        "1. *aabaa* = *aa baa* \\\n",
        "   *baaabaaa* = *baa aba aa* \\\n",
        "   *baaaaababaaaa* = *baa aa aba baa aa*\n",
        "2. No. None of the words in $S$ is a prefix of another word in $S$. Neither *a*, *ab*, nor *ba* are elements of $S$.\n",
        "3. No. Each element has two *a*'s and any composite string will have only multiples."
      ],
      "metadata": {
        "id": "t97JxnKWOkJU"
      }
    },
    {
      "cell_type": "markdown",
      "source": [
        "## **Problem 2.6:**"
      ],
      "metadata": {
        "id": "n71p6prZSBK5"
      }
    },
    {
      "cell_type": "markdown",
      "source": [
        "---\n",
        "Consider the language $S^{*}$, where $S =$ {*xx xxx*}.\n",
        "In how many ways can $x^{19}$ be written as the product of words in $S$?\n",
        "This means: How many different factorizations are there of $x^{19}$ into *xx* and *xxx*?"
      ],
      "metadata": {
        "id": "Z5djX9Xlkaf_"
      }
    },
    {
      "cell_type": "markdown",
      "source": [
        "**Answer 2.6:**\n",
        "\n",
        "$\\text{Let } a = \\#(\\text{copies of } xx), \\quad b = \\#(\\text{copies of } xxx)$.\n",
        "\n",
        "The length condition is $2a + 3b = 19, \\quad a,b \\in \\mathbb{Z}_{\\ge 0}$.\n",
        "\n",
        "For each feasible pair $(a,b)$, the number of distinct orderings is $\\binom{a+b}{a}$.\n",
        "\n",
        "Solving $2a + 3b = 19$:\n",
        "\n",
        "$$\n",
        "\\begin{aligned}\n",
        "b &= 1 \\quad\\Rightarrow\\quad a = 8, &\\binom{9}{8} &= 9, \\\\\n",
        "b &= 3 \\quad\\Rightarrow\\quad a = 5, &\\binom{8}{5} &= 56, \\\\\n",
        "b &= 5 \\quad\\Rightarrow\\quad a = 2, &\\binom{7}{2} &= 21.\n",
        "\\end{aligned}\n",
        "$$\n",
        "\n",
        "Summing over all solutions: $9 + 56 + 21 = 86$.\n",
        "\n",
        "$$\n",
        "\\boxed{\\text{There are 86 distinct factorizations.}}\n",
        "$$"
      ],
      "metadata": {
        "id": "31QUyooFmhpU"
      }
    },
    {
      "cell_type": "markdown",
      "source": [
        "## **Problem 2.7:**"
      ],
      "metadata": {
        "id": "B80v7xQnSSlp"
      }
    },
    {
      "cell_type": "markdown",
      "source": [
        "---\n",
        "Consider the language PALINDROME over the alphabet {*a b*}.\n",
        "\n",
        "$\\textbf{Let}$ $\\text{PALINDROME} = \\{\\, w \\in \\{a,b\\}^* \\mid w = w^R \\,\\}$, where $w^R$ denotes the reverse of $w$.\n",
        "\n",
        "* (i) Prove that if $x$ is in PALINDROME, then so is $x^{n}$ for any *n*.\n",
        "* (ii) Prove that if $y^{3}$ is in PALINDROME, then so is $y$.\n",
        "* (iii) Prove that if $z^{n}$ is in PALINDROME for some $n$ (greater than 0), then $z$ itself is also.\n",
        "* (iv) Prove that PALINDROME has as many words of length 4 as it does of length 3.\n",
        "* (v) Prove that PALINDROME has as many words of length $2n$ as it has of length $2n - 1$. How many words is that?"
      ],
      "metadata": {
        "id": "CnllAIvWkmtU"
      }
    },
    {
      "cell_type": "markdown",
      "source": [
        "---\n",
        "**Answer 2.7(i):**\n",
        "\n",
        "$\\textbf{Claim.}$ If $x \\in \\text{PALINDROME}$, then $x^n \\in \\text{PALINDROME}$ for any integer $n \\ge 0$.\n",
        "\n",
        "$\\textbf{Proof.}$\n",
        "\n",
        "Recall that for any strings *u,v*, we have $(uv)^R = v^R u^R.$\n",
        "\n",
        "Since $x \\in \\text{PALINDROME}$, we have $x = x^R$. Thus, $(x^n)^R = (x^R)^n = x^n$."
      ],
      "metadata": {
        "id": "41BbKlgPQ2j7"
      }
    },
    {
      "cell_type": "markdown",
      "source": [
        "---\n",
        "**Answer 2.7(ii):**\n",
        "\n",
        "$\\textbf{Claim.}$ If $y^3 \\in \\text{PALINDROME}$, then $y \\in \\text{PALINDROME}$.\n",
        "\n",
        "$\\textbf{Proof.}$\n",
        "\n",
        "Recall that for any strings *u,v*, we have $(uv)^R = v^R u^R.$\n",
        "\n",
        "Since $y^3 \\in \\text{PALINDROME}$, we have $yyy = (yyy)^R$, $(yyy)^R = y^Ry^Ry^R$. Given they are one-to-one and corresponding, therefore $y = y^R$."
      ],
      "metadata": {
        "id": "FeqxiyW5URE7"
      }
    },
    {
      "cell_type": "markdown",
      "source": [
        "---\n",
        "**Answer 2.7(iii):**\n",
        "\n",
        "$\\textbf{Claim.}$ If $y^3 \\in \\text{PALINDROME}$, then $y \\in \\text{PALINDROME}$.\n",
        "\n",
        "$\\textbf{Proof.}$\n",
        "\n",
        "Recall that for any strings *u,v*, we have $(uv)^R = v^R u^R.$\n",
        "\n",
        "Since $z^n \\in \\text{PALINDROME}$, we have $z^n = (z^n)^R$, $(z^n)^R = (z^R)^n$. Given they are one-to-one and corresponding, therefore $z = z^R$."
      ],
      "metadata": {
        "id": "bguwR-LdYEKf"
      }
    },
    {
      "cell_type": "markdown",
      "source": [
        "**Answer 2.7(iv):**\n",
        "\n",
        "For alphabet {*a b*}, a palindrome of length $n$ is determined by its first ${\\lceil n/2 \\rceil}$ positions, each with 2 choices. Thus the number of palindromes of length $n$ is $2^{\\lceil n/2 \\rceil}$. For $n=3$ the length is $2$ and for $n=4$ the length is $2$, hence the same number of palindromes, which is $4$."
      ],
      "metadata": {
        "id": "a2c-mAtLZy0w"
      }
    },
    {
      "cell_type": "markdown",
      "source": [
        "---\n",
        "**Answer 2.7(v):**\n",
        "\n",
        "For alphabet {*a b*}, a palindrome of length $n$ is determined by its first ${\\lceil n/2 \\rceil}$ positions, each with 2 choices. Thus the number of palindromes of length $n$ is $2^{\\lceil n/2 \\rceil}$. For $n=2N$ the length is ${\\lceil 2N/2 \\rceil}$ and for $n=2N-1$ the length is ${\\lceil (2N-1)/2 \\rceil}$, but $2N/2=(2N-1)/2=N$ hence the same number of palindromes, which is $2^{\\lceil N \\rceil}$."
      ],
      "metadata": {
        "id": "vdjH4fP7beGd"
      }
    },
    {
      "cell_type": "markdown",
      "source": [
        "## **Problem 2.8:**"
      ],
      "metadata": {
        "id": "3zMEj22iSSu9"
      }
    },
    {
      "cell_type": "markdown",
      "source": [
        "---\n",
        "Show that if the concatenation of two words (neither $Λ$) in PALINDROME is also a word in PALINDROME, then both words are powers of some other word; that is, if $x$ and $y$ and $xy$ are all in PALINDROME, then there is a word $z$ such that $x = z^{p}$  and $y = z^{q}$ for some integers $p$ and $q$ (maybe $p$ or $q = 1$).\n",
        "\n",
        "* $x = x^R$\n",
        "* $y = y^R$\n",
        "* $(xy) = (xy)^R = (y^Rx^R) = (yx)$\n",
        "  \n",
        "so $x$ and $y$ commute.\n",
        "\n",
        "We prove by induction on $|x|+|y|$ that if nonempty words $x,y$ commute, then there exists $z$ with $x=z^m$ and $y=z^n$ for some $m,n\\ge 1$.\n",
        "\n",
        "If $|x|=|y|$, then $xy=yx$ implies $x=y$, and taking $z=x$ gives the claim. Otherwise, without loss of generality $|x|>|y|$. Since $xy=yx$, the word $y$ is a prefix of $x$; write $x=yt$ for some (possibly empty) $t$. Substituting into $xy=yx$ yields\n",
        "\n",
        "$(yt)y = y(yt) \\;\\;\\Rightarrow\\;\\; yty = yyt \\;\\;\\Rightarrow\\;\\; ty=yt$,\n",
        "\n",
        "where we used left-cancellation in the free monoid. If $t=\\varepsilon$, then $x=y$ and we are done as before. If $t\\neq\\varepsilon$, then $t$ and $y$ are shorter nonempty words that commute, and $|t|+|y|<|x|+|y|$. By the induction hypothesis, there exists a word $z$ and integers $p,q\\ge 1$ such that $t=z^p$ and $y=z^q$. Hence\n",
        "\n",
        "$x=yt = z^q z^p = z^{p+q} \\quad\\text{and}\\quad y=z^q$,\n",
        "\n",
        "so taking $m=p+q$ and $n=q$ completes the proof.\n",
        "\n",
        "Thus, from $x,y,xy\\in$ PALINDROME with $x,y\\neq\\varepsilon$, we conclude that $x$ and $y$ are powers of a common word."
      ],
      "metadata": {
        "id": "rcJ78Qhjkt56"
      }
    },
    {
      "cell_type": "markdown",
      "source": [
        "## **Problem 2.9:**"
      ],
      "metadata": {
        "id": "8RBVUYALSS2T"
      }
    },
    {
      "cell_type": "markdown",
      "source": [
        "---\n",
        "* (i) Let $S$ = {*ab bb*} and let $T$ = {*ab bb bbbb*}. Show that $S^{*} = T^{*}$.\n",
        "* (ii) Let $S$ = {*ab bb*} and let $T$ = {*ab bb bbb*}. Show that $S^{*} \\neq T^{*}$, but that $S^{*} \\subset T^{*}$.\n",
        "* (iii) What principle does this illustrate?"
      ],
      "metadata": {
        "id": "Z0f8_Dzlkyaf"
      }
    },
    {
      "cell_type": "markdown",
      "source": [
        "Proof that $S^{*} = T^{*}$\n",
        "\n",
        "Let $S =$ {*ab bb*}, $T =$ {*ab bb bbbb*}.\n",
        "\n",
        "By definition of the Kleene star:\n",
        "\n",
        "$\n",
        "A^{0} = \\{\\varepsilon\\},\n",
        "A^{n} = \\{x_{1}x_{2}\\cdots x_{n} \\mid x_{i} \\in A \\ \\text{for all } i\\},\n",
        "A^{*} = \\bigcup_{n \\ge 0} A^{n}.\n",
        "$\n",
        "\n",
        "1. $S^{*} \\subseteq T^{*}$\n",
        "\n",
        "Let $w \\in S^{*}$. Then $w \\in S^{n}$ for some $n \\ge 0$, so $w = s_{1}s_{2}\\cdots s_{n}\n",
        "\\quad\\text{with each } s_{i} \\in S$.\n",
        "\n",
        "Since $S \\subseteq T$, each $s_{i} \\in T$, hence $w \\in T^{n} \\subseteq T^{*}$.\n",
        "\n",
        "2. $T^{*} \\subseteq S^{*}$\n",
        "\n",
        "Let $w \\in T^{*}$. Then $w \\in T^{k}$ for some $k \\ge 0$, so $w = x_{1}x_{2}\\cdots x_{k} \\quad\\text{with each } x_{i} \\in T = \\{ab,\\, bb,\\, bbbb\\}$.\n",
        "\n",
        "We can rewrite each \\(x_{i}\\) as a sequence of elements from $S$:\n",
        "- If $x_{i} = ab$, replace it by $(ab)$.\n",
        "- If $x_{i} = bb$, replace it by $(bb)$.\n",
        "- If $x_{i} = bbbb$, note that $bbbb = (bb)(bb)$, so replace it by ($bb$ $bb$).\n",
        "\n",
        "Concatenating all these replacements yields $w = y_{1}y_{2}\\cdots y_{m}\\quad\\text{with each } y_{j} \\in S$.\n",
        "\n",
        "Thus $w \\in S^{m} \\subseteq S^{*}$.\n",
        "\n",
        "3. Since $S^{*} \\subseteq T^{*}$ and $T^{*} \\subseteq S^{*}$, we have $S^{*} = T^{*}$."
      ],
      "metadata": {
        "id": "_c_dENrolTG-"
      }
    },
    {
      "cell_type": "markdown",
      "source": [
        "## **Problem 2.10:**"
      ],
      "metadata": {
        "id": "xTE0gDaMSTzs"
      }
    },
    {
      "cell_type": "markdown",
      "source": [
        "---\n",
        "How does the situation in Problem 9 change if we replace the operator $^{*}$ with the operator $^{+}$ as defined in this chapter? Note the language $S^{+}$ means the same same $S^{*}$, but does not allow the \"concatenation of no words\" of $S$.\n",
        "\n",
        "**Answer 2.10:**\n",
        "No changes in the the equalities and inclusions."
      ],
      "metadata": {
        "id": "4Ufo_-kOk3Gr"
      }
    },
    {
      "cell_type": "markdown",
      "source": [
        "## **Problem 2.11:**"
      ],
      "metadata": {
        "id": "pAvrSU_pST8D"
      }
    },
    {
      "cell_type": "markdown",
      "source": [
        "---\n",
        "Prove that for all sets $S$,\n",
        "* (i) $(S^{+})^{*} = (S^{*})^{*}$\n",
        "* (ii) $(S^{+})^{+} = S^{+}$\n",
        "* (iii) Is $(S^{*})^{+} = (S^{+})^{*}$ for all sets $S$?\n",
        "\n",
        "**Answer 2.11:**\n",
        "\n",
        "* (i) $(S^+)^*$ includes $Λ$ even if $S$ does not, so $(S^+)^*=S^*$. $S^*=S^**$ by Theorem 1.\n",
        "* (ii) There can be no factor in $S$ that is not in $S^+$, $(S^+)^+ \\subseteq S^+$. In general any set is contained in its positive closure $S^+ \\subseteq (S^+)^+$. Therefore, $(S^+)^+ = S^+$.\n",
        "* (iii) Yes."
      ],
      "metadata": {
        "id": "73r_Y_Mck-oT"
      }
    },
    {
      "cell_type": "markdown",
      "source": [
        "## **Problem 2.12:**"
      ],
      "metadata": {
        "id": "biQzrBMASUBH"
      }
    },
    {
      "cell_type": "markdown",
      "source": [
        "---\n",
        "Let $S$ = {*a bb bab abaab*}.\n",
        "1. Is *abbabaabab* in $S^{*}$?\n",
        "2. Is *abaabbabbaabb*?\n",
        "3. Does any word in $S^{*}$ have an odd total number of *b*'s?\n",
        "\n",
        "**Answer 2.12:**\n",
        "\n",
        "1. No.\n",
        "2. No.\n",
        "3. No."
      ],
      "metadata": {
        "id": "zNNhe5eklBb7"
      }
    },
    {
      "cell_type": "markdown",
      "source": [
        "## **Problem 2.13:**"
      ],
      "metadata": {
        "id": "LTJB8dK3SUGV"
      }
    },
    {
      "cell_type": "markdown",
      "source": [
        "---\n",
        "Suppose that for some language $L$ we can always concatenate two words in $L$ and get another word in $L$, if and only if the words are not the same. That is, for any words $w_{1}$ and $w_{2}$ in L where $w_{1} \\neq w_{2}$, the word $w_{1}$$w_{2}$ is in $L$ but the word $w_{1}$$w_{1}$ is not in $L$. Prove that this cannot happen.\n",
        "\n",
        "**Answer 2.13:** This is the same as saying that the language L would allow all concatenations that did not produce squares. First observe that Λ = ΛΛ, so Λ cannot be in the language. Consider $w_1 \\neq w_2 $ and $ w_1w_2 \\in L$. Let $w_3 = w_1w_2$, since $Λ \\notin L$, $w_3 \\neq w_2$, so $w_4 = w_2w_3 \\in L$ where $w_4 \\neq w_1$, finally let $w_5 = w_1w_4 \\in L$. However, $w5 = w_1w_2w_1w_2 = w_3w_3$ which is square, so $w_5 \\notin L$."
      ],
      "metadata": {
        "id": "x4I9eZc6lFZF"
      }
    },
    {
      "cell_type": "markdown",
      "source": [
        "## **Problem 2.14:**"
      ],
      "metadata": {
        "id": "agyC7aWkSULD"
      }
    },
    {
      "cell_type": "markdown",
      "source": [
        "---\n",
        "Let us define $(S^{**})^{*} = S^{***}$.\n",
        "\n",
        "1. Is this set bigger than $S^{*}$?\n",
        "2. Is it bigger that $S$?\n",
        "\n",
        "**Answer 2.14:**\n",
        "\n",
        "1. No. $(S^{**})^{*} = (S^{*})^{*} = S^{*}$ by Theorem 1.\n",
        "2. It is often bigger than $S$."
      ],
      "metadata": {
        "id": "uX9doSeylNCl"
      }
    },
    {
      "cell_type": "markdown",
      "source": [
        "## **Problem 2.15:**"
      ],
      "metadata": {
        "id": "H7MyZqY-SUPx"
      }
    },
    {
      "cell_type": "markdown",
      "source": [
        "---\n",
        "Let $w$ be a string of letters and let the language $T$ be defined by adding $w$ to the language $S$. Suppose further that $T^{*} = S^{*}$.\n",
        "* (i) Is it necessarily true that $w \\in S$?\n",
        "* (ii) Is it necessarily true that $w \\in S^{*}$?\n",
        "\n",
        "**Answer 2.15:**\n",
        "* (i) no\n",
        "* (ii) yes, $T = S + \\{w\\} \\implies w \\in T \\implies w \\in T^*$ and $T^* = S^* \\implies w \\in S^*$."
      ],
      "metadata": {
        "id": "uPE8LgktlRaW"
      }
    },
    {
      "cell_type": "markdown",
      "source": [
        "## **Problem 2.16:**"
      ],
      "metadata": {
        "id": "x5wICglTSUU-"
      }
    },
    {
      "cell_type": "markdown",
      "source": [
        "---\n",
        "Give an example of a set $S$ such that the language $S^{*}$ has more six-letter words than eight-letter words. Does there exists an $S^{*}$ such that it has more six-letter words that twelve-letter words?\n",
        "\n",
        "**Answer 2.16:**\n",
        "Let $S = $ {*aaa*}, $S^*$ has one six-letter word and no seven-letter words and no eight-letter words. However, it is impossible for $S^*$ for $S$ to contain more six-letter words that twelve-letter words, because for every six-letter word $w$ there is a twelve-letter word $ww$ in $S^*$."
      ],
      "metadata": {
        "id": "pkstXcTolU3r"
      }
    },
    {
      "cell_type": "markdown",
      "source": [
        "## **Problem 2.17:**"
      ],
      "metadata": {
        "id": "ojXwNd_HSUZ9"
      }
    },
    {
      "cell_type": "markdown",
      "source": [
        "---\n",
        "* (i) Consider the language $S^{*}$, where $S$ = {*aa ab ba bb*}. Give another description of this language.\n",
        "* (ii) Give an example of a set $S$ such that $S^{*}$ *only* contains all possible strings of *a*'s and *b*'s that have length divisible by 3.\n",
        "* (iii) Let S be all strings of *a*'s and *b*'s with odd length. What is $S^{*}$?\n",
        "\n",
        "**Answer 2.17:**\n",
        "- (i) All words over $Σ =$ {*a b*} of even length.\n",
        "- (ii) $S =$ {*aaa aab aba abb baa bab bba bbb*}\n",
        "- (iii) All strings of *a*'s and *b*'s except Λ"
      ],
      "metadata": {
        "id": "UckBNs4UmKY-"
      }
    },
    {
      "cell_type": "markdown",
      "source": [
        "## **Problem 2.18:**"
      ],
      "metadata": {
        "id": "tARV7x_bSUfD"
      }
    },
    {
      "cell_type": "markdown",
      "source": [
        "---\n",
        "* (i) If $S =$ {*a b*} and $T^{*} = S^{*}$, prove that $T$ must contain $S$.\n",
        "* (ii) Find another pair of sets $S$ and $T$ such that if $T^{*} = S^{*}$, then $S \\subset T$.\n",
        "\n",
        "**Answer 2.18:**\n",
        "- (i) $S^*$ and $T^*$ both represent the set of all strings of *a*'s *b*'s. Therefore $T$ must include at least the words *a* and *b*, which is the set $S$.\n",
        "- (ii) $S =$ {*a bb*}, $T =$ {*a aa bb*}."
      ],
      "metadata": {
        "id": "9zG9z2gDlbRa"
      }
    },
    {
      "cell_type": "markdown",
      "source": [
        "## **Problem 2.19:**"
      ],
      "metadata": {
        "id": "RlFXX-J2SUkA"
      }
    },
    {
      "cell_type": "markdown",
      "source": [
        "---\n",
        "One student suggested the following algorithm to test a string of *a*'s and *b*'s to see if it is a word in $S^{*}$, where $S =$ {*aa ba aba abaab*}.\n",
        "* Step 1, cross off the longest set of characters from the front of the string that is a word in $S$.\n",
        "* Step 2, repeat step 1 until it is no longer possible. If what remains is the string $Λ$, the original string was a word in $S^{*}$. If what remains is not $Λ$ (this means that some letters are left, but we cannot find a word in $S$ at the beginning), the original string was not a word in $S^{*}$. Find a string that disproves this algorithm.\n",
        "\n",
        "**Answer 2.19:**\n",
        "The word *abaaba* disproves the algorithm."
      ],
      "metadata": {
        "id": "EuNGm7VClfkQ"
      }
    },
    {
      "cell_type": "markdown",
      "source": [
        "## **Problem 2.20:**"
      ],
      "metadata": {
        "id": "CLDDHKmISsTW"
      }
    },
    {
      "cell_type": "markdown",
      "source": [
        "---\n",
        "A language $L_1$ is smaller than another language $L_2$ if $L_1 \\subset L_2$ and $L_1 \\neq L_2$. Let $T$ be any language closed under concatenation; that is, if $t_1 \\in T$ and $t_2 \\in T$, then $t_1t_2$ is also an element of $T$. Show that if $T$ contains $S$ but $T \\neq S^{*}$, then $S^{*}$ is smaller that $T$. We can summarize this by saying that $S^{*}$ is the smallest closed language containing $S$.\n",
        "\n",
        "**Answer 2.20:**\n",
        "Since $T$ is closed and $S \\subset T$, any factors in $S$ concatentated together two at a time will be a word in $T$. Likewise concatentating factors in $S$ any number of times produces a word in $T$. That is any word in $S^*$ is also in $T$. However we are given that $T \\neq S^*$ so $T$ contains some words not in $S^*$. We can conclude that $S^*$ is a proper subset of $T$, in other words $S^*$ is smaller that $T$, and in symbols $S^* \\subset T$."
      ],
      "metadata": {
        "id": "zt0zHgtOlj9p"
      }
    },
    {
      "cell_type": "markdown",
      "source": [
        "# **Chapter 3: Recursive Definitions**"
      ],
      "metadata": {
        "id": "ZZdolncsclDu"
      }
    },
    {
      "cell_type": "markdown",
      "source": [
        "## **Functions**"
      ],
      "metadata": {
        "id": "q3Pqdbbdn_XC"
      }
    },
    {
      "cell_type": "code",
      "source": [
        "def derivations(n):\n",
        "    if n == 1:\n",
        "        return [\"1\"]\n",
        "    results = []\n",
        "    for a in range(1, n):\n",
        "        b = n - a\n",
        "        if a > b:\n",
        "            break\n",
        "        for left in derivations(a):\n",
        "            for right in derivations(b):\n",
        "                if a == b:\n",
        "                    if left > right:\n",
        "                        continue\n",
        "                results.append(f\"{a}[{left}] + {b}[{right}]\")\n",
        "    return results\n",
        "\n",
        "n = 7\n",
        "seq = derivations(n)\n",
        "print(f\"Derivations for {n} (total {len(seq)} ways):\")\n",
        "for i, d in enumerate(seq, 1):\n",
        "    print(f\"{i}. {d}\")"
      ],
      "metadata": {
        "id": "X7qo157QFise"
      },
      "execution_count": null,
      "outputs": []
    },
    {
      "cell_type": "code",
      "source": [
        "from functools import lru_cache\n",
        "@lru_cache(None)\n",
        "def count_proofs(n):\n",
        "    if n == 1:\n",
        "        return 1\n",
        "    total = 0\n",
        "    for a in range(1, n):\n",
        "        b = n - a\n",
        "        if a > b:\n",
        "            break\n",
        "        if a == b:\n",
        "            total += (count_proofs(a) * (count_proofs(a) + 1)) // 2\n",
        "        else:\n",
        "            total += count_proofs(a) * count_proofs(b)\n",
        "    return total\n",
        "\n",
        "for n in range(1, 16):\n",
        "    print(f\"{n}: {count_proofs(n)} proofs\")"
      ],
      "metadata": {
        "id": "1PHSxS_pF7Sf"
      },
      "execution_count": null,
      "outputs": []
    },
    {
      "cell_type": "markdown",
      "source": [
        "---\n",
        "## **Problem archetypes**\n",
        "\n",
        "1. Write a recursive definition given a statement of the language\n",
        "2. Prove a recursive definition correctly specifies the stated language\n",
        "3. Show derivation chain (*x*) or tree(*x* and *y*) for instance of proof using recursive definition\n",
        "4. Given a recursive definition of a language, prove a certain characteristic\n",
        "5. Give a recursive definition, list the invalid substrings of length 2 or 3\n",
        "6. Given a recursive definition, determine cardinalities based on combinations and permutations"
      ],
      "metadata": {
        "id": "7l-ok-PHeH3o"
      }
    },
    {
      "cell_type": "markdown",
      "source": [
        "## **Problem 3.1:**"
      ],
      "metadata": {
        "id": "RuO9gQlFqX41"
      }
    },
    {
      "cell_type": "markdown",
      "source": [
        "---\n",
        "Write another recursive definition for the language $L_1$ of Chapter 2.\n",
        "\n",
        "$L_1 = \\{x\\}^+$\n",
        "\n",
        "**Answer 3.1:**\n",
        "\n",
        "* Rule 1: $x$ is in $L_1$.\n",
        "* Rule 2: If $w$ is in $L_1$, then so is $wx$."
      ],
      "metadata": {
        "id": "PTnxsDObmvBk"
      }
    },
    {
      "cell_type": "markdown",
      "source": [
        "## **Problem 3.2:**"
      ],
      "metadata": {
        "id": "RG5x_ccxqgcU"
      }
    },
    {
      "cell_type": "markdown",
      "source": [
        "---\n",
        "Using the second recursive definition of the set EVEN, how many different ways can we prove that 14 is in EVEN?\n",
        "* Rule 1: 2 is in EVEN.\n",
        "* Rule 2: If *x* and *y* are both in EVEN, then so is $x+y$.\n",
        "\n",
        "**Answer 3.2:**\n",
        "\n",
        "* 2+2=4\n",
        "  * 2+4=6\n",
        "    * 2+6=8\n",
        "      * 2+8=10\n",
        "        * 2+10=12\n",
        "          * **2+12=14**\n",
        "        * **4+10=14**\n",
        "      * 4+8=12\n",
        "        * **2+12=14**\n",
        "      * **6+8=14**\n",
        "    * 4+6=10\n",
        "      * 2+10=12\n",
        "        * **2+12=14**\n",
        "      * **4+10=14**\n",
        "    * 6+6=12\n",
        "      * **2+12=14**\n",
        "  * 4+4=8\n",
        "    * 2+8=10\n",
        "      * 2+10=12\n",
        "        * **2+12=14**\n",
        "      * **4+10=14**\n",
        "    * 4+8=12\n",
        "      * **2+12=14**\n",
        "    * **6+8=14**"
      ],
      "metadata": {
        "id": "6QfLX6l2m0g_"
      }
    },
    {
      "cell_type": "markdown",
      "source": [
        "## **Problem 3.3:**"
      ],
      "metadata": {
        "id": "pJAwJ1zjqg9a"
      }
    },
    {
      "cell_type": "markdown",
      "source": [
        "---\n",
        "Using the second recursive definition of EVEN.\n",
        "* What is the smallest number of steps required to prove that 100 is EVEN?\n",
        "* Describe a good method for showing that $2n$ is in EVEN.\n",
        "\n",
        "**Answer 3.3:**\n",
        "- 2, 2+2=4, 4+4=8, 8+8=16, 16+16=32, 32+32=64, 64+32=96, 96+4=100, eight steps\n",
        "- Continue doubling until overreach. Back up one. Continue adding highest value in set which will not cause overreach. Repeat until target is reached."
      ],
      "metadata": {
        "id": "pXxIQViBm5XL"
      }
    },
    {
      "cell_type": "markdown",
      "source": [
        "## **Problem 3.4:**"
      ],
      "metadata": {
        "id": "7VjOcp1wqhHA"
      }
    },
    {
      "cell_type": "markdown",
      "source": [
        "---\n",
        "Show that the following is another recursive definition of the set EVEN:\n",
        "* Rule 1: 2 and 4 are in EVEN\n",
        "* Rule 2: If $x$ is in EVEN, then so is $x + 4$."
      ],
      "metadata": {
        "id": "ftR_Vd0-m9Tk"
      }
    },
    {
      "cell_type": "markdown",
      "source": [
        "**Answer 3.4:**\n",
        "\n",
        "We define the set $E$ recursively as follows:\n",
        "\n",
        "1. **Base cases:** $2 \\in E$ and $4 \\in E$.\n",
        "2. **Recursive step:** If $x \\in E$, then $x + 4 \\in E$.\n",
        "\n",
        "**Step 1: Show $E \\subseteq \\text{EVEN}$.**\n",
        "\n",
        "We proceed by structural induction on the definition of $E$:\n",
        "\n",
        "- **Base cases:** $2$ and $4$ are even numbers.\n",
        "- **Inductive step:** Assume $x$ is even. Then $x + 4$ is also even, since the sum of two even numbers is even.\n",
        "\n",
        "Thus, every element of $E$ is even.\n",
        "\n",
        "**Step 2: Show $\\text{EVEN} \\subseteq E$.**\n",
        "\n",
        "Let $n$ be an even integer with $n \\ge 2$.\n",
        "\n",
        "We can write $n$ as either $n = 2 + 4k \\quad \\text{or} \\quad n = 4 + 4k \\quad$ for some integer $k \\ge 0$.\n",
        "\n",
        "- If $n = 2$ or $n = 4$, then $n \\in E$ by the base cases.\n",
        "- If $n > 4$, then $n - 4$ is even and $\\ge 2$.  \n",
        "  By the induction hypothesis, $n - 4 \\in E$, and by the recursive step, $n \\in E$.\n",
        "\n",
        "**Step 3: Conclusion**\n",
        "\n",
        "We have shown: $E \\subseteq \\text{EVEN} \\quad \\text{and} \\quad \\text{EVEN} \\subseteq E$\n",
        "\n",
        "Therefore: $E = \\{ n \\in \\mathbb{N} \\mid n \\text{ is even and } n \\ge 2 \\}$."
      ],
      "metadata": {
        "id": "ylZX10ZVumvQ"
      }
    },
    {
      "cell_type": "markdown",
      "source": [
        "## **Problem 3.5:**"
      ],
      "metadata": {
        "id": "Ncg5YPzSqhP2"
      }
    },
    {
      "cell_type": "markdown",
      "source": [
        "---\n",
        "Show that there are infinitely many different recursive definitions for the set EVEN."
      ],
      "metadata": {
        "id": "p3ABx4rCnD2q"
      }
    },
    {
      "cell_type": "markdown",
      "source": [
        "**Answer 3.5:**\n",
        "\n",
        "$\n",
        "\\textbf{Theorem:} \\quad\n",
        "\\text{There are infinitely many distinct recursive definitions of the set } \\mathrm{EVEN}.\n",
        "$\n",
        "\n",
        "$\n",
        "\\textbf{Definition for a fixed } k \\ge 1:\n",
        "\\quad\n",
        "\\begin{cases}\n",
        "\\text{Base cases:} & 2, 4, \\dots, 2k \\in E_k, \\\\\n",
        "\\text{Recursive step:} & x \\in E_k \\ \\Rightarrow\\ x + 2k \\in E_k.\n",
        "\\end{cases}\n",
        "$\n",
        "\n",
        "$\\textbf{Claim:} \\quad E_k = \\mathrm{EVEN} \\quad \\text{for all } k \\ge 1.$\n",
        "\n",
        "$\\textit{Proof:}$\n",
        "\n",
        "$\\text{(1) Soundness: All base elements are even. Adding $2k$ preserves evenness, so } E_k \\subseteq \\mathrm{EVEN}.$\n",
        "\n",
        "$\n",
        "\\text{(2) Completeness: Let $n \\ge 2$ be even. Write $n = 2q$. By the division algorithm,}\n",
        "$\n",
        "\n",
        "$$q = kq' + j, \\quad \\text{with } q' \\ge 0, \\ j \\in \\{1,2,\\dots,k\\}.$$\n",
        "\n",
        "$\\text{Then } n = 2j + 2kq'. \\ \\text{Since $2j$ is a base element and we can add $2k$ repeatedly, } n \\in E_k.$\n",
        "\n",
        "$$\\therefore \\ E_k = \\mathrm{EVEN} \\ \\text{for all } k \\ge 1.$$\n",
        "\n",
        "$$\n",
        "\\textbf{Infinitely many definitions:} \\quad\n",
        "\\text{Different $k$ give different base sets and step sizes, so the rules differ.}\n",
        "$$\n",
        "\n",
        "$\\text{Since $k$ can be any positive integer, there are infinitely many such recursive definitions.}$"
      ],
      "metadata": {
        "id": "FfTBMw6kw5o6"
      }
    },
    {
      "cell_type": "markdown",
      "source": [
        "## **Problem 3.6:**"
      ],
      "metadata": {
        "id": "_GBO3DO2qhYk"
      }
    },
    {
      "cell_type": "markdown",
      "source": [
        "---\n",
        "Using any recursive definition of the set EVEN, show that all the numbers in it end in the digits 0, 2, 4, 6, or 8."
      ],
      "metadata": {
        "id": "BjkaW1KwnITc"
      }
    },
    {
      "cell_type": "markdown",
      "source": [
        "**Answer 3.6:**\n",
        "\n",
        "We define the set $\\mathrm{EVEN}$ recursively as:\n",
        "\n",
        "1. **Base case:** $2 \\in \\mathrm{EVEN}$.\n",
        "2. **Recursive step:** If $x \\in \\mathrm{EVEN}$, then $x + 2 \\in \\mathrm{EVEN}$.\n",
        "3. **Closure:** No other elements are in $\\mathrm{EVEN}$.\n",
        "\n",
        "**Claim:** Every $n \\in \\mathrm{EVEN}$ ends with digit $0, 2, 4, 6,$ or $8$.\n",
        "\n",
        "**Proof (structural induction):**\n",
        "\n",
        "**Base case:**  \n",
        "$2$ ends with digit $2 \\in \\{0,2,4,6,8\\}$.\n",
        "\n",
        "**Inductive step:**  \n",
        "Assume $x$ ends with digit $d \\in \\{0,2,4,6,8\\}$.  \n",
        "Consider $x + 2$:\n",
        "\n",
        "$$\n",
        "\\begin{aligned}\n",
        "d &= 0 \\implies d+2 = 2, \\\\\n",
        "d &= 2 \\implies d+2 = 4, \\\\\n",
        "d &= 4 \\implies d+2 = 6, \\\\\n",
        "d &= 6 \\implies d+2 = 8, \\\\\n",
        "d &= 8 \\implies d+2 = 10 \\ (\\text{last digit } 0).\n",
        "\\end{aligned}\n",
        "$$\n",
        "\n",
        "In each case, the last digit remains in $\\{0,2,4,6,8\\}$.\n",
        "\n",
        "**Conclusion:**  \n",
        "By induction, all elements of $\\mathrm{EVEN}$ have last digit in $\\{0,2,4,6,8\\}$."
      ],
      "metadata": {
        "id": "mYTHTc5wz1rJ"
      }
    },
    {
      "cell_type": "markdown",
      "source": [
        "## **Problem 3.7:**"
      ],
      "metadata": {
        "id": "zarLWO0iqhg6"
      }
    },
    {
      "cell_type": "markdown",
      "source": [
        "---\n",
        "The set POLYNOMIAL defined in this chapter contains only the polynomials in the one variable $x$. Write a recursive definition for the set of all polynomials in the two variables $x$ and $y$.\n",
        "\n",
        "* Rule 1: Any number is in POLYNOMIAL.\n",
        "* Rule 2: The variable *x* is in POLYNOMIAL.\n",
        "* Rule 3: If *p* and *q* are in POLYNOMIAL, then so are $p+q$, $p-q$, $(p)$, and $pq$.\n",
        "\n",
        "**Answer 3.7:**\n",
        "\n",
        "- Rule 1: Any number is in POLYNOMIAL.\n",
        "- Rule 2: The variable *x* or *y* is in POLYNOMIAL.\n",
        "- Rule 3: If *p* and *q* are in POLYNOMIAL, then so are $p+q$, $p-q$, $(p)$, and $pq$."
      ],
      "metadata": {
        "id": "PEOmkEgunMMw"
      }
    },
    {
      "cell_type": "markdown",
      "source": [
        "## **Problem 3.8:**"
      ],
      "metadata": {
        "id": "t8N9AdIGqhm_"
      }
    },
    {
      "cell_type": "markdown",
      "source": [
        "---\n",
        "Define the set of valid algebraic expressions ALEX as follows:\n",
        "* Rule 1: All polynomials are in ALEX.\n",
        "* Rule 2: If $f(x)$ and $g(x)$ are in ALEX, then so are:\n",
        "* (i) $(f(x))$\n",
        "* (ii) $-(f(x))$\n",
        "* (iii) $f(x) + g(x)$\n",
        "* (iv) $f(x) - g(x)$\n",
        "* (v) $f(x)g(x)$\n",
        "* (vi) $f(x)/g(x)$\n",
        "* (vii) $f(x)^{g(x)}$\n",
        "* (viii) $f(g(x))$\n",
        "\n",
        "- (a) Show that $(x + 2)^{3x}$ is in ALEX.\n",
        "- (b) Show that elementary calculus contains enough rules to prove the theorem that all algebraic expressions can be differentiated.\n",
        "- (c) Is Rule 2(viii) really necessary?\n",
        "\n",
        "**Answer 3.8:**\n",
        "\n",
        "- (a) Steps for proof:\n",
        "  - *Rule 1.2:* $x$\n",
        "  - *Rule 1.1:* $2$\n",
        "  - *Rule 1.1:* $3$\n",
        "  - *Rule 1.3:* $x+2$\n",
        "  - *Rule 1.3:* $(x+2)$\n",
        "  - *Rule 1.3:* $3x$\n",
        "  - *Rule 2:* $(x+2)^{3x}$\n",
        "- (b) Rules of differentiation exists for all unary and binary operators of POLYNOMIAL.\n",
        "- (c) No."
      ],
      "metadata": {
        "id": "FxJEMvt3nPzc"
      }
    },
    {
      "cell_type": "markdown",
      "source": [
        "## **Problem 3.9:**"
      ],
      "metadata": {
        "id": "RH34dcXuqhse"
      }
    },
    {
      "cell_type": "markdown",
      "source": [
        "---\n",
        "* Using the fact that $3x^2 + 7x - 9 = (((((3)x) + 7)x) - 9)$, show how to produce this polynomial from the rules for POLYNOMIAL using multiplication only twice.\n",
        "* What is the smallest number of steps needed for producing $x^8 + x^4$?\n",
        "* What is the smallest number of steps needed for producing $7x^7 + 5x^5 + 3x^3 + x$?\n",
        "\n",
        "**Answer 3.9:**\n",
        "- The product of $(3)$ and $x$, and the product of $(((3)x) + 7)$ and $x$.\n",
        "- Steps: $x$, $8$, $4$, $x^8$, $x^4$, $x^8 + x^4$, six steps.\n",
        "- Steps:\n",
        "  - 1: $7$\n",
        "  - 2: $x$\n",
        "  - 3: $5$\n",
        "  - 4: $3$\n",
        "  - 5: $x^7$\n",
        "  - 6: $x^5$\n",
        "  - 7: $x^3$\n",
        "  - 8: $7x^7 + 5x^5$\n",
        "  - 9: $7x^7 + 5x^5 + 3x^3$\n",
        "  - 10: $7x^7 + 5x^5 + 3x^3 + x$"
      ],
      "metadata": {
        "id": "S4j8sOa9nTLS"
      }
    },
    {
      "cell_type": "markdown",
      "source": [
        "## **Problem 3.10:**"
      ],
      "metadata": {
        "id": "1P9Q3kWzqhxr"
      }
    },
    {
      "cell_type": "markdown",
      "source": [
        "---\n",
        "Show that if $n$ is less that 31, then $x^n$ can be shown to be in POLYNOMIAL in fewer that eight steps.\n",
        "\n",
        "**Answer 3.10:**"
      ],
      "metadata": {
        "id": "xFM2yvuInW4C"
      }
    },
    {
      "cell_type": "markdown",
      "source": [
        "## **Problem 3.11:**"
      ],
      "metadata": {
        "id": "5v-TtwKtqh2h"
      }
    },
    {
      "cell_type": "markdown",
      "source": [
        "---\n",
        "In this chapter, we mentioned several substrings of length 2 that cannot occur in arithmetic expressions, such as *(/*, *+)*, *//*, and *\\*/*. What is the complete list of substrings of length 2 that cannot occur?\n",
        "\n",
        "**Answer 3.11:**\n",
        "- *++* *-+* *\\*+* */+* *(+*\n",
        "- *)(* *+\\** *-\\** */\\** *(\\**\n",
        "- *+/* *-/* *\\*/* *//* *(/*\n",
        "- *+)* *-)* *\\*)* */)* *()*"
      ],
      "metadata": {
        "id": "Yg13krLHnare"
      }
    },
    {
      "cell_type": "markdown",
      "source": [
        "## **Problem 3.12:**"
      ],
      "metadata": {
        "id": "2bNLHWPFqh7P"
      }
    },
    {
      "cell_type": "markdown",
      "source": [
        "---\n",
        "Are there any substrings of length 3 that cannot occur that do not contain forbidden substrings of length 2? (This means that *///* is already known to be illegal because it contains the forbidden substring *//*.) What is the longest forbidden substring that does not contain a shorter forbidden substring?\n",
        "\n",
        "**Answer 3.12:**\n",
        "Yes. *+--* *---* *\\*--* */--* *(--* *\\*\\*\\**"
      ],
      "metadata": {
        "id": "iGFEaun_neE8"
      }
    },
    {
      "cell_type": "markdown",
      "source": [
        "## **Problem 3.13:**"
      ],
      "metadata": {
        "id": "OgXVY8zxqiAl"
      }
    },
    {
      "cell_type": "markdown",
      "source": [
        "---\n",
        "The rules given earlier for the set AE allow for the peculiar expressions\n",
        "\n",
        "$(((((9)))))$ and $-(-(-(-(9))))$\n",
        "\n",
        "It is not really harmful to allow these in AE, but is there some modified definition of AE that eliminates this problem?\n",
        "\n",
        "**Answer 3.13:** Yes, but with some difficulty. Though, it's almost always better to remove the redunancies and equivalencies in a later processing step."
      ],
      "metadata": {
        "id": "mab816c3nhgb"
      }
    },
    {
      "cell_type": "markdown",
      "source": [
        "## **Problem 3.14:**"
      ],
      "metadata": {
        "id": "m4-OaDXyqiFi"
      }
    },
    {
      "cell_type": "markdown",
      "source": [
        "---\n",
        "* (i) Write out the full recursive definition for the propositional calculus that contains the symbols $\\vee$ and $\\wedge$ as well as $¬$ and $→$.\n",
        "* (ii) What are all the forbidden substrings of length 2 in this language?\n",
        "\n",
        "**Answer 3.14:**\n",
        "- (i) PROPCALC is defined as\n",
        "  - Rule 1: Any letter is in PROPCALC.\n",
        "  - Rule 2: If *x* and *y* are in PROPCALC, then so are the following:\n",
        "    - $¬x$\n",
        "    - $(x)$\n",
        "    - $x\\vee y$\n",
        "    - $x\\wedge y$\n",
        "    - $x→y$\n",
        "\n",
        "- (ii) 22 forbidden substrings of length 2\n",
        "  - $)($, $)¬$\n",
        "  - $()$, $(\\vee$, $(\\wedge$, $(→$\n",
        "  - $¬)$, $¬\\vee$, $¬\\wedge$, $¬→$\n",
        "  - $\\vee)$, $\\vee\\vee$, $\\vee\\wedge$, $\\vee →$\n",
        "  - $\\wedge)$, $\\wedge\\vee$, $\\wedge\\wedge$, $\\wedge →$\n",
        "  - $→)$, $→\\vee$, $→\\wedge$, $→→$"
      ],
      "metadata": {
        "id": "EykgVSA7nk9c"
      }
    },
    {
      "cell_type": "markdown",
      "source": [
        "## **Problem 3.15:**"
      ],
      "metadata": {
        "id": "26lape21qiKo"
      }
    },
    {
      "cell_type": "markdown",
      "source": [
        "---\n",
        "* (i) When asked to give a recursive definition for the language PALINDROME over the alphabet $Σ = \\{a\\, b\\}$, a student wrote:\n",
        "  * Rule 1: *a* and *b* are in PALINDROME\n",
        "  * Rule 2: If *x* is in PALINDROME, then so are *axa* and *bxb*.\n",
        "\n",
        "Unfortunately, all the words in the language defined above have an odd length and so it is not all of PALINDROME.\n",
        "* (i)  Fix this problem.\n",
        "* (ii) Give a recursive definition for the language EVEN_PALINDROME of all palindromes of even length.\n",
        "\n",
        "**Answer 3.15:**\n",
        "\n",
        "- (i) PALINDROME is defined as\n",
        "  - Rule 1: *a*, *b*, and $Λ$ are in PALINDROME\n",
        "  - Rule 2: If *x* is in PALINDROME, then so are $xx$, $axa$, and $bxb$.\n",
        "\n",
        "- (ii) EVEN_PALINDROME is define as\n",
        "  - Rule 1: *aa*, *bb* are in EVEN_PALINDROME\n",
        "  - Rule 2: If *x* is in EVEN_PALINDROME, then so are $axa$ and $bxb$."
      ],
      "metadata": {
        "id": "EQmGEz5vnoqM"
      }
    },
    {
      "cell_type": "markdown",
      "source": [
        "## **Problem 3.16:**"
      ],
      "metadata": {
        "id": "0m_8i1orqiQW"
      }
    },
    {
      "cell_type": "markdown",
      "source": [
        "---\n",
        "* (i) Give a recursive definition for the set $ODD = \\{1\\, 3\\, 5\\, 7\\, ...\\}$.\n",
        "* (ii) Give a recursive definition for the set of strings of digits 0, 1, 2, 3, ..., 9 that cannot start with the digit 0.\n",
        "\n",
        "**Answer 3.16:**\n",
        "- $ODD$ is defined as\n",
        "  - Rule 1: 1 is in $ODD$\n",
        "  - Rule 2: If *x* is in $ODD$, then so is $x + 2$.\n",
        "\n",
        "- $DIGITS$ is defined as\n",
        "  - Rule 1: $\\{1\\,2\\,3\\,4\\,5\\,6\\,7\\,8\\,9\\} \\subset DIGITS$.\n",
        "  - Rule 2: If $x$ and $y$ are in $DIGITS$, then so is $x0$ and $xy$."
      ],
      "metadata": {
        "id": "OiNUko6HnsVv"
      }
    },
    {
      "cell_type": "markdown",
      "source": [
        "## **Problem 3.17:**"
      ],
      "metadata": {
        "id": "LRVVtvbQqiVU"
      }
    },
    {
      "cell_type": "markdown",
      "source": [
        "---\n",
        "In this chapter we attempted to define the positive numbers by the following rules:\n",
        "* Rule 1: 1 is in $L$\n",
        "* Rule 2: If $x$ and $y$ are in $L$, Then so are $x+y$, $x*y$, and $x/y$.\n",
        "\n",
        "The language $L$ defined in this way is a famous mathematical set.\n",
        "* (i) What is it?\n",
        "* (ii) Prove it.\n",
        "\n",
        "**Answer 3.17:**\n",
        "- (i) The set of positive rational numbers.\n",
        "- (ii) The additional operator gives the positive natural numbers. The division operators gives the fractional rational numbers."
      ],
      "metadata": {
        "id": "hWbzRtScnxfi"
      }
    },
    {
      "cell_type": "markdown",
      "source": [
        "## **Problem 3.18:**"
      ],
      "metadata": {
        "id": "oSLX83Vzqiaa"
      }
    },
    {
      "cell_type": "markdown",
      "source": [
        "---\n",
        "Give two recursive definitions for the set POWERS-OF-TWO $= \\{1\\, 2\\, 4\\, 8\\, 16\\, ...\\}$.\n",
        "\n",
        "Use one of them to prove that the product of two POWERS-OF-TWO is also a POWERS-OF-TWO.\n",
        "\n",
        "**Answer 3.18:**\n",
        "\n",
        "- $POWERS\\_OF\\_TWO$ is defined as\n",
        "  - Rule 1: $1 \\in POWERS\\_OF\\_TWO$\n",
        "  - Rule 2: $x \\in POWERS\\_OF\\_TWO \\implies 2x \\in POWERS\\_OF\\_TWO$\n",
        "\n",
        "Claim: $x, y \\in POWERS\\_OF\\_TWO \\implies x*y \\in POWERS\\_OF\\_TWO$\n",
        "\n",
        "Proof:\n",
        "\n",
        "Given $x, y \\in POWERS\\_OF\\_TWO$.\n",
        "\n",
        "Recall $x=2^m$ and $y=2^n$, for some m, n.\n",
        "\n",
        "So $x*y = 2^m2^n = 2^{m+n}$, a power of 2.\n",
        "\n",
        "$\\therefore x*y \\in POWERS\\_OF\\_TWO$."
      ],
      "metadata": {
        "id": "5EL8LKo6n06l"
      }
    },
    {
      "cell_type": "markdown",
      "source": [
        "## **Problem 3.19:**"
      ],
      "metadata": {
        "id": "HsMt9joeqifX"
      }
    },
    {
      "cell_type": "markdown",
      "source": [
        "---\n",
        "Give recursive definitions for the the following languages over the alphabet $\\{a\\, b\\}$:\n",
        "* (i) The language EVENSTRING of all words of even length.\n",
        "* (ii) The language ODDSTRING of all words of odd length.\n",
        "* (iii) The language AA of all words containing the substring *aa*.\n",
        "* (iv)  The language NOTAA of all words not containing the substring *aa*.\n",
        "\n",
        "**Answer 3.19:**\n",
        "- (i) $EVENSTRING$ is defined as\n",
        "  - Rule 1: $Λ \\in EVENSTRING.$\n",
        "  - Rule 2: $w \\in EVENSTRING \\implies waa$, $wab$, $wba$, $wbb \\in EVENSTRING$.\n",
        "- (ii) $ODDSTRING$ is defined as\n",
        "  - Rule 1: $a, b \\in ODDSTRING$.\n",
        "  - Rule 2: $w \\in ODDSTRING \\implies waa$, $wab$, $wba$, $wbb \\in ODDSTRING$.\n",
        "- (iii) $AA$ is defined as\n",
        "  - Rule 1: $aa \\in AA$.\n",
        "  - Rule 2: $w \\in AA \\implies wa, aw, wb, bw \\in AA$.\n",
        "- (iv) $NOTAA$ is defined as\n",
        "  - Rule 1: $Λ, a, b \\in NOTAA$.\n",
        "  - Rule 2: $w \\in NOTAA \\implies wb, wba \\in NOTAA$."
      ],
      "metadata": {
        "id": "xqkGAQIYn4S_"
      }
    },
    {
      "cell_type": "markdown",
      "source": [
        "## **Problem 3.20:**"
      ],
      "metadata": {
        "id": "Q6bo3MI-qikm"
      }
    },
    {
      "cell_type": "markdown",
      "source": [
        "---\n",
        "* (i) Consider the following recursive definition of 3-PERMUTATION:\n",
        "  * Rule 1: 123 is a 3-PERMUTATION.\n",
        "  * Rule 2: If *xyz* is a 3-PERMUTATION, then so are *zyx* and *yzx*.\n",
        "\n",
        "  Show that there are six different 3-PERMUTATIONs.\n",
        "\n",
        "* (ii)\n",
        "  * Rule 1: 1234 is a 4-PERMUTATION.\n",
        "  * Rule 2: If *xyzw* is a 4-PERMUTATION, then so are *wzyx* and *yzwx*.\n",
        "\n",
        "  How many 4-PERMUTATIONs are there (by this definition)?\n",
        "\n",
        "**Answer 3.20:**\n",
        "- (i) 123, 321, 231, 213, 312, 132\n",
        "- (ii) 1234, 4321, 2341, 3214, 1432, 3412, 4123, 2143"
      ],
      "metadata": {
        "id": "yP8S9l7An7_D"
      }
    },
    {
      "cell_type": "markdown",
      "source": [
        "# **Chapter 4: Regular Expressions**"
      ],
      "metadata": {
        "id": "1LZyeIBk83-U"
      }
    },
    {
      "cell_type": "markdown",
      "source": [
        "## **Functions:**"
      ],
      "metadata": {
        "id": "fdY70w6Gw79m"
      }
    },
    {
      "cell_type": "markdown",
      "source": [
        "### Utility"
      ],
      "metadata": {
        "id": "8qe6cKe6ejfT"
      }
    },
    {
      "cell_type": "code",
      "source": [
        "import textwrap\n",
        "def print_list(lst, width=80):\n",
        "    print(textwrap.fill(\" \".join(lst), width))"
      ],
      "metadata": {
        "id": "2cKxcBKPeMjN"
      },
      "execution_count": null,
      "outputs": []
    },
    {
      "cell_type": "markdown",
      "source": [
        "### REX Parser (Python regular expressions)"
      ],
      "metadata": {
        "id": "LMYRdvuiQEbl"
      }
    },
    {
      "cell_type": "code",
      "source": [
        "rex_Quantifier  =   ( σ('*') + Shift('*')\n",
        "                    | σ('+') + Shift('+')\n",
        "                    | σ('?') + Shift('?')\n",
        "                    )\n",
        "rex_Item        =   ( σ('.') + Shift('.')\n",
        "                    | σ('\\\\') + ANY('.\\\\(|*+?)') % 'tx' + Shift('σ', \"tx\")\n",
        "                    | ANY(UCASE + LCASE + DIGITS) % 'tx' + Shift('σ', \"tx\")\n",
        "                    | σ('(') + ζ(lambda: rex_Expression) + σ(')') + Reduce('()', 1)\n",
        "                    )\n",
        "rex_Factor      =   rex_Item + (rex_Quantifier + Reduce('ς', 2) | ε())\n",
        "rex_Term        =   nPush() + ARBNO(rex_Factor + nInc()) + Reduce('Σ') + nPop()\n",
        "rex_Expression  =   ( nPush()\n",
        "                    + rex_Term + nInc()\n",
        "                    + ARBNO(σ('|') + rex_Term + nInc())\n",
        "                    + Reduce('Π')\n",
        "                    + nPop()\n",
        "                    )\n",
        "rex_Parse       =   POS(0) + rex_Expression + Pop('REX_tree') + RPOS(0)"
      ],
      "metadata": {
        "id": "AjGceGwtTdkV"
      },
      "execution_count": null,
      "outputs": []
    },
    {
      "cell_type": "markdown",
      "source": [
        "### REX to RE Converter"
      ],
      "metadata": {
        "id": "GjCaSuZdTmum"
      }
    },
    {
      "cell_type": "code",
      "source": [
        "#------------------------------------------------------------------------------\n",
        "def cvt_rex2re(t):\n",
        "    if t is None: return \"\"\n",
        "    assert isinstance(t, list)\n",
        "    match t[0]:\n",
        "        case 'σ':   return t[1]\n",
        "        case '.':   return \"(a+b)\"\n",
        "        case '()':  return f\"({cvt_rex2re(t[1])})\"\n",
        "        case 'Σ':   return \"\".join([cvt_rex2re(c) for c in t[1:]])\n",
        "        case 'Π':   return \"+\".join([cvt_rex2re(c) for c in t[1:]])\n",
        "        case 'ς':   # quantifier\n",
        "                    match t[2]:\n",
        "                        case ['*']: return cvt_rex2re(t[1]) + \"^{*}\"\n",
        "                        case ['+']: return cvt_rex2re(t[1]) + \"^{+}\"\n",
        "                        case ['?']: return f\"Λ+{cvt_rex2re(t[1])}\"\n",
        "                        case _: raise Exception(f\"Unexpected REX quantifier {t[2]}\")\n",
        "        case _:     raise Exception(f\"Unknown REX type {t[0]}\")\n",
        "#------------------------------------------------------------------------------\n",
        "REX_tree = None\n",
        "def convert_rex2re(rex):\n",
        "    if rex in rex_Parse:\n",
        "        return f\"${cvt_rex2re(REX_tree)}$\"\n",
        "    else: raise Exception(\"REX parse error\")\n",
        "#------------------------------------------------------------------------------"
      ],
      "metadata": {
        "id": "YzVMM4jMzrEc"
      },
      "execution_count": null,
      "outputs": []
    },
    {
      "cell_type": "markdown",
      "source": [
        "### RE Parser (regular expressions)"
      ],
      "metadata": {
        "id": "jQvAcQLxQk2c"
      }
    },
    {
      "cell_type": "code",
      "source": [
        "RE_Quantifier   =   ( σ('^{*}') + Shift('*')\n",
        "                    | σ('^{+}') + Shift('+')\n",
        "                    )\n",
        "RE_Item         =   ( σ('Λ') + Shift('Λ')\n",
        "                    | ANY(UCASE + LCASE + DIGITS) % 'tx' + Shift('σ', \"tx\")\n",
        "                    | σ('(') + ζ(lambda: RE_Expression) + σ(')') + Reduce('()', 1)\n",
        "                    )\n",
        "RE_Factor       =   RE_Item + (RE_Quantifier + Reduce('ς', 2) | ε())\n",
        "RE_Term         =   nPush() + ARBNO(RE_Factor + nInc()) + Reduce('Σ') + nPop()\n",
        "RE_Expression   =   ( nPush()\n",
        "                    + RE_Term + nInc()\n",
        "                    + ARBNO(σ('+') + RE_Term + nInc())\n",
        "                    + Reduce('Π')\n",
        "                    + nPop()\n",
        "                    )\n",
        "RE_Parse        =   ( POS(0)\n",
        "                    + σ('$')\n",
        "                    + RE_Expression + Pop('RE_tree')\n",
        "                    + σ('$')\n",
        "                    + RPOS(0)\n",
        "                    )"
      ],
      "metadata": {
        "id": "ZdLxxOJGT3PJ"
      },
      "execution_count": null,
      "outputs": []
    },
    {
      "cell_type": "markdown",
      "source": [
        "### RE to REX Converter"
      ],
      "metadata": {
        "id": "OWUIwmFrT6tA"
      }
    },
    {
      "cell_type": "code",
      "source": [
        "#------------------------------------------------------------------------------\n",
        "def cvt_re2rex(t):\n",
        "    if t is None: return \"\"\n",
        "    assert isinstance(t, list)\n",
        "    match t[0]:\n",
        "        case 'Λ':   return \"\"\n",
        "        case 'σ':   return t[1]\n",
        "        case '()':  return f\"({cvt_re2rex(t[1])})\"\n",
        "        case 'Σ':   return \"\".join([cvt_re2rex(c) for c in t[1:]])\n",
        "        case 'Π':   return \"|\".join([cvt_re2rex(c) for c in t[1:]])\n",
        "        case 'ς':   # quantifier\n",
        "                    match t[2]:\n",
        "                        case ['*']: return f\"{cvt_re2rex(t[1])}*\"\n",
        "                        case ['+']: return f\"{cvt_re2rex(t[1])}+\"\n",
        "                        case _: raise Exception(f\"Unexpected RE quantifier {t[2]}\")\n",
        "        case _:     raise Exception(f\"Unknown RE type {t[0]}\")\n",
        "#------------------------------------------------------------------------------\n",
        "RE_tree = None\n",
        "def convert_re2rex(RE):\n",
        "    if RE in RE_Parse:\n",
        "        return f\"^({cvt_re2rex(RE_tree)})$\"\n",
        "    else: raise Exception(\"RE parse error\")\n",
        "#------------------------------------------------------------------------------"
      ],
      "metadata": {
        "id": "e_vACtdrWD_b"
      },
      "execution_count": null,
      "outputs": []
    },
    {
      "cell_type": "markdown",
      "source": [
        "### permutations()"
      ],
      "metadata": {
        "id": "oH7HInaDQyxQ"
      }
    },
    {
      "cell_type": "code",
      "source": [
        "def permutations(alphabet, max_length=7):\n",
        "    for length in range(0, max_length+1):\n",
        "        for combo in product(alphabet, repeat=length):\n",
        "            yield ''.join(combo)"
      ],
      "metadata": {
        "id": "YugPZqDFgg67"
      },
      "execution_count": null,
      "outputs": []
    },
    {
      "cell_type": "markdown",
      "source": [
        "### test_re()"
      ],
      "metadata": {
        "id": "qMm7iqJTQ_ki"
      }
    },
    {
      "cell_type": "code",
      "source": [
        "Alphabet = ['a', 'b']\n",
        "def test_re(RE, max_length, verbose=False):\n",
        "    rex = convert_re2rex(RE)\n",
        "    display(Latex(RE))\n",
        "    print(rex)\n",
        "    accepted = []\n",
        "    rejected = []\n",
        "    if regex := re.compile(rex):\n",
        "        n = 0\n",
        "        for s in permutations(Alphabet, max_length):\n",
        "            if re.match(regex, s):\n",
        "                accepted.append(s if s != \"\" else \"Λ\")\n",
        "            else: rejected.append(s if s != \"\" else \"Λ\")\n",
        "            n += 1\n",
        "        print(f\"n={n} accept={len(accepted)}\", f\"reject={len(rejected)}\")\n",
        "        if (verbose): print(\"Accepted: \", end=\"\"); print_list(accepted)\n",
        "        if (verbose): print(\"Rejected: \", end=\"\"); print_list(rejected)\n",
        "        print()\n",
        "    else: raise Exception(\"RE compile error\")"
      ],
      "metadata": {
        "id": "21nIRkLhiEpB"
      },
      "execution_count": null,
      "outputs": []
    },
    {
      "cell_type": "markdown",
      "source": [
        "## **Problem 4.1:**"
      ],
      "metadata": {
        "id": "6FPuVlaz9J4n"
      }
    },
    {
      "cell_type": "markdown",
      "source": [
        "---\n",
        "Let $r_1$, $r_2$, and $r_3$ be three regular expressions.\n",
        "Show that the language associated with $(r_1+r_2)r_3$ is the same as the language associated with $r_1r_3+r_2r_3$.\n",
        "Show that $r_1(r_2+r_3)$ is equivalent to $r_1r_2+r_1r_3$.\n",
        "This will be the same as proving a \"distributive law\" for regular expressions.\n",
        "\n",
        "**Answer 4.1:**"
      ],
      "metadata": {
        "id": "JVIh4vw7pSPu"
      }
    },
    {
      "cell_type": "markdown",
      "source": [
        "Let $L(r)$ be the language denoted by the regular expression $r$.\n",
        "\n",
        "- Union: $L(r_1 + r_2) = L(r_1) \\cup L(r_2)$\n",
        "- Concatenation: $L(r_1 r_2) = \\{\\, xy \\mid x \\in L(r_1),\\ y \\in L(r_2) \\,\\}$\n",
        "\n",
        "Claim: $$L\\big((r_1 + r_2) r_3\\big) = L(r_1 r_3) \\cup L(r_2 r_3).$$\n",
        "\n",
        "Proof:\n",
        "- ($\\subseteq$) Let $w \\in L((r_1 + r_2) r_3)$.\n",
        "  - Then $w = xy$ with $x \\in L(r_1) \\cup L(r_2)$ and $y \\in L(r_3)$.\n",
        "  - If $x \\in L(r_1)$, then $w \\in L(r_1 r_3)$.\n",
        "  - If $x \\in L(r_2)$, then $w \\in L(r_2 r_3)$.\n",
        "  - Hence $w \\in L(r_1 r_3) \\cup L(r_2 r_3)$.\n",
        "\n",
        "- ($\\supseteq$) Let $w \\in L(r_1 r_3) \\cup L(r_2 r_3)$.\n",
        "  - If $w \\in L(r_1 r_3)$, then $w = xy$ with $x \\in L(r_1)$ and $y \\in L(r_3)$.\n",
        "  - Since $x \\in L(r_1) \\subseteq L(r_1) \\cup L(r_2)$, we have $w \\in L((r_1 + r_2) r_3)$.\n",
        "  - The case $w \\in L(r_2 r_3)$ is analogous.\n",
        "\n",
        "Therefore, $$L((r_1 + r_2) r_3) = L(r_1 r_3) \\cup L(r_2 r_3).$$\n",
        "\n",
        "Conclusion:\n",
        "$$\n",
        "(r_1 + r_2) r_3 \\equiv r_1 r_3 + r_2 r_3\n",
        "\\quad\\text{and}\\quad\n",
        "r_1 (r_2 + r_3) \\equiv r_1 r_2 + r_1 r_3.\n",
        "$$"
      ],
      "metadata": {
        "id": "ZViRC30Bctyj"
      }
    },
    {
      "cell_type": "markdown",
      "source": [
        "For Problems 4.2 through 4.11, construct a regular expression defining each of the following languages over the alphabet $Σ = \\{a\\,b\\}$.\n",
        "\n",
        "A recursive definition for REGEX is:\n",
        "* Rule 1: $Λ, a, b \\in REGEX$.\n",
        "* Rule 2: If $r_1, r_2 \\in REGEX$, then $(r_1), r_1r_2, r_1+r_2, r_1^{*} \\in REGEX$."
      ],
      "metadata": {
        "id": "9rpdEiJWfSAk"
      }
    },
    {
      "cell_type": "markdown",
      "source": [
        "## **Problem 4.2:**"
      ],
      "metadata": {
        "id": "UxL85lY59Q24"
      }
    },
    {
      "cell_type": "markdown",
      "source": [
        "---\n",
        "Given $Σ = \\{a\\,b\\}$. Construct a regular expression for all words in which *a* appears tripled, if at\n",
        "all. This means that every clump of *a*'s contains 3 or 6 or 9 or 12 ... *a*'s."
      ],
      "metadata": {
        "id": "zPlmE3scpbc1"
      }
    },
    {
      "cell_type": "code",
      "source": [
        "# Answer 4.2:\n",
        "test_re(\"$(aaa+b)^{*}$\")\n",
        "test_re(\"$((aaa)^{*}b^{*})^{*}$\")\n",
        "test_re(\"$(b^{*}(aaa)^{*})^{*}$\")"
      ],
      "metadata": {
        "id": "UQXmD9sWhgNU"
      },
      "execution_count": null,
      "outputs": []
    },
    {
      "cell_type": "markdown",
      "source": [
        "## **Problem 4.3:**"
      ],
      "metadata": {
        "id": "ugTQorST9RD-"
      }
    },
    {
      "cell_type": "markdown",
      "source": [
        "---\n",
        "Given $Σ = \\{a\\,b\\}$. Construct a regular expression for all words that contain at least one of the strings $s_1$, $s_2$, $s_3$, or $s_4$.\n",
        "\n",
        "**Answer 4.3:** $(a+b)^{*}(s_1+s_2+s_3+s_4)(a+b)^{*}$"
      ],
      "metadata": {
        "id": "jFLUTbQapexM"
      }
    },
    {
      "cell_type": "markdown",
      "source": [
        "## **Problem 4.4:**"
      ],
      "metadata": {
        "id": "CYQ9biYs9RM8"
      }
    },
    {
      "cell_type": "markdown",
      "source": [
        "---\n",
        "Given $Σ = \\{a\\,b\\}$. Construct a regular expression for all words that contain exactly two *b*'s or exactly three *b*'s, not more."
      ],
      "metadata": {
        "id": "yppzv5rfpinT"
      }
    },
    {
      "cell_type": "code",
      "source": [
        "# Answer 4.4:\n",
        "test_re(\"$a^{*}ba^{*}ba^{*}(Λ+ba^{*})$\", 4, True)"
      ],
      "metadata": {
        "id": "ZiJujgB-VtU1"
      },
      "execution_count": null,
      "outputs": []
    },
    {
      "cell_type": "markdown",
      "source": [
        "## **Problem 4.5:**"
      ],
      "metadata": {
        "id": "8rwqLGnE9RTR"
      }
    },
    {
      "cell_type": "markdown",
      "source": [
        "---\n",
        "Given $Σ = \\{a\\,b\\}$. Construct a regular expression for\n",
        "* (i) all strings that end in a double letter,\n",
        "* (ii) all strings that do not end in a double letter."
      ],
      "metadata": {
        "id": "2B1MJYn8pma7"
      }
    },
    {
      "cell_type": "code",
      "source": [
        "# Answer 4.5:\n",
        "test_re(\"$(a+b)^{*}(aa+bb)$\", 4, True)\n",
        "test_re(\"$Λ+a+b+(a+b)^{*}(ab+ba)$\", 4, True)"
      ],
      "metadata": {
        "id": "a-t5MzsxWuRs"
      },
      "execution_count": null,
      "outputs": []
    },
    {
      "cell_type": "markdown",
      "source": [
        "## **Problem 4.6:**"
      ],
      "metadata": {
        "id": "rGRk0h7T9Rj2"
      }
    },
    {
      "cell_type": "markdown",
      "source": [
        "---\n",
        "Given $Σ = \\{a\\,b\\}$. Construct a regular expression for all strings that have exactly one double letter in them."
      ],
      "metadata": {
        "id": "eraS4uJcpuWe"
      }
    },
    {
      "cell_type": "code",
      "source": [
        "# Answer 4.6:\n",
        "test_re(\"$(ab)^{*}aa(ba)^{*}+(ba)^{*}bb(ab)^{*}$\", 6, True)"
      ],
      "metadata": {
        "id": "AQHjjiOYjbYU"
      },
      "execution_count": null,
      "outputs": []
    },
    {
      "cell_type": "markdown",
      "source": [
        "## **Problem 4.7:**"
      ],
      "metadata": {
        "id": "4-LE6A6f9Rpj"
      }
    },
    {
      "cell_type": "markdown",
      "source": [
        "---\n",
        "Given $Σ = \\{a\\,b\\}$. Construct a regular expression for all strings in which the letter *b* is *never* tripled. This means that no word contains the string *bbb*."
      ],
      "metadata": {
        "id": "7To2jnVBpxvB"
      }
    },
    {
      "cell_type": "code",
      "source": [
        "# Answer 4.7:\n",
        "test_re(\"$(Λ+b+bb)(a^{*}a(b+bb))^{*}a^{*}$\", 6, True)"
      ],
      "metadata": {
        "id": "NyLzD7AHkUSY"
      },
      "execution_count": null,
      "outputs": []
    },
    {
      "cell_type": "markdown",
      "source": [
        "## **Problem 4.8:**"
      ],
      "metadata": {
        "id": "2YRT7wCQ9RwQ"
      }
    },
    {
      "cell_type": "markdown",
      "source": [
        "---\n",
        "Given $Σ = \\{a\\,b\\}$. Construct a regular expression for all words in which *a* is tripled or *b* is tripled, but not both. This means each word contains the substring *aaa* or the substring *bbb* but not both."
      ],
      "metadata": {
        "id": "hMlXM6BOp3zo"
      }
    },
    {
      "cell_type": "code",
      "source": [
        "# Answer 4.8:\n",
        "NOTBBB=\"(Λ+b+bb)(a^{*}a(b+bb))^{*}a^{*}\"\n",
        "HASAAA=f\"{NOTBBB}aaa{NOTBBB}\"\n",
        "NOTAAA=\"(Λ+a+aa)(b^{*}b(a+aa))^{*}b^{*}\"\n",
        "HASBBB=f\"{NOTAAA}bbb{NOTAAA}\"\n",
        "test_re(f\"${HASAAA}+{HASBBB}$\", 6, True)"
      ],
      "metadata": {
        "id": "7xh4YQMKk4x3"
      },
      "execution_count": null,
      "outputs": []
    },
    {
      "cell_type": "markdown",
      "source": [
        "## **Problem 4.9:**"
      ],
      "metadata": {
        "id": "0Wk9Gwtf9R3G"
      }
    },
    {
      "cell_type": "markdown",
      "source": [
        "---\n",
        "Given $Σ = \\{a\\,b\\}$. Construct a regular expression for\n",
        "* (i) all words that do not have the substring *ab*,\n",
        "* (ii) all words that do not have both the substrings *bba* and *abb*."
      ],
      "metadata": {
        "id": "Z_sCAsM6p8E6"
      }
    },
    {
      "cell_type": "code",
      "source": [
        "# Answer 4.9:\n",
        "test_re(\"$b^{*}a^{*}$\", 6, True)\n",
        "test_re(\"$Λ+a^{*}b(Λ+a)+b^{*}a(Λ+b)$\", 6, True)"
      ],
      "metadata": {
        "id": "WB6gPeGhmpoM"
      },
      "execution_count": null,
      "outputs": []
    },
    {
      "cell_type": "markdown",
      "source": [
        "## **Problem 4.10:**"
      ],
      "metadata": {
        "id": "_6T1vye_9R9j"
      }
    },
    {
      "cell_type": "markdown",
      "source": [
        "---\n",
        "Given $Σ = \\{a\\,b\\}$. Construct a regular expression for all strings in which the *total* number of *a*'s is divisible by 3 no matter how they are distributed, such as *aabaabbaba*."
      ],
      "metadata": {
        "id": "SA7c3YE4qFzD"
      }
    },
    {
      "cell_type": "code",
      "source": [
        "# Answer 4.10:\n",
        "test_re(\"$b^{*}(ab^{*}ab^{*}a)^{*}b^{*}$\", 6, True)"
      ],
      "metadata": {
        "id": "MQKCOsyxt8Ph"
      },
      "execution_count": null,
      "outputs": []
    },
    {
      "cell_type": "markdown",
      "source": [
        "## **Problem 4.11:**"
      ],
      "metadata": {
        "id": "_659sySH9SMZ"
      }
    },
    {
      "cell_type": "markdown",
      "source": [
        "---\n",
        "Given $Σ = \\{a\\,b\\}$. Construct a regular expression for all strings\n",
        "\n",
        "* (i) in which any *b*'s that occur are found in clumps of an odd number at a time, such as *abaabbbab*.\n",
        "* (ii) that have an even number of *a*'s and an odd number of *b*'s.\n",
        "* (iii) that have an odd number of *a*'s and an odd number of *b*'s."
      ],
      "metadata": {
        "id": "Hyooe5HVqKS1"
      }
    },
    {
      "cell_type": "code",
      "source": [
        "# Answer 4.11:\n",
        "EVEN_EVEN = \"(aa+bb+(ab+ba)(aa+bb)^{*}(ab+ba))^{*}\"\n",
        "test_re(\"$a^{*}+a^{*}(b(bb)^{*}a^{+})^{*}b(bb)^{*}a^{*}$\", 5, True)\n",
        "test_re(f\"${EVEN_EVEN}\" + \"(b+ab(bb)^{*}a)\" + f\"{EVEN_EVEN}$\", 5, True)\n",
        "test_re(f\"${EVEN_EVEN}\" + \"(ab+ba)\" + f\"{EVEN_EVEN}$\", 5, True)"
      ],
      "metadata": {
        "id": "Aw-lsdRPuhYc"
      },
      "execution_count": null,
      "outputs": []
    },
    {
      "cell_type": "markdown",
      "source": [
        "## **Problem 4.12:**"
      ],
      "metadata": {
        "id": "pwW3VHGx9SSe"
      }
    },
    {
      "cell_type": "markdown",
      "source": [
        "---\n",
        "\n",
        "* (i) Let us reconsider the regular expression $$(a+b)^{*}a(a+b)^{*}b(a+b)^{*}$$ Show that this is equivalent to $$(a+b)^{*}ab(a+b)^{*}$$ in the sense that they define the same language.\n",
        "* (ii) Show that $(a+b)^{*}ab(a+b)^{*} + b^{*}a^{*} = (a+b)^{*}$.\n",
        "* (iii) Show that $(a+b)^{*}ab(a+b)^{*}ab(a+b)^{*} = (a+b)^{*}$.\n",
        "* (iv) Is (iii) the last variation of this theme or are there more beasts left in this cave?"
      ],
      "metadata": {
        "id": "lvWEE34KqR71"
      }
    },
    {
      "cell_type": "markdown",
      "source": [
        "\n",
        "**Answer 4.12(i):**\n",
        "\n",
        "Let $L_1 = L\\big((a+b)^{*}a(a+b)^{*}b(a+b)^{*}\\big).$\n",
        "\n",
        "Let $L_2 = L\\big((a+b)^{*}ab(a+b)^{*}\\big).$\n",
        "\n",
        "Take any $w \\in L_1$. Then $w$ can be written as  \n",
        "$$\n",
        "w = x \\; a \\; m \\; b \\; y\n",
        "\\quad\\text{with}\\quad\n",
        "x,y \\in \\{a,b\\}^{*}, \\; m \\in \\{a,b\\}^{*}.\n",
        "$$\n",
        "\n",
        "We analyze the possible forms of $m$:\n",
        "\n",
        "- **Case 1: $m = \\epsilon$**  \n",
        "  Then $w = x\\,ab\\,y$, so $w$ contains the substring $ab$ and hence $w \\in L_2$.\n",
        "\n",
        "- **Case 2: $m \\neq \\epsilon$ and $m$ contains a $b$**  \n",
        "  Let the first $b$ in $m$ occur at position $j$.  \n",
        "  - If $j = 1$, then the boundary between $a$ and the first symbol of $m$ is $ab$, so $w$ contains $ab$.  \n",
        "  - If $j > 1$, then the symbol at position $j-1$ in $m$ cannot be $b$ (by minimality of $j$), so it is $a$, giving an internal $ab$ in $m$.  \n",
        "  In both subcases, $w \\in L_2$.\n",
        "\n",
        "- **Case 3: $m$ has no $b$**  \n",
        "  Then $m = a^{k}$ for some $k \\ge 1$. The last $a$ of $m$ is immediately followed by the trailing $b$, so $ab$ occurs in $w$. Thus $w \\in L_2$.\n",
        "\n",
        "In all cases, $w$ contains a contiguous $ab$, so $w \\in L_2$.\n",
        "\n",
        "If $w \\in L_2$, then  \n",
        "$$w = x\\,ab\\,y, \\quad x,y \\in \\{a,b\\}^{*}.$$\n",
        "\n",
        "This matches $(a+b)^{*}a(a+b)^{*}b(a+b)^{*}$ by choosing $m = \\epsilon$. Hence $w \\in L_1$.\n",
        "\n",
        "Since $L_1 \\subseteq L_2$ and $L_2 \\subseteq L_1$, we have  \n",
        "$$L\\big((a+b)^{*}a(a+b)^{*}b(a+b)^{*}\\big)=L\\big((a+b)^{*}ab(a+b)^{*}\\big).$$"
      ],
      "metadata": {
        "id": "QvtzXbqYA2Wz"
      }
    },
    {
      "cell_type": "markdown",
      "source": [
        "**Answer 4.12(ii):**\n",
        "\n",
        "Since $(a+b)^{*}ab(a+b)^{*}ab(a+b)^{*}$ represents all strings which have a *b* following an *a*. This exludes from the set of all possible strings, $a^{*}$, $b^{*}$, and $b^{*}a^{*}$. Hence the union of the two is the set of all possible string $(a+b)^{*}$.\n",
        "\n",
        "**Answer 4.12(iii):**\n",
        "\n",
        "Strictly speaking there are an infinite amount of these type of substitutions."
      ],
      "metadata": {
        "id": "fDP4XGlSCl6e"
      }
    },
    {
      "cell_type": "markdown",
      "source": [
        "## **Problem 4.13:**"
      ],
      "metadata": {
        "id": "RKXeadfR9SYE"
      }
    },
    {
      "cell_type": "markdown",
      "source": [
        "---\n",
        "We have defined the product of two sets of strings in general. If we apply this to the case where both factors are the same set, $S=T$, we obtain squares, $S^2$. Similarily, we can define $S^3, S^4,...$. Show that it makes some sense to write:\n",
        "* (i) $S^{*} = Λ + S + S^1 + S^2 + S^3 + S^4 + ...$\n",
        "* (ii) $S^{+} = S + S^1 + S^2 + S^3 + S^4 + ...$\n",
        "\n",
        "**Answer 4.13:**\n",
        "\n",
        "- (i) Obvious.\n",
        "- (ii) Obvious."
      ],
      "metadata": {
        "id": "J87ZYUxRqWgL"
      }
    },
    {
      "cell_type": "markdown",
      "source": [
        "## **Problem 4.14:**"
      ],
      "metadata": {
        "id": "HSVF-v2c9SdR"
      }
    },
    {
      "cell_type": "markdown",
      "source": [
        "---\n",
        "If the only difference between $L$ and $L^{*}$ is the word $Λ$, is the only difference between $L^2$ and $L^{*}$ the word $Λ$?\n",
        "\n",
        "**Answer 4.14:**\n",
        "\n",
        "Let $L=(a+b)^{+}$. $L$ and $L^{*}$ differ only by $Λ$.\n",
        "\n",
        "Now $L^2=(a+b)(a+b)^{+}$. So, no. $L$ and $L^{*}$ differ by $Λ$, $a$, and $b$."
      ],
      "metadata": {
        "id": "n0Tghm4wqbdz"
      }
    },
    {
      "cell_type": "markdown",
      "source": [
        "## **Problem 4.15:**"
      ],
      "metadata": {
        "id": "X7ijcRDS9SjG"
      }
    },
    {
      "cell_type": "markdown",
      "source": [
        "---\n",
        "Show that the following pairs of regular expressions define the same language over the alphabet $Σ = \\{a\\,b\\}$:\n",
        "\n",
        "* (i) $(ab)^{*}a\\quad$ and $\\quad a(ba)^{*}$\n",
        "* (ii) $(a^{*}+b)^{*}\\quad$ and $\\quad (a+b)^{*}$\n",
        "* (iii) $(a^{*}+b^{*})^{*}\\quad$ and $\\quad (a+b)^{*}$"
      ],
      "metadata": {
        "id": "bUCdc1waqhua"
      }
    },
    {
      "cell_type": "markdown",
      "source": [
        "**Answer 4.15(i):**\n",
        "\n",
        "Let the alphabet be $\\Sigma = \\{a,b\\}$ with concatenation, associativity and the identity $\\epsilon$.\n",
        "\n",
        "Define  \n",
        "- $w_0 = \\epsilon$, $w_{k+1} = w_k\\,ab$ so $w_k = (ab)^k$,  \n",
        "- $v_0 = \\epsilon$, $v_{k+1} = v_k\\,ba$ so $v_k = (ba)^k$.\n",
        "\n",
        "**Claim:** for all $k \\ge 0$, $w_k\\,a = a\\,v_k$.\n",
        "\n",
        "**Base case ($k=0$):** $\\epsilon a = a = a\\epsilon.$\n",
        "\n",
        "**Inductive step:**\n",
        "\n",
        "Assume $w_k a = a v_k$.\n",
        "\n",
        "Then  \n",
        "$$\n",
        "\\begin{aligned}\n",
        "w_{k+1} a\n",
        "&= (w_k\\,ab)\\,a \\\\\n",
        "&= w_k\\,(ab\\,a) && \\text{(associativity)} \\\\\n",
        "&= (w_k a)\\,ba \\\\\n",
        "&= (a v_k)\\,ba && \\text{(inductive hypothesis)} \\\\\n",
        "&= a\\,(v_k\\,ba) \\\\\n",
        "&= a\\,v_{k+1}.\n",
        "\\end{aligned}\n",
        "$$\n",
        "\n",
        "Thus $w_k a = a v_k$ for all $k$, i.e., $(ab)^k a = a(ba)^k$."
      ],
      "metadata": {
        "id": "NjU77tJGYl51"
      }
    },
    {
      "cell_type": "markdown",
      "source": [
        "**Answer 4.15(ii)**\n",
        "\n",
        "We work over the alphabet $\\Sigma = \\{a, b\\}$. The claim is  \n",
        "$$\n",
        "(a^{*} + b)^{*} \\;=\\; \\Sigma^{*} \\;=\\; (a + b)^{*}.\n",
        "$$\n",
        "\n",
        "**Claim:** Every $w \\in \\Sigma^{*}$ belongs to $(a^{*} + b)^{*}$.\n",
        "\n",
        "**Base case: ($|w| = 0$):**  \n",
        "$$\n",
        "w = \\epsilon \\in (a^{*} + b)^{*}.\n",
        "$$\n",
        "\n",
        "**Inductive step:** Assume all words of length $\\le n$ are in $(a^{*} + b)^{*}$. Take $w$ with $|w| = n+1$.\n",
        "\n",
        "- **Case 1:** $w$ starts with $b$. Write $w = b\\,u$. By the inductive hypothesis, $u \\in (a^{*} + b)^{*}$, hence $w \\in (a^{*} + b)^{*}$ since $b \\in a^{*} + b$.\n",
        "\n",
        "- **Case 2:** $w$ starts with $a$. Let $w = a^{k} u$ where $k \\ge 1$ and $u$ is empty or starts with $b$. Then $a^{k} \\in a^{*}$ and, by the inductive hypothesis, $u \\in (a^{*} + b)^{*}$. Hence $w \\in (a^{*} + b)^{*}$.\n",
        "\n",
        "Thus  \n",
        "$$\n",
        "\\Sigma^{*} \\subseteq (a^{*} + b)^{*},\n",
        "$$\n",
        "and the equality with $(a + b)^{*}$ follows as above."
      ],
      "metadata": {
        "id": "oP-_ZGJublXT"
      }
    },
    {
      "cell_type": "markdown",
      "source": [
        "**Answer 4.15(iii)**\n",
        "\n",
        "We work over the alphabet $\\Sigma = \\{a, b\\}$. The claim is  \n",
        "$$\n",
        "(a^{*} + b^{*})^{*} \\;=\\; \\Sigma^{*} \\;=\\; (a + b)^{*}.\n",
        "$$\n",
        "\n",
        "**Claim:** Every $w \\in \\Sigma^{*}$ belongs to $(a^{*} + b^{*})^{*}$.\n",
        "\n",
        "**Base case ($|w| = 0$):**  \n",
        "$$\n",
        "w = \\epsilon \\in (a^{*} + b^{*})^{*}.\n",
        "$$\n",
        "\n",
        "**Inductive step:** Assume all words of length $\\le n$ are in $(a^{*} + b^{*})^{*}$. Take $w$ with $|w| = n+1$.\n",
        "\n",
        "- **Case 1:** $w$ starts with $b$. Let $w = b^{k} u$ where $k \\ge 1$ and $u$ is empty or starts with $a$. Then $b^{k} \\in b^{*}$ and, by the inductive hypothesis, $u \\in (a^{*} + b^{*})^{*}$. Hence $w \\in (a^{*} + b^{*})^{*}$.\n",
        "\n",
        "- **Case 2:** $w$ starts with $a$. Let $w = a^{k} u$ where $k \\ge 1$ and $u$ is empty or starts with $b$. Then $a^{k} \\in a^{*}$ and, by the inductive hypothesis, $u \\in (a^{*} + b^{*})^{*}$. Hence $w \\in (a^{*} + b^{*})^{*}$.\n",
        "\n",
        "Thus  \n",
        "$$\n",
        "\\Sigma^{*} \\subseteq (a^{*} + b^{*})^{*},\n",
        "$$\n",
        "and the equality with $(a + b)^{*}$ follows as above."
      ],
      "metadata": {
        "id": "dsWHFCUOenZ2"
      }
    },
    {
      "cell_type": "markdown",
      "source": [
        "## **Problem 4.16:**"
      ],
      "metadata": {
        "id": "qzjlYCfI9SvN"
      }
    },
    {
      "cell_type": "markdown",
      "source": [
        "---\n",
        "Show that the following pairs of regular expressions define the same language over the alphabet $Σ = \\{a\\,b\\}$:\n",
        "\n",
        "* (i) $Λ^{*}\\quad$ and $\\quad Λ$\n",
        "* (ii) $(a^{*}b)^{*}a^{*}\\quad$ and $\\quad a^{*}(ba^{*})^{*}$\n",
        "* (iii) $(a^{*}bbb)^{*}a^{*}\\quad$ and $\\quad a^{*}(bbba^{*})^{*}$\n",
        "\n",
        "**Answer 4.16:**\n",
        "\n",
        "- (i) Obvious.\n",
        "- (ii) Follows from $(R^{*}S)^{*}R^{*}=R^{*}(SR^{*})^{*}$.\n",
        "- (iii) Follows from $(R^{*}S)^{*}R^{*}=R^{*}(SR^{*})^{*}$."
      ],
      "metadata": {
        "id": "SoN1V_P2qnNQ"
      }
    },
    {
      "cell_type": "markdown",
      "source": [
        "## **Problem 4.17:**"
      ],
      "metadata": {
        "id": "t_kdG08T9S05"
      }
    },
    {
      "cell_type": "markdown",
      "source": [
        "---\n",
        "Show that the following pairs of regular expressions define the same language over the alphabet $Σ = \\{a\\,b\\}$:\n",
        "\n",
        "* (i) $((a+bb)^{*}aa)^{*}\\quad$ and $\\quad Λ+(a+bb)^{*}aa$\n",
        "* (ii) $(aa)^{*}(Λ+a)\\quad$ and $\\quad a^{*}$\n",
        "* (iii) $a(aa)^{*}(Λ+a)b+b\\quad$ and $\\quad a^{*}b$\n",
        "* (iv) $a(ba+a)^{*}b\\quad$ and $\\quad aa^{*}b(aa^{*}b)^{*}$\n",
        "* (v) $Λ+a(a+b)^{*}+(a+b)^{*}aa(a+b)^{*}\\quad$ and $\\quad ((b^{*}a)^{*}ab^{*})^{*}$\n",
        "\n",
        "**Answer 4.17:**\n",
        "\n",
        "- (i) Follows from definition of Kleene closure.\n",
        "- (ii) A combination of mutiple of two *a*'s followed by an optional *a*, is simply zero or more *a*'s.\n",
        "- (iii) Follows from (ii) above.\n",
        "- (iv) Regarding the first, strings begin with *a* and end with *b* and between *b*'s are always followed by an *a*. Or in other words, each *b* is surrounded by at least one *a* on either side.\n",
        "- (v) $???$"
      ],
      "metadata": {
        "id": "SQRugPIcqsjz"
      }
    },
    {
      "cell_type": "markdown",
      "source": [
        "## **Problem 4.18:**"
      ],
      "metadata": {
        "id": "g_wluocP9S6X"
      }
    },
    {
      "cell_type": "markdown",
      "source": [
        "---\n",
        "Describe (in English phrases) the languages associated with the following regular expressions:\n",
        "\n",
        "* (i) $(a+b)^{*}a(Λ+bbbb)$\n",
        "* (ii) $(a(a+bb)^{*})^{*}$\n",
        "* (iii) $(a(aa)^{*}b(bb)^{*})^{*}$\n",
        "* (iv) $(b(bb)^{*})^{*}(a(aa)^{*}b(bb)^{*})^{*}$\n",
        "* (v) $(b(bb)^{*})^{*}(a(aa)^{*}b(bb)^{*})^{*}(a(aa)^{*})^{*}$\n",
        "* (vi) $((a+b)a)^{*}$\n",
        "\n",
        "**Answer 4.18:**\n",
        "\n",
        "- all strings ending in either *a* or *abbbb*.\n",
        "- all strings starting with *a* and in which *b*'s appear as clumps of even length.\n",
        "- Λ or strings starting with a and ending in b where *a*'s and *b*'s are clumped by odd-numbered lengths.\n",
        "- Λ or clumps of odd-length *a*'s and *b*'s ending in *b*.\n",
        "- Λ or clumps of odd-length *a*'s and *b*'s.\n",
        "- Λ or even-length strings with *a* repeating in even positions."
      ],
      "metadata": {
        "id": "AiWDf9yIqw3p"
      }
    },
    {
      "cell_type": "markdown",
      "source": [
        "## **Problem 4.19:** (D. N. Arden)"
      ],
      "metadata": {
        "id": "a5NAQP979S_l"
      }
    },
    {
      "cell_type": "markdown",
      "source": [
        "---\n",
        "Let $R$, $S$, and $T$ be three languages and assume that $Λ$ is not in $S$.\n",
        "\n",
        "Prove the following statements:\n",
        "* From the premise that $R=SR+T$, we can conclude that $R=S^{*}T$\n",
        "* From the premise that $R=S^{*}T$, we can conclude that $R=SR+T$.\n",
        "\n",
        "**Answer 4.19:**\n",
        "\n",
        "$R=SR+T$ defines $R$ as containing all the words in $T$ and also all words composed of an initial part from $S$ concatenated with another words from $R$. This permits us to continue concatenating factors from $S$ as many time as we like, but we are still required to finish the word with a factor from $R$. The only type of factor from $R$ that does not entail this kind of recursion is a factor from the language $T$. So we have any number of factors from S followed by a factor from $T$, or we have just a factor from $T$, equivalently $S^{*}T$.\n",
        "\n",
        "$R=S^{*}T$ defines $R$ as words with any number (if any) factors from $S$ followed by a single factor from $T$. If the star operator is taken fro zero, we have for $R$ any word in $T$. Suppose the star operator is taken once, then we have exactly one word from $S$ followed by one word from $T$. But the word from $T$ is itself a factor from $R$, so we can see that this word is in the set $SR$. Consider what happens if we take the star more than once; the star operates on $S$, so we have $SR, SSR, SSSR, ...$ all in the set $S^{*}T$. In fact, we established $S^{+}T$ in this way. The difference between $S^{*}T$ and $S^{+}T$ is that only $S^{*}T$ contains $T$. But that means that $S^{*}T$ must equal exactly $SR+T$."
      ],
      "metadata": {
        "id": "NVGTa1FCq01l"
      }
    },
    {
      "cell_type": "markdown",
      "source": [
        "**Answer 4.19:**\n",
        "\n",
        "**Statement and assumptions**\n",
        "\n",
        "Let $R, S, T \\subseteq \\Sigma^{*}$ be languages, and assume $\\varepsilon \\notin S$. Prove:\n",
        "\n",
        "1. If $R = S R \\cup T$, then $R = S^{*} T$.\n",
        "2. If $R = S^{*} T$, then $R = S R \\cup T$.\n",
        "\n",
        "**Preliminaries**\n",
        "\n",
        "- **Kleene star:** $S^{*} = \\bigcup_{n \\ge 0} S^{n}$ and $S^{*} = \\{\\varepsilon\\} \\cup S S^{*}$.\n",
        "- **Length fact (uses $\\varepsilon \\notin S$):** Every $x \\in S$ satisfies $|x| \\ge 1$. Hence if $w = xy$ with $x \\in S$, then $|y| < |w|$.\n",
        "\n",
        "From $R = S R \\cup T$ to $R = S^{*} T$\n",
        "\n",
        "We prove both inclusions.\n",
        "\n",
        "Inclusion $R \\subseteq S^{*} T$:\n",
        "\n",
        "Fix $w \\in R$. Proceed by induction on $|w|$.\n",
        "\n",
        "- **Base case:** If $w \\in T$, then $w \\in S^{0} T \\subseteq S^{*} T$.\n",
        "- **Inductive step:** If $w \\notin T$, then $w \\in S R$ by $R = S R \\cup T$.  \n",
        "  So $w = xy$ for some $x \\in S$ and $y \\in R$.  \n",
        "  Since $\\varepsilon \\notin S$, we have $|x| \\ge 1$, hence $|y| < |w|$.  \n",
        "  By the induction hypothesis, $y \\in S^{*} T$. Thus  \n",
        "  $$w = x y \\in S S^{*} T \\subseteq S^{*} T.$$\n",
        "\n",
        "Therefore $R \\subseteq S^{*} T$.\n",
        "\n",
        "Inclusion $S^{*} T \\subseteq R$:\n",
        "\n",
        "We show $S^{n} T \\subseteq R$ for all $n \\ge 0$ by induction on $n$.\n",
        "\n",
        "- **Base case: ($n=0$):** $S^{0} T = T \\subseteq R$ since $R = S R \\cup T$.\n",
        "- **Inductive step:** Suppose $S^{n} T \\subseteq R$. Then  \n",
        "  $$S^{n+1} T = S (S^{n} T) \\subseteq S R \\subseteq S R \\cup T = R.$$\n",
        "\n",
        "Hence $S^{*} T = \\bigcup_{n \\ge 0} S^{n} T \\subseteq R$.\n",
        "\n",
        "Combining both inclusions, we have $R = S^{*} T$.\n",
        "\n",
        "From $R = S^{*} T$ to $R = S R \\cup T$:\n",
        "\n",
        "Using $S^{*} = \\{\\varepsilon\\} \\cup S S^{*}$, we have:\n",
        "$$\n",
        "R = S^{*} T\n",
        "  = (\\{\\varepsilon\\} \\cup S S^{*}) T\n",
        "  = T \\cup S (S^{*} T)\n",
        "  = T \\cup S R\n",
        "  = S R \\cup T.\n",
        "$$\n",
        "\n",
        "This implication does not require $\\varepsilon \\notin S$.\n",
        "\n",
        "**Conclusion**\n",
        "\n",
        "Under $\\varepsilon \\notin S$, the equation $R = S R \\cup T$ holds if and only if $R = S^{*} T$ (Arden’s lemma)."
      ],
      "metadata": {
        "id": "n11yMJb5lBCN"
      }
    },
    {
      "cell_type": "markdown",
      "source": [
        "## **Problem 4.20:**"
      ],
      "metadata": {
        "id": "Woh_MWpJ9TFT"
      }
    },
    {
      "cell_type": "markdown",
      "source": [
        "---\n",
        "Explain why we can take any pair of equivalent regular expressions and replace the letter *a* in both with any regular expression **R** and the letter *b* with any regular expression **S** and the resulting regular expressions will have the same language. For example, 17(ii), which says\n",
        "\n",
        "   $$(a^{*}b)^{*}a^{*}=a^{*}(ba^{*})^{*}$$\n",
        "\n",
        "becomes the identity\n",
        "\n",
        "   $$(R^{*}S)^{*}R^{*}=R^{*}(SR^{*})^{*}$$\n",
        "\n",
        "which is true for all regular expressions **R** and **S**.\n",
        "\n",
        "**Answer 4.20(i):**\n",
        "\n",
        "It is easiest to understand this in terms of the recursive definition of regular expressions. Any letter of the alphabet is itself a regular expression. The rule for forming regular expressions apply to these and to all more complicated regular expressions. Each regular expression describes a set. Equivalent expressions describe equivalent sets. The equivalences are not disturbed by taking unions, products, or Kleen closures. This means that any set must be considered a building block in the construction of other sets."
      ],
      "metadata": {
        "id": "r4TQ6Oj3q5vM"
      }
    },
    {
      "cell_type": "markdown",
      "source": [
        "**Answer 4.20(i):**\n",
        "\n",
        "**Substitution Preserves Equivalence of Regular Expressions**\n",
        "\n",
        "**1. Setup**\n",
        "Let $E_1$ and $E_2$ be regular expressions over the alphabet $\\{a,b\\}$ with  \n",
        "$$\n",
        "L(E_1) = L(E_2).\n",
        "$$\n",
        "\n",
        "Let $R$ and $S$ be arbitrary regular expressions (over any alphabet).  \n",
        "We write  \n",
        "$$\n",
        "E[a \\leftarrow R,\\, b \\leftarrow S]\n",
        "$$  \n",
        "for the expression obtained by replacing each $a$ by $R$ and each $b$ by $S$.\n",
        "\n",
        "**2. Substitution on Words and Languages**\n",
        "Define a substitution $\\sigma$ on letters by:\n",
        "$$\n",
        "\\sigma(a) = L(R), \\quad \\sigma(b) = L(S).\n",
        "$$\n",
        "\n",
        "Extend $\\sigma$ to words $w = w_1 w_2 \\dots w_n \\in \\{a,b\\}^*$ by:\n",
        "$$\n",
        "\\hat{\\sigma}(w) = \\sigma(w_1) \\cdot \\sigma(w_2) \\cdots \\sigma(w_n),\n",
        "$$\n",
        "and to languages $L \\subseteq \\{a,b\\}^*$ by:\n",
        "$$\n",
        "\\hat{\\sigma}(L) = \\bigcup_{w \\in L} \\hat{\\sigma}(w).\n",
        "$$\n",
        "\n",
        "**3. Lemma — Semantics Commute with Substitution**\n",
        "For every regular expression $E$ over $\\{a,b\\}$:\n",
        "$$\n",
        "L\\big(E[a \\leftarrow R,\\, b \\leftarrow S]\\big) = \\hat{\\sigma}\\big(L(E)\\big).\n",
        "$$\n",
        "\n",
        "**Proof (by structural induction on $E$):**\n",
        "\n",
        "1. **Empty set**:  \n",
        "   $E = \\emptyset$  \n",
        "   $$\n",
        "   L(E[a \\leftarrow R, b \\leftarrow S]) = \\emptyset = \\hat{\\sigma}(\\emptyset).\n",
        "   $$\n",
        "\n",
        "2. **Empty word**:  \n",
        "   $E = \\varepsilon$  \n",
        "   $$\n",
        "   L(E[a \\leftarrow R, b \\leftarrow S]) = \\{\\varepsilon\\} = \\hat{\\sigma}(\\{\\varepsilon\\}).\n",
        "   $$\n",
        "\n",
        "3. **Letter $a$**:  \n",
        "   $E = a$  \n",
        "   $$\n",
        "   L(E[a \\leftarrow R, b \\leftarrow S]) = L(R) = \\sigma(a) = \\hat{\\sigma}(\\{a\\}).\n",
        "   $$\n",
        "\n",
        "4. **Letter $b$**: symmetric to $a$.\n",
        "\n",
        "5. **Union**: $E = F + G$  \n",
        "   $$\n",
        "   L\\big((F+G)[\\cdot]\\big) = L(F[\\cdot]) \\cup L(G[\\cdot])  \n",
        "   = \\hat{\\sigma}(L(F)) \\cup \\hat{\\sigma}(L(G))  \n",
        "   = \\hat{\\sigma}(L(F) \\cup L(G)).\n",
        "   $$\n",
        "\n",
        "6. **Concatenation**: $E = FG$  \n",
        "   $$\n",
        "   L\\big((FG)[\\cdot]\\big) = L(F[\\cdot]) \\cdot L(G[\\cdot])  \n",
        "   = \\hat{\\sigma}(L(F)) \\cdot \\hat{\\sigma}(L(G))  \n",
        "   = \\hat{\\sigma}(L(F) \\cdot L(G)).\n",
        "   $$\n",
        "\n",
        "7. **Kleene star**: $E = F^*$  \n",
        "   $$\n",
        "   L\\big((F^*)[\\cdot]\\big) = \\big(L(F[\\cdot])\\big)^*  \n",
        "   = \\big(\\hat{\\sigma}(L(F))\\big)^*  \n",
        "   = \\hat{\\sigma}\\left(\\bigcup_{n \\ge 0} L(F)^n\\right)  \n",
        "   = \\hat{\\sigma}(L(F^*)).\n",
        "   $$\n",
        "\n",
        "Thus, the lemma holds.\n",
        "\n",
        "**4. Theorem — Substitution Preserves Equivalence**\n",
        "If $L(E_1) = L(E_2)$, then for all $R, S$:\n",
        "$$\n",
        "L\\big(E_1[a \\leftarrow R,\\, b \\leftarrow S]\\big)  \n",
        "= \\hat{\\sigma}(L(E_1))  \n",
        "= \\hat{\\sigma}(L(E_2))  \n",
        "= L\\big(E_2[a \\leftarrow R,\\, b \\leftarrow S]\\big).\n",
        "$$\n",
        "\n",
        "Therefore, $E_1[a \\leftarrow R,\\, b \\leftarrow S]$ and $E_2[a \\leftarrow R,\\, b \\leftarrow S]$ are equivalent for all choices of $R, S$."
      ],
      "metadata": {
        "id": "j9vOvurwpxG5"
      }
    },
    {
      "cell_type": "markdown",
      "source": [
        "**Problem 4.20(ii)**\n",
        "\n",
        "In particular, $$R=a+bb, S=ba^{*}$$\n",
        "\n",
        "results in the complicated identity\n",
        "\n",
        "$$((a+bb)^{*}(ba^{*}))^{*}(a+bb)^{*}=(a+bb)^{*}((ba^{*})(a+bb)^{*})^{*}$$\n",
        "\n",
        "What identity would result from using $$R=(ba^{*})^{*}\\quad S=(Λ+b)$$\n",
        "\n",
        "**Answer 4.20(ii)**\n",
        "\n",
        "$$(R^{*}S)^{*}R^{*}=R^{*}(SR^{*})^{*}$$\n",
        "results in\n",
        "$$((ba^{*})^{*}(Λ+b))^{*}(ba^{*})^{*}=(ba^{*})^{*}((Λ+b)(ba^{*})^{*})^{*}$$"
      ],
      "metadata": {
        "id": "CqyDHMi1uAP7"
      }
    },
    {
      "cell_type": "markdown",
      "source": [
        "# **Chapter 5: Finite Automata**"
      ],
      "metadata": {
        "id": "XulXWX_BJKLD"
      }
    },
    {
      "cell_type": "markdown",
      "source": [
        "## Functions"
      ],
      "metadata": {
        "id": "G6KSrDhgsI_M"
      }
    },
    {
      "cell_type": "code",
      "source": [
        "def display_dfa(fa):\n",
        "    dot = Digraph()\n",
        "    dot.attr(rankdir='LR')\n",
        "    dot.attr(bgcolor='black')\n",
        "    dot.attr('node', style='filled', fillcolor='black', fontcolor='white', color='white')\n",
        "    dot.attr('edge', color='white', fontcolor='white')\n",
        "    Σ = fa[0][1:]\n",
        "    Δ = fa[1:]\n",
        "    for i, δ in enumerate(Δ):\n",
        "        q = δ[0]\n",
        "        is_start = False\n",
        "        is_finish = False\n",
        "        if m := re.match(r\"^\\-(.*)$\", q): is_start = True;  q = m.groups(1)[0]\n",
        "        if m := re.match(r\"^\\+(.*)$\", q): is_finish = True; q = m.groups(1)[0]\n",
        "        if is_finish: dot.node(str(i+1), shape='doublecircle')\n",
        "        else:         dot.node(str(i+1), shape='circle')\n",
        "        if is_start:\n",
        "            dot.node('', width='0', height='0', margin='0', shape='point', style='invis')\n",
        "            dot.edge('', str(i+1), )\n",
        "    for i, δ in enumerate(Δ):\n",
        "        for j in range(1, len(δ)):\n",
        "            dot.edge(str(i+1), str(δ[j]), label=Σ[j-1])\n",
        "    dot.render('dfa', format='png', cleanup=False)  # Saves as dfa.png\n",
        "    display(dot)"
      ],
      "metadata": {
        "id": "fX8q7id8P7zI"
      },
      "execution_count": null,
      "outputs": []
    },
    {
      "cell_type": "code",
      "source": [
        "def compile_fa(fa_table):\n",
        "    header = fa_table[0][1:]\n",
        "    states = fa_table[1:]\n",
        "    start_state = None\n",
        "    accepting_states = set()\n",
        "    transitions = {}\n",
        "    for row in states:\n",
        "        state_label = row[0]\n",
        "        state_num = int(state_label.lstrip('+-'))\n",
        "        if state_label.startswith('-'):\n",
        "            start_state = state_num\n",
        "        if state_label.startswith('+') or state_label.startswith('-+'):\n",
        "            accepting_states.add(state_num)\n",
        "        transitions[state_num] = {}\n",
        "        for symbol, next_state in zip(header, row[1:]):\n",
        "            transitions[state_num][symbol] = next_state\n",
        "    if start_state is None:\n",
        "        raise ValueError(\"No start state defined in FA table.\")\n",
        "    return start_state, header, transitions, accepting_states"
      ],
      "metadata": {
        "id": "X0zUpP-PaI_a"
      },
      "execution_count": null,
      "outputs": []
    },
    {
      "cell_type": "code",
      "source": [
        "def run_fsm(input_str, start_state, header, transitions, accepting_states):\n",
        "    current_state = start_state\n",
        "    for ch in input_str:\n",
        "        if ch not in header:\n",
        "            raise ValueError(f\"Invalid input symbol: {ch}\")\n",
        "        current_state = transitions[current_state][ch]\n",
        "    accepted = current_state in accepting_states\n",
        "    return accepted, current_state"
      ],
      "metadata": {
        "id": "xqwD1QrliX3A"
      },
      "execution_count": null,
      "outputs": []
    },
    {
      "cell_type": "code",
      "source": [
        "def show_samples(table):\n",
        "    accepted = []\n",
        "    rejected = []\n",
        "    alphabet = table[0][1:]\n",
        "    fsm = compile_fa(table)\n",
        "    for length in range(0, 8):\n",
        "        for combo in product(alphabet, repeat=length):\n",
        "            word = ''.join(combo)\n",
        "            is_accepted, _ = run_fsm(word, *fsm)\n",
        "            if is_accepted:\n",
        "                accepted.append(word)\n",
        "            else: rejected.append(word)\n",
        "    return accepted, rejected"
      ],
      "metadata": {
        "id": "UfWeCYsIcids"
      },
      "execution_count": null,
      "outputs": []
    },
    {
      "cell_type": "code",
      "source": [
        "def display_problem(problem_name, verbose=True):\n",
        "    problem = FA[problem_name]\n",
        "    display(Latex(problem[0]))\n",
        "    display_dfa(problem[2])\n",
        "    if (verbose):\n",
        "        accepted, rejected = show_samples(problem[2])\n",
        "        print(\"Accepted:\")\n",
        "        print(textwrap.fill(\" \".join(accepted), width=80))\n",
        "        print()\n",
        "        print(\"Rejected:\")\n",
        "        print(textwrap.fill(\" \".join(rejected), width=80))"
      ],
      "metadata": {
        "id": "1y_q05x7J2Uv"
      },
      "execution_count": null,
      "outputs": []
    },
    {
      "cell_type": "markdown",
      "source": [
        "## **Problem 5.1:**"
      ],
      "metadata": {
        "id": "pH0DVXDdJega"
      }
    },
    {
      "cell_type": "markdown",
      "source": [
        "---\n",
        "Write out the transition tables for the FAs on pp. 56, 58 (both), 63, 64, and 69 that were defined by\n",
        "pictures.\n",
        "\n",
        "**Answer 5.1:** *See below*"
      ],
      "metadata": {
        "id": "cTIFh1mUsVN8"
      }
    },
    {
      "cell_type": "code",
      "source": [
        "#-------------------------------------------------------------------------------\n",
        "FA['pg_56'] = (\\\n",
        "  \"$(a+b)^{*}b(a+b)^{*}$\"\n",
        ", ARBNO(σ('a') | σ('b')) + σ('b') + ARBNO(σ('a') | σ('b'))\n",
        ", [ [  ' ', 'a', 'b']\n",
        "  , [ '-1',  2 ,  3]\n",
        "  , [  '2',  1 ,  3]\n",
        "  , [ '+3',  3 ,  3]\n",
        "  ])\n",
        "#-------------------------------------------------------------------------------\n",
        "display_problem('pg_56')"
      ],
      "metadata": {
        "id": "o9_KZTCfg7xC"
      },
      "execution_count": null,
      "outputs": []
    },
    {
      "cell_type": "code",
      "source": [
        "#-------------------------------------------------------------------------------\n",
        "FA['pg_58_1'] = (\\\n",
        "  \"$(a+b)(a+b)^{*}$\"\n",
        ", SPAN('ab')\n",
        ", [ [  ' ', 'a', 'b']\n",
        "  , [ '-1',  2 ,  2 ]\n",
        "  , [ '+2',  2 ,  2 ]\n",
        "  ])\n",
        "#-------------------------------------------------------------------------------\n",
        "display_problem('pg_58_1')"
      ],
      "metadata": {
        "id": "i7WcRyyuLvVp"
      },
      "execution_count": null,
      "outputs": []
    },
    {
      "cell_type": "code",
      "source": [
        "#-------------------------------------------------------------------------------\n",
        "FA['pg_58_2'] = (\\\n",
        "  \"$(a+b)^{*}$\"\n",
        ", SPAN('ab') | ε()\n",
        ", [ [  ' ', 'a', 'b']\n",
        "  , ['-+1',  1 ,  1 ]\n",
        "  ])\n",
        "#-------------------------------------------------------------------------------\n",
        "display_problem('pg_58_2')"
      ],
      "metadata": {
        "id": "B8jLTDZ-L0Xu"
      },
      "execution_count": null,
      "outputs": []
    },
    {
      "cell_type": "code",
      "source": [
        "#-------------------------------------------------------------------------------\n",
        "FA['pg_63'] = (\\\n",
        "  \"$(a+b)^{*}(aa+bb)(a+b)^{*}$\"\n",
        ", ARBNO(σ('a') | σ('b')) + (σ('aa') | σ('bb')) + ARBNO(σ('a') | σ('b'))\n",
        ", [ [  ' ', 'a', 'b']\n",
        "  , [ '-1',  2 ,  3 ]\n",
        "  , [  '2',  4 ,  3 ]\n",
        "  , [  '3',  2 ,  4 ]\n",
        "  , [ '+4',  4 ,  4 ]\n",
        "  ])\n",
        "#-------------------------------------------------------------------------------\n",
        "display_problem('pg_63')"
      ],
      "metadata": {
        "id": "_gM1mV7xL0jz"
      },
      "execution_count": null,
      "outputs": []
    },
    {
      "cell_type": "code",
      "source": [
        "#-------------------------------------------------------------------------------\n",
        "FA['pg_64'] = (\\\n",
        "  \"$(a+b)(a+b)b(a+b)*$\"\n",
        ", (σ('aaa') | σ('bbb')) + ARBNO(σ('a') | σ('b'))\n",
        ", [ [  ' ', 'a', 'b']\n",
        "  , [ '-1',  2 ,  2 ]\n",
        "  , [  '2',  3 ,  3 ]\n",
        "  , [  '3',  4 ,  5 ]\n",
        "  , [  '4',  4 ,  4 ]\n",
        "  , [ '+5',  5 ,  5 ]\n",
        "  ])\n",
        "#-------------------------------------------------------------------------------\n",
        "display_problem('pg_64')"
      ],
      "metadata": {
        "id": "d9rWJ8y-L02E"
      },
      "execution_count": null,
      "outputs": []
    },
    {
      "cell_type": "code",
      "source": [
        "# pg_69\n",
        "na = nb = 0\n",
        "def init(): na = nb = 0; return True\n",
        "def acnt(): global na; na += 1; return True\n",
        "def bcnt(): global nb; nb += 1; return True\n",
        "FA['EVEN_EVEN'] = (\\\n",
        "  \"$(aa+bb+(ab+ba)(aa+bb)^{*}(ab+ba))^{*}$\"\n",
        ", POS(0) + Λ(\"init()\")\n",
        "+ ARBNO(\n",
        "    σ('a') + λ(\"acnt()\")\n",
        "  | σ('b') + λ(\"bcnt()\")\n",
        "  )\n",
        "+ RPOS(0) + λ(\"a % 2 == 0 and b % 2 == 0\")\n",
        ", [ [  ' ', 'a', 'b']\n",
        "  , ['-+1',  3 ,  2 ]\n",
        "  , [  '2',  4 ,  1 ]\n",
        "  , [  '3',  1 ,  4 ]\n",
        "  , [  '4',  2 ,  3 ]\n",
        "  ])\n",
        "#-------------------------------------------------------------------------------\n",
        "display_problem('EVEN_EVEN')"
      ],
      "metadata": {
        "id": "EAOYDFfhL1Ku"
      },
      "execution_count": null,
      "outputs": []
    },
    {
      "cell_type": "markdown",
      "source": [
        "## **Problem 5.2:**"
      ],
      "metadata": {
        "id": "ZtdnMh6IJlQh"
      }
    },
    {
      "cell_type": "markdown",
      "source": [
        "---\n",
        "Build an FA that accepts only the language of all words with b as the second letter. Show both the picture and the transition table for this machine and find a regular expression for the language.\n",
        "\n",
        "**Answer 5.2:**\n",
        "\n",
        "RE = $(a + b)b(a+b)^{*}$"
      ],
      "metadata": {
        "id": "ZKkzwynfsitm"
      }
    },
    {
      "cell_type": "code",
      "source": [
        "#-------------------------------------------------------------------------------\n",
        "FA['prob5_2'] = (\\\n",
        "  \"$(a+b)b(a+b)^{*}$\"\n",
        ", ANY(\"ab\") + σ('b') + ARBNO(σ('a') | σ('b'))\n",
        ", [ [  ' ','a', 'b']\n",
        "  , [ '-1', 2 ,  2 ]\n",
        "  , [  '2', 3 ,  4 ]\n",
        "  , [  '3', 3 ,  3 ]\n",
        "  , [ '+4', 4 ,  4 ]\n",
        "  ])\n",
        "#-------------------------------------------------------------------------------\n",
        "display_problem('prob5_2')"
      ],
      "metadata": {
        "id": "IwvSBLtWlDcv"
      },
      "execution_count": null,
      "outputs": []
    },
    {
      "cell_type": "markdown",
      "source": [
        "## **Problem 5.3:**"
      ],
      "metadata": {
        "id": "-LFG4P6hJlXm"
      }
    },
    {
      "cell_type": "markdown",
      "source": [
        "---\n",
        "Build an FA that accepts only the words baa, ab, and abb and no other strings longer or shorter.\n",
        "\n",
        "**Answer 5.3:**\n",
        "\n",
        "RE = $(ab(Λ + b)+baa)$"
      ],
      "metadata": {
        "id": "srUEziWvsmjB"
      }
    },
    {
      "cell_type": "code",
      "source": [
        "#-------------------------------------------------------------------------------\n",
        "FA['prob5_3'] = (\\\n",
        "  \"$(ab(Λ + b)+baa)$\"\n",
        ", σ('baa') | σ('ab') | σ('abb')\n",
        ", [ [  ' ','a', 'b']\n",
        "  , [ '-1', 2 ,  5 ]\n",
        "  , [  '2', 8 ,  3 ]\n",
        "  , [ '+3', 8 ,  4 ]\n",
        "  , [ '+4', 8 ,  8 ]\n",
        "  , [  '5', 6 ,  8 ]\n",
        "  , [  '6', 7 ,  8 ]\n",
        "  , [ '+7', 8 ,  8 ]\n",
        "  , [  '8', 8 ,  8 ]\n",
        "  ])\n",
        "#-------------------------------------------------------------------------------\n",
        "display_problem('prob5_3')"
      ],
      "metadata": {
        "id": "5Ovr5F-emEED"
      },
      "execution_count": null,
      "outputs": []
    },
    {
      "cell_type": "markdown",
      "source": [
        "## **Problem 5.4:**"
      ],
      "metadata": {
        "id": "IyWbBjIvJle0"
      }
    },
    {
      "cell_type": "markdown",
      "source": [
        "---\n",
        "* (i) Build an FA with the three states that accepts all strings.\n",
        "* (ii) Show that given any FA with three states and three *+*'s, it accepts all input strings.\n",
        "* (iii) If an FA has three states and only one *+*, must it reject some inputs?\n",
        "\n",
        "**Answer 5.4:**\n",
        "- *See below*\n",
        "- follows from the pigeon-hole principle\n",
        "- No."
      ],
      "metadata": {
        "id": "cSNQ4KQzsq3_"
      }
    },
    {
      "cell_type": "code",
      "source": [
        "FA['prob5_4'] = (\\\n",
        "  \"$(a+b)(a+b)(a+b)^{*}$\"\n",
        ", ARBNO(σ('a') | σ('b'))\n",
        ", [ [ ' ' , 'a', 'b']\n",
        "  , ['-+1',  2 ,  2 ]\n",
        "  , [ '+2',  3 ,  3 ]\n",
        "  , [ '+3',  3 ,  3 ]\n",
        "  ])\n",
        "#-------------------------------------------------------------------------------\n",
        "display_problem('prob5_4')"
      ],
      "metadata": {
        "id": "Ps2SwUaQoi_k"
      },
      "execution_count": null,
      "outputs": []
    },
    {
      "cell_type": "markdown",
      "source": [
        "## **Problem 5.5:**"
      ],
      "metadata": {
        "id": "44dMX2vLJlla"
      }
    },
    {
      "cell_type": "markdown",
      "source": [
        "---\n",
        "* (i) Build an FA that accepts only those words that have more that four letters.\n",
        "* (ii) Build an FA that accepts only those words that have fewer than four letters.\n",
        "* (iii) Build an FA that accepts only those words with exactly four letters.\n",
        "\n",
        "**Answer 5.5:**\n",
        "- RE: $\\quad (a+b)^{5}(a+b)^{*}$\n",
        "- RE: $\\quad Λ+a+b+(Λ+a+b+(Λ+a+b)), \\quad (Λ+a+b)^3$\n",
        "- RE: $\\quad (a+b)(a+b)(a+b)(a+b), \\quad (a+b)^4$"
      ],
      "metadata": {
        "id": "MrZ2NFfVsu1S"
      }
    },
    {
      "cell_type": "code",
      "source": [
        "FA['prob5_5_1'] = (\\\n",
        "  \"$(a+b)(a+b)(a+b)(a+b)(a+b)(a+b)^{*}$\"\n",
        ", SPAN(\"ab\") @ \"tx\" + Λ(\"len(tx) > 4\")\n",
        ", [ [  ' ', 'a', 'b']\n",
        "  , [ '-1',  2 ,  2 ]\n",
        "  , [  '2',  3 ,  3 ]\n",
        "  , [  '3',  4 ,  4 ]\n",
        "  , [  '4',  5 ,  5 ]\n",
        "  , [  '5',  6 ,  6 ]\n",
        "  , [ '+6',  6 ,  6 ]\n",
        "  ])\n",
        "#-------------------------------------------------------------------------------\n",
        "display_problem('prob5_5_1')"
      ],
      "metadata": {
        "id": "4HL0eg95ruWy"
      },
      "execution_count": null,
      "outputs": []
    },
    {
      "cell_type": "code",
      "source": [
        "FA['prob5_5_2'] = (\\\n",
        "  \"$(Λ+a+b)(Λ+a+b)(Λ+a+b)$\"\n",
        ", SPAN(\"ab\") @ \"tx\" + Λ(\"len(tx) < 4\")\n",
        ", [ [  ' ', 'a', 'b']\n",
        "  , ['-+1',  2 ,  2 ]\n",
        "  , [ '+2',  3 ,  3 ]\n",
        "  , [ '+3',  4 ,  4 ]\n",
        "  , [ '+4',  5 ,  5 ]\n",
        "  , [  '5',  5 ,  5 ]\n",
        "  ])\n",
        "#-------------------------------------------------------------------------------\n",
        "display_problem('prob5_5_2')"
      ],
      "metadata": {
        "id": "PMFXyWtYRB18"
      },
      "execution_count": null,
      "outputs": []
    },
    {
      "cell_type": "code",
      "source": [
        "FA['prob5_5_3'] = (\\\n",
        "  \"$(a+b)(a+b)(a+b)(a+b)$\"\n",
        ", SPAN(\"ab\") @ \"tx\" + Λ(\"len(tx) == 4\")\n",
        ", [ [  ' ', 'a', 'b']\n",
        "  , [ '-1',  2 ,  2 ]\n",
        "  , [  '2',  3 ,  3 ]\n",
        "  , [  '3',  4 ,  4 ]\n",
        "  , [  '4',  5 ,  5 ]\n",
        "  , [ '+5',  6 ,  6 ]\n",
        "  , [  '6',  6 ,  6 ]\n",
        "  ])\n",
        "#-------------------------------------------------------------------------------\n",
        "display_problem('prob5_5_3')"
      ],
      "metadata": {
        "id": "HZUZ8jbqRCGb"
      },
      "execution_count": null,
      "outputs": []
    },
    {
      "cell_type": "markdown",
      "source": [
        "## **Problem 5.6:**"
      ],
      "metadata": {
        "id": "nD6JRDgVJl0Y"
      }
    },
    {
      "cell_type": "markdown",
      "source": [
        "---\n",
        "Build an FA that accepts only those words that do *not* end with *ba*.\n",
        "\n",
        "**Answer 5.6:**\n",
        "RE: $Λ+a+(a+b)^{*}(b+aa)$"
      ],
      "metadata": {
        "id": "-x2-eE7gsza6"
      }
    },
    {
      "cell_type": "code",
      "source": [
        "FA['prob5_6'] = (\\\n",
        "  \"$Λ+a+(a+b)^{*}(b+aa)$\"\n",
        ", ARBNO(σ('a') + σ('b')) + σ('ba') + RPOS(0) + FAIL()\n",
        ", [ [  ' ' , 'a', 'b']\n",
        "  , ['-+1' ,  1 ,  2 ]\n",
        "  , [ '+2' ,  3 ,  2 ]\n",
        "  , [  '3' ,  1 ,  2 ]])\n",
        "#-------------------------------------------------------------------------------\n",
        "display_problem('prob5_6')"
      ],
      "metadata": {
        "id": "w3oO14d8sDnf"
      },
      "execution_count": null,
      "outputs": []
    },
    {
      "cell_type": "markdown",
      "source": [
        "## **Problem 5.7:**"
      ],
      "metadata": {
        "id": "U15TRzybJl7F"
      }
    },
    {
      "cell_type": "markdown",
      "source": [
        "---\n",
        "Build an FA that accepts only those words that begin or end with a double letter.\n",
        "\n",
        "**Answer 5.7:** RE: $\\quad (aa+bb)(a+b)^{*}+(a+b)^{*}(aa+bb)$"
      ],
      "metadata": {
        "id": "gqrZ9zO2s5q9"
      }
    },
    {
      "cell_type": "code",
      "source": [
        "FA['prob5_7'] = (\\\n",
        "  \"$(aa+bb)(a+b)^{*}+(a+b)^{*}(aa+bb)$\"\n",
        ", ( POS(0) + (σ('aa') | σ('bb')) + ARB()\n",
        "  | (σ('aa') | σ('bb')) + ARB() + RPOS(0)\n",
        "  )\n",
        ", [ [   ' ', 'a', 'b']\n",
        "  , [  '-1',  2 ,  4 ]\n",
        "  , [   '2',  3 ,  6 ]\n",
        "  , [  '+3',  3 ,  3 ]\n",
        "  , [   '4',  7 ,  5 ]\n",
        "  , [  '+5',  5 ,  5 ]\n",
        "  , [   '6',  7 ,  8 ]\n",
        "  , [   '7',  9 ,  6 ]\n",
        "  , [  '+8',  7 ,  8 ]\n",
        "  , [  '+9',  9 ,  7 ]\n",
        "  ])\n",
        "#-------------------------------------------------------------------------------\n",
        "display_problem('prob5_7')"
      ],
      "metadata": {
        "id": "frl8YBPHsHKj"
      },
      "execution_count": null,
      "outputs": []
    },
    {
      "cell_type": "markdown",
      "source": [
        "## **Problem 5.8:**"
      ],
      "metadata": {
        "id": "PKcqkKwxJmC7"
      }
    },
    {
      "cell_type": "markdown",
      "source": [
        "---\n",
        "Build an FA that accepts only those words that have an even number of substrings *ab*.\n",
        "\n",
        "**Answer 5.8: ???**\n",
        "- RE: $\\quad (abab)^{*}$\n",
        "- RE: $\\quad (aa^{*}bb^{*}aa^{*}bb^{*})^{*}$"
      ],
      "metadata": {
        "id": "aKlK1wgQs9t4"
      }
    },
    {
      "cell_type": "code",
      "source": [
        "FA['prob5_8_1'] = (\\\n",
        "  \"$(abab)^{*}$\"\n",
        ", ARBNO(σ('abab'))\n",
        ", [ [  ' ', 'a', 'b']\n",
        "  , [ '-1',  2 ,  6 ]\n",
        "  , [  '2',  6 ,  3 ]\n",
        "  , [  '3',  4 ,  6 ]\n",
        "  , [  '4',  6 ,  5 ]\n",
        "  , [ '+5',  2 ,  6 ]\n",
        "  , [  '6',  6 ,  6 ]])\n",
        "#-------------------------------------------------------------------------------\n",
        "display_problem('prob5_8_1')"
      ],
      "metadata": {
        "id": "1WFI-oX0sMIJ"
      },
      "execution_count": null,
      "outputs": []
    },
    {
      "cell_type": "code",
      "source": [
        "FA['prob5_8_2'] = (\\\n",
        "  \"$(aa^{*}bb^{*}aa^{*}bb^{*})^{*}$\"\n",
        ", ARBNO(\n",
        "    σ('a') + ARBNO(σ('a')) + σ('b') + ARBNO(σ('b'))\n",
        "  + σ('a') + ARBNO(σ('a')) + σ('b') + ARBNO(σ('b'))\n",
        "  )\n",
        ", [ [   ' ', 'a', 'b']\n",
        "  , [ '-+1',  2 ,  1 ]\n",
        "  , [   '2',  2 ,  3 ]\n",
        "  , [   '3',  4 ,  3 ]\n",
        "  , [   '4',  4 ,  1 ]\n",
        "  ])\n",
        "#-------------------------------------------------------------------------------\n",
        "display_problem('prob5_8_2')"
      ],
      "metadata": {
        "id": "qg1esDfVTJSN"
      },
      "execution_count": null,
      "outputs": []
    },
    {
      "cell_type": "markdown",
      "source": [
        "## **Problem 5.9:**"
      ],
      "metadata": {
        "id": "jSqexNdIJmKJ"
      }
    },
    {
      "cell_type": "markdown",
      "source": [
        "---\n",
        "* (i) Recall from Chapter 4 the language of all words over the alphabet {*a b*} that have both the letter *a* and the letter *b* in them, but not necessarily in that order. Build an FA that accepts this language.\n",
        "* (ii) Build an FA that accepts the language of all words with only *a*'s or only *b*'s in them. Give a regular expression for this language.\n",
        "\n",
        "**Answer 5.9:**\n",
        "- (i) RE: $(a+b)^{*}(ab+ba)(a+b)^{*}$ or $\\quad (aa^{*}b+bb^{*}a)(a+b)^{*}$\n",
        "- (ii) RE: $aa^{*}+bb^{*}$"
      ],
      "metadata": {
        "id": "wjkayaJutCcA"
      }
    },
    {
      "cell_type": "code",
      "source": [
        "FA['prob5_9_1'] = (\\\n",
        "  \"$(a+b)^{*}(ab+ba)(a+b)^{*}$\"\n",
        ", ARB() + σ('a') + ARB() + σ('b') + ARB()\n",
        "| ARB() + σ('b') + ARB() + σ('a') + ARB()\n",
        ", [ [  ' ', 'a', 'b']\n",
        "  , [ '-1',  2 ,  3 ]\n",
        "  , [  '2',  2 ,  4 ]\n",
        "  , [  '3',  4 ,  3 ]\n",
        "  , [ '+4',  4 ,  4 ]])\n",
        "#-------------------------------------------------------------------------------\n",
        "display_problem('prob5_9_1')"
      ],
      "metadata": {
        "id": "a0i2R8o-8Fw5"
      },
      "execution_count": null,
      "outputs": []
    },
    {
      "cell_type": "code",
      "source": [
        "FA['prob5_9_2'] = (\\\n",
        "  \"$aa^{*}+bb^{*}$\"\n",
        ", SPAN(\"a\") | SPAN(\"b\")\n",
        ", [ [  ' ', 'a', 'b']\n",
        "  , [ '-1',  2 ,  3 ]\n",
        "  , [ '+2',  2 ,  4 ]\n",
        "  , [ '+3',  4 ,  3 ]\n",
        "  , [  '4',  4 ,  4 ]])\n",
        "#-------------------------------------------------------------------------------\n",
        "display_problem('prob5_9_2')"
      ],
      "metadata": {
        "id": "scUJ4hptTtSD"
      },
      "execution_count": null,
      "outputs": []
    },
    {
      "cell_type": "markdown",
      "source": [
        "## **Problem 5.10:**"
      ],
      "metadata": {
        "id": "I4Ss6kMeJmQ-"
      }
    },
    {
      "cell_type": "markdown",
      "source": [
        "---\n",
        "Consider all the possible FAs over the alphabet { a, b } that have exactly two states. An FA must have a designated start state, but there are four possible ways to place the *+*'s:\n",
        "\n",
        "Type 1: ['-',  '']\n",
        "Type 2: ['-+', '']\n",
        "Type 3: ['-',  '+']\n",
        "Type 4: ['-+', '+']\n",
        "\n",
        "Each FA needs four edges (two from each state), each of which can lead to either of the states. There are $2^{4}=16$ ways to arrange the labeled edges for each of the four types of FAs. Therefore, in total there are 64 different FAs of two states. However, they do not represent 64 non-equivalent FAs because they are not all associated with different languages. All type 1 FAs do not accept any words at all, whereas all FAs of type 4 accepts all strings of *a*'s and *b*'s.\n",
        "\n",
        "* (i) Draw the remaining FAs of type 2.\n",
        "* (ii) Draw the remaining FAs of type 3.\n",
        "* (iii) Recalculate the total number of two-state machines using the transition table definition.\n",
        "\n",
        "**Book answer 5.10:**\n",
        "\n",
        "* (i-ii) *See below*\n",
        "* (iii) Transition tables for a two-state machine has four cells, two rows by two columns. Each may be filled with 1 or 2. So there are $2^4$ possibilities. There are still the same four ways to designate final states. Hence the total number of different transition tables is, surprise, 64, 2^4*4."
      ],
      "metadata": {
        "id": "q3gFQd11tHzi"
      }
    },
    {
      "cell_type": "code",
      "source": [
        "import itertools\n",
        "FA_template = (\\\n",
        "  \"\"\n",
        ", ARB()\n",
        ", [ [ ' ', 'a', 'b']\n",
        "  , [ '1',  0 ,  0 ]\n",
        "  , [ '2',  0 ,  0 ]])\n",
        "#-------------------------------------------------------------------------------\n",
        "for t in range(1,3):\n",
        "    for i, combo in enumerate(itertools.product([1, 2], repeat=4)):\n",
        "        name = f\"prob_10_{i}\"\n",
        "        if t == 1:\n",
        "            FA_template[2][1][0] = '-+1'\n",
        "            FA_template[2][2][0] = '2'\n",
        "        if t == 2:\n",
        "            FA_template[2][1][0] = '-1'\n",
        "            FA_template[2][2][0] = '+2'\n",
        "        FA_template[2][1][1] = combo[0]\n",
        "        FA_template[2][1][2] = combo[1]\n",
        "        FA_template[2][2][1] = combo[2]\n",
        "        FA_template[2][2][2] = combo[3]\n",
        "        FA[name] = FA_template\n",
        "        display_problem(name)"
      ],
      "metadata": {
        "id": "Er_5Gy-ePy_q"
      },
      "execution_count": null,
      "outputs": []
    },
    {
      "cell_type": "markdown",
      "source": [
        "## **Problem 5.11:**"
      ],
      "metadata": {
        "id": "XW6E7jjIJmZE"
      }
    },
    {
      "cell_type": "markdown",
      "source": [
        "---\n",
        "Show that there are exactly 5832 different finite automata with three states *x* *y*, *z* over the alphabet {*a b*}, where *x* is always the start state.\n",
        "\n",
        "**Answer 5.11:** $1*2^3*3^6=5832$"
      ],
      "metadata": {
        "id": "IaF4WuEftMXl"
      }
    },
    {
      "cell_type": "markdown",
      "source": [
        "## **Problem 5.12:**"
      ],
      "metadata": {
        "id": "C-JT_BUwJmgK"
      }
    },
    {
      "cell_type": "markdown",
      "source": [
        "---\n",
        "Suppose a particular FA, called FIN, has the property that it had only one final state that was not the start state. During the night, vandals come and switch the *+* sign with the *-* sign and reverse the direction of all the edges.\n",
        "* (i) Show that the picture that results might not actually be an FA at all by giving an example.\n",
        "* (ii) Suppose, however, that in a particular case what resulted was, in fact, a perfectly good FA. Let us call it NIF. Give an example of one such machine.\n",
        "* (iii) What is the relationship between the language accepted by FIN and the language accepted by NIF as described in part (ii)? Why?\n",
        "* (iv) One of the vandals told me that if in FIN the plus state and the minus state were the same state, then the language accepted by the machine could contain only palindromic words. Defeat this vandal by example.\n",
        "\n",
        "**Answer 5.12:**\n",
        "* (i) Any FA with a state having more than one incoming of the same character is problematic\n",
        "* (ii) Ensuring one of each in and out for each character of every state\n",
        "* (iii) The language accepted by NIF is the reverse of every word in the language accepted by FIN. For every path from one state to another in FIN, the exact reverse path exists in NIF."
      ],
      "metadata": {
        "id": "XLdQM8wAtQeG"
      }
    },
    {
      "cell_type": "code",
      "source": [
        "FA['prob5_12_1'] = (\"\", ARB(), \\\n",
        "  [ [  ' ', 'a', 'b']\n",
        "  , [ '-1',  2 ,  3 ]\n",
        "  , [  '2',  2 ,  3 ]\n",
        "  , [ '+3',  3 ,  3 ]])\n",
        "#-------------------------------------------------------------------------------\n",
        "display_problem('prob5_12_1')"
      ],
      "metadata": {
        "id": "FcDC47LZCrqE"
      },
      "execution_count": null,
      "outputs": []
    },
    {
      "cell_type": "code",
      "source": [
        "FA['prob5_12_2'] = (\"\", ARB(), \\\n",
        "  [ [  ' ', 'a', 'b']\n",
        "  , [ '-1',  2 ,  3 ]\n",
        "  , [  '2',  3 ,  1 ]\n",
        "  , [ '+3',  1 ,  2 ]])\n",
        "#-------------------------------------------------------------------------------\n",
        "display_problem('prob5_12_2')"
      ],
      "metadata": {
        "id": "qC5W_oCnGGTl"
      },
      "execution_count": null,
      "outputs": []
    },
    {
      "cell_type": "code",
      "source": [
        "FA['prob5_12_3'] = (\"\", ARB(), \\\n",
        "  [ [  ' ', 'a', 'b']\n",
        "  , ['-+1',  2 ,  3 ]\n",
        "  , [  '2',  3 ,  1 ]\n",
        "  , [  '3',  1 ,  2 ]])\n",
        "#-------------------------------------------------------------------------------\n",
        "display_problem('prob5_12_3')"
      ],
      "metadata": {
        "id": "5ovflKMSLBE-"
      },
      "execution_count": null,
      "outputs": []
    },
    {
      "cell_type": "markdown",
      "source": [
        "## **Problem 5.13:**"
      ],
      "metadata": {
        "id": "HCxLActoJmnP"
      }
    },
    {
      "cell_type": "markdown",
      "source": [
        "---\n",
        "We define a removable state as a state such that if we erase the state itself and the edges that come out of it, what results is a perfectly good-looking FA.\n",
        "* (i) Give an example of an FA that contains a removable state.\n",
        "* (ii) Show that if we erase a removable state the language defined by the reduced FA is exactly the same as the language defined by the old FA.\n",
        "\n",
        "**Answer 5.13:**\n",
        "\n",
        "* (i) *See below*\n",
        "* (ii) An FA only retains its properties if the state being removed could not actually be reached, that is a state is removable only if there are no edges coming into it. Clearly if the stae is never used it has no bearing on the language that the FA accepts."
      ],
      "metadata": {
        "id": "HQDQauzWtVl5"
      }
    },
    {
      "cell_type": "code",
      "source": [
        "FA['prob5_13_1'] = (\"\", ARB(), \\\n",
        "  [ [  ' ', 'a', 'b']\n",
        "  , [ '-1',  1 ,  1 ]\n",
        "  , [ '+2',  1 ,  2 ]])\n",
        "#-------------------------------------------------------------------------------\n",
        "display_problem('prob5_13_1')"
      ],
      "metadata": {
        "id": "94ZSKZmTLVaZ"
      },
      "execution_count": null,
      "outputs": []
    },
    {
      "cell_type": "markdown",
      "source": [
        "## **Problem 5.14:**"
      ],
      "metadata": {
        "id": "Y7TP_cvkJmu3"
      }
    },
    {
      "cell_type": "markdown",
      "source": [
        "---\n",
        "* (i) Build an FA that accepts the language of all strings of *a*'s and *b*'s such that the next to the last letter is an *a*.\n",
        "* (ii) Build an FA that accepts the language of all strings of length 4 or more such that the next-to-last letter is equal to the second letter of the input string.\n",
        "\n",
        "**Answer 5.14:** *See below*"
      ],
      "metadata": {
        "id": "xhRXcHz7ta4R"
      }
    },
    {
      "cell_type": "code",
      "source": [
        "FA['prob5_14_1'] = (\"\", ARB(), \\\n",
        "  [ [  ' ', 'a', 'b']\n",
        "  , [ '-1',  2 ,  1 ]\n",
        "  , [  '2',  3 ,  4 ]\n",
        "  , [ '+3',  3 ,  4 ]\n",
        "  , [ '+4',  3 ,  1 ]])\n",
        "#-------------------------------------------------------------------------------\n",
        "display_problem('prob5_14_1', verbose=True)"
      ],
      "metadata": {
        "id": "cHL2_MbOsUlo"
      },
      "execution_count": null,
      "outputs": []
    },
    {
      "cell_type": "code",
      "source": [
        "FA['prob5_14_2'] = (\"\", ARB(), \\\n",
        "  [ [  ' ', 'a', 'b']\n",
        "  , [ '-1',  2 ,  2 ]\n",
        "  , [  '2',  3 ,  7 ]\n",
        "  , [  '3',  4 ,  3 ]\n",
        "  , [  '4',  5 ,  6 ]\n",
        "  , [ '+5',  5 ,  6 ]\n",
        "  , [ '+6',  5 ,  3 ]\n",
        "  , [  '7',  7 ,  8 ]\n",
        "  , [  '8', 10 ,  9 ]\n",
        "  , [ '+9', 10 ,  9 ]\n",
        "  , ['+10',  7 ,  9 ]])\n",
        "#-------------------------------------------------------------------------------\n",
        "display_problem('prob5_14_2', verbose=True)"
      ],
      "metadata": {
        "id": "M-YwGxuLSsWw"
      },
      "execution_count": null,
      "outputs": []
    },
    {
      "cell_type": "markdown",
      "source": [
        "## **Problem 5.15:**"
      ],
      "metadata": {
        "id": "c0FgjILrJm1s"
      }
    },
    {
      "cell_type": "markdown",
      "source": [
        "---\n",
        "Build a machine that accepts all strings that have an even length that is not divisible by 6."
      ],
      "metadata": {
        "id": "UrbHCSqotfrF"
      }
    },
    {
      "cell_type": "code",
      "source": [
        "FA['prob5_15'] = (\"\", ARB(), \\\n",
        "  [ [  ' ', 'a', 'b']\n",
        "  , ['-+1',  2 ,  2 ]\n",
        "  , [  '2',  3 ,  3 ]\n",
        "  , [ '+3',  4 ,  4 ]\n",
        "  , [  '4',  5 ,  5 ]\n",
        "  , [ '+5',  6 ,  6 ]\n",
        "  , [  '6',  7 ,  7 ]\n",
        "  , [  '7',  2 ,  2 ]])\n",
        "#-------------------------------------------------------------------------------\n",
        "display_problem('prob5_15')"
      ],
      "metadata": {
        "id": "DM3NVa7_bAzP"
      },
      "execution_count": null,
      "outputs": []
    },
    {
      "cell_type": "markdown",
      "source": [
        "## **Problem 5.16:**"
      ],
      "metadata": {
        "id": "84LuF9RDJm8w"
      }
    },
    {
      "cell_type": "markdown",
      "source": [
        "---\n",
        "Build an FA such that when the labels *a* and *b* are swapped the new machine is different from the old one but equivalent (the language defined by these machines is the same).\n",
        "\n",
        "**Answer 5.16:** *See below*"
      ],
      "metadata": {
        "id": "BonEmMV1tkAK"
      }
    },
    {
      "cell_type": "code",
      "source": [
        "FA['prob5_16'] = (\"\", ARB(), \\\n",
        "  [ [  ' ', 'a', 'b']\n",
        "  , [ '-1',  2 ,  2 ]\n",
        "  , [ '+2',  3 ,  4 ]\n",
        "  , [  '3',  4 ,  3 ]\n",
        "  , [  '4',  3 ,  3 ]])\n",
        "#-------------------------------------------------------------------------------\n",
        "display_problem('prob5_16')"
      ],
      "metadata": {
        "id": "wM3c9wI0Fvbe"
      },
      "execution_count": null,
      "outputs": []
    },
    {
      "cell_type": "markdown",
      "source": [
        "## **Problem 5.17:**"
      ],
      "metadata": {
        "id": "ClLPMlv-JnD3"
      }
    },
    {
      "cell_type": "markdown",
      "source": [
        "---\n",
        "* (i-iii) Describe in English the languages accepted by the following FAs.\n",
        "* (iv) Write regular expressions for the languages accepted by these three machines.\n",
        "\n",
        "**Answer 5.17:**\n",
        "* (i) odd-length sequence ending in *a*\n",
        "* (ii) non-null even-length sequence ending in *a*\n",
        "* (iii) non-null even-length sequence of *xa*\n",
        "* (iv) *See below*"
      ],
      "metadata": {
        "id": "55c0nxCRtn3B"
      }
    },
    {
      "cell_type": "code",
      "source": [
        "FA['prob5_17_1'] = (\"$(aa+ab+ba+bb)^{*}a$\", ARB, \\\n",
        "  [ [  ' ', 'a', 'b']\n",
        "  , [  '1',  2 ,  2 ]\n",
        "  , [ '-2',  3 ,  1 ]\n",
        "  , [ '+3',  2 ,  2 ]])\n",
        "#-------------------------------------------------------------------------------\n",
        "display_problem('prob5_17_1')"
      ],
      "metadata": {
        "id": "zuxqwT8Cj5dF"
      },
      "execution_count": null,
      "outputs": []
    },
    {
      "cell_type": "code",
      "source": [
        "FA['prob5_17_2'] = (\"$(a+b)(aa+ab+ba+bb)a$\", ARB,\n",
        "  [ [  ' ', 'a', 'b']\n",
        "  , [ '-1',  2 ,  2 ]\n",
        "  , [  '2',  3 ,  4 ]\n",
        "  , [ '+3',  2 ,  2 ]\n",
        "  , [  '4',  2 ,  2 ]])\n",
        "#-------------------------------------------------------------------------------\n",
        "display_problem('prob5_17_2')"
      ],
      "metadata": {
        "id": "U_8ShUcNnPWI"
      },
      "execution_count": null,
      "outputs": []
    },
    {
      "cell_type": "code",
      "source": [
        "FA['prob5_17_3'] = (\"$(aa+ba)(aa+ba)^{*}$\", ARB,\n",
        "  [ [  ' ', 'a', 'b']\n",
        "  , [ '-1',  2 ,  2 ]\n",
        "  , [  '2',  3 ,  5 ]\n",
        "  , [ '+3',  4 ,  4 ]\n",
        "  , [  '4',  3 ,  5 ]\n",
        "  , [  '5',  5 ,  5 ]])\n",
        "#-------------------------------------------------------------------------------\n",
        "display_problem('prob5_17_3')"
      ],
      "metadata": {
        "id": "NVhUgBGkpEWk"
      },
      "execution_count": null,
      "outputs": []
    },
    {
      "cell_type": "markdown",
      "source": [
        "## **Problem 5.18:**"
      ],
      "metadata": {
        "id": "LamdorERJnK9"
      }
    },
    {
      "cell_type": "markdown",
      "source": [
        "---\n",
        "The following is an FA over the alphabet $\\Sigma = \\{ a\\, b\\, c \\}$. Prove that it acepts all strings that have an odd number of ocurrences of the substring *abc*.\n",
        "\n",
        "**Answer 5.18:** The machine will stay in states 1, 2, or 3 until *abc* is seen leading to state 4. The machine will stay in states 4, 5, or 6 until another *abc* is seen leading to state 1, and repeat. So no occurence of *abc* seen while in states 1-3, and one occurrence seen while in states 4-6. Due to repitition, this translates to even and odd. All states 4-6 are final states."
      ],
      "metadata": {
        "id": "HIo7L-d4ttvg"
      }
    },
    {
      "cell_type": "code",
      "source": [
        "FA['prob5_18'] = (\"\", ARB,\n",
        "  [ [  ' ', 'a', 'b', 'c']\n",
        "  , [ '-1',  2 ,  1 ,  1 ]\n",
        "  , [  '2',  2 ,  3 ,  1 ]\n",
        "  , [  '3',  2 ,  1 ,  4 ]\n",
        "  , [ '+4',  5 ,  4 ,  4 ]\n",
        "  , [ '+5',  5 ,  6 ,  4 ]\n",
        "  , [ '+6',  5 ,  4 ,  1 ]])\n",
        "#-------------------------------------------------------------------------------\n",
        "display_problem('prob5_18')"
      ],
      "metadata": {
        "id": "imNNBvmAtVPk"
      },
      "execution_count": null,
      "outputs": []
    },
    {
      "cell_type": "markdown",
      "source": [
        "## **Problem 5.19:**"
      ],
      "metadata": {
        "id": "QqoIKGRVJnR6"
      }
    },
    {
      "cell_type": "markdown",
      "source": [
        "---\n",
        "Consider the following FA:\n",
        "* (i) Show that any input string with more than three letters is not accepted by this FA.\n",
        "* (ii) Show that the only words accepted are *a*, *aab*, and *bab*.\n",
        "* (iii) Show that by changing the location of *+* signs, we can make this FA accept the language { *bb* *aba* *bba* }.\n",
        "* (iv) Show that any language in which the words have fewer than four letters can be accepted by a machine that looks like this one with the *+* signs in different places.\n",
        "* (v) Prove that if L is a finite language, then there is some FA that accepts L extending the binary-tree part of this machine several more layers if necessary.\n",
        "\n",
        "**Book answer 5.19:**\n",
        "* (i) This FA starts out like a binary tree. For the first three letters of the input, each time we read a letter we reach some node on the next level. However reading any more letters traps us in the dead end state at the bottom. So no word of more than three letters can be accepted.\n",
        "* (ii) There are exactly three final states in the machine. Concatenation of the labels on the transitions to these states shows that the machine accepts the words *a*, *aab*, and *bab*.\n",
        "* (iii) Eliminate the three existing pluses. Place new pluses in each of the following states, the right-most node on level two, the third node from the left on level three, and the second node from the right also on level three.\n",
        "* (iv) Each of the 15 possible strings with less than four letters is represented by one of the nodes (excluding the dead end state). Note the lexicographic order. Simply mark those nodes that represent the words in the language with plus signs.\n",
        "* (v) Since L is finite, we can determine the longest word and then build a binary tree large enough to accommodate it. Next we add a dead end state with transitions from all the leaves and itself. For every word in L, we place a plus in the appropriate, unique state."
      ],
      "metadata": {
        "id": "x3KMqDRetyOm"
      }
    },
    {
      "cell_type": "code",
      "source": [
        "FA['prob5_19'] = (\"\", ARB,\n",
        "  [ [   ' ', 'a', 'b']\n",
        "  , [  '-1',  2 ,  3 ]\n",
        "  , [   '2',  4 ,  5 ]\n",
        "  , [   '3',  6 ,  7 ]\n",
        "  , [   '4',  8 ,  9 ]\n",
        "  , [   '5', 10 , 11 ]\n",
        "  , [   '6', 12 , 13 ]\n",
        "  , [   '7', 14 , 15 ]\n",
        "  , [   '8', 16 , 16 ]\n",
        "  , [   '9', 16 , 16 ]\n",
        "  , [  '10', 16 , 16 ]\n",
        "  , [  '11', 16 , 16 ]\n",
        "  , [  '12', 16 , 16 ]\n",
        "  , [  '13', 16 , 16 ]\n",
        "  , [  '14', 16 , 16 ]\n",
        "  , [  '15', 16 , 16 ]\n",
        "  , [  '16', 16 , 16 ]])\n",
        "#-------------------------------------------------------------------------------\n",
        "display_problem('prob5_19')"
      ],
      "metadata": {
        "id": "t_Ws-PdJygCm"
      },
      "execution_count": null,
      "outputs": []
    },
    {
      "cell_type": "markdown",
      "source": [
        "## **Problem 5.20:**"
      ],
      "metadata": {
        "id": "fV4oK9NkJnYI"
      }
    },
    {
      "cell_type": "markdown",
      "source": [
        "---\n",
        "Let us consider the possibility of an infinite automaton that starts with this infinite binary tree. Let L be any infinite language of strings of *a*'s and *b*s whatsoever. Show that by the judicious placement of *+*'s, we can turn the picture above into an infinite automaton to accept the language L. Show that for any given finite string, we can determine from this machine, in a finite time, whether it is a word in L. Discuss why this machine would not be a satisfactory language-definer for L.\n",
        "\n",
        "**Book answer 5.20:** Even though the binary tree is infinite, the machine retains the uniqueness property (of the machines described in problem 19) that the path for every string ends in a different state. Surely just by placing the plus signs in the nodes that represent words in L would constitute an infinite automata. However, the machine obviously fails to define the language because no one can write down the infintely large picture."
      ],
      "metadata": {
        "id": "xth-ztekt3eG"
      }
    },
    {
      "cell_type": "markdown",
      "source": [
        "# **Chapter 6: Transition Graphs**"
      ],
      "metadata": {
        "id": "4xTrly0sevX1"
      }
    },
    {
      "cell_type": "markdown",
      "source": [
        "## Functions"
      ],
      "metadata": {
        "id": "LQJG4NY_uY_h"
      }
    },
    {
      "cell_type": "code",
      "source": [
        "import networkx as nx\n",
        "from io import BytesIO\n",
        "from PIL import Image\n",
        "from IPython.display import display\n",
        "from networkx.drawing.nx_agraph import to_agraph\n",
        "def display_TG_problem(name):\n",
        "    data = TG[name]\n",
        "    starts, finals, states = [], set(), set()\n",
        "    for code, trans in data:\n",
        "        sid = code.lstrip('+-')\n",
        "        states.add(sid)\n",
        "        if '-' in code: starts.append(sid)\n",
        "        if '+' in code: finals.add(sid)\n",
        "        for tgt, _ in trans:\n",
        "            states.add(str(tgt))\n",
        "    G = nx.DiGraph()\n",
        "    for sid in states:\n",
        "        if sid in finals:\n",
        "            G.add_node(sid, shape='doublecircle', color='white',\n",
        "                penwidth='2', style='filled', fillcolor='white', fontcolor='black')\n",
        "        else:\n",
        "            G.add_node(sid, shape='circle', color='black',\n",
        "                style='filled', fillcolor='white', fontcolor='black')\n",
        "    edge_labels = {}\n",
        "    for code, trans in data:\n",
        "        src = code.lstrip('+-')\n",
        "        for tgt, lbl in trans:\n",
        "            key = (src, str(tgt))\n",
        "            if key in edge_labels:\n",
        "                edge_labels[key].append(lbl)\n",
        "            else:\n",
        "                edge_labels[key] = [lbl]\n",
        "    for (src, tgt), labels in edge_labels.items():\n",
        "        G.add_edge(src, tgt, label=\", \".join(labels), color='white', fontcolor='white', fontsize='12')\n",
        "    A = to_agraph(G)\n",
        "    A.node_attr.update(style='filled', fillcolor='white', fontcolor='black')\n",
        "    A.graph_attr.update(bgcolor='black', rankdir='LR')\n",
        "    if starts:\n",
        "        anchor = f'__start__{name}'\n",
        "        A.add_node(anchor, label='', shape='none', width=0, height=0)\n",
        "        for s in starts:\n",
        "            A.add_edge(anchor, s, color='white')\n",
        "    img = BytesIO()\n",
        "    A.draw(img, format='png', prog='dot')\n",
        "    img.seek(0)\n",
        "    display(Image.open(img))"
      ],
      "metadata": {
        "id": "88jBxEyf3lSN"
      },
      "execution_count": null,
      "outputs": []
    },
    {
      "cell_type": "markdown",
      "source": [
        "## **Problem 6.1:**"
      ],
      "metadata": {
        "id": "xQZQrPbxex2r"
      }
    },
    {
      "cell_type": "markdown",
      "source": [
        "---\n",
        "For each of the five FAs pictured in Problems 17, 19, and 20 in Chapter 5, build a transition graph that accepts the same language but has fewer states.\n",
        "\n",
        "**Answer 6.1:**"
      ],
      "metadata": {
        "id": "8rL-Oe92ufSU"
      }
    },
    {
      "cell_type": "markdown",
      "source": [
        "## **Problem 6.2:**"
      ],
      "metadata": {
        "id": "yIDq2Gq1fAy4"
      }
    },
    {
      "cell_type": "markdown",
      "source": [
        "---\n",
        "For each of the next 10 words, decide which of the six machines on the next page accept the given word.\n",
        "* (i) Λ\n",
        "* (ii) *a*\n",
        "* (iii) *b*\n",
        "* (iv) *aa*\n",
        "* (v) *ab*\n",
        "* (vi) *aba*\n",
        "* (vii) *abba*\n",
        "* (viii) *bab*\n",
        "* (ix) *baab*\n",
        "* (x) *abbb*\n",
        "\n",
        "**Answer 6.2:**"
      ],
      "metadata": {
        "id": "9phgHjscvVLj"
      }
    },
    {
      "cell_type": "code",
      "source": [
        "TG['prob6_2_1'] = \\\n",
        "  [ [  '-1', [(2, \"a\"), (4, \"ab\"), (4, \"b\")]]\n",
        "  , [   '2', [(2, \"b\"), (3, \"Λ\")]]\n",
        "  , [   '3', [(3, \"b\"), (4, \"a\")]]\n",
        "  , [  '+4', []]\n",
        "  ]\n",
        "#-------------------------------------------------------------------------------\n",
        "TG['prob6_2_2'] = \\\n",
        "  [ [ '-+1', [(2, \"a\"), (3, \"b\")]]\n",
        "  , [   '2', [(2, \"a\"), (3, \"b\")]]\n",
        "  , [  '+3', []]\n",
        "  ]\n",
        "#-------------------------------------------------------------------------------\n",
        "TG['prob6_2_3'] = \\\n",
        "  [ [  '-1', [(1, \"ab\"), (1, \"ba\"), (2, \"aa\"), (2, \"bb\")]]\n",
        "  , [  '+2', [(2, \"ab\"), (2, \"ba\"), (2, \"aa\"), (2, \"bb\")]]\n",
        "  ]\n",
        "#-------------------------------------------------------------------------------\n",
        "TG['prob6_2_4'] = \\\n",
        "  [ [  '-1', [(2, \"a\"), (3, \"b\")]]\n",
        "  , [  '+2', [(1, \"a\"), (2, \"b\")]]\n",
        "  , [  '+3', [(3, \"a\"), (1, \"b\")]]\n",
        "  ]\n",
        "#-------------------------------------------------------------------------------\n",
        "TG['prob6_2_5'] = \\\n",
        "  [ [ '-+1', [(2, \"Λ\"), (5, \"Λ\")]]\n",
        "  , [   '2', [(3, \"a\"), (2, \"b\")]]\n",
        "  , [   '3', [(4, \"a\"), (3, \"b\")]]\n",
        "  , [  '+4', [(4, \"b\")]]\n",
        "  , [   '5', [(5, \"a\"), (6, \"b\")]]\n",
        "  , [   '6', [(6, \"a\"), (7, \"b\")]]\n",
        "  , [  '+7', [(7, \"a\")]]\n",
        "  ]\n",
        "#-------------------------------------------------------------------------------\n",
        "TG['prob6_2_6'] = \\\n",
        "  [ [  '-1', [(2, \"ab\"), (4, \"a\")]]\n",
        "  , [  '+2', [(3, \"bb\")]]\n",
        "  , [  '+3', []]\n",
        "  , [   '4', [(4, \"b\"), (3, \"a\")]]\n",
        "  ]\n",
        "#-------------------------------------------------------------------------------\n",
        "display_TG_problem('prob6_2_1')\n",
        "display_TG_problem('prob6_2_2')\n",
        "display_TG_problem('prob6_2_3')\n",
        "display_TG_problem('prob6_2_4')\n",
        "display_TG_problem('prob6_2_5')\n",
        "display_TG_problem('prob6_2_6')"
      ],
      "metadata": {
        "id": "gtXSX5qQzXEn"
      },
      "execution_count": null,
      "outputs": []
    },
    {
      "cell_type": "markdown",
      "source": [
        "## **Problem 6.3:**"
      ],
      "metadata": {
        "id": "WHTaAlxFfA9k"
      }
    },
    {
      "cell_type": "markdown",
      "source": [
        "---\n",
        "Show that any language that can be accepted by a TG can be accepted by a TG with an even number of states.\n",
        "\n",
        "**Answer 6.3:**"
      ],
      "metadata": {
        "id": "ml_Z21DDvTwe"
      }
    },
    {
      "cell_type": "markdown",
      "source": [
        "## **Problem 6.4:**"
      ],
      "metadata": {
        "id": "S1h2TwfhfBV_"
      }
    },
    {
      "cell_type": "markdown",
      "source": [
        "---\n",
        "How many different TGs are there over the alphabet { *a*, *b* } that have two states?\n",
        "\n",
        "**Answer 6.4:**"
      ],
      "metadata": {
        "id": "GYu7KinDvTYB"
      }
    },
    {
      "cell_type": "markdown",
      "source": [
        "## **Problem 6.5:**"
      ],
      "metadata": {
        "id": "5AD5CMMmfBcE"
      }
    },
    {
      "cell_type": "markdown",
      "source": [
        "---\n",
        "Prove that for every TG there is another TG that accepts the same language but has only one *+* state.\n",
        "\n",
        "**Answer 6.5:**"
      ],
      "metadata": {
        "id": "7_eMbNFPvTBA"
      }
    },
    {
      "cell_type": "markdown",
      "source": [
        "## **Problem 6.6:**"
      ],
      "metadata": {
        "id": "ny0Kcs71fBwL"
      }
    },
    {
      "cell_type": "markdown",
      "source": [
        "---\n",
        "Build a TG that accepts the language $L_1$ of all words that begin and end with the same double letter, either of the form *aa...aa* or *bb...bb*. Note: *aaa* and *bbb* are not words in this language.\n",
        "\n",
        "**Answer 6.6:**"
      ],
      "metadata": {
        "id": "VBTyewkzvSml"
      }
    },
    {
      "cell_type": "markdown",
      "source": [
        "## **Problem 6.7:**"
      ],
      "metadata": {
        "id": "z44MAyQCfB2_"
      }
    },
    {
      "cell_type": "markdown",
      "source": [
        "---\n",
        "If OURSPONSOR is a language that is accepted by a TG called Henry, prove that there is a TG that accepts the language of all strings of *a*'s and *b*'s that end in a word from OURSPONSOR.\n",
        "\n",
        "**Answer 6.7:**"
      ],
      "metadata": {
        "id": "3meXQWxGvSQi"
      }
    },
    {
      "cell_type": "markdown",
      "source": [
        "## **Problem 6.8:**"
      ],
      "metadata": {
        "id": "P9RJ_977fB-O"
      }
    },
    {
      "cell_type": "markdown",
      "source": [
        "---\n",
        "* (i) Suppose that $L$ is a finite language whose words are $w_1, w_2, w_3, ..., w_{83}$. Prove that there is a TG that accepts exactly the language $L$.\n",
        "* (ii) Of all TGs that accept exactly the language $L$, what is the one with the fewest number of states?\n",
        "\n",
        "**Answer 6.8:**"
      ],
      "metadata": {
        "id": "mc7hF4UlvR19"
      }
    },
    {
      "cell_type": "markdown",
      "source": [
        "## **Problem 6.9:**"
      ],
      "metadata": {
        "id": "qTWdyg9nfCEz"
      }
    },
    {
      "cell_type": "markdown",
      "source": [
        "---\n",
        "Given a TG, called $TG_1$, that accepts the language $L_1$ and a TG, called $TG_2$, that accepts the language $L_2$, show how to build a new TG (called $TG_3$) that accepts exactly the language $L_1 + L_2$.\n",
        "\n",
        "**Answer 6.9:**"
      ],
      "metadata": {
        "id": "uafzppfdvRad"
      }
    },
    {
      "cell_type": "markdown",
      "source": [
        "## **Problem 6.10:**"
      ],
      "metadata": {
        "id": "ngy_futPfCLg"
      }
    },
    {
      "cell_type": "markdown",
      "source": [
        "---\n",
        "Given $TG_1$ and $TG_2$ as described in Problem 6.9, show how to build $TG_4$ that accepts exactly the language $L_1L_2.$\n",
        "\n",
        "**Answer 6.10:**"
      ],
      "metadata": {
        "id": "2-FfGTnavQzY"
      }
    },
    {
      "cell_type": "markdown",
      "source": [
        "## **Problem 6.11:**"
      ],
      "metadata": {
        "id": "vDaQhBobfCbv"
      }
    },
    {
      "cell_type": "markdown",
      "source": [
        "---\n",
        "Given a TG for some arbitrary language $L$, what language would it accept if every *+* state were to be connected back to every *-* state by Λ-edges? For example, by the following method:\n",
        "\n",
        "*Hint*: Why is the answer not always $L^{*}$.\n",
        "\n",
        "**Answer 6.11:**"
      ],
      "metadata": {
        "id": "lgBZYSkbvtc1"
      }
    },
    {
      "cell_type": "code",
      "source": [
        "TG['prob6_11_1'] = \\\n",
        "  [ [  '-1', [(2, \"a\"), (3, \"bb\")]]\n",
        "  , [   '2', [(2, \"ba\"), (3, \"a\"), (4, \"b\")]]\n",
        "  , [  '+3', [(4, \"ab\")]]\n",
        "  , [  '+4', [(4, \"a\")]]\n",
        "  ]\n",
        "#-------------------------------------------------------------------------------\n",
        "TG['prob6_11_2'] = \\\n",
        "  [ [  '-1', [(2, \"a\"), (3, \"bb\")]]\n",
        "  , [   '2', [(2, \"ba\"), (3, \"a\"), (4, \"b\")]]\n",
        "  , [  '+3', [(4, \"ab\"), (1, \"Λ\")]]\n",
        "  , [  '+4', [(4, \"a\"), (1, \"Λ\")]]\n",
        "  ]\n",
        "#-------------------------------------------------------------------------------\n",
        "display_TG_problem('prob6_11_1')\n",
        "display_TG_problem('prob6_11_2')"
      ],
      "metadata": {
        "id": "StsFzwxP6X4C"
      },
      "execution_count": null,
      "outputs": []
    },
    {
      "cell_type": "markdown",
      "source": [
        "## **Problem 6.12:**"
      ],
      "metadata": {
        "id": "ESfs2BQOfCkO"
      }
    },
    {
      "cell_type": "markdown",
      "source": [
        "---\n",
        "* (i) Let the language $L$ be accepted by the transition graph $T$ and let $L$ not contain the word $Λ$. Show how to build a new TG that accepts exactly all the words in $L$ and the word $Λ$.\n",
        "* (ii) Given $TG_1$, that accepts the language $L_1$, show how to build a TG that accepts the language $L^{*}$. *Hint*: Use Problem 11 and 12(i) and sound authoritative.\n",
        "\n",
        "**Answer 6.12:**"
      ],
      "metadata": {
        "id": "265IVkf3vOjP"
      }
    },
    {
      "cell_type": "markdown",
      "source": [
        "## **Problem 6.13:**"
      ],
      "metadata": {
        "id": "ue3xALYgfCsk"
      }
    },
    {
      "cell_type": "markdown",
      "source": [
        "---\n",
        "Using the results of Problems 8, 9, 10, and 12 in an organized fashion, prove that if $L$ is any language that can be defined by a regular expression, then there is a $TG$ that accepts exactly that language $L^{*}$.\n",
        "\n",
        "**Answer 6.13:**"
      ],
      "metadata": {
        "id": "JEdQGrH7vOO5"
      }
    },
    {
      "cell_type": "markdown",
      "source": [
        "## **Problem 6.14:**"
      ],
      "metadata": {
        "id": "5PxVv9F-fCz5"
      }
    },
    {
      "cell_type": "markdown",
      "source": [
        "---\n",
        "Verify that there are indeed three and only three ways for the $TG$ on p. 84 to accept the word *abbbabbbabba*.\n",
        "\n",
        "**Answer 6.14:**"
      ],
      "metadata": {
        "id": "xcOGCJFxvN4g"
      }
    },
    {
      "cell_type": "markdown",
      "source": [
        "## **Problem 6.15:**"
      ],
      "metadata": {
        "id": "FDJB2wwufC7G"
      }
    },
    {
      "cell_type": "markdown",
      "source": [
        "---\n",
        "An FA with four states was sitting unguarded one night when vandals came and stole an edge labeled *a*. What resulted was a TG that accepted exactly the language $b^{*}$. In the morning the FA was repaired, but the next night vandals stole an edge labeled *b* and what resulted was a TG that accepted $a^{*}$. The FA was again repaired, but this time the vandals stole two edges, one labeled *a* and one labeled *b*, and the resulting TG accepted the language $a^{*}+b^{*}$. What was the original FA?\n",
        "\n",
        "**Answer 6.15:**"
      ],
      "metadata": {
        "id": "YTYGzOk0vNh0"
      }
    },
    {
      "cell_type": "markdown",
      "source": [
        "## **Problem 6.16:**"
      ],
      "metadata": {
        "id": "AmRCPJ1ufXAb"
      }
    },
    {
      "cell_type": "markdown",
      "source": [
        "---\n",
        "Let the language $L$ be accepted by the transition graph $T$ and let $L$ not contain the word *ba*. We want to build a new TG that accepts exactly $L$ and the word *ba*.\n",
        "* (i) One suggestion is to draw an edge from *-* to *+* and label it *ba*. Show that this does not work.\n",
        "* (ii) Another suggestion is to draw a new *+* state and draw an edge from any *-* state to it labeled *ba*. Show that this does not always work.\n",
        "* (iii) What does work?\n",
        "\n",
        "**Answer 6.16:**"
      ],
      "metadata": {
        "id": "kZNvS5bHvNJR"
      }
    },
    {
      "cell_type": "markdown",
      "source": [
        "## **Problem 6.17:**"
      ],
      "metadata": {
        "id": "ATU5ml--fXIA"
      }
    },
    {
      "cell_type": "markdown",
      "source": [
        "---\n",
        "Let $L$ be any language. Let us define the **transpose** of $L$ to be the language of exactly those words in $L$ spelled backward. If $w \\in L$, then $reverse(w) \\in L$. For example, if $$L= \\{ a\\, abb\\, bbaab\\, bbbaa\\}$$ then $$transpose(L)=\\{ a\\, bba\\, baabb\\, aabbb\\}$$\n",
        "\n",
        "* (i) Prove that there is an FA that accepts $L$, then there is a TG that accepts the transpose of $L$.\n",
        "* (ii) Prove that if there is a TG that accepts $L$, then there is a TG that accepts the transpose of $L$. *Note*: It is true, but much harder to prove, that if an FA accepts $L$, then some FA accepts the transpose of $L$. However, after Chapter 7 this will be trivial to prove.\n",
        "* (iii) Prove that transpose($L_1L_2$) = (transpose($L_1$))(transpose($L_2)$).\n",
        "\n",
        "**Answer 6.17:**"
      ],
      "metadata": {
        "id": "fyQaOOAyvMvu"
      }
    },
    {
      "cell_type": "markdown",
      "source": [
        "## **Problem 6.18:**"
      ],
      "metadata": {
        "id": "GrQUNfBsfXP_"
      }
    },
    {
      "cell_type": "markdown",
      "source": [
        "---\n",
        "Transition graph $T$ accepts langauge $L$. Show that if $L$ has a word of odd length, then $T$ has an edge with a label with an odd number of letters.\n",
        "\n",
        "**Answer 6.18:**"
      ],
      "metadata": {
        "id": "npmPzc3svMXu"
      }
    },
    {
      "cell_type": "markdown",
      "source": [
        "## **Problem 6.19:**"
      ],
      "metadata": {
        "id": "3cvYrZP-fXX9"
      }
    },
    {
      "cell_type": "markdown",
      "source": [
        "---\n",
        "A student walks into a classroom and sees on the blackboard a diagram of a TG with two states that accepts only the word Λ. The student reverses the direction of exactly one edge, leaving all other edges and all labels and all *+*'s and *-*'s the same. But now the new TG accepts the language $a^{*}$. What was the original machine?\n",
        "\n",
        "**Answer 6.19:**"
      ],
      "metadata": {
        "id": "sTSPqQ6evL8P"
      }
    },
    {
      "cell_type": "markdown",
      "source": [
        "## **Problem 6.20:**"
      ],
      "metadata": {
        "id": "DS1Rq3yhfXgr"
      }
    },
    {
      "cell_type": "markdown",
      "source": [
        "---\n",
        "Let us now consider an algorithm for determining whether a specific TG that has no Λ-edges accepts a given word:\n",
        "* Step 1: Number each edge in the TG in any order with the integers $1,2,3,...,x$, where *x* is the number of edges in the TG.\n",
        "* Step 2: Observe that if the word has *y* letters and is accepted at all by this machine, it can be accepted by tracing a path of not more than *y* edges.\n",
        "* Step 3: List all strings of *y* or fewer integers, each of which $\\leq x$. This is a finite list.\n",
        "* Step 4: Check each string on the list in step 3 by concatenating the labels of the edges involved to see whether they make a path from *-* to *+* corresponding to the given word.\n",
        "* Step 5: If there is a string in step 4 that works, the word is accepted. If none work, the word is not in the language of the machine.\n",
        "\n",
        "Challenges/Questions:\n",
        "* (i) Prove that this algorithm does the job.\n",
        "* (ii) Why is it necessary to assume that the TG has no Λ-edges?\n",
        "\n",
        "**Answer 6.20:**"
      ],
      "metadata": {
        "id": "MjhQ0VYMvJhO"
      }
    },
    {
      "cell_type": "markdown",
      "source": [
        "# **Chapter 7: Kleene's Theorem**"
      ],
      "metadata": {
        "id": "y08QTHAae1of"
      }
    },
    {
      "cell_type": "markdown",
      "source": [
        "## **Problem 7.1**"
      ],
      "metadata": {
        "id": "SWd6X13tfQ7w"
      }
    },
    {
      "cell_type": "markdown",
      "source": [
        "---\n",
        "Using the bypass algorithm in the proof of Theorem 6, Part 2, convert each of the following TGs into regular expressions:\n",
        "\n",
        "(i-vi) *See below*\n",
        "\n",
        "**Answer 7.1**"
      ],
      "metadata": {
        "id": "uH1wV_WQxjmY"
      }
    },
    {
      "cell_type": "code",
      "source": [
        "TG['prob7_1_1'] = \\\n",
        "  [ [  '-1', [(1, \"a\"), (1, \"b\"), (2, \"Λ\")]]\n",
        "  , [   '2', [(3, \"b\")]]\n",
        "  , [  '+3', []]\n",
        "  ]\n",
        "#-------------------------------------------------------------------------------\n",
        "TG['prob7_1_2'] = \\\n",
        "  [ [  '-1', [(2, \"ab\"), (4, \"bb\")]]\n",
        "  , [   '2', [(3, \"a\")]]\n",
        "  , [  '+3', [(3, \"a\"), (3, \"b\")]]\n",
        "  , [   '4', [(3, \"a\")]]\n",
        "  ]\n",
        "#-------------------------------------------------------------------------------\n",
        "TG['prob7_1_3'] = \\\n",
        "  [ [  '-1', [(1, \"a\"), (1, \"b\"), (2, \"a\"), (3, \"b\"), (4, \"ab\")]]\n",
        "  , [  '+2', []]\n",
        "  , [  '+3', []]\n",
        "  , [   '4', [(1, \"ab\")]]\n",
        "  ]\n",
        "#-------------------------------------------------------------------------------\n",
        "TG['prob7_1_4'] = \\\n",
        "  [ [ '-+1', [(1, \"a\"), (1, \"b\"), (2, \"baa\")]]\n",
        "  , [  '+2', [(2, \"a\"), (2, \"b\"), (1, \"abb\")]]\n",
        "  ]\n",
        "#-------------------------------------------------------------------------------\n",
        "TG['prob7_1_5'] = \\\n",
        "  [ [  '-1', [(1, \"a\"), (2, \"ab\"), (4, \"abb\"), (5, \"bb\")]]\n",
        "  , [   '2', [(3, \"ba\")]]\n",
        "  , [   '3', [(4, \"Λ\")]]\n",
        "  , [  '+4', [(4, \"a\"), (4, \"b\")]]\n",
        "  , [   '5', [(4, \"Λ\")]]\n",
        "  ]\n",
        "#-------------------------------------------------------------------------------\n",
        "TG['prob7_1_6'] = \\\n",
        "  [ [  '-1', [(2, \"ab\")]]\n",
        "  , [   '2', [(2, \"a\"), (3, \"ba\"), (4, \"ab\")]]\n",
        "  , [   '3', [(1, \"a\")]]\n",
        "  , [  '+4', [(5, \"bb\")]]\n",
        "  , [   '5', [(1, \"b\")]]\n",
        "  ]\n",
        "#-------------------------------------------------------------------------------\n",
        "display_TG_problem('prob7_1_1')\n",
        "display_TG_problem('prob7_1_2')\n",
        "display_TG_problem('prob7_1_3')\n",
        "display_TG_problem('prob7_1_4')\n",
        "display_TG_problem('prob7_1_5')\n",
        "display_TG_problem('prob7_1_6')"
      ],
      "metadata": {
        "id": "Pj1d6yTjgSp4"
      },
      "execution_count": null,
      "outputs": []
    },
    {
      "cell_type": "markdown",
      "source": [
        "## **Problem 7.2**"
      ],
      "metadata": {
        "id": "hrcj0bcjfana"
      }
    },
    {
      "cell_type": "markdown",
      "source": [
        "---\n",
        "In Chapter 5, Problem 10, we began the discussion of all possible FAs with two states. Write a regular expression for each machine of type 2 and type 3 by using the conversion algorithm described in the proof of Theorem 6, Part 2. Even though there is no algorithm for recognizing the languages, try to identify as many as possible in the attempt to discover how many different languages can be accepted by a two-state FA.\n",
        "\n",
        "**Answer 7.2**"
      ],
      "metadata": {
        "id": "uy0uZMaUxhRV"
      }
    },
    {
      "cell_type": "markdown",
      "source": [
        "## **For problems 3 through 12**,\n",
        "\n",
        "use the following machines:"
      ],
      "metadata": {
        "id": "sIe35HImpGnq"
      }
    },
    {
      "cell_type": "code",
      "source": [
        "#-------------------------------------------------------------------------------\n",
        "FA['FA71'] = (\"\", ARB(), \\\n",
        "  [ [  ' ', 'a', 'b']\n",
        "  , [ '-1',  2 ,  1]\n",
        "  , [ '+2',  2 ,  1]\n",
        "  ])\n",
        "#-------------------------------------------------------------------------------\n",
        "FA['FA72'] = (\"\", ARB(), \\\n",
        "  [ [  ' ', 'a', 'b']\n",
        "  , [ '-1',  2 ,  1]\n",
        "  , [  '2',  2 ,  3]\n",
        "  , [ '+3',  3 ,  3]\n",
        "  ])\n",
        "#-------------------------------------------------------------------------------\n",
        "FA['FA73'] = (\"\", ARB(), \\\n",
        "  [ [  ' ', 'a', 'b']\n",
        "  , [ '-1',  2 ,  3]\n",
        "  , [  '2',  4 ,  3]\n",
        "  , [  '3',  2 ,  4]\n",
        "  , [ '+4',  4 ,  4]\n",
        "  ])\n",
        "#-------------------------------------------------------------------------------\n",
        "FA['FA74'] = (\"\", ARB(), \\\n",
        "  [ [  ' ', 'a', 'b']\n",
        "  , ['-+1',  2 ,  1]\n",
        "  , [  '2',  2 ,  2]\n",
        "  ])\n",
        "#-------------------------------------------------------------------------------\n",
        "display_problem('FA71', False)\n",
        "display_problem('FA72', False)\n",
        "display_problem('FA73', False)\n",
        "display_problem('FA74', False)"
      ],
      "metadata": {
        "id": "dh2_G-uCpVNv"
      },
      "execution_count": null,
      "outputs": []
    },
    {
      "cell_type": "markdown",
      "source": [
        "## **Problem 7.3**"
      ],
      "metadata": {
        "id": "LDaaSd24fa9C"
      }
    },
    {
      "cell_type": "markdown",
      "source": [
        "---\n",
        "Using the algorithm of Kleene's theorem, Part 3, Rule 2, Proof 1, construct FAs for the following union languages:\n",
        "\n",
        "* (i) $FA_1+FA_2$\n",
        "* (ii) $FA_1+FA_3$\n",
        "* (iii) $FA_2+FA_3$\n",
        "\n",
        "**Answer 7.3**"
      ],
      "metadata": {
        "id": "Qo-h_7zaxcUE"
      }
    },
    {
      "cell_type": "markdown",
      "source": [
        "## **Problem 7.4**"
      ],
      "metadata": {
        "id": "TCQEaI8FfbLA"
      }
    },
    {
      "cell_type": "markdown",
      "source": [
        "---\n",
        "Using the algorithm of Kleene's theorem, Part 3, Rule 2, Proof 2, construct NFAs for the following languages:\n",
        "\n",
        "* (i) $FA_1+FA_2$\n",
        "* (ii) $FA_1+FA_3$\n",
        "* (iii) $FA_2+FA_3$\n",
        "\n",
        "**Answer 7.4**"
      ],
      "metadata": {
        "id": "Li2fYIzmxcAG"
      }
    },
    {
      "cell_type": "markdown",
      "source": [
        "## **Problem 7.5**"
      ],
      "metadata": {
        "id": "iO7I1BlGfbVX"
      }
    },
    {
      "cell_type": "markdown",
      "source": [
        "---\n",
        "Using the algorithm of Theorem 6, Part3, Rule 3, construct FAs for the following product languages:\n",
        "\n",
        "* (i) $FA_1FA_2$\n",
        "* (ii) $FA_1FA_3$\n",
        "* (iii) $FA_1FA_1$\n",
        "* (iv) $FA_2FA_1$\n",
        "* (v) $FA_2FA_2$\n",
        "\n",
        "**Answer 7.5**"
      ],
      "metadata": {
        "id": "zJwbBuivxbqw"
      }
    },
    {
      "cell_type": "markdown",
      "source": [
        "## **Problem 7.6**"
      ],
      "metadata": {
        "id": "C85ibh7sfbhj"
      }
    },
    {
      "cell_type": "markdown",
      "source": [
        "---\n",
        "Using the algorithm of Part 3, Rule 4, construct FAs for the following languages:\n",
        "\n",
        "* (i) $(FA_1)^{*}$\n",
        "* (ii) $(FA_2)^{*}$\n",
        "\n",
        "**Answer 7.6**"
      ],
      "metadata": {
        "id": "9UZxL2DLxbVM"
      }
    },
    {
      "cell_type": "markdown",
      "source": [
        "## **Problem 7.7**"
      ],
      "metadata": {
        "id": "0c17iBSwfbrZ"
      }
    },
    {
      "cell_type": "markdown",
      "source": [
        "---\n",
        "We are now interested in proving Part 3, Rule 3, of Kleene's theorem by NFAs. The basic theory is that when we reach any *+* state in $FA_1$, we could continue to $FA_1$ by following its *a*-edge and *b*-edge, or we could pretend that we have jumped to $FA_2$ by following the *a*-edge and *b*-edge coming out of the start state on $FA_2$.\n",
        "\n",
        "We do not change any states or edges in either machine; we merely add some new (nondeterministic) edges from *+* states in $FA_1$, to the destination states of $FA_2$'s start state. Finally, we erase the *+*'s from $FA_1$ and the *-* sign from $FA_2$, and we have the desired NFA.\n",
        "\n",
        "Let us illustrate this by multiplying $FA_1$ and $FA_2$ above. Find NFAs for the following product languages:\n",
        "\n",
        "* (i) $FA_1FA_1$\n",
        "* (ii) $FA_1FA_3$\n",
        "* (iii) $FA_2FA_2$\n",
        "\n",
        "**Answer 7.7**"
      ],
      "metadata": {
        "id": "xEjFyyAzxaxx"
      }
    },
    {
      "cell_type": "code",
      "source": [
        "TG['prob7_7'] = \\\n",
        "  [ [  '-1', [(1, \"b\"), (2, \"a\")]]\n",
        "  , [   '2', [(2, \"a\"), (3, \"b\"), (4, \"a\")]]\n",
        "  , [   '3', [(3, \"b\"), (4, \"a\")]]\n",
        "  , [   '4', [(4, \"a\"), (5, \"b\")]]\n",
        "  , [  '+5', [(5, \"a\"), (5, \"b\")]]\n",
        "  ]\n",
        "#-------------------------------------------------------------------------------\n",
        "display_TG_problem('prob7_7')"
      ],
      "metadata": {
        "id": "3hHw-KA9yERH"
      },
      "execution_count": null,
      "outputs": []
    },
    {
      "cell_type": "markdown",
      "source": [
        "## **Problem 7.8**"
      ],
      "metadata": {
        "id": "J3p-IQj0fb1V"
      }
    },
    {
      "cell_type": "markdown",
      "source": [
        "---\n",
        "Take the three NFAs in Problem 7 above and convert them into FAs by the algorithm of Theorem 7.\n",
        "\n",
        "**Answer 7.8**"
      ],
      "metadata": {
        "id": "Ye295fgaxXwd"
      }
    },
    {
      "cell_type": "markdown",
      "source": [
        "## **Problem 7.9**"
      ],
      "metadata": {
        "id": "LOzNasm2fb90"
      }
    },
    {
      "cell_type": "markdown",
      "source": [
        "---\n",
        "We can use NFAs to prove Theorem 6, Part 3, Rule 4, as well. The idea is to allow a nondeterministic jump from any *+* state to the states reachable from the *-* state by *a*-edges and *b* edges.\n",
        "\n",
        "* (i)  Provide the details for this proof by constructive algorithm.\n",
        "* (ii) Draw the resultant NFA for $(FA_1)^{*}$.\n",
        "* (iii) Draw the resultant NFA for $(FA_2)^{*}$.\n",
        "* (iv) Draw the resultant NFA for $(FA_3)^{*}$.\n",
        "\n",
        "**Answer 7.9**"
      ],
      "metadata": {
        "id": "KfvroKOKxXbD"
      }
    },
    {
      "cell_type": "markdown",
      "source": [
        "## **Problem 7.10**"
      ],
      "metadata": {
        "id": "K9D3ERtEfcGA"
      }
    },
    {
      "cell_type": "markdown",
      "source": [
        "---\n",
        "Convert the machines in Problem 9(ii) and (iii) above to FAs by the algorithm in the proof of Theorem 7.\n",
        "\n",
        "**Answer 7.10**"
      ],
      "metadata": {
        "id": "3nOQMsNAxXGz"
      }
    },
    {
      "cell_type": "markdown",
      "source": [
        "## **Problem 7.11**"
      ],
      "metadata": {
        "id": "cQDEjXNVfcO-"
      }
    },
    {
      "cell_type": "markdown",
      "source": [
        "---\n",
        "Find FAs for the following languages:\n",
        "\n",
        "* (i) $FA_4FA_4$\n",
        "* (ii) $(FA_4)^{*}$\n",
        "\n",
        "**Answer 7.11**"
      ],
      "metadata": {
        "id": "E0bN9zD5xWxh"
      }
    },
    {
      "cell_type": "markdown",
      "source": [
        "## **Problem 7.12**"
      ],
      "metadata": {
        "id": "s_tDKrWMfcXH"
      }
    },
    {
      "cell_type": "markdown",
      "source": [
        "---\n",
        "* (i) Is the machine for $FA_1FA_1$ (Problem 5) the same as the machine for $(FA_1)^{*}$ (Problem 6)? Are the languages the same?\n",
        "* (ii) Is the machine for $FA_4FA_4$ the same as the machine for $(FA_4)^{*}$ (Problem 11)? Are the languages the same?\n",
        "\n",
        "**Answer 7.12**"
      ],
      "metadata": {
        "id": "xTxBK0WdxWa8"
      }
    },
    {
      "cell_type": "markdown",
      "source": [
        "## **Problem 7.13**"
      ],
      "metadata": {
        "id": "MzrZyiU3fcfV"
      }
    },
    {
      "cell_type": "markdown",
      "source": [
        "---\n",
        "* (i) For the examples derived earlier, which algorithmic method produces product machines with fewer states, the direct (Problem 5) or the NFA (Problem 8)?\n",
        "* (ii) If some automaton, $FA_1$, has *n* states and some other automaton, $FA_2$ has *m* states, what are the maximum number of states possible in each of the machines corresponding to $FA_1+FA_2,FA_1FA_2,(FA_1)^{*}$ that are produced.\n",
        "  - (a) By the subset method described in the proof of Kleen's theorem.\n",
        "  - (b) By building NFAs and then converting them into FAs.\n",
        "\n",
        "**Answer 7.13**"
      ],
      "metadata": {
        "id": "hB9jwRTqxV_a"
      }
    },
    {
      "cell_type": "markdown",
      "source": [
        "## **Problem 7.14**"
      ],
      "metadata": {
        "id": "Rkwwk5erfcng"
      }
    },
    {
      "cell_type": "markdown",
      "source": [
        "---\n",
        "Convert each of the following NFAs into FAs using the constructive algorithm presented in Proof 2 of Theorem 7.\n",
        "\n",
        "**Answer 7.14**"
      ],
      "metadata": {
        "id": "azYSjNQnxVgX"
      }
    },
    {
      "cell_type": "code",
      "source": [
        "TG['prob7_14_1'] = \\\n",
        "  [ [ '-+1', [(1, \"a\"), (1, \"b\"), (2, \"b\")]]\n",
        "  , [   '2', []]\n",
        "  ]\n",
        "#-------------------------------------------------------------------------------\n",
        "display_TG_problem('prob7_14_1')"
      ],
      "metadata": {
        "id": "YYUkDi_a3d7x"
      },
      "execution_count": null,
      "outputs": []
    },
    {
      "cell_type": "code",
      "source": [
        "TG['prob7_14_2'] = \\\n",
        "  [ [  '-1', [(2, \"a\"), (3, \"a\")]]\n",
        "  , [   '2', [(3, \"b\")]]\n",
        "  , [  '+3', []]\n",
        "  ]\n",
        "#-------------------------------------------------------------------------------\n",
        "display_TG_problem('prob7_14_2')"
      ],
      "metadata": {
        "id": "vEcgU8Kr6Bfl"
      },
      "execution_count": null,
      "outputs": []
    },
    {
      "cell_type": "code",
      "source": [
        "TG['prob7_14_3'] = \\\n",
        "  [ [  '-1', [(2, \"a\"), (2, \"b\")]]\n",
        "  , [   '2', [(3, \"a\")]]\n",
        "  , [  '+3', [(2, \"a\"), (2, \"b\")]]\n",
        "  ]\n",
        "#-------------------------------------------------------------------------------\n",
        "display_TG_problem('prob7_14_3')"
      ],
      "metadata": {
        "id": "ln8CYP-k6Nko"
      },
      "execution_count": null,
      "outputs": []
    },
    {
      "cell_type": "code",
      "source": [
        "TG['prob7_14_4'] = \\\n",
        "  [ [  '-1', [(1, \"a\"), (2, \"b\"), (3, \"b\")]]\n",
        "  , [   '2', [(3, \"b\")]]\n",
        "  , [  '+3', [(3, \"a\")]]\n",
        "  ]\n",
        "#-------------------------------------------------------------------------------\n",
        "display_TG_problem('prob7_14_4')"
      ],
      "metadata": {
        "id": "6bPoyQzr6OJw"
      },
      "execution_count": null,
      "outputs": []
    },
    {
      "cell_type": "code",
      "source": [
        "TG['prob7_14_5'] = \\\n",
        "  [ [  '-1', [(2, \"a\"), (3, \"b\")]]\n",
        "  , [  '+2', [(1, \"a\")]]\n",
        "  , [   '3', [(2, \"b\")]]\n",
        "  ]\n",
        "#-------------------------------------------------------------------------------\n",
        "display_TG_problem('prob7_14_5')"
      ],
      "metadata": {
        "id": "q0hH_ds26OfE"
      },
      "execution_count": null,
      "outputs": []
    },
    {
      "cell_type": "code",
      "source": [
        "TG['prob7_14_6'] = \\\n",
        "  [ [  '-1', [(2, \"a\")]]\n",
        "  , [   '2', [(2, \"a\"), (2, \"b\"), (3, \"b\")]]\n",
        "  , [  '+3', []]\n",
        "  ]\n",
        "#-------------------------------------------------------------------------------\n",
        "display_TG_problem('prob7_14_6')"
      ],
      "metadata": {
        "id": "1VRwUpHR6Ozt"
      },
      "execution_count": null,
      "outputs": []
    },
    {
      "cell_type": "code",
      "source": [
        "TG['prob7_14_7'] = \\\n",
        "  [ [  '-1', [(2, \"a\")]]\n",
        "  , [   '2', [(2, \"a\"), (2, \"b\"), (3, \"b\")]]\n",
        "  , [  '+3', [(4, \"b\")]]\n",
        "  , [  '+4', []]\n",
        "  ]\n",
        "#-------------------------------------------------------------------------------\n",
        "display_TG_problem('prob7_14_7')"
      ],
      "metadata": {
        "id": "iKlzZs5v6PIM"
      },
      "execution_count": null,
      "outputs": []
    },
    {
      "cell_type": "code",
      "source": [
        "TG['prob7_14_8'] = \\\n",
        "  [ [  '-1', [(2, \"a\")]]\n",
        "  , [   '2', [(2, \"a\"), (2, \"b\"), (3, \"b\")]]\n",
        "  , [   '3', [(4, \"b\")]]\n",
        "  , [  '+4', []]\n",
        "  ]\n",
        "#-------------------------------------------------------------------------------\n",
        "display_TG_problem('prob7_14_8')"
      ],
      "metadata": {
        "id": "m1iDZ_bw6Pa4"
      },
      "execution_count": null,
      "outputs": []
    },
    {
      "cell_type": "code",
      "source": [
        "TG['prob7_14_9'] = \\\n",
        "  [ [  '-1', [(1, \"a\"), (1, \"b\"), (2, \"a\"), (3, \"a\")]]\n",
        "  , [  '+2', []]\n",
        "  , [   '3', [(2, \"a\"), (2, \"b\")]]\n",
        "  ]\n",
        "#-------------------------------------------------------------------------------\n",
        "display_TG_problem('prob7_14_9')"
      ],
      "metadata": {
        "id": "uiZSxfOm6Ps-"
      },
      "execution_count": null,
      "outputs": []
    },
    {
      "cell_type": "code",
      "source": [
        "TG['prob7_14_10'] = \\\n",
        "  [ [  '-1', [(2, \"a\"), (3, \"a\")]]\n",
        "  , [   '2', [(3, \"b\"), (4, \"a\")]]\n",
        "  , [   '3', [(4, \"a\")]]\n",
        "  , [  '+4', [(1, \"b\")]]\n",
        "  ]\n",
        "#-------------------------------------------------------------------------------\n",
        "display_TG_problem('prob7_14_10')"
      ],
      "metadata": {
        "id": "hxyN1O_66QEi"
      },
      "execution_count": null,
      "outputs": []
    },
    {
      "cell_type": "markdown",
      "source": [
        "## **For Problems 15 through 17**\n",
        "\n",
        "let us now introduce a machine called **a nondeterministic finite automata with null string labels,** abbreviated NFA_Λ. This machine follows the same rules as an NFA except that we are allowed to have edges labeled $Λ$."
      ],
      "metadata": {
        "id": "FHDPwNRLPS0M"
      }
    },
    {
      "cell_type": "markdown",
      "source": [
        "## **Problem 7.15**"
      ],
      "metadata": {
        "id": "LgQ8oxVVfcv-"
      }
    },
    {
      "cell_type": "markdown",
      "source": [
        "---\n",
        "Show that it possible to use a technique analagous to that used in Proof 2 of Theorem 7 to constructively convert an NFA_Λ into an FA by explicitly giving the steps of the conversion process.\n",
        "\n",
        "**Answer 7.15**"
      ],
      "metadata": {
        "id": "b6Gf_mZixOrz"
      }
    },
    {
      "cell_type": "markdown",
      "source": [
        "## **Problem 7.16**"
      ],
      "metadata": {
        "id": "y769weuOfc3s"
      }
    },
    {
      "cell_type": "markdown",
      "source": [
        "---\n",
        "Convert the following NFA_Λ's into FAs using the algorithm invented in Problem 15:\n",
        "\n",
        "* (i-iii) *See below*\n",
        "\n",
        "**Answer 7.16**"
      ],
      "metadata": {
        "id": "TIPjJsbfxOaU"
      }
    },
    {
      "cell_type": "code",
      "source": [
        "TG['prob7_16_1'] = \\\n",
        "  [ [  '-1', [(2, \"a\"), (4, \"Λ\"), (4, \"b\")]]\n",
        "  , [   '2', [(3, \"Λ\"), (5, \"a\")]]\n",
        "  , [  '+3', []]\n",
        "  , [  '-4', [(2, \"a\"), (5, \"b\")]]\n",
        "  , [   '5', [(3, \"a\"), (5, \"a\")]]\n",
        "  ]\n",
        "#-------------------------------------------------------------------------------\n",
        "display_TG_problem('prob7_16_1')"
      ],
      "metadata": {
        "id": "FWk0OUEjQpr6"
      },
      "execution_count": null,
      "outputs": []
    },
    {
      "cell_type": "code",
      "source": [
        "TG['prob7_16_2'] = \\\n",
        "  [ [  '-1', [(2, \"Λ\"), (3, \"Λ\")]]\n",
        "  , [   '2', [(2, \"a\"), (3, \"a\"), (4, \"Λ\")]]\n",
        "  , [   '3', [(2, \"Λ\"), (4, \"a\")]]\n",
        "  , [  '+4', []]\n",
        "  ]\n",
        "#-------------------------------------------------------------------------------\n",
        "display_TG_problem('prob7_16_2')"
      ],
      "metadata": {
        "id": "B5GuSpuzRQaq"
      },
      "execution_count": null,
      "outputs": []
    },
    {
      "cell_type": "code",
      "source": [
        "TG['prob7_16_3'] = \\\n",
        "  [ [  '-1', [(2, \"a\"), (3, \"Λ\")]]\n",
        "  , [   '2', [(2, \"Λ\"), (3, \"b\")]]\n",
        "  , [   '3', [(3, \"a\"), (4, \"a\")]]\n",
        "  , [  '+4', [(1, \"b\"), (4, \"b\")]]\n",
        "  ]\n",
        "#-------------------------------------------------------------------------------\n",
        "display_TG_problem('prob7_16_3')"
      ],
      "metadata": {
        "id": "fv_aV7zIRXFI"
      },
      "execution_count": null,
      "outputs": []
    },
    {
      "cell_type": "markdown",
      "source": [
        "## **Problem 7.17**"
      ],
      "metadata": {
        "id": "S2gJjtUufc_s"
      }
    },
    {
      "cell_type": "markdown",
      "source": [
        "---\n",
        "Using the result in Problem 15, find a third proof of Part 3 of Keene's theorem:\n",
        "\n",
        "* (i) Rule 2\n",
        "* (ii) Rule 3\n",
        "* (iii) Rule 4\n",
        "\n",
        "**Answer 7.17**"
      ],
      "metadata": {
        "id": "XWZ_VyFmxNZy"
      }
    },
    {
      "cell_type": "markdown",
      "source": [
        "## **Problem 7.18**"
      ],
      "metadata": {
        "id": "buvS3WJJfdII"
      }
    },
    {
      "cell_type": "markdown",
      "source": [
        "---\n",
        "* (i) Find two different machines $FA_1$ and $FA_2$ such that the languages accepted by $FA_1+FA_2$ and $FA_1FA_2$ are the same, yet the machines generated by the algorithm in the proof of Theorem 6 are different.\n",
        "* (ii) Find two different machines $FA_1$ and $FA_2$ such that the algorithm in the proof of Theorem 6 creates the same machine for $(FA_1)^{*}$ and $(FA_2)^{*}$.\n",
        "\n",
        "**Answer 7.18**"
      ],
      "metadata": {
        "id": "xVSuwMKnxND8"
      }
    },
    {
      "cell_type": "markdown",
      "source": [
        "## **Problem 7.19**"
      ],
      "metadata": {
        "id": "6P5s2o7zfdQO"
      }
    },
    {
      "cell_type": "markdown",
      "source": [
        "---\n",
        "For the language accepted by the following machine, find a different FA with four states. Find an NFA that accepts the same language and has only seven edges (where edges with two labels are counted twice).\n",
        "\n",
        "**Answer 7.19**"
      ],
      "metadata": {
        "id": "rf-BQmbXxMrV"
      }
    },
    {
      "cell_type": "code",
      "source": [
        "TG['prob7_19'] = \\\n",
        "  [ [  '-1', [(1, \"b\"), (2, \"a\")]]\n",
        "  , [   '2', [(3, \"a\"), (1, \"b\")]]\n",
        "  , [   '3', [(4, \"a\"), (5, \"b\")]]\n",
        "  , [   '4', [(4, \"a\"), (5, \"b\")]]\n",
        "  , [  '+5', [(4, \"a\"), (5, \"b\")]]\n",
        "  ]\n",
        "#-------------------------------------------------------------------------------\n",
        "display_TG_problem('prob7_19')"
      ],
      "metadata": {
        "id": "OvKDHYKFVClE"
      },
      "execution_count": null,
      "outputs": []
    },
    {
      "cell_type": "markdown",
      "source": [
        "## **Problem 7.20**"
      ],
      "metadata": {
        "id": "14Y8ernsfdYM"
      }
    },
    {
      "cell_type": "markdown",
      "source": [
        "---\n",
        "A one-person game can be converted into an NFA as follows. Let every possible board situation be a state. If any move (there may be several types of moves, but we are not interested in distinguishing them) can change from state *x* into some state *y*, then draw an edge from *x* to *y* and label it *m*. Label the initial position *-* and the winning positions *+*. \"This game can be won in five moves\" is the same as saying, \"$m^5$ is accepted by this NFA.\" Once we have the NFA, we use the alogorithm of Chapter 7 to convert it into a regular expression. The language it represents tells us how many moves are in each winning sequence.\n",
        "\n",
        "Let us do this with the following example. The game of Flips is played with three coins. Initially, they are all heads. A move consists of flipping two coins simultaneously from what ever they were to the opposite side. For example, flipping the end coins changes THH into HTT. We win when all three coins are tails. There a eight possible states: HHH, HHT,...,TTT. The only *-* is HHH. The only *+* is TTT. Draw this NFA, labeling any edge that can flip between states with the letter *m*.\n",
        "\n",
        "Convert this NFA into a regular expression. Is $m^3$ or $m^5$ in the language of this machine? The shortest word in this language is the shortest solution of this puzzle. What is it?\n",
        "\n",
        "**Answer 7.20**"
      ],
      "metadata": {
        "id": "I0aVYDBOxJ3h"
      }
    },
    {
      "cell_type": "markdown",
      "source": [
        "# **Chapter 8: Finite Automata with Output**"
      ],
      "metadata": {
        "id": "YnkuxriPdPwz"
      }
    },
    {
      "cell_type": "markdown",
      "source": [
        "## **Functions**"
      ],
      "metadata": {
        "id": "hSjV_uSa37L9"
      }
    },
    {
      "cell_type": "code",
      "source": [
        "def display_moore(name):\n",
        "    moore = Moore[name]\n",
        "    header = moore[0]\n",
        "    states = moore[1:]\n",
        "    inputs = header[:-1]\n",
        "    dot = graphviz.Digraph(name, format='png')\n",
        "    dot.attr(rankdir='LR', labelloc='t')\n",
        "    dot.attr('node', shape='circle')\n",
        "    for i, state in enumerate(states):\n",
        "        dot.node(str(i), label=f'<q<SUB>{i}</SUB>/{state[len(header) - 1]}>')\n",
        "    edge_labels = {}\n",
        "    for i, state in enumerate(states):\n",
        "        for j, letter in enumerate(inputs):\n",
        "            key = (i, state[j])\n",
        "            if key not in edge_labels:\n",
        "                edge_labels[key] = []\n",
        "            edge_labels[key].append(letter)\n",
        "    for (src, dst), letters in edge_labels.items():\n",
        "        dot.edge(str(src), str(dst), label=\",\".join(letters))\n",
        "    display(dot)"
      ],
      "metadata": {
        "id": "bcaIbQiYDCDx"
      },
      "execution_count": null,
      "outputs": []
    },
    {
      "cell_type": "code",
      "source": [
        "def display_mealy_collapsed(name):\n",
        "    mealy = Mealy[name]\n",
        "    header = mealy[0]\n",
        "    states = mealy[1:]\n",
        "    inputs = [header[i] for i in range(0, len(header), 2)]\n",
        "    dot = graphviz.Digraph(name, format='png')\n",
        "    dot.attr(rankdir='LR', labelloc='t')\n",
        "    dot.attr('node', shape='circle')\n",
        "    for i in range(len(states)):\n",
        "        dot.node(str(i), label=f'<q<SUB>{i}</SUB>>')\n",
        "    edge_labels = {}\n",
        "    for i, state in enumerate(states):\n",
        "        for j, letter in enumerate(inputs):\n",
        "            key = (i, state[2*j])\n",
        "            if key not in edge_labels:\n",
        "                edge_labels[key] = []\n",
        "            edge_labels[key].append(f\"{letter}/{state[2*j + 1]}\")\n",
        "    for (src, dst), labels in edge_labels.items():\n",
        "        dot.edge(str(src), str(dst), label=\",\".join(labels))\n",
        "    display(dot)"
      ],
      "metadata": {
        "id": "eLZ9BpQEUjCX"
      },
      "execution_count": null,
      "outputs": []
    },
    {
      "cell_type": "code",
      "source": [
        "def display_mealy(name):\n",
        "    mealy = Mealy[name]\n",
        "    header = mealy[0]\n",
        "    states = mealy[1:]\n",
        "    inputs = [header[i] for i in range(0, len(header), 2)]\n",
        "    dot = graphviz.Digraph(name, format='png')\n",
        "    dot.attr(rankdir='LR', labelloc='t')\n",
        "    dot.attr('node', shape='circle')\n",
        "    for i in range(len(states)):\n",
        "        dot.node(str(i), label=f'<q<SUB>{i}</SUB>>')\n",
        "    for i, state in enumerate(states):\n",
        "        for j, letter in enumerate(inputs):\n",
        "            dot.edge(str(i), str(state[2*j]), label=f\"{letter}/{state[2*j + 1]}\")\n",
        "    display(dot)"
      ],
      "metadata": {
        "id": "CMvy_3nYbx91"
      },
      "execution_count": null,
      "outputs": []
    },
    {
      "cell_type": "markdown",
      "source": [
        "## **Problem 8.1:**"
      ],
      "metadata": {
        "id": "1JMk-PCW3_2M"
      }
    },
    {
      "cell_type": "markdown",
      "source": [
        "---\n",
        "Each of the following is a Moore machine with alphabet Σ = $\\{ a\\, b \\}$ and output alphabet Γ = $\\{ 0\\, 1\\}$. Given the transition and output tables, draw the machines.\n",
        "\n",
        "**Answer 8.1:** *See below*"
      ],
      "metadata": {
        "id": "fZqyyuMX4Y8N"
      }
    },
    {
      "cell_type": "code",
      "source": [
        "#-------------------------------------------------------------------------------\n",
        "Moore['prob8_1_1'] = (\\\n",
        "  [ ['a', 'b', 'Output']\n",
        "  , [ 1 ,  2 ,  1 ] # 0\n",
        "  , [ 1 ,  1 ,  0 ] # 1\n",
        "  , [ 1 ,  0 ,  1 ] # 2\n",
        "])\n",
        "#-------------------------------------------------------------------------------\n",
        "Moore['prob8_1_2'] = (\\\n",
        "  [ ['a', 'b', 'Output']\n",
        "  , [ 0 ,  2 ,  0 ] # 0\n",
        "  , [ 1 ,  0 ,  1 ] # 1\n",
        "  , [ 2 ,  1 ,  1 ] # 2\n",
        "])\n",
        "#-------------------------------------------------------------------------------\n",
        "Moore['prob8_1_3'] = (\\\n",
        "  [ ['a', 'b', 'Output']\n",
        "  , [ 0 ,  1 ,  1 ] # 0\n",
        "  , [ 0 ,  2 ,  0 ] # 1\n",
        "  , [ 2 ,  2 ,  1 ] # 2\n",
        "  , [ 1 ,  1 ,  0 ] # 3\n",
        "])\n",
        "#-------------------------------------------------------------------------------\n",
        "Moore['prob8_1_4'] = (\\\n",
        "  [ ['a', 'b', 'Output']\n",
        "  , [ 3 ,  2 ,  0 ] # 0\n",
        "  , [ 1 ,  0 ,  0 ] # 1\n",
        "  , [ 2 ,  3 ,  1 ] # 2\n",
        "  , [ 0 ,  1 ,  0 ] # 3\n",
        "])\n",
        "#-------------------------------------------------------------------------------\n",
        "Moore['prob8_1_5'] = (\\\n",
        "  [ ['a', 'b', 'Output']\n",
        "  , [ 1 ,  2 ,  0 ] # 0\n",
        "  , [ 2 ,  3 ,  0 ] # 1\n",
        "  , [ 3 ,  4 ,  1 ] # 2\n",
        "  , [ 4 ,  4 ,  0 ] # 3\n",
        "  , [ 0 ,  0 ,  0 ] # 4\n",
        "])\n",
        "#-------------------------------------------------------------------------------\n",
        "display_moore('prob8_1_1')\n",
        "display_moore('prob8_1_2')\n",
        "display_moore('prob8_1_3')\n",
        "display_moore('prob8_1_4')\n",
        "display_moore('prob8_1_5')"
      ],
      "metadata": {
        "id": "zA3xcRIb9Qy4"
      },
      "execution_count": null,
      "outputs": []
    },
    {
      "cell_type": "markdown",
      "source": [
        "## **Problem 8.2:**"
      ],
      "metadata": {
        "id": "x30Oh-vz4tZG"
      }
    },
    {
      "cell_type": "markdown",
      "source": [
        "---\n",
        "* (i) Based on the table representation for Moore machines, how many different *Mo*'s are there with four states?\n",
        "* (ii) How many different Moore machines are there with *n* states?\n",
        "\n",
        "**Answer 8.2:**"
      ],
      "metadata": {
        "id": "TkSYzzYC4tZG"
      }
    },
    {
      "cell_type": "markdown",
      "source": [
        "## **Problem 8.3:**"
      ],
      "metadata": {
        "id": "nvBgvn154vEV"
      }
    },
    {
      "cell_type": "markdown",
      "source": [
        "---\n",
        "For each of the following Moore machines, construct the transition and output tables:\n",
        "\n",
        "**Answer 8.3:**"
      ],
      "metadata": {
        "id": "i_7ZtEtN4vEV"
      }
    },
    {
      "cell_type": "code",
      "source": [
        "#-------------------------------------------------------------------------------\n",
        "Moore['prob8_3_1'] = (\\\n",
        "  [ ['a', 'b', 'Output']\n",
        "  , [ 0 ,  1 ,  0 ] # 0\n",
        "  , [ 1 ,  1 ,  1 ] # 1\n",
        "])\n",
        "#-------------------------------------------------------------------------------\n",
        "Moore['prob8_3_2'] = (\\\n",
        "  [ ['a', 'b', 'Output']\n",
        "  , [ 1 ,  1 ,  0 ] # 0\n",
        "  , [ 0 ,  0 ,  1 ] # 1\n",
        "])\n",
        "#-------------------------------------------------------------------------------\n",
        "Moore['prob8_3_3'] = (\\\n",
        "  [ ['a', 'b', 'Output']\n",
        "  , [ 1 ,  2 ,  0 ] # 0\n",
        "  , [ 1 ,  1 ,  1 ] # 1\n",
        "  , [ 1 ,  0 ,  0 ] # 2\n",
        "])\n",
        "#-------------------------------------------------------------------------------\n",
        "Moore['prob8_3_4'] = (\\\n",
        "  [ ['a', 'b', 'Output']\n",
        "  , [ 1 ,  1 ,  1 ] # 0\n",
        "  , [ 2 ,  2 ,  0 ] # 1\n",
        "  , [ 2 ,  2 ,  1 ] # 2\n",
        "])\n",
        "#-------------------------------------------------------------------------------\n",
        "Moore['prob8_3_5'] = (\\\n",
        "  [ ['a', 'b', 'Output']\n",
        "  , [ 2 ,  3 ,  1 ] # 0\n",
        "  , [ 3 ,  2 ,  0 ] # 1\n",
        "  , [ 1 ,  2 ,  1 ] # 2\n",
        "  , [ 2 ,  1 ,  1 ] # 3\n",
        "])\n",
        "#-------------------------------------------------------------------------------\n",
        "display_moore('prob8_3_1')\n",
        "display_moore('prob8_3_2')\n",
        "display_moore('prob8_3_3')\n",
        "display_moore('prob8_3_4')\n",
        "display_moore('prob8_3_5')"
      ],
      "metadata": {
        "id": "JOcZ8GJ1ABs-"
      },
      "execution_count": null,
      "outputs": []
    },
    {
      "cell_type": "markdown",
      "source": [
        "## **Problem 8.4:**"
      ],
      "metadata": {
        "id": "BLa_3Br14vUy"
      }
    },
    {
      "cell_type": "markdown",
      "source": [
        "---\n",
        "On each of the Moore machines in Problems 1 and 3, run the input sequence *aabab*. What are their respective outputs?\n",
        "\n",
        "**Answer 8.4:**"
      ],
      "metadata": {
        "id": "IMkM7is24vUy"
      }
    },
    {
      "cell_type": "markdown",
      "source": [
        "## **Problem 8.5:**"
      ],
      "metadata": {
        "id": "XsRXYixa4vhw"
      }
    },
    {
      "cell_type": "markdown",
      "source": [
        "---\n",
        "Suppose we define a Less machine to be a Moore machine that does not automatically print the character of the start state. The first character it prints is the character of the second state it enters. From then on, for every state it enters it prints a character, even when it reenters the start state. In this way, the input strings get to have some say in what the first character printed is going to be. Show that these Less machines are equivalent to Mealy machines in the direct sense, that is, for every Less machine there is a Mealy machine that has the same output for every input string.\n",
        "\n",
        "**Answer 8.5:**"
      ],
      "metadata": {
        "id": "yW3PzeRN4vhx"
      }
    },
    {
      "cell_type": "markdown",
      "source": [
        "## **Problem 8.6:**"
      ],
      "metadata": {
        "id": "6N3RovQ04wTv"
      }
    },
    {
      "cell_type": "markdown",
      "source": [
        "---\n",
        "Mealy machines can also be defined by transition tables. The rows and columns are both labeled with the names of the states. The entry in the table is the label of the edge (or edges) going from the row state to the column state (if there is no such edge, this entry is blank).\n",
        "\n",
        "Construct the transition table for each of the four Mealy machines shown below:\n",
        "\n",
        "**Answer 8.6:**"
      ],
      "metadata": {
        "id": "805MSMqH4wTw"
      }
    },
    {
      "cell_type": "code",
      "source": [
        "#-------------------------------------------------------------------------------\n",
        "Mealy['prob8_6_1'] = (\\\n",
        "  [ ['a', '_', 'b', '_']\n",
        "  , [ 0 ,  0 ,  1 ,  1 ] # 0\n",
        "  , [ 0 ,  1 ,  1 ,  0 ] # 1\n",
        "])\n",
        "#-------------------------------------------------------------------------------\n",
        "Mealy['prob8_6_2'] = (\\\n",
        "  [ ['a', '_', 'b', '_']\n",
        "  , [ 2 ,  0 ,  1 ,  1 ] # 0\n",
        "  , [ 0 ,  0 ,  2 ,  0 ] # 1\n",
        "  , [ 0 ,  1 ,  2 ,  1 ] # 2\n",
        "])\n",
        "#-------------------------------------------------------------------------------\n",
        "Mealy['prob8_6_3'] = (\\\n",
        "  [ ['a', '_', 'b', '_']\n",
        "  , [ 1 ,  0 ,  1 ,  0 ] # 0\n",
        "  , [ 1 ,  0 ,  1 ,  1 ] # 1\n",
        "])\n",
        "#-------------------------------------------------------------------------------\n",
        "Mealy['prob8_6_4'] = (\\\n",
        "  [ ['a', '_', 'b', '_']\n",
        "  , [ 0 ,  0 ,  1 ,  1 ] # 0\n",
        "  , [ 1 ,  1 ,  2 ,  0 ] # 1\n",
        "  , [ 2 ,  0 ,  0 ,  1 ] # 2\n",
        "])\n",
        "#-------------------------------------------------------------------------------\n",
        "display_mealy('prob8_6_1')\n",
        "display_mealy('prob8_6_2')\n",
        "display_mealy('prob8_6_3')\n",
        "display_mealy('prob8_6_4')"
      ],
      "metadata": {
        "id": "UPfLHlIvRu2o"
      },
      "execution_count": null,
      "outputs": []
    },
    {
      "cell_type": "markdown",
      "source": [
        "## **Problem 8.7:**"
      ],
      "metadata": {
        "id": "URpb6niq4waU"
      }
    },
    {
      "cell_type": "markdown",
      "source": [
        "---\n",
        "The example of the increment machine on p. 154 used three states to perform its job. Show that two states are all that is needed.\n",
        "\n",
        "**Answer 8.7:**"
      ],
      "metadata": {
        "id": "N143n4Uy4waU"
      }
    },
    {
      "cell_type": "markdown",
      "source": [
        "## **Problem 8.8:**"
      ],
      "metadata": {
        "id": "_GXQq7pC4wg6"
      }
    },
    {
      "cell_type": "markdown",
      "source": [
        "---\n",
        "Convert the Moore machines in Problem 3 into Mealy machines.\n",
        "\n",
        "**Answer 8.8:**"
      ],
      "metadata": {
        "id": "QSWwsswr4wg8"
      }
    },
    {
      "cell_type": "markdown",
      "source": [
        "## **Problem 8.9:**"
      ],
      "metadata": {
        "id": "BrRTcU5_4wnX"
      }
    },
    {
      "cell_type": "markdown",
      "source": [
        "---\n",
        "Convert the Mealy machines in Problem 6 into Moore machines.\n",
        "\n",
        "**Answer 8.9:**"
      ],
      "metadata": {
        "id": "mIKncaCF4wnY"
      }
    },
    {
      "cell_type": "markdown",
      "source": [
        "## **Problem 8.10:**"
      ],
      "metadata": {
        "id": "jRnfeDHe4wtm"
      }
    },
    {
      "cell_type": "markdown",
      "source": [
        "---\n",
        "Draw a Mealy machine equivalent to the following sequential circuit:\n",
        "\n",
        "**Answer 8.10:**"
      ],
      "metadata": {
        "id": "DGAPkzi24wtn"
      }
    },
    {
      "cell_type": "markdown",
      "source": [
        "## **Problem 8.11:**"
      ],
      "metadata": {
        "id": "xqsoJt4v4w0U"
      }
    },
    {
      "cell_type": "markdown",
      "source": [
        "---\n",
        "Construct a Mealy machine that produces an output string of solid 1's no matter what the input string is.\n",
        "\n",
        "**Answer 8.11:**"
      ],
      "metadata": {
        "id": "flzzrsnA4w0V"
      }
    },
    {
      "cell_type": "markdown",
      "source": [
        "## **Problem 8.12:**"
      ],
      "metadata": {
        "id": "5A4QDP4Q4w7R"
      }
    },
    {
      "cell_type": "markdown",
      "source": [
        "---\n",
        "* (i) Design a machine to perform a parity check on the input string; that is, the output string ends in 1 if the total number of 1-bits in the input string is odd and 0 if the total number of 1-bits in the input string is even (the front part of the output string is ignored).\n",
        "* (ii) In your answer to (i), did you choose a Mealy or Moore machine and why was that the right choice?\n",
        "\n",
        "**Answer 8.12:**"
      ],
      "metadata": {
        "id": "_zJkhVQ14w7S"
      }
    },
    {
      "cell_type": "markdown",
      "source": [
        "## **Problem 8.13:**"
      ],
      "metadata": {
        "id": "x4sfAWrU4xBv"
      }
    },
    {
      "cell_type": "markdown",
      "source": [
        "---\n",
        "Given a bit string of length *n*, the shift-left-cyclic operation places the first bit at the end, leaving the rest of the bits unchanged. For example, SLC (100110) = 001101.\n",
        "\n",
        "* (i) Build a Mealy machine with input and output alphabet \\{ 0 1 \\$ \\} such that for any bit string *x* when we input the $n+1$ bits *x\\$*, we get as output the $n+1$ bit string \\$$SLC(x)$.\n",
        "* (ii) Explain why this cannot be done without a \\$.\n",
        "\n",
        "**Answer 8.13:**"
      ],
      "metadata": {
        "id": "mHEClifN4xBv"
      }
    },
    {
      "cell_type": "markdown",
      "source": [
        "## **For Problems 14 through 16**"
      ],
      "metadata": {
        "id": "mCQ_rZ9Kg61H"
      }
    },
    {
      "cell_type": "markdown",
      "source": [
        "---\n",
        "Let $(Me)^2$ mean that given a Mealy machine, an input string is processed and then the output string is immediately fed into the machine (as input) and reprocessed. Only this second resultant output is considered the final output of $(Me)^2$. If the final output string is the same as the original input string, we say that $(Me)^2$ has an identity property. Symbolically, we write $(Me)^2$ = identity."
      ],
      "metadata": {
        "id": "RjfWaMSUs9WC"
      }
    },
    {
      "cell_type": "markdown",
      "source": [
        "## **Problem 8.14:**"
      ],
      "metadata": {
        "id": "pkX2dAyq4xIF"
      }
    },
    {
      "cell_type": "markdown",
      "source": [
        "---\n",
        "Let $Me_1$ be the identity Mealy machine pictured below. Let $Me_2$ be the 1's compliment Mealy machine pictured below. Prove that both $(Me_1)^2$ and $(Me_2)^2$ have the identity property that the result of processing any bit string is the original string again.\n",
        "\n",
        "**Answer 8.14:**"
      ],
      "metadata": {
        "id": "ZMXARF2f4xIG"
      }
    },
    {
      "cell_type": "code",
      "source": [
        "#-------------------------------------------------------------------------------\n",
        "Mealy['prob8_14_1'] = (\\\n",
        "  [ ['0', '_', '1', '_']\n",
        "  , [ 0 ,  0 ,  0 ,  1 ] # 0\n",
        "])\n",
        "#-------------------------------------------------------------------------------\n",
        "Mealy['prob8_14_2'] = (\\\n",
        "  [ ['0', '_', '1', '_']\n",
        "  , [ 0 ,  1 ,  0 ,  0 ] # 0\n",
        "])\n",
        "#-------------------------------------------------------------------------------\n",
        "display_mealy('prob8_14_1')\n",
        "display_mealy('prob8_14_2')"
      ],
      "metadata": {
        "id": "EpuIPO8yiciU"
      },
      "execution_count": null,
      "outputs": []
    },
    {
      "cell_type": "markdown",
      "source": [
        "## **Problem 8.15:**"
      ],
      "metadata": {
        "id": "0SlXDej_4xOk"
      }
    },
    {
      "cell_type": "markdown",
      "source": [
        "---\n",
        "Show that the following machine also has this identity property:\n",
        "\n",
        "**Answer 8.15:**"
      ],
      "metadata": {
        "id": "kbMC582I4xOl"
      }
    },
    {
      "cell_type": "code",
      "source": [
        "#-------------------------------------------------------------------------------\n",
        "Mealy['prob8_15'] = (\\\n",
        "  [ ['0', '_', '1', '_']\n",
        "  , [ 1 ,  1 ,  1 ,  0 ] # 0\n",
        "  , [ 1 ,  0 ,  1 ,  1 ] # 1\n",
        "])\n",
        "#-------------------------------------------------------------------------------\n",
        "display_mealy('prob8_15')"
      ],
      "metadata": {
        "id": "0D0B91hJkc9j"
      },
      "execution_count": null,
      "outputs": []
    },
    {
      "cell_type": "markdown",
      "source": [
        "## **Problem 8.16:**"
      ],
      "metadata": {
        "id": "v8xLEVDi4xVO"
      }
    },
    {
      "cell_type": "markdown",
      "source": [
        "---\n",
        "Find yet another Mealy machine with this property.\n",
        "\n",
        "**Answer 8.16:**"
      ],
      "metadata": {
        "id": "YJLKT8UM4xVO"
      }
    },
    {
      "cell_type": "markdown",
      "source": [
        "## **For Problems 17 and 18**"
      ],
      "metadata": {
        "id": "eR7NlrNvlAeh"
      }
    },
    {
      "cell_type": "markdown",
      "source": [
        "---\n",
        "Similarly, given two Mealy machines, let $(Me_1)(Me_2)$ mean that an input string is processed on $Me_1$ and then the output string is immediately fed into $Me_2$ (as input) and reprocessed. Only this second resultant output is considered the final output of $(Me_1)(Me_2)$. If the final output string is the same as the original input string, we say that $(Me_1)(Me_2)$ has an identity property. Symbolically, we write $(Me_1)(Me_2)$ = identity.\n",
        "\n",
        "Given two specific machines such that $(Me_1)(Me_2)$ reproduces the original bit string, we aim to prove (in the following two problems) that $(Me_1)(Me_2)$ must necessarily also have this property."
      ],
      "metadata": {
        "id": "Pbr3p5GItGXP"
      }
    },
    {
      "cell_type": "markdown",
      "source": [
        "## **Problem 8.17:**"
      ],
      "metadata": {
        "id": "AZPiaQAg4xbg"
      }
    },
    {
      "cell_type": "markdown",
      "source": [
        "---\n",
        "Show that the $2^n$ possible *n*-bit strings when fed into $Me_1$ give $2^n$ different outputs.\n",
        "\n",
        "**Answer 8.17:**"
      ],
      "metadata": {
        "id": "amoOr_984xbg"
      }
    },
    {
      "cell_type": "markdown",
      "source": [
        "## **Problem 8.18:**"
      ],
      "metadata": {
        "id": "EOtzGcrY4xiI"
      }
    },
    {
      "cell_type": "markdown",
      "source": [
        "---\n",
        "Take the equality $(Me_1)(Me_2)$ = identity. Multiply both sides by $Me_1$ to get $(Me_1)(Me_2)(Me_1)=$ identity $(Me_1) = (Me_1)$. This means that $(Me_2)(Me_1)$ takes all outputs from $Me_1$ and leaves them unchanged. Show that this observation completes the proof.\n",
        "\n",
        "**Answer 8.18:**"
      ],
      "metadata": {
        "id": "HMvZvJ0R4xiI"
      }
    },
    {
      "cell_type": "markdown",
      "source": [
        "## **Problem 8.19:**"
      ],
      "metadata": {
        "id": "pKoeK3lc4xoc"
      }
    },
    {
      "cell_type": "markdown",
      "source": [
        "---\n",
        "You are given these two Mealy machines pictured below. Notice that they are indeed different and show that each is the inverse machine of the other, that means that $(Me_1)(Me_2)=$ identity $=(Me_2)(Me_1)$.\n",
        "\n",
        "**Answer 8.19:**"
      ],
      "metadata": {
        "id": "EwlZsMED4xoc"
      }
    },
    {
      "cell_type": "code",
      "source": [
        "#-------------------------------------------------------------------------------\n",
        "Mealy['prob8_19_1'] = (\\\n",
        "  [ ['0', '_', '1', '_']\n",
        "  , [ 1 ,  1 ,  2 ,  0 ] # 0\n",
        "  , [ 1 ,  0 ,  1 ,  1 ] # 1\n",
        "  , [ 2 ,  1 ,  2 ,  0 ] # 2\n",
        "])\n",
        "#-------------------------------------------------------------------------------\n",
        "Mealy['prob8_19_2'] = (\\\n",
        "  [ ['0', '_', '1', '_']\n",
        "  , [ 1 ,  1 ,  2 ,  0 ] # 0\n",
        "  , [ 1 ,  1 ,  1 ,  0 ] # 1\n",
        "  , [ 2 ,  0 ,  2 ,  1 ] # 2\n",
        "])\n",
        "#-------------------------------------------------------------------------------\n",
        "display_mealy('prob8_19_1')\n",
        "display_mealy('prob8_19_2')"
      ],
      "metadata": {
        "id": "mwAyAvZBrWJc"
      },
      "execution_count": null,
      "outputs": []
    },
    {
      "cell_type": "markdown",
      "source": [
        "## **Problem 8.20:**"
      ],
      "metadata": {
        "id": "pirlHPQE4xvD"
      }
    },
    {
      "cell_type": "markdown",
      "source": [
        "---\n",
        "Prove that there is no Mealy machine that reverses an input string, that is, $Me(s) =$ transpose(*s*).\n",
        "\n",
        "**Answer 8.20:**"
      ],
      "metadata": {
        "id": "PDVOEd404xvE"
      }
    },
    {
      "cell_type": "markdown",
      "source": [
        "# **Chapter 9: Regular Languages**"
      ],
      "metadata": {
        "id": "3_2H-Pc3-3l7"
      }
    },
    {
      "cell_type": "markdown",
      "source": [
        "## **Problems 1 through 19**"
      ],
      "metadata": {
        "id": "slUdkdE0-9vx"
      }
    },
    {
      "cell_type": "markdown",
      "source": [
        "For each of the following pairs of regular languages, find a regular expression and an FA that each define $L_1 \\cap L_2$:"
      ],
      "metadata": {
        "id": "6F1AXS-6mSRR"
      }
    },
    {
      "cell_type": "markdown",
      "source": [
        "**Problem 1:** $L_1=(a+b)^{*}a \\quad L_2=b(a+b)^{*}$"
      ],
      "metadata": {
        "id": "nMKW2j_k--Sl"
      }
    },
    {
      "cell_type": "markdown",
      "source": [
        "**Problem 2:** $L_1=(a+b)^{*}a \\quad L_2=(a+b)^{*}aa(a+b)^{*}$"
      ],
      "metadata": {
        "id": "iofm9-W8B761"
      }
    },
    {
      "cell_type": "markdown",
      "source": [
        "**Problem 3:** $L_1=(a+b)^{*}a \\quad L_2=(a+b)^{*}b$"
      ],
      "metadata": {
        "id": "eieE4M4BCEu6"
      }
    },
    {
      "cell_type": "markdown",
      "source": [
        "**Problem 4:** $L_1=(a+b)b(a+b)^{*} \\quad L_2=b(a+b)^{*}$"
      ],
      "metadata": {
        "id": "mK03PAztCFUu"
      }
    },
    {
      "cell_type": "markdown",
      "source": [
        "**Problem 5:** $L_1=(a+b)b(a+b)^{*} \\quad L_2=(a+b)^{*}aa(a+b)^{*}$"
      ],
      "metadata": {
        "id": "xP6slkuKCFes"
      }
    },
    {
      "cell_type": "markdown",
      "source": [
        "**Problem 6:** $L_1=(a+b)b(a+b)^{*} \\quad L_2=(a+b)^{*}b$"
      ],
      "metadata": {
        "id": "Sd7hPIjaCFn6"
      }
    },
    {
      "cell_type": "markdown",
      "source": [
        "**Problem 7:** $L_1=(b+ab)^{*}(a+Λ) \\quad L_2=(a+b)^{*}aa(a+b)^{*}$"
      ],
      "metadata": {
        "id": "d1PAKmyXCFyo"
      }
    },
    {
      "cell_type": "markdown",
      "source": [
        "**Problem 8:** $L_1=(b+ab)^{*}(a+Λ) \\quad L_2=(b+ab^{*}a)^{*}ab^{*}$"
      ],
      "metadata": {
        "id": "h7OxCv6LCF7e"
      }
    },
    {
      "cell_type": "markdown",
      "source": [
        "**Problem 9:** $L_1=(b+ab)^{*}(a+Λ) \\quad L_2=(a+ba)^{*}a$"
      ],
      "metadata": {
        "id": "ohqnEG7FCGF0"
      }
    },
    {
      "cell_type": "markdown",
      "source": [
        "**Problem 10:** $L_1=(ab^{*})^{*} \\quad L_2=b(a+b)^{*}$"
      ],
      "metadata": {
        "id": "hZzvFNT1CGPB"
      }
    },
    {
      "cell_type": "markdown",
      "source": [
        "**Problem 11:** $L_1=(ab^{*})^{*} \\quad L_2=a(a+b)^{*}$"
      ],
      "metadata": {
        "id": "s2Ix6q88cP4t"
      }
    },
    {
      "cell_type": "markdown",
      "source": [
        "**Problem 12:** $L_1=(ab^{*})^{*} \\quad L_2=(a+b)^{*}aa(a+b)^{*}$"
      ],
      "metadata": {
        "id": "6_LyuoQfcVb4"
      }
    },
    {
      "cell_type": "markdown",
      "source": [
        "**Problem 13:** $L_1=(EVEN\\_STRING) \\quad L_2=b(a+b)^{*}$"
      ],
      "metadata": {
        "id": "zOF4F2-4cVrm"
      }
    },
    {
      "cell_type": "markdown",
      "source": [
        "**Problem 14:** $L_1=(EVEN\\_STRING) \\quad L_2=(a+b)^{*}aa(a+b)^{*}$"
      ],
      "metadata": {
        "id": "i6ghrWsZcV4r"
      }
    },
    {
      "cell_type": "markdown",
      "source": [
        "**Problem 15:** $L_1=(EVEN\\_STRING) \\quad L_2=(b+ab)^{*}(a+Λ)$"
      ],
      "metadata": {
        "id": "6IXWLBJZcV_g"
      }
    },
    {
      "cell_type": "markdown",
      "source": [
        "**Problem 16:** $L_1=(ODD\\_STRING) \\quad L_2=a(a+b)^{*}$"
      ],
      "metadata": {
        "id": "V1JY70bkcWG3"
      }
    },
    {
      "cell_type": "markdown",
      "source": [
        "**Problem 17:** $L_1=(EVEN\\_STRING) \\quad L_2=EVEN\\_EVEN$"
      ],
      "metadata": {
        "id": "Nlm4gfEKcWWU"
      }
    },
    {
      "cell_type": "markdown",
      "source": [
        "**Problem 18(i):** $L_1=(EVEN\\_STRING) \\quad L_2=(EVEN\\_A)$"
      ],
      "metadata": {
        "id": "yEmFwA4DcWdS"
      }
    },
    {
      "cell_type": "markdown",
      "source": [
        "**Problem 18(ii):** $L_1=(EVEN\\_STRING) \\quad L_2=(ODD\\_A)$"
      ],
      "metadata": {
        "id": "4OeBE1nVeF1m"
      }
    },
    {
      "cell_type": "markdown",
      "source": [
        "**Problem 19(i):** $L_1=(EVEN\\_STRING) \\quad L_2=(ODD\\_ODD)$"
      ],
      "metadata": {
        "id": "smOgZkh8cWkn"
      }
    },
    {
      "cell_type": "markdown",
      "source": [
        "**Problem 19(ii):** $L_1=(EVEN\\_STRING) \\quad L_2=(ODD\\_EVEN)$"
      ],
      "metadata": {
        "id": "nnvNDQLDeNbg"
      }
    },
    {
      "cell_type": "markdown",
      "source": [
        "## **Problem 20:**"
      ],
      "metadata": {
        "id": "MpfEwH5ri7lW"
      }
    },
    {
      "cell_type": "markdown",
      "source": [
        "---\n",
        "We have seen that because the regular languages are closed under union and compliment, they must be closed under intersection. Find a collection of languages that is closed under union and intersection but *not* under compliment.\n",
        "\n",
        "**Answer 20:**"
      ],
      "metadata": {
        "id": "fArDyZgfjG1a"
      }
    },
    {
      "cell_type": "markdown",
      "source": [
        "# **Chapter 10: Nonregular Languages**"
      ],
      "metadata": {
        "id": "1nqPiKrOnejy"
      }
    },
    {
      "cell_type": "markdown",
      "source": [
        "## **Problem 1:**"
      ],
      "metadata": {
        "id": "T3q1iN4-nnu5"
      }
    },
    {
      "cell_type": "markdown",
      "source": [
        "---\n",
        "Use the pumping lemma to show that each of these languages is nonregular:\n",
        "\n",
        "* (i) $\\{ a^nb^{n+1}\\}$\n",
        "* (ii) $\\{ a^nb^na^n \\}$\n",
        "* (iii) $\\{ a^nb^{2n} \\}$\n",
        "* (iv) $\\{ a^nba^n \\}$\n",
        "* (v) $\\{ a^nb^na^m \\}$\n",
        "\n",
        "**Answer 1:**"
      ],
      "metadata": {
        "id": "XZdQpSiQoDpt"
      }
    },
    {
      "cell_type": "markdown",
      "source": [
        "## **Problem 2:**"
      ],
      "metadata": {
        "id": "h8vt0g1knxB8"
      }
    },
    {
      "cell_type": "markdown",
      "source": [
        "---\n",
        "Prove that the five languages in Problem 1 are nonregular using the Myhill-Nerode theorem.\n",
        "\n",
        "**Answer 2:**"
      ],
      "metadata": {
        "id": "Lqk0ybT9oOw1"
      }
    },
    {
      "cell_type": "markdown",
      "source": [
        "## **Problem 3:**"
      ],
      "metadata": {
        "id": "EPjyLmN3nxML"
      }
    },
    {
      "cell_type": "markdown",
      "source": [
        "---\n",
        "Use the pumping lemma to prove that the language DOUBLEWORD from p. 200 is nonregular.\n",
        "\n",
        "$$DOUBLEWORD=\\{ \\text{all words of the form SS, where S is any string of a's and b's} \\}$$\n",
        "\n",
        "**Answer 3:**"
      ],
      "metadata": {
        "id": "IdJhW9ItoObr"
      }
    },
    {
      "cell_type": "markdown",
      "source": [
        "## **Problem 4:**"
      ],
      "metadata": {
        "id": "TFLRrtegnxUn"
      }
    },
    {
      "cell_type": "markdown",
      "source": [
        "---\n",
        "Define the language TRAILING_COUNT as any string *s* followed by a number of *a*'s equal to length(*s*).\n",
        "\n",
        "TRAILING_COUNT = { *aa* *ba* *aaaa* *abaa* *baaa* *bbaa* *aaaaaa* *aabaaa* *abaaaa* ... }\n",
        "\n",
        "Prove that this language is nonregular by the\n",
        "* (i) Pumping lemma.\n",
        "* (ii) Myhill-Nerode theorem.\n",
        "\n",
        "**Answer 4:**"
      ],
      "metadata": {
        "id": "18NQCWL4oOSi"
      }
    },
    {
      "cell_type": "markdown",
      "source": [
        "## **Problem 5:**"
      ],
      "metadata": {
        "id": "61iCt9JQnxcm"
      }
    },
    {
      "cell_type": "markdown",
      "source": [
        "---\n",
        "Define the languages\n",
        "\n",
        "$$\n",
        "EVENPALINDROME = \\{ \\text{all words in PALINDROME that have even length} \\}\n",
        "$$\n",
        "\n",
        "$$\n",
        "ODDPALINDROME = \\{ \\text{all words in PALINDROME that have odd length} \\}\n",
        "$$\n",
        "\n",
        "* (i) Show that each is nonregular by the pumping lemma.\n",
        "* (ii) Show that each is nonregular by the Myhill-Nerode theorem.\n",
        "\n",
        "**Answer 5:**"
      ],
      "metadata": {
        "id": "UKdkdFJzoOJu"
      }
    },
    {
      "cell_type": "markdown",
      "source": [
        "## **Problem 6:**"
      ],
      "metadata": {
        "id": "-Oh3UTZLnxjc"
      }
    },
    {
      "cell_type": "markdown",
      "source": [
        "---\n",
        "Define the language SQUARE as follows:\n",
        "\n",
        "$$\n",
        "SQUARE= \\{ a^n \\text{where n is a square} \\}\n",
        "$$\n",
        "\n",
        "This language could also be written as $\\{ a^{n^2} \\}$.\n",
        "\n",
        "* (i) Use the pumping lemma to prove that SQUARE is nonregular.\n",
        "* (ii) Use the Myhill-Nerode theorem to prove that SQUARE is nonregular.\n",
        "\n",
        "**Answer 6:**"
      ],
      "metadata": {
        "id": "dHtDbvmIoOAe"
      }
    },
    {
      "cell_type": "markdown",
      "source": [
        "## **Problem 7:**"
      ],
      "metadata": {
        "id": "sFrT-gQYnxnr"
      }
    },
    {
      "cell_type": "markdown",
      "source": [
        "---\n",
        "Define the language DOUBLESQUARE as follows:\n",
        "\n",
        "$$\n",
        "DOUBLESQUARE= \\{ a^nb^n\\, \\text{where n is a square} \\}\n",
        "$$\n",
        "\n",
        "Prove that DOUBLESQUARE is nonregular by the\n",
        "* (i) Pumping lemma.\n",
        "* (ii) Myhill-Nerode theorem.\n",
        "\n",
        "**Answer 7:**"
      ],
      "metadata": {
        "id": "l1c9rhEToN2q"
      }
    },
    {
      "cell_type": "markdown",
      "source": [
        "## **Problem 8:**"
      ],
      "metadata": {
        "id": "ol103GQMnxqw"
      }
    },
    {
      "cell_type": "markdown",
      "source": [
        "---\n",
        "Define the language DOUBLEPRIME as follows:\n",
        "\n",
        "$$\n",
        "DOUBLEPRIME= \\{ a^pb^p\\, \\text{where p is any prime} \\}\n",
        "$$\n",
        "\n",
        "Prove that DOUBLEPRIME is nonregular by the\n",
        "* (i) Pumping lemma.\n",
        "* (ii) Myhill-Nerode theorem.\n",
        "\n",
        "**Answer 8:**"
      ],
      "metadata": {
        "id": "6Wh9MYB5oNtQ"
      }
    },
    {
      "cell_type": "markdown",
      "source": [
        "## **Problem 9:**"
      ],
      "metadata": {
        "id": "m0bJytPPnxuO"
      }
    },
    {
      "cell_type": "markdown",
      "source": [
        "---\n",
        "Define the language DOUBLEFACTORIAL as follows:\n",
        "\n",
        "$$\n",
        "DOUBLEFACTORIAL= \\{ a^{n!}b^{n!} \\}\n",
        "$$\n",
        "\n",
        "Prove that DOUBLEFACTORIAL is nonregular by the\n",
        "* (i) Pumping lemma.\n",
        "* (ii) Myhill-Nerode theorem.\n",
        "\n",
        "**Answer 9:**"
      ],
      "metadata": {
        "id": "gxeT5588oNjn"
      }
    },
    {
      "cell_type": "markdown",
      "source": [
        "## **Problem 10:**"
      ],
      "metadata": {
        "id": "CpsBrXeynxxc"
      }
    },
    {
      "cell_type": "markdown",
      "source": [
        "---\n",
        "Just for this problem, let the alphabet Σ = \\{ *a* *b* *c* \\}. Let us consider the language $a^nb^nc^n$.\n",
        "\n",
        "Prove that this language is nonregular by the\n",
        "* (i) Pumping lemma.\n",
        "* (ii) Myhill-Nerode theorem.\n",
        "\n",
        "**Answer 10:**"
      ],
      "metadata": {
        "id": "T09PyZV4oNZI"
      }
    },
    {
      "cell_type": "markdown",
      "source": [
        "## **Problem 11:**"
      ],
      "metadata": {
        "id": "tw3N881Inx1B"
      }
    },
    {
      "cell_type": "markdown",
      "source": [
        "---\n",
        "Let us revisit the language DOUBLEWORD from p. 200. Use the Myhill-Nerode theorem to show that this language is nonregular by showing that all the strings in $a^{*}$ are in different classes.\n",
        "\n",
        "**Answer 11:**"
      ],
      "metadata": {
        "id": "pvQtWAXgoNOP"
      }
    },
    {
      "cell_type": "markdown",
      "source": [
        "## **Problem 12:**"
      ],
      "metadata": {
        "id": "HZQF3dzknx4J"
      }
    },
    {
      "cell_type": "markdown",
      "source": [
        "---\n",
        "Let us consider the language of algebraic expression, ALEX, defined by the recursive definition on p. 29. We never attempted to give a regular expression for this language because it is nonregular. Prove this using the Myhill-Nerode theorem and the sequence $$(x\\, ((x\\, (((x\\, ...$$\n",
        "\n",
        "**Answer 12:**"
      ],
      "metadata": {
        "id": "iIrHPD7koNCV"
      }
    },
    {
      "cell_type": "markdown",
      "source": [
        "## **Problem 13:**"
      ],
      "metadata": {
        "id": "8DmSKZ7tnx7N"
      }
    },
    {
      "cell_type": "markdown",
      "source": [
        "---\n",
        "Define the language MOREA as follows:\n",
        "\n",
        "MOREA = { all strings of *a*'s and *b*'s in which the total number of *a*'s is greater than the total number of *b*'s }\n",
        "\n",
        "* (i) Use the fact that $$MOREA' \\cap MOREB' \\cap (a+b)^{*} = EQUAL$$ to prove that MOREA is nonregular (where MOREB has its obvious meaning).\n",
        "* (ii) Explain why the pumping lemma cannot be used to prove that MOREA is nonregular.\n",
        "* (iii) Show that MOREA can be shown to be nonregular by the Myhill-Nerode theorem by using the sequence $$aab\\, aaab\\, aaaab\\, aaaaab\\, ...$$\n",
        "\n",
        "**Answer 13:**"
      ],
      "metadata": {
        "id": "iRo6gkMboM5G"
      }
    },
    {
      "cell_type": "markdown",
      "source": [
        "## **Problem 14:**"
      ],
      "metadata": {
        "id": "mJMixWeHnx-T"
      }
    },
    {
      "cell_type": "markdown",
      "source": [
        "---\n",
        "Let $L_1, L_, L_3, ...$ be an infinite sequence of regular languages.\n",
        "\n",
        "* (i) Let $L$ be the infinite union of all these languages taken together. Is $L$ necessarily regular?\n",
        "* (ii) Is the infinite intersection of all these languages necessarily regular?\n",
        "\n",
        "**Answer 14:**"
      ],
      "metadata": {
        "id": "LTnofQiBoMwC"
      }
    },
    {
      "cell_type": "markdown",
      "source": [
        "## **Problem 15:**"
      ],
      "metadata": {
        "id": "E5KBdht4nyBg"
      }
    },
    {
      "cell_type": "markdown",
      "source": [
        "---\n",
        "* (i) Give an example of a regular language *R* and a nonregular language *N* such that $R+N$ is regular.\n",
        "* (ii) Give an example of a regular language *R* and a nonregular language *N* such that $R+N$ is nonregular.\n",
        "\n",
        "**Answer 15:**"
      ],
      "metadata": {
        "id": "cIUGCSbVoMmR"
      }
    },
    {
      "cell_type": "markdown",
      "source": [
        "## **Problem 16:**"
      ],
      "metadata": {
        "id": "zOkjlXVmnyEv"
      }
    },
    {
      "cell_type": "markdown",
      "source": [
        "---\n",
        "Consider the following lanugage:\n",
        "\n",
        "$$PRIME'=\\{ a^n \\text{where n is not a prime \\} }$$\n",
        "\n",
        "* (i) Prove that PRIME' is nonregular.\n",
        "* (ii) Prove, however, that PRIME' *does* satisfy the pumping lemma.\n",
        "* (iii) How can this be?\n",
        "\n",
        "**Answer 16:**"
      ],
      "metadata": {
        "id": "b9ALcmGEoMdF"
      }
    },
    {
      "cell_type": "markdown",
      "source": [
        "## **Problem 17:**"
      ],
      "metadata": {
        "id": "Ua7Tj5GtnyIF"
      }
    },
    {
      "cell_type": "markdown",
      "source": [
        "---\n",
        "* (i) Show that if we add a finite set of words to a regular language, the result is a regular language.\n",
        "* (ii) Show that if we subtract a finite set of words from a regular language, the result is a regular language.\n",
        "* (iii) Show that if we add a finite set of words to a nonregular language, the result is a nonregular language.\n",
        "* (iv) Show that if we subtract a finite set of words from a regular language, the result is a nonregular language.\n",
        "\n",
        "**Answer 17:**"
      ],
      "metadata": {
        "id": "h7IwjrvDoMTn"
      }
    },
    {
      "cell_type": "markdown",
      "source": [
        "## **Problem 18:**"
      ],
      "metadata": {
        "id": "yrrh4oV_nyLL"
      }
    },
    {
      "cell_type": "markdown",
      "source": [
        "---\n",
        "The proof of Theorem 16 used FAs to show that the language $P/Q$ is regular. Show that the language $P/Q$ is regualar using the Myhill-Nerode theorem instead.\n",
        "\n",
        "**Answer 18:**"
      ],
      "metadata": {
        "id": "M470gPCOoMJ0"
      }
    },
    {
      "cell_type": "markdown",
      "source": [
        "## **Problem 19:**"
      ],
      "metadata": {
        "id": "fMpx1AhLnyPJ"
      }
    },
    {
      "cell_type": "markdown",
      "source": [
        "---\n",
        "Let us define the language PARENTHESIS to be the set of all algebraic expressions from which everything but the parenthesis have been deleted. For example, the expression $(3+(4*7)+(8+9))+(2+1)$ becomes the word $(()())()$.\n",
        "\n",
        "$$\n",
        "PARETHESIS= \\{ Λ\\; ()\\; (())\\; ()()\\; ((()))\\; (())()\\; ()(())\\; ()()()\\; ... \\}\n",
        "$$\n",
        "\n",
        "* (i) Show that this language is nonregular using the Myhill-Nerode theorem.\n",
        "* (ii) Show that the pumping lemma cannot be successful in proving that this language is nonregular.\n",
        "* (iii) If we convert the character \"(\" into the letter *a* and the character \")\" into the letter *b*, show that PARENTHESIS becomes a subset of the language EQUAL in which each word has the property that when read from left to right, there are never more *b*'s than *a*'s.\n",
        "\n",
        "**Answer 19:**"
      ],
      "metadata": {
        "id": "blh0NkAMoMAG"
      }
    },
    {
      "cell_type": "markdown",
      "source": [
        "## **Problem 20:**"
      ],
      "metadata": {
        "id": "jf28-ObnnyS_"
      }
    },
    {
      "cell_type": "markdown",
      "source": [
        "---\n",
        "Consider what happens when an FA is built for an infinite language over the one-letter alphabet Σ = { *a* }. When the input is a string of *a*'s that is longer than the number of states, the path it traces must take the form of some initial sequence of edges followed by a circuit. Because all the words in the language accepted by the machine are strings of *a*'s, all the long words accepted by this FA follow the same path up to the circuit and then around and around as in the picture below:\n",
        "\n",
        "$$PICTURE$$\n",
        "\n",
        "Some of the states leading up to the circuit may be final states and some of the states in the circuit may be final states. This means by placing *+* signs judiciously along a long path to the circuit, we can make the machine accept any finite set of words $S_1$. While going around the circuit the first time, the FA can accept another finite set of words $S_2$. If the length of the circuit is *n*, all words of the form $a^n$ times a word in $S_2$ will also be accepted on the second go-around of the circuit.\n",
        "\n",
        "* (i) Prove that if $L$ is any regular language over the alphabet Σ = { *a* }, then there are two finite sets of words $S_1$ and $S_2$ and an integer *n* such that $$L=S_1+S_2(a^n)^{*}$$\n",
        "* (ii) Consider the language $L$ defined as\n",
        "\n",
        "$$=\\{ a^n\\; \\text{where n is any integer with an even number of digits in base 10} \\}$$\n",
        "\n",
        "$$L=\\{ Λ\\; a^{10}\\; a^{11}\\; a^{12}\\; ... \\}$$\n",
        "\n",
        "Prove that $L$ is nonregular.\n",
        "\n",
        "**Answer 20:**"
      ],
      "metadata": {
        "id": "0R6zz2KtoLts"
      }
    }
  ]
}