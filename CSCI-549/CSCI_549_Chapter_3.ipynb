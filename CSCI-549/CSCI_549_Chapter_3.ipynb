{
  "nbformat": 4,
  "nbformat_minor": 0,
  "metadata": {
    "colab": {
      "provenance": []
    },
    "kernelspec": {
      "name": "python3",
      "display_name": "Python 3"
    },
    "language_info": {
      "name": "python"
    }
  },
  "cells": [
    {
      "cell_type": "markdown",
      "source": [
        "---\n",
        "**Problem 1:**\n",
        "Write another recursive definition for the language $L_1$ of Chapter 2.\n",
        "\n",
        "**Answer 1:**"
      ],
      "metadata": {
        "id": "RuO9gQlFqX41"
      }
    },
    {
      "cell_type": "markdown",
      "source": [
        "---\n",
        "**Problem 2:**\n",
        "Using the second recursive definition of the set EVEN, how many different ways can we prove that 14 is in EVEN?\n",
        "\n",
        "**Answer 2:**"
      ],
      "metadata": {
        "id": "RG5x_ccxqgcU"
      }
    },
    {
      "cell_type": "markdown",
      "source": [
        "---\n",
        "**Problem 3:**\n",
        "Using the second recursive definition of EVEN, what is the smallest number of steps required to prove that 100 is EVEN? Describe a good method for showing that $2n$ is in EVEN.\n",
        "\n",
        "**Answer 3:**"
      ],
      "metadata": {
        "id": "pJAwJ1zjqg9a"
      }
    },
    {
      "cell_type": "markdown",
      "source": [
        "---\n",
        "**Problem 4:**\n",
        "Show that the following is another recursive definition of the set EVEN:\n",
        "* Rule 1: 2 and 4 are in EVEN\n",
        "* Rule 2: If $x$ is in EVEN, then so is $x + 4$.\n",
        "\n",
        "**Answer 4:**"
      ],
      "metadata": {
        "id": "7VjOcp1wqhHA"
      }
    },
    {
      "cell_type": "markdown",
      "source": [
        "---\n",
        "**Problem 5:**\n",
        "Show that there are infinitely many different recursive definitions for the set EVEN.\n",
        "\n",
        "**Answer 5:**"
      ],
      "metadata": {
        "id": "Ncg5YPzSqhP2"
      }
    },
    {
      "cell_type": "markdown",
      "source": [
        "---\n",
        "**Problem 6:**\n",
        "Using any recursive definition of the set EVEN, show that all the numbers in it end in the digits 0, 2, 4, 6, or 8.\n",
        "\n",
        "**Answer 6:**"
      ],
      "metadata": {
        "id": "_GBO3DO2qhYk"
      }
    },
    {
      "cell_type": "markdown",
      "source": [
        "---\n",
        "**Problem 7:**\n",
        "The set POLYNOMIAL defined in this chapter contains only the polynomials in the one variable $x$. Write a recursive definition for the set of all polynomials in the two variables $x$ and $y$.\n",
        "\n",
        "**Answer 7:**"
      ],
      "metadata": {
        "id": "zarLWO0iqhg6"
      }
    },
    {
      "cell_type": "markdown",
      "source": [
        "---\n",
        "**Problem 8:**\n",
        "Define the set of valid algebraic expressions ALEX as follows:\n",
        "* Rule 1: All polynomials are in ALEX.\n",
        "* Rule 2: If $f(x)$ and $g(x)$ are in ALEX, then so are:\n",
        "* (i) $(f(x))$\n",
        "* (ii) $-(f(x))$\n",
        "* (iii) $f(x) + g(x)$\n",
        "* (iv) $f(x) - g(x)$\n",
        "* (v) $f(x)g(x)$\n",
        "* (vi) $f(x)/g(x)$\n",
        "* (vii) $f(x)^{g(x)}$\n",
        "* (viii) $f(g(x))$\n",
        "\n",
        "- (a) Show that $(x + 2)^{3x}$ is in ALEX.\n",
        "- (b) Show that elementary calculus contains enough rules to prove the theorem that all algebraic expressions can be differentiated.\n",
        "- (c) Is Rule 2(viii) really necessary?\n",
        "\n",
        "**Answer 8:**"
      ],
      "metadata": {
        "id": "t8N9AdIGqhm_"
      }
    },
    {
      "cell_type": "markdown",
      "source": [
        "---\n",
        "**Problem 9:**\n",
        "* Using the fact that $3x^2 + 7x - 9 = (((((3)x) + 7)x) - 9)$, show how to produce this polynomial from the rules for POLYNOMIAL using multiplication only twice.\n",
        "* What is the smallest number of steps needed for producing $x^8 + x^4$?\n",
        "* What is the smallest number of steps needed for producing $7x^7 + 5x^5 + 3x^3 + x$?\n",
        "\n",
        "**Answer 9:**\n",
        "- ?\n",
        "- ?\n",
        "- ?"
      ],
      "metadata": {
        "id": "RH34dcXuqhse"
      }
    },
    {
      "cell_type": "markdown",
      "source": [
        "---\n",
        "**Problem 10:**\n",
        "Show that if $n$ is less that 31, then $x^n$ can be shown to be in POLYNOMIAL in fewer that eight steps.\n",
        "\n",
        "**Answer 10:**"
      ],
      "metadata": {
        "id": "1P9Q3kWzqhxr"
      }
    },
    {
      "cell_type": "markdown",
      "source": [
        "---\n",
        "**Problem 11:**\n",
        "In this chapter, we mentioned several substrings of length 2 that cannot occur in arithmetic expressions, such as *(/*, *+)*, *//*, and *\\*/*. What is the complete list of substrings of length 2 that cannot occur?\n",
        "\n",
        "**Answer 11:**"
      ],
      "metadata": {
        "id": "5v-TtwKtqh2h"
      }
    },
    {
      "cell_type": "markdown",
      "source": [
        "---\n",
        "**Problem 12:**\n",
        "Are there any substrings of length 3 that connot occur that do not contain forbidden substrings of length 2? (This means that *///* is already known to be illegal because it contains the forbidden substring *//*.) What is the longest forbidden substring that does not contain a shorter forbidden substring?\n",
        "\n",
        "**Answer 12:**"
      ],
      "metadata": {
        "id": "2bNLHWPFqh7P"
      }
    },
    {
      "cell_type": "markdown",
      "source": [
        "---\n",
        "**Problem 13:**\n",
        "The rules given earlier for the set AE allow for the peculiar expressions\n",
        "\n",
        "$(((((9)))))$ and $-(-(-(-(9))))$\n",
        "\n",
        "It is not really harmful to allow these in AE, but is there some modified definition of AE that eliminates this problem?\n",
        "\n",
        "**Answer 13:**"
      ],
      "metadata": {
        "id": "OgXVY8zxqiAl"
      }
    },
    {
      "cell_type": "markdown",
      "source": [
        "---\n",
        "**Problem 14:**\n",
        "* (i) Write out the full recursive definition for the propositional calculus that contains the symbols $∨$ and $∧$ as well as $¬$ and $→$.\n",
        "* (ii) What are all the forbidden substrings of length 2 in this language?\n",
        "\n",
        "**Answer 14:**"
      ],
      "metadata": {
        "id": "m4-OaDXyqiFi"
      }
    },
    {
      "cell_type": "markdown",
      "source": [
        "---\n",
        "**Problem 15:**\n",
        "* (i) When asked to give a recursive definition for the language PALINDROME over the alphabet $Σ = \\{a\\, b\\}$, a student wrote:\n",
        "  * Rule 1: *a* and *b* are in PALINDROME\n",
        "  * Rule 2: If *x* is in PALINDROME, then so are *axa* and *bxb*.\n",
        "\n",
        "  Unfortunately, all the words in the language defined above have an odd length and so it is not all of PALINDROME. Fix this problem.\n",
        "* (ii) Give a recusrive definition for the language EVENPALINDROME of all palindromes of even length.\n",
        "\n",
        "**Answer 15:**"
      ],
      "metadata": {
        "id": "26lape21qiKo"
      }
    },
    {
      "cell_type": "markdown",
      "source": [
        "---\n",
        "**Problem 16:**\n",
        "* (i) Give a recursive definition for the set $ODD = \\{1\\, 3\\, 5\\, 7\\, ...\\}$.\n",
        "* (ii) Give a recursive definition for the set of strings of digits 0, 1, 2, 3, ..., 9 that cannot start with the digit 0.\n",
        "\n",
        "**Answer 16:**"
      ],
      "metadata": {
        "id": "0m_8i1orqiQW"
      }
    },
    {
      "cell_type": "markdown",
      "source": [
        "---\n",
        "**Problem 17:**\n",
        "In this chapter we attempted to define the positive numbers by the following rules:\n",
        "* Rule 1: 1 is in $L$\n",
        "* Rule 2: If $x$ and $y$ are in $L$, Then so are $x+y$, $x*y$, and $x/y$.\n",
        "\n",
        "The language $L$ defined in this way is a famous mathematical set. What is it? Prove it.\n",
        "\n",
        "**Answer 17:**"
      ],
      "metadata": {
        "id": "LRVVtvbQqiVU"
      }
    },
    {
      "cell_type": "markdown",
      "source": [
        "---\n",
        "**Problem 18:**\n",
        "Give two recursive definitions for the set POWERS-OF-TWO $= \\{1\\, 2\\, 4\\, 8\\, 16\\, ...\\}$.\n",
        "\n",
        "Use one of them to prove that the product of two POWERS-OF-TWO is also a POWERS-OF-TWO\n",
        "\n",
        "**Answer 18:**"
      ],
      "metadata": {
        "id": "oSLX83Vzqiaa"
      }
    },
    {
      "cell_type": "markdown",
      "source": [
        "---\n",
        "**Problem 19:**\n",
        "Give recursive definitions for the the following languages over the alphabet $\\{a\\, b\\}$:\n",
        "* (i) The language EVENSTRING of all words of even length.\n",
        "* (ii) The language ODDSTRING of all words of odd length.\n",
        "* (iii) The language AA of all words containing the substring *aa*.\n",
        "* (iv)  The language NOTAA of all words no containing the substring *aa*.\n",
        "\n",
        "**Answer 19:**"
      ],
      "metadata": {
        "id": "HsMt9joeqifX"
      }
    },
    {
      "cell_type": "markdown",
      "source": [
        "---\n",
        "**Problem 20:**\n",
        "* (i) Consider the following recursive definition of 3-PERMUTATION:\n",
        "  * Rule 1: 123 is a 3-PERMUTATION.\n",
        "  * Rule 2: If *xyz* is a 3-PERMUTATION, then so are *zyx* and *yzx*.\n",
        "\n",
        "  Show that there are six different 3-PERMUTATIONs.\n",
        "\n",
        "* (ii)\n",
        "  * Rule 1: 1234 is a 4-PERMUTATION.\n",
        "  * Rule 2: If *xyzw* is a 4-PERMUTATION, then so are *wzyx* and *yzwx*.\n",
        "\n",
        "  How many 4-PERMUTATIONs are there (by this definition)?\n",
        "\n",
        "**Answer 20:**"
      ],
      "metadata": {
        "id": "Q6bo3MI-qikm"
      }
    }
  ]
}