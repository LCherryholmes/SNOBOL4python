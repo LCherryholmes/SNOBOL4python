{
  "nbformat": 4,
  "nbformat_minor": 0,
  "metadata": {
    "colab": {
      "provenance": []
    },
    "kernelspec": {
      "name": "python3",
      "display_name": "Python 3"
    },
    "language_info": {
      "name": "python"
    }
  },
  "cells": [
    {
      "cell_type": "markdown",
      "source": [
        "**Chapter 3: Introduction to Computer Theory bu Daniel I. A. Cohen**"
      ],
      "metadata": {
        "id": "ZZdolncsclDu"
      }
    },
    {
      "cell_type": "markdown",
      "source": [
        "---\n",
        "**Problem 1:**\n",
        "Write another recursive definition for the language $L_1$ of Chapter 2.\n",
        "\n",
        "$L_1 = \\{x\\}^+$\n",
        "\n",
        "**Answer 1:**\n",
        "\n",
        "* Rule 1: $x$ is in $L_1$.\n",
        "* Rule 2: If $w$ is in $L_1$, then so is $wx$."
      ],
      "metadata": {
        "id": "RuO9gQlFqX41"
      }
    },
    {
      "cell_type": "markdown",
      "source": [
        "---\n",
        "**Problem 2:**\n",
        "Using the second recursive definition of the set EVEN, how many different ways can we prove that 14 is in EVEN?\n",
        "* Rule 1: 2 is in EVEN.\n",
        "* Rule 2: If *x* and *y* are both in EVEN, then so is $x+y$.\n",
        "\n",
        "**Answer 2:**\n",
        "\n",
        "* 2+2=4\n",
        "  * 2+4=6\n",
        "    * 2+6=8\n",
        "      * 2+8=10\n",
        "        * 2+10=12\n",
        "          * **2+12=14**\n",
        "        * **4+10=14**\n",
        "      * 4+8=12\n",
        "        * **2+12=14**\n",
        "      * **6+8=14**\n",
        "    * 4+6=10\n",
        "      * 2+10=12\n",
        "        * **2+12=14**\n",
        "      * **4+10=14**\n",
        "    * 6+6=12\n",
        "      * **2+12=14**\n",
        "  * 4+4=8\n",
        "    * 2+8=10\n",
        "      * 2+10=12\n",
        "        * **2+12=14**\n",
        "      * **4+10=14**\n",
        "    * 4+8=12\n",
        "      * **2+12=14**\n",
        "    * **6+8=14**"
      ],
      "metadata": {
        "id": "RG5x_ccxqgcU"
      }
    },
    {
      "cell_type": "markdown",
      "source": [
        "---\n",
        "**Problem 3:**\n",
        "Using the second recursive definition of EVEN.\n",
        "* What is the smallest number of steps required to prove that 100 is EVEN?\n",
        "* Describe a good method for showing that $2n$ is in EVEN.\n",
        "\n",
        "**Answer 3:**\n",
        "- 2, 2+2=4, 4+4=8, 8+8=16, 16+16=32, 32+32=64, 64+32=96, 96+4=100, eight steps\n",
        "- Continue doubling until overreach. Back up one. Continue adding maximum possible in set which will not cause overreach. Repeat until target is reached."
      ],
      "metadata": {
        "id": "pJAwJ1zjqg9a"
      }
    },
    {
      "cell_type": "markdown",
      "source": [
        "---\n",
        "**Problem 4:**\n",
        "Show that the following is another recursive definition of the set EVEN:\n",
        "* Rule 1: 2 and 4 are in EVEN\n",
        "* Rule 2: If $x$ is in EVEN, then so is $x + 4$."
      ],
      "metadata": {
        "id": "7VjOcp1wqhHA"
      }
    },
    {
      "cell_type": "markdown",
      "source": [
        "**Answer 4:**\n",
        "\n",
        "We define the set $E$ recursively as follows:\n",
        "\n",
        "1. **Base cases:** $2 \\in E$ and $4 \\in E$.\n",
        "2. **Recursive step:** If $x \\in E$, then $x + 4 \\in E$.\n",
        "\n",
        "**Step 1: Show $E \\subseteq \\text{EVEN}$.**\n",
        "\n",
        "We proceed by structural induction on the definition of $E$:\n",
        "\n",
        "- **Base cases:** $2$ and $4$ are even numbers.\n",
        "- **Inductive step:** Assume $x$ is even. Then $x + 4$ is also even, since the sum of two even numbers is even.\n",
        "\n",
        "Thus, every element of $E$ is even.\n",
        "\n",
        "**Step 2: Show $\\text{EVEN} \\subseteq E$.**\n",
        "\n",
        "Let $n$ be an even integer with $n \\ge 2$.\n",
        "\n",
        "We can write $n$ as either $n = 2 + 4k \\quad \\text{or} \\quad n = 4 + 4k \\quad$ for some integer $k \\ge 0$.\n",
        "\n",
        "- If $n = 2$ or $n = 4$, then $n \\in E$ by the base cases.\n",
        "- If $n > 4$, then $n - 4$ is even and $\\ge 2$.  \n",
        "  By the induction hypothesis, $n - 4 \\in E$, and by the recursive step, $n \\in E$.\n",
        "\n",
        "**Step 3: Conclusion**\n",
        "\n",
        "We have shown: $E \\subseteq \\text{EVEN} \\quad \\text{and} \\quad \\text{EVEN} \\subseteq E$\n",
        "\n",
        "Therefore: $E = \\{ n \\in \\mathbb{N} \\mid n \\text{ is even and } n \\ge 2 \\}$."
      ],
      "metadata": {
        "id": "ylZX10ZVumvQ"
      }
    },
    {
      "cell_type": "markdown",
      "source": [
        "---\n",
        "**Problem 5:**\n",
        "Show that there are infinitely many different recursive definitions for the set EVEN."
      ],
      "metadata": {
        "id": "Ncg5YPzSqhP2"
      }
    },
    {
      "cell_type": "markdown",
      "source": [
        "**Answer 5:**\n",
        "\n",
        "$\n",
        "\\textbf{Theorem:} \\quad\n",
        "\\text{There are infinitely many distinct recursive definitions of the set } \\mathrm{EVEN}.\n",
        "$\n",
        "\n",
        "$\n",
        "\\textbf{Definition for a fixed } k \\ge 1:\n",
        "\\quad\n",
        "\\begin{cases}\n",
        "\\text{Base cases:} & 2, 4, \\dots, 2k \\in E_k, \\\\\n",
        "\\text{Recursive step:} & x \\in E_k \\ \\Rightarrow\\ x + 2k \\in E_k.\n",
        "\\end{cases}\n",
        "$\n",
        "\n",
        "$\\textbf{Claim:} \\quad E_k = \\mathrm{EVEN} \\quad \\text{for all } k \\ge 1.$\n",
        "\n",
        "$\\textit{Proof:}$\n",
        "\n",
        "$\\text{(1) Soundness: All base elements are even. Adding $2k$ preserves evenness, so } E_k \\subseteq \\mathrm{EVEN}.$\n",
        "\n",
        "$\n",
        "\\text{(2) Completeness: Let $n \\ge 2$ be even. Write $n = 2q$. By the division algorithm,}\n",
        "$\n",
        "\n",
        "$$q = kq' + j, \\quad \\text{with } q' \\ge 0, \\ j \\in \\{1,2,\\dots,k\\}.$$\n",
        "\n",
        "$\\text{Then } n = 2j + 2kq'. \\ \\text{Since $2j$ is a base element and we can add $2k$ repeatedly, } n \\in E_k.$\n",
        "\n",
        "$$\\therefore \\ E_k = \\mathrm{EVEN} \\ \\text{for all } k \\ge 1.$$\n",
        "\n",
        "$$\n",
        "\\textbf{Infinitely many definitions:} \\quad\n",
        "\\text{Different $k$ give different base sets and step sizes, so the rules differ.}\n",
        "$$\n",
        "\n",
        "$\\text{Since $k$ can be any positive integer, there are infinitely many such recursive definitions.}$"
      ],
      "metadata": {
        "id": "FfTBMw6kw5o6"
      }
    },
    {
      "cell_type": "markdown",
      "source": [
        "---\n",
        "**Problem 6:**\n",
        "Using any recursive definition of the set EVEN, show that all the numbers in it end in the digits 0, 2, 4, 6, or 8."
      ],
      "metadata": {
        "id": "_GBO3DO2qhYk"
      }
    },
    {
      "cell_type": "markdown",
      "source": [
        "**Answer 6:**\n",
        "\n",
        "We define the set $\\mathrm{EVEN}$ recursively as:\n",
        "\n",
        "1. **Base case:** $2 \\in \\mathrm{EVEN}$.\n",
        "2. **Recursive step:** If $x \\in \\mathrm{EVEN}$, then $x + 2 \\in \\mathrm{EVEN}$.\n",
        "3. **Closure:** No other elements are in $\\mathrm{EVEN}$.\n",
        "\n",
        "**Claim:** Every $n \\in \\mathrm{EVEN}$ ends with digit $0, 2, 4, 6,$ or $8$.\n",
        "\n",
        "**Proof (structural induction):**\n",
        "\n",
        "**Base case:**  \n",
        "$2$ ends with digit $2 \\in \\{0,2,4,6,8\\}$.\n",
        "\n",
        "**Inductive step:**  \n",
        "Assume $x$ ends with digit $d \\in \\{0,2,4,6,8\\}$.  \n",
        "Consider $x + 2$:\n",
        "\n",
        "$$\n",
        "\\begin{aligned}\n",
        "d &= 0 \\implies d+2 = 2, \\\\\n",
        "d &= 2 \\implies d+2 = 4, \\\\\n",
        "d &= 4 \\implies d+2 = 6, \\\\\n",
        "d &= 6 \\implies d+2 = 8, \\\\\n",
        "d &= 8 \\implies d+2 = 10 \\ (\\text{last digit } 0).\n",
        "\\end{aligned}\n",
        "$$\n",
        "\n",
        "In each case, the last digit remains in $\\{0,2,4,6,8\\}$.\n",
        "\n",
        "**Conclusion:**  \n",
        "By induction, all elements of $\\mathrm{EVEN}$ have last digit in $\\{0,2,4,6,8\\}$."
      ],
      "metadata": {
        "id": "mYTHTc5wz1rJ"
      }
    },
    {
      "cell_type": "markdown",
      "source": [
        "---\n",
        "**Problem 7:**\n",
        "The set POLYNOMIAL defined in this chapter contains only the polynomials in the one variable $x$. Write a recursive definition for the set of all polynomials in the two variables $x$ and $y$.\n",
        "\n",
        "* Rule 1: Any number is in POLYNOMIAL.\n",
        "* Rule 2: The variable *x* is in POLYNOMIAL.\n",
        "* Rule 3: If *p* and *q* are in POLYNOMIAL, then so are $p+q$, $p-q$, $(p)$, and $pq$.\n",
        "\n",
        "**Answer 7:**\n",
        "\n",
        "- Rule 1: Any number is in POLYNOMIAL.\n",
        "- Rule 2: The variable *x* or *y* is in POLYNOMIAL.\n",
        "- Rule 3: If *p* and *q* are in POLYNOMIAL, then so are $p+q$, $p-q$, $(p)$, and $pq$."
      ],
      "metadata": {
        "id": "zarLWO0iqhg6"
      }
    },
    {
      "cell_type": "markdown",
      "source": [
        "---\n",
        "**Problem 8:**\n",
        "Define the set of valid algebraic expressions ALEX as follows:\n",
        "* Rule 1: All polynomials are in ALEX.\n",
        "* Rule 2: If $f(x)$ and $g(x)$ are in ALEX, then so are:\n",
        "* (i) $(f(x))$\n",
        "* (ii) $-(f(x))$\n",
        "* (iii) $f(x) + g(x)$\n",
        "* (iv) $f(x) - g(x)$\n",
        "* (v) $f(x)g(x)$\n",
        "* (vi) $f(x)/g(x)$\n",
        "* (vii) $f(x)^{g(x)}$\n",
        "* (viii) $f(g(x))$\n",
        "\n",
        "- (a) Show that $(x + 2)^{3x}$ is in ALEX.\n",
        "- (b) Show that elementary calculus contains enough rules to prove the theorem that all algebraic expressions can be differentiated.\n",
        "- (c) Is Rule 2(viii) really necessary?\n",
        "\n",
        "**Answer 8:**\n",
        "\n",
        "- (a) Steps for proof:\n",
        "  - *Rule 1.2:* $x$\n",
        "  - *Rule 1.1:* $2$\n",
        "  - *Rule 1.1:* $3$\n",
        "  - *Rule 1.3:* $x+2$\n",
        "  - *Rule 1.3:* $(x+2)$\n",
        "  - *Rule 1.3:* $3x$\n",
        "  - *Rule 2:* $(x+2)^{3x}$\n",
        "- (b) Rules of differentiation exists for all unary and binary operators of POLYNOMIAL.\n",
        "- (c) No."
      ],
      "metadata": {
        "id": "t8N9AdIGqhm_"
      }
    },
    {
      "cell_type": "markdown",
      "source": [
        "---\n",
        "**Problem 9:**\n",
        "* Using the fact that $3x^2 + 7x - 9 = (((((3)x) + 7)x) - 9)$, show how to produce this polynomial from the rules for POLYNOMIAL using multiplication only twice.\n",
        "* What is the smallest number of steps needed for producing $x^8 + x^4$?\n",
        "* What is the smallest number of steps needed for producing $7x^7 + 5x^5 + 3x^3 + x$?\n",
        "\n",
        "**Answer 9:**\n",
        "- The product of $(3)$ and $x$, and the product of $(((3)x) + 7)$ and $x$.\n",
        "- Steps: $x$, $8$, $4$, $x^8$, $x^4$, $x^8 + x^4$, six steps.\n",
        "- Steps:\n",
        "  - 1: $7$\n",
        "  - 2: $x$\n",
        "  - 3: $5$\n",
        "  - 4: $3$\n",
        "  - 5: $x^7$\n",
        "  - 6: $x^5$\n",
        "  - 7: $x^3$\n",
        "  - 8: $7x^7 + 5x^5$\n",
        "  - 9: $7x^7 + 5x^5 + 3x^3$\n",
        "  - 10: $7x^7 + 5x^5 + 3x^3 + x$"
      ],
      "metadata": {
        "id": "RH34dcXuqhse"
      }
    },
    {
      "cell_type": "markdown",
      "source": [
        "---\n",
        "**Problem 10:**\n",
        "Show that if $n$ is less that 31, then $x^n$ can be shown to be in POLYNOMIAL in fewer that eight steps.\n",
        "\n",
        "**Answer 10:**"
      ],
      "metadata": {
        "id": "1P9Q3kWzqhxr"
      }
    },
    {
      "cell_type": "markdown",
      "source": [
        "---\n",
        "**Problem 11:**\n",
        "In this chapter, we mentioned several substrings of length 2 that cannot occur in arithmetic expressions, such as *(/*, *+)*, *//*, and *\\*/*. What is the complete list of substrings of length 2 that cannot occur?\n",
        "\n",
        "**Answer 11:**\n",
        "- $\\(/$\n",
        "-\n",
        "-"
      ],
      "metadata": {
        "id": "5v-TtwKtqh2h"
      }
    },
    {
      "cell_type": "markdown",
      "source": [
        "---\n",
        "**Problem 12:**\n",
        "Are there any substrings of length 3 that connot occur that do not contain forbidden substrings of length 2? (This means that *///* is already known to be illegal because it contains the forbidden substring *//*.) What is the longest forbidden substring that does not contain a shorter forbidden substring?\n",
        "\n",
        "**Answer 12:**"
      ],
      "metadata": {
        "id": "2bNLHWPFqh7P"
      }
    },
    {
      "cell_type": "markdown",
      "source": [
        "---\n",
        "**Problem 13:**\n",
        "The rules given earlier for the set AE allow for the peculiar expressions\n",
        "\n",
        "$(((((9)))))$ and $-(-(-(-(9))))$\n",
        "\n",
        "It is not really harmful to allow these in AE, but is there some modified definition of AE that eliminates this problem?\n",
        "\n",
        "**Answer 13:**"
      ],
      "metadata": {
        "id": "OgXVY8zxqiAl"
      }
    },
    {
      "cell_type": "markdown",
      "source": [
        "---\n",
        "**Problem 14:**\n",
        "* (i) Write out the full recursive definition for the propositional calculus that contains the symbols $∨$ and $∧$ as well as $¬$ and $→$.\n",
        "* (ii) What are all the forbidden substrings of length 2 in this language?\n",
        "\n",
        "**Answer 14:**"
      ],
      "metadata": {
        "id": "m4-OaDXyqiFi"
      }
    },
    {
      "cell_type": "markdown",
      "source": [
        "---\n",
        "**Problem 15:**\n",
        "* (i) When asked to give a recursive definition for the language PALINDROME over the alphabet $Σ = \\{a\\, b\\}$, a student wrote:\n",
        "  * Rule 1: *a* and *b* are in PALINDROME\n",
        "  * Rule 2: If *x* is in PALINDROME, then so are *axa* and *bxb*.\n",
        "\n",
        "  Unfortunately, all the words in the language defined above have an odd length and so it is not all of PALINDROME. Fix this problem.\n",
        "* (ii) Give a recusrive definition for the language EVENPALINDROME of all palindromes of even length.\n",
        "\n",
        "**Answer 15:**"
      ],
      "metadata": {
        "id": "26lape21qiKo"
      }
    },
    {
      "cell_type": "markdown",
      "source": [
        "---\n",
        "**Problem 16:**\n",
        "* (i) Give a recursive definition for the set $ODD = \\{1\\, 3\\, 5\\, 7\\, ...\\}$.\n",
        "* (ii) Give a recursive definition for the set of strings of digits 0, 1, 2, 3, ..., 9 that cannot start with the digit 0.\n",
        "\n",
        "**Answer 16:**"
      ],
      "metadata": {
        "id": "0m_8i1orqiQW"
      }
    },
    {
      "cell_type": "markdown",
      "source": [
        "---\n",
        "**Problem 17:**\n",
        "In this chapter we attempted to define the positive numbers by the following rules:\n",
        "* Rule 1: 1 is in $L$\n",
        "* Rule 2: If $x$ and $y$ are in $L$, Then so are $x+y$, $x*y$, and $x/y$.\n",
        "\n",
        "The language $L$ defined in this way is a famous mathematical set. What is it? Prove it.\n",
        "\n",
        "**Answer 17:**"
      ],
      "metadata": {
        "id": "LRVVtvbQqiVU"
      }
    },
    {
      "cell_type": "markdown",
      "source": [
        "---\n",
        "**Problem 18:**\n",
        "Give two recursive definitions for the set POWERS-OF-TWO $= \\{1\\, 2\\, 4\\, 8\\, 16\\, ...\\}$.\n",
        "\n",
        "Use one of them to prove that the product of two POWERS-OF-TWO is also a POWERS-OF-TWO\n",
        "\n",
        "**Answer 18:**"
      ],
      "metadata": {
        "id": "oSLX83Vzqiaa"
      }
    },
    {
      "cell_type": "markdown",
      "source": [
        "---\n",
        "**Problem 19:**\n",
        "Give recursive definitions for the the following languages over the alphabet $\\{a\\, b\\}$:\n",
        "* (i) The language EVENSTRING of all words of even length.\n",
        "* (ii) The language ODDSTRING of all words of odd length.\n",
        "* (iii) The language AA of all words containing the substring *aa*.\n",
        "* (iv)  The language NOTAA of all words no containing the substring *aa*.\n",
        "\n",
        "**Answer 19:**"
      ],
      "metadata": {
        "id": "HsMt9joeqifX"
      }
    },
    {
      "cell_type": "markdown",
      "source": [
        "---\n",
        "**Problem 20:**\n",
        "* (i) Consider the following recursive definition of 3-PERMUTATION:\n",
        "  * Rule 1: 123 is a 3-PERMUTATION.\n",
        "  * Rule 2: If *xyz* is a 3-PERMUTATION, then so are *zyx* and *yzx*.\n",
        "\n",
        "  Show that there are six different 3-PERMUTATIONs.\n",
        "\n",
        "* (ii)\n",
        "  * Rule 1: 1234 is a 4-PERMUTATION.\n",
        "  * Rule 2: If *xyzw* is a 4-PERMUTATION, then so are *wzyx* and *yzwx*.\n",
        "\n",
        "  How many 4-PERMUTATIONs are there (by this definition)?\n",
        "\n",
        "**Answer 20:**"
      ],
      "metadata": {
        "id": "Q6bo3MI-qikm"
      }
    }
  ]
}