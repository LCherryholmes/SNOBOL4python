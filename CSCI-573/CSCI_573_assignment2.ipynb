{
  "nbformat": 4,
  "nbformat_minor": 0,
  "metadata": {
    "colab": {
      "provenance": []
    },
    "kernelspec": {
      "name": "python3",
      "display_name": "Python 3"
    },
    "language_info": {
      "name": "python"
    }
  },
  "cells": [
    {
      "cell_type": "code",
      "source": [
        "import numpy as np\n",
        "import matplotlib.pyplot as plt\n",
        "from pprint import pprint\n",
        "from pyspark import SparkContext\n",
        "sc = SparkContext.getOrCreate()"
      ],
      "metadata": {
        "id": "r3Mqh8LUlr4d"
      },
      "execution_count": 1,
      "outputs": []
    },
    {
      "cell_type": "code",
      "source": [
        "import re\n",
        "import datetime\n",
        "from pyspark.sql import Row\n",
        "month_map = {\n",
        "    'Jan': 1, 'Feb': 2, 'Mar': 3, 'Apr': 4, 'May': 5, 'Jun': 6,\n",
        "    'Jul': 7, 'Aug': 8, 'Sep': 9, 'Oct': 10, 'Nov': 11, 'Dec': 12\n",
        "}\n",
        "def apache_time(s):\n",
        "    return datetime.datetime(\n",
        "        int(s[7:11]),\n",
        "        month_map[s[3:6]],\n",
        "        int(s[0:2]),\n",
        "        int(s[12:14]),\n",
        "        int(s[15:17]),\n",
        "        int(s[18:20]))"
      ],
      "metadata": {
        "id": "Stm3i5p1c3R4"
      },
      "execution_count": 2,
      "outputs": []
    },
    {
      "cell_type": "code",
      "source": [
        "# (1a) Parsing Each Log Line\n",
        "def parse_apache_log_line(logline):\n",
        "    m = re.search(APACHE_ACCESS_LOG_PATTERN, logline)\n",
        "    if m is None: return (logline, 0)\n",
        "    return (Row(\n",
        "        host = m.group(1),\n",
        "        client_id = m.group(2),\n",
        "        user_id = m.group(3),\n",
        "        date_time = apache_time(m.group(4)),\n",
        "        method = m.group(5),\n",
        "        endpoint = m.group(6),\n",
        "        protocol = m.group(7),\n",
        "        response_code = int(m.group(8)),\n",
        "        content_size = int(m.group(9)) if m.group(9) != '-' else 0), 1)"
      ],
      "metadata": {
        "id": "-EGQJb_4pZ3T"
      },
      "execution_count": 3,
      "outputs": []
    },
    {
      "cell_type": "code",
      "source": [
        "APACHE_ACCESS_LOG_PATTERN = '^(\\S+) (\\S+) (\\S+) \\[([\\w:/]+\\s[+\\-]\\d{4})\\] \"(\\S+) (\\S+)\\s*(\\S*)\" (\\d{3}) (\\S+)'"
      ],
      "metadata": {
        "id": "v1JBZDnu7bJk"
      },
      "execution_count": 4,
      "outputs": []
    },
    {
      "cell_type": "code",
      "source": [
        "from google.colab import drive\n",
        "drive.mount('/content/modules', force_remount=True)"
      ],
      "metadata": {
        "id": "_BaQ4X-8mF4f",
        "colab": {
          "base_uri": "https://localhost:8080/"
        },
        "outputId": "493d4bd3-cdb3-4c4e-f5fe-221fcb9c2862"
      },
      "execution_count": 5,
      "outputs": [
        {
          "output_type": "stream",
          "name": "stdout",
          "text": [
            "Mounted at /content/modules\n"
          ]
        }
      ]
    },
    {
      "cell_type": "code",
      "source": [
        "# (1b) Configuration and Initial RDD Creation\n",
        "logFile = \"/content/modules/My Drive/NASAlog.txt\"\n",
        "def parseLogs():\n",
        "    parsed_logs = sc.textFile(logFile).map(parse_apache_log_line).cache()\n",
        "    access_logs = parsed_logs.filter(lambda s: s[1] == 1).map(lambda s: s[0]).cache()\n",
        "    failed_logs = parsed_logs.filter(lambda s: s[1] == 0).map(lambda s: s[0])\n",
        "    failed_logs_count = failed_logs.count()\n",
        "    if failed_logs_count > 0:\n",
        "        print('Number of invalid loglines: %d' % failed_logs.count())\n",
        "        for line in failed_logs.take(20):\n",
        "            print('Invalid logline: %s' % line)\n",
        "    print('Read %d lines, successfully parsed %d lines, failed to parse %d lines'\n",
        "        % (parsed_logs.count(), access_logs.count(), failed_logs.count()))\n",
        "    return parsed_logs, access_logs, failed_logs\n",
        "parsed_logs, access_logs, failed_logs = parseLogs()"
      ],
      "metadata": {
        "id": "tNNIpKgbiXvv",
        "colab": {
          "base_uri": "https://localhost:8080/"
        },
        "outputId": "c0fdae26-c501-4694-d166-7a1568afad69"
      },
      "execution_count": 6,
      "outputs": [
        {
          "output_type": "stream",
          "name": "stdout",
          "text": [
            "Number of invalid loglines: 58\n",
            "Invalid logline: wxs6-7.worldaccess.nl - - [02/Jul/1995:08:09:27 -0400] \"GET / /   HTTP/1.0\" 200 7074\n",
            "Invalid logline: wxs6-7.worldaccess.nl - - [02/Jul/1995:08:11:20 -0400] \"GET / /facts/facts.html HTTP/1.0\" 200 7074\n",
            "Invalid logline: s29.abqslip.indirect.com - - [02/Jul/1995:14:24:26 -0400] \"GET /htbin/wais.pl?Wake Shield HTTP/1.0\" 200 7020\n",
            "Invalid logline: pipe3.nyc.pipeline.com - - [02/Jul/1995:22:24:41 -0400] \"GET /shuttle/countdown/dy �?shuttle%20tracking HTTP/1.0\" 404 -\n",
            "Invalid logline: pipe3.nyc.pipeline.com - - [02/Jul/1995:22:25:48 -0400] \"GET /shuttle/countdown/dy �?tracking%20station HTTP/1.0\" 404 -\n",
            "Invalid logline: wxs6-4.worldaccess.nl - - [03/Jul/1995:08:14:40 -0400] \"GET / /   HTTP/1.0\" 304 0\n",
            "Invalid logline: atl4-m52.ed.ac.uk - - [03/Jul/1995:09:31:12 -0400] \"GET /images/NASA-logosmall.gif align=left HTTP/1.0\" 200 786\n",
            "Invalid logline: atl4-m52.ed.ac.uk - - [03/Jul/1995:09:32:20 -0400] \"GET /images/NASA-logosmall.gif align=left HTTP/1.0\" 200 786\n",
            "Invalid logline: atl4-m52.ed.ac.uk - - [03/Jul/1995:09:32:47 -0400] \"GET /images/NASA-logosmall.gif align=left HTTP/1.0\" 200 786\n",
            "Invalid logline: atl4-m52.ed.ac.uk - - [03/Jul/1995:09:33:50 -0400] \"GET /images/NASA-logosmall.gif align=left HTTP/1.0\" 200 786\n",
            "Invalid logline: atl4-m52.ed.ac.uk - - [03/Jul/1995:09:35:27 -0400] \"GET /images/NASA-logosmall.gif align=left HTTP/1.0\" 200 786\n",
            "Invalid logline: atl4-m52.ed.ac.uk - - [03/Jul/1995:09:36:21 -0400] \"GET /images/NASA-logosmall.gif align=left HTTP/1.0\" 200 786\n",
            "Invalid logline: atl4-m52.ed.ac.uk - - [03/Jul/1995:09:38:23 -0400] \"GET /images/NASA-logosmall.gif align=left HTTP/1.0\" 200 786\n",
            "Invalid logline: atl4-m52.ed.ac.uk - - [03/Jul/1995:09:39:10 -0400] \"GET /images/NASA-logosmall.gif align=left HTTP/1.0\" 200 786\n",
            "Invalid logline: atl4-m52.ed.ac.uk - - [03/Jul/1995:09:40:08 -0400] \"GET /images/NASA-logosmall.gif align=left HTTP/1.0\" 200 786\n",
            "Invalid logline: atl4-m52.ed.ac.uk - - [03/Jul/1995:09:44:39 -0400] \"GET /images/NASA-logosmall.gif align=left HTTP/1.0\" 200 786\n",
            "Invalid logline: atl4-m52.ed.ac.uk - - [03/Jul/1995:09:45:34 -0400] \"GET /images/NASA-logosmall.gif align=left HTTP/1.0\" 200 786\n",
            "Invalid logline: atl4-m52.ed.ac.uk - - [03/Jul/1995:09:50:04 -0400] \"GET /images/NASA-logosmall.gif align=left HTTP/1.0\" 200 786\n",
            "Invalid logline: atl4-m52.ed.ac.uk - - [03/Jul/1995:09:50:27 -0400] \"GET /images/NASA-logosmall.gif align=left HTTP/1.0\" 200 786\n",
            "Invalid logline: atl4-m52.ed.ac.uk - - [03/Jul/1995:09:52:38 -0400] \"GET /images/NASA-logosmall.gif align=left HTTP/1.0\" 200 786\n",
            "Read 314876 lines, successfully parsed 314818 lines, failed to parse 58 lines\n"
          ]
        }
      ]
    },
    {
      "cell_type": "code",
      "source": [
        "# (1c) Data Cleaning\n",
        "APACHE_ACCESS_LOG_PATTERN = (\n",
        "    r\"^([^ ]+)\" # host\n",
        "    r\" ([^ ]+)\" # client_id\n",
        "    r\" ([^ ]+)\" # user_id\n",
        "    r\" \\[([^]]*)\\]\" # date_time\n",
        "    r\" \\\"(GET|HEAD|POST)\" # method\n",
        "    r\" ([^ ]+)\" # endpoint\n",
        "    r\"(?:[ ]*[^ ]+[ ]*)*?\"\n",
        "    r\"( HTTP/(?:V|)1.0|)\" # protocol\n",
        "    r\"\\\" ([0-9]+)\" # response_code\n",
        "    r\" ([0-9]+|-)\" # content_size\n",
        "    r\"$\"\n",
        ")\n",
        "log_lines = 0\n",
        "failed_lines = 0\n",
        "with open(logFile, encoding=\"latin1\") as log_file:\n",
        "    while log_line := log_file.readline():\n",
        "        log_line = log_line[:-1]\n",
        "        m = re.search(APACHE_ACCESS_LOG_PATTERN, log_line)\n",
        "        if not m: failed_lines += 1\n",
        "        log_lines += 1\n",
        "print(log_lines, failed_lines)"
      ],
      "metadata": {
        "id": "NR-eKoKpqNuc",
        "colab": {
          "base_uri": "https://localhost:8080/"
        },
        "outputId": "92a0ab7a-380e-4e3f-8a5c-7179b9d9ceaf"
      },
      "execution_count": 7,
      "outputs": [
        {
          "output_type": "stream",
          "name": "stdout",
          "text": [
            "314876 0\n"
          ]
        }
      ]
    },
    {
      "cell_type": "code",
      "execution_count": 8,
      "metadata": {
        "id": "NkTnZ4IiaeiG",
        "colab": {
          "base_uri": "https://localhost:8080/"
        },
        "outputId": "eed7d023-437c-4ec1-f26d-42d06d811dd2"
      },
      "outputs": [
        {
          "output_type": "stream",
          "name": "stdout",
          "text": [
            "Read 314876 lines, successfully parsed 314876 lines, failed to parse 0 lines\n"
          ]
        }
      ],
      "source": [
        "parsed_logs, access_logs, failed_logs = parseLogs()"
      ]
    },
    {
      "cell_type": "code",
      "source": [
        "# (2a) Example: Content Size Statistics\n",
        "content_sizes = access_logs.map(lambda log: log.content_size).cache()\n",
        "print('Content Size Avg: %i, Min: %i, Max: %s'\n",
        "    % (content_sizes.reduce(lambda a, b : a + b) / content_sizes.count(),\n",
        "       content_sizes.min(),\n",
        "       content_sizes.max()))"
      ],
      "metadata": {
        "id": "4DnYB6LSUTZc",
        "colab": {
          "base_uri": "https://localhost:8080/"
        },
        "outputId": "4a080e58-78e6-49bf-db87-bea09c805431"
      },
      "execution_count": 9,
      "outputs": [
        {
          "output_type": "stream",
          "name": "stdout",
          "text": [
            "Content Size Avg: 23542, Min: 0, Max: 2973350\n"
          ]
        }
      ]
    },
    {
      "cell_type": "code",
      "source": [
        "# (2b) Example: Response Code Analysis\n",
        "response_code_to_count =  ( access_logs\n",
        "                            .map(lambda log: (log.response_code, 1))\n",
        "                            .reduceByKey(lambda total, count : total + count)\n",
        "                            .cache()\n",
        "                          )\n",
        "response_code_to_count_list = response_code_to_count.take(100)\n",
        "print('Found %d response codes' % len(response_code_to_count_list))\n",
        "print('Response Code Counts: %s' % response_code_to_count_list)"
      ],
      "metadata": {
        "id": "bvl77O4QXFOM",
        "colab": {
          "base_uri": "https://localhost:8080/"
        },
        "outputId": "7b23413f-6afb-4d4a-dbfd-a5939c412a31"
      },
      "execution_count": 10,
      "outputs": [
        {
          "output_type": "stream",
          "name": "stdout",
          "text": [
            "Found 7 response codes\n",
            "Response Code Counts: [(200, 283992), (304, 17842), (302, 11354), (404, 1621), (500, 53), (403, 13), (501, 1)]\n"
          ]
        }
      ]
    },
    {
      "cell_type": "code",
      "source": [
        "# (2c) Example: Response Code Graphing with matplotlib\n",
        "import matplotlib.pyplot as plt\n",
        "labels = response_code_to_count.map(lambda r: r[0]).collect()\n",
        "print(labels)\n",
        "count = access_logs.count()\n",
        "fracs = response_code_to_count.map(lambda r: (float(r[1]) / count)).collect()\n",
        "print(fracs)\n",
        "def pie_pct_format(value):\n",
        "    return '' if value < 7 else '%.0f%%' % value\n",
        "fig = plt.figure(figsize=(4.5, 4.5), facecolor='white', edgecolor='white')\n",
        "colors = ['yellowgreen', 'lightskyblue', 'gold', 'purple', 'lightcoral', 'yellow', 'black']\n",
        "explode = (0.05, 0.05, 0.1, 0, 0, 0, 0)\n",
        "patches, texts, autotexts = plt.pie(\n",
        "    fracs, labels=labels, colors=colors,\n",
        "    explode=explode, autopct=pie_pct_format,\n",
        "    shadow=False, startangle=125)\n",
        "for text, autotext in zip(texts, autotexts):\n",
        "    if autotext.get_text() == '':\n",
        "        text.set_text('') # If the slice is small to fit, don't show a text label\n",
        "plt.legend(labels, loc=(0.80, -0.1), shadow=True)\n",
        "#display(fig)"
      ],
      "metadata": {
        "id": "pe2XBYfnX31Y",
        "colab": {
          "base_uri": "https://localhost:8080/",
          "height": 473
        },
        "outputId": "b20a0044-2348-46f4-a67d-3d2a7d9d5e4a"
      },
      "execution_count": 11,
      "outputs": [
        {
          "output_type": "stream",
          "name": "stdout",
          "text": [
            "[200, 304, 302, 404, 500, 403, 501]\n",
            "[0.9019169450831438, 0.05666357550273759, 0.03605863895628755, 0.005148058283260712, 0.00016832022764516825, 4.1286093573343156e-05, 3.1758533517956276e-06]\n"
          ]
        },
        {
          "output_type": "execute_result",
          "data": {
            "text/plain": [
              "<matplotlib.legend.Legend at 0x7bfa544b9750>"
            ]
          },
          "metadata": {},
          "execution_count": 11
        },
        {
          "output_type": "display_data",
          "data": {
            "text/plain": [
              "<Figure size 450x450 with 1 Axes>"
            ],
            "image/png": "[encoded data removed]"
          },
          "metadata": {}
        }
      ]
    },
    {
      "cell_type": "code",
      "source": [
        "# (2d) Example: Frequent Hosts\n",
        "host_count_pair_tuple = access_logs.map(lambda log: (log.host, 1))\n",
        "host_sum = host_count_pair_tuple.reduceByKey(lambda a, b : a + b)\n",
        "host_more_than_10 = host_sum.filter(lambda s: s[1] > 10)\n",
        "hosts_pick_20 = host_more_than_10.map(lambda s: s[0]).take(20)\n",
        "print('Any 20 hosts that have accessed more than 10 times: %s' % hosts_pick_20)"
      ],
      "metadata": {
        "id": "ITn6PNLMbOev",
        "colab": {
          "base_uri": "https://localhost:8080/"
        },
        "outputId": "efc232a9-a027-4f6a-eceb-1f5f24aa8bb9"
      },
      "execution_count": 12,
      "outputs": [
        {
          "output_type": "stream",
          "name": "stdout",
          "text": [
            "Any 20 hosts that have accessed more than 10 times: ['j10.ptl5.jaring.my', 'freenet.edmonton.ab.ca', 'www-a1.proxy.aol.com', '129.188.154.200', 'www-d1.proxy.aol.com', 'www-b2.proxy.aol.com', 'ip109.phx.primenet.com', 'foley.ripco.com', 'remote14.compusmart.ab.ca', 'tularcitos.tularcitos.cusd.k12.ca.us', 'ppp179.iadfw.net', 'ip16-004.phx.primenet.com', 'www-d2.proxy.aol.com', 'alyssa.prodigy.com', 'gateway.ps.net', 'www-b4.proxy.aol.com', 'piweba1y.prodigy.com', 'world.std.com', '139.169.183.30', 'slip80.slip.pacifier.com']\n"
          ]
        }
      ]
    },
    {
      "cell_type": "code",
      "source": [
        "# (2e) Example: Visualizing Endpoints\n",
        "endpoints = access_logs.map(lambda log: (log.endpoint, 1)).reduceByKey(lambda a, b: a + b).cache()\n",
        "ends = endpoints.map(lambda e: e[0]).collect()\n",
        "counts = endpoints.map(lambda e: e[1]).collect()\n",
        "fig, ax = plt.subplots(figsize=(8, 4.2), facecolor='white', edgecolor='white')\n",
        "#ax.set_xticks(range(len(ends)))\n",
        "#ax.set_xticklabels(ends, rotation=45, ha=\"right\")\n",
        "ax.set_xlim([0, len(ends)])\n",
        "ax.set_ylim([0, max(counts)])\n",
        "ax.grid(True, which='major', axis='y')\n",
        "ax.set_xlabel(\"Endpoints\")\n",
        "ax.set_ylabel(\"Number of Hits\")\n",
        "ax.plot(range(len(ends)), counts, marker=\"o\", linestyle=\"-\")\n",
        "plt.show()"
      ],
      "metadata": {
        "id": "4KwWxirhdKMO",
        "colab": {
          "base_uri": "https://localhost:8080/",
          "height": 403
        },
        "outputId": "08c15523-d7dc-4111-cff6-b43cc61ce0bc"
      },
      "execution_count": 13,
      "outputs": [
        {
          "output_type": "display_data",
          "data": {
            "text/plain": [
              "<Figure size 800x420 with 1 Axes>"
            ],
            "image/png": "[encoded data removed]"
          },
          "metadata": {}
        }
      ]
    },
    {
      "cell_type": "code",
      "source": [
        "# (2f) Example: Top Endpoints\n",
        "endpoint_counts = access_logs.map(lambda log: (log.endpoint, 1)).reduceByKey(lambda a, b : a + b)\n",
        "top_endpoints = endpoint_counts.takeOrdered(10, lambda s: -1 * s[1])\n",
        "print('Top Ten Endpoints: %s' % top_endpoints)"
      ],
      "metadata": {
        "colab": {
          "base_uri": "https://localhost:8080/"
        },
        "id": "9GpZwVMlhp1b",
        "outputId": "270df19c-86c0-48e6-d338-302e39428bfb"
      },
      "execution_count": 14,
      "outputs": [
        {
          "output_type": "stream",
          "name": "stdout",
          "text": [
            "Top Ten Endpoints: [('/images/NASA-logosmall.gif', 19065), ('/images/KSC-logosmall.gif', 16502), ('/shuttle/countdown/count.gif', 12230), ('/shuttle/countdown/', 11992), ('/images/MOSAIC-logosmall.gif', 7912), ('/images/ksclogo-medium.gif', 7902), ('/images/USA-logosmall.gif', 7887), ('/images/WORLD-logosmall.gif', 7729), ('/shuttle/missions/sts-71/images/images.html', 6718), ('/shuttle/missions/sts-71/sts-71-patch-small.gif', 6628)]\n"
          ]
        }
      ]
    },
    {
      "cell_type": "code",
      "source": [
        "# (3a) Exercise: Top Ten Error Endpoints\n",
        "# What are the top ten endpoints which did not have return code 200?\n",
        "not_200 = access_logs.filter(lambda log: log.response_code != 200)\n",
        "endpoint_count_pair_tuple = not_200.map(lambda log: (log.endpoint, 1))\n",
        "endpoint_sum = endpoint_count_pair_tuple.reduceByKey(lambda acc, count: acc + count)\n",
        "top_ten_err_URLs = endpoint_sum.takeOrdered(10, lambda e: -e[1])\n",
        "print(endpoint_sum.count())\n",
        "print('Top Ten failed URLs: %s' % top_ten_err_URLs)"
      ],
      "metadata": {
        "colab": {
          "base_uri": "https://localhost:8080/"
        },
        "id": "sErH5whXivKd",
        "outputId": "b92009d6-e90d-49ab-869a-5f348fed6f25"
      },
      "execution_count": 15,
      "outputs": [
        {
          "output_type": "stream",
          "name": "stdout",
          "text": [
            "4690\n",
            "Top Ten failed URLs: [('/images/NASA-logosmall.gif', 2404), ('/images/KSC-logosmall.gif', 1806), ('/shuttle/countdown/', 944), ('/images/MOSAIC-logosmall.gif', 845), ('/images/USA-logosmall.gif', 830), ('/images/WORLD-logosmall.gif', 811), ('/shuttle/countdown/count.gif', 777), ('/images/ksclogo-medium.gif', 751), ('/shuttle/countdown/liftoff.html', 590), ('/shuttle/missions/sts-71/sts-71-patch-small.gif', 543)]\n"
          ]
        }
      ]
    },
    {
      "cell_type": "code",
      "source": [
        "# (3b) Exercise: Number of Unique Hosts\n",
        "# How many unique hosts are there in the entire log?\n",
        "hosts = access_logs.map(lambda log: (log.host, 1))\n",
        "unique_hosts = hosts.groupByKey()\n",
        "unique_hosts_count = unique_hosts.count()\n",
        "print('Unique hosts: %d' % unique_hosts_count)"
      ],
      "metadata": {
        "id": "LFbaEX3NqkTm",
        "colab": {
          "base_uri": "https://localhost:8080/"
        },
        "outputId": "7378eba2-7ef0-45b0-a2da-fdee9719331b"
      },
      "execution_count": 16,
      "outputs": [
        {
          "output_type": "stream",
          "name": "stdout",
          "text": [
            "Unique hosts: 22013\n"
          ]
        }
      ]
    },
    {
      "cell_type": "code",
      "source": [
        "# (3c) Exercise: Number of Unique Daily Hosts (using Python set())\n",
        "# How many unique hosts are there in the entire log on a day-by-day basis.\n",
        "day_to_host_pair_tuple = access_logs.map(lambda log: (log.date_time.day, {log.host}))\n",
        "day_grouped_hosts = day_to_host_pair_tuple.reduceByKey(lambda accum, value: accum.union(value))\n",
        "day_host_count = day_grouped_hosts.map(lambda x: (x[0], len(x[1])))\n",
        "daily_hosts = day_host_count\n",
        "daily_hosts.cache()\n",
        "daily_hosts_list = daily_hosts.takeOrdered(4)\n",
        "print('Unique hosts per day: %s' % daily_hosts_list)"
      ],
      "metadata": {
        "colab": {
          "base_uri": "https://localhost:8080/"
        },
        "id": "UOFoMnhjRbwM",
        "outputId": "2eff039f-0ac4-480e-d914-1f3b4547d867"
      },
      "execution_count": 17,
      "outputs": [
        {
          "output_type": "stream",
          "name": "stdout",
          "text": [
            "Unique hosts per day: [(2, 4859), (3, 7336), (4, 5524), (5, 7383)]\n"
          ]
        }
      ]
    },
    {
      "cell_type": "code",
      "source": [
        "# (3c) Exercise: Number of Unique Daily Hosts (using distinct)\n",
        "# How many unique hosts are there in the entire log on a day-by-day basis.\n",
        "unique_day_hosts = access_logs.map(lambda log: (log.date_time.day, log.host)).distinct()\n",
        "daily_host_count = unique_day_hosts.map(lambda x: (x[0], 1)).reduceByKey(lambda total, count: total + count)\n",
        "daily_host_count.cache()\n",
        "daily_hosts_list = daily_host_count.takeOrdered(4, key=lambda x: x[0])\n",
        "print('Unique hosts per day: %s' % daily_hosts_list)"
      ],
      "metadata": {
        "colab": {
          "base_uri": "https://localhost:8080/"
        },
        "id": "sA6YFoCTkEDM",
        "outputId": "1bcff310-293c-4060-c605-cb55011dd617"
      },
      "execution_count": 18,
      "outputs": [
        {
          "output_type": "stream",
          "name": "stdout",
          "text": [
            "Unique hosts per day: [(2, 4859), (3, 7336), (4, 5524), (5, 7383)]\n"
          ]
        }
      ]
    },
    {
      "cell_type": "code",
      "source": [
        "# (3d) Exercise: Visualizing the Number of Unique Daily Hosts\n",
        "days_with_hosts = daily_hosts.sortBy(lambda x: x[0]).map(lambda x: x[0]).collect()\n",
        "hosts           = daily_hosts.sortBy(lambda x: x[0]).map(lambda x: x[1]).collect()\n",
        "print(days_with_hosts)\n",
        "print(hosts)\n",
        "fig = plt.figure(figsize=(8,4.5), facecolor='white', edgecolor='white')\n",
        "plt.axis([min(days_with_hosts), max(days_with_hosts), 0, max(hosts)+500])\n",
        "plt.grid(which='major', axis='y')\n",
        "plt.xlabel('Day')\n",
        "plt.ylabel('Hosts')\n",
        "plt.plot(days_with_hosts, hosts)"
      ],
      "metadata": {
        "colab": {
          "base_uri": "https://localhost:8080/",
          "height": 481
        },
        "id": "5PmRFriAjbcP",
        "outputId": "1426af58-1df3-401a-8059-c82cb4359a48"
      },
      "execution_count": 19,
      "outputs": [
        {
          "output_type": "stream",
          "name": "stdout",
          "text": [
            "[2, 3, 4, 5]\n",
            "[4859, 7336, 5524, 7383]\n"
          ]
        },
        {
          "output_type": "execute_result",
          "data": {
            "text/plain": [
              "[<matplotlib.lines.Line2D at 0x7bfa54293b90>]"
            ]
          },
          "metadata": {},
          "execution_count": 19
        },
        {
          "output_type": "display_data",
          "data": {
            "text/plain": [
              "<Figure size 800x450 with 1 Axes>"
            ],
            "image/png": "[encoded data removed]"
          },
          "metadata": {}
        }
      ]
    },
    {
      "cell_type": "code",
      "source": [
        "# (3e) Exercise: Average Number of Daily Requests per Hosts\n",
        "day_and_host_tuple = access_logs.map(lambda log: (log.date_time.day, 1))\n",
        "grouped_by_day = day_and_host_tuple.reduceByKey(lambda acc, value: acc + value)\n",
        "sorted_by_day = grouped_by_day.join(daily_hosts).map(lambda x: (x[0], x[1][0] // x[1][1]))\n",
        "avg_daily_req_per_host = sorted_by_day.sortBy(lambda x: x[0])\n",
        "avg_daily_req_per_host.cache()\n",
        "avg_daily_req_per_host_list = avg_daily_req_per_host.collect()\n",
        "print('Average number of daily requests per Hosts is %s' % avg_daily_req_per_host_list)\n",
        "#Average number of daily requests per Hosts is [(2, 12), (3, 12), (4, 12), (5, 12)]"
      ],
      "metadata": {
        "colab": {
          "base_uri": "https://localhost:8080/"
        },
        "id": "orAWA7COE3lC",
        "outputId": "819cd348-7190-463a-aa45-e5edc8b02d18"
      },
      "execution_count": 20,
      "outputs": [
        {
          "output_type": "stream",
          "name": "stdout",
          "text": [
            "Average number of daily requests per Hosts is [(2, 12), (3, 12), (4, 12), (5, 12)]\n"
          ]
        }
      ]
    },
    {
      "cell_type": "code",
      "source": [
        "# (3f) Exercise: Visualizing the Average Daily Requests per Unique Host\n",
        "days_with_avg = avg_daily_req_per_host.sortBy(lambda x: x[0]).map(lambda x: x[0]).collect()\n",
        "avgs          = avg_daily_req_per_host.sortBy(lambda x: x[0]).map(lambda x: x[1]).collect()\n",
        "print(days_with_avg)\n",
        "#[2, 3, 4, 5]\n",
        "print(avgs)\n",
        "#[12, 12, 12, 12]\n",
        "import matplotlib.pyplot as plt\n",
        "fig = plt.figure(figsize=(8,4.2), facecolor='white', edgecolor='white')\n",
        "plt.axis([0, max(days_with_avg), 0, max(avgs)+2])\n",
        "plt.grid(True, which='major', axis='y')\n",
        "plt.xlabel('Day')\n",
        "plt.ylabel('Average')\n",
        "plt.plot(days_with_avg, avgs)"
      ],
      "metadata": {
        "id": "_YlvItNPScEO",
        "colab": {
          "base_uri": "https://localhost:8080/",
          "height": 464
        },
        "outputId": "d5030392-ae7a-4d49-b0c5-8501d9cf6242"
      },
      "execution_count": 21,
      "outputs": [
        {
          "output_type": "stream",
          "name": "stdout",
          "text": [
            "[2, 3, 4, 5]\n",
            "[12, 12, 12, 12]\n"
          ]
        },
        {
          "output_type": "execute_result",
          "data": {
            "text/plain": [
              "[<matplotlib.lines.Line2D at 0x7bfa37613490>]"
            ]
          },
          "metadata": {},
          "execution_count": 21
        },
        {
          "output_type": "display_data",
          "data": {
            "text/plain": [
              "<Figure size 800x420 with 1 Axes>"
            ],
            "image/png": "[encoded data removed]"
          },
          "metadata": {}
        }
      ]
    },
    {
      "cell_type": "code",
      "source": [
        "# (4a) Exercise: Counting 404 Response Codes\n",
        "bad_records = access_logs.filter(lambda log: log.response_code == 404)\n",
        "bad_records.cache()\n",
        "print('Found %d 404 URLs' % bad_records.count())\n",
        "#Found 1621 404 URLs"
      ],
      "metadata": {
        "colab": {
          "base_uri": "https://localhost:8080/"
        },
        "id": "3YWGqHreV3R-",
        "outputId": "5fcc6743-d15d-4f75-dd6b-ae5354e9a5b3"
      },
      "execution_count": 22,
      "outputs": [
        {
          "output_type": "stream",
          "name": "stdout",
          "text": [
            "Found 1621 404 URLs\n"
          ]
        }
      ]
    },
    {
      "cell_type": "code",
      "source": [
        "# (4b) Exercise: Listing 404 Response Code Records\n",
        "# How many 404 records are in the log?\n",
        "bad_endpoints = bad_records.map(lambda log: log.endpoint)\n",
        "bad_unique_endpoints = bad_endpoints.distinct()\n",
        "bad_unique_endpoints_pick_40 = bad_unique_endpoints.takeOrdered(40)\n",
        "print('404 URLS: %s' % bad_unique_endpoints_pick_40)\n",
        "print(len(set(bad_unique_endpoints_pick_40)))\n",
        "#40"
      ],
      "metadata": {
        "colab": {
          "base_uri": "https://localhost:8080/"
        },
        "id": "-10vKJzbW4qh",
        "outputId": "0275e7d8-0a3c-43b8-d3cc-17e9d2df13b8"
      },
      "execution_count": 23,
      "outputs": [
        {
          "output_type": "stream",
          "name": "stdout",
          "text": [
            "404 URLS: ['/%3A//spacelink.msfc.nasa.gov', '/%7Eadverts/ibm/ad1/banner.gif', '//history/apollo/apollo-13/apollo-13html', '//spacelink.msfc.nasa.gov/', '//spacelink.msfc.nasa.gov:70/00/About.Spacelink/File.Transfer.Protocols', '/11/history/apollo/images/', '/://spacelink.msfc.nasa.gov', '/:/spacelink.msfc.nasa.gov', '/DataSources/MetData.html', '/Government/Research_Labs/NASA/Kennedy_Space_Center/', '/HISTOTY/APOLLO/APOLLO-13/', '/KSC.', '/KSC.HTML', '/KSC.HTML/', '/LDAR/LDARhp.html', '/NASA_TV/NASA_TV.html', '/SDG/Experimental/demoweb/return.gif', '/SHUTTLE', '/SHUTTLE/COUNTDOWN/', '/SHUTTLE/MISSION/STS-71/IMAGES/IMAGES.HTML', '/SHUTTLE/MISSIONS/STS-71/IMAGES/IMAGES.HTML', '/Science/Space/Missions/Magellan_Mission_to_Venus/', '/Tools/Bars/Front/main_bar.gif', '/Tools/Icons/Help/hw.embossed.grey.gif', '/apollo-13.html', '/att.net/dir800/', '/bann04.gif', '/base-ops/procurement/kscbus.htm', '/bigspot.com', '/cleve.net/cnnavbar.gif', '/daily/ecs/s71e0003.jpg', '/daily/ecs/s71e0004.jpg', '/daily/esc/', '/daily/esc/s71e0001.jpg', '/de/systems.html', '/demo/', '/demos/', '/elv/DELTA/uncons.htm', '/elv/DOCS/LLV_DATE.HTM', '/elv/SCOUT/elvhead2.gif']\n",
            "40\n"
          ]
        }
      ]
    },
    {
      "cell_type": "code",
      "source": [
        "# (4c) Exercise: Listing the Top Twenty 404 Response Code Endpoints\n",
        "bad_endpoints_count_pair_tuple = bad_records.map(lambda log: (log.endpoint, 1))\n",
        "bad_endpoints_sum = bad_endpoints_count_pair_tuple.reduceByKey(lambda total, count: total + count)\n",
        "bad_endpoints_top_20 = bad_endpoints_sum.sortBy(lambda x: -x[1]).take(20)\n",
        "print('Top Twenty 404 URLs: %s' % bad_endpoints_top_20)"
      ],
      "metadata": {
        "colab": {
          "base_uri": "https://localhost:8080/"
        },
        "id": "14CQ8HLcYTQa",
        "outputId": "8670f39d-ff86-48c3-db64-33057f035c64"
      },
      "execution_count": 24,
      "outputs": [
        {
          "output_type": "stream",
          "name": "stdout",
          "text": [
            "Top Twenty 404 URLs: [('/pub/winvn/readme.txt', 84), ('/pub/winvn/release.txt', 82), ('/history/apollo/publications/sp-350/sp-350.txt~', 67), ('/shuttle/resources/orbiters/atlantis.gif', 65), ('/shuttle/missions/sts-71/images/KSC-95EC-0916.txt', 55), ('/://spacelink.msfc.nasa.gov', 47), ('/history/apollo/a-001/a-001-patch-small.gif', 46), ('/history/apollo/pad-abort-test-1/pad-abort-test-1-patch-small.gif', 44), ('/history/apollo/sa-1/sa-1-patch-small.gif', 42), ('/history/apollo/apollo-13.html', 36), ('/images/crawlerway-logo.gif', 31), ('/shuttle/missions/sts-68/ksc-upclose.gif', 29), ('/histroy/apollo-13/apollo-13.html', 20), ('/shuttle/missions/technology/sts-newsref/stsref-toc.html', 19), ('/history/apollo/sa-9/sa-9-patch-small.gif', 19), ('/shuttle/resources/orbiters/challenger.gif', 18), ('/shuttle/technology/images/tps_mods-small.gif', 14), ('/history/apollo/images/little-joe.jpg', 13), ('/history/apollo/sa-2/sa-2-patch-small.gif', 12), ('/history/apollo/pad-abort-test-1/images/', 12)]\n"
          ]
        }
      ]
    },
    {
      "cell_type": "code",
      "source": [
        "# (4d) Exercise: Listing the Top Twenty-Five 404 Response Code Hosts\n",
        "err_hosts_count_pair_tuple = bad_records.map(lambda log: (log.host, 1))\n",
        "err_hosts_sum = err_hosts_count_pair_tuple.reduceByKey(lambda total, count: total + count)\n",
        "err_hosts_top_25 = err_hosts_sum.sortBy(lambda x: -x[1]).take(25)\n",
        "print('Top 25 hosts that generated errors: %s' % err_hosts_top_25)"
      ],
      "metadata": {
        "colab": {
          "base_uri": "https://localhost:8080/"
        },
        "id": "nrxcWff_ZjDq",
        "outputId": "68d99774-01dc-48eb-9188-c0f5e77ca38f"
      },
      "execution_count": 25,
      "outputs": [
        {
          "output_type": "stream",
          "name": "stdout",
          "text": [
            "Top 25 hosts that generated errors: [('piweba3y.prodigy.com', 29), ('128.158.48.26', 26), ('espresso.sd.inri.com', 25), ('www-b6.proxy.aol.com', 22), ('ch025.chance.berkeley.edu', 17), ('ffong-sl.cc.emory.edu', 15), ('www-d4.proxy.aol.com', 15), ('alyssa.prodigy.com', 14), ('cpcug.org', 14), ('advantis.vnet.ibm.com', 13), ('sta07.oit.unc.edu', 12), ('128.158.32.107', 12), ('www-b5.proxy.aol.com', 11), ('dialup-2-89.gw.umn.edu', 11), ('www-d1.proxy.aol.com', 10), ('ten-nash.ten.k12.tn.us', 10), ('dd13-025.compuserve.com', 10), ('w20-575-4.mit.edu', 10), ('ix-bal2-14.ix.netcom.com', 9), ('disc.dna.affrc.go.jp', 9), ('wstabnow.gsfc.nasa.gov', 9), ('www-b2.proxy.aol.com', 8), ('gatekeeper.mitre.org', 8), ('www-b1.proxy.aol.com', 8), ('dawn14.cs.berkeley.edu', 8)]\n"
          ]
        }
      ]
    },
    {
      "cell_type": "code",
      "source": [
        "# (4e) Exercise: Listing 404 Response Codes per Day\n",
        "err_date_count_pair_tuple = bad_records.map(lambda log: (log.date_time.day, 1))\n",
        "err_date_sum = err_date_count_pair_tuple.reduceByKey(lambda total, count: total + count)\n",
        "err_date_sorted = err_date_sum.sortBy(lambda x: x[0])\n",
        "err_date_sorted.cache()\n",
        "err_by_date = err_date_sorted.collect()\n",
        "print('404 Errors by day: %s' % err_by_date)\n",
        "#404 Errors by day: [(2, 291), (3, 474), (4, 359), (5, 497)]"
      ],
      "metadata": {
        "colab": {
          "base_uri": "https://localhost:8080/"
        },
        "id": "BEVZEqtTbmoo",
        "outputId": "1d1be538-d7a8-4b72-cf41-4d069b900191"
      },
      "execution_count": 26,
      "outputs": [
        {
          "output_type": "stream",
          "name": "stdout",
          "text": [
            "404 Errors by day: [(2, 291), (3, 474), (4, 359), (5, 497)]\n"
          ]
        }
      ]
    },
    {
      "cell_type": "code",
      "source": [
        "# (4f) Exercise: Visualizing the 404 Response Codes by Day\n",
        "days_with_errors_404 = err_date_sorted.sortBy(lambda x: x[0]).map(lambda x: x[0]).collect()\n",
        "errors_404_by_day    = err_date_sorted.sortBy(lambda x: x[0]).map(lambda x: x[1]).collect()\n",
        "fig = plt.figure(figsize=(8,4.2), facecolor='white', edgecolor='white')\n",
        "plt.axis([0, max(days_with_errors_404), 0, max(errors_404_by_day)])\n",
        "plt.grid(True, which='major', axis='y')\n",
        "plt.xlabel('Day')\n",
        "plt.ylabel('404 Errors')\n",
        "plt.plot(days_with_errors_404, errors_404_by_day)"
      ],
      "metadata": {
        "id": "P8Z43se8dFZG",
        "colab": {
          "base_uri": "https://localhost:8080/",
          "height": 421
        },
        "outputId": "52abba85-40f8-48bb-af3a-26465f283bd9"
      },
      "execution_count": 27,
      "outputs": [
        {
          "output_type": "execute_result",
          "data": {
            "text/plain": [
              "[<matplotlib.lines.Line2D at 0x7bfa3766c8d0>]"
            ]
          },
          "metadata": {},
          "execution_count": 27
        },
        {
          "output_type": "display_data",
          "data": {
            "text/plain": [
              "<Figure size 800x420 with 1 Axes>"
            ],
            "image/png": "[encoded data removed]"
          },
          "metadata": {}
        }
      ]
    },
    {
      "cell_type": "code",
      "source": [
        "# (4g) Exercise: Hourly 404 Response Codes\n",
        "hour_count_pair_tuple = bad_records.map(lambda log: (log.date_time.hour, 1))\n",
        "hour_records_sum = hour_count_pair_tuple.reduceByKey(lambda total, count: total + count)\n",
        "hour_records_sorted = hour_records_sum.sortBy(lambda x: x[0])\n",
        "hour_records_sorted.cache()\n",
        "err_hour_list = hour_records_sorted.collect()\n",
        "print('404 Errors by hour: %s' % err_hour_list)\n",
        "#404 Errors by hour:\n",
        "#[(0, 72), (1, 77), (2, 37), (3, 30), (4, 13), (5, 22),\n",
        "#(6, 26), (7, 42), (8, 72), (9, 104), (10, 64), (11, 68),\n",
        "#(12, 69), (13, 52), (14, 98), (15, 99), (16, 121), (17, 76),\n",
        "#(18, 101), (19, 54), (20, 58), (21, 52), (22, 73), (23, 141)]"
      ],
      "metadata": {
        "colab": {
          "base_uri": "https://localhost:8080/"
        },
        "id": "B2gsYlNLeGfm",
        "outputId": "bf2e65e8-50d0-4433-f763-30e887af49fb"
      },
      "execution_count": 28,
      "outputs": [
        {
          "output_type": "stream",
          "name": "stdout",
          "text": [
            "404 Errors by hour: [(0, 72), (1, 77), (2, 37), (3, 30), (4, 13), (5, 22), (6, 26), (7, 42), (8, 72), (9, 104), (10, 64), (11, 68), (12, 69), (13, 52), (14, 98), (15, 99), (16, 121), (17, 76), (18, 101), (19, 54), (20, 58), (21, 52), (22, 73), (23, 141)]\n"
          ]
        }
      ]
    },
    {
      "cell_type": "code",
      "source": [
        "# (4h) Exercise: Visualizing the 404 Response Codes by Hour\n",
        "hours_with_errors_404 = hour_records_sorted.sortBy(lambda x: x[0]).map(lambda x: x[0]).collect()\n",
        "errors_404_by_hours   = hour_records_sorted.sortBy(lambda x: x[0]).map(lambda x: x[1]).collect()\n",
        "fig = plt.figure(figsize=(8,4.2), facecolor='white', edgecolor='white')\n",
        "plt.axis([0, max(hours_with_errors_404), 0, max(errors_404_by_hours)])\n",
        "plt.grid(True, which='major', axis='y')\n",
        "plt.xlabel('Hour')\n",
        "plt.ylabel('404 Errors')\n",
        "plt.plot(hours_with_errors_404, errors_404_by_hours)"
      ],
      "metadata": {
        "id": "h0yxGKvshB9W",
        "colab": {
          "base_uri": "https://localhost:8080/",
          "height": 424
        },
        "outputId": "a9e21081-ef33-4c50-fad7-84e96dde35ec"
      },
      "execution_count": 29,
      "outputs": [
        {
          "output_type": "execute_result",
          "data": {
            "text/plain": [
              "[<matplotlib.lines.Line2D at 0x7bfa5411c8d0>]"
            ]
          },
          "metadata": {},
          "execution_count": 29
        },
        {
          "output_type": "display_data",
          "data": {
            "text/plain": [
              "<Figure size 800x420 with 1 Axes>"
            ],
            "image/png": "[encoded data removed]"
          },
          "metadata": {}
        }
      ]
    }
  ]
}