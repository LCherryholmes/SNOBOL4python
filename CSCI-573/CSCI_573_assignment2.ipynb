{
  "nbformat": 4,
  "nbformat_minor": 0,
  "metadata": {
    "colab": {
      "provenance": []
    },
    "kernelspec": {
      "name": "python3",
      "display_name": "Python 3"
    },
    "language_info": {
      "name": "python"
    }
  },
  "cells": [
    {
      "cell_type": "code",
      "source": [
        "from pprint import pprint\n",
        "from pyspark import SparkContext\n",
        "sc = SparkContext.getOrCreate()"
      ],
      "metadata": {
        "id": "r3Mqh8LUlr4d"
      },
      "execution_count": null,
      "outputs": []
    },
    {
      "cell_type": "code",
      "source": [
        "import re\n",
        "import datetime\n",
        "from pyspark.sql import Row\n",
        "\n",
        "month_map = {\n",
        "    'Jan': 1, 'Feb': 2, 'Mar': 3, 'Apr': 4, 'May': 5, 'Jun': 6,\n",
        "    'Jul': 7, 'Aug': 8, 'Sep': 9, 'Oct': 10, 'Nov': 11, 'Dec': 12\n",
        "}\n",
        "\n",
        "def apache_time(s):\n",
        "   return datetime.datetime(\n",
        "      int(s[7:11]),\n",
        "      month_map[s[3:6]],\n",
        "      int(s[0:2]),\n",
        "      int(s[12:14]),\n",
        "      int(s[15:17]),\n",
        "      int(s[18:20]))"
      ],
      "metadata": {
        "id": "Stm3i5p1c3R4"
      },
      "execution_count": null,
      "outputs": []
    },
    {
      "cell_type": "code",
      "source": [
        "# (1a) Parsing Each Log Line\n",
        "APACHE_ACCESS_LOG_PATTERN = '^(\\S+) (\\S+) (\\S+) \\[([\\w:/]+\\s[+\\-]\\d{4})\\] \"(\\S+) (\\S+)\\s*(\\S*)\" (\\d{3}) (\\S+)'\n",
        "def parse_apache_log_line(logline):\n",
        "    match = re.search(APACHE_ACCESS_LOG_PATTERN, logline)\n",
        "    if match is None: return (logline, 0)\n",
        "    size_field = match.group(9)\n",
        "    if size_field == '-': size = int(0)\n",
        "    else: size = int(match.group(9))\n",
        "    return (Row(\n",
        "        host = match.group(1),\n",
        "        client_identd = match.group(2),\n",
        "        user_id = match.group(3),\n",
        "        date_time = apache_time(match.group(4)),\n",
        "        method = match.group(5),\n",
        "        endpoint = match.group(6),\n",
        "        protocol = match.group(7),\n",
        "        response_code = int(match.group(8)),\n",
        "        content_size = size))"
      ],
      "metadata": {
        "id": "-EGQJb_4pZ3T"
      },
      "execution_count": null,
      "outputs": []
    },
    {
      "cell_type": "code",
      "source": [
        "subject = 'atl4-m52.ed.ac.uk - - [03/Jul/1995:09:31:12 -0400] \"GET /images/NASA-logosmall.gif align=left HTTP/1.0\" 200 786'\n",
        "pprint(parse_apache_log_line(subject))\n",
        "subject = 'ip157.vivanet.com - - [02/Jul/1995:00:00:00 -0400] \"GET /images/shuttle-patch-logo.gif HTTP/1.0\" 200 891'\n",
        "pprint(parse_apache_log_line(subject))"
      ],
      "metadata": {
        "colab": {
          "base_uri": "https://localhost:8080/"
        },
        "id": "NR-eKoKpqNuc",
        "outputId": "c79d17be-7215-4719-caf0-62f5ba52b888"
      },
      "execution_count": null,
      "outputs": [
        {
          "output_type": "stream",
          "name": "stdout",
          "text": [
            "Row(host='ip157.vivanet.com', client_identd='-', user_id='-', date_time=datetime.datetime(1995, 7, 2, 0, 0), method='GET', endpoint='/images/shuttle-patch-logo.gif', protocol='HTTP/1.0', response_code=200, content_size=891)\n"
          ]
        }
      ]
    },
    {
      "cell_type": "code",
      "source": [
        "from google.colab import drive\n",
        "drive.mount('/content/modules', force_remount=True)"
      ],
      "metadata": {
        "id": "_BaQ4X-8mF4f"
      },
      "execution_count": null,
      "outputs": []
    },
    {
      "cell_type": "code",
      "source": [
        "# (1b) Configuration and Initial RDD Creation\n",
        "logFile = \"/content/modules/My Drive/NASAlog.txt\"\n",
        "def parseLogs():\n",
        "    parsed_logs = sc.textFile(logFile).map(parse_apache_log_line).cache()\n",
        "    access_logs = parsed_logs.filter(lambda s: s[1] == 1).map(lambda s: s[0]).cache()\n",
        "    failed_logs = parsed_logs.filter(lambda s: s[1] == 0).map(lambda s: s[0])\n",
        "    failed_logs_count = failed_logs.count()\n",
        "    if failed_logs_count > 0:\n",
        "        print('Number of invalid loglines: %d' % failed_logs.count())\n",
        "        for line in failed_logs.take(20):\n",
        "            print('Invalid logline: %s' % line)\n",
        "    print('Read %d lines, successfully parsed %d lines, failed to parse %d lines'\n",
        "        % (parsed_logs.count(), access_logs.count(), failed_logs.count()))\n",
        "    return parsed_logs, access_logs, failed_logs\n",
        "parsed_logs, access_logs, failed_logs = parseLogs()"
      ],
      "metadata": {
        "id": "tNNIpKgbiXvv"
      },
      "execution_count": null,
      "outputs": []
    },
    {
      "cell_type": "code",
      "execution_count": null,
      "metadata": {
        "id": "NkTnZ4IiaeiG"
      },
      "outputs": [],
      "source": [
        "# (1c) Data Cleaning\n",
        "APACHE_ACCESS_LOG_PATTERN = (\n",
        "    r\"^(?P<host>[^ ]*)\"\n",
        "    r\" (?P<client_id>[^ ]*)\"\n",
        "    r\" (?P<user_id>[^ ]*)\"\n",
        "    r\" \\[(?P<date_time>[^]]*)\\]\"\n",
        "    r\" \\\"(?P<method>GET|HEAD|POST)\"\n",
        "    r\" (?P<endpoint>.*?)\"\n",
        "    r\"(?P<protocol> HTTP/(?:V|)1.0|)\"\n",
        "    r\"\\\" (?P<response_code>[0-9]+)\"\n",
        "    r\" (?P<content_size>[0-9]+|-)\"\n",
        "    r\"$\"\n",
        ")\n",
        "def parse_apache_log_line(logline):\n",
        "    match = re.search(APACHE_ACCESS_LOG_PATTERN, logline)\n",
        "    if match is None: return (logline, 0)\n",
        "    size_field = match.groupdict()['content_size']\n",
        "    if size_field == '-': size = int(0)\n",
        "    else: size = int(size_field)\n",
        "#   response_field = match.groupdict()['response_code']\n",
        "#   if response_field is None: code = 0\n",
        "#   elif response_field == '': code = 0\n",
        "#   else: code = int(response_field)\n",
        "    return (Row(\n",
        "        host = match.groupdict()['host'],\n",
        "        client_id = match.groupdict()['client_id'],\n",
        "        user_id = match.groupdict()['user_id'],\n",
        "        date_time = apache_time(match.groupdict()['date_time']),\n",
        "        method = match.groupdict()['method'],\n",
        "        endpoint = match.groupdict()['endpoint'],\n",
        "        protocol = match.groupdict()['protocol'].strip(' '),\n",
        "        response_code = match.groupdict()['response_code'],\n",
        "        content_size = size\n",
        "        ), 1)\n",
        "parsed_logs, access_logs, failed_logs = parseLogs()"
      ]
    },
    {
      "cell_type": "code",
      "source": [],
      "metadata": {
        "colab": {
          "base_uri": "https://localhost:8080/"
        },
        "id": "Y3aGcgxRrvSV",
        "outputId": "f3316c14-6382-4269-8bb6-b1fc92ec2232"
      },
      "execution_count": null,
      "outputs": [
        {
          "output_type": "stream",
          "name": "stdout",
          "text": [
            "Read 314876 lines, successfully parsed 314876 lines, failed to parse 0 lines\n"
          ]
        }
      ]
    }
  ]
}