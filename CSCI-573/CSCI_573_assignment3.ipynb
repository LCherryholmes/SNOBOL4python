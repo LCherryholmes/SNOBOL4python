{
  "nbformat": 4,
  "nbformat_minor": 0,
  "metadata": {
    "colab": {
      "provenance": []
    },
    "kernelspec": {
      "name": "python3",
      "display_name": "Python 3"
    },
    "language_info": {
      "name": "python"
    }
  },
  "cells": [
    {
      "cell_type": "code",
      "execution_count": 1,
      "metadata": {
        "id": "kNL_cF3D9DHd",
        "colab": {
          "base_uri": "https://localhost:8080/"
        },
        "outputId": "5796663b-aa82-4e0b-f73a-af92b0086bb3"
      },
      "outputs": [
        {
          "output_type": "stream",
          "name": "stdout",
          "text": [
            "Mounted at /content/mydrive\n"
          ]
        }
      ],
      "source": [
        "import re\n",
        "import numpy as np\n",
        "import matplotlib.pyplot as plt\n",
        "from pprint import pprint\n",
        "from pyspark import SparkContext\n",
        "from google.colab import drive\n",
        "sc = SparkContext.getOrCreate()\n",
        "drive.mount('/content/mydrive', force_remount=True)"
      ]
    },
    {
      "cell_type": "code",
      "source": [
        "DATAFILE_PATTERN = '^(.+),\"(.+)\",(.*),(.*),(.*)'\n",
        "def remove_quotes(s):\n",
        "    return ''.join(i for i in s if i != '\"')"
      ],
      "metadata": {
        "id": "3COlbdb8x6-c"
      },
      "execution_count": 2,
      "outputs": []
    },
    {
      "cell_type": "code",
      "source": [
        "def parse_data_file_line(data_file_line):\n",
        "    match = re.search(DATAFILE_PATTERN, data_file_line)\n",
        "    if match is None:\n",
        "        print('Invalid datafile line: %s' % data_file_line)\n",
        "        return (data_file_line, -1)\n",
        "    elif match.group(1) == '\"id\"':\n",
        "        print('Header datafile line: %s' % data_file_line)\n",
        "        return (data_file_line, 0)\n",
        "    else:\n",
        "        product = '%s %s %s' % (match.group(2), match.group(3), match.group(4))\n",
        "        return ((remove_quotes(match.group(1)), product), 1)"
      ],
      "metadata": {
        "id": "o9V6mTY7yY9F"
      },
      "execution_count": 3,
      "outputs": []
    },
    {
      "cell_type": "code",
      "source": [
        "files = {\n",
        "  'Amazon':                 \"/content/mydrive/My Drive/CSCI-573/Amazon.csv\"\n",
        ", 'Google':                 \"/content/mydrive/My Drive/CSCI-573/Google.csv\"\n",
        ", 'Amazon_small':           \"/content/mydrive/My Drive/CSCI-573/Amazon_small.csv\"\n",
        ", 'Google_small':           \"/content/mydrive/My Drive/CSCI-573/Google_small.csv\"\n",
        ", 'gold_standard':          \"/content/mydrive/My Drive/CSCI-573/Amazon_Google_perfectMapping.csv\"\n",
        ", 'stopwords':              \"/content/mydrive/My Drive/CSCI-573/stopwords.txt\"\n",
        "}"
      ],
      "metadata": {
        "id": "39oC11jbVE9C"
      },
      "execution_count": 4,
      "outputs": []
    },
    {
      "cell_type": "code",
      "source": [
        "def parse_data(filename):\n",
        "    return sc.textFile(filename, 4, use_unicode=True).map(parse_data_file_line)"
      ],
      "metadata": {
        "id": "NjH4Pm-Y1diE"
      },
      "execution_count": 5,
      "outputs": []
    },
    {
      "cell_type": "code",
      "source": [
        "def load_data(filekey):\n",
        "    raw = parse_data(files[filekey]).cache()\n",
        "    failed = raw.filter(lambda s: s[1] == -1).map(lambda s: s[0])\n",
        "    for line in failed.take(10):\n",
        "        print('%s - Invalid datafile line: %s' % (files[filekey], line))\n",
        "    valid = raw.filter(lambda s: s[1] == 1).map(lambda s: s[0]).cache()\n",
        "    print('%s - Read %d lines, successfully parsed %d lines, failed to parse %d lines'\n",
        "        % (files[filekey], raw.count(), valid.count(), failed.count()))\n",
        "    assert(failed.count() == 0)\n",
        "    assert(raw.count() == (valid.count() + 1))\n",
        "    return valid"
      ],
      "metadata": {
        "id": "woPfYuDO1v7Z"
      },
      "execution_count": 6,
      "outputs": []
    },
    {
      "cell_type": "code",
      "source": [
        "google_small  = load_data('Google_small')\n",
        "google        = load_data('Google')\n",
        "amazon_small  = load_data('Amazon_small')\n",
        "amazon        = load_data('Amazon')"
      ],
      "metadata": {
        "colab": {
          "base_uri": "https://localhost:8080/"
        },
        "id": "Rmhxzovs2iZB",
        "outputId": "369585bb-b585-4cc2-dea2-3defc2ba66f2"
      },
      "execution_count": 7,
      "outputs": [
        {
          "output_type": "stream",
          "name": "stdout",
          "text": [
            "/content/mydrive/My Drive/CSCI-573/Google_small.csv - Read 201 lines, successfully parsed 200 lines, failed to parse 0 lines\n",
            "/content/mydrive/My Drive/CSCI-573/Google.csv - Read 3227 lines, successfully parsed 3226 lines, failed to parse 0 lines\n",
            "/content/mydrive/My Drive/CSCI-573/Amazon_small.csv - Read 201 lines, successfully parsed 200 lines, failed to parse 0 lines\n",
            "/content/mydrive/My Drive/CSCI-573/Amazon.csv - Read 1364 lines, successfully parsed 1363 lines, failed to parse 0 lines\n"
          ]
        }
      ]
    },
    {
      "cell_type": "code",
      "source": [
        "for line in google_small.take(3):\n",
        "    print('google: %s: %s\\n' % (line[0], line[1]))\n",
        "for line in amazon_small.take(3):\n",
        "    print('amazon: %s: %s\\n' % (line[0], line[1]))"
      ],
      "metadata": {
        "colab": {
          "base_uri": "https://localhost:8080/"
        },
        "id": "ajLfvLmFFf__",
        "outputId": "7cdbfe37-6608-4182-e782-a0235d977307"
      },
      "execution_count": 8,
      "outputs": [
        {
          "output_type": "stream",
          "name": "stdout",
          "text": [
            "google: http://www.google.com/base/feeds/snippets/11448761432933644608: spanish vocabulary builder \"expand your vocabulary! contains fun lessons that both teach and entertain you'll quickly find yourself mastering new terms. includes games and more!\" \n",
            "\n",
            "google: http://www.google.com/base/feeds/snippets/8175198959985911471: topics presents: museums of world \"5 cd-rom set. step behind the velvet rope to examine some of the most treasured collections of antiquities art and inventions. includes the following the louvre - virtual visit 25 rooms in full screen interactive video detailed map of the louvre ...\" \n",
            "\n",
            "google: http://www.google.com/base/feeds/snippets/18445827127704822533: sierrahome hse hallmark card studio special edition win 98 me 2000 xp \"hallmark card studio special edition (win 98 me 2000 xp)\" \"sierrahome\"\n",
            "\n",
            "amazon: b000jz4hqo: clickart 950 000 - premier image pack (dvd-rom)  \"broderbund\"\n",
            "\n",
            "amazon: b0006zf55o: ca international - arcserve lap/desktop oem 30pk \"oem arcserve backup v11.1 win 30u for laptops and desktops\" \"computer associates\"\n",
            "\n",
            "amazon: b00004tkvy: noah's ark activity center (jewel case ages 3-8)  \"victory multimedia\"\n",
            "\n"
          ]
        }
      ]
    },
    {
      "cell_type": "code",
      "source": [
        "# (1a) Tokenize a string\n",
        "quick_brown_fox = 'A quick brown fox jumps over the lazy dog.'\n",
        "split_regex = r'\\W+'\n",
        "\n",
        "def simple_tokenize(string):\n",
        "    return [w for w in re.split(split_regex, string.lower()) if w != '']\n",
        "\n",
        "print(simple_tokenize(quick_brown_fox))\n",
        "#['a', 'quick', 'brown', 'fox', 'jumps', 'over', 'the', 'lazy', 'dog']\n",
        "print(simple_tokenize(' '))\n",
        "#[]\n",
        "print(simple_tokenize('!!!!123A/456_B/789C.123A'))\n",
        "#['123a', '456_b', '789c', '123a']\n",
        "print(simple_tokenize('fox fox'))\n",
        "#['fox', 'fox']"
      ],
      "metadata": {
        "colab": {
          "base_uri": "https://localhost:8080/"
        },
        "id": "v7JoceptGyLr",
        "outputId": "5517ad96-42c7-4ca6-c61f-f90d5970ec5a"
      },
      "execution_count": 9,
      "outputs": [
        {
          "output_type": "stream",
          "name": "stdout",
          "text": [
            "['a', 'quick', 'brown', 'fox', 'jumps', 'over', 'the', 'lazy', 'dog']\n",
            "[]\n",
            "['123a', '456_b', '789c', '123a']\n",
            "['fox', 'fox']\n"
          ]
        }
      ]
    },
    {
      "cell_type": "code",
      "source": [
        "# (1b) Removing stopwords\n",
        "stopfile = files['stopwords']\n",
        "print(stopfile)\n",
        "stopwords = set(sc.textFile(stopfile, 1, use_unicode=True).collect())\n",
        "print('These are the stopwords:')\n",
        "pprint(stopwords)\n",
        "\n",
        "def tokenize(string):\n",
        "    return [w for w in re.split(split_regex, string.lower())\n",
        "               if w != '' and w not in stopwords]\n",
        "\n",
        "print(tokenize(quick_brown_fox))\n",
        "#['quick', 'brown', 'fox', 'jumps', 'lazy', 'dog']\n",
        "print(tokenize(\"Why a the?\"))\n",
        "#[]\n",
        "print(tokenize(\"Being at the_?\"))\n",
        "#['the_']"
      ],
      "metadata": {
        "colab": {
          "base_uri": "https://localhost:8080/"
        },
        "id": "6igs6taWI3Sq",
        "outputId": "08c194b7-1417-4e48-a9f0-a0180534fd44"
      },
      "execution_count": 10,
      "outputs": [
        {
          "output_type": "stream",
          "name": "stdout",
          "text": [
            "/content/mydrive/My Drive/CSCI-573/stopwords.txt\n",
            "These are the stopwords:\n",
            "{'a',\n",
            " 'about',\n",
            " 'above',\n",
            " 'after',\n",
            " 'again',\n",
            " 'against',\n",
            " 'all',\n",
            " 'am',\n",
            " 'an',\n",
            " 'and',\n",
            " 'any',\n",
            " 'are',\n",
            " 'as',\n",
            " 'at',\n",
            " 'be',\n",
            " 'because',\n",
            " 'been',\n",
            " 'before',\n",
            " 'being',\n",
            " 'below',\n",
            " 'between',\n",
            " 'both',\n",
            " 'but',\n",
            " 'by',\n",
            " 'can',\n",
            " 'did',\n",
            " 'do',\n",
            " 'does',\n",
            " 'doing',\n",
            " 'don',\n",
            " 'down',\n",
            " 'during',\n",
            " 'each',\n",
            " 'few',\n",
            " 'for',\n",
            " 'from',\n",
            " 'further',\n",
            " 'had',\n",
            " 'has',\n",
            " 'have',\n",
            " 'having',\n",
            " 'he',\n",
            " 'her',\n",
            " 'here',\n",
            " 'hers',\n",
            " 'herself',\n",
            " 'him',\n",
            " 'himself',\n",
            " 'his',\n",
            " 'how',\n",
            " 'i',\n",
            " 'if',\n",
            " 'in',\n",
            " 'into',\n",
            " 'is',\n",
            " 'it',\n",
            " 'its',\n",
            " 'itself',\n",
            " 'just',\n",
            " 'me',\n",
            " 'more',\n",
            " 'most',\n",
            " 'my',\n",
            " 'myself',\n",
            " 'no',\n",
            " 'nor',\n",
            " 'not',\n",
            " 'now',\n",
            " 'of',\n",
            " 'off',\n",
            " 'on',\n",
            " 'once',\n",
            " 'only',\n",
            " 'or',\n",
            " 'other',\n",
            " 'our',\n",
            " 'ours',\n",
            " 'ourselves',\n",
            " 'out',\n",
            " 'over',\n",
            " 'own',\n",
            " 's',\n",
            " 'same',\n",
            " 'she',\n",
            " 'should',\n",
            " 'so',\n",
            " 'some',\n",
            " 'such',\n",
            " 't',\n",
            " 'than',\n",
            " 'that',\n",
            " 'the',\n",
            " 'their',\n",
            " 'theirs',\n",
            " 'them',\n",
            " 'themselves',\n",
            " 'then',\n",
            " 'there',\n",
            " 'these',\n",
            " 'they',\n",
            " 'this',\n",
            " 'those',\n",
            " 'through',\n",
            " 'to',\n",
            " 'too',\n",
            " 'under',\n",
            " 'until',\n",
            " 'up',\n",
            " 'very',\n",
            " 'was',\n",
            " 'we',\n",
            " 'were',\n",
            " 'what',\n",
            " 'when',\n",
            " 'where',\n",
            " 'which',\n",
            " 'while',\n",
            " 'who',\n",
            " 'whom',\n",
            " 'why',\n",
            " 'will',\n",
            " 'with',\n",
            " 'you',\n",
            " 'your',\n",
            " 'yours',\n",
            " 'yourself',\n",
            " 'yourselves'}\n",
            "['quick', 'brown', 'fox', 'jumps', 'lazy', 'dog']\n",
            "[]\n",
            "['the_']\n"
          ]
        }
      ]
    },
    {
      "cell_type": "code",
      "source": [
        "# (1c) Tokenizing the Small Datasets\n",
        "# How many tokens, total, are there in the two datasets?\n",
        "amazon_rec_to_token = amazon_small.map(lambda line: (line[0], tokenize(line[1])))\n",
        "google_rec_to_token = google_small.map(lambda line: (line[0], tokenize(line[1])))\n",
        "\n",
        "def count_tokens(RDD_vendor):\n",
        "    return RDD_vendor.flatMap(lambda item: item[1]).count()\n",
        "\n",
        "totalTokens = count_tokens(amazon_rec_to_token) + count_tokens(google_rec_to_token)\n",
        "print('There are %s tokens in the combined datasets' % totalTokens)\n",
        "#There are 22520 tokens in the combined datasets"
      ],
      "metadata": {
        "colab": {
          "base_uri": "https://localhost:8080/"
        },
        "id": "o5xbp-4lLpn_",
        "outputId": "a7d84537-71ca-4bb1-9916-e9a16ef7d7d6"
      },
      "execution_count": 11,
      "outputs": [
        {
          "output_type": "stream",
          "name": "stdout",
          "text": [
            "There are 22520 tokens in the combined datasets\n"
          ]
        }
      ]
    },
    {
      "cell_type": "code",
      "source": [
        "# (1d) Amazon Record with the Most Tokens\n",
        "# Which Amazon record has the biggest number of tokens?\n",
        "def find_biggest_record(RDD_vendor):\n",
        "    return RDD_vendor.sortBy(lambda x: -len(x[1])).take(1)\n",
        "\n",
        "biggest_record_amazon = find_biggest_record(amazon_rec_to_token)\n",
        "print('The Amazon record with ID \"%s\" has the most tokens (%s)'\n",
        "     % (biggest_record_amazon[0][0], len(biggest_record_amazon[0][1])))\n",
        "#The Amazon record with ID \"b000o24l3q\" has the most tokens (1547)"
      ],
      "metadata": {
        "colab": {
          "base_uri": "https://localhost:8080/"
        },
        "id": "oGruGE1NQUYN",
        "outputId": "2d891e33-e08a-4914-c5da-5f5271f3649b"
      },
      "execution_count": 12,
      "outputs": [
        {
          "output_type": "stream",
          "name": "stdout",
          "text": [
            "The Amazon record with ID \"b000o24l3q\" has the most tokens (1547)\n"
          ]
        }
      ]
    },
    {
      "cell_type": "code",
      "source": [
        "# (2a) ) Implement a TF Function\n",
        "def tf(tokens):\n",
        "    TF = dict()\n",
        "    for token in tokens:\n",
        "        if token not in TF:\n",
        "            TF[token] = 1\n",
        "        else: TF[token] += 1\n",
        "    for token in TF:\n",
        "        TF[token] = TF[token] / len(tokens)\n",
        "    return TF\n",
        "\n",
        "pprint(tf(tokenize(quick_brown_fox)))\n",
        "#{'brown': 0.16666666666666666, 'lazy': 0.16666666666666666, 'jumps': 0.16666666666666666, 'fox':\n",
        "#0.16666666666666666, 'dog': 0.16666666666666666, 'quick': 0.16666666666666666}\n",
        "pprint(tf(tokenize('one_ one_ two!')))\n",
        "#{'two': 0.3333333333333333, 'one_': 0.6666666666666666}"
      ],
      "metadata": {
        "colab": {
          "base_uri": "https://localhost:8080/"
        },
        "id": "tdo-SVP_Y0NS",
        "outputId": "f85ce599-02b1-4862-f124-49869178bcf6"
      },
      "execution_count": 13,
      "outputs": [
        {
          "output_type": "stream",
          "name": "stdout",
          "text": [
            "{'brown': 0.16666666666666666,\n",
            " 'dog': 0.16666666666666666,\n",
            " 'fox': 0.16666666666666666,\n",
            " 'jumps': 0.16666666666666666,\n",
            " 'lazy': 0.16666666666666666,\n",
            " 'quick': 0.16666666666666666}\n",
            "{'one_': 0.6666666666666666, 'two': 0.3333333333333333}\n"
          ]
        }
      ]
    },
    {
      "cell_type": "code",
      "source": [
        "# (2b) Create a Corpus\n",
        "RDD_corpus = amazon_rec_to_token.union(google_rec_to_token)\n",
        "print(RDD_corpus.count())\n",
        "#400"
      ],
      "metadata": {
        "colab": {
          "base_uri": "https://localhost:8080/"
        },
        "id": "FgeBnuB9aand",
        "outputId": "c9799394-3ea3-44f6-fe43-57aa84ff2d28"
      },
      "execution_count": 14,
      "outputs": [
        {
          "output_type": "stream",
          "name": "stdout",
          "text": [
            "400\n"
          ]
        }
      ]
    },
    {
      "cell_type": "code",
      "source": [
        "# (2c) Implement an IDFs Function\n",
        "# How many unique tokens are there?\n",
        "def idfs(corpus):\n",
        "    N = corpus.count()\n",
        "    unique_tokens = corpus.map(lambda x: {t for t in x[1]})\n",
        "    token_count_pair_tuple = unique_tokens.flatMap(lambda s: [(t, 1) for t in s])\n",
        "    token_sum_pair_tuple = token_count_pair_tuple.reduceByKey(lambda total, count: total + count);\n",
        "    return token_sum_pair_tuple.map(lambda x: (x[0], N / x[1]))\n",
        "\n",
        "idfs_small = idfs(amazon_rec_to_token.union(google_rec_to_token))\n",
        "unique_token_count = idfs_small.count()\n",
        "print('There are %s unique tokens in the small datasets.' % unique_token_count)\n",
        "#There are 4772 unique tokens in the small datasets.\n",
        "token_smallest_idf = idfs_small.takeOrdered(1, lambda s: s[1])[0]\n",
        "print(token_smallest_idf[0])\n",
        "#software\n",
        "print(abs(token_smallest_idf[1] - 4.25531914894) < 0.0000000001)\n",
        "#True"
      ],
      "metadata": {
        "colab": {
          "base_uri": "https://localhost:8080/"
        },
        "id": "2B4x8Zqra7JL",
        "outputId": "fab9eb76-19c1-47a0-f026-e9ff2fc6ee0c"
      },
      "execution_count": 15,
      "outputs": [
        {
          "output_type": "stream",
          "name": "stdout",
          "text": [
            "There are 4772 unique tokens in the small datasets.\n",
            "software\n",
            "True\n"
          ]
        }
      ]
    },
    {
      "cell_type": "code",
      "source": [
        "# (2d) Tokens with the Smallest IDF\n",
        "small_IDF_tokens = idfs_small.takeOrdered(11, lambda s: s[1])\n",
        "pprint(small_IDF_tokens)\n",
        "#[('software', 4.25531914893617), ('new', 6.896551724137931), ('features', 6.896551724137931), ('use',\n",
        "#7.017543859649122), ('complete', 7.2727272727272725), ('easy', 7.6923076923076925), ('create',\n",
        "#8.333333333333334), ('system', 8.333333333333334), ('cd', 8.333333333333334), ('1', 8.51063829787234),\n",
        "#('windows', 8.51063829787234)]"
      ],
      "metadata": {
        "colab": {
          "base_uri": "https://localhost:8080/"
        },
        "id": "o3neUnZty0kI",
        "outputId": "bde6dcf6-d473-4ce1-c7a2-47ce3d39d62d"
      },
      "execution_count": 16,
      "outputs": [
        {
          "output_type": "stream",
          "name": "stdout",
          "text": [
            "[('software', 4.25531914893617),\n",
            " ('features', 6.896551724137931),\n",
            " ('new', 6.896551724137931),\n",
            " ('use', 7.017543859649122),\n",
            " ('complete', 7.2727272727272725),\n",
            " ('easy', 7.6923076923076925),\n",
            " ('create', 8.333333333333334),\n",
            " ('system', 8.333333333333334),\n",
            " ('cd', 8.333333333333334),\n",
            " ('1', 8.51063829787234),\n",
            " ('windows', 8.51063829787234)]\n"
          ]
        }
      ]
    },
    {
      "cell_type": "code",
      "source": [
        "# (2e) IDF Histogram\n",
        "import matplotlib.pyplot as plt\n",
        "small_idf_values = idfs_small.map(lambda s: s[1]).collect()\n",
        "fig = plt.figure(figsize=(8,3))\n",
        "plt.hist(small_idf_values, 50, log=True)\n",
        "display(fig)\n",
        "pass\n",
        "from pyspark.sql import Row\n",
        "from pyspark.sql import SQLContext\n",
        "sqlContext = SQLContext(sc)\n",
        "# Create a DataFrame and visualize using display()\n",
        "idfs_to_count_row = idfs_small.map(lambda item: Row(token=item[0], value=item[1]))\n",
        "idfs_to_count_DF = sqlContext.createDataFrame(idfs_to_count_row)\n",
        "#display(idfs_to_count_DF)"
      ],
      "metadata": {
        "colab": {
          "base_uri": "https://localhost:8080/",
          "height": 601
        },
        "id": "XGvVtXW_0byG",
        "outputId": "03873091-7ec1-4714-d4e6-204c94c55d21"
      },
      "execution_count": 17,
      "outputs": [
        {
          "output_type": "display_data",
          "data": {
            "text/plain": [
              "<Figure size 800x300 with 1 Axes>"
            ],
            "image/png": "[encoded data removed]"
          },
          "metadata": {}
        },
        {
          "output_type": "stream",
          "name": "stderr",
          "text": [
            "/usr/local/lib/python3.11/dist-packages/pyspark/sql/context.py:113: FutureWarning: Deprecated in 3.0.0. Use SparkSession.builder.getOrCreate() instead.\n",
            "  warnings.warn(\n"
          ]
        },
        {
          "output_type": "display_data",
          "data": {
            "text/plain": [
              "<Figure size 800x300 with 1 Axes>"
            ],
            "image/png": "[encoded data removed]"
          },
          "metadata": {}
        }
      ]
    },
    {
      "cell_type": "code",
      "source": [
        "# (2f) Implement a TF-IDF Function\n",
        "def tfidf(tokens, idfs):\n",
        "    tfs = tf(tokens)\n",
        "    tf_idf_dict = {t: TF * idfs[t] for t, TF in tfs.items()}\n",
        "    return tf_idf_dict\n",
        "\n",
        "recb000hkgj8k = amazon_rec_to_token.filter(lambda x: x[0] == 'b000hkgj8k').collect()[0][1]\n",
        "idfs_small_weights = idfs_small.collectAsMap()\n",
        "rec_b000hkgj8k_weights = tfidf(recb000hkgj8k, idfs_small_weights)\n",
        "print('Amazon record \"b000hkgj8k\" has tokens and weights:')\n",
        "pprint(rec_b000hkgj8k_weights)\n",
        "#Amazon record \"b000hkgj8k\" has tokens and weights:\n",
        "#{'autocad': 33.33333333333333, 'autodesk': 8.333333333333332, 'courseware': 66.66666666666666, 'psg':\n",
        "#33.33333333333333, '2007': 3.5087719298245617, 'customizing': 16.666666666666664, 'interface':\n",
        "#3.0303030303030303}"
      ],
      "metadata": {
        "colab": {
          "base_uri": "https://localhost:8080/"
        },
        "id": "w1CaACpi1l9_",
        "outputId": "22920550-9e08-4f5d-f89f-90b7676295d8"
      },
      "execution_count": 18,
      "outputs": [
        {
          "output_type": "stream",
          "name": "stdout",
          "text": [
            "Amazon record \"b000hkgj8k\" has tokens and weights:\n",
            "{'2007': 3.5087719298245617,\n",
            " 'autocad': 33.33333333333333,\n",
            " 'autodesk': 8.333333333333332,\n",
            " 'courseware': 66.66666666666666,\n",
            " 'customizing': 16.666666666666664,\n",
            " 'interface': 3.0303030303030303,\n",
            " 'psg': 33.33333333333333}\n"
          ]
        }
      ]
    },
    {
      "cell_type": "code",
      "source": [
        "import math\n",
        "\n",
        "def dotprod(a, b):\n",
        "    sum = 0.0\n",
        "    for t, at in a.items():\n",
        "        if t in b:\n",
        "            sum += at * b[t]\n",
        "    return sum\n",
        "\n",
        "def norm(a):\n",
        "    sum = 0.0\n",
        "    for t, at in a.items():\n",
        "        sum += at * at\n",
        "    return math.sqrt(sum)\n",
        "\n",
        "def cossim(a, b):\n",
        "    return dotprod(a, b) / (norm(a) * norm(b))"
      ],
      "metadata": {
        "id": "wdMpNq1qCSSW"
      },
      "execution_count": 19,
      "outputs": []
    },
    {
      "cell_type": "code",
      "source": [
        "testVec1 = {'foo': 2, 'bar': 3, 'baz': 5 }\n",
        "testVec2 = {'foo': 1, 'bar': 0, 'baz': 20 }\n",
        "dp = dotprod(testVec1, testVec2)\n",
        "nm = norm(testVec1)\n",
        "print(dp, nm)\n",
        "#102 6.16441400297"
      ],
      "metadata": {
        "colab": {
          "base_uri": "https://localhost:8080/"
        },
        "id": "l-9NbSSaNH28",
        "outputId": "038c24b1-3c1f-4182-844e-036b9179b9b1"
      },
      "execution_count": 20,
      "outputs": [
        {
          "output_type": "stream",
          "name": "stdout",
          "text": [
            "102.0 6.164414002968976\n"
          ]
        }
      ]
    },
    {
      "cell_type": "code",
      "source": [
        "# (3b) Implement a cosine_similarity Function\n",
        "def cosine_similarity(string1, string2, idfs_dictionary):\n",
        "    w1 = tfidf(tokenize(string1), idfs_small_weights)\n",
        "    w2 = tfidf(tokenize(string2), idfs_small_weights)\n",
        "    return cossim(w1, w2)\n",
        "\n",
        "cossim_Adobe = cosine_similarity('Adobe Photoshop',  'Adobe Illustrator',  idfs_small_weights)\n",
        "print(cossim_Adobe)\n",
        "#0.0577243382163"
      ],
      "metadata": {
        "colab": {
          "base_uri": "https://localhost:8080/"
        },
        "id": "YFV_k1IKOZBl",
        "outputId": "765c5a90-ce91-4601-9c47-04993b385fc5"
      },
      "execution_count": 21,
      "outputs": [
        {
          "output_type": "stream",
          "name": "stdout",
          "text": [
            "0.05772433821630337\n"
          ]
        }
      ]
    },
    {
      "cell_type": "code",
      "source": [
        "# (3c) Perform Entity Resolution\n",
        "def compute_similarity(record):\n",
        "    google_rec = record[0]\n",
        "    amazon_rec = record[1]\n",
        "    google_URL = google_rec[0]\n",
        "    amazon_ID = amazon_rec[0]\n",
        "    google_value = google_rec[1]\n",
        "    amazon_value = amazon_rec[1]\n",
        "    cs = cosine_similarity(google_value, amazon_value, idfs_small_weights)\n",
        "    return (google_URL, amazon_ID, cs)\n",
        "\n",
        "cross_small = google_small.cartesian(amazon_small).cache()\n",
        "similarities = cross_small.map(lambda item: compute_similarity(item)).cache()\n",
        "\n",
        "def similar(amazon_ID, google_URL):\n",
        "    return (similarities\n",
        "           .filter(lambda record: (record[0] == google_URL and record[1] == amazon_ID))\n",
        "           .collect()[0][2])\n",
        "\n",
        "similarity_amazon_google = similar('b000o24l3q', 'http://www.google.com/base/feeds/snippets/17242822440574356561')\n",
        "print('Requested similarity is %s.' % similarity_amazon_google)\n",
        "#Requested similarity is 0.000303171940451."
      ],
      "metadata": {
        "colab": {
          "base_uri": "https://localhost:8080/"
        },
        "id": "4Q28BjsiTZMx",
        "outputId": "f28b9d0c-ce51-4f8b-8cdc-fb24aec5efb1"
      },
      "execution_count": 22,
      "outputs": [
        {
          "output_type": "stream",
          "name": "stdout",
          "text": [
            "Requested similarity is 0.00030317194045132.\n"
          ]
        }
      ]
    },
    {
      "cell_type": "code",
      "source": [
        "# (3d) Perform Entity Resolution with Broadcast Variables\n",
        "def compute_similarity_broadcast(record):\n",
        "    google_rec = record[0]\n",
        "    amazon_rec = record[1]\n",
        "    google_URL = google_rec[0]\n",
        "    amazon_ID = amazon_rec[0]\n",
        "    google_value = google_rec[1]\n",
        "    amazon_value = amazon_rec[1]\n",
        "    cs = cosine_similarity(google_value, amazon_value, idfs_small_broadcast.value)\n",
        "    return (google_URL, amazon_ID, cs)\n",
        "\n",
        "idfs_small_broadcast = sc.broadcast(idfs_small_weights)\n",
        "similarities_broadcast = cross_small.map(lambda item: compute_similarity(item)).cache()\n",
        "\n",
        "def similar_broadcast(amazonID, googleURL):\n",
        "    return (similarities_broadcast\n",
        "           .filter(lambda record: (record[0] == googleURL and record[1] == amazonID))\n",
        "           .collect()[0][2])\n",
        "\n",
        "similarity_amazon_google_broadcast = similar_broadcast('b000o24l3q', 'http://www.google.com/base/feeds/snippets/17242822440574356561')\n",
        "print('Requested similarity is %s.' % similarity_amazon_google_broadcast)\n",
        "#Requested similarity is 0.000303171940451.\n",
        "print(len(idfs_small_broadcast.value))\n",
        "#4772"
      ],
      "metadata": {
        "colab": {
          "base_uri": "https://localhost:8080/"
        },
        "id": "3H3Mc5DXfRoR",
        "outputId": "da7e7022-f0a7-4fb4-faf6-81ace93faaed"
      },
      "execution_count": 23,
      "outputs": [
        {
          "output_type": "stream",
          "name": "stdout",
          "text": [
            "Requested similarity is 0.00030317194045132.\n",
            "4772\n"
          ]
        }
      ]
    },
    {
      "cell_type": "code",
      "source": [
        "# (3e) Perform a Gold Standard Evaluation\n",
        "# How many true duplicate pairs are there in the small datasets?\n",
        "# What is the average similarity score for true duplicates?\n",
        "# What about for non-duplicates?\n",
        "GOLDFILE_PATTERN = '^(.+),(.+)'\n",
        "def parse_goldfile_line(goldfile_line):\n",
        "    match = re.search(GOLDFILE_PATTERN, goldfile_line)\n",
        "    if match is None:\n",
        "        print('Invalid goldfile line: %s' % goldfile_line)\n",
        "        return (goldfile_line, -1)\n",
        "    elif match.group(1) == '\"idAmazon\"':\n",
        "        print('Header datafile line: %s' % goldfile_line)\n",
        "        return (goldfile_line, 0)\n",
        "    else:\n",
        "        key = '%s %s' % (remove_quotes(match.group(1)), remove_quotes(match.group(2)))\n",
        "        return ((key, 'gold'), 1)\n",
        "\n",
        "goldfile = files['gold_standard']\n",
        "gs_raw = sc.textFile(goldfile).map(parse_goldfile_line).cache()\n",
        "gs_failed = gs_raw.filter(lambda s: s[1] == -1).map(lambda s: s[0])\n",
        "for line in gs_failed.take(10):\n",
        "    print('Invalid goldfile line: %s' % line)\n",
        "gold_standard = gs_raw.filter(lambda s: s[1] == 1).map(lambda s: s[0]).cache()\n",
        "print('Read %d lines, successfully parsed %d lines, failed to parse %d lines'\n",
        "     % (gs_raw.count(), gold_standard.count(),  gs_failed.count()))\n",
        "assert (gs_failed.count() == 0)\n",
        "assert (gs_raw.count() == (gold_standard.count() + 1))\n",
        "#Read 1301 lines, successfully parsed 1300 lines, failed to parse 0 lines"
      ],
      "metadata": {
        "colab": {
          "base_uri": "https://localhost:8080/"
        },
        "id": "y20YUqVzjk74",
        "outputId": "ebe9a92c-09cc-4549-8838-305ab4d860b4"
      },
      "execution_count": 24,
      "outputs": [
        {
          "output_type": "stream",
          "name": "stdout",
          "text": [
            "Read 1301 lines, successfully parsed 1300 lines, failed to parse 0 lines\n"
          ]
        }
      ]
    },
    {
      "cell_type": "code",
      "source": [
        "sims = similarities_broadcast.map(lambda item: (item[1] + \" \" + item[0], item[2]))\n",
        "RDD_true_dups = sims.join(gold_standard).map(lambda item: (item[0], item[1][0]))\n",
        "true_dups_count = RDD_true_dups.count()\n",
        "avg_sim_dups = RDD_true_dups.map(lambda item: item[1]) \\\n",
        "                            .reduce(lambda total, count: total + count) / true_dups_count\n",
        "RDD_non_dups = sims.leftOuterJoin(gold_standard) \\\n",
        "                   .filter(lambda item: item[1][1] is None) \\\n",
        "                   .map(lambda item: (item[0], item[1][0]))\n",
        "non_dups_count = RDD_non_dups.count()\n",
        "avg_sim_non = RDD_non_dups.map(lambda item: item[1]) \\\n",
        "                          .reduce(lambda total, count: total + count) / non_dups_count\n",
        "print('There are %s true duplicates.' % true_dups_count)\n",
        "print('There are %s non duplicates.' % non_dups_count)\n",
        "#There are 146 true duplicates.\n",
        "print('The average similarity of true duplicates is %s.' % avg_sim_dups)\n",
        "#The average similarity of true duplicates is 0.264332573435.\n",
        "print('And for non duplicates, it is %s.' % avg_sim_non)\n",
        "#And for non duplicates, it is 0.00123476304656."
      ],
      "metadata": {
        "colab": {
          "base_uri": "https://localhost:8080/"
        },
        "id": "he9UANrfmOi6",
        "outputId": "88a66a51-392a-41b3-f6a1-04475ee0cc52"
      },
      "execution_count": 25,
      "outputs": [
        {
          "output_type": "stream",
          "name": "stdout",
          "text": [
            "There are 146 true duplicates.\n",
            "There are 39854 non duplicates.\n",
            "The average similarity of true duplicates is 0.26433257343519145.\n",
            "And for non duplicates, it is 0.0012347630465555245.\n"
          ]
        }
      ]
    }
  ]
}