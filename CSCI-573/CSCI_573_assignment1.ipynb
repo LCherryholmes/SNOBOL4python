{
  "nbformat": 4,
  "nbformat_minor": 0,
  "metadata": {
    "colab": {
      "provenance": []
    },
    "kernelspec": {
      "name": "python3",
      "display_name": "Python 3"
    },
    "language_info": {
      "name": "python"
    }
  },
  "cells": [
    {
      "cell_type": "markdown",
      "source": [
        "Word Count Assignment: Building a word count application\n",
        "\n",
        "The volume of unstructured text in existence is growing dramatically, and Spark is an excellent tool for analyzing this type of data. In this assignment, we will write code that calculates the most common words in the Complete Works of William Shakespeare retrieved from Project Gutenberg.\n",
        "\n",
        "This could also be scaled to find the most common words in Wikipedia. During this assignment we will cover:\n",
        "* Part 1: Creating a base RDD and pair RDDs\n",
        "* Part 2: Counting with pair RDDs\n",
        "* Part 3: Finding unique words and a mean value\n",
        "* Part 4: Apply word count to a file"
      ],
      "metadata": {
        "id": "lTVNCkwSb8f1"
      }
    },
    {
      "cell_type": "markdown",
      "source": [
        "Part 1: Creating a base RDD and pair RDDs\n",
        "\n",
        "In this part of the lab, we will explore creating a base RDD with parallelize and using pair RDDs to count words.\n",
        "\n",
        "(1a) Create a base RDD\n",
        "* We'll start by generating a base RDD by using a Python list and the sc.parallelize method.\n",
        "* Then we'll print out the type of the base RDD"
      ],
      "metadata": {
        "id": "2TcOJdX1L3GC"
      }
    },
    {
      "cell_type": "code",
      "execution_count": 1,
      "metadata": {
        "id": "5zEotYG_LJUq",
        "colab": {
          "base_uri": "https://localhost:8080/"
        },
        "outputId": "5afcfeb0-34e4-4e39-dfb3-3010c0c07af8"
      },
      "outputs": [
        {
          "output_type": "stream",
          "name": "stdout",
          "text": [
            "<SparkContext master=local[*] appName=pyspark-shell>\n"
          ]
        }
      ],
      "source": [
        "#!pip install pyspark\n",
        "from pprint import pprint\n",
        "from pyspark import SparkContext\n",
        "sc = SparkContext.getOrCreate()\n",
        "pprint(sc)"
      ]
    },
    {
      "cell_type": "code",
      "source": [
        "words_list = ['cat', 'elephant', 'rat', 'rat', 'cat']\n",
        "RDD_words = sc.parallelize(words_list, 4)\n",
        "pprint(type(RDD_words))"
      ],
      "metadata": {
        "id": "sjopChS2NE9H",
        "colab": {
          "base_uri": "https://localhost:8080/"
        },
        "outputId": "a18dea3b-6b95-40bf-e1ec-dde0a30a5746"
      },
      "execution_count": 2,
      "outputs": [
        {
          "output_type": "stream",
          "name": "stdout",
          "text": [
            "<class 'pyspark.rdd.RDD'>\n"
          ]
        }
      ]
    },
    {
      "cell_type": "markdown",
      "source": [
        "(1b) Pluralize and test\n",
        "\n",
        "Let's use a map() transformation to add the letter 's' to each string in the base RDD we just created. We'll define a Python function that returns the word with an 's' at the end of the word. Please replace **\\<FILL IN>** with your solution.\n",
        "\n",
        "Exercises will include an explanation of what is expected, followed by codes where they will have one or more **\\<FILL IN\\>** sections. The code that needs to be modified will have # TODO: Replace **\\<FILL IN\\>** with appropriate code on its first line."
      ],
      "metadata": {
        "id": "ixw5ZW7AYEuO"
      }
    },
    {
      "cell_type": "code",
      "source": [
        "def make_plural(word): return f'{word}s'\n",
        "pprint(make_plural('cat'))"
      ],
      "metadata": {
        "id": "-ZL6_DWvWwei",
        "colab": {
          "base_uri": "https://localhost:8080/"
        },
        "outputId": "7664a84f-44d8-4293-e52e-79bec39d2cff"
      },
      "execution_count": 3,
      "outputs": [
        {
          "output_type": "stream",
          "name": "stdout",
          "text": [
            "'cats'\n"
          ]
        }
      ]
    },
    {
      "cell_type": "markdown",
      "source": [
        "(1c) Apply make_plural to the base RDD\n",
        "\n",
        "Now pass each item in the base RDD into a map() transformation that applies the make_plural() function to each element. And then call the collect() action to see the transformed RDD."
      ],
      "metadata": {
        "id": "pCwtx5vQWw7r"
      }
    },
    {
      "cell_type": "code",
      "source": [
        "RDD_plural = RDD_words.map(make_plural)\n",
        "pprint(RDD_plural.collect())"
      ],
      "metadata": {
        "id": "S87wwL30X9KH",
        "colab": {
          "base_uri": "https://localhost:8080/"
        },
        "outputId": "27ff5624-f122-42da-933f-6f8832133572"
      },
      "execution_count": 4,
      "outputs": [
        {
          "output_type": "stream",
          "name": "stdout",
          "text": [
            "['cats', 'elephants', 'rats', 'rats', 'cats']\n"
          ]
        }
      ]
    },
    {
      "cell_type": "markdown",
      "source": [
        "(1d) Pass a lambda function to map\n",
        "\n",
        "Let's create the same RDD using a lambda function.\n",
        "\n",
        "* RDD_plural_lambda = RDD_words.map(lambda **\\<FILL IN\\>**)\n",
        "* print(RDD_plural_lambda.collect())\n",
        "* ['cats', 'elephants', 'rats', 'rats', 'cats']"
      ],
      "metadata": {
        "id": "_LKXkxnpYooG"
      }
    },
    {
      "cell_type": "code",
      "source": [
        "RDD_plural_lambda = RDD_words.map(lambda word: f'{word}s')\n",
        "pprint(RDD_plural_lambda.collect())"
      ],
      "metadata": {
        "id": "VN273Ov5ZZxs",
        "colab": {
          "base_uri": "https://localhost:8080/"
        },
        "outputId": "4d9cc5d7-2725-4c4a-ccf0-b644651d81e3"
      },
      "execution_count": 5,
      "outputs": [
        {
          "output_type": "stream",
          "name": "stdout",
          "text": [
            "['cats', 'elephants', 'rats', 'rats', 'cats']\n"
          ]
        }
      ]
    },
    {
      "cell_type": "markdown",
      "source": [
        "(1e) Length of each word\n",
        "\n",
        "Now use map() and a lambda function to return the number of characters in each word. We'll collect this result directly into a variable.\n",
        "\n",
        "* plural_lengths = RDD_plural **\\<FILL IN\\>**.collect()\n",
        "* print(plural_lengths)\n",
        "* [4, 9, 4, 4, 4]"
      ],
      "metadata": {
        "id": "Te7qZIMCaNo2"
      }
    },
    {
      "cell_type": "code",
      "source": [
        "plural_lengths = RDD_plural.map(lambda word: len(word)).collect()\n",
        "pprint(plural_lengths)"
      ],
      "metadata": {
        "id": "7_sjADj5axMv",
        "colab": {
          "base_uri": "https://localhost:8080/"
        },
        "outputId": "90532e98-e0fd-41ee-d56c-c83691b1a8cd"
      },
      "execution_count": 6,
      "outputs": [
        {
          "output_type": "stream",
          "name": "stdout",
          "text": [
            "[4, 9, 4, 4, 4]\n"
          ]
        }
      ]
    },
    {
      "cell_type": "markdown",
      "source": [
        "(1f) Pair RDDs\n",
        "\n",
        "The next step in writing our word counting program is to create a new type of RDD, called a pair RDD. A pair RDD is an RDD where each element is a pair tuple (k, v) where k is the key and v is the value. In this example, we will create a pair consisting of ('\\<word\\>', 1) for each word element in the RDD. We can create the pair RDD using the map() transformation with a lambda() function to\n",
        "create a new RDD.\n",
        "\n",
        "* word_pairs = RDD_words.**\\<FILL IN\\>**\n",
        "* print(word_pairs.collect())\n",
        "* [('cat', 1), ('elephant', 1), ('rat', 1), ('rat', 1), ('cat', 1)"
      ],
      "metadata": {
        "id": "Paiw22m5cB_F"
      }
    },
    {
      "cell_type": "code",
      "source": [
        "word_pairs = RDD_words.map(lambda word: (word, 1))\n",
        "pprint(word_pairs.collect())"
      ],
      "metadata": {
        "id": "vLBxO8gpbE5h",
        "colab": {
          "base_uri": "https://localhost:8080/"
        },
        "outputId": "e1bff01a-a543-4020-8c49-e53421a702d6"
      },
      "execution_count": 7,
      "outputs": [
        {
          "output_type": "stream",
          "name": "stdout",
          "text": [
            "[('cat', 1), ('elephant', 1), ('rat', 1), ('rat', 1), ('cat', 1)]\n"
          ]
        }
      ]
    },
    {
      "cell_type": "markdown",
      "source": [
        "Part 2: Counting with pair RDDs\n",
        "\n",
        "Now, let's count the number of times a particular word appears in the RDD. There are multiple ways to perform the counting, but some are much less efficient than others.\n",
        "\n",
        "A naive approach would be to collect() all of the elements and count them in the driver program. While this approach could work for small datasets, we want an approach that will work for any size dataset including terabyte- or petabyte-sized datasets. In addition, performing all of the work in the\n",
        "driver program is slower than performing it in parallel in the workers. For these reasons, we will use data parallel operations."
      ],
      "metadata": {
        "id": "LcGf_raIdrVH"
      }
    },
    {
      "cell_type": "markdown",
      "source": [
        "(2a) groupByKey() approach\n",
        "\n",
        "An approach you might first consider (we'll see shortly that there are better ways) is based on using the groupByKey() transformation. As the name implies, the groupByKey() transformation groups all the elements of the RDD with the same key into a single list in one of the partitions.\n",
        "\n",
        "There are two problems with using groupByKey():\n",
        "* The operation requires a lot of data movement to move all the values into the appropriate\n",
        "partitions.\n",
        "* The lists can be very large. Consider a word count of English Wikipedia: the lists for common words (e.g., the, a, etc.) would be huge and could exhaust the available memory in a worker.\n",
        "\n",
        "Use groupByKey() to generate a pair RDD of type ('word', iterator).\n",
        "\n",
        "* words_grouped = word_pairs.**\\<FILL IN\\>**\n",
        "* for key, value in words_grouped.collect():\n",
        "** print '{0}: {1}'.format(key, list(value))\n",
        "* rat: [1, 1]\n",
        "* elephant: [1]\n",
        "* cat: [1, 1]\n",
        "* sorted(words_grouped.mapValues(lambda x: list(x)).collect())\n",
        "* [('cat', [1, 1]), ('elephant', [1]), ('rat', [1, 1])]"
      ],
      "metadata": {
        "id": "H56Tqr9rgckM"
      }
    },
    {
      "cell_type": "code",
      "source": [
        "words_grouped = word_pairs.groupByKey()\n",
        "for key, value in words_grouped.collect():\n",
        "    print('{0}: {1}'.format(key, list(value)))\n",
        "sorted(words_grouped.mapValues(lambda x: list(x)).collect())"
      ],
      "metadata": {
        "id": "nP6ol5KjhIkz",
        "colab": {
          "base_uri": "https://localhost:8080/"
        },
        "outputId": "712534c4-f3bc-449b-a3bc-f46307da6b2a"
      },
      "execution_count": 8,
      "outputs": [
        {
          "output_type": "stream",
          "name": "stdout",
          "text": [
            "elephant: [1]\n",
            "rat: [1, 1]\n",
            "cat: [1, 1]\n"
          ]
        },
        {
          "output_type": "execute_result",
          "data": {
            "text/plain": [
              "[('cat', [1, 1]), ('elephant', [1]), ('rat', [1, 1])]"
            ]
          },
          "metadata": {},
          "execution_count": 8
        }
      ]
    },
    {
      "cell_type": "markdown",
      "source": [
        "(2b) Use groupByKey() to obtain the counts\n",
        "\n",
        "Using the groupByKey() transformation creates an RDD containing 3 elements, each of which is a pair of a word and a Python iterator. Now sum the iterator using a map() transformation. The result should be a pair RDD consisting of (word, count) pairs.\n",
        "\n",
        "* word_counts_grouped = words_grouped.**\\<FILL IN\\>**\n",
        "* print(word_counts_grouped.collect())\n",
        "* [('rat', 2), ('elephant', 1), ('cat', 2)]"
      ],
      "metadata": {
        "id": "mc-dP_kyiQd6"
      }
    },
    {
      "cell_type": "code",
      "source": [
        "word_counts_grouped = words_grouped.map(lambda item: (item[0], sum(item[1])))\n",
        "pprint(word_counts_grouped.collect())"
      ],
      "metadata": {
        "id": "P587P_hvjkpc",
        "colab": {
          "base_uri": "https://localhost:8080/"
        },
        "outputId": "a87e0381-474c-44c4-8c40-1bd38dbaf8cc"
      },
      "execution_count": 9,
      "outputs": [
        {
          "output_type": "stream",
          "name": "stdout",
          "text": [
            "[('elephant', 1), ('rat', 2), ('cat', 2)]\n"
          ]
        }
      ]
    },
    {
      "cell_type": "markdown",
      "source": [
        "(2c) Counting using reduceByKey\n",
        "\n",
        "A better approach is to start from the pair RDD and then use the reduceByKey() transformation to create a new pair RDD. The reduceByKey() transformation gathers together pairs that have the same key and applies the function provided to two values at a time, iteratively reducing all of the values to a single value. reduceByKey() operates by applying the function first within each partition on a per-key basis and then across the partitions, allowing it to scale efficiently to large datasets.\n",
        "\n",
        "* \\# reduceByKey takes a function that accepts two values and returns a single value\n",
        "* word_counts = word_pairs.reduceByKey(**\\<FILL IN\\>**)\n",
        "* print(word_counts.collect())\n",
        "* [('rat', 2), ('elephant', 1), ('cat', 2)]"
      ],
      "metadata": {
        "id": "nw9OAuDIlUvq"
      }
    },
    {
      "cell_type": "code",
      "source": [
        "word_counts = word_pairs.reduceByKey(lambda acc, value: acc + value)\n",
        "pprint(word_counts.collect())"
      ],
      "metadata": {
        "id": "5wN-pMj8l2KG",
        "colab": {
          "base_uri": "https://localhost:8080/"
        },
        "outputId": "caaa83de-e4f5-4647-a383-335bdc8582e8"
      },
      "execution_count": 10,
      "outputs": [
        {
          "output_type": "stream",
          "name": "stdout",
          "text": [
            "[('elephant', 1), ('rat', 2), ('cat', 2)]\n"
          ]
        }
      ]
    },
    {
      "cell_type": "markdown",
      "source": [
        "(2d) All together\n",
        "\n",
        "The expert version of the code performs the map() to pair RDD, reduceByKey() transformation, and collect in one statement.\n",
        "\n",
        "* word_counts_collected = (RDD_words**\\<FILL IN\\>**.collect())\n",
        "* print(word_counts_collected)\n",
        "* [('rat', 2), ('elephant', 1), ('cat', 2)]\n",
        "* sorted(word_counts_collected)\n",
        "* [('cat', 2), ('elephant', 1), ('rat', 2)]"
      ],
      "metadata": {
        "id": "eFzTadrEnlNy"
      }
    },
    {
      "cell_type": "code",
      "source": [
        "word_counts_collected = ( # First solution\n",
        "    RDD_words\n",
        "    .map(lambda word: (word, 1))\n",
        "    .groupByKey()\n",
        "    .map(lambda item: (item[0], sum(item[1])))\n",
        "    .collect()\n",
        ")\n",
        "pprint(word_counts_collected)\n",
        "pprint(sorted(word_counts_collected))\n",
        "print()\n",
        "word_counts_collected = ( # Second solution\n",
        "    RDD_words\n",
        "    .map(lambda word: (word, 1))\n",
        "    .reduceByKey(lambda acc, value: acc + value)\n",
        "    .collect()\n",
        ")\n",
        "pprint(word_counts_collected)\n",
        "pprint(sorted(word_counts_collected))"
      ],
      "metadata": {
        "id": "JcLi0z9OniJd",
        "colab": {
          "base_uri": "https://localhost:8080/"
        },
        "outputId": "4645bee5-b2fc-4dbc-86e8-fcd79b864723"
      },
      "execution_count": 11,
      "outputs": [
        {
          "output_type": "stream",
          "name": "stdout",
          "text": [
            "[('elephant', 1), ('rat', 2), ('cat', 2)]\n",
            "[('cat', 2), ('elephant', 1), ('rat', 2)]\n",
            "\n",
            "[('elephant', 1), ('rat', 2), ('cat', 2)]\n",
            "[('cat', 2), ('elephant', 1), ('rat', 2)]\n"
          ]
        }
      ]
    },
    {
      "cell_type": "markdown",
      "source": [
        "Part 3: Finding unique words and a mean value\n",
        "\n",
        "(3a) Unique words\n",
        "\n",
        "Calculate the number of unique words in RDD_words. You can use other RDDs that you have already created to make this easier.\n",
        "\n",
        "* unique_words = **\\<FILL IN\\>**\n",
        "* print(unique_words)\n",
        "* 3"
      ],
      "metadata": {
        "id": "sBiQuk57qMnZ"
      }
    },
    {
      "cell_type": "code",
      "source": [
        "unique_words = len(\n",
        "    RDD_words\n",
        "    .map(lambda word: (word, 1))\n",
        "    .reduceByKey(lambda acc, value: acc + value)\n",
        "    .map(lambda item: item[0])\n",
        "    .collect()\n",
        ")\n",
        "pprint(unique_words)"
      ],
      "metadata": {
        "id": "KfdiOveMrWcd",
        "colab": {
          "base_uri": "https://localhost:8080/"
        },
        "outputId": "2f1bed74-a122-4470-ea50-605f1f7982d9"
      },
      "execution_count": 12,
      "outputs": [
        {
          "output_type": "stream",
          "name": "stdout",
          "text": [
            "3\n"
          ]
        }
      ]
    },
    {
      "cell_type": "markdown",
      "source": [
        "(3b) Mean using reduce\n",
        "\n",
        "  Find the mean number of words per unique word in word_counts. Use a reduce() action to sum the counts in word_counts and then divide by the number of unique words. First map() the pair RDD word_counts, which consists of (key, value) pairs, to an RDD of values.\n",
        ">\n",
        "\n",
        "* from operator import add\n",
        "* total_count = (\n",
        "* * word_counts\n",
        "* * .map(**\\<FILL IN\\>**)\n",
        "* * .reduce(**\\<FILL IN\\>**))\n",
        "* average = total_count / float(**\\<FILL IN\\>**)\n",
        "* print(total_count)\n",
        "* 5\n",
        "* print(round(average, 2))\n",
        "* 1.67"
      ],
      "metadata": {
        "id": "9LlkXKBEt8_a"
      }
    },
    {
      "cell_type": "code",
      "source": [
        "from operator import add\n",
        "total_count = (\n",
        "    word_counts\n",
        "    .map(lambda item: item[1])\n",
        "    .reduce(lambda acc, value: acc + value))\n",
        "average = total_count / float(unique_words)\n",
        "pprint(total_count)\n",
        "pprint(round(average, 2))"
      ],
      "metadata": {
        "id": "rhyrAJ1Wut3Q",
        "colab": {
          "base_uri": "https://localhost:8080/"
        },
        "outputId": "df7ce8af-d1ac-434d-b26d-db6473a77a88"
      },
      "execution_count": 13,
      "outputs": [
        {
          "output_type": "stream",
          "name": "stdout",
          "text": [
            "5\n",
            "1.67\n"
          ]
        }
      ]
    },
    {
      "cell_type": "markdown",
      "source": [
        "Part 4: Apply word count to a file\n",
        "\n",
        "In this section we will finish developing our word count application. We'll have to build the word_count function, deal with real world problems like capitalization and punctuation, load in our data source, and compute the word count on the new data."
      ],
      "metadata": {
        "id": "tGwImhySxwEW"
      }
    },
    {
      "cell_type": "markdown",
      "source": [
        "(4a) word_count function\n",
        "\n",
        "First, define a function for word counting. You should reuse the techniques that have been covered in earlier parts of this assignment. This function should take in an RDD that is a list of words like RDD_words and return a pair RDD that has all of the words and their associated counts.\n",
        "\n",
        "* Creates a pair RDD with word counts from an RDD of words.\n",
        "* Args: RDD_word_list (RDD of str): An RDD consisting of words.\n",
        "* Returns: RDD of (str, int): An RDD consisting of (word, count) tuples.\n",
        "\n",
        "* def word_count(RDD_word_list):\n",
        "* *   **\\<FILL IN\\>**\n",
        "* print word_count(RDD_words).collect()\n",
        "* [(‘rat', 2), ('elephant', 1), ('cat', 2)]"
      ],
      "metadata": {
        "id": "37jwC5Cmyrj0"
      }
    },
    {
      "cell_type": "code",
      "source": [
        "def word_count(RDD_word_list):\n",
        "    return RDD_word_list.map(lambda w: (w, 1)).reduceByKey(lambda a, v: a + v)\n",
        "pprint(word_count(RDD_words).collect())"
      ],
      "metadata": {
        "id": "KuqSc3h-00Sy",
        "colab": {
          "base_uri": "https://localhost:8080/"
        },
        "outputId": "1b9c1003-c875-4e6b-a34b-b2f6e14d8493"
      },
      "execution_count": 14,
      "outputs": [
        {
          "output_type": "stream",
          "name": "stdout",
          "text": [
            "[('elephant', 1), ('rat', 2), ('cat', 2)]\n"
          ]
        }
      ]
    },
    {
      "cell_type": "markdown",
      "source": [
        "(4b) Capitalization and punctuation\n",
        "\n",
        "Real world files are more complicated than the data we have been using here. Some of the issues we have to address are:\n",
        "* Words should be counted independent of their capitalization (e.g., Spark and spark should be\n",
        "counted as the same word).\n",
        "* All punctuation should be removed.\n",
        "* Any leading or trailing spaces on a line should be removed.\n",
        "\n",
        "Define the function remove_punctuation that converts all text to lower case, removes any punctuation, and removes leading and trailing spaces. Use the Python re module to remove any text that is not a letter, number, or space. Reading help(re.sub) might be useful. If you are unfamiliar with regular expressions, you may want to review this tutorial from Google. Also, this website is a great resource for debugging your regular expression.\n",
        "\n",
        "Removes punctuation, changes to lower case, and strips leading and trailing spaces.\n",
        "Note: Only spaces, letters, and numbers should be retained. Other characters should be eliminated (e.g. it's becomes its). Leading and trailing spaces should be removed after punctuation is removed. Args: text (str): A string. Returns: str: The cleaned up string.\n",
        "\n",
        "* import re\n",
        "* def remove_punctuation(text):\n",
        "* * **\\<FILL IN\\>**\n",
        "* print(remove_punctuation('Hi, you!'))\n",
        "* hi you\n",
        "* print(remove_punctuation(' No under_score!'))\n",
        "* no underscore\n",
        "* print(remove_punctuation(' * Remove punctuation then spaces * '))\n",
        "* remove punctuation then spaces"
      ],
      "metadata": {
        "id": "ZR0zbd5d1lx2"
      }
    },
    {
      "cell_type": "code",
      "source": [
        "import re\n",
        "def remove_punctuation(text):\n",
        "    return re.sub(r'[^\\w\\s]', '', text) \\\n",
        "             .strip() \\\n",
        "             .lower() \\\n",
        "             .replace('_', '')\n",
        "pprint(remove_punctuation('Hi, you!'))\n",
        "pprint(remove_punctuation(' No under_score!'))\n",
        "pprint(remove_punctuation(' * Remove punctuation then spaces * '))"
      ],
      "metadata": {
        "id": "6MKtSLU73SU-",
        "colab": {
          "base_uri": "https://localhost:8080/"
        },
        "outputId": "b91e03b2-0478-4f1c-80ee-e110cda74c9b"
      },
      "execution_count": 15,
      "outputs": [
        {
          "output_type": "stream",
          "name": "stdout",
          "text": [
            "'hi you'\n",
            "'no underscore'\n",
            "'remove punctuation then spaces'\n"
          ]
        }
      ]
    },
    {
      "cell_type": "markdown",
      "source": [
        "(4c) Load a text file\n",
        "\n",
        "  For the next part of this assignment, we will use the Complete Works of William Shakespeare from Project Gutenberg. To convert a text file into an RDD, we use the SparkContext.textFile() method. We also apply the recently defined remove_punctuation() function using a map() transformation to strip out the punctuation and change all text to lower case. Download shakespeare.txt file and store it in your Spark directory. Since the file is large we use take(15), so that we only print 15 lines.\n",
        "\n",
        "* file_name = \"shakespeare.txt\"\n",
        "* RDD_shakespeare = (\n",
        "* *   sc.textFile(file_name, 8)\n",
        "* *   .map(remove_punctuation))\n",
        "* print('\\n'.join(\n",
        "* *   RDD_shakespeare\n",
        "* *   .zipWithIndex() # to (line, line_num)\n",
        "* *   .map(lambda (l, num): '{0}: {1}'.format(num, l)) # to 'line_num: line'\n",
        "* *   .take(15))\n"
      ],
      "metadata": {
        "id": "x1KObm7T7A7X"
      }
    },
    {
      "cell_type": "code",
      "source": [
        "from google.colab import drive\n",
        "drive.mount('/content/modules', force_remount=True)"
      ],
      "metadata": {
        "id": "85FQzHzD-Tbu",
        "colab": {
          "base_uri": "https://localhost:8080/"
        },
        "outputId": "94d6acf5-03fe-47dc-9893-faf06f0d5aaa"
      },
      "execution_count": 16,
      "outputs": [
        {
          "output_type": "stream",
          "name": "stdout",
          "text": [
            "Mounted at /content/modules\n"
          ]
        }
      ]
    },
    {
      "cell_type": "code",
      "source": [
        "file_name = \"/content/modules/My Drive/shakespeare.txt\"\n",
        "RDD_shakespeare = sc.textFile(file_name, 8).map(remove_punctuation)\n",
        "print(\n",
        "    '\\n'.join(\n",
        "        RDD_shakespeare\n",
        "        .zipWithIndex() # to (line, line_num)\n",
        "        .map(lambda item: '{0}: {1}'.format(item[1], item[0])) # to 'line_num: line'\n",
        "        .take(15)))"
      ],
      "metadata": {
        "id": "vqDZ8Ntj9CXu",
        "colab": {
          "base_uri": "https://localhost:8080/"
        },
        "outputId": "e7db1d9d-daee-4c3d-af3b-af70967c7e27"
      },
      "execution_count": 17,
      "outputs": [
        {
          "output_type": "stream",
          "name": "stdout",
          "text": [
            "0: this is the 100th etext file presented by project gutenberg and\n",
            "1: is presented in cooperation with world library inc from their\n",
            "2: library of the future and shakespeare cdroms  project gutenberg\n",
            "3: often releases etexts that are not placed in the public domain\n",
            "4: \n",
            "5: shakespeare\n",
            "6: \n",
            "7: this etext has certain copyright implications you should read\n",
            "8: \n",
            "9: this electronic version of the complete works of william\n",
            "10: shakespeare is copyright 19901993 by world library inc and is\n",
            "11: provided by project gutenberg etext of illinois benedictine college\n",
            "12: with permission  electronic and machine readable copies may be\n",
            "13: distributed so long as such copies 1 are for your or others\n",
            "14: personal use only and 2 are not distributed or used\n"
          ]
        }
      ]
    },
    {
      "cell_type": "markdown",
      "source": [
        "(4d) Words from lines\n",
        "\n",
        "Before we can use the word_count() function, we have to address two issues with the format of the RDD: The first issue is that that we need to split each line by its spaces. Performed in (4d). The second issue is we need to filter out empty lines. Performed in (4e).\n",
        "\n",
        "Apply a transformation that will split each element of the RDD by its spaces. For each element of the RDD, you should apply Python's string split() function. You might think that a map() transformation is the way to do this, but think about what the result of the split() function will be.\n",
        "\n",
        "Note: Do not use the default implemenation of split(), but pass in a separator value. For example, to split line by commas you would use line.split(',').\n",
        "\n",
        "* RDD_shakespeare_words = RDD_shakespeare.**\\<FILL_IN\\>**\n",
        "* shakespeare_word_count = RDD_shakespeare_words.count()\n",
        "* print(RDD_shakespeare_words.top(5))\n",
        "* [u'zwaggerd', u'zounds', u'zounds', u'zounds', u'zounds']\n",
        "* print(shakespeare_word_count)\n",
        "* 946354"
      ],
      "metadata": {
        "id": "6QlD5p0eA8yR"
      }
    },
    {
      "cell_type": "code",
      "source": [
        "RDD_shakespeare_words = RDD_shakespeare.flatMap(lambda item: item.split(' '))\n",
        "shakespeare_word_count = RDD_shakespeare_words.count()\n",
        "pprint(RDD_shakespeare_words.top(5))\n",
        "[u'zwaggerd', u'zounds', u'zounds', u'zounds', u'zounds']\n",
        "pprint(shakespeare_word_count)"
      ],
      "metadata": {
        "id": "8Yjucex49I9G",
        "colab": {
          "base_uri": "https://localhost:8080/"
        },
        "outputId": "8cdf51fc-a770-4dd2-9f3f-2395681bd474"
      },
      "execution_count": 18,
      "outputs": [
        {
          "output_type": "stream",
          "name": "stdout",
          "text": [
            "['zwaggerd', 'zounds', 'zounds', 'zounds', 'zounds']\n",
            "946354\n"
          ]
        }
      ]
    },
    {
      "cell_type": "markdown",
      "source": [
        "(4e) Remove empty elements\n",
        "The next step is to filter out the empty elements. Remove all entries where the word is ' '.\n",
        "\n",
        "* RDD_shake_words = RDD_shakespeare_words.**\\<FILL_IN\\>**\n",
        "* shake_word_count = RDD_shake_words.count()\n",
        "* print(shake_word_count)\n",
        "* 901109"
      ],
      "metadata": {
        "id": "yJwVsETBCCQP"
      }
    },
    {
      "cell_type": "code",
      "source": [
        "RDD_shake_words = RDD_shakespeare_words.filter(lambda item: item != '')\n",
        "shake_word_count = RDD_shake_words.count()\n",
        "pprint(shake_word_count)"
      ],
      "metadata": {
        "id": "8mVJlkrSCE43",
        "colab": {
          "base_uri": "https://localhost:8080/"
        },
        "outputId": "befd914b-c7f4-43de-99a8-23d88d88dc72"
      },
      "execution_count": 19,
      "outputs": [
        {
          "output_type": "stream",
          "name": "stdout",
          "text": [
            "901109\n"
          ]
        }
      ]
    },
    {
      "cell_type": "markdown",
      "source": [
        "(4f) Count the words\n",
        "\n",
        "We now have an RDD that is only words. Next, let's apply the word_count() function to produce a list of word counts. We can view the top 15 words by using the takeOrdered() action; however, since the elements of the RDD are pairs, we need a custom sort function that sorts using the value part of the pair.\n",
        "\n",
        "You'll notice that many of the words are common English words. These are called stopwords. In a later assignment, we will see how to eliminate them from the results. Use the word_count() function and takeOrdered() to obtain the fifteen most common words and their counts.\n",
        "\n",
        "* top_15_words_and_counts = **\\<FILL IN\\>**\n",
        "* print('\\n'.join(map(lambda (w, c): '{0}: {1}'.format(w, c), top_15_words_and_counts)))\n",
        "* the: 27645\n",
        "* and: 26733\n",
        "* i: 20683\n",
        "* to: 19198\n",
        "* of: 18180\n",
        "* a: 14613\n",
        "* you: 13650\n",
        "* my: 12480\n",
        "* that: 11122\n",
        "* in: 10967\n",
        "* is: 9598\n",
        "* not: 8725\n",
        "* for: 8245\n",
        "* with: 7996\n",
        "* me: 7768"
      ],
      "metadata": {
        "id": "DhC3tNekCFrj"
      }
    },
    {
      "cell_type": "code",
      "source": [
        "top_15_words_and_counts = word_count(RDD_shake_words).takeOrdered(15, lambda item: -item[1])\n",
        "pprint('\\n'.join(map(lambda item: '{0}: {1}'.format(item[0], item[1]), top_15_words_and_counts)))"
      ],
      "metadata": {
        "id": "c8pA7fJjHqax",
        "colab": {
          "base_uri": "https://localhost:8080/"
        },
        "outputId": "ad8fc88c-e9de-455c-ce23-efbe736107e8"
      },
      "execution_count": 20,
      "outputs": [
        {
          "output_type": "stream",
          "name": "stdout",
          "text": [
            "('the: 27645\\n'\n",
            " 'and: 26733\\n'\n",
            " 'i: 20683\\n'\n",
            " 'to: 19198\\n'\n",
            " 'of: 18180\\n'\n",
            " 'a: 14613\\n'\n",
            " 'you: 13650\\n'\n",
            " 'my: 12480\\n'\n",
            " 'that: 11122\\n'\n",
            " 'in: 10967\\n'\n",
            " 'is: 9598\\n'\n",
            " 'not: 8725\\n'\n",
            " 'for: 8245\\n'\n",
            " 'with: 7996\\n'\n",
            " 'me: 7768')\n"
          ]
        }
      ]
    }
  ]
}