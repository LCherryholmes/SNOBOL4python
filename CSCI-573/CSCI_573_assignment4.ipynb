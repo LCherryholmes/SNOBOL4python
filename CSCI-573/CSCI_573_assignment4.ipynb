{
  "nbformat": 4,
  "nbformat_minor": 0,
  "metadata": {
    "colab": {
      "provenance": []
    },
    "kernelspec": {
      "name": "python3",
      "display_name": "Python 3"
    },
    "language_info": {
      "name": "python"
    }
  },
  "cells": [
    {
      "cell_type": "code",
      "execution_count": 1,
      "metadata": {
        "colab": {
          "base_uri": "https://localhost:8080/"
        },
        "id": "mT9eYD6et20w",
        "outputId": "c5536b3a-d856-48d5-aee9-5bf027502518"
      },
      "outputs": [
        {
          "output_type": "stream",
          "name": "stdout",
          "text": [
            "Mounted at /content/mydrive\n"
          ]
        }
      ],
      "source": [
        "import re\n",
        "import numpy as np\n",
        "import matplotlib.pyplot as plt\n",
        "from pprint import pprint\n",
        "from pyspark import SparkContext\n",
        "from google.colab import drive\n",
        "sc = SparkContext.getOrCreate()\n",
        "drive.mount('/content/mydrive', force_remount=True)"
      ]
    },
    {
      "cell_type": "code",
      "source": [
        "DATAFILE_PATTERN = '^(.+),\"(.+)\",(.*),(.*),(.*)'\n",
        "def remove_quotes(s):\n",
        "    return ''.join(i for i in s if i != '\"')"
      ],
      "metadata": {
        "id": "xSOtoppcvD1k"
      },
      "execution_count": 2,
      "outputs": []
    },
    {
      "cell_type": "code",
      "source": [
        "def parse_data_file_line(data_file_line):\n",
        "    match = re.search(DATAFILE_PATTERN, data_file_line)\n",
        "    if match is None:\n",
        "        print('Invalid datafile line: %s' % data_file_line)\n",
        "        return (data_file_line, -1)\n",
        "    elif match.group(1) == '\"id\"':\n",
        "        print('Header datafile line: %s' % data_file_line)\n",
        "        return (data_file_line, 0)\n",
        "    else:\n",
        "        product = '%s %s %s' % (match.group(2), match.group(3), match.group(4))\n",
        "        return ((remove_quotes(match.group(1)), product), 1)"
      ],
      "metadata": {
        "id": "Si3rUMTAvBXq"
      },
      "execution_count": 3,
      "outputs": []
    },
    {
      "cell_type": "code",
      "source": [
        "files = {\n",
        "  'Amazon':                 \"/content/mydrive/My Drive/CSCI-573/Amazon.csv\"\n",
        ", 'Google':                 \"/content/mydrive/My Drive/CSCI-573/Google.csv\"\n",
        ", 'stopwords':              \"/content/mydrive/My Drive/CSCI-573/stopwords.txt\"\n",
        ", 'gold_standard':          \"/content/mydrive/My Drive/CSCI-573/Amazon_Google_perfectMapping.csv\"\n",
        "}"
      ],
      "metadata": {
        "id": "B9Nbpl-Puin4"
      },
      "execution_count": 4,
      "outputs": []
    },
    {
      "cell_type": "code",
      "source": [
        "def parse_data(filename):\n",
        "    return sc.textFile(filename, 4, use_unicode=True).map(parse_data_file_line)"
      ],
      "metadata": {
        "id": "SL7472ndu6-W"
      },
      "execution_count": 5,
      "outputs": []
    },
    {
      "cell_type": "code",
      "source": [
        "def load_data(filekey):\n",
        "    raw = parse_data(files[filekey]).cache()\n",
        "    failed = raw.filter(lambda s: s[1] == -1).map(lambda s: s[0])\n",
        "    for line in failed.take(10):\n",
        "        print('%s - Invalid datafile line: %s' % (files[filekey], line))\n",
        "    valid = raw.filter(lambda s: s[1] == 1).map(lambda s: s[0]).cache()\n",
        "    print('%s - Read %d lines, successfully parsed %d lines, failed to parse %d lines'\n",
        "        % (files[filekey], raw.count(), valid.count(), failed.count()))\n",
        "    assert(failed.count() == 0)\n",
        "    assert(raw.count() == (valid.count() + 1))\n",
        "    return valid"
      ],
      "metadata": {
        "id": "OMlDAbkSu0fC"
      },
      "execution_count": 6,
      "outputs": []
    },
    {
      "cell_type": "code",
      "source": [
        "google = load_data('Google')\n",
        "amazon = load_data('Amazon')"
      ],
      "metadata": {
        "colab": {
          "base_uri": "https://localhost:8080/"
        },
        "id": "XSE76jGguv02",
        "outputId": "53f9d719-1904-405c-8f03-a21b6b9dc4ab"
      },
      "execution_count": 7,
      "outputs": [
        {
          "output_type": "stream",
          "name": "stdout",
          "text": [
            "/content/mydrive/My Drive/CSCI-573/Google.csv - Read 3227 lines, successfully parsed 3226 lines, failed to parse 0 lines\n",
            "/content/mydrive/My Drive/CSCI-573/Amazon.csv - Read 1364 lines, successfully parsed 1363 lines, failed to parse 0 lines\n"
          ]
        }
      ]
    },
    {
      "cell_type": "code",
      "source": [
        "# (1a) Tokenize a string\n",
        "# (1b) Removing stopwords\n",
        "split_regex = r'\\W+'\n",
        "stopwords = set(sc.textFile(files['stopwords'], 1, use_unicode=True).collect())\n",
        "\n",
        "def tokenize(string):\n",
        "    return [w for w in re.split(split_regex, string.lower())\n",
        "               if w != '' and w not in stopwords]"
      ],
      "metadata": {
        "id": "DZCGyFj8wUh3"
      },
      "execution_count": 8,
      "outputs": []
    },
    {
      "cell_type": "code",
      "source": [
        "# (4a) Tokenize the full dataset\n",
        "amazon_full_rec_to_token = amazon.map(lambda line: (line[0], tokenize(line[1])))\n",
        "google_full_rec_to_token = google.map(lambda line: (line[0], tokenize(line[1])))\n",
        "print('Amazon full dataset is %s products, Google full dataset is %s products'\n",
        "    % (amazon_full_rec_to_token.count(), google_full_rec_to_token.count()))\n",
        "# Amazon full dataset is 1363 products, Google full dataset is 3226 products"
      ],
      "metadata": {
        "colab": {
          "base_uri": "https://localhost:8080/"
        },
        "id": "EKkxKDcft8gK",
        "outputId": "d7db1f23-7095-4b3a-c7c9-a7b6fb18db19"
      },
      "execution_count": 9,
      "outputs": [
        {
          "output_type": "stream",
          "name": "stdout",
          "text": [
            "Amazon full dataset is 1363 products, Google full dataset is 3226 products\n"
          ]
        }
      ]
    },
    {
      "cell_type": "code",
      "source": [
        "# (2a) Implement a TF Function\n",
        "def tf(tokens):\n",
        "    TF = dict()\n",
        "    for token in tokens:\n",
        "        if token not in TF:\n",
        "            TF[token] = 1\n",
        "        else: TF[token] += 1\n",
        "    for token in TF:\n",
        "        TF[token] = TF[token] / len(tokens)\n",
        "    return TF"
      ],
      "metadata": {
        "id": "67Vk9Y6mzWTU"
      },
      "execution_count": 10,
      "outputs": []
    },
    {
      "cell_type": "code",
      "source": [
        "# (2c) Implement an IDFs Function\n",
        "def idfs(corpus):\n",
        "    N = corpus.count()\n",
        "    unique_tokens = corpus.map(lambda x: {t for t in x[1]})\n",
        "    token_count_pair_tuple = unique_tokens.flatMap(lambda s: [(t, 1) for t in s])\n",
        "    token_sum_pair_tuple = token_count_pair_tuple.reduceByKey(lambda total, count: total + count);\n",
        "    return token_sum_pair_tuple.map(lambda x: (x[0], N / x[1]))"
      ],
      "metadata": {
        "id": "tKuHRx1zyBAN"
      },
      "execution_count": 11,
      "outputs": []
    },
    {
      "cell_type": "code",
      "source": [
        "# (2f) Implement a TF-IDF Function\n",
        "def tfidf(tokens, idfs):\n",
        "    tfs = tf(tokens)\n",
        "    tf_idf_dict = {t: TF * idfs[t] for t, TF in tfs.items()}\n",
        "    return tf_idf_dict"
      ],
      "metadata": {
        "id": "_jwVmo4czEi2"
      },
      "execution_count": 12,
      "outputs": []
    },
    {
      "cell_type": "code",
      "source": [
        "# (4b) Compute IDFs and TF-IDFs for the full datasets\n",
        "RDD_full_corpus = amazon_full_rec_to_token.union(google_full_rec_to_token)\n",
        "idfs_full = idfs(RDD_full_corpus)\n",
        "idfs_full_count = idfs_full.count()\n",
        "print('There are %s unique tokens in the full datasets.' % idfs_full_count)\n",
        "# There are 17078 unique tokens in the full datasets.\n",
        "# Recompute IDFs for full dataset\n",
        "idfs_full_weights = idfs_full.collectAsMap()\n",
        "idfs_full_broadcast = sc.broadcast(idfs_full_weights)\n",
        "# Pre-compute TF-IDF weights. Build mappings from record ID weight vector.\n",
        "RDD_amazon_weights = amazon_full_rec_to_token.map(lambda x: (x[0], tfidf(x[1], idfs_full_weights)))\n",
        "RDD_google_weights = google_full_rec_to_token.map(lambda x: (x[0], tfidf(x[1], idfs_full_weights)))\n",
        "print('There are %s Amazon weights and %s Google weights.'\n",
        "      % (RDD_amazon_weights.count(), RDD_google_weights.count()))\n",
        "# There are 1363 Amazon weights and 3226 Google weights."
      ],
      "metadata": {
        "colab": {
          "base_uri": "https://localhost:8080/"
        },
        "id": "hqbTbOjEw7Yb",
        "outputId": "8e3dd48f-835e-4e46-cd90-c3b030a04bac"
      },
      "execution_count": 13,
      "outputs": [
        {
          "output_type": "stream",
          "name": "stdout",
          "text": [
            "There are 17078 unique tokens in the full datasets.\n",
            "There are 1363 Amazon weights and 3226 Google weights.\n"
          ]
        }
      ]
    },
    {
      "cell_type": "code",
      "source": [
        "import math\n",
        "def dotprod(a, b):\n",
        "    sum = 0.0\n",
        "    for t, at in a.items():\n",
        "        if t in b:\n",
        "            sum += at * b[t]\n",
        "    return sum\n",
        "def norm(a):\n",
        "    sum = 0.0\n",
        "    for t, at in a.items():\n",
        "        sum += at * at\n",
        "    return math.sqrt(sum)\n",
        "def cossim(a, b):\n",
        "    return dotprod(a, b) / (norm(a) * norm(b))"
      ],
      "metadata": {
        "id": "HjQy1X8t6Ht6"
      },
      "execution_count": 14,
      "outputs": []
    },
    {
      "cell_type": "markdown",
      "source": [],
      "metadata": {
        "id": "YaJeMZuRRQHI"
      }
    },
    {
      "cell_type": "code",
      "source": [
        "# (4c) Compute Norms for the weights from the full datasets\n",
        "amazon_norms = RDD_amazon_weights.map(lambda x: (x[0], norm(x[1]))).collectAsMap()\n",
        "amazon_norms_broadcast = sc.broadcast(amazon_norms)\n",
        "google_norms = RDD_google_weights.map(lambda x: (x[0], norm(x[1]))).collectAsMap()\n",
        "google_norms_broadcast = sc.broadcast(google_norms)\n",
        "print(len(amazon_norms_broadcast.value))\n",
        "#1363\n",
        "print(len(google_norms_broadcast.value))\n",
        "#3226"
      ],
      "metadata": {
        "colab": {
          "base_uri": "https://localhost:8080/"
        },
        "id": "yXTcdHH45DO_",
        "outputId": "61a3d87c-6ab2-402c-cc08-967aa312a836"
      },
      "execution_count": 15,
      "outputs": [
        {
          "output_type": "stream",
          "name": "stdout",
          "text": [
            "1363\n",
            "3226\n"
          ]
        }
      ]
    },
    {
      "cell_type": "code",
      "source": [
        "# (4d) Create inverted indicies from the full datasets\n",
        "def invert(record):\n",
        "    return [(k, record[0]) for k in record[1].keys()]\n",
        "print(invert((1, {'foo': 2, 'bar': 3})))\n",
        "#[('foo', 1), ('bar', 1)]\n",
        "RDD_amazon_inv_pairs = RDD_amazon_weights.flatMap(lambda x: invert(x)).cache()\n",
        "RDD_google_inv_pairs = RDD_google_weights.flatMap(lambda x: invert(x)).cache()\n",
        "print('There are %s Amazon inverted pairs and %s Google inverted pairs.'\n",
        "     % (RDD_amazon_inv_pairs.count(), RDD_google_inv_pairs.count()))\n",
        "#There are 111387 Amazon inverted pairs and 77678 Google inverted pairs."
      ],
      "metadata": {
        "colab": {
          "base_uri": "https://localhost:8080/"
        },
        "id": "XwHVz6qW9qdX",
        "outputId": "1f8d03c1-04a0-4add-bd44-99f2a88e56c6"
      },
      "execution_count": 16,
      "outputs": [
        {
          "output_type": "stream",
          "name": "stdout",
          "text": [
            "[('foo', 1), ('bar', 1)]\n",
            "There are 111387 Amazon inverted pairs and 77678 Google inverted pairs.\n"
          ]
        }
      ]
    },
    {
      "cell_type": "code",
      "source": [
        "# (4e) Identify common tokens from the full dataset\n",
        "from pyspark.rdd import portable_hash\n",
        "def swap(record): return (record[1], record[0])\n",
        "common_tokens = ( RDD_amazon_inv_pairs #.partitionBy(64, lambda k: portable_hash(k[0]))\n",
        "                  .join(RDD_google_inv_pairs) #.partitionBy(64, lambda k: portable_hash(k[0]))\n",
        "                  .map(lambda x: swap(x))\n",
        "                  .groupByKey()\n",
        "                  .cache()\n",
        "                )\n",
        "print('Found %d common tokens' % common_tokens.count())\n",
        "#Found 2441100 common tokens"
      ],
      "metadata": {
        "colab": {
          "base_uri": "https://localhost:8080/"
        },
        "id": "fR8zwGdoA1YI",
        "outputId": "6572063c-3a01-42cc-cee5-d309b9e579b4"
      },
      "execution_count": 17,
      "outputs": [
        {
          "output_type": "stream",
          "name": "stdout",
          "text": [
            "Found 2441100 common tokens\n"
          ]
        }
      ]
    },
    {
      "cell_type": "code",
      "source": [
        "# (4f) Identify common tokens from the full dataset (cont.)\n",
        "amazon_weights_broadcast = sc.broadcast(RDD_amazon_weights.collectAsMap())\n",
        "google_weights_broadcast = sc.broadcast(RDD_google_weights.collectAsMap())\n",
        "def fast_cosine_similarity(record):\n",
        "    amazon_rec = record[0][0]\n",
        "    google_rec = record[0][1]\n",
        "    tokens = record[1]\n",
        "    value = 0.0\n",
        "    for token in tokens:\n",
        "        value +=  ( amazon_weights_broadcast.value[amazon_rec][token]\n",
        "                  * google_weights_broadcast.value[google_rec][token]\n",
        "                  )\n",
        "    value /= amazon_norms_broadcast.value[amazon_rec]\n",
        "    value /= google_norms_broadcast.value[google_rec]\n",
        "    key = (amazon_rec, google_rec)\n",
        "    return (key, value)\n",
        "RDD_similarities_full = common_tokens.map(lambda x: fast_cosine_similarity(x)).cache()\n",
        "pprint(RDD_similarities_full.count())\n",
        "#2441100\n",
        "similarity_test = RDD_similarities_full.filter(\n",
        "    lambda x: x[0][0] == 'b00005lzly'\n",
        "          and x[0][1] == 'http://www.google.com/base/feeds/snippets/13823221823254120257'\n",
        ").collect()\n",
        "pprint(similarity_test)\n",
        "#[(('b00005lzly', 'http://www.google.com/base/feeds/snippets/13823221823254120257'), 4.286548413995203e-06)]"
      ],
      "metadata": {
        "colab": {
          "base_uri": "https://localhost:8080/"
        },
        "id": "iEoS3kZxKfvN",
        "outputId": "76bc3977-6877-442e-fd52-205ee2d04dac"
      },
      "execution_count": 18,
      "outputs": [
        {
          "output_type": "stream",
          "name": "stdout",
          "text": [
            "2441100\n",
            "[(('b00005lzly',\n",
            "   'http://www.google.com/base/feeds/snippets/13823221823254120257'),\n",
            "  4.2865484139952024e-06)]\n"
          ]
        }
      ]
    },
    {
      "cell_type": "code",
      "source": [
        "# (3e) Perform a Gold Standard Evaluation\n",
        "GOLDFILE_PATTERN = '^(.+),(.+)'\n",
        "def parse_goldfile_line(goldfile_line):\n",
        "    match = re.search(GOLDFILE_PATTERN, goldfile_line)\n",
        "    if match is None:\n",
        "        print('Invalid goldfile line: %s' % goldfile_line)\n",
        "        return (goldfile_line, -1)\n",
        "    elif match.group(1) == '\"idAmazon\"':\n",
        "        print('Header datafile line: %s' % goldfile_line)\n",
        "        return (goldfile_line, 0)\n",
        "    else:\n",
        "        key = '%s %s' % (remove_quotes(match.group(1)), remove_quotes(match.group(2)))\n",
        "        return ((key, 'gold'), 1)\n",
        "\n",
        "goldfile = files['gold_standard']\n",
        "gs_raw = sc.textFile(goldfile).map(parse_goldfile_line).cache()\n",
        "gs_failed = gs_raw.filter(lambda s: s[1] == -1).map(lambda s: s[0])\n",
        "for line in gs_failed.take(10):\n",
        "    print('Invalid goldfile line: %s' % line)\n",
        "gold_standard = gs_raw.filter(lambda s: s[1] == 1).map(lambda s: s[0]).cache()\n",
        "print('Read %d lines, successfully parsed %d lines, failed to parse %d lines'\n",
        "     % (gs_raw.count(), gold_standard.count(),  gs_failed.count()))\n",
        "assert (gs_failed.count() == 0)\n",
        "assert (gs_raw.count() == (gold_standard.count() + 1))\n",
        "#Read 1301 lines, successfully parsed 1300 lines, failed to parse 0 lines"
      ],
      "metadata": {
        "colab": {
          "base_uri": "https://localhost:8080/"
        },
        "id": "-rzVhr4vW_gt",
        "outputId": "e68478f6-7785-4c8a-c36b-d77f5ba68fd3"
      },
      "execution_count": 19,
      "outputs": [
        {
          "output_type": "stream",
          "name": "stdout",
          "text": [
            "Read 1301 lines, successfully parsed 1300 lines, failed to parse 0 lines\n"
          ]
        }
      ]
    },
    {
      "cell_type": "code",
      "source": [
        "# (5a) Counting True Positives, False Positives, and False Negatives\n",
        "RDD_sims_full = RDD_similarities_full.map(lambda x: (\"%s %s\" % (x[0][0], x[0][1]), x[1]))\n",
        "assert RDD_sims_full.count() == 2441100\n",
        "RDD_sims_full_values = RDD_sims_full.map(lambda x: x[1]).cache()\n",
        "assert RDD_sims_full_values.count() == 2441100\n",
        "def gs_value(record): return record[1][1] if record[1][1] else 0\n",
        "RDD_true_dup_sims = gold_standard.leftOuterJoin(RDD_sims_full).map(gs_value).cache()\n",
        "print('There are %s true duplicates.' % RDD_true_dup_sims.count())\n",
        "#There are 1300 true duplicates.\n",
        "assert RDD_true_dup_sims.count() == 1300"
      ],
      "metadata": {
        "colab": {
          "base_uri": "https://localhost:8080/"
        },
        "id": "WQ0Z23jpUZVr",
        "outputId": "6f03414a-305a-48fc-92be-8992ffa16eea"
      },
      "execution_count": 20,
      "outputs": [
        {
          "output_type": "stream",
          "name": "stdout",
          "text": [
            "There are 1300 true duplicates.\n"
          ]
        }
      ]
    },
    {
      "cell_type": "code",
      "source": [
        "from pyspark.accumulators import AccumulatorParam\n",
        "class VectorAccumulatorParam(AccumulatorParam):\n",
        "    def zero(self, value): return [0] * len(value)\n",
        "    def addInPlace(self, v1, v2):\n",
        "        for i in range(len(v1)):\n",
        "            v1[i] += v2[i]\n",
        "        return v1\n",
        "\n",
        "def set_bit(x, value, length):\n",
        "    bits = []\n",
        "    for y in range(length):\n",
        "        if (x == y): bits.append(value)\n",
        "        else: bits.append(0)\n",
        "    return bits\n",
        "\n",
        "BINS = 101\n",
        "n_thresholds = 100\n",
        "def bin(similarity):\n",
        "    return int(similarity * n_thresholds)\n",
        "\n",
        "zeros = [0] * BINS\n",
        "fp_counts = sc.accumulator(zeros, VectorAccumulatorParam())\n",
        "\n",
        "def add_element(score):\n",
        "    global fp_counts\n",
        "    b = bin(score)\n",
        "    fp_counts += set_bit(b, 1, BINS)\n",
        "\n",
        "RDD_sims_full_values.foreach(add_element)\n",
        "\n",
        "def sub_element(score):\n",
        "    global fp_counts\n",
        "    b = bin(score)\n",
        "    fp_counts += set_bit(b, -1, BINS)\n",
        "\n",
        "RDD_true_dup_sims.foreach(sub_element)\n",
        "\n",
        "def false_pos(threshold):\n",
        "    fp_list = fp_counts.value\n",
        "    return sum([fp_list[b] for b in range(0, BINS) if float(b) / n_thresholds >= threshold])\n",
        "\n",
        "def false_neg(threshold):\n",
        "    return RDD_true_dup_sims.filter(lambda x: x < threshold).count()\n",
        "\n",
        "def true_pos(threshold):\n",
        "    return RDD_true_dup_sims.count() - false_neg_dict[threshold]"
      ],
      "metadata": {
        "id": "yEKGorYJZGvI"
      },
      "execution_count": 21,
      "outputs": []
    },
    {
      "cell_type": "code",
      "source": [
        "# (5b) Precision, Recall, and F-measures\n",
        "# Precision = true_positives / (true_positives + false_positives)\n",
        "# Recall = true_positives / (true_positives + false_negatives)\n",
        "# F-measure = 2 x Recall x Precision / (Recall + Precision)\n",
        "def precision(threshold):\n",
        "    tp = true_pos_dict[threshold]\n",
        "    return float(tp) / (tp + false_pos_dict[threshold])\n",
        "def recall(threshold):\n",
        "    tp = true_pos_dict[threshold]\n",
        "    return float(tp) / (tp + false_neg_dict[threshold])\n",
        "def fmeasure(threshold):\n",
        "    r = recall(threshold)\n",
        "    p = precision(threshold)\n",
        "    return 2 * r * p / (r + p)"
      ],
      "metadata": {
        "id": "VY2mP9UIeu0b"
      },
      "execution_count": 22,
      "outputs": []
    },
    {
      "cell_type": "code",
      "source": [
        "# (5c) Line Plots\n",
        "thresholds = [float(n) / n_thresholds for n in range(0, n_thresholds)]\n",
        "false_pos_dict = dict([(t, false_pos(t)) for t in thresholds])\n",
        "false_neg_dict = dict([(t, false_neg(t)) for t in thresholds])\n",
        "true_pos_dict = dict([(t, true_pos(t)) for t in thresholds])\n",
        "precisions = [precision(t) for t in thresholds]\n",
        "recalls = [recall(t) for t in thresholds]\n",
        "fmeasures = [fmeasure(t) for t in thresholds]\n",
        "print(precisions[0], fmeasures[0])\n",
        "#0.0005325468026709271 0.0010645266950540452\n",
        "assert abs(precisions[0] - 0.000532546802671) < 0.0000001\n",
        "assert abs(fmeasures[0] - 0.00106452669505) < 0.0000001\n",
        "fig = plt.figure()\n",
        "plt.plot(thresholds, precisions)\n",
        "plt.plot(thresholds, recalls)\n",
        "plt.plot(thresholds, fmeasures)\n",
        "plt.legend(['Precision', 'Recall', 'F-measure'])\n",
        "display(fig)\n",
        "pass\n",
        "from pyspark.sql import Row\n",
        "from pyspark.sql import SQLContext\n",
        "sqlContext = SQLContext(sc)\n",
        "graph = [(t, precision(t), recall(t), fmeasure(t)) for t in thresholds]\n",
        "RDD_graph = sc.parallelize(graph)\n",
        "row_graph = RDD_graph.map(lambda txyz: Row(threshold=txyz[0], precision=txyz[1], recall=txyz[2], fmeasure=txyz[3]))\n",
        "DF_graph = sqlContext.createDataFrame(row_graph)\n",
        "display(DF_graph)"
      ],
      "metadata": {
        "colab": {
          "base_uri": "https://localhost:8080/",
          "height": 898
        },
        "id": "Z58UaDJJfTyY",
        "outputId": "fd7bb076-7967-4927-f873-355cd8ff8329"
      },
      "execution_count": 23,
      "outputs": [
        {
          "output_type": "stream",
          "name": "stdout",
          "text": [
            "0.0005325468026709271 0.0010645266950540452\n"
          ]
        },
        {
          "output_type": "display_data",
          "data": {
            "text/plain": [
              "<Figure size 640x480 with 1 Axes>"
            ],
            "image/png": "[encoded data removed]"
          },
          "metadata": {}
        },
        {
          "output_type": "stream",
          "name": "stderr",
          "text": [
            "/usr/local/lib/python3.11/dist-packages/pyspark/sql/context.py:113: FutureWarning: Deprecated in 3.0.0. Use SparkSession.builder.getOrCreate() instead.\n",
            "  warnings.warn(\n"
          ]
        },
        {
          "output_type": "display_data",
          "data": {
            "text/plain": [
              "<Figure size 640x480 with 1 Axes>"
            ],
            "image/png": "[encoded data removed]"
          },
          "metadata": {}
        }
      ]
    },
    {
      "cell_type": "markdown",
      "source": [
        "(5d) Discussion\n",
        "\n",
        "State-of-the-art tools can get an F-measure of about 60% on this dataset. In this assignment, our\n",
        "best F-measure is closer to 40%. Look at some examples of errors (both False Positives and False\n",
        "Negatives) and think about what went wrong. There are several ways we might improve our simple\n",
        "classifier, including:\n",
        "\n",
        "* Using additional attributes\n",
        "* Performing better featurization of our textual data (e.g., stemming, n-grams, etc.)\n",
        "* Using different similarity functions"
      ],
      "metadata": {
        "id": "pvMvcSAfishj"
      }
    }
  ]
}