{
  "nbformat": 4,
  "nbformat_minor": 0,
  "metadata": {
    "colab": {
      "provenance": []
    },
    "kernelspec": {
      "name": "python3",
      "display_name": "Python 3"
    },
    "language_info": {
      "name": "python"
    }
  },
  "cells": [
    {
      "cell_type": "markdown",
      "source": [
        "**STEP 1**\n",
        "\n",
        "The goal of this 12-step program is to show you an enhanced library for string pattern matching, using the Python programming language.\n",
        "\n",
        "First, let's review regular expressions that are built in the Python programming langauge. The module is named \"re\", also refered as RE.\n",
        "\n",
        "Say we are using regular expressions to analyze a text that contains some unknown program, written in a mystery programming language. Say the following is a line of text in mystery code:\n",
        "\n",
        "* DEFINE('f(x,y,z)c,i,n,s,t,v')\n",
        "\n",
        "You are told that this line of code invokes the DEFINE function. It declares a new function based on what is written between the single quotes. In the example above, it is declaring a function named f that has three parameters named x, y, z, and six local variables named c, i, n, s, t, and v.\n",
        "\n",
        "Let's write Python regular expressions that extracts all of these names (the name of the function, the names of the parameters and the names of the local variables). This program will store this information in three variables and if we are successful, this will be the result:\n",
        "\n",
        "* function = 'f',\n",
        "* parameters = ['x', 'y', 'z'],\n",
        "* variables = ['c', 'i', 'n', 's', 't', 'v']."
      ],
      "metadata": {
        "id": "PQEhYX5ufIJT"
      }
    },
    {
      "cell_type": "code",
      "source": [
        "import re # this imports the built-in regular expression module in Python\n",
        "subject = \"DEFINE('f(x,y,z)c,i,n,s,t,v')\" # here is the text that we are analyzing"
      ],
      "metadata": {
        "id": "4EVHXLcVj4pK"
      },
      "execution_count": null,
      "outputs": []
    },
    {
      "cell_type": "markdown",
      "source": [
        "**STEP 2**\n",
        "\n",
        "Let's try using the *re.search* function. There are two well known elements for regular expressions:\n",
        "\n",
        "*   the '^' (*caret*) character to specify the pattern ensuring the beginning of the text, also referred to as left-position zero, and\n",
        "*   the '$' (*dollar-sign*) character to specify the pattern ensuring the end of the text, also referred to as right-position zero.\n",
        "\n",
        "After a successful regular expression match, the *re.search* returns an *re.Match* object. To nicely display any Python object, the pretty-print function, *pprint*, is used. To gain access to any captured groups being returned, the *re.Match.groups* and *re.Match.groupdict* are used. The *groups* function returns a list of positionally captured groups and the *groupdict* function returns a dictionary of named captured groups.\\\n",
        "\\\n",
        "This is going to be amazing! You mean all I have to do is create just one regular expression pattern to verify the validity of the text and simulataneously extract all the separate elements into structured data in *one fell swoop*?"
      ],
      "metadata": {
        "id": "Mxe6d4ianpRa"
      }
    },
    {
      "cell_type": "code",
      "source": [
        "if results := re.search(\n",
        "      r\"^DEFINE\\('\"    # the caret denotes to match left-position zero\n",
        "      r\"([a-z])\"       # (___) denotes to group and to capture 1st parameter name\n",
        "                       # [a-z] denotes to match a single lower-case letter\n",
        "      r\"\\(\"            # literal left-paren must be escaped by back-slash\n",
        "      r\"([a-z])\"\n",
        "      r\"(?:,([a-z]))*\" # (?:___) denotes to group but not to capture\n",
        "                       # (___)* denotes matching a repetition of zero or more patterns\n",
        "      r\"\\)\"\n",
        "      r\"([a-z])\"       # group and capture 1st variable name\n",
        "      r\"(?:,([a-z]))*\" # also capture all remaining variable names ignoring commas\n",
        "      r\"'\\)$\"          # the dollar-sign denotes to match right-position zero\n",
        "    , subject):\n",
        "      print([\"Matched:\", results.groups()])\n",
        "else: print([\"Unmatched!\"])"
      ],
      "metadata": {
        "colab": {
          "base_uri": "https://localhost:8080/"
        },
        "collapsed": true,
        "id": "aBsk2qvTkR9u",
        "outputId": "1ce4ee2d-6a8a-47e9-9e76-9f73668764c6"
      },
      "execution_count": null,
      "outputs": [
        {
          "output_type": "stream",
          "name": "stdout",
          "text": [
            "['Matched:', ('f', 'x', 'z', 'c', 'v')]\n"
          ]
        }
      ]
    },
    {
      "cell_type": "markdown",
      "source": [
        "**STEP 3**\n",
        "\n",
        "What happened!? I can't do my work.\\\n",
        "Where is the y parameter name?\\\n",
        "Where are most of the variable names?\\\n",
        "Where are the two lists for the repetions?\\\n",
        "I think I might have choosen unwisely.\\\n",
        "\\\n",
        "Can it be that the construct (?:___) specifying a non-capturing group is in some way interferring with properly capturing its nested pattern? So let's modify these to simply be capturing groups instead."
      ],
      "metadata": {
        "id": "svxEw0WCpRZA"
      }
    },
    {
      "cell_type": "code",
      "source": [
        "if results := re.search(\n",
        "      r\"^DEFINE\\('\"\n",
        "      r\"([a-z])\"\n",
        "      r\"\\(\"\n",
        "      r\"([a-z])\"\n",
        "      r\"(,([a-z]))*\" # (?:_(___))* becomes (_(___))*\n",
        "      r\"\\)\"\n",
        "      r\"([a-z])\"\n",
        "      r\"(,([a-z]))*\" # (?:_(___))* becomes (_(___))*\n",
        "      r\"'\\)$\"\n",
        "    , subject):\n",
        "      print([\"Matched:\", results.groups()])\n",
        "else: print([\"Unmatched!\"])"
      ],
      "metadata": {
        "colab": {
          "base_uri": "https://localhost:8080/"
        },
        "collapsed": true,
        "id": "qcnqqlBAb1JA",
        "outputId": "00b2867f-1d27-40a9-c20f-f3a6f6eba2e6"
      },
      "execution_count": null,
      "outputs": [
        {
          "output_type": "stream",
          "name": "stdout",
          "text": [
            "['Matched:', ('f', 'x', ',z', 'z', 'c', ',v', 'v')]\n"
          ]
        }
      ]
    },
    {
      "cell_type": "markdown",
      "source": [
        "**STEP 4**\n",
        "\n",
        "What happened! I still can't do my work.\\\n",
        "If anything, things seem worse than before.\\\n",
        "I think I might have choosen unwisely.\\\n",
        "\\\n",
        "Can it be that capturing elements of a reptition just isn't possible?\\\n",
        "Can it be that the *re.search* function will just not return a list of elements?\\\n",
        "Unfortunately, the RE module is working as designed and hence this limitation will likely never to be lifted. It will only ever just return the last element of the repitition, and will always refuse to capture the remaining parts of the repitition.\\\n",
        "\\\n",
        "Unfortunately, the developers of the RE module might just have built this bug into the product as a feature. So, let's try one more time. Let's attempt to capture the entire text of these lists and not capture their nested elements."
      ],
      "metadata": {
        "id": "E_19QoZ9_2d4"
      }
    },
    {
      "cell_type": "code",
      "source": [
        "if results := re.search(\n",
        "      r\"^DEFINE\\('\"\n",
        "      r\"([a-z])\"\n",
        "      r\"\\(\"\n",
        "      r\"([a-z])\"\n",
        "      r\"((?:,[a-z])*)\" # (_(___))* becomes ((?:_ ___))*\n",
        "      r\"\\)\"\n",
        "      r\"([a-z])\"\n",
        "      r\"((?:,[a-z])*)\" # (_(___))* becomes ((?:_ ___))*\n",
        "      r\"'\\)$\"\n",
        "    , subject):\n",
        "      print([\"Matched:\", results.groups()])\n",
        "else: print([\"Unmatched!\"])"
      ],
      "metadata": {
        "colab": {
          "base_uri": "https://localhost:8080/"
        },
        "id": "DceWdhAZi8PW",
        "outputId": "41238270-5a64-4498-bb3f-d289ce277662"
      },
      "execution_count": null,
      "outputs": [
        {
          "output_type": "stream",
          "name": "stdout",
          "text": [
            "['Matched:', ('f', 'x', ',y,z', 'c', ',i,n,s,t,v')]\n"
          ]
        }
      ]
    },
    {
      "cell_type": "markdown",
      "source": [
        "**STEP 5**\n",
        "\n",
        "What happened? I'll never get my work done.\\\n",
        "\\\n",
        "So, it appears this caliber of results is the best we can accomplish using the RE module, and that our initial desire to develop one regular expression pattern to extract structured data from text will not be fulfilled. For this task, it appears more coding will be necessary. Oh but I desperately wanted to avoid procedural coding all together. I wanted the pattern to look similar to the subject. I want the solution to resemble the problem.\\\n",
        "\\\n",
        "Given that we are limited to just a single capture group returning a repitition in its entirety, and since individual elements can not be captured, let's merge the patterns which return the first and remaining parts into one pattern for a proper comma-seperated string for later processing."
      ],
      "metadata": {
        "id": "SccsrGXPGq-u"
      }
    },
    {
      "cell_type": "code",
      "source": [
        "if results := re.search(\n",
        "      r\"^DEFINE\\('\"\n",
        "      r\"([a-z])\"\n",
        "      r\"\\(\"\n",
        "      r\"((?:[a-z])(?:,[a-z])*)\" # (___)((?:_ ___))* becomes ((?:___)(?:_ ___))*`\n",
        "      r\"\\)\"\n",
        "      r\"((?:[a-z])(?:,[a-z])*)\" # (___)((?:_ ___))* becomes ((?:___)(?:_ ___))*`\n",
        "      r\"'\\)$\"\n",
        "    , subject):\n",
        "      print([\"Matched:\", results.groups()])\n",
        "else: print([\"Unmatched!\"])"
      ],
      "metadata": {
        "colab": {
          "base_uri": "https://localhost:8080/"
        },
        "id": "KxNPTtfyn1kZ",
        "outputId": "f88bf8cf-9c5c-40ad-a6a9-f4d3f45a3eb7"
      },
      "execution_count": null,
      "outputs": [
        {
          "output_type": "stream",
          "name": "stdout",
          "text": [
            "['Matched:', ('f', 'x,y,z', 'c,i,n,s,t,v')]\n"
          ]
        }
      ]
    },
    {
      "cell_type": "markdown",
      "source": [
        "**STEP 6**\n",
        "\n",
        "So what happens now? I've got so much work and not enough time.\\\n",
        "I must write more Python code! Ooh, somebody stop me.\\\n",
        "If the elements of a list, referred below as items, are processed in Python code seperately and revalidating these items would be necessary, the following code is representative of what's necessary."
      ],
      "metadata": {
        "id": "r1i3s9BaMCTX"
      }
    },
    {
      "cell_type": "code",
      "source": [
        "if results := re.search(\n",
        "      r\"^DEFINE\\('\"\n",
        "      r\"(?P<func>[a-z])\" # (?P<name>___) denotes to match, group and capture by name\n",
        "      r\"\\(\"\n",
        "      r\"(?P<params>(?:[a-z])(?:,[a-z])*)\" # (?P<params>___) denotes to capture group named ps\n",
        "      r\"\\)\"\n",
        "      r\"(?P<vars>(?:[a-z])(?:,[a-z])*)\" # 'func', 'params', and 'vars' are keys of groupdict()\n",
        "      r\"'\\)$\"\n",
        "    , subject):\n",
        "      function = results.groupdict()['func']\n",
        "      parameters = []\n",
        "      for item_results in re.finditer(r\",?(?P<item>[a-z])\", results.groupdict()['params']):\n",
        "          parameters.append(item_results.groupdict()['item'])\n",
        "      variables = []\n",
        "      for item_results in re.finditer(r\",?(?P<item>[a-z])\", results.groupdict()['vars']):\n",
        "          variables.append(item_results.groupdict()['item'])\n",
        "      print([function, parameters, variables])\n",
        "else: print([\"Unmatched!\"])"
      ],
      "metadata": {
        "colab": {
          "base_uri": "https://localhost:8080/"
        },
        "id": "vAjOHmHFqkqR",
        "outputId": "8f8386d8-ea35-4763-ed80-14ec5f68f4f5"
      },
      "execution_count": null,
      "outputs": [
        {
          "output_type": "stream",
          "name": "stdout",
          "text": [
            "['f', ['x', 'y', 'z'], ['c', 'i', 'n', 's', 't', 'v']]\n"
          ]
        }
      ]
    },
    {
      "cell_type": "markdown",
      "source": [
        "**STEP 7**\n",
        "\n",
        "So what happened there? I created a beautiful mess.\\\n",
        "\\\n",
        "But it works. It validates the input text and produces three variables, one containing the function name, and two containing the list of names for parameters and variables.\\\n",
        "\\\n",
        "Also, if revalidation is not necessary, this code can be simplified further."
      ],
      "metadata": {
        "id": "tQte7gc0QCu0"
      }
    },
    {
      "cell_type": "code",
      "source": [
        "if results := re.search(\n",
        "      r\"^DEFINE\\('\"\n",
        "      r\"(?P<func>[a-z])\"\n",
        "      r\"\\(\"\n",
        "      r\"(?P<params>(?:[a-z])(?:,[a-z])*)\"\n",
        "      r\"\\)\"\n",
        "      r\"(?P<vars>(?:[a-z])(?:,[a-z])*)\"\n",
        "      r\"'\\)$\"\n",
        "    , subject):\n",
        "      function   = results.groupdict()['func']\n",
        "      parameters = results.groupdict()['params'].split(',')\n",
        "      variables  = results.groupdict()['vars'].split(',')\n",
        "      print([\"Matched:\", function, parameters, variables])\n",
        "else: print([\"Unmatched!\"])"
      ],
      "metadata": {
        "colab": {
          "base_uri": "https://localhost:8080/"
        },
        "id": "Hruidmh6r4bZ",
        "outputId": "431fac8c-cef2-4b0b-c3e4-4099dc9087ce"
      },
      "execution_count": null,
      "outputs": [
        {
          "output_type": "stream",
          "name": "stdout",
          "text": [
            "['Matched:', 'f', ['x', 'y', 'z'], ['c', 'i', 'n', 's', 't', 'v']]\n"
          ]
        }
      ]
    },
    {
      "cell_type": "markdown",
      "source": [
        "**STEP 8**\n",
        "\n",
        "Can there be another way?\\\n",
        "Let's try using the SNOBOL4python library as an alternative.\\\n",
        "The following code will mount and import the SNOBOL4python library."
      ],
      "metadata": {
        "id": "PJwD5zg-SYTM"
      }
    },
    {
      "cell_type": "code",
      "source": [
        "!pip install SNOBOL4python==0.4.5\n",
        "import sys\n",
        "from pprint import pprint\n",
        "## Thirty one (31) flavors of patterns to choose from ...\n",
        "from SNOBOL4python import ε, σ, π, λ, Λ, ζ, θ, Θ, φ, Φ, α, ω\n",
        "from SNOBOL4python import ABORT, ANY, ARB, ARBNO, BAL, BREAK, BREAKX, FAIL\n",
        "from SNOBOL4python import FENCE, LEN, MARB, MARBNO, NOTANY, POS, REM, RPOS\n",
        "from SNOBOL4python import RTAB, SPAN, SUCCESS, TAB\n",
        "# Miscellaneous\n",
        "from SNOBOL4python import GLOBALS, TRACE, PATTERN, Ϩ, STRING\n",
        "from SNOBOL4python import ALPHABET, DIGITS, UCASE, LCASE, NULL\n",
        "from SNOBOL4python import nPush, nInc, nPop, Shift, Reduce, Pop\n",
        "# Instantiate the global variable space\n",
        "GLOBALS(globals())"
      ],
      "metadata": {
        "colab": {
          "base_uri": "https://localhost:8080/"
        },
        "id": "xXcseKB7CUY1",
        "outputId": "2269fa6a-96b3-4c98-b008-7e0ad9e5ee00"
      },
      "execution_count": null,
      "outputs": [
        {
          "output_type": "stream",
          "name": "stdout",
          "text": [
            "Collecting SNOBOL4python==0.4.4\n",
            "  Downloading snobol4python-0.4.4-py3-none-any.whl.metadata (823 bytes)\n",
            "Requirement already satisfied: pytest in /usr/local/lib/python3.11/dist-packages (from SNOBOL4python==0.4.4) (8.3.5)\n",
            "Requirement already satisfied: iniconfig in /usr/local/lib/python3.11/dist-packages (from pytest->SNOBOL4python==0.4.4) (2.1.0)\n",
            "Requirement already satisfied: packaging in /usr/local/lib/python3.11/dist-packages (from pytest->SNOBOL4python==0.4.4) (24.2)\n",
            "Requirement already satisfied: pluggy<2,>=1.5 in /usr/local/lib/python3.11/dist-packages (from pytest->SNOBOL4python==0.4.4) (1.5.0)\n",
            "Downloading snobol4python-0.4.4-py3-none-any.whl (25 kB)\n",
            "Installing collected packages: SNOBOL4python\n",
            "Successfully installed SNOBOL4python-0.4.4\n"
          ]
        }
      ]
    },
    {
      "cell_type": "markdown",
      "source": [
        "**STEP 9**\n",
        "\n",
        "To use the new PATTERN datatype provided by the SNOBOL4python module:\n",
        "\n",
        "*   r\"^\" becomes *POS*(0)\n",
        "*   r\"$\" becomes *RPOS*(0)\n",
        "*   r\"[a-z]\" becomes *ANY*(LCASE)\n",
        "*   r\"xyz\" becomes σ('xyz'), or alternatively\n",
        "*   r\"xyz\" becomes σ('x') + σ('y') + σ('z')\n",
        "*   r\"(\\_\\_\\_)*\" becomes *ARBNO*(___)\n",
        "*   re.search(pattern, subject) becomes subject in PATTERN\n",
        "\n",
        "Let's start by just getting the PATTERN to work, and for now not deal with capturing any results."
      ],
      "metadata": {
        "id": "O5zs7ytMTtww"
      }
    },
    {
      "cell_type": "code",
      "source": [
        "if subject in \\\n",
        "      ( POS(0)\n",
        "      + σ(\"DEFINE('\")\n",
        "      + ANY(LCASE)\n",
        "      + σ(\"(\")\n",
        "      + ANY(LCASE) + ARBNO(σ(',') + ANY(LCASE))\n",
        "      + σ(\")\")\n",
        "      + ANY(LCASE) + ARBNO(σ(',') + ANY(LCASE))\n",
        "      + σ(\"')\")\n",
        "      + RPOS(0)\n",
        "      ):\n",
        "      print([\"Matched.\"])\n",
        "else: print(['Unmatched!'])"
      ],
      "metadata": {
        "colab": {
          "base_uri": "https://localhost:8080/"
        },
        "id": "TLU_r-IxIsTs",
        "outputId": "f7d2c47f-3c01-466b-a8c7-26bfdc9baa6c"
      },
      "execution_count": null,
      "outputs": [
        {
          "output_type": "stream",
          "name": "stdout",
          "text": [
            "['Matched.']\n"
          ]
        }
      ]
    },
    {
      "cell_type": "markdown",
      "source": [
        "**STEP 10**\n",
        "\n",
        "What just happened? It matched! Is there any hope I can complete my work?\n",
        "\n",
        "Now, let's decorate the above pattern with Python code to capture the PATTERN matching results into variables containing strings and lists.\n",
        "\n",
        "* r\"(?P<name>\\_\\_\\_) becomes ___ % \"name\"\\\n",
        "* r\"<no-can-do>\" becomes λ(python_code_string)"
      ],
      "metadata": {
        "id": "LKBSWdjTXmBs"
      }
    },
    {
      "cell_type": "code",
      "source": [
        "if subject in \\\n",
        "      ( POS(0)\n",
        "      + σ(\"DEFINE('\")\n",
        "      + ANY(LCASE) % \"function\"\n",
        "      + σ(\"(\")\n",
        "      + ( ANY(LCASE) % \"param\" + λ(\"parameters = [param]\")\n",
        "        + ARBNO(σ(',') + ANY(LCASE) % \"param\" + λ(\"parameters.append(param)\"))\n",
        "        )\n",
        "      + σ(\")\")\n",
        "      + ( ANY(LCASE) % \"var\" + λ(\"variables = [var]\")\n",
        "        + ARBNO(σ(',') + ANY(LCASE) % \"var\" + λ(\"variables.append(var)\"))\n",
        "        )\n",
        "      + σ(\"')\")\n",
        "      + RPOS(0)\n",
        "      ):\n",
        "      print([\"Matched.\", function, parameters, variables])\n",
        "else: print(['Unmatched!'])"
      ],
      "metadata": {
        "colab": {
          "base_uri": "https://localhost:8080/"
        },
        "id": "ag46QkLiLxS6",
        "outputId": "426283eb-d380-421d-f767-b2bdff1e28d4"
      },
      "execution_count": null,
      "outputs": [
        {
          "output_type": "stream",
          "name": "stdout",
          "text": [
            "['Matched.', 'f', ['x', 'y', 'z'], ['c', 'i', 'n', 's', 't', 'v']]\n"
          ]
        }
      ]
    },
    {
      "cell_type": "markdown",
      "source": [
        "**STEP 11**\n",
        "\n",
        "What happened? My work is done. It's a miracle.\\\n",
        "The solution does seem to resemble the problem.\\\n",
        "Can it really be that easy?\n",
        "\n",
        "Now introducing the PATTERN phi, φ(r'___'). It will match a regular expression. And now a solution using regular expression patterns as an integral part of the new PATTERN datatype."
      ],
      "metadata": {
        "id": "ctVAfPVabVvr"
      }
    },
    {
      "cell_type": "code",
      "source": [
        "if subject in \\\n",
        "      ( φ(r\"^DEFINE\\('\")\n",
        "      + φ(r'(?P<function>[a-z])')\n",
        "      + φ(r'\\(')\n",
        "      + ( φ(r'(?P<param>[a-z])') + λ(\"parameters = [param]\")\n",
        "        + ARBNO(φ(r',(?P<param>[a-z])') + λ(\"parameters.append(param)\"))\n",
        "        )\n",
        "      + φ(r'\\)')\n",
        "      + ( φ(r'(?P<var>[a-z])') + λ(\"variables = [var]\")\n",
        "        + ARBNO(φ(r',(?P<var>[a-z])') + λ(\"variables.append(var)\"))\n",
        "        )\n",
        "      + φ(r\"'\\)$\")\n",
        "      ):\n",
        "      print([\"Matched:\", function, parameters, variables])\n",
        "else: print(['Unmatched!'])"
      ],
      "metadata": {
        "colab": {
          "base_uri": "https://localhost:8080/"
        },
        "id": "wWh-7L0dNEfI",
        "outputId": "ec985c40-9c04-4661-9bdf-567836d4d053"
      },
      "execution_count": null,
      "outputs": [
        {
          "output_type": "stream",
          "name": "stdout",
          "text": [
            "['Matched:', 'f', ['x', 'y', 'z'], ['c', 'i', 'n', 's', 't', 'v']]\n"
          ]
        }
      ]
    },
    {
      "cell_type": "markdown",
      "source": [
        "**STEP 12**\n",
        "\n",
        "What happens next! You can do any work in which you want!\\\n",
        "This SNOBOL4python Python module can process all four levels of the Chompsky heirarchy.\\\n",
        "This concludes this 12-step program. Enjoy Nirvana."
      ],
      "metadata": {
        "id": "i-6U2Ze2fMJy"
      }
    }
  ]
}