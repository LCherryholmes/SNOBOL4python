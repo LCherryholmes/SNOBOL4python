{
  "nbformat": 4,
  "nbformat_minor": 0,
  "metadata": {
    "colab": {
      "provenance": []
    },
    "kernelspec": {
      "name": "python3",
      "display_name": "Python 3"
    },
    "language_info": {
      "name": "python"
    }
  },
  "cells": [
    {
      "cell_type": "markdown",
      "source": [
        "Excerpts from VANILLA SNOBOL4 TUTORIAL AND REFERENCE MANUAL\\\n",
        "by Mark B. Emmer [marke@snobol4.com]\\\n",
        "© Copyright 1985, 1988 by Catspaw, Inc. \\\n",
        "\n",
        "Welcome to the world of $SNOBOL4.$ It's a world where you can manipulate text and search for patterns in a simple and natural manner. $SNOBOL4's$ pattern programming provides a new way to work with computers. If you would like to add $SNOBOL4$ to your repertoire of problem-solving tools, and learn why so many people are excited about it, read on.\n",
        "\n",
        "This tutorial is addressed to the beginning $Python/SNOBOL4$ programmer. It assumes a modest knowledge of general programming concepts, and experience with another high-level language, such as BASIC, C, Fortran, or Pascal."
      ],
      "metadata": {
        "id": "1749hkhflU2a"
      }
    },
    {
      "cell_type": "code",
      "source": [
        "!pip install SNOBOL4python==0.4.5\n",
        "import sys\n",
        "from pprint import pprint\n",
        "## Thirty one (31) flavors of patterns to choose from ...\n",
        "from SNOBOL4python import ε, σ, π, λ, Λ, ζ, θ, Θ, φ, Φ, α, ω\n",
        "from SNOBOL4python import ABORT, ANY, ARB, ARBNO, BAL, BREAK, BREAKX, FAIL\n",
        "from SNOBOL4python import FENCE, LEN, MARB, MARBNO, NOTANY, POS, REM, RPOS\n",
        "from SNOBOL4python import RTAB, SPAN, SUCCESS, TAB\n",
        "# Miscellaneous\n",
        "from SNOBOL4python import GLOBALS, TRACE, PATTERN, Ϩ, STRING\n",
        "from SNOBOL4python import ALPHABET, DIGITS, UCASE, LCASE, NULL\n",
        "from SNOBOL4python import nPush, nInc, nPop, Shift, Reduce, Pop\n",
        "# Instantiate the global variable space\n",
        "GLOBALS(globals())"
      ],
      "metadata": {
        "id": "1BTk2fgxulhK"
      },
      "execution_count": null,
      "outputs": []
    },
    {
      "cell_type": "markdown",
      "source": [
        "**1.3** An example\n",
        "\n",
        "Just to get a feel for where we're going, let's take a look at a small SNOBOL4 program. It produces a sorted list of the words in a string, along with a count of how many times each word appears. Don't be concerned if you don't understand the program; I just want to give you a taste of the language:"
      ],
      "metadata": {
        "id": "jXixvNuPnSMi"
      }
    },
    {
      "cell_type": "code",
      "source": [
        "letters = LCASE + \"-’\"\n",
        "subject = \"I know what I like, and I like what I know.\"\n",
        "subject = subject.lower()\n",
        "subject in (\n",
        "    POS(0) + λ(\"tally = {}\")\n",
        "  + ARBNO(\n",
        "      BREAK(LCASE)\n",
        "    + SPAN(letters) % \"word\"\n",
        "    + λ(\"if word not in tally: tally[word] = 0\")\n",
        "    + λ(\"tally[word] += 1\")\n",
        "    )\n",
        "  + ARBNO(NOTANY(letters))\n",
        "  + RPOS(0)\n",
        ")\n",
        "print(\"Word counts:\")\n",
        "pprint(sorted(tally.items(), key=(lambda item: (-item[1], item[0]))))"
      ],
      "metadata": {
        "collapsed": true,
        "id": "fPW6xU4xnK5-"
      },
      "execution_count": null,
      "outputs": []
    },
    {
      "cell_type": "markdown",
      "source": [
        "Notice some of the things that seem to occur so effortlessly here. A word is defined to be any combination of lower case letters, hyphen, and apostrophe. Data from the file are converted to lower case. A table of word counts uses the words themselves as subscripts."
      ],
      "metadata": {
        "id": "2eVpLKtWt5ha"
      }
    },
    {
      "cell_type": "markdown",
      "source": [
        "**6.1** Introduction\n",
        "\n",
        "Pattern matching examines a subject string for some combination of characters, called a pattern. The matching process may be very simple, or extremely complex.\n",
        "\n",
        "* The subject contains several color names. The pattern is the string \"BLUE\". Does the\n",
        "subject string contain the word \"BLUE\"?\n",
        "* The subject contains a nucleic acid (DNA) sequence. The pattern searches for a subsequence that is replicated in two other places in the string.\n",
        "* The subject contains a paragraph of English text. The pattern describes the spacing rules\n",
        "to be applied after punctuation. Does the subject string conform to the punctuation rules?\n",
        "* The subject string represents the current board position in a game of Tick-Tack-Toe. The\n",
        "pattern examines this string and determines the next move.\n",
        "* The subject contains a program statement from a prototype computer language. The pattern contains the grammar of that language. Is the statement properly formed according\n",
        "to the grammar?\n",
        "\n",
        "Most programming languages provide rudimentary facilities to examine a string for a specific\n",
        "character sequence. SNOBOL4 patterns are far more powerful, because they can specify complex\n",
        "(and convoluted) interrelationships. The colors of a painting, the words of a sentence, the notes of a musical score have limited significance in isolation. It is their relationship with one another which provides meaning to the whole. Likewise, SNOBOL4 patterns can specify context; they may be qualified by what precedes or follows them, or by their position in the subject."
      ],
      "metadata": {
        "id": "9ySBoaOfKIDa"
      }
    },
    {
      "cell_type": "markdown",
      "source": [
        "**6.1.1** Knowns and unknowns\n",
        "\n",
        "Patterns are composed of known and unknown components.\n",
        "Knowns are specific character strings, such as the string \"BLUE\" in the first example above.\n",
        "We are looking for a yes/no answer to the question: 'Does this known item appear in the subject\n",
        "string?'\n",
        "\n",
        "Unknowns specify the kind of subject characters we are looking for; the specific characters are\n",
        "not identifiable in advance. We might want to match only characters from a restricted alphabet,\n",
        "or any substring of a certain length, or some arbitrary number of repetitions of a string. If the pattern matches, we can then capture the particular subject substring matched."
      ],
      "metadata": {
        "id": "WV39_q__LKfM"
      }
    },
    {
      "cell_type": "markdown",
      "source": [
        "**6.2** Specifying pattern matching\n",
        "\n",
        "A pattern match requires a subject string and a pattern. If SUBJECT is the subject string, and PATTERN is the pattern, it looks like this:\n",
        "\n",
        "* SUBJECT in PATTERN\n",
        "\n",
        "The pattern match succeeds if the pattern is found in the subject string; otherwise it fails. This expression returns True or False depending on success or failure."
      ],
      "metadata": {
        "id": "HsYlzjbeLeU4"
      }
    },
    {
      "cell_type": "markdown",
      "source": [
        "**6.3** Subject string\n",
        "\n",
        "The subject string may be a literal string, a variable, or an expression. If it is not a string, its string equivalent will be produced before pattern matching begins. For example, if the subject is the integer 48, integer to string conversion produces the character string \"48\".\n"
      ],
      "metadata": {
        "id": "nOi-aCtSL9dV"
      }
    },
    {
      "cell_type": "markdown",
      "source": [
        "**6.4** Pattern subsequents and alternates\n",
        "\n",
        "Arithmetic expressions are composed of elements and simpler subexpressions. Similarly, patterns are composed of simpler subpatterns which are joined together as subsequents and alternates. The binary subsequent operator is the plus (+). If P1 and P2 are two subpatterns, the expression P1 + P2 is also a pattern. The subject must contain whatever P1 matches, immediately followed by whatever P2 matches. P2 is the subsequent of P1. The preceding pattern matches pattern P1 followed by pattern P2.\n",
        "\n",
        "The binary alternation operator is the vertical bar (|). The pattern P1 | P2 matches whatever P1 matches, or whatever P2 matches. SNOBOL4 tries the various alternatives from left to right.\n",
        "\n",
        "Normally, concatenation is performed before alternation, so the pattern P1 | P2 + P3 matches P1 alone, or P2 followed by P3. Parentheses can be used to alter the grouping of subpatterns.  For example: (P1 | P2) + P3 matches P1 or P2, followed by P3. When a pattern successfully matches a portion of the subject, the matching subject characters are bound to it. The next pattern in the statement must match beginning with the very next subject character. If a subsequent fails to match, SNOBOL4 backtracks, unbinding patterns until another alternative can be tried. A pattern match fails when SNOBOL4 cannot find an alternative that matches.\n",
        "\n",
        "The null string, ε(), may appear in a pattern. It always matches, but does not bind any subject characters. We can think of it as matching the invisible space between two subject characters. One possible use is as the last of a series of alternatives. For example, the pattern"
      ],
      "metadata": {
        "id": "FtBN65swMKAr"
      }
    },
    {
      "cell_type": "code",
      "source": [
        "ROOT = \"MATCH\"\n",
        "print(\"MATCHES\" in POS(0) + σ(ROOT) + (σ('S') | σ('ES') | ε()) + RPOS(0))"
      ],
      "metadata": {
        "id": "yh_Fflk2-wV3"
      },
      "execution_count": null,
      "outputs": []
    },
    {
      "cell_type": "markdown",
      "source": [
        "matches the pattern in ROOT, with an optional suffix of 'S' or 'ES'. If ROOT matches, but is not followed by 'S' or 'ES', the null string matches and successfully completes the clause. Its presence gives the pattern match a successful escape. The conditional functions of the previous chapter may appear in patterns. If they fail when evaluated, the current alternative fails. If they succeed, they match the null string, and so do not consume any subject characters. They behave like a gate, allowing the match to proceed beyond them only if they are true. This pattern will match 'FOX' if N is 1, or 'WOLF' if N is 2:"
      ],
      "metadata": {
        "id": "bsMRmDbw_lNS"
      }
    },
    {
      "cell_type": "code",
      "source": [
        "for N in range(1,3):\n",
        "    for subject in ['FOX', 'WOLF']:\n",
        "        matches = subject in (\n",
        "            Λ(lambda: N == 1) + σ('FOX')\n",
        "          | Λ(lambda: N == 2) + σ('WOLF')\n",
        "        )\n",
        "        pprint([N, subject, matches])"
      ],
      "metadata": {
        "id": "gmc5osg29HX4"
      },
      "execution_count": null,
      "outputs": []
    },
    {
      "cell_type": "markdown",
      "source": [
        "Parentheses may be used to factor a pattern. The strings 'COMPATIBLE', 'COMPREHENSIBLE', and 'COMPRESSIBLE' are matched by the pattern:"
      ],
      "metadata": {
        "id": "ds0xy2Lt-hNh"
      }
    },
    {
      "cell_type": "code",
      "source": [
        "for subject in ['COMPATIBLE', 'COMPREHENSIBLE', 'COMPRESSIBLE']:\n",
        "    print(subject in\n",
        "        POS(0)\n",
        "      + σ('COMP')\n",
        "      + (σ('AT') | σ('RE') + (σ('HEN') | σ('S')) + σ('S'))\n",
        "      + σ('IBLE')\n",
        "      + RPOS(0)\n",
        "    )"
      ],
      "metadata": {
        "id": "Dcu7ljFp8JBm",
        "collapsed": true
      },
      "execution_count": null,
      "outputs": []
    },
    {
      "cell_type": "markdown",
      "source": [
        "**6.5** Simple pattern matches\n",
        "\n",
        "Here are examples of pattern matches using a string literal or variable for the subject. The patterns consist entirely of known elements."
      ],
      "metadata": {
        "id": "hHajWKWxORAf"
      }
    },
    {
      "cell_type": "code",
      "source": [
        "'BLUEBIRD' in σ('BIRD') # first statement\n",
        "'BLUEBIRD' in σ('bird') # second statement\n",
        "B = 'THE BLUEBIRD' # third statement\n",
        "print(B in σ('FISH')) # fourth statement\n",
        "print(B in (σ('FISH') | σ('BIRD'))) # fifth statement\n",
        "print(B in (σ('GOLD') | σ('BLUE')) + (σ('FISH') | σ('BIRD'))) # last statement"
      ],
      "metadata": {
        "id": "McQUAWdvOats"
      },
      "execution_count": null,
      "outputs": []
    },
    {
      "cell_type": "markdown",
      "source": [
        "Regarding the previous code snippet, the first statement shows that the matching substring ('BIRD') need not begin at the start of the subject string. This is called unanchored matching. The second statement fails because strings are case sensitive, unlike names and labels. The third statement creates a variable to be used as the subject. The fifth statement employs an alternate: we are matching for 'FISH' or 'BIRD'.\n",
        "\n",
        "The last statement uses subsequents and alternates. We are looking for a substring in B that contains 'GOLD' or 'BLUE', followed by 'FISH' or 'BIRD'. It will match 'GOLDFISH', 'GOLDBIRD', 'BLUEFISH' or 'BLUEBIRD'. If the parentheses were omitted, concatenation of 'BLUE' and 'FISH' would be performed before alternation, and the pattern would match 'GOLD', 'BLUEFISH', or 'BIRD'."
      ],
      "metadata": {
        "id": "iDzMEOdQQcJX"
      }
    },
    {
      "cell_type": "markdown",
      "source": [
        "**6.6** The PATTERN data type\n",
        "\n",
        "If we execute the 1st statement the variable COLOR contains the string 'BLUE', and could appear in the pattern portion of the 2nd statement.\n",
        "\n",
        "Even though it is used as a pattern, COLOR has the string data type. However, complicated patterns may be stored in a variable just like a string or numeric value. The 3rd statement will create a structure describing the pattern, and store it in the variable COLOR. COLOR now has the PATTERN data type."
      ],
      "metadata": {
        "id": "KRATCCkZQvJL"
      }
    },
    {
      "cell_type": "code",
      "source": [
        "COLOR = 'BLUE' # 1st statement\n",
        "B in σ(COLOR) # 2nd statement\n",
        "COLOR = σ('GOLD') | σ('BLUE') # 3rd statement"
      ],
      "metadata": {
        "id": "DSMObeC1RKrh"
      },
      "execution_count": null,
      "outputs": []
    },
    {
      "cell_type": "markdown",
      "source": [
        "The preceding example from section 6.5 can now be written as:"
      ],
      "metadata": {
        "id": "A0O-UFmKS9_C"
      }
    },
    {
      "cell_type": "code",
      "source": [
        "CRITTER = σ('FISH') | σ('BIRD')\n",
        "BOTH = COLOR + CRITTER\n",
        "B in BOTH"
      ],
      "metadata": {
        "id": "r0bMx1fUSjpF"
      },
      "execution_count": null,
      "outputs": []
    },
    {
      "cell_type": "markdown",
      "source": [
        "**6.7** Capturing match results\n",
        "\n",
        "If the pattern match\n",
        "\n",
        "* B in BOTH\n",
        "\n",
        "succeeds, we may want to know which of the many pattern alternatives were used in the match. The binary operator conditional assignment assigns the matching subject substring to a variable. The operator is called conditional, because assignment occurs only if the entire pattern match is successful. Its graphic symbol is a percent (%). It assigns the matching substring on its left to the variable on its right. Note that the direction of assignment is just the opposite of the statement assignment operator (=). Continuing with the previous example, we'll redefine COLOR and CRITTER to use conditional assignment:"
      ],
      "metadata": {
        "id": "6ES9NfZyT2F5"
      }
    },
    {
      "cell_type": "code",
      "source": [
        "COLOR = (σ('GOLD') | σ('BLUE')) % \"SHADE\"\n",
        "CRITTER = (σ('FISH') | σ('BIRD')) % \"ANIMAL\"\n",
        "BOTH = COLOR + CRITTER\n",
        "SHADE = ANIMAL = None\n",
        "pprint([B in BOTH, SHADE, ANIMAL])"
      ],
      "metadata": {
        "id": "-AAyfAs2UXKE"
      },
      "execution_count": null,
      "outputs": []
    },
    {
      "cell_type": "markdown",
      "source": [
        "The substrings that match the subpatterns COLOR and CRITTER are assigned to SHADE and ANIMAL respectively.\n",
        "\n",
        "Conditional assignment may appear at any level of pattern nesting, and may include other conditional assignments within its embrace. The pattern\n",
        "\n",
        "* ((σ('B') | σ('F') | σ('N')) % \"FIRST\" + σ('EA') + (σ('R') | σ('T')) % \"LAST\") % \"WORD\"\n",
        "\n",
        "matches 'BEAR', 'FEAR', 'NEAR', 'BEAT', 'FEAT', or 'NEAT', assigning the first letter matched to FIRST, the last letter to LAST, and the entire result to WORD.\n",
        "\n",
        "The variable OUTPUT may be used as the target of conditional assignment. Try:"
      ],
      "metadata": {
        "id": "DZUnucQvVrsz"
      }
    },
    {
      "cell_type": "code",
      "source": [
        "matches = 'B2' in (σ('A') | σ('B')) % \"OUTPUT\" + (σ(1) | σ(2) | σ(3)) % \"OUTPUT\"\n",
        "pprint([matches])"
      ],
      "metadata": {
        "id": "_iRVFD0RWgDG"
      },
      "execution_count": null,
      "outputs": []
    },
    {
      "cell_type": "markdown",
      "source": [
        "**6.8** Unknowns\n",
        "\n",
        "All of the previous examples used patterns created from literal strings. We may also want to\n",
        "specify the qualities of a match component, rather than its specific characters. Using unknowns\n",
        "greatly increases the power of pattern matching. There are two types, primitive patterns and\n",
        "pattern functions."
      ],
      "metadata": {
        "id": "8PkP2TLCZU32"
      }
    },
    {
      "cell_type": "markdown",
      "source": [
        "**6.8.1** Primitive patterns\n",
        "\n",
        "There are seven primitive patterns built into the SNOBOL4 system. The two used most frequently will be discussed here. Chapter Advanced Topics introduces the remaining five.\n",
        "\n",
        "**4.8.1.1** **REM** Match remainder of subject\n",
        "\n",
        "REM is short for the remainder pattern. It will match zero or more characters at the end of the subject string. Try the following:"
      ],
      "metadata": {
        "id": "r3Z0AiOlZZEc"
      }
    },
    {
      "cell_type": "code",
      "source": [
        "'THE WINTER WINDS' in σ('WIN') + REM() % \"OUTPUT\""
      ],
      "metadata": {
        "id": "6QxDGqALZsc3"
      },
      "execution_count": null,
      "outputs": []
    },
    {
      "cell_type": "markdown",
      "source": [
        "The subpattern 'WIN' matched its first occurrence in the subject, at the beginning of the\n",
        "word 'WINTER'. REM matched from there to the end of the subject string - the characters\n",
        "'TER WINDS' - and assigned them to the variable OUTPUT. If we change the pattern slightly,\n",
        "to:"
      ],
      "metadata": {
        "id": "Tu1JhNTHaJHB"
      }
    },
    {
      "cell_type": "code",
      "source": [
        "'THE WINTER WINDS' in σ('WINDS') + REM() % \"tx\" + λ(\"print('<' + tx + '>')\")"
      ],
      "metadata": {
        "id": "8s9gaOoqaZQt"
      },
      "execution_count": null,
      "outputs": []
    },
    {
      "cell_type": "markdown",
      "source": [
        "then 'WINDS' matches at the end of the subject string, leaving a null remainder for REM.\n",
        "REM matches this null string, assigns it to OUTPUT, and a blank line is displayed.\n",
        "The pattern components to the left of REM must successfully match some portion of the\n",
        "subject string. REM begins where they left off, matching all subject characters through the\n",
        "end of string. There are no restrictions on the particular characters matched.\n"
      ],
      "metadata": {
        "id": "afgfKuZVa5TK"
      }
    },
    {
      "cell_type": "markdown",
      "source": [
        "**6.8.1.2** **ARB** Match arbitrary characters\n",
        "\n",
        "ARB matches an arbitrary number of characters from the subject string. It matches the\n",
        "shortest possible substring, including the null string. The pattern components on either\n",
        "side of ARB determine what is matched. Try the statements"
      ],
      "metadata": {
        "id": "ono96G3bbE05"
      }
    },
    {
      "cell_type": "code",
      "source": [
        "print('MOUNTAIN' in σ('O') + ARB() % \"OUTPUT\" + σ('A')) # first statement\n",
        "print('MOUNTAIN' in σ('O') + ARB() % \"OUTPUT\" + σ('U')) # second statement"
      ],
      "metadata": {
        "id": "EZ1viKARbTx7"
      },
      "execution_count": null,
      "outputs": []
    },
    {
      "cell_type": "markdown",
      "source": [
        "In the first statement, the ARB pattern is constrained on either side by the known patterns\n",
        "'O' and 'A'. ARB expands to match the subject characters between, 'UNT'. In the second\n",
        "statement, there is nothing between 'O' and 'U', so ARB matches the null string. ARB\n",
        "behaves like a spring, expanding as needed to fill the gap defined by neighboring patterns."
      ],
      "metadata": {
        "id": "GGox6C3kcFUh"
      }
    },
    {
      "cell_type": "markdown",
      "source": [
        "**6.8.2** Cursor position\n",
        "\n",
        "During a pattern match, the cursor is SNOBOL4's pointer into the subject string. It is integer valued, and points between two subject characters. The cursor is set to zero when a pattern match begins, corresponding to a position immediately to the left of the first subject character.\n",
        "\n",
        "As the pattern match proceeds, the cursor moves right and left across the subject to indicate where SNOBOL4 is attempting a match. The value of the cursor will be used by some of the pattern functions that follow.\n",
        "\n",
        "The cursor position function assigns the current cursor value to a variable. It is a function whose name is the 'theta' sign (θ). Its argument is the name of a variable. By using OUTPUT as the variable, we can display the cursor position on the screen. For instance:"
      ],
      "metadata": {
        "id": "9KJFUb1GcMuo"
      }
    },
    {
      "cell_type": "code",
      "source": [
        "print('VALLEY' in σ('A') + Θ(\"OUTPUT\") + ARB() + σ('E') + Θ(\"OUTPUT\"))\n",
        "print('DOUBT' in Θ(\"OUTPUT\") + σ('B'))\n",
        "print('FIX' in Θ(\"OUTPUT\") + σ('B'))"
      ],
      "metadata": {
        "id": "7x3qKXV7cgQO",
        "collapsed": true
      },
      "execution_count": null,
      "outputs": []
    },
    {
      "cell_type": "markdown",
      "source": [
        "Cursor assignment is performed whenever the pattern match encounters the operation, including retries. It occurs even if the pattern ultimately fails. The element θ(\"OUTPUT\") behaves like the null string - it doesn't consume subject characters or interfere with the match in any way."
      ],
      "metadata": {
        "id": "np9W_D6rd2xz"
      }
    },
    {
      "cell_type": "markdown",
      "source": [
        "**6.8.3** Integer pattern functions\n",
        "\n",
        "These functions return a pattern based on their integer argument. The pattern produced can be used directly in a pattern match statement, or stored in a variable for later retrieval."
      ],
      "metadata": {
        "id": "slwIaon4eCMq"
      }
    },
    {
      "cell_type": "markdown",
      "source": [
        "**6.8.3.1** **LEN(integer)** Match fixed-length string\n",
        "\n",
        "LEN(I) produces a pattern which matches a string exactly I characters long. I must be an integer greater than or equal to zero. Any characters may appear in the matched string. For example, LEN(5) matches any 5-character string, and LEN(0) matches the null string. LEN may be constrained to certain portions of the subject by other adjacent patterns:"
      ],
      "metadata": {
        "id": "WnZnM3gaeKQH"
      }
    },
    {
      "cell_type": "code",
      "source": [
        "S = 'ABCDA'\n",
        "print(S in LEN(3) % \"OUTPUT\")\n",
        "print(S in LEN(2) % \"OUTPUT\" + σ('A'))"
      ],
      "metadata": {
        "id": "FkJPXW0neWHQ"
      },
      "execution_count": null,
      "outputs": []
    },
    {
      "cell_type": "markdown",
      "source": [
        "The first pattern match had only one constraint - the subject had to be at least three characters long - so LEN(3) matched its first three characters. The second case imposes the additional restriction that LEN(2)'s match be followed immediately by the letter 'A'.\n",
        "\n",
        "This disqualifies the intermediate match attempts 'AB' and 'BC'. Using keyword ALPHABET as the subject provides a simple way to convert a decimal character code between 0 and 255 to its one character equivalent. For example, by consulting an ASCII character code chart we find that the BEL character is decimal 7. We can load that character into variable BEEP with one statement:"
      ],
      "metadata": {
        "id": "GFanUY18fw18"
      }
    },
    {
      "cell_type": "code",
      "source": [
        "ALPHABET in LEN(7) + LEN(1) % \"BEEP\"\n",
        "pprint(BEEP)"
      ],
      "metadata": {
        "id": "-M9dWa6rf_4q"
      },
      "execution_count": null,
      "outputs": []
    },
    {
      "cell_type": "markdown",
      "source": [
        "ALPHABET contains all 256 members of the ASCII character set, in ascending order. LEN(7) matches the first seven characters (codes 0-6), leaving BEL as the next match position for LEN(1). This operation is analogous to the CHR$ function in BASIC.\n",
        "\n",
        "The inverse operation, obtaining the numerical value of a character code, is also possible. If variable CHAR contains a one character string, variable N will be set to its decimal equivalent with the second statement below:"
      ],
      "metadata": {
        "id": "QYuOPOBzgO2y"
      }
    },
    {
      "cell_type": "code",
      "source": [
        "CHAR = 'A'\n",
        "ALPHABET in ARB() + Θ(\"N\") + σ(CHAR)\n",
        "print(N)"
      ],
      "metadata": {
        "id": "28_B6s5Mgk1N"
      },
      "execution_count": null,
      "outputs": []
    },
    {
      "cell_type": "markdown",
      "source": [
        "**6.8.3.2** **POS(integer)**, **RPOS(integer)** Verify cursor position\n",
        "\n",
        "The POS(I) and RPOS(I) patterns do not match subject characters. Instead, they succeed only if the current cursor position is a specified value. They often are used to tie points of the pattern to specific character positions in the subject.\n",
        "\n",
        "POS(I) counts from the left end of the subject string, succeeding if the current cursor position is equal to I. RPOS(I) is similar, but counts from the right end of the subject. If the subject length is N characters, RPOS(I) requires the cursor be N - I. If the cursor is not the correct value, these functions fail, and Snobol4 tries other pattern alternatives, perhaps extending a previous substring matched by ARB, or beginning the match further along in the subject."
      ],
      "metadata": {
        "id": "1QFLTxBriT2i"
      }
    },
    {
      "cell_type": "code",
      "source": [
        "S = 'ABCDA'\n",
        "print(S in POS(0) + σ('B')) # first example\n",
        "print(S in LEN(3) % \"OUTPUT\" + RPOS(0)) # similarly\n",
        "print(S in POS(3) + LEN(1) % \"OUTPUT\") # next example\n",
        "print(S in POS(0) + σ('ABCD') + RPOS(0)) # finally"
      ],
      "metadata": {
        "id": "takpGTNSigAr"
      },
      "execution_count": null,
      "outputs": []
    },
    {
      "cell_type": "markdown",
      "source": [
        "The first example requires a 'B' at cursor position 0, and fails for this subject. POS(0)\n",
        "anchors the match, forcing it to begin with the first subject character. Similarly, RPOS(0)\n",
        "anchors the end of the pattern to the tail of the subject. The next example matches\n",
        "at a specific mid-string character position, POS(3). Finally, enclosing a pattern between\n",
        "POS(0) and RPOS(0) forces the match to use the entire subject string.\n",
        "\n",
        "At first glance these functions appear to be setting the cursor to a specified value. Actually,\n",
        "they never alter the cursor, but instead wait for the cursor to come to them as various\n",
        "match alternatives are attempted. This, in turn, allows other patterns in the statement\n",
        "to be processed in an orderly fashion. You can demonstrate this waiting for the cursor\n",
        "behavior like this:"
      ],
      "metadata": {
        "id": "o4qjnVVZjeE3"
      }
    },
    {
      "cell_type": "code",
      "source": [
        "S in ARB() + Θ(\"OUTPUT\") + POS(3)"
      ],
      "metadata": {
        "id": "Z0C9Sdnoj17y"
      },
      "execution_count": null,
      "outputs": []
    },
    {
      "cell_type": "markdown",
      "source": [
        "**6.8.3.3** **TAB(integer)**, **RTAB(integer)** Match to fixed position\n",
        "\n",
        "These patterns are hybrids of ARB, POS, and RPOS. They use specific cursor positions, like POS and RPOS, but bind (match) subject characters, like ARB. TAB(I) matches any characters from the current cursor position up to the specified position I. RTAB(I) does the same, except, as in RPOS, the target position is measured from the end of the subject.\n",
        "\n",
        "TAB and RTAB will match the null string, but will fail if the current cursor is to the right of the target. They also fail if the target position is past the end of the subject string. These patterns are useful when working with tabular data. For example, if a data file contains name, street address, city and state in columns 1, 30, 60, and 75, this pattern will break out those elements from a line:"
      ],
      "metadata": {
        "id": "SHuFq703kVi5"
      }
    },
    {
      "cell_type": "code",
      "source": [
        "P = TAB(29) % \"NAME\" + TAB(59) % \"STREET\" + TAB(74) % \"CITY\" + REM() % \"STATE\""
      ],
      "metadata": {
        "id": "xvxmWL3wkeWM"
      },
      "execution_count": null,
      "outputs": []
    },
    {
      "cell_type": "markdown",
      "source": [
        "The pattern RTAB(0) is equivalent to primitive pattern REM. One potential source of confusion is just what it is that RTAB matches. It counts from the right end of the subject,\n",
        "but matches to the left of its target cursor. Try:"
      ],
      "metadata": {
        "id": "GZ1djGAik389"
      }
    },
    {
      "cell_type": "code",
      "source": [
        "'ABCDE' in TAB(2) % \"OUTPUT\" + RTAB(1) % \"OUTPUT\""
      ],
      "metadata": {
        "id": "iVTxYZkMk9Ek"
      },
      "execution_count": null,
      "outputs": []
    },
    {
      "cell_type": "markdown",
      "source": [
        "TAB(2) matches 'AB', leaving the cursor at 2, between 'B' and 'C'. The subject is 5\n",
        "characters long, so RTAB(1) specifies a target cursor of 5 - 1, or 4, which is between the\n",
        "'D' and 'E'. RTAB matches everything from the current cursor, 2, to the target, 4."
      ],
      "metadata": {
        "id": "nKtLCo7rlMxm"
      }
    },
    {
      "cell_type": "markdown",
      "source": [
        "**6.8.4** Character pattern functions\n",
        "\n",
        "These functions produce a pattern based on a string-valued argument. Once again, the pattern may be used directly or stored in a variable."
      ],
      "metadata": {
        "id": "FLbTILrSlY1C"
      }
    },
    {
      "cell_type": "markdown",
      "source": [
        "**6.8.4.1** **ANY(string)**, **NOTANY(string)** Match one character\n",
        "\n",
        "Each function produces a pattern which matches one character based upon the subject string. ANY(S) matches the next subject character if it appears in the string S, and fails otherwise. NOTANY(S) matches a subject character only if it does not appear in S. Here are some sample uses of each:"
      ],
      "metadata": {
        "id": "M4qlRc--lgni"
      }
    },
    {
      "cell_type": "code",
      "source": [
        "VOWEL = ANY('AEIOU')\n",
        "DVOWEL = VOWEL + VOWEL\n",
        "NOTVOWEL = NOTANY('AEIOU')\n",
        "print('VACUUM' in VOWEL % \"OUTPUT\")\n",
        "print('VACUUM' in DVOWEL % \"OUTPUT\")\n",
        "print('VACUUM' in (VOWEL + NOTVOWEL) % \"OUTPUT\")"
      ],
      "metadata": {
        "id": "1wANgzlclrQz"
      },
      "execution_count": null,
      "outputs": []
    },
    {
      "cell_type": "markdown",
      "source": [
        "The argument string specifies a set of characters to be used in creating the ANY or NOTANY pattern. It may contain duplicate characters, and the order of characters in S is immaterial."
      ],
      "metadata": {
        "id": "Y8cx1vnEmiz5"
      }
    },
    {
      "cell_type": "markdown",
      "source": [
        "**6.8.4.2** **SPAN(string)**, **BREAK(string)** Match a run of characters\n",
        "\n",
        "These are multicharacter versions of ANY and NOTANY. Each requires a nonnull argument to specify a set of characters.\n",
        "\n",
        "SPAN(S) matches one or more subject characters from the set in S. SPAN must match at least one subject character, and will match the longest subject string possible.\n",
        "\n",
        "BREAK(S) matches up to but not including any character in S. The string matched must always be followed in the subject by a character in S. Unlike SPAN and NOTANY, BREAK will match the null string.\n",
        "\n",
        "These two functions are called stream functions because each streams by a series of subject characters. SPAN is most useful for matching a group of characters with a common trait.\n",
        "\n",
        "For example, we can say an English word is composed of one or more alphabetic characters, apostrophe, and hyphen. The statements"
      ],
      "metadata": {
        "id": "HhNUbuBWmrPH"
      }
    },
    {
      "cell_type": "code",
      "source": [
        "LETTERS = \"ABCDEFGHIJKLMNOPQRSTUVWXYZ’-\"\n",
        "WORD = SPAN(LETTERS)"
      ],
      "metadata": {
        "id": "KJzJfcr3m7T9"
      },
      "execution_count": null,
      "outputs": []
    },
    {
      "cell_type": "markdown",
      "source": [
        "produce a suitable pattern in WORD. To match the material between words (white space, punctuation, etc.), use the pattern:"
      ],
      "metadata": {
        "id": "QFrafIlwnG-g"
      }
    },
    {
      "cell_type": "code",
      "source": [
        "GAP = BREAK(LETTERS)"
      ],
      "metadata": {
        "id": "8wKLal2ZnOW9"
      },
      "execution_count": null,
      "outputs": []
    },
    {
      "cell_type": "markdown",
      "source": [
        "SPAN and BREAK are two of the most useful SNOBOL4 functions. Try some examples."
      ],
      "metadata": {
        "id": "3U0kBbYzO7vh"
      }
    },
    {
      "cell_type": "code",
      "source": [
        "print('SAMPLE LINE' in WORD % \"OUTPUT\")\n",
        "print('PLUS TEN DEGREES' in σ(' ') + WORD % \"OUTPUT\")\n",
        "GAPO = GAP % \"OUTPUT\"\n",
        "WORDO = WORD % \"OUTPUT\"\n",
        "print(': ONE, TWO, THREE' in GAPO + WORDO + GAPO + WORDO)\n",
        "DIGITS = '0123456789'\n",
        "INTEGER = (ANY('+-') | ε()) + SPAN(DIGITS)\n",
        "print('SET -43 VOLTS' in INTEGER % \"OUTPUT\")\n",
        "REAL = INTEGER + σ('.') + (SPAN(DIGITS) | ε())\n",
        "print('SET -43.625 VOLTS' in REAL % \"OUTPUT\")\n",
        "S = '0ZERO,1ONE,2TWO,3THREE,4FOUR,5FIVE,'\n",
        "print(S in σ('4') + BREAK(',') % \"OUTPUT\")"
      ],
      "metadata": {
        "id": "bklAmpnsncwt"
      },
      "execution_count": null,
      "outputs": []
    },
    {
      "cell_type": "markdown",
      "source": [
        "If you require a version of SPAN which will match the null string, or a BREAK which will not match the null string, you can use the following constructions:"
      ],
      "metadata": {
        "id": "wn57TUqPpj5a"
      }
    },
    {
      "cell_type": "code",
      "source": [
        "print(SPAN(S) | ε())\n",
        "print(NOTANY(S) + BREAK(S))"
      ],
      "metadata": {
        "id": "syf-PZSjPx_Z"
      },
      "execution_count": null,
      "outputs": []
    },
    {
      "cell_type": "markdown",
      "source": [
        "I've introduced a lot of concepts in this chapter; it's time to see how they fit together into programs.\n",
        "\n",
        "**6.10.1** Word Counting\n",
        "\n",
        "The first program counts the number of words in the input string."
      ],
      "metadata": {
        "id": "1nCPXpP7qAy0"
      }
    },
    {
      "cell_type": "code",
      "source": [
        "N = 0\n",
        "WORD = \"'-\" + '0123456789' + UCASE + LCASE\n",
        "WPAT = BREAK(WORD) + SPAN(WORD)\n",
        "\"Now is the time for all good men to come to the aid of their country.\" in (\n",
        "    POS(0) + λ(\"N = 0\")\n",
        "  + ARBNO(WPAT + λ(\"N += 1\"))\n",
        "  + ARBNO(NOTANY(WORD))\n",
        "  + RPOS(0)\n",
        ")\n",
        "print(N, 'words')"
      ],
      "metadata": {
        "id": "4-Q0qoZ1qPGt"
      },
      "execution_count": null,
      "outputs": []
    },
    {
      "cell_type": "markdown",
      "source": [
        "**7.2** Unevaluated expressions\n",
        "\n",
        "The unevaluated expression, lambda function, may be used with the argument of the pattern functions ANY, BREAK, LEN, NOTANY, POS, RPOS, RTAB, SPAN, or TAB. Here's an example:\n",
        "\n",
        "* LEN(lambda: POSITION)\n",
        "* SPAN(lambda: CHARACTERS)\n",
        "\n",
        "The current value of POSITION and CHARACTERS are ignored at this time. Later, when used in a pattern match, the unevaluated expression operator tells SNOBOL4 to fetch the current values."
      ],
      "metadata": {
        "id": "rRQv8O2fLYwR"
      }
    },
    {
      "cell_type": "markdown",
      "source": [
        "**7.3** Immediate assignment\n",
        "\n",
        "Our examples have made extensive use of the conditional assignment operator to capture matched substrings after a successful pattern match. The immediate assignment operator allows us to capture intermediate results during the pattern match.\n",
        "\n",
        "Immediate assignment occurs whenever a subpattern matches, even if the entire pattern match ultimately fails. Immediate assignment is a binary operator whose graphic symbol is the at sign (@). Like conditional assignment, the matching substring on its left is assigned to the variable on its right. Here are examples where we use variable OUTPUT to reveal the work of the pattern matcher:"
      ],
      "metadata": {
        "id": "GZj2bw_tYL7V"
      }
    },
    {
      "cell_type": "code",
      "source": [
        "S = 'ABCDEFG'\n",
        "print(S in σ('A') + ARB() @ \"OUTPUT\" + σ('E'))\n",
        "print(S in (σ('B') + LEN(2) | σ('C') + LEN(3)) @ \"OUTPUT\" + σ('G'))"
      ],
      "metadata": {
        "id": "XWJoI_wwbAD6"
      },
      "execution_count": null,
      "outputs": []
    },
    {
      "cell_type": "markdown",
      "source": [
        "**7.3.1** Immediate assignment and unevaluated expressions\n",
        "\n",
        "As useful as immediate assignment is for revealing the inner workings of a pattern match, a more powerful use is possible. It can be used with the unevaluated expression operator to develop a new class of patterns. An interesting substring at the beginning of the subject is immediately assigned to a variable, and the variable is then subsequently used in the very same pattern.\n",
        "\n",
        "Suppose a number at the beginning of the subject specifies the length of a variable width field that follows. We would like to capture the number into variable N, then use it with the LEN function to transfer the data into variable FIELD. When used with LEN, N must be preceded by the unevaluated expression operator, so that its new value is retrieved. For instance:"
      ],
      "metadata": {
        "id": "TbngyvDqcMbr"
      }
    },
    {
      "cell_type": "code",
      "source": [
        "FPAT = SPAN('0123456789') @ \"N\" + LEN(lambda: N) % \"FIELD\"\n",
        "N = FIELD = None\n",
        "pprint(['12ABCDEFGHIJKLMNOPQ' in FPAT, N, FIELD])"
      ],
      "metadata": {
        "id": "kCa6GValcc02"
      },
      "execution_count": null,
      "outputs": []
    },
    {
      "cell_type": "markdown",
      "source": [
        "SPAN matched the field length, 12, and immediately assigned it to N. LEN(lambda: N) then matched the next 12 characters. Another subject, with a different field length, would update N appropriately.\n",
        "\n",
        "Type conversion was working quietly behind the scenes here: N was assigned the string '12', yet it appeared as integer 12 to the LEN function.\n",
        "\n",
        "Now here is an example which provides a glimpse of just how powerful SNOBOL4's pattern matching can be. Problem: Examine a subject for an arbitrary three-character substring which appears twice in a row, or bracketed in parentheses. Solution:"
      ],
      "metadata": {
        "id": "X7ZVCHypdRDJ"
      }
    },
    {
      "cell_type": "code",
      "source": [
        "TWOPAT = (\n",
        "      LEN(3) @ \"X\"\n",
        "    + ( σ(lambda: X)\n",
        "      | σ(\"(\") + σ(lambda: X) + σ(\")\")\n",
        "      )\n",
        ")\n",
        "X = None\n",
        "pprint(['ABCDECDEFGH' in TWOPAT, X])\n",
        "pprint(['ABCDE(CDE)BA' in TWOPAT, X])"
      ],
      "metadata": {
        "id": "vNVIL_HgdrGk"
      },
      "execution_count": null,
      "outputs": []
    },
    {
      "cell_type": "markdown",
      "source": [
        "**9.1** The ARBNO function\n",
        "\n",
        "This function produces a pattern which will match zero or more consecutive occurrences of the pattern specified by its argument. As its name implies, ARBNO is useful when an arbitrary number of instances of a pattern may occur. For example, ARBNO(LEN(3)) matches strings of length 0, 3, 6, 9, ... There is no restriction on the complexity of the pattern argument.\n",
        "\n",
        "Like the ARB pattern, ARBNO is shy, and tries to match the shortest possible string. Initially, it simply matches the null string. If a subsequent pattern component fails to match, SNOBOL4 backs up, and asks ARBNO to try again. Each time ARBNO is retried, it supplies another instance of its argument pattern. In other words, ARBNO(PAT) behaves like\n",
        "\n",
        "* (ε() | PAT | PAT + PAT | PAT + PAT + PAT | ...)\n",
        "\n",
        "Also like ARB, ARBNO is usually used with adjacent patterns to draw it out. Let's consider a simple example. We want to write a pattern to test for a list. We'll define a list as being one or more numbers separated by comma, and enclosed by parentheses. Use CODE.SNO to try this definition:"
      ],
      "metadata": {
        "id": "-zsDkKT0xcXr"
      }
    },
    {
      "cell_type": "code",
      "source": [
        "ITEM = SPAN('0123456789')\n",
        "LIST = POS(0) + σ('(') + ITEM + ARBNO(σ(',') + ITEM) + σ(')') + RPOS(0)\n",
        "print('(12,345,6)' in LIST)\n",
        "print('(12,,34)' in LIST)"
      ],
      "metadata": {
        "id": "adiVLFxuyGMy"
      },
      "execution_count": null,
      "outputs": []
    },
    {
      "cell_type": "markdown",
      "source": [
        "ARBNO is retried and extended until its subsequent, ')', finally matches. POS(0) and RPOS(0) force the pattern to be applied to the entire subject string.\n",
        "\n",
        "Alternation may be used within ARBNO's argument. This pattern matches any number of pairs of certain letters:"
      ],
      "metadata": {
        "id": "UXTU7VSCy11e"
      }
    },
    {
      "cell_type": "code",
      "source": [
        "PAIRS = POS(0) + ARBNO(σ('AA') | σ('BB') | σ('CC')) + RPOS(0)\n",
        "print('CCBBAAAACC' in PAIRS)\n",
        "print('AABBB' in PAIRS)"
      ],
      "metadata": {
        "id": "2GDUCTzVzDvo"
      },
      "execution_count": null,
      "outputs": []
    },
    {
      "cell_type": "markdown",
      "source": [
        "**9.2** Recursive patterns\n",
        "\n",
        "This is the pattern analogue of a recursive function - a pattern is defined in terms of itself. The unevaluated expression operator makes the definition possible.\n",
        "\n",
        "Suppose we wanted to expand the previous definition of a list to say that a list item may be a span of digits, or another list. The definition proceeds as before, except that the unevaluated expression operator is used in the first statement; the concept of a list has not yet been defined:"
      ],
      "metadata": {
        "id": "4zyrpbvYzkhF"
      }
    },
    {
      "cell_type": "code",
      "source": [
        "ITEM = SPAN('0123456789') | ζ('LIST')\n",
        "LIST = σ('(') + ITEM + ARBNO(σ(',') + ITEM) + σ(')')\n",
        "TEST = POS(0) + LIST + RPOS(0)\n",
        "print('(12,(3,45,(6)),78)' in TEST)\n",
        "print('(12,(34)' in TEST)"
      ],
      "metadata": {
        "id": "LbpphWqWzw9i"
      },
      "execution_count": null,
      "outputs": []
    },
    {
      "cell_type": "markdown",
      "source": [
        "Recursion occurs because LIST is defined in terms of ITEM, which is defined in terms of LIST, and so on. Note that functions POS(0) and RPOS(0) were moved out one level, to TEST, because LIST must now match substrings within the subject.\n",
        "\n",
        "In our previous discussion of recursive functions, we said they work because successive calls present the function with progressively simpler problems, until the problem can be solved without further recursion. Similarly, patterns ITEM and LIST are applied to successively smaller substrings, until ITEM can use its SPAN alternative instead of invoking LIST again.\n",
        "\n",
        "In general, you will need an alternative somewhere in the recursive loop to allow the pattern matcher a way out. Also, you should place recursive objects last in a series of alternatives, so that the simpler, nonrecursive patterns are attempted first and recursive plunges can be avoided.\n",
        "\n",
        "SNOBOL4 saves information on a pattern stack during the pattern match process. Heavily recursive patterns and long subject strings can sometimes result in stack overflow. If this occurs, you should break the problem apart into several smaller pattern matches."
      ],
      "metadata": {
        "id": "-6otT1Er0yvE"
      }
    },
    {
      "cell_type": "markdown",
      "source": [
        "**9.4** Other primitive patterns\n",
        "\n",
        "We can accomplish quite a lot with just the primitive patterns ARB and REM. However, there are five additional patterns which you should be aware of:"
      ],
      "metadata": {
        "id": "PzTAAkfa1C-S"
      }
    },
    {
      "cell_type": "markdown",
      "source": [
        "**9.4.1** **ABORT** End pattern match\n",
        "\n",
        "The ABORT pattern causes immediate failure of the entire pattern match, without seeking other alternatives. Usually a match succeeds when we find a subject sequence which satisfies the pattern. The ABORT pattern does the opposite: if we find a certain pattern, we will abort the match and fail immediately. For example, suppose we are looking for an 'A' or 'B', but want to fail if '1' is encountered first:"
      ],
      "metadata": {
        "id": "kjfy_mYZ1NG8"
      }
    },
    {
      "cell_type": "code",
      "source": [
        "# print('--AB-1-' in (ANY('AB') | σ('1') + ABORT())) # ABORT Not yet implemented\n",
        "# print('--1B-A-' in (ANY('AB') | σ('1') + ABORT())) # ABORT Not yet implemented"
      ],
      "metadata": {
        "collapsed": true,
        "id": "FqwF_Jgw1egL"
      },
      "execution_count": null,
      "outputs": []
    },
    {
      "cell_type": "markdown",
      "source": [
        "The last example may be confusing because the ANY function appears as the first alternative, fostering the illusion that it will find the 'B' in the subject before the other pattern alternative is tried. However, that is not the order of pattern matching; all pattern alternatives are tried at cursor position zero in the subject. If none succeed, the cursor is advanced by one, and all alternatives are tried again. When the cursor is in front of subject character '1', ANY still does not match, but the second alternative now does. As the '1's match, ABORT is reached, causing failure."
      ],
      "metadata": {
        "id": "MV2tY7Og2DQ9"
      }
    },
    {
      "cell_type": "markdown",
      "source": [
        "**9.4.2** **BAL** Match balanced string\n",
        "\n",
        "The BAL pattern matches the shortest non-null string in which parentheses are balanced. (A string without parentheses is also considered to be balanced.) These strings are balanced:\n",
        "\n",
        "* (X)\n",
        "* Y\n",
        "* (A!(C:D))\n",
        "* (AB)+(CD)\n",
        "* 9395\n",
        "\n",
        "These are not:\n",
        "\n",
        "* )A+B\n",
        "* (A*(B+)\n",
        "* (X))\n",
        "\n",
        "BAL is concerned only with left and right parentheses. The matching string does not have to be a well-formed expression in the algebraic sense; in fact, it needn't be an algebraic expression at all. Like ARB, BAL is most useful when constrained on both sides by other pattern components."
      ],
      "metadata": {
        "id": "aKnMTNt62QI9"
      }
    },
    {
      "cell_type": "markdown",
      "source": [
        "**9.4.3** **FAIL** Seek other alternatives\n",
        "\n",
        "The FAIL pattern signals failure of this portion of the pattern match, causing the pattern matcher to backtrack and seek other alternatives. FAIL will also suppress a successful match, which can be very useful when the match is being performed for its side effects, such as immediate assignment. For example, in unanchored mode, this statement will display the subject characters, one per line:\n",
        "\n",
        "* SUBJECT in LEN(1) @ \"OUTPUT\" + FAIL()\n",
        "\n",
        "LEN(1) matches the first subject character, and immediately assigns it to OUTPUT. FAIL tells the pattern matcher to try again, and since there are no other alternatives, the entire match is retried at the next subject character. Forced failure and retries continue until the subject is exhausted."
      ],
      "metadata": {
        "id": "mysxPD3t2tvq"
      }
    },
    {
      "cell_type": "markdown",
      "source": [
        "**9.4.4** **FENCE** Prevent match retries\n",
        "\n",
        "Pattern FENCE matches the null string and has no effect when the pattern matcher is moving left to right in a pattern. However, if the pattern matcher is backing up to try other alternatives, and encounters FENCE, the match fails.\n",
        "\n",
        "FENCE can be used to lock in an earlier success. Suppose we want to succeed if the first 'A' or 'B' in the subject is followed by a plus sign. In the following example, the 'A's match, we go through the FENCE, and find '+' does not match the next subject character, 'B'. Snobol4 tries to backtrack, but is stopped by the FENCE and fails:"
      ],
      "metadata": {
        "id": "qpT_Htb-3EFg"
      }
    },
    {
      "cell_type": "code",
      "source": [
        "print('1AB+' in ANY('AB') + FENCE() + σ('+'))"
      ],
      "metadata": {
        "id": "EoTrHHq63QTp"
      },
      "execution_count": null,
      "outputs": []
    },
    {
      "cell_type": "markdown",
      "source": [
        "If FENCE were omitted, backtracking would match ANY to 'B', and then proceed forward again to match '+'.\n",
        "\n",
        "If FENCE appears as the first component of a pattern, SNOBOL4 cannot back up through it to try another subject starting position. This results in an anchored pattern."
      ],
      "metadata": {
        "id": "dcstbqIa3efG"
      }
    },
    {
      "cell_type": "code",
      "source": [
        "print('ABC' in FENCE() + σ('B'))"
      ],
      "metadata": {
        "id": "2ebI4psj3q6n"
      },
      "execution_count": null,
      "outputs": []
    },
    {
      "cell_type": "markdown",
      "source": [
        "**9.4.5** **SUCCEED** Match always\n",
        "\n",
        "This pattern matches the null string and always succeeds. If the scanner is backtracking when it encounters SUCCEED, it reverses and starts forward again. Placing a pattern between SUCCEED and FAIL causes the pattern matcher to oscillate."
      ],
      "metadata": {
        "id": "4NcEk48y4JUw"
      }
    }
  ]
}