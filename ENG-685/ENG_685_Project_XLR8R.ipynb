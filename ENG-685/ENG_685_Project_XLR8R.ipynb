{
  "nbformat": 4,
  "nbformat_minor": 0,
  "metadata": {
    "colab": {
      "provenance": []
    },
    "kernelspec": {
      "name": "python3",
      "display_name": "Python 3"
    },
    "language_info": {
      "name": "python"
    }
  },
  "cells": [
    {
      "cell_type": "markdown",
      "source": [
        "**XLR8R: A lex/syntax assistant**\n",
        "\n",
        "Presenting $XLR8R$ for building tokenizers and parsers; code name $XLR8R$, a mnemonic for accelerator. Its purpose is to extract structure from files with unknown formats or grammars so that the data can be further analyzed.\n",
        "\n",
        "The simple tool works based on a feedback-control loop. Previously seen patterns are applied to the input data. As these patterns are recognized in context, new patterns emerge based on what's already been seen, the developer makes small, incremental adjustments by incorporating these new patterns back into the set of seen patterns, and the process repeats until all data is properly organized.\n",
        "\n",
        "For example, let's bootstrap a calculator-expression parser by repeatedly feeding back into the system the output patterns produced from matching properly formed samples of these expressions. With each cycle, the parser should become more complete and accurate."
      ],
      "metadata": {
        "id": "4syhiWzI1xdd"
      }
    },
    {
      "cell_type": "code",
      "source": [
        "!pip install SNOBOL4python==0.4.5\n",
        "import sys\n",
        "from pprint import pprint, pformat\n",
        "## Thirty one (31) flavors of patterns to choose from ...\n",
        "from SNOBOL4python import ε, σ, π, λ, Λ, ζ, θ, Θ, φ, Φ, α, ω\n",
        "from SNOBOL4python import ABORT, ANY, ARB, ARBNO, BAL, BREAK, BREAKX, FAIL\n",
        "from SNOBOL4python import FENCE, LEN, MARB, MARBNO, NOTANY, POS, REM, RPOS\n",
        "from SNOBOL4python import RTAB, SPAN, SUCCEED, TAB\n",
        "# Miscellaneous\n",
        "from SNOBOL4python import GLOBALS, TRACE, PATTERN, Ϩ, STRING\n",
        "from SNOBOL4python import ALPHABET, DIGITS, UCASE, LCASE, NULL\n",
        "from SNOBOL4python import nPush, nInc, nPop, Shift, Reduce, Pop\n",
        "# Instantiate the global variable space\n",
        "GLOBALS(globals())"
      ],
      "metadata": {
        "id": "DiBRbS8wFd5d"
      },
      "execution_count": null,
      "outputs": []
    },
    {
      "cell_type": "markdown",
      "source": [
        "In order to ensure an abundance of properly formed expressions, utilize an expression generator either exhaustively or randomly. For our purpose, a random expression generator should work nicely. The function below, rand_expression, returns a well-formed expression with random length and randomized content."
      ],
      "metadata": {
        "id": "c1-jUF2j5Nok"
      }
    },
    {
      "cell_type": "code",
      "execution_count": null,
      "metadata": {
        "id": "aTMFTGk0EqWU"
      },
      "outputs": [],
      "source": [
        "import random\n",
        "def rand_item():\n",
        "    r = random.randint(1, 100)\n",
        "    if   r <=  13: return \"x\"\n",
        "    elif r <=  26: return \"y\"\n",
        "    elif r <=  39: return \"z\"\n",
        "    elif r <=  80: return str(random.randint(0, 16))\n",
        "    elif r <= 100: return \"(\" + rand_term() + \")\"\n",
        "\n",
        "def rand_element():\n",
        "    r = random.randint(1, 100)\n",
        "    if   r <=  90: return rand_item()\n",
        "    elif r <=  95: return '+' + rand_element()\n",
        "    elif r <= 100: return '-' + rand_element()\n",
        "\n",
        "def rand_factor():\n",
        "    r = random.randint(1, 100)\n",
        "    if   r <=  70: return rand_element()\n",
        "    elif r <=  85: return rand_element() + '*' + rand_factor()\n",
        "    elif r <= 100: return rand_element() + '/' + rand_factor()\n",
        "\n",
        "def rand_term():\n",
        "    r = random.randint(1, 100)\n",
        "    if   r <=  70: return rand_factor()\n",
        "    elif r <=  85: return rand_factor() + '+' + rand_term()\n",
        "    elif r <= 100: return rand_factor() + '-' + rand_term()\n",
        "\n",
        "def rand_expression():\n",
        "    return rand_term()"
      ]
    },
    {
      "cell_type": "markdown",
      "source": [
        "One of the very first steps is to determine the usage of characters within the unknown input, i.e. the set of characters and frequency of use."
      ],
      "metadata": {
        "id": "oMDqirLN7h8C"
      }
    },
    {
      "cell_type": "code",
      "source": [
        "chars = {}\n",
        "for _ in range(0, 1024):\n",
        "    for ch in rand_expression():\n",
        "        if ch not in chars:\n",
        "            chars[ch] = 1\n",
        "        else: chars[ch] += 1\n",
        "pprint(chars)"
      ],
      "metadata": {
        "id": "NeYkqFneG8B9"
      },
      "execution_count": null,
      "outputs": []
    },
    {
      "cell_type": "markdown",
      "source": [
        "Another first step is to discover possible tokens. Begin by looking at sequences of traditional classes of characters like digits, upper-case letters, lower-case letters, and special character sequences as operator symbols."
      ],
      "metadata": {
        "id": "-w3B9bDS8tL7"
      }
    },
    {
      "cell_type": "code",
      "source": [
        "token_statistics = \\\n",
        "    ( POS(0)\n",
        "    + ARBNO(\n",
        "        ( SPAN(DIGITS)\n",
        "        | SPAN(UCASE)\n",
        "        | SPAN(LCASE)\n",
        "        | SPAN(\"+-*/\")\n",
        "        | LEN(1)\n",
        "        ) % \"token\"\n",
        "      + λ(f'''if token not in tokens: tokens[token] = 0''')\n",
        "      + λ(f'''tokens[token] += 1''')\n",
        "      )\n",
        "    + RPOS(0)\n",
        "    )\n",
        "tokens = {}\n",
        "for _ in range(0, 128):\n",
        "    rand_expression() in token_statistics\n",
        "pprint(tokens)"
      ],
      "metadata": {
        "id": "ooNSd3UhN-pX"
      },
      "execution_count": null,
      "outputs": []
    },
    {
      "cell_type": "markdown",
      "source": [
        "In this next code snippet, the $XRL8R\\_expressions$ function, is a simple engine that produces a number of random expressions, analyzes each one with the XLR8R pattern, and returns the results of that analysis."
      ],
      "metadata": {
        "id": "0yobF1yL_5t0"
      }
    },
    {
      "cell_type": "code",
      "source": [
        "def XLR8R_expressions():\n",
        "    count = 0\n",
        "    while count < 8:\n",
        "        subject = rand_expression()\n",
        "        if len(subject) <= 10:\n",
        "            if matches := subject in XLR8R(\"P\"):\n",
        "                print(f\"{str(matches):5s} {subject:10s}  {P}\")\n",
        "            else: print(f\"{str(matches):5s} {subject:10s}\")\n",
        "            count += 1"
      ],
      "metadata": {
        "id": "s_mV_rI3GB1r"
      },
      "execution_count": null,
      "outputs": []
    },
    {
      "cell_type": "markdown",
      "source": [
        "What follows is the core componenent of the feedback-control mechanism. The translator, $XLR8R$, function returns a PATTERN which recognizes a sequence of known patterns and returns what it recognized. What $XLR8R$ returns is Python code which when compiled and executed creates a PATTERN that matches that specific input. Thus, the XLR8R pattern encodes **proper subsequents** within the context of a particular set of known patterns.\n",
        "\n",
        "$XLR8R$ produces a PATTERN that matches the string that XLR8R just matched. That PATTERN is a sequence of PATTERNs from the known set of patterns.\n",
        "\n",
        "The $XLR8R\\_expressions$ function then produces a set of varying PATTERNs by iterating over several samples of properly-formed input. Each of these varying PATTERNs recognize properly formed inputs. Thus, the $XLR8R\\_expressions$ function encodes the **proper alternates** within the context of a particular set of known patterns.\n",
        "\n",
        "This $XLR8R$ function will be revised at every iteration of the feedback-control loop by incorporating patterns from the output back into the XLR8R pattern for the next iteration."
      ],
      "metadata": {
        "id": "eWl-3IBA-Au-"
      }
    },
    {
      "cell_type": "code",
      "source": [
        "def XLR8R(x): return \\\n",
        "    ( POS(0)                    + λ(f'''{x} = []''')\n",
        "    + ARBNO(\n",
        "        ( ANY(LCASE)            + λ(f'''{x}.append(\"ANY(LCASE)\")''')\n",
        "        | SPAN(DIGITS)          + λ(f'''{x}.append(\"SPAN(DIGITS)\")''')\n",
        "        | LEN(1) % \"tx\"         + λ(f'''{x}.append(\"σ('\" + tx + \"')\")''')\n",
        "        )\n",
        "      )\n",
        "    + RPOS(0)                   + λ(f'''{x} = \" + \".join({x})''')\n",
        "    )\n",
        "XLR8R_expressions()"
      ],
      "metadata": {
        "id": "67Ysrvkfw1nG"
      },
      "execution_count": null,
      "outputs": []
    },
    {
      "cell_type": "markdown",
      "source": [
        "Note from the token statistics that we saw spans of digits and single lowercase letters. So within the XLR8R pattern we generate a new pattern $V$ to recognize $ANY(LCASE)$, and pattern $I$ to recognize $SPAN(DIGITS)$. Repeatedly rerun XLR8R to generate varying sets of patterns from random samples."
      ],
      "metadata": {
        "id": "wGrVMkRvPxAK"
      }
    },
    {
      "cell_type": "code",
      "source": [
        "V = ANY(LCASE)\n",
        "I = SPAN(DIGITS)\n",
        "def XLR8R(x): return \\\n",
        "    ( POS(0)                    + λ(f'''{x} = []''')\n",
        "    + ARBNO(\n",
        "        ( V                     + λ(f'''{x}.append(\"V\")''')\n",
        "        | I                     + λ(f'''{x}.append(\"I\")''')\n",
        "        | LEN(1) % \"tx\"         + λ(f'''{x}.append(\"σ('\" + tx + \"')\")''')\n",
        "        )\n",
        "      )\n",
        "    + RPOS(0)                   + λ(f'''{x} = \" + \".join({x})''')\n",
        "    )\n",
        "XLR8R_expressions()"
      ],
      "metadata": {
        "id": "dPEolMdWK2ZQ"
      },
      "execution_count": null,
      "outputs": []
    },
    {
      "cell_type": "markdown",
      "source": [
        "Keep rerunning XLR8R. Now look for some smaller expression-pattern alternatives to inject back into XLR8R, some choices could be:\n",
        "\n",
        "* I\n",
        "* V\n",
        "* σ('-') + V\n",
        "* I + σ('*') + V\n",
        "* V + σ('+') + I\n",
        "\n",
        "We don't want to choose I or V patterns yet, since these could obscure results. We want less low-level constructs. After confirming by multiple XLR8R runs, that the following patterns are listed as proper alternatives each matching a FULL expression, then let's choose these next four new patterns to inject:\n",
        "\n",
        "* V + ANY('+-*/') + V\n",
        "* V + ANY('+-*/') + I\n",
        "* I + ANY('+-*/') + V\n",
        "* I + ANY('+-*/') + I"
      ],
      "metadata": {
        "id": "pAHKls7gUm3I"
      }
    },
    {
      "cell_type": "code",
      "source": [
        "V = ANY(LCASE)\n",
        "I = SPAN(DIGITS)\n",
        "X = ( V + ANY('+-*/') + V\n",
        "    | V + ANY('+-*/') + I\n",
        "    | I + ANY('+-*/') + V\n",
        "    | I + ANY('+-*/') + I\n",
        "    )\n",
        "def XLR8R(x): return \\\n",
        "    ( POS(0)                    + λ(f'''{x} = []''')\n",
        "    + ARBNO(\n",
        "        ( X                     + λ(f'''{x}.append(\"X\")''')\n",
        "        | V                     + λ(f'''{x}.append(\"V\")''')\n",
        "        | I                     + λ(f'''{x}.append(\"I\")''')\n",
        "        | LEN(1) % \"tx\"         + λ(f'''{x}.append(\"σ('\" + tx + \"')\")''')\n",
        "        )\n",
        "      )\n",
        "    + RPOS(0)                   + λ(f'''{x} = \" + \".join({x})''')\n",
        "    )\n",
        "XLR8R_expressions()"
      ],
      "metadata": {
        "id": "G1J4CjLYPLcP"
      },
      "execution_count": null,
      "outputs": []
    },
    {
      "cell_type": "markdown",
      "source": [
        "Keep running XLR8R. Several new smaller patterns are now emerging:\n",
        "\n",
        "* X + σ('+') + V, X + σ('+') + I\n",
        "* X + σ('-') + V, X + σ('-') + I\n",
        "* X + σ('*') + V, X + σ('*') + I\n",
        "* X + σ('/') + V, X + σ('/') + I\n",
        "\n",
        "which is equivalent to:\n",
        "\n",
        "* X + ANY('+-*/') + V\n",
        "* X + ANY('+-*/') + I\n",
        "\n",
        "So, let's choose these two new patterns to inject back into XLR8R."
      ],
      "metadata": {
        "id": "utfBlWFU-zoA"
      }
    },
    {
      "cell_type": "code",
      "source": [
        "V = ANY(LCASE)\n",
        "I = SPAN(DIGITS)\n",
        "X = ( V + ANY('+-*/') + V\n",
        "    | V + ANY('+-*/') + I\n",
        "    | I + ANY('+-*/') + V\n",
        "    | I + ANY('+-*/') + I\n",
        "    )\n",
        "def XLR8R(x): return \\\n",
        "    ( POS(0)                    + λ(f'''{x} = []''')\n",
        "    + ARBNO(\n",
        "        ( X                     + λ(f'''{x}.append(\"X\")''')\n",
        "        | X + ANY('+-*/') + V   + λ(f'''{x}.append(\"X\")''')\n",
        "        | X + ANY('+-*/') + I   + λ(f'''{x}.append(\"X\")''')\n",
        "        | V                     + λ(f'''{x}.append(\"V\")''')\n",
        "        | I                     + λ(f'''{x}.append(\"I\")''')\n",
        "        | LEN(1) % \"tx\"         + λ(f'''{x}.append(\"σ('\" + tx + \"')\")''')\n",
        "        )\n",
        "      )\n",
        "    + RPOS(0)                   + λ(f'''{x} = \" + \".join({x})''')\n",
        "    )\n",
        "XLR8R_expressions()"
      ],
      "metadata": {
        "id": "5AKWIkAGTFxe"
      },
      "execution_count": null,
      "outputs": []
    },
    {
      "cell_type": "markdown",
      "source": [
        "Keep running XLR8R. This looks promising, so let's inject these two patterns into pattern X. However, two problems arise when we attempt to do so. Firstly, the two patterns reference the X pattern, and when defining X, the variable X itself does not yet exist. Secondly, keeping X on the left versus the right of the operator will cause X to spin on an infinite loop. We solve the first problem, an undefined reference, by utilizing the unevaluated pattern expression, ζ(\"X\"). We solve the second problem, an infinite loop, by swapping the X over to the right side of the operator since likely they are grammatically equivalent in this case."
      ],
      "metadata": {
        "id": "rr3AMM1aJ7O3"
      }
    },
    {
      "cell_type": "code",
      "source": [
        "V = ANY(LCASE)\n",
        "I = SPAN(DIGITS)\n",
        "X = ( V + ANY('+-*/') + ζ(\"X\")\n",
        "    | I + ANY('+-*/') + ζ(\"X\")\n",
        "    | V + ANY('+-*/') + V\n",
        "    | V + ANY('+-*/') + I\n",
        "    | I + ANY('+-*/') + V\n",
        "    | I + ANY('+-*/') + I\n",
        "    )\n",
        "def XLR8R(x): return \\\n",
        "    ( POS(0)                    + λ(f'''{x} = []''')\n",
        "    + ARBNO(\n",
        "        ( X                     + λ(f'''{x}.append(\"X\")''')\n",
        "        | V                     + λ(f'''{x}.append(\"V\")''')\n",
        "        | I                     + λ(f'''{x}.append(\"I\")''')\n",
        "        | LEN(1) % \"tx\"         + λ(f'''{x}.append(\"σ('\" + tx + \"')\")''')\n",
        "        )\n",
        "      )\n",
        "    + RPOS(0)                   + λ(f'''{x} = \" + \".join({x})''')\n",
        "    )\n",
        "XLR8R_expressions()"
      ],
      "metadata": {
        "id": "QTFq3ylPXEAs"
      },
      "execution_count": null,
      "outputs": []
    },
    {
      "cell_type": "markdown",
      "source": [
        "Keep running XLR8R. It is beginning to appear that within the grammar, both V and I behave syntactically the same. Knowing, of course, that these are calculator expressions, we could probably assume that the lowercase letters somehow also represent numbers; maybe memory register names. So let's merge these into a new pattern N, for number. Notice also that N alone is well-formed expression, so we inject N into the X pattern. And then simplify and refactor."
      ],
      "metadata": {
        "id": "p5Z47xLUQpsK"
      }
    },
    {
      "cell_type": "code",
      "source": [
        "V = ANY(LCASE)\n",
        "I = SPAN(DIGITS)\n",
        "N = V | I\n",
        "X = ( N + ANY('+-*/') + ζ(\"X\")\n",
        "    | N\n",
        "    )\n",
        "def XLR8R(x): return \\\n",
        "    ( POS(0)                    + λ(f'''{x} = []''')\n",
        "    + ARBNO(\n",
        "        ( X                     + λ(f'''{x}.append(\"X\")''')\n",
        "        | N                     + λ(f'''{x}.append(\"N\")''')\n",
        "        | LEN(1) % \"tx\"         + λ(f'''{x}.append(\"σ('\" + tx + \"')\")''')\n",
        "        )\n",
        "      )\n",
        "    + RPOS(0)                   + λ(f'''{x} = \" + \".join({x})''')\n",
        "    )\n",
        "XLR8R_expressions()"
      ],
      "metadata": {
        "id": "qW95ufXvZXvd"
      },
      "execution_count": null,
      "outputs": []
    },
    {
      "cell_type": "markdown",
      "source": [
        "Keep running XRL8R. Notice two new patterns emerging:\n",
        "\n",
        "* σ('+') + X\n",
        "* σ('-') + X\n",
        "\n",
        "So now injecting these into pattern X."
      ],
      "metadata": {
        "id": "0seRmWlwWKMB"
      }
    },
    {
      "cell_type": "code",
      "source": [
        "V = ANY(LCASE)\n",
        "I = SPAN(DIGITS)\n",
        "N = V | I\n",
        "X = ( N + ANY('+-*/') + ζ(\"X\")\n",
        "    | ANY('+-') + ζ(\"X\")\n",
        "    | N\n",
        "    )\n",
        "def XLR8R(x): return \\\n",
        "    ( POS(0)                    + λ(f'''{x} = []''')\n",
        "    + ARBNO(\n",
        "        ( X                     + λ(f'''{x}.append(\"X\")''')\n",
        "        | N                     + λ(f'''{x}.append(\"N\")''')\n",
        "        | LEN(1) % \"tx\"         + λ(f'''{x}.append(\"σ('\" + tx + \"')\")''')\n",
        "        )\n",
        "      )\n",
        "    + RPOS(0)                   + λ(f'''{x} = \" + \".join({x})''')\n",
        "    )\n",
        "XLR8R_expressions()"
      ],
      "metadata": {
        "id": "59K_WwUSdExz"
      },
      "execution_count": null,
      "outputs": []
    },
    {
      "cell_type": "markdown",
      "source": [
        "Keep running XLR8R. Notice one new pattern emerging:\n",
        "\n",
        "* σ('(') + X + σ(')')\n",
        "\n",
        "So let's inject that into pattern X."
      ],
      "metadata": {
        "id": "7MCVAOk4XIit"
      }
    },
    {
      "cell_type": "code",
      "source": [
        "V = ANY(LCASE)\n",
        "I = SPAN(DIGITS)\n",
        "N = V | I\n",
        "X = ( N + ANY('+-*/') + ζ(\"X\")\n",
        "    | ANY('+-') + ζ(\"X\")\n",
        "    | N\n",
        "    | σ('(') + ζ(\"X\") + σ(')')\n",
        "    )\n",
        "def XLR8R(x): return \\\n",
        "    ( POS(0)                    + λ(f'''{x} = []''')\n",
        "    + ARBNO(\n",
        "        ( X                     + λ(f'''{x}.append(\"X\")''')\n",
        "        | N                     + λ(f'''{x}.append(\"N\")''')\n",
        "        | LEN(1) % \"tx\"         + λ(f'''{x}.append(\"σ('\" + tx + \"')\")''')\n",
        "        )\n",
        "      )\n",
        "    + RPOS(0)                   + λ(f'''{x} = \" + \".join({x})''')\n",
        "    )\n",
        "XLR8R_expressions()"
      ],
      "metadata": {
        "id": "34gc6H1KXWtF"
      },
      "execution_count": null,
      "outputs": []
    },
    {
      "cell_type": "markdown",
      "source": [
        "Keep running XLR8R. Notice some very prevalent patterns emerging:\n",
        "\n",
        "1. X + X\n",
        "2. X + σ('+') + X\n",
        "3. X + σ('/') + X\n",
        "\n",
        "The first pattern seems strange and incorrect, so we will not choose it. However, the second and third are indicating an extension.\n",
        "\n",
        "* N + ANY('+-*/') + ζ(\"X\")\n",
        "\n",
        "should somehow be extended to\n",
        "\n",
        "* ζ(\"X\") + ANY('+-*/') + ζ(\"X\")\n",
        "\n",
        "But again, that would cause an infinite loop. So we inject this new emerging pattern by rearranging and refactoring as follows:"
      ],
      "metadata": {
        "id": "eVG7hEFwYov1"
      }
    },
    {
      "cell_type": "code",
      "source": [
        "V = ANY(LCASE)\n",
        "I = SPAN(DIGITS)\n",
        "N = V | I\n",
        "E = N | σ('(') + ζ(\"X\") + σ(')')\n",
        "X = ( E + ANY('+-*/') + ζ(\"X\")\n",
        "    | ANY('+-') + ζ(\"X\")\n",
        "    | E\n",
        "    )\n",
        "def XLR8R(x): return \\\n",
        "    ( POS(0)                    + λ(f'''{x} = []''')\n",
        "    + ARBNO(\n",
        "        ( X                     + λ(f'''{x}.append(\"X\")''')\n",
        "        | E                     + λ(f'''{x}.append(\"E\")''')\n",
        "        | N                     + λ(f'''{x}.append(\"N\")''')\n",
        "        | LEN(1) % \"tx\"         + λ(f'''{x}.append(\"σ('\" + tx + \"')\")''')\n",
        "        )\n",
        "      )\n",
        "    + RPOS(0)                   + λ(f'''{x} = \" + \".join({x})''')\n",
        "    )\n",
        "XLR8R_expressions()"
      ],
      "metadata": {
        "id": "1MZRe1_dZzEV"
      },
      "execution_count": null,
      "outputs": []
    },
    {
      "cell_type": "markdown",
      "source": [
        "Notice now there is now only one pattern being generated for all generated expressions. That is, of course, the pattern X. So it appears that we have a calculator-expression parser named X working, and can begin applying the new X pattern as needed. With just a few adjustments, the Python code for an expression parser is completed using only four pattern variables."
      ],
      "metadata": {
        "id": "GWDpfFQmautA"
      }
    },
    {
      "cell_type": "code",
      "source": [
        "V = ANY(LCASE)\n",
        "I = SPAN(DIGITS)\n",
        "E = V | I | σ('(') + ζ('X') + σ(')')\n",
        "X = ( E + ANY('+-') + ζ(\"X\")\n",
        "    | E + ANY('*/') + ζ(\"X\")\n",
        "    | ANY('+-') + ζ('X')\n",
        "    | E\n",
        "    )\n",
        "for _ in range(0, 16):\n",
        "    subject = rand_expression()\n",
        "    pprint([subject in POS(0) + X + RPOS(0), subject])"
      ],
      "metadata": {
        "id": "gabfGKCGpOhG"
      },
      "execution_count": null,
      "outputs": []
    },
    {
      "cell_type": "markdown",
      "source": [
        "Now, decorate the pattern to calculate and print results."
      ],
      "metadata": {
        "id": "ujtOnn0IE8wR"
      }
    },
    {
      "cell_type": "code",
      "source": [
        "V = ANY(LCASE) % \"N\"      + λ(\"S.append(int(globals()[N]))\")\n",
        "I = SPAN(DIGITS) % \"N\"    + λ(\"S.append(int(N))\")\n",
        "E = ( V\n",
        "    | I\n",
        "    | σ('(') + ζ(\"X\") + σ(')')\n",
        "    )\n",
        "X = ( E + σ('+') + ζ(\"X\") + λ(\"S.append(S.pop() + S.pop())\")\n",
        "    | E + σ('-') + ζ(\"X\") + λ(\"S.append(S.pop() - S.pop())\")\n",
        "    | E + σ('*') + ζ(\"X\") + λ(\"S.append(S.pop() * S.pop())\")\n",
        "    | E + σ('/') + ζ(\"X\") + λ(\"S.append(S.pop() // S.pop())\")\n",
        "    | σ('+') + ζ(\"X\")\n",
        "    | σ('-') + ζ(\"X\")     + λ(\"S.append(-S.pop())\")\n",
        "    | E\n",
        "    )\n",
        "C = POS(0) + λ(\"S = []\") + X + λ(\"print(S.pop())\") + RPOS(0)\n",
        "x = 1; y = 2; z = 3\n",
        "for s in [\"x+y*z\", \"x+(y*z)\", \"(x+y)*z\"]:\n",
        "    s in C"
      ],
      "metadata": {
        "id": "8qjhtYbe55ET"
      },
      "execution_count": null,
      "outputs": []
    },
    {
      "cell_type": "markdown",
      "source": [
        "You can decorate parts of the pattern with debug-tracing. The following traces everything. Note the PRINT function must return True to allow pattern matching to continue."
      ],
      "metadata": {
        "id": "a_-CovPb9_Zx"
      }
    },
    {
      "cell_type": "code",
      "source": [
        "def PRINT(s): print(s, end=\"·\"); return True\n",
        "V = Θ(\"pos\") + Λ(lambda: PRINT(f'V{pos}')) + ANY(LCASE) @ \"OUTPUT\"\n",
        "I = Θ(\"pos\") + Λ(lambda: PRINT(f'I{pos}')) + SPAN(DIGITS) @ \"OUTPUT\"\n",
        "E = Θ(\"pos\") + Λ(lambda: PRINT(f'E{pos}')) + \\\n",
        "    ( V\n",
        "    | I\n",
        "    | Θ(\"pos\") + Λ(lambda: PRINT(f'({pos}')) + σ('(') @ \"OUTPUT\"\n",
        "    + ζ(\"X\")\n",
        "    + Θ(\"pos\") + Λ(lambda: PRINT(f'){pos}')) + σ(')') @ \"OUTPUT\"\n",
        "    )\n",
        "X = Θ(\"pos\") + Λ(lambda: PRINT(f'X{pos}')) + \\\n",
        "    ( E + Θ(\"pos\") + Λ(lambda: PRINT(f'+-*/{pos}')) + ANY('+-*/') @ \"OUTPUT\" + ζ(\"X\")\n",
        "    |     Θ(\"pos\") + Λ(lambda: PRINT(f'+-{pos}'))   + ANY('+-')   @ \"OUTPUT\" + ζ(\"X\")\n",
        "    | E\n",
        "    )\n",
        "for _ in range(0, 3):\n",
        "    subject = rand_expression()\n",
        "    pprint([subject in POS(0) + X + RPOS(0), subject])"
      ],
      "metadata": {
        "id": "Slydwswbi4Lu"
      },
      "execution_count": null,
      "outputs": []
    },
    {
      "cell_type": "markdown",
      "source": [
        "Alternatively, you can call TRACE(10), with 10, 20, 30 levels. Call TRACE(40) to revert back to normal error reporting."
      ],
      "metadata": {
        "id": "bfMVW1nT_vsI"
      }
    },
    {
      "cell_type": "code",
      "source": [
        "V = ANY(LCASE)\n",
        "I = SPAN(DIGITS)\n",
        "E = V | I | σ('(') + ζ('X') + σ(')')\n",
        "X = ( E + ANY('+-') + ζ(\"X\")\n",
        "    | E + ANY('*/') + ζ(\"X\")\n",
        "    | ANY('+-') + ζ('X')\n",
        "    | E\n",
        "    )\n",
        "subject = rand_expression()\n",
        "TRACE(50)\n",
        "pprint([subject in POS(0) + X + RPOS(0), subject])"
      ],
      "metadata": {
        "id": "lxzEoVLc_FSE"
      },
      "execution_count": null,
      "outputs": []
    }
  ]
}