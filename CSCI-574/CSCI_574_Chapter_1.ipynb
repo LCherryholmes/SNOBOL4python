{
  "nbformat": 4,
  "nbformat_minor": 0,
  "metadata": {
    "colab": {
      "provenance": []
    },
    "kernelspec": {
      "name": "python3",
      "display_name": "Python 3"
    },
    "language_info": {
      "name": "python"
    }
  },
  "cells": [
    {
      "cell_type": "markdown",
      "source": [
        "---\n",
        "**Chapter 1: Hands-On Machine Learning with Scikit-Learn, Keras & TensorFlow**"
      ],
      "metadata": {
        "id": "h0rzOVHtDgxv"
      }
    },
    {
      "cell_type": "markdown",
      "source": [
        "---\n",
        "**Problem 1:** How would you define machine learning?\n",
        "\n",
        "**My answer 1:** The science and art of programming computers so they can learn from data.\n",
        "\n",
        "**Book's answer 1:** Machine Learning is about building systems that can learn from data. Learning means getting better at some task, given some performance measure."
      ],
      "metadata": {
        "id": "Qb-I3je6DxMn"
      }
    },
    {
      "cell_type": "markdown",
      "source": [
        "---\n",
        "**Problem 2:** Can you name four types of applications where it shines?\n",
        "\n",
        "**My answer 2:**\n",
        "- replace existing solutions which require many rules and much fine tuning\n",
        "- create solutions where no good traditional approach exists\n",
        "- create solutions which adapt to fluctuating environments\n",
        "- gain insights about complex problems and large amounts of data\n",
        "\n",
        "**Book's answer 2:**\n",
        "Machine Learning is great for complex problems for which we have no algorithmic solution, to replace long lists of hand-tuned rules, to build systems that adapt to fluctuating environments, and finally to help humans learn (e.g., data mining)."
      ],
      "metadata": {
        "id": "SPNL63ejD-xD"
      }
    },
    {
      "cell_type": "markdown",
      "source": [
        "---\n",
        "**Problem 3:** What is a labeled training set?\n",
        "\n",
        "**My answer 3:** set of items in which one or more attributes are provided by a teacher, a supervisor, use in supervised learning.\n",
        "\n",
        "**Book's answer 3:** A labeled training set is a training set that contains the desired solution (a.k.a. a label) for each instance."
      ],
      "metadata": {
        "id": "umslQMT_D-6B"
      }
    },
    {
      "cell_type": "markdown",
      "source": [
        "---\n",
        "**Problem 4:** What are the two most common supervised tasks?\n",
        "\n",
        "**My answer 4:** classification and regression\n",
        "\n",
        "**Book's answer 4:** The two most common supervised tasks are regression and classification."
      ],
      "metadata": {
        "id": "xgQ3vwUiD_A2"
      }
    },
    {
      "cell_type": "markdown",
      "source": [
        "---\n",
        "**Problem 5:** Can you name four common unsupervised tasks?\n",
        "\n",
        "**My answer 5:** Yes.\n",
        "- clustering\n",
        "- anomaly and novelty detection\n",
        "- visualization and dimensionality reduction\n",
        "- association-rule learning\n",
        "\n",
        "**Book's answer 5:** Common unsupervised tasks include clustering, visualization, dimensionality reduction, and association rule learning."
      ],
      "metadata": {
        "id": "FuP9LPyMD_FE"
      }
    },
    {
      "cell_type": "markdown",
      "source": [
        "---\n",
        "**Problem 6:** What type of algortihm would you use to allow a robot to walk in various unknown terrains?\n",
        "\n",
        "**My answer 6:** reinforcement learning\n",
        "\n",
        "**Book's answer 6:** Reinforcement Learning is likely to perform best if we want a robot to learn to walk in various unknown terrains, since this is typically the type of problem that Reinforcement Learning tackles. It might be possible to express the problem as a supervised or semi-supervised learning problem, but it would be less natural."
      ],
      "metadata": {
        "id": "klKN75CHD_Qz"
      }
    },
    {
      "cell_type": "markdown",
      "source": [
        "---\n",
        "**Problem 7:** What type of algorithm would you use to segment your customers into multiple groups?\n",
        "\n",
        "**My answer 7:** clustering\n",
        "\n",
        "**Book's answer 7:** If you don't know how to define the groups, then you can use a clustering algorithm (unsupervised learning) to segment your customers into clusters of similar customers. However, if you know what groups you would like to have, then you can feed many examples of each group to a classification algorithm (supervised learning), and it will classify all your customers into these groups."
      ],
      "metadata": {
        "id": "AZLn5ItbD_Vf"
      }
    },
    {
      "cell_type": "markdown",
      "source": [
        "---\n",
        "**Problem 8:** Would you frame the problem of spam detection as a supervised learning problem or an unsupervised learning problem?\n",
        "\n",
        "**My answer 8:** supervised learning problem\n",
        "\n",
        "**Book's answer 8:** Spam detection is a typical supervised learning problem: the algorithm is fed many emails along with their labels (spam or not spam)."
      ],
      "metadata": {
        "id": "511Etr27D_bt"
      }
    },
    {
      "cell_type": "markdown",
      "source": [
        "---\n",
        "**Problem 9:** What is an online learning system?\n",
        "\n",
        "**My answer 9:** one which learns incrementally versus all at once\n",
        "\n",
        "**Book's answer 9:** An online learning system can learn incrementally, as opposed to a batch learning system. This makes it capable of adapting rapidly to both changing data and autonomous systems, and of training on very large quantities of data."
      ],
      "metadata": {
        "id": "PGllF2LrD_iC"
      }
    },
    {
      "cell_type": "markdown",
      "source": [
        "---\n",
        "**Problem 10:** What is out-of-core learning?\n",
        "\n",
        "**My answer 10:** using online/incremental learning for supervised learning when data is too large, and thus uses memory-sized batches incrementally versus in batch\n",
        "\n",
        "**Book's answer 10:** Out-of-core algorithms can handle vast quantities of data that cannot fit in a computer's main memory. An out-of-core learning algorithm chops the data into mini-batches and uses online learning techniques to learn from these mini-batches."
      ],
      "metadata": {
        "id": "CvfPFZ5PD_mI"
      }
    },
    {
      "cell_type": "markdown",
      "source": [
        "---\n",
        "**Problem 11:** What type of algorithm relies on a similarity measure to make predictions?\n",
        "\n",
        "**My answer 11:** instance-based learning\n",
        "\n",
        "**Book's answer 11:** An **instance-based** learning system learns the training data by heart; then, when given a new instance, it uses a similarity measure to find the most similar learned instances and uses them to make predictions."
      ],
      "metadata": {
        "id": "aUOel9Q6D_v4"
      }
    },
    {
      "cell_type": "markdown",
      "source": [
        "---\n",
        "**Problem 12:** What is the difference between a model parameter and a model hyperparameter?\n",
        "\n",
        "**My answer 12:** Model parameters are set during training by the learning algorithm. Hyperparameters are set beforehand by the program and control the learning algorithm.\n",
        "\n",
        "**Book's answer 12:** A model has one or more model parameters that determine what it will predict given a new instance (e.g., the slope of a linear model). A learning algorithm tries to find optimal values for these parameters such that the model generalizes well to new instances. A hyperparameter is a parameter of the learning algorithm itself, not of the model (e.g., the amount of regularization to apply)."
      ],
      "metadata": {
        "id": "4Fx4oBl-D_zM"
      }
    },
    {
      "cell_type": "markdown",
      "source": [
        "---\n",
        "**Problem 13:**\n",
        "* What do model-based algorithms search for?\n",
        "* What is the most common strategy they use to succeed?\n",
        "* How do they make predictions?\n",
        "\n",
        "**Answer 13:**\n",
        "- Model-based learning algorithms search for an optimal value for the model parameters such that the model will generalize well to new instances.\n",
        "- We usually train such systems by minimizing a cost function that measures how bad the system is at making predictions on the training data, plus a penalty for model complexity if the model is regularized.\n",
        "- To make predictions, we feed the new instance's features into the model's prediction function, using the parameter values found by the learning algorithm."
      ],
      "metadata": {
        "id": "0zjlTnx8D_2b"
      }
    },
    {
      "cell_type": "markdown",
      "source": [
        "---\n",
        "**Problem 14:** Can you name four of the main challenges in machine learning?\n",
        "\n",
        "**My answer 14:** Yes.\n",
        "- bad data (quantity, quality)\n",
        "- bad algorithm (underfitting, overfitting)\n",
        "\n",
        "**Book's answer 14:** Some of the main challenges in Machine Learning are\n",
        "- the lack of data,\n",
        "- poor data quality,\n",
        "- nonrepresentative data,\n",
        "- uninformative features,\n",
        "- excessively simple models that underfit the training data,\n",
        "- and excessively complex models that overfit the data."
      ],
      "metadata": {
        "id": "0X0FQsVLD_8Q"
      }
    },
    {
      "cell_type": "markdown",
      "source": [
        "---\n",
        "**Problem 15:** If your model performs great on the training data but generalizes poorly to new instances, what is happening? Can you name three possible solutions?\n",
        "\n",
        "**My answer 15:**\n",
        "- overfitting\n",
        "- yes\n",
        "  - simplify the model, fewer parameters\n",
        "  - supply more training data and remove the noise\n",
        "  - use regularization in the model\n",
        "\n",
        "**Book's answer 15:** If a model performs great on the training data but generalizes poorly to new instances, the model is likely overfitting the training data (or we got extremely lucky on the training data). Possible solutions to overfitting are\n",
        "- getting more data,\n",
        "- simplifying the model (selecting a simpler algorithm, reducing the number of parameters or features used, or regularizing the model),\n",
        "- or reducing the noise in the training data."
      ],
      "metadata": {
        "id": "QlZT_9CvD__e"
      }
    },
    {
      "cell_type": "markdown",
      "source": [
        "---\n",
        "**Problem 16:** What is a test set, and why would you want to use it?\n",
        "\n",
        "**My answer 16:** in cases with medium to large training data, its better to test with a percentage of existing data versus force the user to perform testing\n",
        "\n",
        "**Book's answer 16:** A test set is used to estimate the generalization error that a model will make on new instances, before the model is launched in production."
      ],
      "metadata": {
        "id": "er48YjHKEACr"
      }
    },
    {
      "cell_type": "markdown",
      "source": [
        "---\n",
        "**Problem 17:** What is the purpose of a validation set?\n",
        "\n",
        "**My answer 17:** when tuning hyperparameters, holding out a validation subset of the training data allows choosing the best model and avoiding a affect similar to overfitting which causes poor performance in production\n",
        "\n",
        "**Book's answer 17:** A validation set is used to compare models. It makes it possible to select the best model and tune the hyperparameters."
      ],
      "metadata": {
        "id": "JmylmNF1EAI5"
      }
    },
    {
      "cell_type": "markdown",
      "source": [
        "---\n",
        "**Problem 18:** What is the train-dev set, when do you need it, and how do you use it?\n",
        "\n",
        "**My answer 18:**\n",
        "- a subset of the training set which is heldout\n",
        "- use when the training data is not representative and curating is required.\n",
        "- use to help distinguish between mismatched data versus overfitting\n",
        "\n",
        "**Book's answer 18:**\n",
        "- The train-dev set is used when there is a risk of mismatch between the training data and the data used in the validation and test datasets (which should always be as close as possible to the data used once the model is in production).\n",
        "- The train-dev set is a part of the training set that's held out (the model is not trained on it).\n",
        "- The model is trained on the rest of the training set, and evaluated on both the train-dev set and the validation set. If the model performs well on the training set but not on the train-dev set, then the model is likely overfitting the training set. If it performs well on both the training set and the train-dev set, but not on the validation set, then there is probably a significant data mismatch between the training data and the validation + test data, and you should try to improve the training data to make it look more like the validation + test data."
      ],
      "metadata": {
        "id": "9JoHmip9EAL_"
      }
    },
    {
      "cell_type": "markdown",
      "source": [
        "---\n",
        "**Problem 19:** What can go wrong if you tune hyperparameters using the test set?\n",
        "\n",
        "**My answer 19:** It won't necessarily generalize well\n",
        "\n",
        " **Book's answer 19:** If you tune hyperparameters using the test set, you risk overfitting the test set, and the generalization error you measure will be optimistic (you may launch a model that performs worse than you expect)."
      ],
      "metadata": {
        "id": "W5FQQIHsEAOu"
      }
    }
  ]
}