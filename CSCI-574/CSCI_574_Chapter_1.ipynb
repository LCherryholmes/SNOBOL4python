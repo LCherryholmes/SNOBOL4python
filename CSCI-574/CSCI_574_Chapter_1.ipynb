{
  "nbformat": 4,
  "nbformat_minor": 0,
  "metadata": {
    "colab": {
      "provenance": []
    },
    "kernelspec": {
      "name": "python3",
      "display_name": "Python 3"
    },
    "language_info": {
      "name": "python"
    }
  },
  "cells": [
    {
      "cell_type": "markdown",
      "source": [
        "---\n",
        "**Chapter 1: Hands-On Machine Learning with Scikit-Learn, Keras & TensorFlow**"
      ],
      "metadata": {
        "id": "h0rzOVHtDgxv"
      }
    },
    {
      "cell_type": "markdown",
      "source": [
        "---\n",
        "**Problem 1:** How would you define machine learning?\n",
        "\n",
        "**Answer 1:**"
      ],
      "metadata": {
        "id": "Qb-I3je6DxMn"
      }
    },
    {
      "cell_type": "markdown",
      "source": [
        "---\n",
        "**Problem 2:** Can you name four types of applications where it shines?\n",
        "\n",
        "**Answer 2:**"
      ],
      "metadata": {
        "id": "SPNL63ejD-xD"
      }
    },
    {
      "cell_type": "markdown",
      "source": [
        "---\n",
        "**Problem 3:** What is labeled training set?\n",
        "\n",
        "**Answer 3:**"
      ],
      "metadata": {
        "id": "umslQMT_D-6B"
      }
    },
    {
      "cell_type": "markdown",
      "source": [
        "---\n",
        "**Problem 4:** What are the two most common supervised tasks?\n",
        "\n",
        "**Answer 4:**"
      ],
      "metadata": {
        "id": "xgQ3vwUiD_A2"
      }
    },
    {
      "cell_type": "markdown",
      "source": [
        "---\n",
        "**Problem 5:** Can you name four common unsupervised tasks?\n",
        "\n",
        "**Answer 5:**"
      ],
      "metadata": {
        "id": "FuP9LPyMD_FE"
      }
    },
    {
      "cell_type": "markdown",
      "source": [
        "---\n",
        "**Problem 6:** What type of algortihm would you use to allow a robot to walk in various unknown terrains?\n",
        "\n",
        "**Answer 6:**"
      ],
      "metadata": {
        "id": "klKN75CHD_Qz"
      }
    },
    {
      "cell_type": "markdown",
      "source": [
        "---\n",
        "**Problem 7:** What type of algorithm would you use to segment your customers into multiple groups?\n",
        "\n",
        "**Answer 7:**"
      ],
      "metadata": {
        "id": "AZLn5ItbD_Vf"
      }
    },
    {
      "cell_type": "markdown",
      "source": [
        "---\n",
        "**Problem 8:** Would you frame the problem of span detection as a supervised learning problem or an unsupervised learning problem?\n",
        "\n",
        "**Answer 8:**"
      ],
      "metadata": {
        "id": "511Etr27D_bt"
      }
    },
    {
      "cell_type": "markdown",
      "source": [
        "---\n",
        "**Problem 9:** What is an online learning system?\n",
        "\n",
        "**Answer 9:**"
      ],
      "metadata": {
        "id": "PGllF2LrD_iC"
      }
    },
    {
      "cell_type": "markdown",
      "source": [
        "---\n",
        "**Problem 10:** What is out-of-core learning?\n",
        "\n",
        "**Answer 10:**"
      ],
      "metadata": {
        "id": "CvfPFZ5PD_mI"
      }
    },
    {
      "cell_type": "markdown",
      "source": [
        "---\n",
        "**Problem 11:** What type of algorithm relies on a similarity measure to make predictions?\n",
        "\n",
        "**Answer 11:**"
      ],
      "metadata": {
        "id": "aUOel9Q6D_v4"
      }
    },
    {
      "cell_type": "markdown",
      "source": [
        "---\n",
        "**Problem 12:** What is the difference between a model parameter and a model hyperparameter?\n",
        "\n",
        "**Answer 12:**"
      ],
      "metadata": {
        "id": "4Fx4oBl-D_zM"
      }
    },
    {
      "cell_type": "markdown",
      "source": [
        "---\n",
        "**Problem 13:**\n",
        "* What do model-based algorithms search for?\n",
        "* What is the most common strategy they use to succeed?\n",
        "* How do they make predictions?\n",
        "\n",
        "**Answer 13:**"
      ],
      "metadata": {
        "id": "0zjlTnx8D_2b"
      }
    },
    {
      "cell_type": "markdown",
      "source": [
        "---\n",
        "**Problem 14:** Can you name four of the main challenges in machine learning?\n",
        "\n",
        "**Answer 14:**"
      ],
      "metadata": {
        "id": "0X0FQsVLD_8Q"
      }
    },
    {
      "cell_type": "markdown",
      "source": [
        "---\n",
        "**Problem 15:** If your model performs great on the training data but generalizes poorly to new instances, what is happening? Can you name three possible solutions?\n",
        "\n",
        "**Answer 15:**"
      ],
      "metadata": {
        "id": "QlZT_9CvD__e"
      }
    },
    {
      "cell_type": "markdown",
      "source": [
        "---\n",
        "**Problem 16:** What is a test set, and why would you want to use it?\n",
        "\n",
        "**Answer 16:**"
      ],
      "metadata": {
        "id": "er48YjHKEACr"
      }
    },
    {
      "cell_type": "markdown",
      "source": [
        "---\n",
        "**Problem 17:** What is the purpose of a validation set?\n",
        "\n",
        "**Answer 17:**"
      ],
      "metadata": {
        "id": "JmylmNF1EAI5"
      }
    },
    {
      "cell_type": "markdown",
      "source": [
        "---\n",
        "**Problem 18:** What is the train-dev set, when do you need it, and how do you use it?\n",
        "\n",
        "**Answer 18:**"
      ],
      "metadata": {
        "id": "9JoHmip9EAL_"
      }
    },
    {
      "cell_type": "markdown",
      "source": [
        "---\n",
        "**Problem 19:** What can go wrong if you tune hyperparameters using the test set?\n",
        "\n",
        "**Answer 19:**"
      ],
      "metadata": {
        "id": "W5FQQIHsEAOu"
      }
    }
  ]
}