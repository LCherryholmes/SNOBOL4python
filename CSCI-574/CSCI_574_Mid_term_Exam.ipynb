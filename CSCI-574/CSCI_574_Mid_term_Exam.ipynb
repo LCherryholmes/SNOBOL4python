{
  "nbformat": 4,
  "nbformat_minor": 0,
  "metadata": {
    "colab": {
      "provenance": []
    },
    "kernelspec": {
      "name": "python3",
      "display_name": "Python 3"
    },
    "language_info": {
      "name": "python"
    }
  },
  "cells": [
    {
      "cell_type": "markdown",
      "source": [
        "**Fall 2025 Machine Learning (CSCI-574-01W)**\n",
        "\n",
        "Name: **Lon Cherryholmes, Sr.**\n",
        "\n",
        "Date: October 24, 2025\n",
        "\n",
        "CWID-5: xxx17840"
      ],
      "metadata": {
        "id": "SG23aWTzcxrP"
      }
    },
    {
      "cell_type": "code",
      "execution_count": 64,
      "metadata": {
        "id": "HC2wp8JdcQKr"
      },
      "outputs": [],
      "source": [
        "import math\n",
        "import time\n",
        "import numpy as np\n",
        "import pandas as pd\n",
        "import seaborn as sbn\n",
        "import seaborn as sns\n",
        "import statsmodels.api as sm\n",
        "import matplotlib.pyplot as plt\n",
        "from pandas.plotting import scatter_matrix\n",
        "from pprint import pformat, pprint\n",
        "\n",
        "from sklearn.linear_model import LinearRegression\n",
        "from sklearn.linear_model import LogisticRegression\n",
        "from sklearn.linear_model import Ridge, Lasso, ElasticNet\n",
        "from sklearn.linear_model import SGDRegressor, SGDClassifier\n",
        "from sklearn.ensemble     import RandomForestRegressor, RandomForestClassifier\n",
        "from sklearn.tree         import DecisionTreeRegressor, DecisionTreeClassifier\n",
        "from sklearn.dummy        import DummyClassifier\n",
        "from sklearn.neighbors    import KNeighborsClassifier\n",
        "\n",
        "from sklearn.metrics import accuracy_score, precision_score, recall_score, f1_score, r2_score\n",
        "from sklearn.metrics import confusion_matrix, ConfusionMatrixDisplay\n",
        "from sklearn.metrics import precision_recall_curve, roc_curve, roc_auc_score\n",
        "from sklearn.metrics import mean_squared_error, root_mean_squared_error\n",
        "\n",
        "from sklearn.model_selection import GridSearchCV, RandomizedSearchCV\n",
        "from sklearn.model_selection import train_test_split, StratifiedShuffleSplit\n",
        "from sklearn.model_selection import cross_val_predict, cross_val_score\n",
        "from sklearn.model_selection import learning_curve\n",
        "\n",
        "from sklearn.impute import SimpleImputer\n",
        "from sklearn.pipeline import Pipeline, make_pipeline\n",
        "\n",
        "from sklearn.preprocessing import PolynomialFeatures\n",
        "from sklearn.preprocessing import OneHotEncoder, OrdinalEncoder\n",
        "from sklearn.preprocessing import MinMaxScaler, StandardScaler, FunctionTransformer\n",
        "\n",
        "from sklearn.compose import ColumnTransformer\n",
        "from sklearn.compose import TransformedTargetRegressor\n",
        "from sklearn.compose import make_column_selector, make_column_transformer\n",
        "\n",
        "from sklearn.svm import SVC\n",
        "from sklearn.multiclass import OneVsOneClassifier, OneVsRestClassifier\n",
        "from sklearn.multioutput import ClassifierChain"
      ]
    },
    {
      "cell_type": "markdown",
      "source": [
        "# Question 1\n",
        "\n",
        "Write a function that takes a numpy array of any shape as input.  This function should replace the largest value in the array with 42 and the smallest value in\n",
        "the array with -42.  You should make a copy of the array and return the copy, do not modify the original array passed in to the function. Use the following\n",
        "function documentation/signature for this problem:\n",
        "\n",
        "```python\n",
        "def array_forty_two(a):\n",
        "    \"\"\"Given a numpy array, a copy of the array is made.  Then the largest\n",
        "    value in the original array is determined and replaced with 42.  Also the\n",
        "    smallest value in the array is determined and replaced with -42.  The copy\n",
        "    with the modified max=42, min=-42 is returned as a result\n",
        "\n",
        "    Parameters\n",
        "    ----------\n",
        "    a - A numpy array of any shape\n",
        "\n",
        "    Returns\n",
        "    -------\n",
        "    copy_a - A copy of the original a, but where the maximum value has been\n",
        "        replaced by 42 and the minimum by -42\n",
        "    \"\"\"\n",
        "    return\n",
        "```"
      ],
      "metadata": {
        "id": "2chN9lCrRI5g"
      }
    },
    {
      "cell_type": "code",
      "source": [
        "# Answer 1\n",
        "def array_forty_two(a):\n",
        "    x = a.copy()\n",
        "    x[x == x.max()] = 42\n",
        "    x[x == x.min()] = -42\n",
        "    return x"
      ],
      "metadata": {
        "id": "94O2YnDvRKCy"
      },
      "execution_count": 98,
      "outputs": []
    },
    {
      "cell_type": "code",
      "source": [
        "x1 = np.array([1, 2, 3])\n",
        "print(array_forty_two(x1))\n",
        "x2 = np.array([[1, 2], [3, 4]])\n",
        "print(array_forty_two(x2))\n",
        "x3 = np.array([[[1, 2], [3, 4]], [[5, 6], [7, 8]]])\n",
        "print(array_forty_two(x3))"
      ],
      "metadata": {
        "colab": {
          "base_uri": "https://localhost:8080/"
        },
        "id": "RzSnOYfQWIkn",
        "outputId": "dbc39d67-b76d-4075-938a-a0f8ab4415cf"
      },
      "execution_count": 99,
      "outputs": [
        {
          "output_type": "stream",
          "name": "stdout",
          "text": [
            "[-42   2  42]\n",
            "[[-42   2]\n",
            " [  3  42]]\n",
            "[[[-42   2]\n",
            "  [  3   4]]\n",
            "\n",
            " [[  5   6]\n",
            "  [  7  42]]]\n"
          ]
        }
      ]
    },
    {
      "cell_type": "markdown",
      "source": [
        "You can use the following examples as tests of your function\n",
        "\n",
        "```python\n",
        "\n",
        "x = np.array([1, 9, 5, 3, 2, 4, 8, 6, 10]).astype(float)\n",
        "y = array_forty_two(x)\n",
        "print(x)\n",
        "\n",
        ">>> [ 1. 9. 5. 3. 2. 4. 8. 6. 10.]\n",
        "\n",
        "\n",
        "print(y)\n",
        "\n",
        ">>>  [-42. 9. 5. 3. 2. 4. 8. 6. 42.]\n",
        "\n",
        "np.random.seed(42)\n",
        "x = np.random.rand(5, 4)\n",
        "y = array_forty_two(x)\n",
        "print(x)\n",
        "\n",
        ">>>\n",
        "\n",
        "[[0.37454012 0.95071431 0.73199394 0.59865848]\n",
        " [0.15601864 0.15599452 0.05808361 0.86617615]\n",
        " [0.60111501 0.70807258 0.02058449 0.96990985]\n",
        " [0.83244264 0.21233911 0.18182497 0.18340451]\n",
        " [0.30424224 0.52475643 0.43194502 0.29122914]]\n",
        "\n",
        "print(y)\n",
        "\n",
        ">>>\n",
        "\n",
        "[[  0.37454012   0.95071431   0.73199394   0.59865848]\n",
        " [  0.15601864   0.15599452   0.05808361   0.86617615]\n",
        " [  0.60111501   0.70807258 -42.          42.        ]\n",
        " [  0.83244264   0.21233911   0.18182497   0.18340451]\n",
        " [  0.30424224   0.52475643   0.43194502   0.29122914]]\n",
        "```"
      ],
      "metadata": {
        "id": "bK07cdj1RsTD"
      }
    },
    {
      "cell_type": "code",
      "source": [
        "np.random.seed(42)\n",
        "x = np.random.rand(5, 4)\n",
        "y = array_forty_two(x)\n",
        "print(x)\n",
        "print(y)"
      ],
      "metadata": {
        "colab": {
          "base_uri": "https://localhost:8080/"
        },
        "id": "4Typ8x_xR4Wd",
        "outputId": "533a1ae7-dcb3-4157-961e-0fe2c4aa4267"
      },
      "execution_count": 100,
      "outputs": [
        {
          "output_type": "stream",
          "name": "stdout",
          "text": [
            "[[0.37454012 0.95071431 0.73199394 0.59865848]\n",
            " [0.15601864 0.15599452 0.05808361 0.86617615]\n",
            " [0.60111501 0.70807258 0.02058449 0.96990985]\n",
            " [0.83244264 0.21233911 0.18182497 0.18340451]\n",
            " [0.30424224 0.52475643 0.43194502 0.29122914]]\n",
            "[[  0.37454012   0.95071431   0.73199394   0.59865848]\n",
            " [  0.15601864   0.15599452   0.05808361   0.86617615]\n",
            " [  0.60111501   0.70807258 -42.          42.        ]\n",
            " [  0.83244264   0.21233911   0.18182497   0.18340451]\n",
            " [  0.30424224   0.52475643   0.43194502   0.29122914]]\n"
          ]
        }
      ]
    },
    {
      "cell_type": "code",
      "source": [
        "x = np.array([1, 9, 5, 3, 2, 4, 8, 6, 10]).astype(float)\n",
        "y = array_forty_two(x)\n",
        "print(x)\n",
        "print(y)"
      ],
      "metadata": {
        "colab": {
          "base_uri": "https://localhost:8080/"
        },
        "id": "M_ClhQNMRs_N",
        "outputId": "f1f5bd1a-245f-49e8-a4e0-101cd6c6219e"
      },
      "execution_count": 101,
      "outputs": [
        {
          "output_type": "stream",
          "name": "stdout",
          "text": [
            "[ 1.  9.  5.  3.  2.  4.  8.  6. 10.]\n",
            "[-42.   9.   5.   3.   2.   4.   8.   6.  42.]\n"
          ]
        }
      ]
    },
    {
      "cell_type": "markdown",
      "source": [
        "# Question 2\n",
        "\n",
        "The following code from scikit-learn will generate a dataset\n",
        "suitable for regression.\n",
        "\n",
        "```python\n",
        "from sklearn.datasets import make_friedman1\n",
        "X, y = make_friedman1(n_samples=500, n_features=10, noise=0.1, random_state=4)\n",
        "x = X[:,3].reshape(-1,1)\n",
        "```\n",
        "\n",
        "Generate the regression dataset shown and perform the following tasks\n",
        "\n",
        "1. Fit a default `LinearRegression` model to the dataset.\n",
        "2. Report the models fitted intercept and slope (coefficient) for the data.\n",
        "3. Report the RMSE and R^2 score of the fitted data.\n",
        "4. Plot the raw data as a scatter plot, and use the `predict()` method of your fitted model to visualize the fitted line for the data. Label your axis and plot elements in your plot."
      ],
      "metadata": {
        "id": "gj_4tRLDS1mF"
      }
    },
    {
      "cell_type": "code",
      "source": [
        "from sklearn.datasets import make_friedman1\n",
        "X, y = make_friedman1(n_samples=500, n_features=10, noise=0.1, random_state=4)\n",
        "x = X[:,3].reshape(-1,1)"
      ],
      "metadata": {
        "id": "upjLf2rVS7nQ"
      },
      "execution_count": 124,
      "outputs": []
    },
    {
      "cell_type": "code",
      "source": [
        "# Answer 2\n",
        "model = LinearRegression()\n",
        "model.fit(x, y)\n",
        "print(\"intercept: \", model.intercept_)\n",
        "print(\"coef:\", model.coef_)\n",
        "print(\"RMSE: \", root_mean_squared_error(y, model.predict(x)))\n",
        "print(\"R2 score: \", r2_score(y, model.predict(x)))"
      ],
      "metadata": {
        "colab": {
          "base_uri": "https://localhost:8080/"
        },
        "id": "-A6rEjVSUC1Y",
        "outputId": "bda0237e-dde3-468a-e3d0-9de0b4b73b3e"
      },
      "execution_count": 132,
      "outputs": [
        {
          "output_type": "stream",
          "name": "stdout",
          "text": [
            "intercept:  9.553486535495633\n",
            "coef[]: [9.77904064]\n",
            "RMSE:  4.090264984541662\n",
            "R2 score:  0.34245468298040616\n"
          ]
        }
      ]
    },
    {
      "cell_type": "code",
      "source": [
        "plt.scatter(x, y, alpha=0.5, label=\"x\")\n",
        "plt.show()"
      ],
      "metadata": {
        "colab": {
          "base_uri": "https://localhost:8080/",
          "height": 430
        },
        "id": "3ps_9AldU0vc",
        "outputId": "fd831207-8b5e-46be-f39c-1faf7024a464"
      },
      "execution_count": 133,
      "outputs": [
        {
          "output_type": "display_data",
          "data": {
            "text/plain": [
              "<Figure size 640x480 with 1 Axes>"
            ],
            "image/png": "[encoded data removed]"
          },
          "metadata": {}
        }
      ]
    },
    {
      "cell_type": "markdown",
      "source": [
        "The following code will use scikit learn to generate a random binary classification\n",
        "dataset.  This dataset will have 2 features, and it is a binary task so the label\n",
        "will consists of two categories, 0 (no), and 1 (yes).\n",
        "\n",
        "```python\n",
        "from sklearn.datasets import make_classification\n",
        "X, y = make_classification(n_samples=100, n_classes=2,\n",
        "                           n_features=2, n_informative=2, n_redundant=0, n_repeated=0, n_clusters_per_class=1,\n",
        "                           class_sep=0.7, random_state=5)\n",
        "```\n",
        "\n",
        "Generate the classification data and perform the following tasks on the data.\n",
        "\n",
        "1. Visualize the classification dataset.  Use the x axis for the feature in column 0 of the X features, and\n",
        "   the y axis for the feature in column 1.  Plot all of the data on the same figure, but plot the\n",
        "   no inputs (`y==0`) as blue circles, and the yes labels (`y==1`) as red squares.  Identify your plot\n",
        "   elements in the figure.\n",
        "2. Create and fit a default logistic regression on your dataset.\n",
        "3. Display the intercept and feature coefficients for the fitted model.\n",
        "4. Determine the accuracy of the fitted model on all of the data.\n",
        "5. Display the confusion matrix performance of the model on all of the data."
      ],
      "metadata": {
        "id": "VUVDpDieTBo3"
      }
    },
    {
      "cell_type": "code",
      "source": [
        "from sklearn.datasets import make_classification\n",
        "X, y = make_classification(n_samples=100, n_classes=2,\n",
        "                           n_features=2, n_informative=2, n_redundant=0, n_repeated=0, n_clusters_per_class=1,\n",
        "                           class_sep=0.7, random_state=5)"
      ],
      "metadata": {
        "id": "uFdc5GKQTCa7"
      },
      "execution_count": 69,
      "outputs": []
    },
    {
      "cell_type": "code",
      "source": [
        "print(X.shape)\n",
        "print(y.shape)"
      ],
      "metadata": {
        "colab": {
          "base_uri": "https://localhost:8080/"
        },
        "id": "iskvAEyNUVnJ",
        "outputId": "a188ab51-7be9-4adf-f115-1d5b0276acfb"
      },
      "execution_count": 70,
      "outputs": [
        {
          "output_type": "stream",
          "name": "stdout",
          "text": [
            "(100, 2)\n",
            "(100,)\n"
          ]
        }
      ]
    },
    {
      "cell_type": "code",
      "source": [
        "# Answer 3"
      ],
      "metadata": {
        "id": "nMbtVQNxUZpX"
      },
      "execution_count": null,
      "outputs": []
    }
  ]
}