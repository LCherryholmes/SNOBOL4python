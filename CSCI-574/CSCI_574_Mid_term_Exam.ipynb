{
  "nbformat": 4,
  "nbformat_minor": 0,
  "metadata": {
    "colab": {
      "provenance": []
    },
    "kernelspec": {
      "name": "python3",
      "display_name": "Python 3"
    },
    "language_info": {
      "name": "python"
    }
  },
  "cells": [
    {
      "cell_type": "markdown",
      "source": [
        "**Fall 2025 Machine Learning (CSCI-574-01W)**\n",
        "\n",
        "Name: **Lon Cherryholmes, Sr.**\n",
        "\n",
        "Date: October 24, 2025\n",
        "\n",
        "CWID-5: xxx17840"
      ],
      "metadata": {
        "id": "SG23aWTzcxrP"
      }
    },
    {
      "cell_type": "code",
      "execution_count": null,
      "metadata": {
        "id": "HC2wp8JdcQKr"
      },
      "outputs": [],
      "source": [
        "import math\n",
        "import time\n",
        "import numpy as np\n",
        "import pandas as pd\n",
        "import seaborn as sbn\n",
        "import seaborn as sns\n",
        "import statsmodels.api as sm\n",
        "import matplotlib.pyplot as plt\n",
        "from pandas.plotting import scatter_matrix\n",
        "from pprint import pformat, pprint\n",
        "\n",
        "from sklearn.linear_model import LinearRegression\n",
        "from sklearn.linear_model import LogisticRegression\n",
        "from sklearn.linear_model import Ridge, Lasso, ElasticNet\n",
        "from sklearn.linear_model import SGDRegressor, SGDClassifier\n",
        "from sklearn.ensemble     import RandomForestRegressor, RandomForestClassifier\n",
        "from sklearn.tree         import DecisionTreeRegressor, DecisionTreeClassifier\n",
        "from sklearn.dummy        import DummyClassifier\n",
        "from sklearn.neighbors    import KNeighborsClassifier\n",
        "\n",
        "from sklearn.metrics import accuracy_score, precision_score, recall_score, f1_score, r2_score\n",
        "from sklearn.metrics import confusion_matrix, ConfusionMatrixDisplay\n",
        "from sklearn.metrics import precision_recall_curve, roc_curve, roc_auc_score\n",
        "from sklearn.metrics import mean_squared_error, root_mean_squared_error\n",
        "\n",
        "from sklearn.model_selection import GridSearchCV, RandomizedSearchCV\n",
        "from sklearn.model_selection import train_test_split, StratifiedShuffleSplit\n",
        "from sklearn.model_selection import cross_val_predict, cross_val_score\n",
        "from sklearn.model_selection import learning_curve\n",
        "\n",
        "from sklearn.impute import SimpleImputer\n",
        "from sklearn.pipeline import Pipeline, make_pipeline\n",
        "\n",
        "from sklearn.preprocessing import PolynomialFeatures\n",
        "from sklearn.preprocessing import OneHotEncoder, OrdinalEncoder\n",
        "from sklearn.preprocessing import MinMaxScaler, StandardScaler, FunctionTransformer\n",
        "\n",
        "from sklearn.compose import ColumnTransformer\n",
        "from sklearn.compose import TransformedTargetRegressor\n",
        "from sklearn.compose import make_column_selector, make_column_transformer\n",
        "\n",
        "from sklearn.svm import SVC\n",
        "from sklearn.multiclass import OneVsOneClassifier, OneVsRestClassifier\n",
        "from sklearn.multioutput import ClassifierChain"
      ]
    },
    {
      "cell_type": "code",
      "source": [
        "# df.corr\n",
        "# df.drop\n",
        "# df.dropna\n",
        "# df.select_dtypes"
      ],
      "metadata": {
        "id": "7hwhOxqRcw59"
      },
      "execution_count": null,
      "outputs": []
    },
    {
      "cell_type": "code",
      "source": [
        "from google.colab import drive\n",
        "drive.mount('/content/modules', force_remount=True)\n",
        "cars = pd.read_csv(\"/content/modules/My Drive/CSCI-513/cars.csv\")"
      ],
      "metadata": {
        "id": "kRPw9ZFdF3gs"
      },
      "execution_count": null,
      "outputs": []
    },
    {
      "cell_type": "code",
      "source": [
        "type(cars)"
      ],
      "metadata": {
        "id": "Bx2bO_wGvybD"
      },
      "execution_count": null,
      "outputs": []
    },
    {
      "cell_type": "code",
      "source": [
        "cars.shape"
      ],
      "metadata": {
        "id": "tRlndYpA0WmB"
      },
      "execution_count": null,
      "outputs": []
    },
    {
      "cell_type": "code",
      "source": [
        "cars.dtypes"
      ],
      "metadata": {
        "id": "8S9cSQ3g1kvx"
      },
      "execution_count": null,
      "outputs": []
    },
    {
      "cell_type": "code",
      "source": [
        "cars.describe()"
      ],
      "metadata": {
        "id": "VvoLMx3z0iLA"
      },
      "execution_count": null,
      "outputs": []
    },
    {
      "cell_type": "code",
      "source": [
        "cars.info()"
      ],
      "metadata": {
        "id": "0_r2zHYf1lmY"
      },
      "execution_count": null,
      "outputs": []
    },
    {
      "cell_type": "code",
      "source": [
        "for column_name in cars.columns:\n",
        "    print(cars[column_name].unique())"
      ],
      "metadata": {
        "id": "ICilgvmd1mP_"
      },
      "execution_count": null,
      "outputs": []
    },
    {
      "cell_type": "code",
      "source": [
        "cars"
      ],
      "metadata": {
        "id": "s6qd1RCZw9Ow"
      },
      "execution_count": null,
      "outputs": []
    }
  ]
}