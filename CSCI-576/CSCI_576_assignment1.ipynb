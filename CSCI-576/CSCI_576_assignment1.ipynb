{
  "nbformat": 4,
  "nbformat_minor": 0,
  "metadata": {
    "colab": {
      "provenance": []
    },
    "kernelspec": {
      "name": "python3",
      "display_name": "Python 3"
    },
    "language_info": {
      "name": "python"
    }
  },
  "cells": [
    {
      "cell_type": "code",
      "source": [
        "import cv2\n",
        "import numpy as np\n",
        "import matplotlib.pyplot as plt\n",
        "from google.colab import files\n",
        "from google.colab import drive\n",
        "drive.mount(\"/content/drive\")\n",
        "drive_path = \"/content/drive/My Drive/CSCI-576/\""
      ],
      "metadata": {
        "id": "FQ_jQaZnUy6a"
      },
      "execution_count": null,
      "outputs": []
    },
    {
      "cell_type": "code",
      "execution_count": null,
      "metadata": {
        "id": "mjJqIg9JQbou"
      },
      "outputs": [],
      "source": [
        "def read_image(pathname):\n",
        "    img = cv2.imread(pathname, cv2.IMREAD_GRAYSCALE)\n",
        "    if img is None:\n",
        "        raise FileNotFoundError(f\"File not found: {pathname}\")\n",
        "    assert img.dtype == np.uint8\n",
        "    return img.astype(np.float32) / 255.0"
      ]
    },
    {
      "cell_type": "code",
      "source": [
        "def write_image(M, pathname):\n",
        "    if M.ndim != 2:\n",
        "        raise ValueError(\"Matrix must be 2-dimensional\")\n",
        "    img = np.clip(M, 0.0, 1.0) * 255.0\n",
        "    img = img.astype(np.uint8)\n",
        "    if not cv2.imwrite(pathname, img, cv2.IMWRITE_JPEG_QUALITY, 100):\n",
        "        raise IOError(f\"Could not write image to {pathname}\")"
      ],
      "metadata": {
        "id": "cZFYnjjsxhla"
      },
      "execution_count": null,
      "outputs": []
    },
    {
      "cell_type": "code",
      "source": [
        "def display_image(M, title):\n",
        "    if M.ndim != 2:\n",
        "        raise ValueError(\"Matrix must be 2-dimensional\")\n",
        "    img = np.clip(M, 0.0, 1.0)\n",
        "    plt.figure(figsize=(img.shape[0] / 128, img.shape[1] / 128), dpi=128)\n",
        "    plt.imshow(img, cmap='gray', vmin=0.0, vmax=1.0)\n",
        "    if title: plt.title(title)\n",
        "    plt.axis('off')\n",
        "    plt.show()"
      ],
      "metadata": {
        "id": "S1RWh4nixh0y"
      },
      "execution_count": null,
      "outputs": []
    },
    {
      "cell_type": "code",
      "source": [
        "import matplotlib.pyplot as plt\n",
        "image_names = [\n",
        "    \"grayMan\"\n",
        "  , \"grayMan_gaussian\"\n",
        "  , \"grayMan_saltandpepper\"\n",
        "  , \"Q4_original\"\n",
        "  , \"Q4_corrupted\"\n",
        "]\n",
        "for name in image_names:\n",
        "    M = read_image(f\"{drive_path}/{name}.png\")\n",
        "    print(M.shape)"
      ],
      "metadata": {
        "id": "BmYASMa_VLjK"
      },
      "execution_count": null,
      "outputs": []
    },
    {
      "cell_type": "code",
      "source": [
        "# Question 1\n",
        "M = read_image(f\"{drive_path}/grayMan.png\")\n",
        "ROWS = M.shape[0]\n",
        "COLUMNS = M.shape[1]\n",
        "R = -1\n",
        "C = -1\n",
        "while R < 0 or R > ROWS:\n",
        "    try: R = int(input(f\"Number of rows up to {ROWS}:\"))\n",
        "    except: pass\n",
        "while C < 0 or C > COLUMNS:\n",
        "    try: C = int(input(f\"Number of columns up to {COLUMNS}: \"))\n",
        "    except: pass\n",
        "rows = np.random.choice(np.arange(0, ROWS), size=R, replace=False)\n",
        "columns = np.random.choice(np.arange(0, COLUMNS), size=C, replace=False)\n",
        "S = M\n",
        "S = np.delete(S, rows, axis=0)\n",
        "S = np.delete(S, columns, axis=1)\n",
        "display_image(M, f\"Original {M.shape[0]}x{M.shape[1]}\")\n",
        "display_image(S, f\"Sliced Up! {S.shape[0]}x{S.shape[1]}\")"
      ],
      "metadata": {
        "id": "4BU9k-mHnyrX"
      },
      "execution_count": null,
      "outputs": []
    }
  ]
}