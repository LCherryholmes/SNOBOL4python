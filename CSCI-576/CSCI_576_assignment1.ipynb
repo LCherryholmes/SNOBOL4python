{
  "nbformat": 4,
  "nbformat_minor": 0,
  "metadata": {
    "colab": {
      "provenance": []
    },
    "kernelspec": {
      "name": "python3",
      "display_name": "Python 3"
    },
    "language_info": {
      "name": "python"
    }
  },
  "cells": [
    {
      "cell_type": "code",
      "source": [
        "import cv2\n",
        "import numpy as np\n",
        "import matplotlib.pyplot as plt\n",
        "from google.colab import files\n",
        "from google.colab import drive\n",
        "drive.mount(\"/content/drive\")\n",
        "drive_path = \"/content/drive/My Drive/CSCI-576/\""
      ],
      "metadata": {
        "id": "FQ_jQaZnUy6a"
      },
      "execution_count": null,
      "outputs": []
    },
    {
      "cell_type": "code",
      "execution_count": null,
      "metadata": {
        "id": "mjJqIg9JQbou"
      },
      "outputs": [],
      "source": [
        "def read_image(pathname):\n",
        "    img = cv2.imread(pathname, cv2.IMREAD_GRAYSCALE)\n",
        "    if img is None:\n",
        "        raise FileNotFoundError(f\"File not found: {pathname}\")\n",
        "    assert img.dtype == np.uint8\n",
        "    return img.astype(np.float32) / 255.0\n",
        "\n",
        "def write_image(M, pathname):\n",
        "    if M.ndim != 2:\n",
        "        raise ValueError(\"Matrix must be 2-dimensional\")\n",
        "    img = np.clip(M, 0.0, 1.0) * 255.0\n",
        "    img = img.astype(np.uint8)\n",
        "    if not cv2.imwrite(pathname, img):\n",
        "        raise IOError(f\"Could not write image to '{pathname}'\")\n",
        "\n",
        "def display_image(M, title):\n",
        "    if M.ndim != 2:\n",
        "        raise ValueError(\"Matrix must be 2-dimensional\")\n",
        "    img = np.clip(M, 0.0, 1.0)\n",
        "    plt.figure(figsize=(8, 6))\n",
        "    plt.imshow(img, cmap='gray', vmin=0.0, vmax=1.0)\n",
        "    if title: plt.title(title)\n",
        "    plt.axis('off')\n",
        "    plt.show()"
      ]
    },
    {
      "cell_type": "code",
      "source": [
        "import matplotlib.pyplot as plt\n",
        "image_names = [\n",
        "    \"grayMan\"\n",
        "  , \"grayMan_gaussian\"\n",
        "  , \"grayMan_saltandpepper\"\n",
        "  , \"Q4_original\"\n",
        "  , \"Q4_corrupted\"\n",
        "]\n",
        "for name in image_names:\n",
        "    M = read_image(f\"{drive_path}/{name}.png\")\n",
        "    display_image(M, name)\n",
        "#write_image(M, f\"{drive_path}/grayMan_output.png\")"
      ],
      "metadata": {
        "id": "BmYASMa_VLjK"
      },
      "execution_count": null,
      "outputs": []
    }
  ]
}