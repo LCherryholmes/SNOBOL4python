{
  "nbformat": 4,
  "nbformat_minor": 0,
  "metadata": {
    "colab": {
      "provenance": []
    },
    "kernelspec": {
      "name": "python3",
      "display_name": "Python 3"
    },
    "language_info": {
      "name": "python"
    }
  },
  "cells": [
    {
      "cell_type": "code",
      "source": [
        "import matplotlib.pyplot as plt\n",
        "import numpy as np\n",
        "import cv2"
      ],
      "metadata": {
        "id": "SIA1vvZ8T0Jw"
      },
      "execution_count": null,
      "outputs": []
    },
    {
      "cell_type": "code",
      "source": [
        "from google.colab import files\n",
        "#uploaded = files.upload()\n",
        "#for filename in uploaded.keys():\n",
        "#    print(f'User uploaded file \"{filename}\"')\n",
        "#    image_path = filename # Store the filename for later use"
      ],
      "metadata": {
        "id": "OUqHZXxlUAnf"
      },
      "execution_count": null,
      "outputs": []
    },
    {
      "cell_type": "code",
      "source": [
        "from google.colab import drive\n",
        "drive.mount('/content/drive')\n",
        "image_path = '/content/drive/My Drive/CSCI-576/example_image.jpg'"
      ],
      "metadata": {
        "id": "-ayj6xMsUTXR"
      },
      "execution_count": null,
      "outputs": []
    },
    {
      "cell_type": "code",
      "source": [
        "try:\n",
        "    image_path\n",
        "except NameError:\n",
        "    print(\"No image uploaded, fetching a sample image from URL.\")\n",
        "    !wget -q -O example_image.jpg \"https://placehold.co/600x400/FF0000/FFFFFF?text=Sample+Image\"\n",
        "    image_path = \"example_image.jpg\""
      ],
      "metadata": {
        "id": "KEvUuXO4UXiB"
      },
      "execution_count": null,
      "outputs": []
    },
    {
      "cell_type": "code",
      "source": [
        "image_bgr = cv2.imread(image_path)\n",
        "if image_bgr is None:\n",
        "    print(f\"Error: Could not load image from {image_path}\")\n",
        "else:\n",
        "    image_rgb = cv2.cvtColor(image_bgr, cv2.COLOR_BGR2RGB)\n",
        "    plt.figure(figsize=(8, 6))\n",
        "    plt.imshow(image_rgb)\n",
        "    plt.title('Original Colored Image')\n",
        "    plt.axis('off') # Hide axes\n",
        "    plt.show()"
      ],
      "metadata": {
        "id": "IAAhmjwJUywQ"
      },
      "execution_count": null,
      "outputs": []
    },
    {
      "cell_type": "code",
      "source": [
        "if image_bgr is not None:\n",
        "    b, g, r = cv2.split(image_bgr)\n",
        "    zeros = np.zeros(image_bgr.shape[:2], dtype=\"uint8\")\n",
        "    red_channel_img = cv2.merge([zeros, zeros, r])\n",
        "    green_channel_img = cv2.merge([zeros, g, zeros])\n",
        "    blue_channel_img = cv2.merge([b, zeros, zeros])\n",
        "    plt.figure(figsize=(15, 5))\n",
        "    plt.subplot(1, 3, 1)\n",
        "    plt.imshow(cv2.cvtColor(red_channel_img, cv2.COLOR_BGR2RGB))\n",
        "    plt.title('Red Channel')\n",
        "    plt.axis('off')\n",
        "    plt.subplot(1, 3, 2)\n",
        "    plt.imshow(cv2.cvtColor(green_channel_img, cv2.COLOR_BGR2RGB))\n",
        "    plt.title('Green Channel')\n",
        "    plt.axis('off')\n",
        "    plt.subplot(1, 3, 3)\n",
        "    plt.imshow(cv2.cvtColor(blue_channel_img, cv2.COLOR_BGR2RGB))\n",
        "    plt.title('Blue Channel')\n",
        "    plt.axis('off')\n",
        "    plt.show()\n",
        "else:\n",
        "    print(\"Image not loaded, cannot visualize channels.\")"
      ],
      "metadata": {
        "id": "wuBFIVH-U4ZG"
      },
      "execution_count": null,
      "outputs": []
    },
    {
      "cell_type": "code",
      "source": [
        "if image_bgr is not None:\n",
        "    gray_image = cv2.cvtColor(image_bgr, cv2.COLOR_BGR2GRAY)\n",
        "    plt.figure(figsize=(8, 6))\n",
        "    plt.imshow(gray_image, cmap='gray')\n",
        "    plt.title('Grayscale Image')\n",
        "    plt.axis('off')\n",
        "    plt.show()\n",
        "else:\n",
        "    print(\"Image not loaded, cannot convert to grayscale.\")"
      ],
      "metadata": {
        "id": "tP20jCWQVYv_"
      },
      "execution_count": null,
      "outputs": []
    },
    {
      "cell_type": "code",
      "source": [
        "if image_bgr is not None:\n",
        "    smoothed_image_bgr = cv2.GaussianBlur(image_bgr, (5, 5), 0)\n",
        "    smoothed_image_rgb = cv2.cvtColor(smoothed_image_bgr, cv2.COLOR_BGR2RGB)\n",
        "    plt.figure(figsize=(8, 6))\n",
        "    plt.imshow(smoothed_image_rgb)\n",
        "    plt.title('Smoothed Image (Gaussian Blur)')\n",
        "    plt.axis('off')\n",
        "    plt.show()\n",
        "else:\n",
        "    print(\"Image not loaded, cannot smooth.\")"
      ],
      "metadata": {
        "id": "sEaT4lM_Vh4L"
      },
      "execution_count": null,
      "outputs": []
    },
    {
      "cell_type": "code",
      "source": [
        "if image_bgr is not None:\n",
        "    gray_image = cv2.cvtColor(image_bgr, cv2.COLOR_BGR2GRAY)\n",
        "    laplacian = cv2.Laplacian(gray_image, cv2.CV_64F)\n",
        "    laplacian_normalized = cv2.convertScaleAbs(laplacian)\n",
        "    sharpened_image = cv2.addWeighted(gray_image, 1.5, laplacian_normalized, -0.5, 0)\n",
        "    gray_image_float = np.float64(gray_image)\n",
        "    sharpened_image_float = gray_image_float - laplacian # Subtract the Laplacian\n",
        "    sharpened_image = np.uint8(np.clip(sharpened_image_float, 0, 255))\n",
        "    plt.figure(figsize=(12, 6))\n",
        "    plt.subplot(1, 2, 1)\n",
        "    plt.imshow(gray_image, cmap='gray')\n",
        "    plt.title('Original Grayscale')\n",
        "    plt.axis('off')\n",
        "    plt.subplot(1, 2, 2)\n",
        "    plt.imshow(sharpened_image, cmap='gray')\n",
        "    plt.title('Sharpened Image (Laplacian)')\n",
        "    plt.axis('off')\n",
        "    plt.show()\n",
        "else:\n",
        "    print(\"Image not loaded, cannot sharpen.\")"
      ],
      "metadata": {
        "id": "ZdV8x2ODVqet"
      },
      "execution_count": null,
      "outputs": []
    },
    {
      "cell_type": "code",
      "source": [
        "if image_rgb is not None:\n",
        "    jpeg_qualities = [10, 50, 90] # Low, Medium, High quality\n",
        "    plt.figure(figsize=(15, 5))\n",
        "    for i, quality in enumerate(jpeg_qualities):\n",
        "        encode_param = [int(cv2.IMWRITE_JPEG_QUALITY), quality]\n",
        "        result, encimg = cv2.imencode('.jpg', image_bgr, encode_param)\n",
        "        if result:\n",
        "            compressed_image_bgr = cv2.imdecode(encimg, cv2.IMREAD_COLOR)\n",
        "            compressed_image_rgb = cv2.cvtColor(compressed_image_bgr, cv2.COLOR_BGR2RGB)\n",
        "            plt.subplot(1, len(jpeg_qualities), i + 1)\n",
        "            plt.imshow(compressed_image_rgb)\n",
        "            plt.title(f'JPEG Quality: {quality}')\n",
        "            plt.axis('off')\n",
        "            output_filename = f'output_image_q{quality}.jpg'\n",
        "            cv2.imwrite(output_filename, image_bgr, encode_param)\n",
        "            print(f\"Saved {output_filename} with quality {quality}\")\n",
        "        else:\n",
        "            print(f\"Error encoding image with quality {quality}\")\n",
        "    plt.show()\n",
        "else:\n",
        "    print(\"Image not loaded, cannot compress.\")"
      ],
      "metadata": {
        "id": "dOl6bTVZV5Vr"
      },
      "execution_count": null,
      "outputs": []
    },
    {
      "cell_type": "code",
      "execution_count": null,
      "metadata": {
        "id": "TWZM1eQPTw90"
      },
      "outputs": [],
      "source": [
        "if 'gray_image' in locals() and gray_image is not None:\n",
        "    cv2.imwrite('grayscale_output.png', gray_image)\n",
        "    files.download('grayscale_output.png')\n",
        "    print(\"Downloaded grayscale_output.png\")\n",
        "\n",
        "if 'sharpened_image' in locals() and sharpened_image is not None:\n",
        "    cv2.imwrite('sharpened_output.png', sharpened_image)\n",
        "    files.download('sharpened_output.png')\n",
        "    print(\"Downloaded sharpened_output.png\")\n",
        "\n",
        "files.download('output_image_q10.jpg')\n",
        "files.download('output_image_q50.jpg')\n",
        "files.download('output_image_q90.jpg')"
      ]
    }
  ]
}