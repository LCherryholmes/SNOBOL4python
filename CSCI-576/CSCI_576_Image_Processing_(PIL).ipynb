{
  "nbformat": 4,
  "nbformat_minor": 0,
  "metadata": {
    "colab": {
      "provenance": []
    },
    "kernelspec": {
      "name": "python3",
      "display_name": "Python 3"
    },
    "language_info": {
      "name": "python"
    }
  },
  "cells": [
    {
      "cell_type": "code",
      "source": [
        "from PIL import Image, ImageFilter\n",
        "import matplotlib.pyplot as plt\n",
        "import numpy as np\n",
        "import io"
      ],
      "metadata": {
        "id": "rOK0lYGQJmW8"
      },
      "execution_count": null,
      "outputs": []
    },
    {
      "cell_type": "code",
      "execution_count": null,
      "metadata": {
        "id": "2heTCoATInwr"
      },
      "outputs": [],
      "source": [
        "from google.colab import files\n",
        "#uploaded = files.upload()\n",
        "#for filename in uploaded.keys():\n",
        "#    print(f'User uploaded file \"{filename}\"')"
      ]
    },
    {
      "cell_type": "code",
      "source": [
        "from google.colab import drive\n",
        "drive.mount('/content/drive')\n",
        "image_path = '/content/drive/My Drive/CSCI-576/example_image.jpg'"
      ],
      "metadata": {
        "id": "Gp0ib0ZEJHB-"
      },
      "execution_count": null,
      "outputs": []
    },
    {
      "cell_type": "code",
      "source": [
        "try:\n",
        "    image_path\n",
        "except NameError:\n",
        "    print(\"No image uploaded, fetching a sample image from URL.\")\n",
        "    !wget -q -O example_image.jpg \"https://placehold.co/600x400/FF0000/FFFFFF?text=Sample+Image\"\n",
        "    image_path = \"example_image.jpg\""
      ],
      "metadata": {
        "id": "AizojNn3J4T5"
      },
      "execution_count": null,
      "outputs": []
    },
    {
      "cell_type": "code",
      "source": [
        "try:\n",
        "    original_image = Image.open(image_path)\n",
        "    if original_image.mode != 'RGB':\n",
        "        original_image = original_image.convert('RGB')\n",
        "    plt.figure(figsize=(8, 6))\n",
        "    plt.imshow(original_image)\n",
        "    plt.title('Original Colored Image')\n",
        "    plt.axis('off')\n",
        "    plt.show()\n",
        "except FileNotFoundError:\n",
        "    print(f\"Error: Could not load image from {image_path}. Please ensure the file exists.\")\n",
        "    original_image = None"
      ],
      "metadata": {
        "id": "qXe0hbYOKkSB"
      },
      "execution_count": null,
      "outputs": []
    },
    {
      "cell_type": "code",
      "source": [
        "if original_image is not None:\n",
        "    r, g, b = original_image.split()\n",
        "    width, height = original_image.size\n",
        "    black_band = Image.new('L', (width, height), 0)\n",
        "    red_channel_img = Image.merge('RGB', (r, black_band, black_band))\n",
        "    green_channel_img = Image.merge('RGB', (black_band, g, black_band))\n",
        "    blue_channel_img = Image.merge('RGB', (black_band, black_band, b))\n",
        "    plt.figure(figsize=(15, 5))\n",
        "    plt.subplot(1, 3, 1)\n",
        "    plt.imshow(red_channel_img)\n",
        "    plt.title('Red Channel')\n",
        "    plt.axis('off')\n",
        "    plt.subplot(1, 3, 2)\n",
        "    plt.imshow(green_channel_img)\n",
        "    plt.title('Green Channel')\n",
        "    plt.axis('off')\n",
        "    plt.subplot(1, 3, 3)\n",
        "    plt.imshow(blue_channel_img)\n",
        "    plt.title('Blue Channel')\n",
        "    plt.axis('off')\n",
        "    plt.show()\n",
        "else:\n",
        "    print(\"Image not loaded, cannot visualize channels.\")"
      ],
      "metadata": {
        "id": "6r_G-C68MzMx"
      },
      "execution_count": null,
      "outputs": []
    },
    {
      "cell_type": "code",
      "source": [
        "if original_image is not None:\n",
        "    gray_image = original_image.convert('L') # 'L' mode for grayscale\n",
        "    plt.figure(figsize=(8, 6))\n",
        "    plt.imshow(gray_image, cmap='gray') # Use 'gray' colormap for grayscale images\n",
        "    plt.title('Grayscale Image')\n",
        "    plt.axis('off')\n",
        "    plt.show()\n",
        "else:\n",
        "    print(\"Image not loaded, cannot convert to grayscale.\")"
      ],
      "metadata": {
        "id": "WfyoV6d9NX6C"
      },
      "execution_count": null,
      "outputs": []
    },
    {
      "cell_type": "code",
      "source": [
        "if original_image is not None:\n",
        "    smoothed_image = original_image.filter(ImageFilter.GaussianBlur(radius=2))\n",
        "    plt.figure(figsize=(8, 6))\n",
        "    plt.imshow(smoothed_image)\n",
        "    plt.title('Smoothed Image (Gaussian Blur)')\n",
        "    plt.axis('off')\n",
        "    plt.show()\n",
        "else:\n",
        "    print(\"Image not loaded, cannot smooth.\")"
      ],
      "metadata": {
        "id": "ZxpQY__6NkLz"
      },
      "execution_count": null,
      "outputs": []
    },
    {
      "cell_type": "code",
      "source": [
        "if original_image is not None:\n",
        "    sharpened_image_pil = original_image.filter(ImageFilter.SHARPEN)\n",
        "    plt.figure(figsize=(12, 6))\n",
        "    plt.subplot(1, 2, 1)\n",
        "    plt.imshow(original_image)\n",
        "    plt.title('Original Image')\n",
        "    plt.axis('off')\n",
        "    plt.subplot(1, 2, 2)\n",
        "    plt.imshow(sharpened_image_pil)\n",
        "    plt.title('Sharpened Image (PIL Sharpen Filter)')\n",
        "    plt.axis('off')\n",
        "    plt.show()\n",
        "    gray_image_for_laplacian = original_image.convert('L')\n",
        "    laplacian_kernel = [\n",
        "      0,  1, 0,\n",
        "      1, -4, 1,\n",
        "      0,  1, 0\n",
        "    ]\n",
        "    laplacian_output = gray_image_for_laplacian.filter(ImageFilter.Kernel((3, 3), laplacian_kernel, 1, 0))\n",
        "else:\n",
        "    print(\"Image not loaded, cannot sharpen.\")"
      ],
      "metadata": {
        "id": "Nxt4N6AoN3Y3"
      },
      "execution_count": null,
      "outputs": []
    },
    {
      "cell_type": "code",
      "source": [
        "if original_image is not None:\n",
        "    jpeg_qualities = [10, 50, 90] # Low, Medium, High quality\n",
        "    plt.figure(figsize=(15, 5))\n",
        "    for i, quality in enumerate(jpeg_qualities):\n",
        "        img_byte_arr = io.BytesIO()\n",
        "        original_image.save(img_byte_arr, format='JPEG', quality=quality)\n",
        "        img_byte_arr.seek(0)\n",
        "        compressed_image = Image.open(img_byte_arr)\n",
        "        plt.subplot(1, len(jpeg_qualities), i + 1)\n",
        "        plt.imshow(compressed_image)\n",
        "        plt.title(f'JPEG Quality: {quality}')\n",
        "        plt.axis('off')\n",
        "        output_filename = f'output_image_q{quality}_pil.jpg'\n",
        "        original_image.save(output_filename, format='JPEG', quality=quality)\n",
        "        print(f\"Saved {output_filename} with quality {quality}\")\n",
        "    plt.show()\n",
        "else:\n",
        "    print(\"Image not loaded, cannot compress.\")"
      ],
      "metadata": {
        "id": "ieduRlEHOzm5"
      },
      "execution_count": null,
      "outputs": []
    },
    {
      "cell_type": "code",
      "source": [
        "if 'gray_image' in locals() and gray_image is not None:\n",
        "    gray_image.save('grayscale_output_pil.png')\n",
        "    files.download('grayscale_output_pil.png')\n",
        "    print(\"Downloaded grayscale_output_pil.png\")\n",
        "\n",
        "if 'sharpened_image_pil' in locals() and sharpened_image_pil is not None:\n",
        "    sharpened_image_pil.save('sharpened_output_pil.png')\n",
        "    files.download('sharpened_output_pil.png')\n",
        "    print(\"Downloaded sharpened_output_pil.png\")\n",
        "\n",
        "files.download('output_image_q10_pil.jpg')\n",
        "files.download('output_image_q50_pil.jpg')\n",
        "files.download('output_image_q90_pil.jpg')"
      ],
      "metadata": {
        "id": "N7URdSSkPi5O"
      },
      "execution_count": null,
      "outputs": []
    }
  ]
}